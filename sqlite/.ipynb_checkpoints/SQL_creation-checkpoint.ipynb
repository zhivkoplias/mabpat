{
 "cells": [
  {
   "cell_type": "code",
   "execution_count": 64,
   "metadata": {},
   "outputs": [],
   "source": [
    "import pandas as pd\n",
    "import sqlite3\n",
    "import numpy as np"
   ]
  },
  {
   "cell_type": "code",
   "execution_count": 65,
   "metadata": {},
   "outputs": [],
   "source": [
    "df1 = pd.read_csv('final_tables/01-applicants-table.csv')\n",
    "df2 = pd.read_csv('final_tables/02-applications-table.csv')\n",
    "df3 = pd.read_csv('final_tables/03-marine-species-table.csv')\n",
    "df5 = pd.read_csv('final_tables/05-sequences-table.csv')\n",
    "df4 = pd.read_csv('final_tables/04-patents-sequences-table.csv')\n",
    "df6 = pd.read_csv('final_tables/06-annotated-marine-proteins-table.csv')\n",
    "df7 = pd.read_csv('final_tables/07-non-marine-sequences-table.csv')"
   ]
  },
  {
   "cell_type": "code",
   "execution_count": 66,
   "metadata": {},
   "outputs": [],
   "source": [
    "#1 - Applicants\n",
    "df1.columns = ['Applicant_name', 'Applicant_type', 'Applicant_country']"
   ]
  },
  {
   "cell_type": "code",
   "execution_count": 67,
   "metadata": {},
   "outputs": [],
   "source": [
    "df1 = df1.drop_duplicates('Applicant_name')"
   ]
  },
  {
   "cell_type": "code",
   "execution_count": 68,
   "metadata": {},
   "outputs": [],
   "source": [
    "#2 - Applications\n",
    "df2.columns = ['Patent_application_number', 'Applicant_name', 'Year_of_application',\n",
    "       'Patent_system']"
   ]
  },
  {
   "cell_type": "code",
   "execution_count": 71,
   "metadata": {},
   "outputs": [],
   "source": [
    "df3.columns = ['Species_name', 'Domain', 'Phylum', 'Taxonomic_source', 'Is_Deep_sea',\n",
    "       'Deep_sea_source', 'Is_marine_sequence']"
   ]
  },
  {
   "cell_type": "code",
   "execution_count": 73,
   "metadata": {},
   "outputs": [],
   "source": [
    "#5 - Applications_Sequences\n",
    "df4['ID'] = np.arange(len(df4))"
   ]
  },
  {
   "cell_type": "code",
   "execution_count": 74,
   "metadata": {},
   "outputs": [],
   "source": [
    "df4.columns = ['Patent_application_number', 'Sequence_accession_number', 'ID']"
   ]
  },
  {
   "cell_type": "code",
   "execution_count": 75,
   "metadata": {},
   "outputs": [],
   "source": [
    "df5.columns = ['Sequence_accession_number', 'Species_name', 'GC_content', 'Sequence_length',\n",
    "       'Is_marine_sequence', 'Sequence_status', 'Is_protein_coding_sequence',\n",
    "       'Is_annotated']"
   ]
  },
  {
   "cell_type": "code",
   "execution_count": 77,
   "metadata": {},
   "outputs": [],
   "source": [
    "#7 - Marine_Sequences_Protein_Annotations\n",
    "df6.columns = ['Sequence_accession_number', 'f_header', 'sseqid', 'stitle', 'pident', 'evalue',\n",
    "       'qcovs', 'annotation_source']"
   ]
  },
  {
   "cell_type": "code",
   "execution_count": 78,
   "metadata": {},
   "outputs": [],
   "source": [
    "df7.columns = ['Sequence_accession_number', 'Species_name']"
   ]
  },
  {
   "cell_type": "code",
   "execution_count": 79,
   "metadata": {},
   "outputs": [],
   "source": [
    "df7['Is_marine_species'] = 0"
   ]
  },
  {
   "cell_type": "markdown",
   "metadata": {},
   "source": [
    "### Merge sequences tables"
   ]
  },
  {
   "cell_type": "code",
   "execution_count": 80,
   "metadata": {},
   "outputs": [],
   "source": [
    "df_sequences = pd.concat([df5, df7])"
   ]
  },
  {
   "cell_type": "code",
   "execution_count": 81,
   "metadata": {},
   "outputs": [],
   "source": [
    "df_sequences['Is_marine_species'] = df_sequences['Is_marine_species'].fillna(1)"
   ]
  },
  {
   "cell_type": "code",
   "execution_count": 82,
   "metadata": {},
   "outputs": [
    {
     "data": {
      "text/plain": [
       "Index(['Sequence_accession_number', 'Species_name', 'GC_content',\n",
       "       'Sequence_length', 'Is_marine_sequence', 'Sequence_status',\n",
       "       'Is_protein_coding_sequence', 'Is_annotated', 'Is_marine_species'],\n",
       "      dtype='object')"
      ]
     },
     "execution_count": 82,
     "metadata": {},
     "output_type": "execute_result"
    }
   ],
   "source": [
    "df_sequences.columns"
   ]
  },
  {
   "cell_type": "code",
   "execution_count": 83,
   "metadata": {},
   "outputs": [],
   "source": [
    "#6 - Marine_Sequences\n",
    "df_marine_sequences_information = df_sequences[df_sequences.Is_marine_sequence==1]"
   ]
  },
  {
   "cell_type": "code",
   "execution_count": 84,
   "metadata": {},
   "outputs": [],
   "source": [
    "del df_marine_sequences_information['Is_marine_species']\n",
    "#del df_marine_sequences_information['Is_marine_sequence']"
   ]
  },
  {
   "cell_type": "code",
   "execution_count": 85,
   "metadata": {},
   "outputs": [
    {
     "data": {
      "text/html": [
       "<div>\n",
       "<style scoped>\n",
       "    .dataframe tbody tr th:only-of-type {\n",
       "        vertical-align: middle;\n",
       "    }\n",
       "\n",
       "    .dataframe tbody tr th {\n",
       "        vertical-align: top;\n",
       "    }\n",
       "\n",
       "    .dataframe thead th {\n",
       "        text-align: right;\n",
       "    }\n",
       "</style>\n",
       "<table border=\"1\" class=\"dataframe\">\n",
       "  <thead>\n",
       "    <tr style=\"text-align: right;\">\n",
       "      <th></th>\n",
       "      <th>Sequence_accession_number</th>\n",
       "      <th>Species_name</th>\n",
       "      <th>GC_content</th>\n",
       "      <th>Sequence_length</th>\n",
       "      <th>Is_marine_sequence</th>\n",
       "      <th>Sequence_status</th>\n",
       "      <th>Is_protein_coding_sequence</th>\n",
       "      <th>Is_annotated</th>\n",
       "    </tr>\n",
       "  </thead>\n",
       "  <tbody>\n",
       "    <tr>\n",
       "      <th>0</th>\n",
       "      <td>A01472</td>\n",
       "      <td>Physeter macrocephalus</td>\n",
       "      <td>51.826484</td>\n",
       "      <td>438.0</td>\n",
       "      <td>1.0</td>\n",
       "      <td>predicted</td>\n",
       "      <td>True</td>\n",
       "      <td>1.0</td>\n",
       "    </tr>\n",
       "    <tr>\n",
       "      <th>1</th>\n",
       "      <td>A01473</td>\n",
       "      <td>Physeter macrocephalus</td>\n",
       "      <td>50.967742</td>\n",
       "      <td>465.0</td>\n",
       "      <td>1.0</td>\n",
       "      <td>predicted</td>\n",
       "      <td>True</td>\n",
       "      <td>1.0</td>\n",
       "    </tr>\n",
       "    <tr>\n",
       "      <th>2</th>\n",
       "      <td>A01474</td>\n",
       "      <td>Trichechus manatus latirostris</td>\n",
       "      <td>55.483871</td>\n",
       "      <td>465.0</td>\n",
       "      <td>1.0</td>\n",
       "      <td>predicted</td>\n",
       "      <td>True</td>\n",
       "      <td>1.0</td>\n",
       "    </tr>\n",
       "    <tr>\n",
       "      <th>3</th>\n",
       "      <td>A04570</td>\n",
       "      <td>Odobenus rosmarus divergens</td>\n",
       "      <td>53.809524</td>\n",
       "      <td>210.0</td>\n",
       "      <td>1.0</td>\n",
       "      <td>predicted</td>\n",
       "      <td>True</td>\n",
       "      <td>1.0</td>\n",
       "    </tr>\n",
       "    <tr>\n",
       "      <th>4</th>\n",
       "      <td>A04571</td>\n",
       "      <td>Odobenus rosmarus divergens</td>\n",
       "      <td>53.809524</td>\n",
       "      <td>210.0</td>\n",
       "      <td>1.0</td>\n",
       "      <td>predicted</td>\n",
       "      <td>True</td>\n",
       "      <td>1.0</td>\n",
       "    </tr>\n",
       "    <tr>\n",
       "      <th>...</th>\n",
       "      <td>...</td>\n",
       "      <td>...</td>\n",
       "      <td>...</td>\n",
       "      <td>...</td>\n",
       "      <td>...</td>\n",
       "      <td>...</td>\n",
       "      <td>...</td>\n",
       "      <td>...</td>\n",
       "    </tr>\n",
       "    <tr>\n",
       "      <th>104462</th>\n",
       "      <td>PA548965</td>\n",
       "      <td>Rhodothermus marinus</td>\n",
       "      <td>62.593783</td>\n",
       "      <td>1866.0</td>\n",
       "      <td>1.0</td>\n",
       "      <td>observed</td>\n",
       "      <td>True</td>\n",
       "      <td>0.0</td>\n",
       "    </tr>\n",
       "    <tr>\n",
       "      <th>104463</th>\n",
       "      <td>PA548966</td>\n",
       "      <td>Rhodothermus marinus</td>\n",
       "      <td>62.593783</td>\n",
       "      <td>1866.0</td>\n",
       "      <td>1.0</td>\n",
       "      <td>observed</td>\n",
       "      <td>False</td>\n",
       "      <td>0.0</td>\n",
       "    </tr>\n",
       "    <tr>\n",
       "      <th>104464</th>\n",
       "      <td>PA548992</td>\n",
       "      <td>Pyrococcus furiosus</td>\n",
       "      <td>47.637457</td>\n",
       "      <td>2328.0</td>\n",
       "      <td>1.0</td>\n",
       "      <td>observed</td>\n",
       "      <td>True</td>\n",
       "      <td>1.0</td>\n",
       "    </tr>\n",
       "    <tr>\n",
       "      <th>104465</th>\n",
       "      <td>PA550739</td>\n",
       "      <td>Anabaena cylindrica pcc 7122</td>\n",
       "      <td>45.147059</td>\n",
       "      <td>1360.0</td>\n",
       "      <td>1.0</td>\n",
       "      <td>observed</td>\n",
       "      <td>True</td>\n",
       "      <td>0.0</td>\n",
       "    </tr>\n",
       "    <tr>\n",
       "      <th>104466</th>\n",
       "      <td>PA550742</td>\n",
       "      <td>Anabaena cylindrica pcc 7122</td>\n",
       "      <td>38.271605</td>\n",
       "      <td>1053.0</td>\n",
       "      <td>1.0</td>\n",
       "      <td>observed</td>\n",
       "      <td>False</td>\n",
       "      <td>0.0</td>\n",
       "    </tr>\n",
       "  </tbody>\n",
       "</table>\n",
       "<p>104467 rows × 8 columns</p>\n",
       "</div>"
      ],
      "text/plain": [
       "       Sequence_accession_number                    Species_name  GC_content  \\\n",
       "0                         A01472          Physeter macrocephalus   51.826484   \n",
       "1                         A01473          Physeter macrocephalus   50.967742   \n",
       "2                         A01474  Trichechus manatus latirostris   55.483871   \n",
       "3                         A04570     Odobenus rosmarus divergens   53.809524   \n",
       "4                         A04571     Odobenus rosmarus divergens   53.809524   \n",
       "...                          ...                             ...         ...   \n",
       "104462                  PA548965            Rhodothermus marinus   62.593783   \n",
       "104463                  PA548966            Rhodothermus marinus   62.593783   \n",
       "104464                  PA548992             Pyrococcus furiosus   47.637457   \n",
       "104465                  PA550739    Anabaena cylindrica pcc 7122   45.147059   \n",
       "104466                  PA550742    Anabaena cylindrica pcc 7122   38.271605   \n",
       "\n",
       "        Sequence_length  Is_marine_sequence Sequence_status  \\\n",
       "0                 438.0                 1.0       predicted   \n",
       "1                 465.0                 1.0       predicted   \n",
       "2                 465.0                 1.0       predicted   \n",
       "3                 210.0                 1.0       predicted   \n",
       "4                 210.0                 1.0       predicted   \n",
       "...                 ...                 ...             ...   \n",
       "104462           1866.0                 1.0        observed   \n",
       "104463           1866.0                 1.0        observed   \n",
       "104464           2328.0                 1.0        observed   \n",
       "104465           1360.0                 1.0        observed   \n",
       "104466           1053.0                 1.0        observed   \n",
       "\n",
       "       Is_protein_coding_sequence  Is_annotated  \n",
       "0                            True           1.0  \n",
       "1                            True           1.0  \n",
       "2                            True           1.0  \n",
       "3                            True           1.0  \n",
       "4                            True           1.0  \n",
       "...                           ...           ...  \n",
       "104462                       True           0.0  \n",
       "104463                      False           0.0  \n",
       "104464                       True           1.0  \n",
       "104465                       True           0.0  \n",
       "104466                      False           0.0  \n",
       "\n",
       "[104467 rows x 8 columns]"
      ]
     },
     "execution_count": 85,
     "metadata": {},
     "output_type": "execute_result"
    }
   ],
   "source": [
    "df_marine_sequences_information"
   ]
  },
  {
   "cell_type": "code",
   "execution_count": 86,
   "metadata": {},
   "outputs": [],
   "source": [
    "#4 - Sequences\n",
    "df_sequences_all = df_sequences[['Sequence_accession_number', 'Species_name', 'Is_marine_species']]"
   ]
  },
  {
   "cell_type": "code",
   "execution_count": 87,
   "metadata": {},
   "outputs": [],
   "source": [
    "df_sequences_all = df_sequences_all.drop_duplicates('Sequence_accession_number')"
   ]
  },
  {
   "cell_type": "code",
   "execution_count": 89,
   "metadata": {},
   "outputs": [],
   "source": [
    "def create_tables():\n",
    "    cursor = conn.cursor()\n",
    "\n",
    "    # Enable foreign key constraint\n",
    "    cursor.execute(\"PRAGMA foreign_keys = ON;\")\n",
    "\n",
    "    # Correct table creation for Applicants\n",
    "    cursor.execute('''\n",
    "    CREATE TABLE IF NOT EXISTS Applicants (\n",
    "        Applicant_name TEXT PRIMARY KEY,\n",
    "        Applicant_type TEXT,\n",
    "        Applicant_country TEXT\n",
    "    )\n",
    "    ''')\n",
    "\n",
    "    # Correct table creation for Applications\n",
    "    cursor.execute('''\n",
    "    CREATE TABLE IF NOT EXISTS Applications (\n",
    "        Patent_application_number TEXT PRIMARY KEY,\n",
    "        Applicant_name TEXT,\n",
    "        Year_of_application TEXT,\n",
    "        Patent_system TEXT,\n",
    "        FOREIGN KEY (Applicant_name) REFERENCES Applicants (Applicant_name)\n",
    "    )\n",
    "    ''')\n",
    "\n",
    "    # Correct table creation for Marine Species\n",
    "    cursor.execute('''\n",
    "    CREATE TABLE IF NOT EXISTS Marine_Species (\n",
    "        Species_name TEXT PRIMARY KEY,\n",
    "        Domain TEXT,\n",
    "        Phylum TEXT,\n",
    "        Taxonomic_source TEXT,\n",
    "        Is_deep_sea INTEGER,\n",
    "        Deep_sea_source TEXT\n",
    "    )\n",
    "    ''')\n",
    "    \n",
    "    # Correct table creation for Sequences\n",
    "    cursor.execute('''\n",
    "    CREATE TABLE IF NOT EXISTS Sequences (\n",
    "        Sequence_accession_number TEXT PRIMARY KEY,\n",
    "        Species_name TEXT,\n",
    "        Is_marine_species INTEGER\n",
    "    )\n",
    "    ''')\n",
    "\n",
    "\n",
    "    # Correct table creation for Applications_Sequences\n",
    "    # This table needs its own primary key, and the foreign keys should be defined after the column definitions.\n",
    "    cursor.execute('''\n",
    "    CREATE TABLE IF NOT EXISTS Applications_Sequences (\n",
    "        Patent_application_number TEXT,\n",
    "        Sequence_accession_number TEXT,\n",
    "        ID INTEGER PRIMARY KEY,\n",
    "        FOREIGN KEY (Patent_application_number) REFERENCES Applications (Patent_application_number),\n",
    "        FOREIGN KEY (Sequence_accession_number) REFERENCES Sequences (Sequence_accession_number)\n",
    "    )\n",
    "    ''')\n",
    "    \n",
    "    # Correct table creation for Marine Sequences\n",
    "    cursor.execute('''\n",
    "    CREATE TABLE IF NOT EXISTS Marine_Sequences (\n",
    "        Sequence_accession_number TEXT PRIMARY KEY,\n",
    "        Species_name TEXT,\n",
    "        GC_content TEXT,\n",
    "        Sequence_length TEXT,\n",
    "        Sequence_status TEXT,\n",
    "        Is_protein_coding_sequence INTEGER,\n",
    "        Is_annotated INTEGER,\n",
    "        FOREIGN KEY (Species_name) REFERENCES Marine_Species (Species_name),\n",
    "        FOREIGN KEY (Sequence_accession_number) REFERENCES Sequences (Sequence_accession_number)\n",
    "    )\n",
    "    ''')\n",
    "\n",
    "    # Correct table creation for Annotations\n",
    "    # This table also needs at least one column defined before foreign keys, possibly a primary key.\n",
    "    cursor.execute('''\n",
    "    CREATE TABLE IF NOT EXISTS Marine_Sequences_Protein_Annotations (\n",
    "        Sequence_accession_number TEXT PRIMARY KEY,\n",
    "        f_header TEXT,\n",
    "        sseqid TEXT,\n",
    "        stitle TEXT,\n",
    "        pident TEXT,\n",
    "        evalue TEXT,\n",
    "        qcovs TEXT,\n",
    "        annotation_source TEXT,\n",
    "        FOREIGN KEY (Sequence_accession_number) REFERENCES Marine_Sequences (Sequence_accession_number)\n",
    "    )\n",
    "    ''')\n",
    "\n",
    "    conn.commit()"
   ]
  },
  {
   "cell_type": "code",
   "execution_count": 93,
   "metadata": {},
   "outputs": [],
   "source": [
    "del df3['Is_marine_sequence']"
   ]
  },
  {
   "cell_type": "code",
   "execution_count": 97,
   "metadata": {},
   "outputs": [],
   "source": [
    "del df_marine_sequences_information['Is_marine_sequence']"
   ]
  },
  {
   "cell_type": "code",
   "execution_count": 99,
   "metadata": {},
   "outputs": [],
   "source": [
    "# Create a SQLite database\n",
    "conn = sqlite3.connect('mabpat.db')\n",
    "\n",
    "# Create the tables\n",
    "create_tables()\n",
    "\n",
    "# Export DataFrames to SQLite database\n",
    "df1.to_sql('Applicants', conn, if_exists='append', index=False)\n",
    "df2.to_sql('Applications', conn, if_exists='append', index=False)\n",
    "df3.to_sql('Marine_Species', conn, if_exists='append', index=False)\n",
    "\n",
    "df_sequences_all.to_sql('Sequences', conn, if_exists='append', index=False)\n",
    "df4.to_sql('Applications_Sequences', conn, if_exists='append', index=False)\n",
    "df_marine_sequences_information.to_sql('Marine_Sequences', conn, if_exists='append', index=False)\n",
    "df6.to_sql('Marine_Sequences_Protein_Annotations', conn, if_exists='append', index=False)\n",
    "\n",
    "#df6.to_sql('Annotations', conn, if_exists='append', index=False)\n",
    "\n",
    "# Close the connection\n",
    "conn.close()"
   ]
  },
  {
   "cell_type": "code",
   "execution_count": 100,
   "metadata": {},
   "outputs": [],
   "source": [
    "conn.close()"
   ]
  }
 ],
 "metadata": {
  "kernelspec": {
   "display_name": "mgr_shiny",
   "language": "python",
   "name": "mgr_shiny"
  },
  "language_info": {
   "codemirror_mode": {
    "name": "ipython",
    "version": 3
   },
   "file_extension": ".py",
   "mimetype": "text/x-python",
   "name": "python",
   "nbconvert_exporter": "python",
   "pygments_lexer": "ipython3",
   "version": "3.11.6"
  }
 },
 "nbformat": 4,
 "nbformat_minor": 2
}
