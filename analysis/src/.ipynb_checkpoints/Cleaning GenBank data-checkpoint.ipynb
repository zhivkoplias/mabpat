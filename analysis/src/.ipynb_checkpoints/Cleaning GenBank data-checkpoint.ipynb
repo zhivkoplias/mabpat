{
 "cells": [
  {
   "cell_type": "code",
   "execution_count": 1,
   "metadata": {},
   "outputs": [],
   "source": [
    "%matplotlib inline"
   ]
  },
  {
   "cell_type": "code",
   "execution_count": 2,
   "metadata": {},
   "outputs": [],
   "source": [
    "# -*- coding: utf-8 -*-"
   ]
  },
  {
   "cell_type": "markdown",
   "metadata": {},
   "source": [
    "## Purpose of notebook \n",
    "\n",
    "Here we clean the data that was downloaded from the genbank ftp-server at ftp.ncbi.nih.gov in the \n",
    "GenePatents_CreateDb_V3-notebook, and select out the worldwide marine patents. \n",
    "\n",
    "## Tech notes\n",
    "This notebook uses standard packages from the Anaconda-distribution. It has been adjusted for Python 3 from the original notebook written for Python 2.7. This version is called V3. "
   ]
  },
  {
   "cell_type": "markdown",
   "metadata": {},
   "source": [
    "# Import libs"
   ]
  },
  {
   "cell_type": "code",
   "execution_count": 2,
   "metadata": {},
   "outputs": [],
   "source": [
    "import re, sqlite3, gzip\n",
    "from sqlalchemy import create_engine\n",
    "import pickle\n",
    "\n",
    "import numpy as np\n",
    "\n",
    "from pandas import Series, DataFrame\n",
    "import pandas as pd\n",
    "\n",
    "from pprint import pprint\n",
    "from timeit import default_timer as timer"
   ]
  },
  {
   "cell_type": "markdown",
   "metadata": {},
   "source": [
    "# File paths"
   ]
  },
  {
   "cell_type": "code",
   "execution_count": 4,
   "metadata": {},
   "outputs": [],
   "source": [
    "data_folder = '/home/erikz/data/mgr/data/'\n",
    "\n",
    "DB ='/home/erikz/data/patents_db/genepat_Db_V3.sqlite'\n",
    "DB ='/home/erikz/data/patents_db/genepat_Db_V4.sqlite'\n",
    "original_file_path = '/home/erikz/data/agnes_pkl_files/agnes_ori_db.pkl'\n",
    "filtered_file_path = '/home/erikz/data/agnes_pkl_files/agnes_filtered_db.pkl'\n",
    "\n",
    "filtered_unknown_file_path = '/home/erikz/data/agnes_pkl_files/filtered_unknown.pkl'\n",
    "filtered_wa_unknown_file_path = '/home/erikz/data/agnes_pkl_files/filtered_without_unknown.pkl'\n",
    "filtered_wa_unknown_and_marine_file_path = '/home/erikz/data/agnes_pkl_files/filtered_without_unknown_and_marine.pkl'\n",
    "filtered_marine_file_path = '/home/erikz/data/mgr/data/filtered_marine_species.pkl'"
   ]
  },
  {
   "cell_type": "code",
   "execution_count": 5,
   "metadata": {},
   "outputs": [
    {
     "name": "stdout",
     "output_type": "stream",
     "text": [
      "The total runtime is 3302.3417029730044  seconds.\n"
     ]
    }
   ],
   "source": [
    "start1 = timer()\n",
    "engine = create_engine('sqlite:///%s' % DB)\n",
    "\n",
    "df = pd.read_sql_query(\"SELECT * FROM patents;\", engine)\n",
    "end1 = timer()\n",
    "print('The total runtime is',(end1-start1),' seconds.')"
   ]
  },
  {
   "cell_type": "code",
   "execution_count": 6,
   "metadata": {},
   "outputs": [
    {
     "data": {
      "text/html": [
       "<div>\n",
       "<style scoped>\n",
       "    .dataframe tbody tr th:only-of-type {\n",
       "        vertical-align: middle;\n",
       "    }\n",
       "\n",
       "    .dataframe tbody tr th {\n",
       "        vertical-align: top;\n",
       "    }\n",
       "\n",
       "    .dataframe thead th {\n",
       "        text-align: right;\n",
       "    }\n",
       "</style>\n",
       "<table border=\"1\" class=\"dataframe\">\n",
       "  <thead>\n",
       "    <tr style=\"text-align: right;\">\n",
       "      <th></th>\n",
       "      <th>id</th>\n",
       "      <th>locus</th>\n",
       "      <th>organism</th>\n",
       "      <th>definition</th>\n",
       "      <th>journal</th>\n",
       "      <th>filename</th>\n",
       "      <th>origin</th>\n",
       "    </tr>\n",
       "  </thead>\n",
       "  <tbody>\n",
       "    <tr>\n",
       "      <th>0</th>\n",
       "      <td>1</td>\n",
       "      <td>LOCUS       A00001                   335 bp   ...</td>\n",
       "      <td>ORGANISM  Cauliflower mosaic virus</td>\n",
       "      <td>DEFINITION  Cauliflower mosaic virus satellite...</td>\n",
       "      <td>JOURNAL   Patent: EP 0242016-A1 1 21-OCT-1987;...</td>\n",
       "      <td>gbpat1.seq.gz</td>\n",
       "      <td>gttttgtttgatggagaattgcgcagaggggttatatctgcgtgag...</td>\n",
       "    </tr>\n",
       "    <tr>\n",
       "      <th>1</th>\n",
       "      <td>2</td>\n",
       "      <td>LOCUS       A00002                   194 bp   ...</td>\n",
       "      <td>ORGANISM  Bos taurus</td>\n",
       "      <td>DEFINITION  B.taurus DNA sequence 1 from paten...</td>\n",
       "      <td>JOURNAL   Patent: EP 0238993-A2 1 30-SEP-1987;...</td>\n",
       "      <td>gbpat1.seq.gz</td>\n",
       "      <td>aattcatgcgtccggacttctgcctcgagccgccgtacactgggcc...</td>\n",
       "    </tr>\n",
       "    <tr>\n",
       "      <th>2</th>\n",
       "      <td>3</td>\n",
       "      <td>LOCUS       A00003                   194 bp   ...</td>\n",
       "      <td>ORGANISM  Bos taurus</td>\n",
       "      <td>DEFINITION  B.taurus DNA sequence 2 from paten...</td>\n",
       "      <td>JOURNAL   Patent: EP 0238993-A2 2 30-SEP-1987;...</td>\n",
       "      <td>gbpat1.seq.gz</td>\n",
       "      <td>caagctttactaaggaccaccgcaagtacgttcgcagtcttccgcg...</td>\n",
       "    </tr>\n",
       "    <tr>\n",
       "      <th>3</th>\n",
       "      <td>4</td>\n",
       "      <td>LOCUS       A00004                    30 bp   ...</td>\n",
       "      <td>ORGANISM  synthetic construct</td>\n",
       "      <td>DEFINITION  Artificial oligonucleotide sequenc...</td>\n",
       "      <td>JOURNAL   Patent: EP 0238993-A2 3 30-SEP-1987;...</td>\n",
       "      <td>gbpat1.seq.gz</td>\n",
       "      <td>aattcatgcgtccggacttctgcctcgagc</td>\n",
       "    </tr>\n",
       "    <tr>\n",
       "      <th>4</th>\n",
       "      <td>5</td>\n",
       "      <td>LOCUS       A00005                    18 bp   ...</td>\n",
       "      <td>ORGANISM  synthetic construct</td>\n",
       "      <td>DEFINITION  Artificial oligonucleotide sequenc...</td>\n",
       "      <td>JOURNAL   Patent: EP 0238993-A2 4 30-SEP-1987;...</td>\n",
       "      <td>gbpat1.seq.gz</td>\n",
       "      <td>cagaagtccggacgcatg</td>\n",
       "    </tr>\n",
       "  </tbody>\n",
       "</table>\n",
       "</div>"
      ],
      "text/plain": [
       "   id                                              locus  \\\n",
       "0   1  LOCUS       A00001                   335 bp   ...   \n",
       "1   2  LOCUS       A00002                   194 bp   ...   \n",
       "2   3  LOCUS       A00003                   194 bp   ...   \n",
       "3   4  LOCUS       A00004                    30 bp   ...   \n",
       "4   5  LOCUS       A00005                    18 bp   ...   \n",
       "\n",
       "                             organism  \\\n",
       "0  ORGANISM  Cauliflower mosaic virus   \n",
       "1                ORGANISM  Bos taurus   \n",
       "2                ORGANISM  Bos taurus   \n",
       "3       ORGANISM  synthetic construct   \n",
       "4       ORGANISM  synthetic construct   \n",
       "\n",
       "                                          definition  \\\n",
       "0  DEFINITION  Cauliflower mosaic virus satellite...   \n",
       "1  DEFINITION  B.taurus DNA sequence 1 from paten...   \n",
       "2  DEFINITION  B.taurus DNA sequence 2 from paten...   \n",
       "3  DEFINITION  Artificial oligonucleotide sequenc...   \n",
       "4  DEFINITION  Artificial oligonucleotide sequenc...   \n",
       "\n",
       "                                             journal       filename  \\\n",
       "0  JOURNAL   Patent: EP 0242016-A1 1 21-OCT-1987;...  gbpat1.seq.gz   \n",
       "1  JOURNAL   Patent: EP 0238993-A2 1 30-SEP-1987;...  gbpat1.seq.gz   \n",
       "2  JOURNAL   Patent: EP 0238993-A2 2 30-SEP-1987;...  gbpat1.seq.gz   \n",
       "3  JOURNAL   Patent: EP 0238993-A2 3 30-SEP-1987;...  gbpat1.seq.gz   \n",
       "4  JOURNAL   Patent: EP 0238993-A2 4 30-SEP-1987;...  gbpat1.seq.gz   \n",
       "\n",
       "                                              origin  \n",
       "0  gttttgtttgatggagaattgcgcagaggggttatatctgcgtgag...  \n",
       "1  aattcatgcgtccggacttctgcctcgagccgccgtacactgggcc...  \n",
       "2  caagctttactaaggaccaccgcaagtacgttcgcagtcttccgcg...  \n",
       "3                     aattcatgcgtccggacttctgcctcgagc  \n",
       "4                                 cagaagtccggacgcatg  "
      ]
     },
     "execution_count": 6,
     "metadata": {},
     "output_type": "execute_result"
    }
   ],
   "source": [
    "df.head()"
   ]
  },
  {
   "cell_type": "code",
   "execution_count": 7,
   "metadata": {},
   "outputs": [
    {
     "data": {
      "text/plain": [
       "(55331424, 7)"
      ]
     },
     "execution_count": 7,
     "metadata": {},
     "output_type": "execute_result"
    }
   ],
   "source": [
    "# 54,820,912 sequences in total (increased from 54,098,444 in Oct 2021)\n",
    "df.shape # OK! "
   ]
  },
  {
   "cell_type": "markdown",
   "metadata": {},
   "source": [
    "# Full Db section\n",
    "Using the full db, we do some initial cleaning \n",
    "and get out the year and patent-string."
   ]
  },
  {
   "cell_type": "code",
   "execution_count": 8,
   "metadata": {},
   "outputs": [
    {
     "data": {
      "text/plain": [
       "ORGANISM  Unknown.                     17541418\n",
       "ORGANISM  Homo sapiens                 16038032\n",
       "ORGANISM  synthetic construct          15740909\n",
       "ORGANISM  unidentified                  1531073\n",
       "ORGANISM  Saccharomyces pastorianus      977914\n",
       "                                         ...   \n",
       "ORGANISM  Moschus berezovskii                 1\n",
       "ORGANISM  Moschus moschiferus                 1\n",
       "ORGANISM  Tragulus javanicus                  1\n",
       "ORGANISM  Tragopan temminckii                 1\n",
       "ORGANISM  Vibrio plasmid p0908                1\n",
       "Name: organism, Length: 14710, dtype: int64"
      ]
     },
     "execution_count": 8,
     "metadata": {},
     "output_type": "execute_result"
    }
   ],
   "source": [
    "# Nr of patents per organism, 14,629 organisms in total\n",
    "df.organism.value_counts()"
   ]
  },
  {
   "cell_type": "code",
   "execution_count": 9,
   "metadata": {},
   "outputs": [
    {
     "data": {
      "text/plain": [
       "22     18481033\n",
       "18     17884985\n",
       "29     15828367\n",
       "35      1005668\n",
       "30       253812\n",
       "         ...   \n",
       "102           8\n",
       "70            5\n",
       "103           4\n",
       "76            2\n",
       "79            1\n",
       "Name: organism, Length: 73, dtype: int64"
      ]
     },
     "execution_count": 9,
     "metadata": {},
     "output_type": "execute_result"
    }
   ],
   "source": [
    "# Nr of patents per organism count, hence length 14,629 becomes 73 here\n",
    "df.organism.apply(lambda x: len(x)).value_counts() # to check they´ve sensible lengths"
   ]
  },
  {
   "cell_type": "code",
   "execution_count": 10,
   "metadata": {},
   "outputs": [
    {
     "data": {
      "text/plain": [
       "(0, 7)"
      ]
     },
     "execution_count": 10,
     "metadata": {},
     "output_type": "execute_result"
    }
   ],
   "source": [
    "# In case we have blanks in organism, replace them with nans \n",
    "df['organism'].replace('', np.nan, inplace=True) \n",
    "\n",
    "# They all have organism name if 0 length\n",
    "df[df.organism.isnull()].shape  "
   ]
  },
  {
   "cell_type": "code",
   "execution_count": 11,
   "metadata": {},
   "outputs": [
    {
     "data": {
      "text/plain": [
       "ORGANISM  Unknown.               10096\n",
       "ORGANISM  synthetic construct     3108\n",
       "ORGANISM  Homo sapiens              67\n",
       "ORGANISM  unidentified              22\n",
       "Name: organism, dtype: int64"
      ]
     },
     "execution_count": 11,
     "metadata": {},
     "output_type": "execute_result"
    }
   ],
   "source": [
    "# In case we have blanks in journal, replace them with nans \n",
    "df['journal'].replace('', np.nan, inplace=True) \n",
    "\n",
    "# These have no journal-info - length around 13,293 \n",
    "df[df.journal.isnull()].organism.value_counts() "
   ]
  },
  {
   "cell_type": "code",
   "execution_count": 12,
   "metadata": {},
   "outputs": [
    {
     "data": {
      "text/plain": [
       "0.00024024322959770563"
      ]
     },
     "execution_count": 12,
     "metadata": {},
     "output_type": "execute_result"
    }
   ],
   "source": [
    "# 0.024% are missing journal info (decreased from 0.025% in Oct 2021) \n",
    "(df[df.journal.isnull()].shape[0]*1.0 / df.shape[0])"
   ]
  },
  {
   "cell_type": "code",
   "execution_count": 13,
   "metadata": {},
   "outputs": [
    {
     "data": {
      "text/plain": [
       "(55331424, 7)"
      ]
     },
     "execution_count": 13,
     "metadata": {},
     "output_type": "execute_result"
    }
   ],
   "source": [
    "# Check shape of full db again\n",
    "df.shape"
   ]
  },
  {
   "cell_type": "code",
   "execution_count": 14,
   "metadata": {},
   "outputs": [],
   "source": [
    "# We are also interested in identified patents (not only WO), \n",
    "# so we drop those that have no journal info (and these are not marine anyway, see above, so it doesnt matter for us)\n",
    "df.dropna(subset=['journal'], inplace=True) "
   ]
  },
  {
   "cell_type": "code",
   "execution_count": 15,
   "metadata": {},
   "outputs": [
    {
     "data": {
      "text/plain": [
       "(55318131, 7)"
      ]
     },
     "execution_count": 15,
     "metadata": {},
     "output_type": "execute_result"
    }
   ],
   "source": [
    "# Check shape after missing journal info is dropped -(54,820,912-54,807,619=)13,293 sequences are dropeed (3 more than Oct 2021)\n",
    "df.shape"
   ]
  },
  {
   "cell_type": "code",
   "execution_count": 16,
   "metadata": {},
   "outputs": [],
   "source": [
    "# Change organism names into lowercase and strip them of white spaces\n",
    "df['organism'] = df.organism.apply(lambda x: x.lower().strip())"
   ]
  },
  {
   "cell_type": "code",
   "execution_count": 17,
   "metadata": {},
   "outputs": [
    {
     "data": {
      "text/html": [
       "<div>\n",
       "<style scoped>\n",
       "    .dataframe tbody tr th:only-of-type {\n",
       "        vertical-align: middle;\n",
       "    }\n",
       "\n",
       "    .dataframe tbody tr th {\n",
       "        vertical-align: top;\n",
       "    }\n",
       "\n",
       "    .dataframe thead th {\n",
       "        text-align: right;\n",
       "    }\n",
       "</style>\n",
       "<table border=\"1\" class=\"dataframe\">\n",
       "  <thead>\n",
       "    <tr style=\"text-align: right;\">\n",
       "      <th></th>\n",
       "      <th>id</th>\n",
       "      <th>locus</th>\n",
       "      <th>organism</th>\n",
       "      <th>definition</th>\n",
       "      <th>journal</th>\n",
       "      <th>filename</th>\n",
       "      <th>origin</th>\n",
       "    </tr>\n",
       "  </thead>\n",
       "  <tbody>\n",
       "    <tr>\n",
       "      <th>0</th>\n",
       "      <td>1</td>\n",
       "      <td>LOCUS       A00001                   335 bp   ...</td>\n",
       "      <td>organism  cauliflower mosaic virus</td>\n",
       "      <td>DEFINITION  Cauliflower mosaic virus satellite...</td>\n",
       "      <td>JOURNAL   Patent: EP 0242016-A1 1 21-OCT-1987;...</td>\n",
       "      <td>gbpat1.seq.gz</td>\n",
       "      <td>gttttgtttgatggagaattgcgcagaggggttatatctgcgtgag...</td>\n",
       "    </tr>\n",
       "    <tr>\n",
       "      <th>1</th>\n",
       "      <td>2</td>\n",
       "      <td>LOCUS       A00002                   194 bp   ...</td>\n",
       "      <td>organism  bos taurus</td>\n",
       "      <td>DEFINITION  B.taurus DNA sequence 1 from paten...</td>\n",
       "      <td>JOURNAL   Patent: EP 0238993-A2 1 30-SEP-1987;...</td>\n",
       "      <td>gbpat1.seq.gz</td>\n",
       "      <td>aattcatgcgtccggacttctgcctcgagccgccgtacactgggcc...</td>\n",
       "    </tr>\n",
       "    <tr>\n",
       "      <th>2</th>\n",
       "      <td>3</td>\n",
       "      <td>LOCUS       A00003                   194 bp   ...</td>\n",
       "      <td>organism  bos taurus</td>\n",
       "      <td>DEFINITION  B.taurus DNA sequence 2 from paten...</td>\n",
       "      <td>JOURNAL   Patent: EP 0238993-A2 2 30-SEP-1987;...</td>\n",
       "      <td>gbpat1.seq.gz</td>\n",
       "      <td>caagctttactaaggaccaccgcaagtacgttcgcagtcttccgcg...</td>\n",
       "    </tr>\n",
       "    <tr>\n",
       "      <th>3</th>\n",
       "      <td>4</td>\n",
       "      <td>LOCUS       A00004                    30 bp   ...</td>\n",
       "      <td>organism  synthetic construct</td>\n",
       "      <td>DEFINITION  Artificial oligonucleotide sequenc...</td>\n",
       "      <td>JOURNAL   Patent: EP 0238993-A2 3 30-SEP-1987;...</td>\n",
       "      <td>gbpat1.seq.gz</td>\n",
       "      <td>aattcatgcgtccggacttctgcctcgagc</td>\n",
       "    </tr>\n",
       "    <tr>\n",
       "      <th>4</th>\n",
       "      <td>5</td>\n",
       "      <td>LOCUS       A00005                    18 bp   ...</td>\n",
       "      <td>organism  synthetic construct</td>\n",
       "      <td>DEFINITION  Artificial oligonucleotide sequenc...</td>\n",
       "      <td>JOURNAL   Patent: EP 0238993-A2 4 30-SEP-1987;...</td>\n",
       "      <td>gbpat1.seq.gz</td>\n",
       "      <td>cagaagtccggacgcatg</td>\n",
       "    </tr>\n",
       "  </tbody>\n",
       "</table>\n",
       "</div>"
      ],
      "text/plain": [
       "   id                                              locus  \\\n",
       "0   1  LOCUS       A00001                   335 bp   ...   \n",
       "1   2  LOCUS       A00002                   194 bp   ...   \n",
       "2   3  LOCUS       A00003                   194 bp   ...   \n",
       "3   4  LOCUS       A00004                    30 bp   ...   \n",
       "4   5  LOCUS       A00005                    18 bp   ...   \n",
       "\n",
       "                             organism  \\\n",
       "0  organism  cauliflower mosaic virus   \n",
       "1                organism  bos taurus   \n",
       "2                organism  bos taurus   \n",
       "3       organism  synthetic construct   \n",
       "4       organism  synthetic construct   \n",
       "\n",
       "                                          definition  \\\n",
       "0  DEFINITION  Cauliflower mosaic virus satellite...   \n",
       "1  DEFINITION  B.taurus DNA sequence 1 from paten...   \n",
       "2  DEFINITION  B.taurus DNA sequence 2 from paten...   \n",
       "3  DEFINITION  Artificial oligonucleotide sequenc...   \n",
       "4  DEFINITION  Artificial oligonucleotide sequenc...   \n",
       "\n",
       "                                             journal       filename  \\\n",
       "0  JOURNAL   Patent: EP 0242016-A1 1 21-OCT-1987;...  gbpat1.seq.gz   \n",
       "1  JOURNAL   Patent: EP 0238993-A2 1 30-SEP-1987;...  gbpat1.seq.gz   \n",
       "2  JOURNAL   Patent: EP 0238993-A2 2 30-SEP-1987;...  gbpat1.seq.gz   \n",
       "3  JOURNAL   Patent: EP 0238993-A2 3 30-SEP-1987;...  gbpat1.seq.gz   \n",
       "4  JOURNAL   Patent: EP 0238993-A2 4 30-SEP-1987;...  gbpat1.seq.gz   \n",
       "\n",
       "                                              origin  \n",
       "0  gttttgtttgatggagaattgcgcagaggggttatatctgcgtgag...  \n",
       "1  aattcatgcgtccggacttctgcctcgagccgccgtacactgggcc...  \n",
       "2  caagctttactaaggaccaccgcaagtacgttcgcagtcttccgcg...  \n",
       "3                     aattcatgcgtccggacttctgcctcgagc  \n",
       "4                                 cagaagtccggacgcatg  "
      ]
     },
     "execution_count": 17,
     "metadata": {},
     "output_type": "execute_result"
    }
   ],
   "source": [
    "df.head()"
   ]
  },
  {
   "cell_type": "code",
   "execution_count": 18,
   "metadata": {},
   "outputs": [
    {
     "data": {
      "text/plain": [
       "13      2307\n",
       "14        67\n",
       "15       512\n",
       "16      3677\n",
       "17     13869\n",
       "       ...  \n",
       "97        18\n",
       "98        10\n",
       "102        8\n",
       "103        4\n",
       "104       11\n",
       "Name: organism, Length: 73, dtype: int64"
      ]
     },
     "execution_count": 18,
     "metadata": {},
     "output_type": "execute_result"
    }
   ],
   "source": [
    "# Nr of patents per organism count, sorted (length 73 is consistent with run above)\n",
    "df.organism.apply(lambda x: len(x)).value_counts().sort_index()"
   ]
  },
  {
   "cell_type": "code",
   "execution_count": 19,
   "metadata": {},
   "outputs": [
    {
     "data": {
      "text/plain": [
       "14708"
      ]
     },
     "execution_count": 19,
     "metadata": {},
     "output_type": "execute_result"
    }
   ],
   "source": [
    "# Nr of unique organisms\n",
    "df.organism.value_counts().count() \n",
    "# len(df.organism.value_counts())\n",
    "\n",
    "# For the full db (not just WO-only):\n",
    "# 14,627 unique organisms as compared to 14,355 in Oct 2021 and 12,801 in the original article (272 and 1,826 more respectively)"
   ]
  },
  {
   "cell_type": "code",
   "execution_count": 20,
   "metadata": {},
   "outputs": [],
   "source": [
    "# Extract year info (from journal string)\n",
    "# They all have a year, and it´s always before the first semicolon.\n",
    "def get_year(x):\n",
    "    try: \n",
    "        if x.index(';'):\n",
    "            return x[x.index(';')-4 : x.index(';')]\n",
    "    except Exception as e:\n",
    "        print(x, e)\n",
    "        return None\n",
    "\n",
    "df['year'] = None\n",
    "df['year'] = df.journal.apply(lambda x: get_year(x))"
   ]
  },
  {
   "cell_type": "code",
   "execution_count": 21,
   "metadata": {},
   "outputs": [
    {
     "data": {
      "text/html": [
       "<div>\n",
       "<style scoped>\n",
       "    .dataframe tbody tr th:only-of-type {\n",
       "        vertical-align: middle;\n",
       "    }\n",
       "\n",
       "    .dataframe tbody tr th {\n",
       "        vertical-align: top;\n",
       "    }\n",
       "\n",
       "    .dataframe thead th {\n",
       "        text-align: right;\n",
       "    }\n",
       "</style>\n",
       "<table border=\"1\" class=\"dataframe\">\n",
       "  <thead>\n",
       "    <tr style=\"text-align: right;\">\n",
       "      <th></th>\n",
       "      <th>id</th>\n",
       "      <th>locus</th>\n",
       "      <th>organism</th>\n",
       "      <th>definition</th>\n",
       "      <th>journal</th>\n",
       "      <th>filename</th>\n",
       "      <th>origin</th>\n",
       "      <th>year</th>\n",
       "    </tr>\n",
       "  </thead>\n",
       "  <tbody>\n",
       "  </tbody>\n",
       "</table>\n",
       "</div>"
      ],
      "text/plain": [
       "Empty DataFrame\n",
       "Columns: [id, locus, organism, definition, journal, filename, origin, year]\n",
       "Index: []"
      ]
     },
     "execution_count": 21,
     "metadata": {},
     "output_type": "execute_result"
    }
   ],
   "source": [
    "# Patents without year info\n",
    "df[df.year.isnull()] # They all have year"
   ]
  },
  {
   "cell_type": "code",
   "execution_count": 22,
   "metadata": {},
   "outputs": [
    {
     "data": {
      "text/plain": [
       "1979          6\n",
       "1980         13\n",
       "1981        130\n",
       "1982        288\n",
       "1983        377\n",
       "1984        757\n",
       "1985       1522\n",
       "1986       2226\n",
       "1987       2091\n",
       "1988       3296\n",
       "1989       4462\n",
       "1990       4367\n",
       "1991       4267\n",
       "1992       5060\n",
       "1993       8329\n",
       "1994       9413\n",
       "1995      12174\n",
       "1996      23806\n",
       "1997      45391\n",
       "1998      77116\n",
       "1999      73780\n",
       "2000     133487\n",
       "2001     822508\n",
       "2002     748221\n",
       "2003     548625\n",
       "2004    1289756\n",
       "2005    3491899\n",
       "2006    2771339\n",
       "2007    2426654\n",
       "2008    3341962\n",
       "2009    3163915\n",
       "2010    3769000\n",
       "2011    2023924\n",
       "2012    1466600\n",
       "2013    2212401\n",
       "2014    1909727\n",
       "2015    5394533\n",
       "2016    3559620\n",
       "2017    2310947\n",
       "2018    2344058\n",
       "2019    4148323\n",
       "2020    2273532\n",
       "2021    4835122\n",
       "2022      53107\n",
       "Name: year, dtype: int64"
      ]
     },
     "execution_count": 22,
     "metadata": {},
     "output_type": "execute_result"
    }
   ],
   "source": [
    "# Check that the years are reasonable \n",
    "df.year.value_counts().sort_index()"
   ]
  },
  {
   "cell_type": "code",
   "execution_count": 23,
   "metadata": {},
   "outputs": [],
   "source": [
    "# Grab patent from journal string  \n",
    "# They all have one and only one Patent string \n",
    "def get_patent(jstr):\n",
    "    import re\n",
    "    \n",
    "    pats = re.findall('Patent: {1,20} ', jstr)\n",
    "    if not pats or len(pats) > 1:\n",
    "        #print(pats)\n",
    "        return None\n",
    "    else:\n",
    "        return pats[0]\n",
    "    \n",
    "df['patent'] = None\n",
    "df['patent'] = df.journal.apply(lambda x: get_patent(x))"
   ]
  },
  {
   "cell_type": "code",
   "execution_count": 24,
   "metadata": {},
   "outputs": [
    {
     "data": {
      "text/plain": [
       "0           EP0242016A1\n",
       "1           EP0238993A2\n",
       "2           EP0238993A2\n",
       "3           EP0238993A2\n",
       "4           EP0238993A2\n",
       "               ...     \n",
       "55331419    US8722325B2\n",
       "55331420    US8722325B2\n",
       "55331421    US8722326B2\n",
       "55331422    US8722326B2\n",
       "55331423    US8722326B2\n",
       "Name: patent, Length: 55318131, dtype: object"
      ]
     },
     "execution_count": 24,
     "metadata": {},
     "output_type": "execute_result"
    }
   ],
   "source": [
    "df.patent"
   ]
  },
  {
   "cell_type": "code",
   "execution_count": 25,
   "metadata": {},
   "outputs": [],
   "source": [
    "# Strip patent names of white spaces\n",
    "#df['patent'] = df.patent.apply(lambda x: x.strip())"
   ]
  },
  {
   "cell_type": "code",
   "execution_count": 26,
   "metadata": {
    "scrolled": true
   },
   "outputs": [],
   "source": [
    "# Check that they all have patent-info, and that the data is sensible\n",
    "#df.\n",
    "# df[df.patent.isnull()]"
   ]
  },
  {
   "cell_type": "code",
   "execution_count": 27,
   "metadata": {},
   "outputs": [
    {
     "name": "stdout",
     "output_type": "stream",
     "text": [
      "55318131\n",
      "55318131\n"
     ]
    }
   ],
   "source": [
    "print(df.patent.value_counts().sum())\n",
    "print(df.year.value_counts().sum())"
   ]
  },
  {
   "cell_type": "markdown",
   "metadata": {},
   "source": [
    "In this analysis, we´re interested in all patents (not only WO)"
   ]
  },
  {
   "cell_type": "code",
   "execution_count": 28,
   "metadata": {},
   "outputs": [
    {
     "data": {
      "text/plain": [
       "14708"
      ]
     },
     "execution_count": 28,
     "metadata": {},
     "output_type": "execute_result"
    }
   ],
   "source": [
    "# First check the number of unique organisms - should be 14,627\n",
    "df.organism.value_counts().count()"
   ]
  },
  {
   "cell_type": "code",
   "execution_count": 29,
   "metadata": {},
   "outputs": [
    {
     "data": {
      "text/plain": [
       "(55318131, 9)"
      ]
     },
     "execution_count": 29,
     "metadata": {},
     "output_type": "execute_result"
    }
   ],
   "source": [
    "df.shape #54,807,619"
   ]
  },
  {
   "cell_type": "code",
   "execution_count": 30,
   "metadata": {},
   "outputs": [
    {
     "data": {
      "text/plain": [
       "0    JOURNAL   Patent: EP 0242016-A1 1 21-OCT-1987;...\n",
       "1    JOURNAL   Patent: EP 0238993-A2 1 30-SEP-1987;...\n",
       "2    JOURNAL   Patent: EP 0238993-A2 2 30-SEP-1987;...\n",
       "3    JOURNAL   Patent: EP 0238993-A2 3 30-SEP-1987;...\n",
       "4    JOURNAL   Patent: EP 0238993-A2 4 30-SEP-1987;...\n",
       "Name: journal, dtype: object"
      ]
     },
     "execution_count": 30,
     "metadata": {},
     "output_type": "execute_result"
    }
   ],
   "source": [
    "df.journal.head()"
   ]
  },
  {
   "cell_type": "code",
   "execution_count": 31,
   "metadata": {},
   "outputs": [],
   "source": [
    "# Extract company info from the journal-string\n",
    "def get_company(journal):\n",
    "    \n",
    "    # Sometimes there is a COMMENT section between JOURNAL & FEATURES... \n",
    "    # if so, journal should be cut before it\n",
    "    if 'COMMENT' in journal:\n",
    "        journal = journal[:journal.index('COMMENT')]\n",
    "    \n",
    "    journal_lines = journal.splitlines()\n",
    "    \n",
    "    # The first line is the Patent + Date string\n",
    "    # If there is company info, this is on the following lines\n",
    "    if len(journal_lines) > 1: \n",
    "        # aggregate together all company lines into one string \n",
    "        company = ' '.join([line.strip() for line in journal_lines[1:]]) \n",
    "    else: \n",
    "        company = None # No company info \n",
    "    return company \n",
    "\n",
    "df['company'] = None\n",
    "df['company'] = df.journal.apply(lambda x: get_company(x))"
   ]
  },
  {
   "cell_type": "code",
   "execution_count": 32,
   "metadata": {},
   "outputs": [
    {
     "data": {
      "text/html": [
       "<div>\n",
       "<style scoped>\n",
       "    .dataframe tbody tr th:only-of-type {\n",
       "        vertical-align: middle;\n",
       "    }\n",
       "\n",
       "    .dataframe tbody tr th {\n",
       "        vertical-align: top;\n",
       "    }\n",
       "\n",
       "    .dataframe thead th {\n",
       "        text-align: right;\n",
       "    }\n",
       "</style>\n",
       "<table border=\"1\" class=\"dataframe\">\n",
       "  <thead>\n",
       "    <tr style=\"text-align: right;\">\n",
       "      <th></th>\n",
       "      <th>id</th>\n",
       "      <th>locus</th>\n",
       "      <th>organism</th>\n",
       "      <th>definition</th>\n",
       "      <th>journal</th>\n",
       "      <th>filename</th>\n",
       "      <th>origin</th>\n",
       "      <th>year</th>\n",
       "      <th>patent</th>\n",
       "      <th>company</th>\n",
       "    </tr>\n",
       "  </thead>\n",
       "  <tbody>\n",
       "    <tr>\n",
       "      <th>0</th>\n",
       "      <td>1</td>\n",
       "      <td>LOCUS       A00001                   335 bp   ...</td>\n",
       "      <td>organism  cauliflower mosaic virus</td>\n",
       "      <td>DEFINITION  Cauliflower mosaic virus satellite...</td>\n",
       "      <td>JOURNAL   Patent: EP 0242016-A1 1 21-OCT-1987;...</td>\n",
       "      <td>gbpat1.seq.gz</td>\n",
       "      <td>gttttgtttgatggagaattgcgcagaggggttatatctgcgtgag...</td>\n",
       "      <td>1987</td>\n",
       "      <td>EP0242016A1</td>\n",
       "      <td>AGRICULTURAL GENETICS COMPANY LIMITED</td>\n",
       "    </tr>\n",
       "    <tr>\n",
       "      <th>1</th>\n",
       "      <td>2</td>\n",
       "      <td>LOCUS       A00002                   194 bp   ...</td>\n",
       "      <td>organism  bos taurus</td>\n",
       "      <td>DEFINITION  B.taurus DNA sequence 1 from paten...</td>\n",
       "      <td>JOURNAL   Patent: EP 0238993-A2 1 30-SEP-1987;...</td>\n",
       "      <td>gbpat1.seq.gz</td>\n",
       "      <td>aattcatgcgtccggacttctgcctcgagccgccgtacactgggcc...</td>\n",
       "      <td>1987</td>\n",
       "      <td>EP0238993A2</td>\n",
       "      <td>BAYER AG</td>\n",
       "    </tr>\n",
       "    <tr>\n",
       "      <th>2</th>\n",
       "      <td>3</td>\n",
       "      <td>LOCUS       A00003                   194 bp   ...</td>\n",
       "      <td>organism  bos taurus</td>\n",
       "      <td>DEFINITION  B.taurus DNA sequence 2 from paten...</td>\n",
       "      <td>JOURNAL   Patent: EP 0238993-A2 2 30-SEP-1987;...</td>\n",
       "      <td>gbpat1.seq.gz</td>\n",
       "      <td>caagctttactaaggaccaccgcaagtacgttcgcagtcttccgcg...</td>\n",
       "      <td>1987</td>\n",
       "      <td>EP0238993A2</td>\n",
       "      <td>BAYER AG</td>\n",
       "    </tr>\n",
       "    <tr>\n",
       "      <th>3</th>\n",
       "      <td>4</td>\n",
       "      <td>LOCUS       A00004                    30 bp   ...</td>\n",
       "      <td>organism  synthetic construct</td>\n",
       "      <td>DEFINITION  Artificial oligonucleotide sequenc...</td>\n",
       "      <td>JOURNAL   Patent: EP 0238993-A2 3 30-SEP-1987;...</td>\n",
       "      <td>gbpat1.seq.gz</td>\n",
       "      <td>aattcatgcgtccggacttctgcctcgagc</td>\n",
       "      <td>1987</td>\n",
       "      <td>EP0238993A2</td>\n",
       "      <td>BAYER AG</td>\n",
       "    </tr>\n",
       "    <tr>\n",
       "      <th>4</th>\n",
       "      <td>5</td>\n",
       "      <td>LOCUS       A00005                    18 bp   ...</td>\n",
       "      <td>organism  synthetic construct</td>\n",
       "      <td>DEFINITION  Artificial oligonucleotide sequenc...</td>\n",
       "      <td>JOURNAL   Patent: EP 0238993-A2 4 30-SEP-1987;...</td>\n",
       "      <td>gbpat1.seq.gz</td>\n",
       "      <td>cagaagtccggacgcatg</td>\n",
       "      <td>1987</td>\n",
       "      <td>EP0238993A2</td>\n",
       "      <td>BAYER AG</td>\n",
       "    </tr>\n",
       "  </tbody>\n",
       "</table>\n",
       "</div>"
      ],
      "text/plain": [
       "   id                                              locus  \\\n",
       "0   1  LOCUS       A00001                   335 bp   ...   \n",
       "1   2  LOCUS       A00002                   194 bp   ...   \n",
       "2   3  LOCUS       A00003                   194 bp   ...   \n",
       "3   4  LOCUS       A00004                    30 bp   ...   \n",
       "4   5  LOCUS       A00005                    18 bp   ...   \n",
       "\n",
       "                             organism  \\\n",
       "0  organism  cauliflower mosaic virus   \n",
       "1                organism  bos taurus   \n",
       "2                organism  bos taurus   \n",
       "3       organism  synthetic construct   \n",
       "4       organism  synthetic construct   \n",
       "\n",
       "                                          definition  \\\n",
       "0  DEFINITION  Cauliflower mosaic virus satellite...   \n",
       "1  DEFINITION  B.taurus DNA sequence 1 from paten...   \n",
       "2  DEFINITION  B.taurus DNA sequence 2 from paten...   \n",
       "3  DEFINITION  Artificial oligonucleotide sequenc...   \n",
       "4  DEFINITION  Artificial oligonucleotide sequenc...   \n",
       "\n",
       "                                             journal       filename  \\\n",
       "0  JOURNAL   Patent: EP 0242016-A1 1 21-OCT-1987;...  gbpat1.seq.gz   \n",
       "1  JOURNAL   Patent: EP 0238993-A2 1 30-SEP-1987;...  gbpat1.seq.gz   \n",
       "2  JOURNAL   Patent: EP 0238993-A2 2 30-SEP-1987;...  gbpat1.seq.gz   \n",
       "3  JOURNAL   Patent: EP 0238993-A2 3 30-SEP-1987;...  gbpat1.seq.gz   \n",
       "4  JOURNAL   Patent: EP 0238993-A2 4 30-SEP-1987;...  gbpat1.seq.gz   \n",
       "\n",
       "                                              origin  year       patent  \\\n",
       "0  gttttgtttgatggagaattgcgcagaggggttatatctgcgtgag...  1987  EP0242016A1   \n",
       "1  aattcatgcgtccggacttctgcctcgagccgccgtacactgggcc...  1987  EP0238993A2   \n",
       "2  caagctttactaaggaccaccgcaagtacgttcgcagtcttccgcg...  1987  EP0238993A2   \n",
       "3                     aattcatgcgtccggacttctgcctcgagc  1987  EP0238993A2   \n",
       "4                                 cagaagtccggacgcatg  1987  EP0238993A2   \n",
       "\n",
       "                                 company  \n",
       "0  AGRICULTURAL GENETICS COMPANY LIMITED  \n",
       "1                               BAYER AG  \n",
       "2                               BAYER AG  \n",
       "3                               BAYER AG  \n",
       "4                               BAYER AG  "
      ]
     },
     "execution_count": 32,
     "metadata": {},
     "output_type": "execute_result"
    }
   ],
   "source": [
    "df.head()"
   ]
  },
  {
   "cell_type": "code",
   "execution_count": 33,
   "metadata": {},
   "outputs": [
    {
     "data": {
      "text/plain": [
       "0    gttttgtttgatggagaattgcgcagaggggttatatctgcgtgag...\n",
       "1    aattcatgcgtccggacttctgcctcgagccgccgtacactgggcc...\n",
       "2    caagctttactaaggaccaccgcaagtacgttcgcagtcttccgcg...\n",
       "3                       aattcatgcgtccggacttctgcctcgagc\n",
       "4                                   cagaagtccggacgcatg\n",
       "Name: origin, dtype: object"
      ]
     },
     "execution_count": 33,
     "metadata": {},
     "output_type": "execute_result"
    }
   ],
   "source": [
    "df['origin'].head()"
   ]
  },
  {
   "cell_type": "code",
   "execution_count": 34,
   "metadata": {},
   "outputs": [
    {
     "data": {
      "text/plain": [
       "(937388, 10)"
      ]
     },
     "execution_count": 34,
     "metadata": {},
     "output_type": "execute_result"
    }
   ],
   "source": [
    "# Patents without company info\n",
    "df[df.company.isnull()].shape # 925,971 missing company info (increased from 925,010 in Oct 2021) "
   ]
  },
  {
   "cell_type": "code",
   "execution_count": 35,
   "metadata": {},
   "outputs": [
    {
     "data": {
      "text/plain": [
       "0.016945402584190705"
      ]
     },
     "execution_count": 35,
     "metadata": {},
     "output_type": "execute_result"
    }
   ],
   "source": [
    "# 1.7% are missing company info (same with that in Oct 2021)\n",
    "(df[df.company.isnull()].shape[0]*1.0/df.shape[0])"
   ]
  },
  {
   "cell_type": "code",
   "execution_count": 36,
   "metadata": {},
   "outputs": [
    {
     "data": {
      "text/plain": [
       "organism  unknown.                       758381\n",
       "organism  unidentified                   116713\n",
       "organism  homo sapiens                    31804\n",
       "organism  corynebacterium glutamicum       8128\n",
       "organism  synthetic construct              7816\n",
       "                                          ...  \n",
       "organism  rasamsonia emersonii                1\n",
       "organism  colletotrichum sp.                  1\n",
       "organism  mycolicibacterium wolinskyi         1\n",
       "organism  artemisia annua                     1\n",
       "organism  cladorrhinum foecundissimum         1\n",
       "Name: organism, Length: 1095, dtype: int64"
      ]
     },
     "execution_count": 36,
     "metadata": {},
     "output_type": "execute_result"
    }
   ],
   "source": [
    "# The ones we didn´t get a company name for, the common species don´t seem to be marine - length is 1,095\n",
    "df[df.company.isnull()].organism.value_counts()"
   ]
  },
  {
   "cell_type": "code",
   "execution_count": 37,
   "metadata": {},
   "outputs": [
    {
     "data": {
      "text/plain": [
       "<AxesSubplot:>"
      ]
     },
     "execution_count": 37,
     "metadata": {},
     "output_type": "execute_result"
    },
    {
     "data": {
      "image/png": "[encoded data removed]",
      "text/plain": [
       "<Figure size 432x288 with 1 Axes>"
      ]
     },
     "metadata": {
      "needs_background": "light"
     },
     "output_type": "display_data"
    }
   ],
   "source": [
    "# Total patents by year - plotted\n",
    "df.year.value_counts().sort_index().plot(kind='bar')"
   ]
  },
  {
   "cell_type": "code",
   "execution_count": 38,
   "metadata": {
    "scrolled": true
   },
   "outputs": [
    {
     "data": {
      "text/plain": [
       "13      2307\n",
       "14        67\n",
       "15       512\n",
       "16      3677\n",
       "17     13869\n",
       "       ...  \n",
       "97        18\n",
       "98        10\n",
       "102        8\n",
       "103        4\n",
       "104       11\n",
       "Name: organism, Length: 73, dtype: int64"
      ]
     },
     "execution_count": 38,
     "metadata": {},
     "output_type": "execute_result"
    }
   ],
   "source": [
    "# Organism count based on index (iloc), sorted\n",
    "df.iloc[:].organism.apply(lambda x: len(x)).value_counts().sort_index()"
   ]
  },
  {
   "cell_type": "code",
   "execution_count": 39,
   "metadata": {},
   "outputs": [
    {
     "data": {
      "text/plain": [
       "55318131"
      ]
     },
     "execution_count": 39,
     "metadata": {},
     "output_type": "execute_result"
    }
   ],
   "source": [
    "len(df) #54,807,619"
   ]
  },
  {
   "cell_type": "code",
   "execution_count": 40,
   "metadata": {},
   "outputs": [
    {
     "data": {
      "text/plain": [
       "organism  unknown.                     17531322\n",
       "organism  homo sapiens                 16037965\n",
       "organism  synthetic construct          15737801\n",
       "organism  unidentified                  1531051\n",
       "organism  saccharomyces pastorianus      977914\n",
       "                                         ...   \n",
       "organism  moschus berezovskii                 1\n",
       "organism  moschus moschiferus                 1\n",
       "organism  tragulus javanicus                  1\n",
       "organism  tragopan temminckii                 1\n",
       "organism  dama dama                           1\n",
       "Name: organism, Length: 14708, dtype: int64"
      ]
     },
     "execution_count": 40,
     "metadata": {},
     "output_type": "execute_result"
    }
   ],
   "source": [
    "# A list with all unique species (n=14,627) \n",
    "df.organism.value_counts()"
   ]
  },
  {
   "cell_type": "code",
   "execution_count": 41,
   "metadata": {},
   "outputs": [
    {
     "data": {
      "text/plain": [
       "True     55316872\n",
       "False        1259\n",
       "Name: organism, dtype: int64"
      ]
     },
     "execution_count": 41,
     "metadata": {},
     "output_type": "execute_result"
    }
   ],
   "source": [
    "# All organism names in df starts with 'organism', but with some variations\n",
    "df.organism.apply(lambda x: x.startswith('organism ')).value_counts() #54,806,384\n",
    "# not all organisms start with 'organism ' with one space at the end - only 54,806,384"
   ]
  },
  {
   "cell_type": "code",
   "execution_count": 42,
   "metadata": {},
   "outputs": [
    {
     "data": {
      "text/plain": [
       "False    55318044\n",
       "True           87\n",
       "Name: organism, dtype: int64"
      ]
     },
     "execution_count": 42,
     "metadata": {},
     "output_type": "execute_result"
    }
   ],
   "source": [
    "# 1,235 starts with 'organism,' or 'organisms', checked here: \n",
    "df.organism.apply(lambda x: x.startswith('organism,')).value_counts() #63 with ','"
   ]
  },
  {
   "cell_type": "code",
   "execution_count": 43,
   "metadata": {
    "scrolled": true
   },
   "outputs": [
    {
     "data": {
      "text/plain": [
       "False    55316959\n",
       "True         1172\n",
       "Name: organism, dtype: int64"
      ]
     },
     "execution_count": 43,
     "metadata": {},
     "output_type": "execute_result"
    }
   ],
   "source": [
    "df.organism.apply(lambda x: x.startswith('organisms')).value_counts() #1172 with 's'"
   ]
  },
  {
   "cell_type": "code",
   "execution_count": 47,
   "metadata": {},
   "outputs": [
    {
     "data": {
      "text/plain": [
       "0           gttttgtttgatggagaattgcgcagaggggttatatctgcgtgag...\n",
       "1           aattcatgcgtccggacttctgcctcgagccgccgtacactgggcc...\n",
       "2           caagctttactaaggaccaccgcaagtacgttcgcagtcttccgcg...\n",
       "3                              aattcatgcgtccggacttctgcctcgagc\n",
       "4                                          cagaagtccggacgcatg\n",
       "                                  ...                        \n",
       "55331130    gacatccagatgacccagtctccatccaccctgtctgcatctgtag...\n",
       "55331131    gaagtgcagctggtgcagtctggagctgaggtgaagaagcctgggg...\n",
       "55331132    gacacccagatgacccagtctccatccttcctgtctgcatctgtag...\n",
       "55331133    gaggtgcagctggtggagtccgggggagtcgtggtacagcctgggg...\n",
       "55331134    ccgacatccagatgacccagtctccatcctccctgtctgcatctgt...\n",
       "Name: origin, Length: 24600503, dtype: object"
      ]
     },
     "execution_count": 47,
     "metadata": {},
     "output_type": "execute_result"
    }
   ],
   "source": [
    "df.origin.drop_duplicates()"
   ]
  },
  {
   "cell_type": "code",
   "execution_count": 45,
   "metadata": {},
   "outputs": [],
   "source": [
    "original_file_path = '/home/erikz/data/agnes_pkl_files/erik_ori_db_cp.pkl'"
   ]
  },
  {
   "cell_type": "code",
   "execution_count": 46,
   "metadata": {},
   "outputs": [],
   "source": [
    "with open(original_file_path, 'wb') as f:\n",
    "    pickle.dump(df, f)"
   ]
  },
  {
   "cell_type": "markdown",
   "metadata": {},
   "source": [
    "# Read Agnes database (Erik)"
   ]
  },
  {
   "cell_type": "code",
   "execution_count": 7,
   "metadata": {},
   "outputs": [],
   "source": [
    "from auxilary_functions import *"
   ]
  },
  {
   "cell_type": "code",
   "execution_count": 8,
   "metadata": {},
   "outputs": [],
   "source": [
    "df2 = pd.read_pickle(original_file_path)"
   ]
  },
  {
   "cell_type": "code",
   "execution_count": 10,
   "metadata": {},
   "outputs": [],
   "source": [
    "df2['organism'] = df2.organism.apply(lambda x: x[9:].strip())"
   ]
  },
  {
   "cell_type": "code",
   "execution_count": 13,
   "metadata": {},
   "outputs": [],
   "source": [
    "from phonetisch import soundex"
   ]
  },
  {
   "cell_type": "code",
   "execution_count": 11,
   "metadata": {},
   "outputs": [
    {
     "data": {
      "text/plain": [
       "unknown.                                   17284277\n",
       "homo sapiens                               15878779\n",
       "synthetic construct                        15650123\n",
       "unidentified                                1529842\n",
       "saccharomyces pastorianus                    977914\n",
       "                                             ...   \n",
       "sulfuricurvum sp. pc08-66                         1\n",
       "bacteroidetes oral taxon 274 str. f0058           1\n",
       "lachnospiraceae bacterium md335                   1\n",
       "proteocatella sphenisci                           1\n",
       "lipomyces kononenkoae                             1\n",
       "Name: organism, Length: 14627, dtype: int64"
      ]
     },
     "execution_count": 11,
     "metadata": {},
     "output_type": "execute_result"
    }
   ],
   "source": [
    "df2.organism.value_counts()"
   ]
  },
  {
   "cell_type": "code",
   "execution_count": 14,
   "metadata": {},
   "outputs": [],
   "source": [
    "df2['encode'] = df2.organism.apply(lambda x: soundex.encode_word(x))"
   ]
  },
  {
   "cell_type": "code",
   "execution_count": 15,
   "metadata": {},
   "outputs": [],
   "source": [
    "# Load file with marine species (1,488 organisms), received from Robert Blasiak on 7 Jan 2022 + additional 12 on 11 Mar 2022\n",
    "marine_species_file = data_folder+'Marine_species_V3.xlsx'\n",
    "mdf = pd.read_excel(marine_species_file)\n",
    "\n",
    "# Just strip any spaces that might have occured, just in case\n",
    "mdf.organism = mdf.organism.apply(lambda x: x.strip()) "
   ]
  },
  {
   "cell_type": "code",
   "execution_count": 16,
   "metadata": {},
   "outputs": [],
   "source": [
    "mdf['encode'] = mdf.organism.apply(lambda x: soundex.encode_word(x))"
   ]
  },
  {
   "cell_type": "code",
   "execution_count": 17,
   "metadata": {},
   "outputs": [],
   "source": [
    "df_marine_phonetics = df2.merge(mdf, left_on='encode', right_on='encode', how='inner')"
   ]
  },
  {
   "cell_type": "code",
   "execution_count": 18,
   "metadata": {},
   "outputs": [
    {
     "data": {
      "text/html": [
       "<div>\n",
       "<style scoped>\n",
       "    .dataframe tbody tr th:only-of-type {\n",
       "        vertical-align: middle;\n",
       "    }\n",
       "\n",
       "    .dataframe tbody tr th {\n",
       "        vertical-align: top;\n",
       "    }\n",
       "\n",
       "    .dataframe thead th {\n",
       "        text-align: right;\n",
       "    }\n",
       "</style>\n",
       "<table border=\"1\" class=\"dataframe\">\n",
       "  <thead>\n",
       "    <tr style=\"text-align: right;\">\n",
       "      <th></th>\n",
       "      <th>id</th>\n",
       "      <th>locus</th>\n",
       "      <th>organism_x</th>\n",
       "      <th>definition</th>\n",
       "      <th>journal</th>\n",
       "      <th>filename</th>\n",
       "      <th>origin</th>\n",
       "      <th>valid_sequence</th>\n",
       "      <th>year</th>\n",
       "      <th>patent</th>\n",
       "      <th>company</th>\n",
       "      <th>encode</th>\n",
       "      <th>organism_y</th>\n",
       "    </tr>\n",
       "  </thead>\n",
       "  <tbody>\n",
       "    <tr>\n",
       "      <th>0</th>\n",
       "      <td>2390</td>\n",
       "      <td>LOCUS       A05174                  2190 bp   ...</td>\n",
       "      <td>anguilla anguilla</td>\n",
       "      <td>DEFINITION  Synthetic nucleotide sequence of e...</td>\n",
       "      <td>JOURNAL   Patent: WO 8803949-A1 2 02-JUN-1988;</td>\n",
       "      <td>gbpat1.seq.gz</td>\n",
       "      <td>cgataacaccggtaaacaatcgtcactgtaggtctaaactacaaac...</td>\n",
       "      <td>1</td>\n",
       "      <td>1988</td>\n",
       "      <td>Patent: WO</td>\n",
       "      <td>None</td>\n",
       "      <td>A524524</td>\n",
       "      <td>anguilla anguilla</td>\n",
       "    </tr>\n",
       "    <tr>\n",
       "      <th>1</th>\n",
       "      <td>7246380</td>\n",
       "      <td>LOCUS       JB138172                  63 bp   ...</td>\n",
       "      <td>anguilla anguilla</td>\n",
       "      <td>DEFINITION  Sequence 35 from Patent WO2012160278.</td>\n",
       "      <td>JOURNAL   Patent: WO 2012160278-A1 35 29-NOV-2...</td>\n",
       "      <td>gbpat131.seq.gz</td>\n",
       "      <td>cctcgaataacaataaagacaattcataaaacaataagaacaaaaa...</td>\n",
       "      <td>1</td>\n",
       "      <td>2012</td>\n",
       "      <td>Patent: WO</td>\n",
       "      <td>UNIV GRENOBLE 1 [FR], CENTRE NAT RECH SCIENT [...</td>\n",
       "      <td>A524524</td>\n",
       "      <td>anguilla anguilla</td>\n",
       "    </tr>\n",
       "    <tr>\n",
       "      <th>2</th>\n",
       "      <td>8038155</td>\n",
       "      <td>LOCUS       JC331750                  99 bp   ...</td>\n",
       "      <td>anguilla anguilla</td>\n",
       "      <td>DEFINITION  Sequence 90 from Patent WO2012160277.</td>\n",
       "      <td>JOURNAL   Patent: WO 2012160277-A1 90 29-NOV-2...</td>\n",
       "      <td>gbpat135.seq.gz</td>\n",
       "      <td>tcaaccttaaacaacgatgacaacatacaaatatcatccgccaggg...</td>\n",
       "      <td>1</td>\n",
       "      <td>2012</td>\n",
       "      <td>Patent: WO</td>\n",
       "      <td>UNIV GRENOBLE 1 [FR], CENTRE NAT RECH SCIENT [...</td>\n",
       "      <td>A524524</td>\n",
       "      <td>anguilla anguilla</td>\n",
       "    </tr>\n",
       "    <tr>\n",
       "      <th>3</th>\n",
       "      <td>14184745</td>\n",
       "      <td>LOCUS       DD177773                  19 bp   ...</td>\n",
       "      <td>anguilla anguilla</td>\n",
       "      <td>DEFINITION  Method for the detection and/or id...</td>\n",
       "      <td>JOURNAL   Patent: JP 2005514037-A 42 19-MAY-20...</td>\n",
       "      <td>gbpat16.seq.gz</td>\n",
       "      <td>atacctttacatagaaaca</td>\n",
       "      <td>1</td>\n",
       "      <td>2005</td>\n",
       "      <td>Patent: JP</td>\n",
       "      <td>Bio Merieux</td>\n",
       "      <td>A524524</td>\n",
       "      <td>anguilla anguilla</td>\n",
       "    </tr>\n",
       "    <tr>\n",
       "      <th>4</th>\n",
       "      <td>19648958</td>\n",
       "      <td>LOCUS       DI140281                1646 bp   ...</td>\n",
       "      <td>anguilla anguilla</td>\n",
       "      <td>DEFINITION  Methods for Identifying Compounds ...</td>\n",
       "      <td>JOURNAL   Patent: KR 1020067001172-A 27 18-JAN...</td>\n",
       "      <td>gbpat19.seq.gz</td>\n",
       "      <td>ggattgatgacatacaaacttctggtaagctggtagcaatggtaag...</td>\n",
       "      <td>1</td>\n",
       "      <td>2006</td>\n",
       "      <td>Patent: KR</td>\n",
       "      <td>None</td>\n",
       "      <td>A524524</td>\n",
       "      <td>anguilla anguilla</td>\n",
       "    </tr>\n",
       "    <tr>\n",
       "      <th>...</th>\n",
       "      <td>...</td>\n",
       "      <td>...</td>\n",
       "      <td>...</td>\n",
       "      <td>...</td>\n",
       "      <td>...</td>\n",
       "      <td>...</td>\n",
       "      <td>...</td>\n",
       "      <td>...</td>\n",
       "      <td>...</td>\n",
       "      <td>...</td>\n",
       "      <td>...</td>\n",
       "      <td>...</td>\n",
       "      <td>...</td>\n",
       "    </tr>\n",
       "    <tr>\n",
       "      <th>71151</th>\n",
       "      <td>53322078</td>\n",
       "      <td>LOCUS       HH982244                 660 bp   ...</td>\n",
       "      <td>chiridius poppei</td>\n",
       "      <td>DEFINITION  Sequence 2 from Patent EP1734117.</td>\n",
       "      <td>JOURNAL   Patent: EP 1734117-A1 2 20-DEC-2006;...</td>\n",
       "      <td>gbpat94.seq.gz</td>\n",
       "      <td>atgacaaccttcaaaatcgagtcccggatccatggcaacctcaacg...</td>\n",
       "      <td>1</td>\n",
       "      <td>2006</td>\n",
       "      <td>Patent: EP</td>\n",
       "      <td>NEC SOFTWARE LTD [JP]</td>\n",
       "      <td>C63211</td>\n",
       "      <td>chiridius poppei</td>\n",
       "    </tr>\n",
       "    <tr>\n",
       "      <th>71152</th>\n",
       "      <td>53322079</td>\n",
       "      <td>LOCUS       HH982245                 782 bp   ...</td>\n",
       "      <td>chiridius poppei</td>\n",
       "      <td>DEFINITION  Sequence 3 from Patent EP1734117.</td>\n",
       "      <td>JOURNAL   Patent: EP 1734117-A1 3 20-DEC-2006;...</td>\n",
       "      <td>gbpat94.seq.gz</td>\n",
       "      <td>agaacactcagtgtatccagttttccgtcctactacaaacatgaca...</td>\n",
       "      <td>1</td>\n",
       "      <td>2006</td>\n",
       "      <td>Patent: EP</td>\n",
       "      <td>NEC SOFTWARE LTD [JP]</td>\n",
       "      <td>C63211</td>\n",
       "      <td>chiridius poppei</td>\n",
       "    </tr>\n",
       "    <tr>\n",
       "      <th>71153</th>\n",
       "      <td>53344286</td>\n",
       "      <td>LOCUS       HI070956                1041 bp   ...</td>\n",
       "      <td>pyrodictium</td>\n",
       "      <td>DEFINITION  Sequence 957 from Patent EP1869173.</td>\n",
       "      <td>JOURNAL   Patent: EP 1869173-A2 957 26-DEC-200...</td>\n",
       "      <td>gbpat94.seq.gz</td>\n",
       "      <td>atgaaactccttgagcccacaaatacctcctacacgctgttacagg...</td>\n",
       "      <td>1</td>\n",
       "      <td>2007</td>\n",
       "      <td>Patent: EP</td>\n",
       "      <td>VERENIUM CORP [US]</td>\n",
       "      <td>P63235</td>\n",
       "      <td>pyrodictium</td>\n",
       "    </tr>\n",
       "    <tr>\n",
       "      <th>71154</th>\n",
       "      <td>53559369</td>\n",
       "      <td>LOCUS       HI377953                 663 bp   ...</td>\n",
       "      <td>corynactis viridis</td>\n",
       "      <td>DEFINITION  Sequence 4 from Patent EP2104681.</td>\n",
       "      <td>JOURNAL   Patent: EP 2104681-A2 4 30-SEP-2009;...</td>\n",
       "      <td>gbpat95.seq.gz</td>\n",
       "      <td>atgagcctgagcaagcacgtgatcgcccaggacgtgaccatgatct...</td>\n",
       "      <td>1</td>\n",
       "      <td>2009</td>\n",
       "      <td>Patent: EP</td>\n",
       "      <td>INSERON INC [US]</td>\n",
       "      <td>C652321632</td>\n",
       "      <td>corynactis viridis</td>\n",
       "    </tr>\n",
       "    <tr>\n",
       "      <th>71155</th>\n",
       "      <td>53711544</td>\n",
       "      <td>LOCUS       HI592314                1440 bp   ...</td>\n",
       "      <td>methanoculleus marisnigri</td>\n",
       "      <td>DEFINITION  Sequence 3 from Patent WO2010115424.</td>\n",
       "      <td>JOURNAL   Patent: WO 2010115424-A1 3 14-OCT-20...</td>\n",
       "      <td>gbpat96.seq.gz</td>\n",
       "      <td>tttccggttgatcctgccagaggtcactgctatcggggttcgatta...</td>\n",
       "      <td>1</td>\n",
       "      <td>2010</td>\n",
       "      <td>Patent: WO</td>\n",
       "      <td>SCHMACK BIOGAS GMBH [DE]</td>\n",
       "      <td>M35242562526</td>\n",
       "      <td>methanoculleus marisnigri</td>\n",
       "    </tr>\n",
       "  </tbody>\n",
       "</table>\n",
       "<p>71156 rows × 13 columns</p>\n",
       "</div>"
      ],
      "text/plain": [
       "             id                                              locus  \\\n",
       "0          2390  LOCUS       A05174                  2190 bp   ...   \n",
       "1       7246380  LOCUS       JB138172                  63 bp   ...   \n",
       "2       8038155  LOCUS       JC331750                  99 bp   ...   \n",
       "3      14184745  LOCUS       DD177773                  19 bp   ...   \n",
       "4      19648958  LOCUS       DI140281                1646 bp   ...   \n",
       "...         ...                                                ...   \n",
       "71151  53322078  LOCUS       HH982244                 660 bp   ...   \n",
       "71152  53322079  LOCUS       HH982245                 782 bp   ...   \n",
       "71153  53344286  LOCUS       HI070956                1041 bp   ...   \n",
       "71154  53559369  LOCUS       HI377953                 663 bp   ...   \n",
       "71155  53711544  LOCUS       HI592314                1440 bp   ...   \n",
       "\n",
       "                      organism_x  \\\n",
       "0              anguilla anguilla   \n",
       "1              anguilla anguilla   \n",
       "2              anguilla anguilla   \n",
       "3              anguilla anguilla   \n",
       "4              anguilla anguilla   \n",
       "...                          ...   \n",
       "71151           chiridius poppei   \n",
       "71152           chiridius poppei   \n",
       "71153                pyrodictium   \n",
       "71154         corynactis viridis   \n",
       "71155  methanoculleus marisnigri   \n",
       "\n",
       "                                              definition  \\\n",
       "0      DEFINITION  Synthetic nucleotide sequence of e...   \n",
       "1      DEFINITION  Sequence 35 from Patent WO2012160278.   \n",
       "2      DEFINITION  Sequence 90 from Patent WO2012160277.   \n",
       "3      DEFINITION  Method for the detection and/or id...   \n",
       "4      DEFINITION  Methods for Identifying Compounds ...   \n",
       "...                                                  ...   \n",
       "71151      DEFINITION  Sequence 2 from Patent EP1734117.   \n",
       "71152      DEFINITION  Sequence 3 from Patent EP1734117.   \n",
       "71153    DEFINITION  Sequence 957 from Patent EP1869173.   \n",
       "71154      DEFINITION  Sequence 4 from Patent EP2104681.   \n",
       "71155   DEFINITION  Sequence 3 from Patent WO2010115424.   \n",
       "\n",
       "                                                 journal         filename  \\\n",
       "0         JOURNAL   Patent: WO 8803949-A1 2 02-JUN-1988;    gbpat1.seq.gz   \n",
       "1      JOURNAL   Patent: WO 2012160278-A1 35 29-NOV-2...  gbpat131.seq.gz   \n",
       "2      JOURNAL   Patent: WO 2012160277-A1 90 29-NOV-2...  gbpat135.seq.gz   \n",
       "3      JOURNAL   Patent: JP 2005514037-A 42 19-MAY-20...   gbpat16.seq.gz   \n",
       "4      JOURNAL   Patent: KR 1020067001172-A 27 18-JAN...   gbpat19.seq.gz   \n",
       "...                                                  ...              ...   \n",
       "71151  JOURNAL   Patent: EP 1734117-A1 2 20-DEC-2006;...   gbpat94.seq.gz   \n",
       "71152  JOURNAL   Patent: EP 1734117-A1 3 20-DEC-2006;...   gbpat94.seq.gz   \n",
       "71153  JOURNAL   Patent: EP 1869173-A2 957 26-DEC-200...   gbpat94.seq.gz   \n",
       "71154  JOURNAL   Patent: EP 2104681-A2 4 30-SEP-2009;...   gbpat95.seq.gz   \n",
       "71155  JOURNAL   Patent: WO 2010115424-A1 3 14-OCT-20...   gbpat96.seq.gz   \n",
       "\n",
       "                                                  origin  valid_sequence  \\\n",
       "0      cgataacaccggtaaacaatcgtcactgtaggtctaaactacaaac...               1   \n",
       "1      cctcgaataacaataaagacaattcataaaacaataagaacaaaaa...               1   \n",
       "2      tcaaccttaaacaacgatgacaacatacaaatatcatccgccaggg...               1   \n",
       "3                                    atacctttacatagaaaca               1   \n",
       "4      ggattgatgacatacaaacttctggtaagctggtagcaatggtaag...               1   \n",
       "...                                                  ...             ...   \n",
       "71151  atgacaaccttcaaaatcgagtcccggatccatggcaacctcaacg...               1   \n",
       "71152  agaacactcagtgtatccagttttccgtcctactacaaacatgaca...               1   \n",
       "71153  atgaaactccttgagcccacaaatacctcctacacgctgttacagg...               1   \n",
       "71154  atgagcctgagcaagcacgtgatcgcccaggacgtgaccatgatct...               1   \n",
       "71155  tttccggttgatcctgccagaggtcactgctatcggggttcgatta...               1   \n",
       "\n",
       "       year      patent                                            company  \\\n",
       "0      1988  Patent: WO                                               None   \n",
       "1      2012  Patent: WO  UNIV GRENOBLE 1 [FR], CENTRE NAT RECH SCIENT [...   \n",
       "2      2012  Patent: WO  UNIV GRENOBLE 1 [FR], CENTRE NAT RECH SCIENT [...   \n",
       "3      2005  Patent: JP                                        Bio Merieux   \n",
       "4      2006  Patent: KR                                               None   \n",
       "...     ...         ...                                                ...   \n",
       "71151  2006  Patent: EP                              NEC SOFTWARE LTD [JP]   \n",
       "71152  2006  Patent: EP                              NEC SOFTWARE LTD [JP]   \n",
       "71153  2007  Patent: EP                                 VERENIUM CORP [US]   \n",
       "71154  2009  Patent: EP                                   INSERON INC [US]   \n",
       "71155  2010  Patent: WO                           SCHMACK BIOGAS GMBH [DE]   \n",
       "\n",
       "             encode                 organism_y  \n",
       "0           A524524          anguilla anguilla  \n",
       "1           A524524          anguilla anguilla  \n",
       "2           A524524          anguilla anguilla  \n",
       "3           A524524          anguilla anguilla  \n",
       "4           A524524          anguilla anguilla  \n",
       "...             ...                        ...  \n",
       "71151        C63211           chiridius poppei  \n",
       "71152        C63211           chiridius poppei  \n",
       "71153        P63235                pyrodictium  \n",
       "71154    C652321632         corynactis viridis  \n",
       "71155  M35242562526  methanoculleus marisnigri  \n",
       "\n",
       "[71156 rows x 13 columns]"
      ]
     },
     "execution_count": 18,
     "metadata": {},
     "output_type": "execute_result"
    }
   ],
   "source": [
    "df_marine_phonetics"
   ]
  },
  {
   "cell_type": "code",
   "execution_count": null,
   "metadata": {},
   "outputs": [],
   "source": []
  },
  {
   "cell_type": "code",
   "execution_count": 19,
   "metadata": {},
   "outputs": [],
   "source": [
    "with open('/home/erikz/data/mgr/data/soundex_marine_species.pkl', 'wb') as f:\n",
    "    pickle.dump(df_marine_phonetics, f)"
   ]
  },
  {
   "cell_type": "markdown",
   "metadata": {},
   "source": [
    "# Filter for valid sequences"
   ]
  },
  {
   "cell_type": "code",
   "execution_count": 5,
   "metadata": {},
   "outputs": [],
   "source": [
    "import re\n",
    "\n",
    "def match(column):\n",
    "    all_nucs = 'agtc'\n",
    "    \n",
    "    if all(i in all_nucs for i in column):\n",
    "        return 1\n",
    "    else:\n",
    "        return None"
   ]
  },
  {
   "cell_type": "code",
   "execution_count": null,
   "metadata": {},
   "outputs": [],
   "source": [
    "df['valid_sequence'] = df.apply(lambda x: match(x['origin']),axis=1)"
   ]
  },
  {
   "cell_type": "code",
   "execution_count": null,
   "metadata": {},
   "outputs": [],
   "source": [
    "df[df.valid_sequence.isnull()]"
   ]
  },
  {
   "cell_type": "code",
   "execution_count": null,
   "metadata": {},
   "outputs": [],
   "source": [
    "seq_lens = df['origin'].tolist()\n",
    "df['seq_len'] = [len(i) for i in seq_lens]\n",
    "\n",
    "filtered_df = df.loc[(df['seq_len'] >30) &\\\n",
    "                       (df.company.isna() == False) &\\\n",
    "                       (df['valid_sequence'] == 1)]"
   ]
  },
  {
   "cell_type": "code",
   "execution_count": null,
   "metadata": {},
   "outputs": [],
   "source": [
    "filtered_df"
   ]
  },
  {
   "cell_type": "code",
   "execution_count": null,
   "metadata": {},
   "outputs": [],
   "source": [
    "with open(filtered_file_path, 'wb') as f:\n",
    "    pickle.dump(filtered_df, f)"
   ]
  },
  {
   "cell_type": "code",
   "execution_count": 6,
   "metadata": {},
   "outputs": [],
   "source": [
    "### Uncomment to read back\n",
    "\n",
    "filtered_df = pd.read_pickle(filtered_file_path) "
   ]
  },
  {
   "cell_type": "markdown",
   "metadata": {},
   "source": [
    "# Marine-only\n",
    "\n",
    "In our study, we are only interested in marine species. \n",
    "To get these, we extract a list of all unique organism names from the all patents (14,627 organisms). \n",
    "Robert Blasiak then manually goes through them and indicates which ones are marine; it results in 1,488 marine species (1,476 species from Oct 2021 + additional 12 from Mar 2022).\n",
    "Details about this process can be given by Robert, main author of the paper. "
   ]
  },
  {
   "cell_type": "code",
   "execution_count": 6,
   "metadata": {},
   "outputs": [],
   "source": [
    "# Load file with marine species (1,488 organisms), received from Robert Blasiak on 7 Jan 2022 + additional 12 on 11 Mar 2022\n",
    "marine_species_file = data_folder+'Marine_species_V3.xlsx'\n",
    "mdf = pd.read_excel(marine_species_file)"
   ]
  },
  {
   "cell_type": "code",
   "execution_count": 7,
   "metadata": {},
   "outputs": [],
   "source": [
    "# Just strip any spaces that might have occured, just in case\n",
    "mdf.organism = mdf.organism.apply(lambda x: x.strip()) "
   ]
  },
  {
   "cell_type": "code",
   "execution_count": 9,
   "metadata": {},
   "outputs": [],
   "source": [
    "mdf.organism.to_csv('/home/erik/SRC/research/mgr/data/marine_species_names.tsv', sep=\"\\t\", index=False, header=False)"
   ]
  },
  {
   "cell_type": "code",
   "execution_count": 6,
   "metadata": {},
   "outputs": [
    {
     "ename": "NameError",
     "evalue": "name 'filtered_df' is not defined",
     "output_type": "error",
     "traceback": [
      "\u001b[0;31m---------------------------------------------------------------------------\u001b[0m",
      "\u001b[0;31mNameError\u001b[0m                                 Traceback (most recent call last)",
      "Input \u001b[0;32mIn [6]\u001b[0m, in \u001b[0;36m<cell line: 1>\u001b[0;34m()\u001b[0m\n\u001b[0;32m----> 1\u001b[0m filtered_df[\u001b[38;5;124m'\u001b[39m\u001b[38;5;124morganism\u001b[39m\u001b[38;5;124m'\u001b[39m] \u001b[38;5;241m=\u001b[39m \u001b[43mfiltered_df\u001b[49m\u001b[38;5;241m.\u001b[39morganism\u001b[38;5;241m.\u001b[39mapply(\u001b[38;5;28;01mlambda\u001b[39;00m x: x[\u001b[38;5;241m9\u001b[39m:]\u001b[38;5;241m.\u001b[39mstrip())\n",
      "\u001b[0;31mNameError\u001b[0m: name 'filtered_df' is not defined"
     ]
    }
   ],
   "source": [
    "filtered_df['organism'] = filtered_df.organism.apply(lambda x: x[9:].strip())"
   ]
  },
  {
   "cell_type": "code",
   "execution_count": 8,
   "metadata": {},
   "outputs": [],
   "source": [
    "df['organism'] = df.organism.apply(lambda x: x[9:].strip())"
   ]
  },
  {
   "cell_type": "code",
   "execution_count": 9,
   "metadata": {},
   "outputs": [],
   "source": [
    "# Keep only the marine sequences from df\n",
    "df_marine = df.merge(mdf, left_on='organism', right_on='organism', how='inner')"
   ]
  },
  {
   "cell_type": "code",
   "execution_count": 10,
   "metadata": {},
   "outputs": [
    {
     "data": {
      "text/plain": [
       "(54042, 11)"
      ]
     },
     "execution_count": 10,
     "metadata": {},
     "output_type": "execute_result"
    }
   ],
   "source": [
    "df_marine.shape #should be 54,042 patents"
   ]
  },
  {
   "cell_type": "code",
   "execution_count": 13,
   "metadata": {},
   "outputs": [
    {
     "data": {
      "text/html": [
       "<div>\n",
       "<style scoped>\n",
       "    .dataframe tbody tr th:only-of-type {\n",
       "        vertical-align: middle;\n",
       "    }\n",
       "\n",
       "    .dataframe tbody tr th {\n",
       "        vertical-align: top;\n",
       "    }\n",
       "\n",
       "    .dataframe thead th {\n",
       "        text-align: right;\n",
       "    }\n",
       "</style>\n",
       "<table border=\"1\" class=\"dataframe\">\n",
       "  <thead>\n",
       "    <tr style=\"text-align: right;\">\n",
       "      <th></th>\n",
       "      <th>id</th>\n",
       "      <th>locus</th>\n",
       "      <th>organism</th>\n",
       "      <th>definition</th>\n",
       "      <th>journal</th>\n",
       "      <th>filename</th>\n",
       "      <th>origin</th>\n",
       "      <th>valid_sequence</th>\n",
       "      <th>year</th>\n",
       "      <th>patent</th>\n",
       "      <th>company</th>\n",
       "    </tr>\n",
       "  </thead>\n",
       "  <tbody>\n",
       "    <tr>\n",
       "      <th>0</th>\n",
       "      <td>2390</td>\n",
       "      <td>LOCUS       A05174                  2190 bp   ...</td>\n",
       "      <td>anguilla anguilla</td>\n",
       "      <td>DEFINITION  Synthetic nucleotide sequence of e...</td>\n",
       "      <td>JOURNAL   Patent: WO 8803949-A1 2 02-JUN-1988;</td>\n",
       "      <td>gbpat1.seq.gz</td>\n",
       "      <td>cgataacaccggtaaacaatcgtcactgtaggtctaaactacaaac...</td>\n",
       "      <td>1</td>\n",
       "      <td>1988</td>\n",
       "      <td>Patent: WO</td>\n",
       "      <td>None</td>\n",
       "    </tr>\n",
       "    <tr>\n",
       "      <th>1</th>\n",
       "      <td>7246380</td>\n",
       "      <td>LOCUS       JB138172                  63 bp   ...</td>\n",
       "      <td>anguilla anguilla</td>\n",
       "      <td>DEFINITION  Sequence 35 from Patent WO2012160278.</td>\n",
       "      <td>JOURNAL   Patent: WO 2012160278-A1 35 29-NOV-2...</td>\n",
       "      <td>gbpat131.seq.gz</td>\n",
       "      <td>cctcgaataacaataaagacaattcataaaacaataagaacaaaaa...</td>\n",
       "      <td>1</td>\n",
       "      <td>2012</td>\n",
       "      <td>Patent: WO</td>\n",
       "      <td>UNIV GRENOBLE 1 [FR], CENTRE NAT RECH SCIENT [...</td>\n",
       "    </tr>\n",
       "    <tr>\n",
       "      <th>2</th>\n",
       "      <td>8038155</td>\n",
       "      <td>LOCUS       JC331750                  99 bp   ...</td>\n",
       "      <td>anguilla anguilla</td>\n",
       "      <td>DEFINITION  Sequence 90 from Patent WO2012160277.</td>\n",
       "      <td>JOURNAL   Patent: WO 2012160277-A1 90 29-NOV-2...</td>\n",
       "      <td>gbpat135.seq.gz</td>\n",
       "      <td>tcaaccttaaacaacgatgacaacatacaaatatcatccgccaggg...</td>\n",
       "      <td>1</td>\n",
       "      <td>2012</td>\n",
       "      <td>Patent: WO</td>\n",
       "      <td>UNIV GRENOBLE 1 [FR], CENTRE NAT RECH SCIENT [...</td>\n",
       "    </tr>\n",
       "    <tr>\n",
       "      <th>3</th>\n",
       "      <td>14184745</td>\n",
       "      <td>LOCUS       DD177773                  19 bp   ...</td>\n",
       "      <td>anguilla anguilla</td>\n",
       "      <td>DEFINITION  Method for the detection and/or id...</td>\n",
       "      <td>JOURNAL   Patent: JP 2005514037-A 42 19-MAY-20...</td>\n",
       "      <td>gbpat16.seq.gz</td>\n",
       "      <td>atacctttacatagaaaca</td>\n",
       "      <td>1</td>\n",
       "      <td>2005</td>\n",
       "      <td>Patent: JP</td>\n",
       "      <td>Bio Merieux</td>\n",
       "    </tr>\n",
       "    <tr>\n",
       "      <th>4</th>\n",
       "      <td>19648958</td>\n",
       "      <td>LOCUS       DI140281                1646 bp   ...</td>\n",
       "      <td>anguilla anguilla</td>\n",
       "      <td>DEFINITION  Methods for Identifying Compounds ...</td>\n",
       "      <td>JOURNAL   Patent: KR 1020067001172-A 27 18-JAN...</td>\n",
       "      <td>gbpat19.seq.gz</td>\n",
       "      <td>ggattgatgacatacaaacttctggtaagctggtagcaatggtaag...</td>\n",
       "      <td>1</td>\n",
       "      <td>2006</td>\n",
       "      <td>Patent: KR</td>\n",
       "      <td>None</td>\n",
       "    </tr>\n",
       "    <tr>\n",
       "      <th>...</th>\n",
       "      <td>...</td>\n",
       "      <td>...</td>\n",
       "      <td>...</td>\n",
       "      <td>...</td>\n",
       "      <td>...</td>\n",
       "      <td>...</td>\n",
       "      <td>...</td>\n",
       "      <td>...</td>\n",
       "      <td>...</td>\n",
       "      <td>...</td>\n",
       "      <td>...</td>\n",
       "    </tr>\n",
       "    <tr>\n",
       "      <th>54037</th>\n",
       "      <td>53322078</td>\n",
       "      <td>LOCUS       HH982244                 660 bp   ...</td>\n",
       "      <td>chiridius poppei</td>\n",
       "      <td>DEFINITION  Sequence 2 from Patent EP1734117.</td>\n",
       "      <td>JOURNAL   Patent: EP 1734117-A1 2 20-DEC-2006;...</td>\n",
       "      <td>gbpat94.seq.gz</td>\n",
       "      <td>atgacaaccttcaaaatcgagtcccggatccatggcaacctcaacg...</td>\n",
       "      <td>1</td>\n",
       "      <td>2006</td>\n",
       "      <td>Patent: EP</td>\n",
       "      <td>NEC SOFTWARE LTD [JP]</td>\n",
       "    </tr>\n",
       "    <tr>\n",
       "      <th>54038</th>\n",
       "      <td>53322079</td>\n",
       "      <td>LOCUS       HH982245                 782 bp   ...</td>\n",
       "      <td>chiridius poppei</td>\n",
       "      <td>DEFINITION  Sequence 3 from Patent EP1734117.</td>\n",
       "      <td>JOURNAL   Patent: EP 1734117-A1 3 20-DEC-2006;...</td>\n",
       "      <td>gbpat94.seq.gz</td>\n",
       "      <td>agaacactcagtgtatccagttttccgtcctactacaaacatgaca...</td>\n",
       "      <td>1</td>\n",
       "      <td>2006</td>\n",
       "      <td>Patent: EP</td>\n",
       "      <td>NEC SOFTWARE LTD [JP]</td>\n",
       "    </tr>\n",
       "    <tr>\n",
       "      <th>54039</th>\n",
       "      <td>53344286</td>\n",
       "      <td>LOCUS       HI070956                1041 bp   ...</td>\n",
       "      <td>pyrodictium</td>\n",
       "      <td>DEFINITION  Sequence 957 from Patent EP1869173.</td>\n",
       "      <td>JOURNAL   Patent: EP 1869173-A2 957 26-DEC-200...</td>\n",
       "      <td>gbpat94.seq.gz</td>\n",
       "      <td>atgaaactccttgagcccacaaatacctcctacacgctgttacagg...</td>\n",
       "      <td>1</td>\n",
       "      <td>2007</td>\n",
       "      <td>Patent: EP</td>\n",
       "      <td>VERENIUM CORP [US]</td>\n",
       "    </tr>\n",
       "    <tr>\n",
       "      <th>54040</th>\n",
       "      <td>53559369</td>\n",
       "      <td>LOCUS       HI377953                 663 bp   ...</td>\n",
       "      <td>corynactis viridis</td>\n",
       "      <td>DEFINITION  Sequence 4 from Patent EP2104681.</td>\n",
       "      <td>JOURNAL   Patent: EP 2104681-A2 4 30-SEP-2009;...</td>\n",
       "      <td>gbpat95.seq.gz</td>\n",
       "      <td>atgagcctgagcaagcacgtgatcgcccaggacgtgaccatgatct...</td>\n",
       "      <td>1</td>\n",
       "      <td>2009</td>\n",
       "      <td>Patent: EP</td>\n",
       "      <td>INSERON INC [US]</td>\n",
       "    </tr>\n",
       "    <tr>\n",
       "      <th>54041</th>\n",
       "      <td>53711544</td>\n",
       "      <td>LOCUS       HI592314                1440 bp   ...</td>\n",
       "      <td>methanoculleus marisnigri</td>\n",
       "      <td>DEFINITION  Sequence 3 from Patent WO2010115424.</td>\n",
       "      <td>JOURNAL   Patent: WO 2010115424-A1 3 14-OCT-20...</td>\n",
       "      <td>gbpat96.seq.gz</td>\n",
       "      <td>tttccggttgatcctgccagaggtcactgctatcggggttcgatta...</td>\n",
       "      <td>1</td>\n",
       "      <td>2010</td>\n",
       "      <td>Patent: WO</td>\n",
       "      <td>SCHMACK BIOGAS GMBH [DE]</td>\n",
       "    </tr>\n",
       "  </tbody>\n",
       "</table>\n",
       "<p>54042 rows × 11 columns</p>\n",
       "</div>"
      ],
      "text/plain": [
       "             id                                              locus  \\\n",
       "0          2390  LOCUS       A05174                  2190 bp   ...   \n",
       "1       7246380  LOCUS       JB138172                  63 bp   ...   \n",
       "2       8038155  LOCUS       JC331750                  99 bp   ...   \n",
       "3      14184745  LOCUS       DD177773                  19 bp   ...   \n",
       "4      19648958  LOCUS       DI140281                1646 bp   ...   \n",
       "...         ...                                                ...   \n",
       "54037  53322078  LOCUS       HH982244                 660 bp   ...   \n",
       "54038  53322079  LOCUS       HH982245                 782 bp   ...   \n",
       "54039  53344286  LOCUS       HI070956                1041 bp   ...   \n",
       "54040  53559369  LOCUS       HI377953                 663 bp   ...   \n",
       "54041  53711544  LOCUS       HI592314                1440 bp   ...   \n",
       "\n",
       "                        organism  \\\n",
       "0              anguilla anguilla   \n",
       "1              anguilla anguilla   \n",
       "2              anguilla anguilla   \n",
       "3              anguilla anguilla   \n",
       "4              anguilla anguilla   \n",
       "...                          ...   \n",
       "54037           chiridius poppei   \n",
       "54038           chiridius poppei   \n",
       "54039                pyrodictium   \n",
       "54040         corynactis viridis   \n",
       "54041  methanoculleus marisnigri   \n",
       "\n",
       "                                              definition  \\\n",
       "0      DEFINITION  Synthetic nucleotide sequence of e...   \n",
       "1      DEFINITION  Sequence 35 from Patent WO2012160278.   \n",
       "2      DEFINITION  Sequence 90 from Patent WO2012160277.   \n",
       "3      DEFINITION  Method for the detection and/or id...   \n",
       "4      DEFINITION  Methods for Identifying Compounds ...   \n",
       "...                                                  ...   \n",
       "54037      DEFINITION  Sequence 2 from Patent EP1734117.   \n",
       "54038      DEFINITION  Sequence 3 from Patent EP1734117.   \n",
       "54039    DEFINITION  Sequence 957 from Patent EP1869173.   \n",
       "54040      DEFINITION  Sequence 4 from Patent EP2104681.   \n",
       "54041   DEFINITION  Sequence 3 from Patent WO2010115424.   \n",
       "\n",
       "                                                 journal         filename  \\\n",
       "0         JOURNAL   Patent: WO 8803949-A1 2 02-JUN-1988;    gbpat1.seq.gz   \n",
       "1      JOURNAL   Patent: WO 2012160278-A1 35 29-NOV-2...  gbpat131.seq.gz   \n",
       "2      JOURNAL   Patent: WO 2012160277-A1 90 29-NOV-2...  gbpat135.seq.gz   \n",
       "3      JOURNAL   Patent: JP 2005514037-A 42 19-MAY-20...   gbpat16.seq.gz   \n",
       "4      JOURNAL   Patent: KR 1020067001172-A 27 18-JAN...   gbpat19.seq.gz   \n",
       "...                                                  ...              ...   \n",
       "54037  JOURNAL   Patent: EP 1734117-A1 2 20-DEC-2006;...   gbpat94.seq.gz   \n",
       "54038  JOURNAL   Patent: EP 1734117-A1 3 20-DEC-2006;...   gbpat94.seq.gz   \n",
       "54039  JOURNAL   Patent: EP 1869173-A2 957 26-DEC-200...   gbpat94.seq.gz   \n",
       "54040  JOURNAL   Patent: EP 2104681-A2 4 30-SEP-2009;...   gbpat95.seq.gz   \n",
       "54041  JOURNAL   Patent: WO 2010115424-A1 3 14-OCT-20...   gbpat96.seq.gz   \n",
       "\n",
       "                                                  origin  valid_sequence  \\\n",
       "0      cgataacaccggtaaacaatcgtcactgtaggtctaaactacaaac...               1   \n",
       "1      cctcgaataacaataaagacaattcataaaacaataagaacaaaaa...               1   \n",
       "2      tcaaccttaaacaacgatgacaacatacaaatatcatccgccaggg...               1   \n",
       "3                                    atacctttacatagaaaca               1   \n",
       "4      ggattgatgacatacaaacttctggtaagctggtagcaatggtaag...               1   \n",
       "...                                                  ...             ...   \n",
       "54037  atgacaaccttcaaaatcgagtcccggatccatggcaacctcaacg...               1   \n",
       "54038  agaacactcagtgtatccagttttccgtcctactacaaacatgaca...               1   \n",
       "54039  atgaaactccttgagcccacaaatacctcctacacgctgttacagg...               1   \n",
       "54040  atgagcctgagcaagcacgtgatcgcccaggacgtgaccatgatct...               1   \n",
       "54041  tttccggttgatcctgccagaggtcactgctatcggggttcgatta...               1   \n",
       "\n",
       "       year      patent                                            company  \n",
       "0      1988  Patent: WO                                               None  \n",
       "1      2012  Patent: WO  UNIV GRENOBLE 1 [FR], CENTRE NAT RECH SCIENT [...  \n",
       "2      2012  Patent: WO  UNIV GRENOBLE 1 [FR], CENTRE NAT RECH SCIENT [...  \n",
       "3      2005  Patent: JP                                        Bio Merieux  \n",
       "4      2006  Patent: KR                                               None  \n",
       "...     ...         ...                                                ...  \n",
       "54037  2006  Patent: EP                              NEC SOFTWARE LTD [JP]  \n",
       "54038  2006  Patent: EP                              NEC SOFTWARE LTD [JP]  \n",
       "54039  2007  Patent: EP                                 VERENIUM CORP [US]  \n",
       "54040  2009  Patent: EP                                   INSERON INC [US]  \n",
       "54041  2010  Patent: WO                           SCHMACK BIOGAS GMBH [DE]  \n",
       "\n",
       "[54042 rows x 11 columns]"
      ]
     },
     "execution_count": 13,
     "metadata": {},
     "output_type": "execute_result"
    }
   ],
   "source": [
    "df_marine"
   ]
  },
  {
   "cell_type": "code",
   "execution_count": 11,
   "metadata": {},
   "outputs": [],
   "source": [
    "df_marine.to_csv('/mnt/data/erikz/df_worms_species.csv', sep='\\t', header=True, index=False)"
   ]
  },
  {
   "cell_type": "code",
   "execution_count": null,
   "metadata": {},
   "outputs": [],
   "source": []
  },
  {
   "cell_type": "code",
   "execution_count": null,
   "metadata": {},
   "outputs": [],
   "source": []
  },
  {
   "cell_type": "code",
   "execution_count": 54,
   "metadata": {},
   "outputs": [
    {
     "data": {
      "text/plain": [
       "[bacillus] caldolyticus          5\n",
       "acanthastrea echinata            8\n",
       "acanthopagrus schlegelii         2\n",
       "acanthus ebracteatus             2\n",
       "acaryochloris                    1\n",
       "                                ..\n",
       "zoarces elongatus                1\n",
       "zoarces viviparus                1\n",
       "zobellia galactanivorans        13\n",
       "zostera marina                  16\n",
       "zunongwangia profunda sm-a87     1\n",
       "Name: organism, Length: 1366, dtype: int64"
      ]
     },
     "execution_count": 54,
     "metadata": {},
     "output_type": "execute_result"
    }
   ],
   "source": [
    "df_filtered_marine.organism.value_counts().sort_index() #top 20"
   ]
  },
  {
   "cell_type": "code",
   "execution_count": null,
   "metadata": {},
   "outputs": [],
   "source": []
  },
  {
   "cell_type": "code",
   "execution_count": null,
   "metadata": {},
   "outputs": [],
   "source": []
  },
  {
   "cell_type": "code",
   "execution_count": null,
   "metadata": {},
   "outputs": [],
   "source": []
  },
  {
   "cell_type": "code",
   "execution_count": null,
   "metadata": {},
   "outputs": [],
   "source": [
    "with open('/mnt/data/erikz/mgr/data/filtered_marine_species.pkl', 'wb') as f:\n",
    "    pickle.dump(df_filtered_marine, f)"
   ]
  },
  {
   "cell_type": "markdown",
   "metadata": {},
   "source": [
    "# Unknown-only "
   ]
  },
  {
   "cell_type": "code",
   "execution_count": 7,
   "metadata": {},
   "outputs": [
    {
     "data": {
      "text/plain": [
       "organism  unknown.                             7384257\n",
       "organism  homo sapiens                         4308483\n",
       "organism  synthetic construct                  4000312\n",
       "organism  unidentified                         1064162\n",
       "organism  mus musculus                          313591\n",
       "organism  zea mays                              309659\n",
       "organism  glycine max                           106775\n",
       "organism  arabidopsis thaliana                   79807\n",
       "organism  saccharomyces pastorianus              78785\n",
       "organism  oryza sativa                           74393\n",
       "organism  rattus norvegicus                      56161\n",
       "organism  aspergillus oryzae                     53932\n",
       "organism  escherichia coli                       49154\n",
       "organism  saccharomyces cerevisiae               46303\n",
       "organism  bacillus licheniformis                 45710\n",
       "organism  staphylococcus aureus                  37917\n",
       "organism  streptococcus agalactiae               35913\n",
       "organism  drosophila sp. (in: insecta)           29166\n",
       "organism  streptococcus pneumoniae               26916\n",
       "organism  neisseria meningitidis                 25157\n",
       "organism  actinoplanes utahensis                 24089\n",
       "organism  artificial sequences                   22921\n",
       "organism  streptococcus pyogenes                 22131\n",
       "organism  corynebacterium glutamicum             20941\n",
       "organism  nicotiana tabacum                      17931\n",
       "organism  neisseria gonorrhoeae                  17478\n",
       "organism  streptomyces avermitilis               15956\n",
       "organism  oryza sativa japonica group            14158\n",
       "organism  hydrogenobacter thermophilus tk-6      13251\n",
       "organism  eucalyptus camaldulensis               12956\n",
       "organism  brassica napus                         12844\n",
       "organism  haemophilus influenzae                 12837\n",
       "organism  oryctolagus cuniculus                  12181\n",
       "organism  populus trichocarpa                    11917\n",
       "organism  canis lupus familiaris                 11546\n",
       "organism  medicago truncatula                    11171\n",
       "organism  eucalyptus grandis                     10760\n",
       "organism  triticum aestivum                      10189\n",
       "organism  lawsonia intracellularis               10126\n",
       "organism  pinus radiata                           9602\n",
       "organism  alkalihalobacillus clausii              9427\n",
       "organism  hordeum vulgare                         9029\n",
       "organism  sorghum bicolor                         8886\n",
       "organism  cricetulus griseus                      8852\n",
       "organism  methanobrevibacter ruminantium          8244\n",
       "organism  toxoplasma gondii                       7926\n",
       "organism  bos taurus                              7854\n",
       "organism  candida albicans                        7326\n",
       "organism  cucumis sativus                         7148\n",
       "organism  solanum lycopersicum                    6986\n",
       "Name: organism, dtype: int64"
      ]
     },
     "execution_count": 7,
     "metadata": {},
     "output_type": "execute_result"
    }
   ],
   "source": [
    "filtered_df.organism.value_counts()[:50] #top 20"
   ]
  },
  {
   "cell_type": "code",
   "execution_count": 33,
   "metadata": {},
   "outputs": [],
   "source": [
    "filtered_df_unknown = filtered_df[filtered_df[\"organism\"].isin([\"unknown.\",\"unidentified\", \"synthetic construct\"])]"
   ]
  },
  {
   "cell_type": "code",
   "execution_count": 35,
   "metadata": {},
   "outputs": [
    {
     "data": {
      "text/plain": [
       "Patent: US    7384263\n",
       "Patent: JP    3400054\n",
       "Patent: WO     600543\n",
       "Patent: EP     587760\n",
       "Patent: KR     475865\n",
       "Patent: DE        131\n",
       "Patent: FR        100\n",
       "Patent: GB         10\n",
       "Patent: NO          5\n",
       "Name: patent, dtype: int64"
      ]
     },
     "execution_count": 35,
     "metadata": {},
     "output_type": "execute_result"
    }
   ],
   "source": [
    "filtered_df_unknown.patent.value_counts()"
   ]
  },
  {
   "cell_type": "code",
   "execution_count": 36,
   "metadata": {},
   "outputs": [
    {
     "data": {
      "text/plain": [
       "5568733"
      ]
     },
     "execution_count": 36,
     "metadata": {},
     "output_type": "execute_result"
    }
   ],
   "source": [
    "len(np.unique(filtered_df_unknown.origin))"
   ]
  },
  {
   "cell_type": "code",
   "execution_count": 37,
   "metadata": {},
   "outputs": [
    {
     "data": {
      "text/plain": [
       "unknown.               7384257\n",
       "synthetic construct    4000312\n",
       "unidentified           1064162\n",
       "Name: organism, dtype: int64"
      ]
     },
     "execution_count": 37,
     "metadata": {},
     "output_type": "execute_result"
    }
   ],
   "source": [
    "filtered_df_unknown.organism.value_counts()"
   ]
  },
  {
   "cell_type": "code",
   "execution_count": 38,
   "metadata": {},
   "outputs": [],
   "source": [
    "with open(filtered_unknown_file_path, 'wb') as f:\n",
    "    pickle.dump(filtered_df_unknown, f)"
   ]
  },
  {
   "cell_type": "markdown",
   "metadata": {},
   "source": [
    "## What is patent distribution for sequences >150 bp?"
   ]
  },
  {
   "cell_type": "code",
   "execution_count": 17,
   "metadata": {},
   "outputs": [],
   "source": [
    "pd.options.display.float_format = '{:20,.4f}'.format"
   ]
  },
  {
   "cell_type": "code",
   "execution_count": 6,
   "metadata": {},
   "outputs": [],
   "source": [
    "filtered_df_unknown = pd.read_pickle(filtered_unknown_file_path) "
   ]
  },
  {
   "cell_type": "code",
   "execution_count": 7,
   "metadata": {},
   "outputs": [],
   "source": [
    "filtered_df_unknown['seq_length'] = filtered_df_unknown.origin.apply(lambda x: len(x))\n",
    "filtered_df_unknown = filtered_df_unknown[filtered_df_unknown['seq_length']>=150]"
   ]
  },
  {
   "cell_type": "code",
   "execution_count": 18,
   "metadata": {},
   "outputs": [
    {
     "data": {
      "text/plain": [
       "Patent: US                 0.7097\n",
       "Patent: JP                 0.1893\n",
       "Patent: EP                 0.0440\n",
       "Patent: WO                 0.0332\n",
       "Patent: KR                 0.0238\n",
       "Patent: DE                 0.0000\n",
       "Patent: FR                 0.0000\n",
       "Patent: GB                 0.0000\n",
       "Patent: NO                 0.0000\n",
       "Name: patent, dtype: float64"
      ]
     },
     "execution_count": 18,
     "metadata": {},
     "output_type": "execute_result"
    }
   ],
   "source": [
    "filtered_df_unknown.patent.value_counts()/filtered_df_unknown.patent.value_counts().sum()"
   ]
  },
  {
   "cell_type": "code",
   "execution_count": 16,
   "metadata": {},
   "outputs": [
    {
     "data": {
      "text/plain": [
       "7467396"
      ]
     },
     "execution_count": 16,
     "metadata": {},
     "output_type": "execute_result"
    }
   ],
   "source": [
    "filtered_df_unknown.origin.value_counts().sum()"
   ]
  },
  {
   "cell_type": "markdown",
   "metadata": {},
   "source": [
    "# Filtered without unknown"
   ]
  },
  {
   "cell_type": "code",
   "execution_count": 39,
   "metadata": {},
   "outputs": [],
   "source": [
    "filtered_df_wa_unknown = filtered_df[~filtered_df[\"organism\"].isin([\"unknown.\",\"unidentified\", \"synthetic construct\"])]"
   ]
  },
  {
   "cell_type": "code",
   "execution_count": 40,
   "metadata": {},
   "outputs": [
    {
     "data": {
      "text/plain": [
       "Patent: JP    2797920\n",
       "Patent: WO    2106403\n",
       "Patent: EP    1659152\n",
       "Patent: KR     185829\n",
       "Patent: DE        231\n",
       "Patent: FR         65\n",
       "Patent: GB         15\n",
       "Patent: CH          3\n",
       "Patent: US          1\n",
       "Patent: NO          1\n",
       "Name: patent, dtype: int64"
      ]
     },
     "execution_count": 40,
     "metadata": {},
     "output_type": "execute_result"
    }
   ],
   "source": [
    "filtered_df_wa_unknown.patent.value_counts()"
   ]
  },
  {
   "cell_type": "code",
   "execution_count": 41,
   "metadata": {},
   "outputs": [
    {
     "data": {
      "text/plain": [
       "3549633"
      ]
     },
     "execution_count": 41,
     "metadata": {},
     "output_type": "execute_result"
    }
   ],
   "source": [
    "len(np.unique(filtered_df_wa_unknown.origin))"
   ]
  },
  {
   "cell_type": "code",
   "execution_count": 62,
   "metadata": {},
   "outputs": [
    {
     "name": "stdout",
     "output_type": "stream",
     "text": [
      "[\"'nostoc azollae' 0708\", ', methods.organism  alicyclobacillus acidocaldarius', ', methods.organism  synthetic construct', '.organism  saccharomyces cerevisiae', '.organism  saccharomyces cerevisiaeorganisms', '.organism  synthetic construct', '.organism  synthetic constructorganisms', '[actinobacillus] rossii', '[bacillus thuringiensis] serovar konkukian', '[bacillus thuringiensis] serovar konkukian str. 97-27', '[bacillus] caldolyticus', '[bacillus] caldotenax', '[bacillus] caldovelox', '[bacillus] selenitireducens mls10', '[bacteroides] coagulans', '[bacteroides] pectinophilus', '[bacteroides] pectinophilus atcc 43243', '[brevibacterium] flavum', '[brevibacterium] frigoritolerans', '[candida] arabinofermentans', '[candida] auris', '[candida] boidinii', '[candida] cloacae', '[candida] glabrata', '[candida] glabrata cbs 138', '[candida] haemuloni', '[candida] inconspicua', '[candida] intermedia', '[candida] maris', '[candida] mengyuniae', '[candida] nemodendra', '[candida] norvegica', '[candida] saitoana', '[candida] sonorensis', '[candida] zeylanoides', '[clostridium] aminophilum dsm 10710', '[clostridium] cellulosi', '[clostridium] cocleatum', '[clostridium] ghonii', '[clostridium] hiranonis', '[clostridium] hylemonae', '[clostridium] hylemonae dsm 15053', '[clostridium] innocuum', '[clostridium] leptum', '[clostridium] methylpentosum', '[clostridium] paradoxum', '[clostridium] piliforme', '[clostridium] saccharogumia', '[clostridium] scindens', '[clostridium] scindens atcc 35704', '[clostridium] spiroforme', '[clostridium] sporosphaeroides', '[clostridium] sticklandii', '[clostridium] symbiosum', '[clostridium] viride', '[eubacterium] brachy', '[eubacterium] cellulosolvens', '[eubacterium] cylindroides', '[eubacterium] eligens atcc 27750', '[eubacterium] hallii dsm 3353', '[eubacterium] infirmum', '[eubacterium] nodatum', '[eubacterium] rectale', '[eubacterium] rectale atcc 33656', '[eubacterium] saphenum', '[eubacterium] siraeum', '[eubacterium] siraeum dsm 15702', '[eubacterium] yurii', '[flavobacterium] lutescens', '[haemophilus] ducreyi', '[haemophilus] ducreyi 35000hp', '[humicola] grisea var. thermoidea', '[ixeris] dentata var. albiflora', '[mannheimia] succiniciproducens', '[mannheimia] succiniciproducens mbel55e', '[nectria] haematococca mpvi', '[pasteurella] aerogenes', '[phormidium] sp. ets-05', '[polyangium] brachysporum', '[pseudomonas] dacunhae atcc 21192', '[ruminococcus] gnavus', '[ruminococcus] gnavus atcc 29149', '[ruminococcus] lactaris', '[ruminococcus] lactaris atcc 29176', '[ruminococcus] torques', '[ruminococcus] torques atcc 27756', '[spirillum] lunatum', '[talaromyces] leycettanus', '[ulocladium] sp.', 'a511 phage', 'abelson murine leukemia virus', 'abies grandis', 'abies magnifica', 'abiotrophia defectiva', 'abiotrophia defectiva atcc 49176', 'abiotrophia para-adiacens', 'abiotrophia sp.', 'abiotrophia sp. oral clone p4pa_155 p1', 'absidia caerulea', 'abutilon theophrasti', 'acacia ampliceps', 'acacia auriculiformis', 'acacia auriculiformis x acacia mangium', 'acacia harpophylla', 'acacia mangium', 'acanthamoeba castellanii', 'acanthamoeba polyphaga', 'acanthamoeba polyphaga mimivirus', 'acanthamoeba sp.', 'acanthastrea echinata', 'acanthocheilonema viteae', 'acanthopagrus schlegelii', 'acanthus ebracteatus', 'acarapis dorsalis', 'acarapis externus', 'acarapis woodi', 'acarus siro', 'acaryochloris', 'acaryochloris marina', 'acaryochloris marina mbic11017', 'accipiter gentilis', 'accipiter nisus', 'acer rubrum', 'acetabularia acetabulum', 'acetanaerobacterium elongatum', 'acetanaerobacterium sp.', 'acetivibrio cellulolyticus', 'acetivibrio clariflavus', 'acetivibrio ethanolgignens', 'acetivibrio saccincola', 'acetivibrio straminisolvens', 'acetivibrio thermocellus', 'acetivibrio thermocellus atcc 27405', 'acetivibrio thermocellus jw20', 'acetivibrio thermocellusorganisms', 'acetoanaerobium sticklandii', 'acetobacter', 'acetobacter aceti', 'acetobacter calcoaceticus', 'acetobacter fabarum', 'acetobacter lovaniensis', 'acetobacter malorum', 'acetobacter okinawensis', 'acetobacter orientalis', 'acetobacter pasteurianus', 'acetobacter pasteurianus subsp. pasteurianus', 'acetobacter pomorum', 'acetobacter sp.', 'acetobacter syzygii', 'acetobacter tropicalis', 'acetobacteraceae bacterium', 'acetobacteraceae bacterium at-5844', 'acetobacterium woodii', 'acetohalobium arabaticum', 'acetohalobium arabaticum dsm 5501', 'acetomicrobium hydrogeniformans', 'acetomicrobium mobile', 'acheta domestica densovirus', 'acheta domesticus', 'achlya hypogyna', 'acholeplasma laidlawii', 'acholeplasma laidlawii pg-8a', 'achromobacter', 'achromobacter arsenitoxydans', 'achromobacter cycloclastes', 'achromobacter denitrificans', 'achromobacter denitrificans nbrc 15125', 'achromobacter lyticus', 'achromobacter obae', 'achromobacter piechaudii', 'achromobacter sp.', 'achromobacter sp. ccm 4824', 'achromobacter sp. mtcc 5605', 'achromobacter spanius', 'achromobacter xylosoxidans', 'aciculosporium take', 'acidaminococcus', 'acidaminococcus fermentans', 'acidaminococcus fermentans dsm 20731', 'acidaminococcus intestini', 'acidaminococcus sp.', 'acidaminococcus sp. bv3l6', 'acidianus ambivalens', 'acidianus bottle-shaped virus', 'acidianus brierleyi', 'acidianus hospitalis', 'acidianus infernus', 'acidilobus saccharovorans 345-15', 'acidimicrobium ferrooxidans', 'acidimicrobium ferrooxidans dsm 10331', 'acidiphilium cryptum', 'acidiphilium cryptum jf-5', 'acidiphilium multivorum', 'acidipila rosea', 'acidipropionibacterium acidipropionici', 'acidipropionibacterium jensenii', 'acidipropionibacterium thoenii', 'acidithiobacillus caldus', 'acidithiobacillus ferrivorans', 'acidithiobacillus ferrooxidans', 'acidithiobacillus ferrooxidans atcc 23270', 'acidithiobacillus ferrooxidans atcc 53993', 'acidobacteria', 'acidobacteria bacterium', 'acidobacterium', 'acidobacterium capsulatum', 'acidobacterium capsulatum atcc 51196', 'acidocella facilis', 'acidocella sp.', 'acidomyces acidophilus', 'acidomyces acidothermus', 'acidothermus cellulolyticus', 'acidothermus cellulolyticus 11b', 'acidovorax', 'acidovorax avenae', 'acidovorax avenae subsp. avenae', 'acidovorax citrulli', 'acidovorax citrulli aac00-1', 'acidovorax delafieldii', 'acidovorax ebreus', 'acidovorax facilis', 'acidovorax sp.', 'acidovorax sp. 98-63833', 'acidovorax sp. js42', 'acidovorax temperans', 'aciduliprofundum', 'aciduliprofundum boonei', 'acinetobacter', 'acinetobacter baumannii', 'acinetobacter baumannii abnih3', 'acinetobacter baumannii atcc 19606 = cip 70.34 = jcm 6841', 'acinetobacter baumannii sdf', 'acinetobacter baylyi', 'acinetobacter baylyi adp1', 'acinetobacter beijerinckii', 'acinetobacter bouvetii', 'acinetobacter brisouii', 'acinetobacter calcoaceticus', 'acinetobacter genomosp. c1', 'acinetobacter gerneri', 'acinetobacter guillouiae', 'acinetobacter gyllenbergii', 'acinetobacter haemolyticus', 'acinetobacter johnsonii', 'acinetobacter junii', 'acinetobacter lwoffii', 'acinetobacter marinus', 'acinetobacter nosocomialis', 'acinetobacter oleivorans', 'acinetobacter oleivorans dr1', 'acinetobacter parvus', 'acinetobacter phage ap205', 'acinetobacter phage vb_abap_ceb1', 'acinetobacter pittii', 'acinetobacter radioresistens', 'acinetobacter radioresistens sk82', 'acinetobacter rhizosphaerae', 'acinetobacter schindleri', 'acinetobacter seifertii', 'acinetobacter soli', 'acinetobacter sp.', 'acinetobacter sp. 1294596', 'acinetobacter sp. 56a1', 'acinetobacter sp. 869535', 'acinetobacter sp. arc5', 'acinetobacter sp. atcc 27244', 'acinetobacter sp. cip 101934', 'acinetobacter sp. cip 102143', 'acinetobacter sp. cip 53.82', 'acinetobacter sp. cip-a165', 'acinetobacter sp. nbrc 110496', 'acinetobacter sp. oc4', 'acinetobacter sp. ruh 2624', 'acinetobacter sp. se19', 'acinetobacter sp. sh024', 'acinetobacter sp. wo2008034648_27348', 'acinetobacter tandoii', 'acinetobacter tjernbergiae', 'acinetobacter towneri', 'acinetobacter ursingii', 'acipenser brevirostrum', 'acipenser persicus', 'acipenser ruthenus', 'acomys cahirinus', 'aconitum austroyunnanense', 'aconitum bucovinense', 'aconitum campylorrhynchum', 'aconitum carmichaelii', 'aconitum hemsleyanum', 'aconitum japonicum', 'acorus americanus', 'acorus calamus', 'acremonium alternatum', 'acremonium chrysogenum', 'acremonium dichromosporum', 'acremonium sclerotigenum', 'acremonium sp.', 'acremonium thermophilum', 'acrocephalus arundinaceus', 'acromyrmex echinatior', 'acrophialophora fusispora', 'acropora', 'acropora aculeus', 'acropora aspera', 'acropora formosa', 'acropora hyacinthus', 'acropora millepora', 'acropora robusta', 'acrostalagmus annulatus', 'actaea cimicifuga', 'actaea dahurica', 'actaea heracleifolia', 'actaea japonica', 'actaea racemosa', 'actaea simplex', 'actinia equina', 'actinidia arguta', 'actinidia chinensis', 'actinidia deliciosa', 'actinoallomurus', 'actinoalloteichus caeruleus', 'actinoalloteichus cyanogriseus', 'actinoalloteichus sp.', 'actinobacillus capsulatus', 'actinobacillus capsulatus dsm 19761', 'actinobacillus equuli', 'actinobacillus equuli subsp. equuli', 'actinobacillus minor', 'actinobacillus minor nm305', 'actinobacillus pleuropneumoniae', 'actinobacillus pleuropneumoniae serovar 1 str. 4074', 'actinobacillus pleuropneumoniae serovar 5', 'actinobacillus porcinus', 'actinobacillus porcitonsillarum', 'actinobacillus succinogenes', 'actinobacillus succinogenes 130z', 'actinobacillus suis', 'actinobacillus ureae', 'actinobaculum sp.', 'actinobaculum sp. bm#101342', 'actinobaculum sp. p2p_19 p1', 'actinomadura namibiensis', 'actinomadura rubrobrunea', 'actinomadura sp.', 'actinomadura sp. 21g792', 'actinomortierella capitata', 'actinomortierella wolfii', 'actinomyces', 'actinomyces genomosp. c1', 'actinomyces genomosp. p1 oral clone mb6_c03', 'actinomyces graevenitzii', 'actinomyces israelii', 'actinomyces massiliensis', 'actinomyces naeslundii', 'actinomyces orihominis', 'actinomyces oris', 'actinomyces sp.', 'actinomyces sp. c109', 'actinomyces sp. chdc b197', 'actinomyces sp. icm34', 'actinomyces sp. icm41', 'actinomyces sp. icm47', 'actinomyces sp. icm54', 'actinomyces sp. oral clone gu009', 'actinomyces sp. oral clone gu067', 'actinomyces sp. oral clone io076', 'actinomyces sp. oral clone io077', 'actinomyces sp. oral clone ip073', 'actinomyces sp. oral clone ip081', 'actinomyces sp. oral clone ja063', 'actinomyces sp. oral taxon 170', 'actinomyces sp. oral taxon 171', 'actinomyces sp. oral taxon 178', 'actinomyces sp. oral taxon 180', 'actinomyces sp. oral taxon 848', 'actinomyces sp. oral taxon c55', 'actinomyces urogenitalis', 'actinomyces urogenitalis dsm 15434', 'actinomyces viscosus', 'actinomycetales', 'actinomycete dpj-0019', 'actinomycete dpj-0024', 'actinoplanes friuliensis', 'actinoplanes garbadinensis', 'actinoplanes liguriensis', 'actinoplanes missouriensis', 'actinoplanes rectilineatus', 'actinoplanes sp.', 'actinoplanes sp. dsm 24059', 'actinoplanes sp. se50/110', 'actinoplanes subtropicus', 'actinoplanes teichomyceticus', 'actinoplanes utahensis', 'actinosynnema mirum', 'actinosynnema mirum dsm 43827', 'actinosynnema pretiosum', 'acutalibacter muris', 'acute bee paralysis virus', 'acyrthosiphon pisum', 'adalia bipunctata', 'addax nasomaculatus', 'adeno-associate virus 2', 'adeno-associated virus', 'adeno-associated virus - 1', 'adeno-associated virus - 3', 'adeno-associated virus - 4', 'adeno-associated virus - 6', 'adeno-associated virus - 7', 'adeno-associated virus - 8', 'adeno-associated virus 10', 'adeno-associated virus 11', 'adeno-associated virus 12', 'adeno-associated virus 13', 'adeno-associated virus 2', 'adeno-associated virus 3a', 'adeno-associated virus 3b', 'adeno-associated virus 5', 'adeno-associated virus 9', 'adeno-associated virus type 8', 'adenoviral vector pe2', 'adenoviridae', 'adiantum capillus-veneris', 'adiantum pedatum', 'adiantum peruvianum', 'adiantum raddianum', 'adiantum trapeziforme', 'adineta vaga', 'adlercreutzia equolifaciens', 'adlercreutzia equolifaciens subsp. celatus', 'adonis aestivalis', 'adonis aestivalis var. palaestina', 'adoxophyes honmai', 'advenella kashmirensis', 'aedes aegypti', 'aedes albopictus', 'aedes atropalpus', 'aedes vexans', 'aegilops kotschyi', 'aegilops longissima', 'aegilops peregrina', 'aegilops speltoides', 'aegilops tauschii', 'aeluropus littoralis', 'aequorea', 'aequorea coerulescens', 'aequorea macrodactyla', 'aequorea victoria', 'aeribacillus pallidus', 'aerococcus christensenii', 'aerococcus sanguinicola', 'aerococcus urinae', 'aerococcus urinae acs-120-v-col10a', 'aerococcus viridans', 'aerococcus viridans atcc 11563 = ccug 4311', 'aeromicrobium', 'aeromicrobium erythreum', 'aeromicrobium massiliense jc14', 'aeromicrobium sp.', 'aeromonas', 'aeromonas allosaccharophila', 'aeromonas caviae', 'aeromonas enteropelogenes', 'aeromonas hydrophila', 'aeromonas hydrophila subsp. hydrophila atcc 7966', 'aeromonas jandaei', 'aeromonas molluscorum 848', 'aeromonas phage 44rr2.8t', 'aeromonas phage aeh1', 'aeromonas salmonicida', 'aeromonas salmonicida subsp. salmonicida', 'aeromonas salmonicida subsp. salmonicida a449', 'aeromonas schubertii', 'aeromonas sobria', 'aeromonas sp.', 'aeromonas sp. zor0001', 'aeromonas veronii', 'aeromonas zor0002', 'aeropyrum pernix', 'aeropyrum pernix k1', 'aetherobacter', 'aetherobacter fasciculatus', 'aetherobacter rufus', 'aethusa cynapium', 'afipia birgiae', 'afipia carboxidovorans', 'afipia carboxidovorans om5', 'afipia clevelandensis', 'afipia sp.', 'african green monkey polyomavirus', 'african horse sickness virus', 'african horse sickness virus 4', 'african horse sickness virus 9', 'african swine fever virus', 'afropavo congensis', 'agalychnis dacnicolor', \"agaricales sp. 'arthromyces ramosus'\", 'agaricia fragilis', 'agaricus bisporus', 'agaricus silvaticus', 'agaricus subrufescens', 'agarivorans albus', 'agarophyton tenuistipitatum', 'agarophyton tenuistipitatum var. liui', 'agarophyton vermiculophyllum', 'agastache rugosa', 'agathobaculum desmolans', 'agave americana', 'agave coetocapnia', 'agave tequilana', 'ageratina adenophora', 'aggregatibacter actinomycetemcomitans', 'aggregatibacter actinomycetemcomitans d7s-1', 'aggregatibacter aphrophilus', 'aggregatibacter aphrophilus nj8700', 'aggregatibacter segnis', 'aggregatibacter sp.', 'agkistrodon contortrix', 'agkistrodon piscivorus', 'agkistrodon piscivorus piscivorus', 'aglaomorpha meyeniana', 'aglia tau', 'agreia sp.', 'agrilactobacillus composti', 'agrius cingulata', 'agrobacterium', 'agrobacterium albertimagni', 'agrobacterium aurantiacum', 'agrobacterium fabrum', 'agrobacterium fabrum str. c58', 'agrobacterium larrymoorei', 'agrobacterium luteum', 'agrobacterium radiobacter k84', 'agrobacterium rhizogenes', 'agrobacterium sp.', 'agrobacterium sp. atcc 31749', 'agrobacterium sp. cp4', 'agrobacterium tumefaciens', 'agrobacterium tumefaciens str. c58 plasmid at', 'agrobacterium vitis', 'agrobacterium vitis s4', 'agrococcus jenensis', 'agrocybe aegerita', 'agrocybe cylindracea', 'agrocybe pediades', 'agromyces sp.', 'agrostemma githago', 'agrostis canina', 'agrostis capillaris', 'agrostis nebulosa', 'agrostis stolonifera', 'agrostis stolonifera var. palustris', 'agrotis exclamationis', 'agrotis ipsilon', 'agrotis segetum', 'agrotis segetum granulovirus', 'aichi virus 1', 'aids-associated retrovirus', 'ailanthus altissimus', 'ailuropoda melanoleuca', 'ailurus fulgens', 'akabane virus', 'akkermansia muciniphila', 'akkermansia muciniphila atcc baa-835', 'akkermansia municiphila', 'alagoas vesiculovirus', 'alatina alata', 'albifimbria verrucaria', 'alcaligenes', 'alcaligenes faecalis', 'alcaligenes faecalis subsp. faecalis', 'alcaligenes faecalis subsp. faecalis ncib 8687', 'alcaligenes sp.', 'alcaligenes sp. co14', 'alcaligenes sp. s3', 'alcaligenes strain:ks-85', 'alcanivorax', 'alcanivorax borkumensis', 'alcanivorax borkumensis sk2', 'alcanivorax hongdengensis', 'alcanivorax jadensis', 'alcanivorax pacificus', 'alcanivorax sp.', 'alcelaphine gammaherpesvirus 1', 'alcelaphus buselaphus', 'alcelaphus lichtensteini', 'alces alces', 'alces alces faeces associated microvirus mp12 5423', 'alchemilla alpina', 'alectoris rufa', 'aleuria aurantia', 'aleurodicus dugesii', 'aleutian mink disease virus', 'alexandrium', 'alexandrium catenella', 'alexandrium fundyense', 'alexandrium minutum', 'alexandrium ostenfeldii', 'alexandrium tamarense', 'alfalfa mosaic virus', 'algibacter lectus', 'algoriphagus', 'algoriphagus sp.', 'algoriphagus terrigena', 'aliarcobacter butzleri', 'aliarcobacter butzleri rm4018', 'alicycliphilus denitrificans', 'alicyclobacillus', 'alicyclobacillus acidiphilus', 'alicyclobacillus acidocaldarius', 'alicyclobacillus acidocaldarius subsp. acidocaldarius', 'alicyclobacillus acidocaldarius subsp. acidocaldarius dsm 446', 'alicyclobacillus acidocaldariusorganisms, and methods', 'alicyclobacillus acidoterrestris', 'alicyclobacillus cycloheptanicus', 'alicyclobacillus disulfidooxidans', 'alicyclobacillus herbarius', 'alicyclobacillus hesperidum', 'alicyclobacillus kakegawensis', 'alicyclobacillus pomorum', 'alicyclobacillus sendaiensis', 'alicyclobacillus sp.', 'aliiglaciecola lipolytica', 'aliivibrio fischeri', 'aliivibrio fischeri es114', 'aliivibrio salmonicida', 'aliivibrio salmonicida lfi1238', 'aliivibrio wodanis', 'alishewanella aestuarii', 'alisma canaliculatum', 'alisma gramineum', 'alisma lanceolatum', 'alisma nanum', 'alisma plantago-aquatica subsp. orientale', 'alisma rariflorum', 'alisma subcordatum', 'alisma triviale', 'alisma wahlenbergii', 'alistipes', 'alistipes communis', 'alistipes finegoldii', 'alistipes indistinctus', 'alistipes onderdonkii', 'alistipes putredinis', 'alistipes senegalensis jc50', 'alistipes shahii', 'alistipes sp.', 'alistipes sp. cag:435', 'alistipes sp. cag:514', 'alistipes sp. hgb5', 'alistipes sp. rma 9912', 'alkalibacterium putridalgicola', 'alkalihalobacillus akibai', 'alkalihalobacillus alcalophilus', 'alkalihalobacillus algicola', 'alkalihalobacillus bogoriensis', 'alkalihalobacillus clausii', 'alkalihalobacillus clausii ksm-k16', 'alkalihalobacillus gibsonii', 'alkalihalobacillus halodurans', 'alkalihalobacillus halodurans c-125', 'alkalihalobacillus hemicellulosilyticus', 'alkalihalobacillus hwajinpoensis', 'alkalihalobacillus murimartini', 'alkalihalobacillus okhensis', 'alkalihalobacillus oshimensis', 'alkalihalobacillus patagoniensis', 'alkalihalobacillus plakortidis', 'alkalihalobacillus pseudalcaliphilus', 'alkalihalobacillus pseudofirmus', 'alkalihalobacillus wakoensis', 'alkalilactibacillus ikkensis', 'alkalilimnicola ehrlichii', 'alkalilimnicola ehrlichii mlhe-1', 'alkaliphilus metalliredigens', 'alkaliphilus metalliredigens qymf', 'alkaliphilus oremlandii', 'alkaliphilus oremlandii ohilas', 'alliaria petiolata tymovirus', 'alligator mississippiensis', 'alligator sinensis', 'allium', 'allium ampeloprasum', 'allium ascalonicum', 'allium cepa', 'allium chinense', 'allium fistulosum', 'allium macrostemon', 'allium sativum', 'allium tuberosum', 'allobates brunneus', 'allochromatium vinosum', 'allochromatium vinosum dsm 180', 'alloiococcus otitis', 'alloprevotella rava', 'alloprevotella sp.', 'alloprevotella tannerae', 'alloprevotella tannerae atcc 51259', 'alloscardovia criceti', 'alloscardovia omnicolens', 'alloscardovia sp.', 'alloscardovia sp. ob7196', 'alnus', 'alnus firma', 'alnus glutinosa', 'aloe arborescens', 'aloe vera', 'alopecurus', 'alopecurus myosuroides', 'alpha proteobacterium u9-1i', 'alphacryptovirus', 'alphainfluenzavirus', 'alphapapillomavirus 12', 'alphapapillomavirus 13', 'alphapapillomavirus 7', 'alphapapillomavirus 9', 'alphaproteobacteria', 'alphaproteobacteria bacterium', 'alphavirus', 'alpinia calcarata', 'alpinia formosana', 'alpinia officinarum', 'alpinia shimadae', 'alpinia uraiensis', 'alstroemeria caryophyllaea', 'alternanthera mosaic virus', 'alternaria alternata', 'alternaria atra', 'alternaria botrytis', 'alternaria brassicae', 'alternaria brassicicola', 'alternaria chartarum', 'alternaria compacta', 'alternaria dianthi', 'alternaria indefessa', 'alternaria infectoria', 'alternaria longipes', 'alternaria mali', 'alternaria sesami', 'alternaria solani', 'alternaria sp.', 'alternaria tenuissima', 'alteromonadaceae bacterium sn-1009', 'alteromonadales bacterium tw-7', 'alteromonas macleodii', 'alteromonas macleodii atcc 27126', 'alteromonas mediterranea de', 'alteromonas sp.', 'alteromonas sp. gnum-1', 'alvikia littoralis', 'alvinella caudata', 'alvinella pompejana', 'alvinella pompejana epibiont 6c6', 'alysiella crassa', 'alytes obstetricans', 'amanita muscaria', 'amaranthus', 'amaranthus blitum subsp. oleraceus', 'amaranthus cruentus', 'amaranthus graecizans', 'amaranthus hybridus', 'amaranthus hypochondriacus', 'amaranthus palmeri', 'amaranthus powellii', 'amaranthus retroflexus', 'amaranthus spinosus', 'amaranthus thunbergii', 'amaranthus tuberculatus', 'amaranthus viridis', 'amblyomma americanum', 'amblyomma cajennense', 'amblyomma variegatum', 'amborella trichopoda', 'ambrosia artemisiifolia', 'ambrosia trifida', 'ambrosiozyma monospora', 'ambystoma mexicanum', 'amedibacillus dolichus', 'amedibacillus dolichus dsm 3991', 'ameiurus nebulosus', 'americamysis bahia', 'amesia atrobrunnea', 'aminomonas paucivorans', 'ammi majus', 'ammonifex degensii', 'ammoniphilus', 'ammopiptanthus mongolicus', 'ammotragus lervia', 'amoeba', 'amorpha fruticosa', 'amorphophallus konjac', 'amorphotheca resinae', 'amphibacillus sediminis', 'amphibacillus xylanus', 'amphibalanus amphitrite', 'amphibalanus eburneus', 'amphimedon queenslandica', 'amsacta moorei entomopoxvirus', 'amycolatopsis', 'amycolatopsis azurea', 'amycolatopsis balhimycina', 'amycolatopsis lactamdurans', 'amycolatopsis lurida', 'amycolatopsis mediterranei', 'amycolatopsis mediterranei u32', 'amycolatopsis methanolica', 'amycolatopsis orientalis', 'amycolatopsis sacchari', 'amycolatopsis sp.', 'amycolatopsis sp. hr167', 'amycolatopsis sp. k104-1', 'amyelois transitella', 'amylomyces rouxii', 'anabaena', 'anabaena cylindrica pcc 7122', 'anabaena laxa', 'anabaena pcc 7120', 'anabaena phage n-1', 'anabaena sp.', 'anacardium occidentale', 'anadara broughtonii', 'anaerobiospirillum succiniciproducens', 'anaerobiospirillum thomasii', 'anaerobranca gottschalkii', 'anaerobutyricum hallii', 'anaerococcus hydrogenalis', 'anaerococcus hydrogenalis dsm 7454', 'anaerococcus lactolyticus', 'anaerococcus lactolyticus atcc 51172', 'anaerococcus octavius', 'anaerococcus prevotii', 'anaerococcus prevotii dsm 20548', 'anaerococcus senegalensis', 'anaerococcus sp.', 'anaerococcus sp. 8405254', 'anaerococcus sp. 9401487', 'anaerococcus sp. gpac199', 'anaerococcus tetradius', 'anaerococcus tetradius atcc 35098', 'anaerococcus vaginalis', 'anaerococcus vaginalis atcc 51170', 'anaerofilum sp.', 'anaerofustis stercorihominis', 'anaeroglobus geminatus', 'anaerolinea thermophila', 'anaerolinea thermophila uni-1', 'anaeromassilibacillus senegalensis', 'anaeromassilibacillus sp.', 'anaeromyxobacter', 'anaeromyxobacter dehalogenans', 'anaeromyxobacter dehalogenans 2cp-c', 'anaeromyxobacter sp. fw109-5', 'anaerorhabdus furcosa', 'anaerosporobacter mobilis', 'anaerostipes', 'anaerostipes caccae', 'anaerostipes caccae l1-92', 'anaerostipes hadrus', 'anaerostipes rhamnosivorans', 'anaerostipes sp.', 'anaerotignum lactatifermentans', 'anaerotignum propionicum', 'anaerotruncus colihominis', 'anaerotruncus rubiinfantis', 'anaerotruncus sp.', 'anaerovibrio sp. rm50', 'ananas comosus', 'anaphothrips obscurus', 'anaplasma centrale', 'anaplasma marginale', 'anaplasma marginale str. st. maries', 'anaplasma phagocytophilum', 'anaplasma phagocytophilum str. hz', 'anaplasma platys', 'anas crecca', 'anas platyrhynchos', 'anas sp.', 'anastrepha ludens', 'anastrepha suspensa', 'ancylobacter aquaticus', 'ancylostoma', 'ancylostoma caninum', 'ancylostoma ceylanicum', 'ancylostoma duodenale', 'and method of identifying organism.organism  synthetic construct', 'andes orthohantavirus', 'anditalea andensis', 'andreprevotia chitinilytica', 'andropogon gerardi', 'anemone leveillei', 'anemonia manjano', 'anemonia sulcata', 'anemonia viridis', 'anethum foeniculum', 'anethum graveolens', 'aneurinibacillus aneurinilyticus', 'aneurinibacillus migulanus', 'aneurinibacillus thermoaerophilus', 'angelakisella massiliensis', 'angelica acutiloba', 'angelica dahurica var. formosana', 'angelica decursiva', 'angelica gigas', 'angelica pubescens', 'angelica sinensis', 'angiopteris evecta', 'anguilla anguilla', 'anguilla japonica', 'anisakis simplex', 'anisodus tanguticus', 'annona senegalensis', 'anolis carolinensis', 'anopheles', 'anopheles albimanus', 'anopheles arabiensis', 'anopheles darlingi', 'anopheles funestus', 'anopheles gambiae', 'anopheles gambiae str. pest', 'anopheles merus', 'anopheles minimus', 'anopheles moucheti', 'anopheles nili', 'anopheles pseudopunctipennis', 'anopheles sacharovi', 'anopheles stephensi', 'anopheles sundaicus', 'anoplophora glabripennis', 'anoxybacillus caldiproteolyticus', 'anoxybacillus flavithermus', 'anoxybacillus flavithermus wk1', 'anoxybacillus gonensis', 'anoxybacillus rupiensis', 'anoxybacillus tepidamans', 'anoxybacillus toebii', 'anser anser', 'anser cygnoides', 'anser cygnoides domesticus', 'anser sp.', 'anteros formosus', 'antheraea pernyi', 'antheraea yamamai', 'anthoathecata', 'anthonomus grandis', 'anthopleura', 'anthoxanthum odoratum', 'anthozoa', 'anthracoceros albirostris', 'anthrax', 'anthriscus cerefolium', 'anthurium andraeanum', 'anti-hpv16 e7 antibody light chain', 'anti-hpv16-e7 antibody heavy chain', 'anticarsia gemmatalis nucleopolyhedrovirus', 'antigone antigone antigone', 'antigone antigone gillae', 'antigone antigone sharpii', 'antigone canadensis canadensis', 'antigone canadensis pratensis', 'antigone canadensis rowani', 'antigone canadensis tabida', 'antilocapra americana', 'antilope cervicapra', 'antirrhinum majus', 'antonospora locustae', 'anura', 'anurida maritima', 'aotus trivirgatus', 'aphanomyces cochlioides', 'aphanothece halophytica', 'aphanothece sacrum', 'aphanothece sp.', 'aphelenchus avenae', 'aphid lethal paralysis virus', 'aphis citricidus', 'aphis fabae', 'aphis glycines', 'aphis gossypii', 'aphonopelma sp. wdb-1998', 'aphthovirus', 'apilactobacillus kunkeei', 'apiotrichum brassicae', 'apiotrichum domesticum', 'apiotrichum dulcitum', 'apiotrichum gracile', 'apiotrichum loubieri', 'apiotrichum montevideense', 'apiotrichum mycotoxinovorans', 'apiotrichum sporotrichoides', 'apis cerana', 'apis cerana indica', 'apis florea', 'apis mellifera', 'apis mellifera ligustica', 'apium graveolens', 'apium graveolens dulce group', 'aplysia', 'aplysia californica', 'aplysia kurodai', 'aplysia punctata', 'apoi virus', 'apophysomyces elegans', 'apple chlorotic leaf spot virus', 'apple fruit crinkle viroid', 'apple mosaic virus', 'aquamicrobium defluvii', 'aquamicrobium lusatiense', 'aquareovirus', 'aquaspirillum serpens', 'aquatica lateralis', 'aquicella', 'aquifex aeolicus', 'aquifex aeolicus vf5', 'aquifex pyrophilus', 'aquifex sp.', 'aquila chrysaetos', 'aquilaria crassna', 'aquilegia', 'aquilegia coerulea', 'aquilegia formosa', 'aquilegia formosa x aquilegia pubescens', 'aquilegia sp.', 'aquilegia vulgaris', 'aquimarina macrocephali', 'aquincola tertiaricarbonis', 'ara ararauna', 'arabidopsis', 'arabidopsis arenosa', 'arabidopsis arenosa x arabidopsis thaliana', 'arabidopsis cebennensis', 'arabidopsis halleri', 'arabidopsis lyrata', 'arabidopsis lyrata subsp. lyrata', 'arabidopsis sp.', 'arabidopsis suecica', 'arabidopsis thaliana', 'arabis alpina', 'arabis hirsuta', 'arachis diogoi', 'arachis hypogaea', 'arachis hypogaea subsp. hypogaea', 'arachis stenosperma', 'arachis villosa', 'arachnia propionica', 'arachnocampa flava', 'arachnocampa richardsae', 'arachnocampa tasmaniensis', 'arachnopeziza aurata', 'aralia cordata', 'aralia elata', 'araneus diadematus', 'araneus ventricosus', 'araschnia levana', 'arbacia punctulata', 'arcanobacterium haemolyticum', 'arcanobacterium haemolyticum dsm 20595', 'archaea', 'archaeoglobus fulgidus', 'archaeoglobus fulgidus dsm 4304', 'archaeoglobus lithotrophicus', 'archaeoglobus profundus', 'archaeoglobus veneficus', 'archangium disciforme', 'archangium violaceum', 'archiearis parthenias', 'archimantis monstrosa', 'arctic ground squirrel hepatitis b virus', 'arctium lappa', 'arctocephalus forsteri', 'arctocephalus gazella', 'arctoscopus japonicus', 'ardea cinerea', 'arenicola marina', 'arenimonas', 'arenimonas donghaensis', 'argania spinosa', 'argas monolakensis', 'argemone mexicana', 'argentinian mammarenavirus', 'argiope bruennichi', 'argiope sp. ep1647557', 'argiope trifasciata', 'argopecten irradians', 'argusianus argus', 'argyrotaenia velutinana', 'arisaema angustatum', 'arisaema elephas', 'arisaema erubescens', 'arisaema heterophyllum', 'arisaema wattii', 'aristolochia fimbriata', 'armatimonas rosea', 'armillaria gallica', 'armillaria mellea', 'armillaria ostoyae', 'armillaria tabescens', 'armoracia rusticana', 'arnebia euchroma', 'aromatoleum aromaticum', 'aromatoleum aromaticum ebn1', 'aromatoleum evansii', 'aromatoleum toluvorans', 'arquita celendiniana', 'artemia', 'artemia franciscana', 'artemia sp.', 'artemisia annua', 'artemisia tridentata', 'artemisia vulgaris', 'arthrinium sp.', 'arthrinium sp. bsre1b_1.1', 'arthrobacter', 'arthrobacter agilis', 'arthrobacter citreus', 'arthrobacter crystallopoietes', 'arthrobacter globiformis', 'arthrobacter pascens', 'arthrobacter psychrolactophilus', 'arthrobacter ramosus', 'arthrobacter sp.', 'arthrobacter sp. bp2', 'arthrobacter sp. f2', 'arthrobacter sp. fb24', 'arthrobacter sp. knk168', 'arthrobacter sp. leaf145', 'arthrobacter sp. mwb30', 'arthrobacter sp. nrrl b3728', 'arthrobacter sp. ss-24', 'arthrobacter sp. te1826', 'arthrobacter sp. thg s7-9', 'arthrobacter woluwensis', 'arthrobotrys flagrans', 'arthrospira pcc 7145', 'arthrospira platensis', 'arthrospira platensis fachb-341', 'arthrospira platensis nies-39', 'artic ground squirrel hepatitis b virus', 'artichoke italian latent virus', 'artichoke latent virus', 'artichoke mottled crinkle virus', 'artificial sequence sequencesequence', 'artificial sequences', 'artificial sequencesorganism detection and identification', 'artificial sequencesorganisms', 'artomyces pyxidatus', 'arundo donax', 'arv-138', 'arv-176', 'asaccharospora irregularis', 'ascaris lumbricoides', 'ascaris suum', 'ascidia sydneiensis samea', 'asclepias syriaca', 'ascomycota', 'ascosphaera apis', 'ascospirella lutea', 'asellus aquaticus', 'asio flammeus', 'asio otus', 'asparagus cochinchinensis', 'asparagus kiusianus', 'asparagus lycopodineus', 'asparagus officinalis', 'asparagus racemosus', 'asparagus schoberioides', 'aspergillus', 'aspergillus aculeatus', 'aspergillus amstelodami', 'aspergillus aureoterreus', 'aspergillus awamori', 'aspergillus bisporus', 'aspergillus brunneouniseriatus', 'aspergillus brunneus', 'aspergillus calidoustus', 'aspergillus candidus', 'aspergillus carbonarius', 'aspergillus carneus', 'aspergillus chevalieri', 'aspergillus clavatus', 'aspergillus clavatus nrrl 1', 'aspergillus cristatus', 'aspergillus fennelliae', 'aspergillus ficuum', 'aspergillus fischeri', 'aspergillus fischeri nrrl 181', 'aspergillus flavipes', 'aspergillus flavus', 'aspergillus fumigatus', 'aspergillus fumigatus af293', 'aspergillus giganteus', 'aspergillus glaucus', 'aspergillus granulosus', 'aspergillus hiratsukae', 'aspergillus iizukae', 'aspergillus japonicus', 'aspergillus lentulus', 'aspergillus luchuensis', 'aspergillus neoglaber', 'aspergillus nidulans', 'aspergillus nidulans fgsc a4', 'aspergillus niger', 'aspergillus niger cbs 513.88', 'aspergillus niger var. macrosporus', 'aspergillus nishimurae', 'aspergillus niveus', 'aspergillus nomiae', 'aspergillus ochraceoroseus', 'aspergillus ochraceus', 'aspergillus oryzae', 'aspergillus oryzae rib40', 'aspergillus oryzae var. brunneus', 'aspergillus parasiticus', 'aspergillus penicillioides', 'aspergillus persii', 'aspergillus primulinus', 'aspergillus pseudoglaucus', 'aspergillus quadricinctus', 'aspergillus rambellii', 'aspergillus restrictus', 'aspergillus ruber', 'aspergillus sojae', 'aspergillus sp.', 'aspergillus sp. wo2006079655', 'aspergillus sp. wo2008015263', 'aspergillus spinosus', 'aspergillus stramenius', 'aspergillus sydowii', 'aspergillus tamarii', 'aspergillus terreus', 'aspergillus terreus nih2624', 'aspergillus thermomutatus', 'aspergillus tubingensis', 'aspergillus udagawae', 'aspergillus usamii', 'aspergillus ustus', 'aspergillus versicolor', 'aspergillus wentii', 'aspidoscelis uniparens', 'asplenium australasicum', 'asplenium nidus', 'asplenium scolopendrium', 'asplenium trichomanes', 'asplenium x kenzoi', \"aster yellows witches'-broom phytoplasma\", \"aster yellows witches'-broom phytoplasma aywb\", 'asticcacaulis', 'asticcacaulis biprosthecium', 'asticcacaulis excentricus', 'astragalus membranaceus', 'astragalus mongholicus', 'astragalus monumentalis', 'astragalus penduliflorus', 'astragalus sinicus', 'astronotus ocellatus', 'astrosclera willeyana', 'astrovirus sp.', 'ateles geoffroyi', 'ateline gammaherpesvirus 3', 'athelia rolfsii', 'athroisma gracile', 'atkinsonella hypoxylon', 'atlantibacter hermannii', 'atlantibacter hermannii nbrc 105704', 'atopobium minutum', 'atopobium sp.', 'atopobium sp. bs2', 'atopobium sp. f0209', 'atopobium sp. icm42b10', 'atopobium sp. icm57', 'atractylodes chinensis', 'atractylodes lancea', 'atractylodes macrocephala', 'atractylodes mottle virus', 'atrax robustus', 'atriplex centralasiatica', 'atriplex hortensis', 'atriplex nummularia', 'atriplex prostrata', 'atropa belladonna', 'atrophaneura alcinous', 'aura virus', 'aurantimonas', 'aurantimonas manganoxydans', 'aurantimonas manganoxydans si85-9a1', 'aurantimonas sp.', 'aurantiochytrium', 'aurantiochytrium limacinum', 'aurantiochytrium sp.', 'aurantiochytrium sp. oh4', 'aureimonas altamirensis', 'aureispira marina', 'aurelia aurita', 'aureobasidium caulivorum', 'aureobasidium pullulans', 'aureobasidium sp.', 'aureobasidium zeae', 'aureococcus anophagefferens', 'auritidibacter ignavus', 'australian bat lyssavirus', 'australian grapevine viroid', 'australodrepa oceanicum timorense', 'austrofundulus limnaeus', 'austrominius modestus', 'austwickia chelonae', 'autographa californica', 'autographa californica nucleopolyhedrovirus', 'auxarthron filamentosum', 'auxenochlorella protothecoides', 'auxenochlorella pyrenoidosa', 'avastrovirus', 'avena barbata', 'avena clauda', 'avena fatua', 'avena longiglumis', 'avena magna', 'avena prostrata', 'avena sativa', 'avena sp.', 'avena strigosa', 'avena ventricosa', 'averyella dalhousiensis', 'aves', 'avian adeno-associated virus atcc vr-865', 'avian adeno-associated virus strain da-1', 'avian bornavirus', 'avian carcinoma virus', 'avian endogenous retrovirus eav-hp', 'avian erythroblastosis virus', 'avian leukosis virus', 'avian metaavulavirus 10', 'avian metaavulavirus 6', 'avian metapneumovirus', 'avian myeloblastosis virus', 'avian myeloblastosis-associated virus', 'avian myelocytomatosis virus', 'avian nephritis virus 1', 'avian orthoavulavirus 1', 'avian orthoreovirus', 'avian retrovirus', 'avian sarcoma virus', 'avibacterium paragallinarum', 'avicennia marina', 'avicularia', 'avipoxvirus', 'avocado sunblotch viroid', 'aythya americana', 'azadinium', 'azoarcus', 'azoarcus communis', 'azoarcus olearius', 'azoarcus sp.', 'azohydromonas lata', 'azorhizobium caulinodans', 'azospirillum', 'azospirillum brasilense', 'azospirillum lipoferum', 'azospirillum sp.', 'azospirillum sp. b510', 'azotobacter', 'azotobacter chroococcum (strain mcd 1)', 'azotobacter vinelandii', 'azotobacter vinelandii ca', 'azotobacter vinelandii dj', 'b. agradhaerans', 'b. akibai', 'b. clarkii', 'b. gibsonii', 'babesia', 'babesia bigemina', 'babesia bovis', 'babesia bovis t2bo', 'babesia caballi', 'babesia canis', 'babesia canis rossi', 'babesia divergens', 'babesia gibsoni', 'babesia microti', 'babesia motasi', 'babesia sp.', 'baboon endogenous retrovirus', 'baboon endogenous virus', 'baboon gamma-herpesvirus', 'baboon orthoreovirus', 'babyrousa babyrussa', 'baccharis dracunculifolia', 'bacillus <bacterium>', 'bacillus acidopullulyticus', 'bacillus aeolius', 'bacillus aerius', 'bacillus aerophilus', 'bacillus aestuarii', 'bacillus altitudinis', 'bacillus amyloliquefaciens', 'bacillus amyloliquefaciens dsm 7 = atcc 23350', 'bacillus anthracis', \"bacillus anthracis str. 'ames ancestor'\", 'bacillus anthracis str. 4229', 'bacillus anthracis str. a2012', 'bacillus anthracis str. ames', 'bacillus anthracis str. h9401', 'bacillus anthracis str. sterne', 'bacillus atrophaeus', 'bacillus atrophaeus 1942', 'bacillus badius', 'bacillus cecembensis', 'bacillus cereus', 'bacillus cereus ah187', 'bacillus cereus ah621', 'bacillus cereus atcc 10987', 'bacillus cereus atcc 14579', 'bacillus cereus bgsc 6e1', 'bacillus cereus e33l', 'bacillus cereus g9241', 'bacillus cereus group', 'bacillus coahuilensis m4-4', 'bacillus cytotoxicus', 'bacillus deramificans', 'bacillus flavocaldarius', 'bacillus horikoshii dsm 6951', 'bacillus horikoshii dsm 9711', 'bacillus horikoshii dsm 9712', 'bacillus horti', 'bacillus licheniformis', 'bacillus licheniformis dsm 13 = atcc 14580', 'bacillus licheniformis lmg 7559', 'bacillus megaterium (atcc 14581)', 'bacillus methanolicus', 'bacillus methanolicus mga3', 'bacillus methanolicus pb1', 'bacillus mojavensis', 'bacillus mycoides', 'bacillus mycoides kbab4', 'bacillus mycoides rock3-17', 'bacillus niameyensis', 'bacillus paralicheniformis', 'bacillus phage ga1', 'bacillus phage m2', 'bacillus phage pbsx', 'bacillus phage phi105', 'bacillus phage phi29', 'bacillus phage phi3t', 'bacillus phage sf5', 'bacillus phage sp82', 'bacillus phage spo1', 'bacillus phage spp1', 'bacillus pichinotyi', 'bacillus pseudalcaliphilus dsm 8725', 'bacillus pseudomycoides', 'bacillus pumilus', 'bacillus pumilus (wildtyp)', 'bacillus pumilus atcc 7061', 'bacillus pumilus safr-032', 'bacillus racemilacticus', 'bacillus rossius', 'bacillus rotans', 'bacillus safensis', 'bacillus serositidis', 'bacillus smithii', 'bacillus sonorensis', 'bacillus sp. (in: bacteria)', 'bacillus sp. 1m5', 'bacillus sp. 2_a_57_ct2', 'bacillus sp. 7-16aia', 'bacillus sp. 707', 'bacillus sp. 9-3aia', 'bacillus sp. a 7-7', 'bacillus sp. ace160', 'bacillus sp. b14905', 'bacillus sp. be506', 'bacillus sp. brc1', 'bacillus sp. bt1b_ct2', 'bacillus sp. cbw4', 'bacillus sp. d6', 'bacillus sp. eb01', 'bacillus sp. ebw4', 'bacillus sp. fjat-29814', 'bacillus sp. gb1.1', 'bacillus sp. h-257', 'bacillus sp. hu19.1', 'bacillus sp. hu29', 'bacillus sp. hu33.1', 'bacillus sp. int005', 'bacillus sp. jamb750', 'bacillus sp. ksm-635', 'bacillus sp. ksm-64', 'bacillus sp. ksm-9865', 'bacillus sp. ksm-ap1378', 'bacillus sp. ksm-k36', 'bacillus sp. ksm-k38', 'bacillus sp. ksm-kp43', 'bacillus sp. ksm-ld1', 'bacillus sp. ksm-p15', 'bacillus sp. ksm-s237', 'bacillus sp. m3-13', 'bacillus sp. nbl420', 'bacillus sp. ncib 12512', 'bacillus sp. ncib 12513', 'bacillus sp. nrrl b-14911', 'bacillus sp. oral taxon f26', 'bacillus sp. oral taxon f28', 'bacillus sp. oxb-1', 'bacillus sp. oy1-2', 'bacillus sp. p 203', 'bacillus sp. pd498', 'bacillus sp. phsp-k38', 'bacillus sp. ps3', 'bacillus sp. sd521', 'bacillus sp. seag 1', 'bacillus sp. sg-1', 'bacillus sp. src_dsf10', 'bacillus sp. src_dsf2', 'bacillus sp. src_dsf6', 'bacillus sp. strain lg12', 'bacillus sp. swt211', 'bacillus sp. tat105', 'bacillus sp. tat112', 'bacillus sp. tb-90', 'bacillus sp. tc09', 'bacillus sp. ts25', 'bacillus sp. wdg290', 'bacillus sp. y', 'bacillus spec', 'bacillus spizizenii', 'bacillus subtilis', 'bacillus subtilis subsp. krictiensis', 'bacillus subtilis subsp. natto', 'bacillus subtilis subsp. spizizenii atcc 6633 = jcm 2499', 'bacillus subtilis subsp. subtilis', 'bacillus subtilis subsp. subtilis str. 168', 'bacillus thermoproteolyticus', 'bacillus thuringiensis', 'bacillus thuringiensis serovar aizawai', 'bacillus thuringiensis serovar entomocidus', 'bacillus thuringiensis serovar finitimus', 'bacillus thuringiensis serovar israelensis', 'bacillus thuringiensis serovar israelensis atcc 35646', 'bacillus thuringiensis serovar kurstaki', 'bacillus thuringiensis serovar kurstaki str. hd-1', 'bacillus thuringiensis serovar thuringiensis', 'bacillus vallismortis', 'bacillus velezensis', 'bacillus velezensis as43.3', 'bacillus velezensis fzb42', 'bacillus velezensis variant polyfermenticus', 'bacillus virus b103', 'bacillus virus phi29', 'bacillus virus spbeta', 'backhousia citriodora', 'bacteria', 'bacteria <prokaryote>', 'bacteriophage cj11', 'bacteriophage enterococcus faecalis ef12c29-ami', 'bacteriophage kccm11030p', 'bacteriophage lambda integrase', 'bacteriophage p1384', 'bacteriophage p1777', 'bacteriophage p1792', 'bacteriophage p1797', 'bacteriophage p1800', 'bacteriophage p1902', 'bacteriophage p1940', 'bacteriophage sp.', 'bacteroidaceae bacterium', 'bacteroidales bacterium', 'bacteroidales bacterium cf', 'bacteroidales genomosp. p1', 'bacteroidales genomosp. p2 oral clone mb1_g13', 'bacteroidales genomosp. p4 oral clone mb2_g17', 'bacteroidales genomosp. p5 oral clone mb2_p04', 'bacteroidales genomosp. p6 oral clone mb3_c19', 'bacteroidales genomosp. p7 oral clone mb3_p19', 'bacteroidales genomosp. p8 oral clone mb4_g15', 'bacteroides', 'bacteroides acidifaciens', 'bacteroides caccae', 'bacteroides cellulosilyticus', 'bacteroides cellulosilyticus dsm 14838', 'bacteroides clarus', 'bacteroides coprosuis', 'bacteroides denticanum', 'bacteroides eggerthii', 'bacteroides eggerthii dsm 20697', 'bacteroides faecis', 'bacteroides finegoldii', 'bacteroides fluxus', 'bacteroides fragilis', 'bacteroides fragilis 638r', 'bacteroides fragilis nctc 9343', 'bacteroides fragilis ych46', 'bacteroides gallinarum', 'bacteroides helcogenes', 'bacteroides helcogenes p 36-108', 'bacteroides heparinolyticus', 'bacteroides intestinalis', 'bacteroides nordii', 'bacteroides oleiciplenus', 'bacteroides ovatus', 'bacteroides ovatus atcc 8483', 'bacteroides pyogenes', 'bacteroides rodentium', 'bacteroides salyersiae', 'bacteroides sp.', 'bacteroides sp. 1_1_14', 'bacteroides sp. 1_1_30', 'bacteroides sp. 2_1_22', 'bacteroides sp. 2_1_33b', 'bacteroides sp. 2_2_4', 'bacteroides sp. 315-5', 'bacteroides sp. 31sf15', 'bacteroides sp. 31sf18', 'bacteroides sp. 35ae31', 'bacteroides sp. 35ae37', 'bacteroides sp. 35be34', 'bacteroides sp. 35be35', 'bacteroides sp. 3_1_23', 'bacteroides sp. 3_1_33faa', 'bacteroides sp. 4_1_36', 'bacteroides sp. 4_3_47faa', 'bacteroides sp. 9_1_42faa', 'bacteroides sp. ar20', 'bacteroides sp. cag:144', 'bacteroides sp. cag:598', 'bacteroides sp. cag:661', 'bacteroides sp. d1', 'bacteroides sp. d22', 'bacteroides sp. wh2', 'bacteroides sp. xb12b', 'bacteroides stercoris', 'bacteroides stercoris atcc 43183', 'bacteroides thetaiotaomicron', 'bacteroides thetaiotaomicron vpi-5482', 'bacteroides uniformis', 'bacteroides uniformis atcc 8492', 'bacteroides xylanisolvens', 'bacteroidetes', 'bacteroidetes bacterium', 'bacteroidetes bacterium oral taxon d27', 'bacteroidetes bacterium oral taxon f31', 'bacteroidetes bacterium oral taxon f44', 'bacteroidetes oral taxon 274 str. f0058', 'bactrocera dorsalis', 'bactrocera tryoni', 'bactrocera zonata', 'baculovirus expression vector pultrabac-1', 'baculovirus transfer vector pachlt-a', 'baculovirus transfer vector pbacpak-his1', 'baculovirus transfer vector pfastbac1', 'badnavirus', 'bakterium megaterium atcc 145811', 'balaenoptera acutorostrata', 'balaenoptera acutorostrata scammoni', 'balaenoptera bonaerensis', 'balaenoptera borealis', 'balaenoptera edeni', 'balaenoptera musculus', 'balaenoptera physalus', 'balanus crenatus', 'balanus glandula', 'balanus rostratus', 'balanus trigonus', 'balb/c mouse', 'baliospermum montanum', 'bamboo mosaic virus', 'bambusa oldhamii', 'bambusa ventricosa', 'bambusicola thoracicus', 'banana streak virus', 'banana streak vn virus', 'bankia gouldi', 'barbarea verna', 'barbarea vulgaris', 'barbus barbus', 'bariatricus massiliensis', 'barley mild mosaic virus', 'barley stripe mosaic virus', 'barley yellow dwarf virus', 'barley yellow mosaic virus', 'barmah forest virus', 'barnadesia spinosa', 'barnesiella', 'barnesiella intestinihominis', 'barnesiella sp.', 'barnesiella viscericola', 'barnettozyma californica', 'baronia brevicornis', 'bartonella bacilliformis', 'bartonella grahamii', 'bartonella henselae', 'bartonella henselae str. houston-1', 'bartonella quintana', 'bartonella quintana str. toulouse', 'bartonella sp.', 'bartonella spp.', 'bartonella talpae', 'bartonella tamiae', 'bartonella tribocorum', 'bartonella washoeensis', 'bas-congo tibrovirus', 'basfia succiniciproducens', 'basidiobolus meristosporus', 'basidiobolus ranarum', 'basidiomycete pm1', 'basidiomycota', 'basidiomycota sp. cbs 494.95', 'basidiomycota sp. cbs 495.95', 'bassia scoparia', 'bat hepatitis virus', 'bat sars cov rp3/2004', 'bat sars-like coronavirus', 'batrachochytrium dendrobatidis', 'bauldia litoralis', 'baumannia cicadellinicola str. hc (homalodisca coagulata)', 'bdellovibrio bacteriovorus', 'bdellovibrio bacteriovorus hd100', 'bdellovibrio phage phimh2k', 'bdellovibrio sp.', 'bdellovibrio sp. mpa', 'beak and feather disease virus', 'bean yellow mosaic virus', 'beatragus hunteri', 'beauveria', 'beauveria bassiana', 'beauveria brongniartii', 'beauveria sp.', 'beet curly top virus', 'beet mild curly top virus', 'beet necrotic yellow vein virus', 'beet severe curly top virus', 'beet western yellows virus', 'beet yellow stunt virus', 'beet yellows virus', 'beggiatoa alba', 'beijerinckia indica', 'beijerinckia indica subsp. indica atcc 9039', 'belliella', 'bellis perennis', 'belomys pearsonii', 'bemisia argentifolii', 'bemisia tabaci', 'benedenia seriolae', 'benincasa hispida', 'berardius bairdii', 'berberis aquifolium', 'berberis stolonifera', 'berberis thunbergii', 'bergeriella denitrificans', 'bergeyella zoohelcum', 'berkeleyomyces basicola', 'bermanella marisrubri', 'beroe abyssicola', 'bertholletia excelsa', 'beta proteobacterium cdb21', 'beta vulgaris', 'beta vulgaris subsp. maritima', 'beta vulgaris subsp. vulgaris', 'betapapillomavirus 3', 'betula pendula', 'betula platyphylla', 'betula platyphylla var. japonica', 'beutenbergia cavernae', 'beutenbergia cavernae dsm 12333', 'bhargavaea cecembensis', 'biancaea decapetala', 'biancaea sappan', 'bibersteinia trehalosi', 'bibersteinia trehalosi usda-ars-usmarc-192', 'bicyclus anynana', 'bifidobacteriaceae genomosp. c1', 'bifidobacterium', 'bifidobacterium adolescentis', 'bifidobacterium adolescentis atcc 15703', 'bifidobacterium adolescentis l2-32', 'bifidobacterium angulatum', 'bifidobacterium angulatum dsm 20098 = jcm 7096', 'bifidobacterium animalis', 'bifidobacterium animalis subsp. lactis', 'bifidobacterium animalis subsp. lactis hn019', 'bifidobacterium asteroides', 'bifidobacterium bifidum', 'bifidobacterium bifidum ncimb 41171', 'bifidobacterium bombi', 'bifidobacterium breve', 'bifidobacterium breve dsm 20213 = jcm 1192', 'bifidobacterium catenulatum', 'bifidobacterium catenulatum dsm 16992 = jcm 1194 = lmg 11043', 'bifidobacterium catenulatum subsp. kashiwanohense', 'bifidobacterium catenulatum subsp. kashiwanohense jcm 15439 = dsm', 'bifidobacterium choerinum', 'bifidobacterium dentium', 'bifidobacterium dentium atcc 27678', 'bifidobacterium gallicum', 'bifidobacterium gallicum dsm 20093 = lmg 11596', 'bifidobacterium longum', 'bifidobacterium longum djo10a', 'bifidobacterium longum ncc2705', 'bifidobacterium longum subsp. infantis', 'bifidobacterium longum subsp. infantis atcc 15697 = jcm 1222 = dsm', 'bifidobacterium longum subsp. longum', 'bifidobacterium longum subsp. longum atcc 55813', 'bifidobacterium longum subsp. longum jcm 1217', 'bifidobacterium merycicum', 'bifidobacterium pseudocatenulatum', 'bifidobacterium pseudocatenulatum dsm 20438 = jcm 1200 = lmg 10505', 'bifidobacterium pseudolongum subsp. globosum', 'bifidobacterium pseudolongum subsp. pseudolongum', 'bifidobacterium psychraerophilum', 'bifidobacterium pullorum atcc 49618', 'bifidobacterium ruminantium', 'bifidobacterium scardovii', 'bifidobacterium sp.', 'bifidobacterium sp. cfar 172', 'bifidobacterium sp. msx5b', 'bifidobacterium sp. tm-7', 'bifidobacterium thermophilum', 'bigelowiella natans', 'bilophila', 'bilophila sp.', 'bilophila wadsworthia', 'biomphalaria glabrata', 'biphyllus lunatus', 'bipolaris', 'bipolaris maydis', 'bipolaris maydis atcc 48331', 'bipolaris maydis c5', 'bipolaris oryzae', 'bipolaris sorokiniana', 'bipolaris victoriae', 'bipolaris zeicola', 'birnaviridae', 'bison bison', 'bittarella massiliensis', 'bixa orellana', 'bjerkandera adusta', 'black beetle virus', 'black queen cell virus', 'blakeslea trispora', 'blastobotrys adeninivorans', 'blastochloris viridis', 'blastococcus sp.', 'blastocystis sp. atcc 50177/nand ii', 'blastomonas natatoria', 'blastomyces dermatitidis', 'blastomyces dermatitidis er-3', 'blastomyces gilchristii slh14081', 'blastomyces parvus', 'blastopirellula marina', 'blastopirellula marina dsm 3645', 'blatta orientalis', 'blattella germanica', 'blautia', 'blautia caecimuris', 'blautia coccoides', 'blautia glucerasea', 'blautia hansenii', 'blautia hydrogenotrophica', 'blautia hydrogenotrophica dsm 10507', 'blautia obeum', 'blautia obeum atcc 29174', 'blautia producta', 'blautia schinkii', 'blautia sp.', 'blautia sp. cag:52', 'blautia sp. canine oral taxon 143', 'blautia sp. kle 1732', 'blautia stercoris', 'blautia wexlerae', 'blepharisma japonicum', 'blomia tropicalis', 'blueberry red ringspot virus', 'bluetongue virus', 'bluetongue virus 1', 'bluetongue virus 10', 'bluetongue virus 17', 'bluetongue virus 26', 'blumeria graminis', 'blumeria graminis f. sp. tritici', 'bocaparvovirus', 'boechera', 'boechera holboellii', 'boechera stricta', 'boeremia lycopersici', 'bolbitis portoricensis', 'bolinopsis infundibulum', 'bombina bombina', 'bombina variegata', 'bombini', 'bombus ignitus', 'bombus impatiens', 'bombus terrestris', 'bombyx mandarina', 'bombyx mori', 'bombyx mori cypovirus 1', 'bombyx mori densovirus', 'bombyx mori densovirus 1', 'bombyx mori nucleopolyhedrovirus', 'borago officinalis', 'bordetella avium', 'bordetella bronchiseptica', 'bordetella bronchiseptica rb50', 'bordetella hinzii', 'bordetella holmesii', 'bordetella parapertussis', 'bordetella parapertussis 12822', 'bordetella pertussis', 'bordetella pertussis tohama i', 'bordetella petrii', 'bordetella sp.', 'bordetella trematum', 'borna disease virus', 'borrelia crocidurae', 'borrelia duttonii', 'borrelia duttonii ly', 'borrelia garinii subsp. bavariensis pbi', 'borrelia hermsii', 'borrelia hermsii dah', 'borrelia hermsii hs1', 'borrelia hispanica', 'borrelia lonestari', 'borrelia miyamotoi', 'borrelia persica', 'borrelia recurrentis', 'borrelia recurrentis a1', 'borrelia sp.', 'borrelia turicatae', 'borrelia turicatae 91e135', 'borreliella afzelii', 'borreliella afzelii aca-1', 'borreliella burgdorferi', 'borreliella burgdorferi b31', 'borreliella burgdorferi zs7', 'borreliella garinii', 'borreliella garinii far04', 'borreliella garinii subsp. bavariensis', 'borreliella sp. ne49', 'borreliella spielmanii', 'borreliella spielmanii a14s', 'borreliella valaisiana', 'borreliella valaisiana vs116', 'bos grunniens', 'bos indicus', 'bos javanicus', 'bos primigenius', 'bos sp.', 'bos taurus', 'bos taurus papillomavirus 2', 'bos taurus papillomavirus 4', 'bos taurus papillomavirus 6', 'bos taurus polyomavirus 1', 'bosea sp.', 'bosea thiooxidans', 'boselaphus tragocamelus', 'bostrychus sinensis', 'bothrops atrox', 'botryllus primigenus', 'botryllus schlosseri', 'botryococcus braunii', 'botryococcus braunii showa', 'botryococcus terribilis', 'botryosphaerella sudetica', 'botryosphaeria dothidea', 'botryotrichum piluliferum', 'botryotrichum verrucosum', 'botrypus virginianus', 'botrytis cinerea', 'botrytis cinerea b05.10', 'botrytis tulipae', 'bougainvillea glabra', 'bouteloua dactyloides', 'bouteloua gracilis', 'bovidae', 'bovine adeno-associated virus', 'bovine adenovirus 1', 'bovine adenovirus 3', 'bovine adenovirus 4', 'bovine alphaherpesvirus 1', 'bovine alphaherpesvirus 2', 'bovine alphaherpesvirus 5', 'bovine atadenovirus d', 'bovine circovirus', 'bovine coronavirus', 'bovine coronavirus ly-138', 'bovine cyclovirus', 'bovine ephemeral fever virus', 'bovine foamy virus', 'bovine gammaherpesvirus 4', 'bovine immunodeficiency virus', 'bovine kobuvirus', 'bovine leukemia virus', 'bovine mastadenovirus b', 'bovine orthopneumovirus', 'bovine papillomavirus', 'bovine papular stomatitis virus', 'bovine papular stomatitis virus strain v660', 'bovine parvovirus', 'bovine respirovirus 3', 'bovine rotavirus', 'bovine viral diarrhea virus 1', 'bovine viral diarrhea virus 2', 'bowdeniella nasicola', 'brachybacterium', 'brachybacterium conglomeratum', 'brachybacterium faecium', 'brachybacterium faecium dsm 4810', 'brachybacterium paraconglomeratum', 'brachycybe producta', 'brachymonas denitrificans', 'brachymonas petroleovorans', 'brachypodium distachyon', 'brachypodium sylvaticum', 'brachyspira', 'brachyspira aalborgi', 'brachyspira hampsonii 30446', 'brachyspira hyodysenteriae', 'brachyspira hyodysenteriae wa1', 'brachyspira innocens', 'brachyspira murdochii dsm 12563', 'brachyspira pilosicoli', 'brachyspira sp.', 'brachyspira sp. his4', 'brachyspira sp. his5', 'brachysporiella gayana', 'brackiella oedipodis', 'bradypus variegatus', 'bradyrhizobium', 'bradyrhizobium cosmicum', 'bradyrhizobium diazoefficiens', 'bradyrhizobium diazoefficiens usda 110', 'bradyrhizobium elkanii', 'bradyrhizobium japonicum', 'bradyrhizobium lupini', 'bradyrhizobium sp.', 'bradyrhizobium sp. btai1', 'bradyrhizobium sp. ors 278', 'branchiostegus albus', 'branchiostegus argentatus', 'branchiostegus auratus', 'branchiostegus japonicus', 'branchiostoma belcheri', 'branchiostoma belcheri tsingtauense', 'branchiostoma floridae', 'branchiostoma lanceolatum', 'brangas neora', 'brassica', 'brassica carinata', 'brassica cretica', 'brassica juncea', 'brassica napus', 'brassica napus var. napus', 'brassica napus; arabidopsis', 'brassica nigra', 'brassica oleracea', 'brassica oleracea var. alboglabra', 'brassica oleracea var. capitata', 'brassica oleracea var. italica', 'brassica oleracea var. oleracea', 'brassica oleracea var. viridis', 'brassica rapa', 'brassica rapa subsp. chinensis', 'brassica rapa subsp. oleifera', 'brassica rapa subsp. pekinensis', 'brassica sp.', 'brassicogethes aeneus', 'brenneria alni', 'brenneria rubrifaciens', 'brenneria salicis', 'brettanomyces anomalus', 'brettanomyces bruxellensis', 'brettanomyces custersianus', 'brevibacillus', 'brevibacillus agri', 'brevibacillus borstelensis', 'brevibacillus brevis', 'brevibacillus brevis nbrc 100599', 'brevibacillus choshinensis', 'brevibacillus ginsengisoli', 'brevibacillus invocatus', 'brevibacillus laterosporus', 'brevibacillus parabrevis', 'brevibacillus sp. gi-9', 'brevibacillus thermoruber', 'brevibacterium', 'brevibacterium casei', 'brevibacterium epidermidis', 'brevibacterium fuscum', 'brevibacterium linens', 'brevibacterium linens bl2', 'brevibacterium mcbrellneri', 'brevibacterium paucivorans', 'brevibacterium sanguinis', 'brevibacterium senegalense', 'brevibacterium sp.', 'brevibacterium sp. h15', 'brevibacterium sp. hcu', 'brevibacterium sterolicum', 'brevicoryne brassicae', 'brevundimonas', 'brevundimonas aurantiaca', 'brevundimonas bacteroides', 'brevundimonas bullata', 'brevundimonas diminuta', 'brevundimonas naejangsanensis', 'brevundimonas sp.', 'brevundimonas sp. nbrc 101024', 'brevundimonas subvibrioides', 'brevundimonas vesicularis', 'broad bean wilt virus 2', 'brochothrix', 'brochothrix campestris', 'brochothrix thermosphacta', 'brome mosaic virus', 'bromheadia finlaysoniana', 'bromus inermis', 'bromus secalinus', 'broussonetia papyrifera', 'brucella', 'brucella abortus', 'brucella abortus bv. 1 str. 9-941', 'brucella anthropi', 'brucella anthropi atcc 49188', 'brucella canis', 'brucella ceti', 'brucella cytisi', 'brucella grignonensis', 'brucella inopinata bo1', 'brucella intermedia', 'brucella intermedia lmg 3301', 'brucella lupini', 'brucella melitensis', 'brucella melitensis bv. 1 str. 16m', 'brucella microti', 'brucella microti ccm 4915', 'brucella neotomae', 'brucella oryzae', 'brucella ovis', 'brucella pseudintermedia', 'brucella sp.', 'brucella sp. 83/13', 'brucella suis', 'brucella suis 1330', 'brucellaceae', 'brugia malayi', 'brugia pahangi', 'bruguiera gymnorhiza', 'bruguiera sexangula', 'bryopsis corticulans', 'bryopsis maxima', 'bubalus bubalis', 'bubalus mindorensis', 'bubo bubo', 'buceros rhinoceros silvestris', 'buchnera aphidicola', 'buchnera aphidicola (schizaphis graminum)', 'buchnera aphidicola bcc', 'buchnera aphidicola str. ak (acyrthosiphon kondoi)', 'buchnera aphidicola str. aps (acyrthosiphon pisum)', 'buchnera aphidicola str. bp (baizongia pistaciae)', 'buchnera aphidicola str. g002 (myzus persicae)', 'buchnera aphidicola str. sg (schizaphis graminum)', 'buchnera aphidicola str. ua (uroleucon ambrosiae)', 'buchnera sp.', 'buckleyzyma aurantiaca', 'budorcas taxicolor', 'budorcas taxicolor taxicolor', 'budvicia aquatica', 'bufo bufo', 'bufo gargarizans', 'bufotes viridis', 'bulinus truncatus', 'bulleidia extructa', 'bullera alba', 'bundibugyo ebolavirus', 'bungarus fasciatus', 'bungarus multicinctus', 'bunyamwera virus', 'bupleurum', 'bupleurum bicaule', 'bupleurum chinense', 'bupleurum falcatum', 'bupleurum ranunculoides', 'bupleurum scorzonerifolium', 'bupleurum smithii', 'burkholderia', 'burkholderia ambifaria', 'burkholderia ambifaria ammd', 'burkholderia ambifaria mc40-6', 'burkholderia arboris', 'burkholderia cenocepacia', 'burkholderia cenocepacia au 1054', 'burkholderia cenocepacia hi2424', 'burkholderia cenocepacia j2315', 'burkholderia cenocepacia mc0-3', 'burkholderia cenocepacia pc184', 'burkholderia cepacia', 'burkholderia cepacia complex', 'burkholderia contaminans', 'burkholderia dolosa', 'burkholderia dolosa au0158', 'burkholderia gladioli', 'burkholderia glumae', 'burkholderia lata', 'burkholderia mallei', 'burkholderia mallei atcc 10399', 'burkholderia mallei atcc 23344', 'burkholderia mallei fmh', 'burkholderia mallei jhu', 'burkholderia mallei nctc 10229', 'burkholderia metallica', 'burkholderia multivorans', 'burkholderia multivorans atcc 17616', 'burkholderia oklahomensis', 'burkholderia oklahomensis c6786', 'burkholderia phage bcep22', 'burkholderia plantarii', 'burkholderia pseudomallei', 'burkholderia pseudomallei 1026b', 'burkholderia pseudomallei 1106a', 'burkholderia pseudomallei 1655', 'burkholderia pseudomallei 1710a', 'burkholderia pseudomallei 1710b', 'burkholderia pseudomallei 305', 'burkholderia pseudomallei 668', 'burkholderia pseudomallei k96243', 'burkholderia pseudomallei s13', 'burkholderia pseudomultivorans', 'burkholderia rinojensis', 'burkholderia singularis', 'burkholderia sp.', 'burkholderia sp. 130f', 'burkholderia sp. fa1', 'burkholderia sp. ferm bp-3421', 'burkholderia sp. h160', 'burkholderia sp. sj98', 'burkholderia spp', 'burkholderia stabilis', 'burkholderia stagnalis', 'burkholderia thailandensis', 'burkholderia thailandensis e264', 'burkholderia ubonensis', 'burkholderia ubonensis subsp. mesacidophila', 'burkholderia vietnamiensis', 'burkholderia vietnamiensis g4', 'burkholderiales bacterium 1_1_47', 'burkholderiales genera incertae sedis', 'bursaphelenchus xylophilus', 'buteo buteo', 'buteo japonicus', 'buttiauxella', 'buttiauxella agrestis', 'buttiauxella agrestis atcc 33320', 'buttiauxella brennerae', 'buttiauxella ferragutiae', 'buttiauxella gaviniae', 'buttiauxella izardii', 'buttiauxella noackiae', 'buttiauxella sp.', 'buttiauxella warmboldiae', 'butyrate-producing bacterium sm4/1', 'butyribacter intestini', 'butyricicoccus', 'butyricicoccus porcorum', 'butyricimonas sp.', 'butyricimonas virosa', 'butyrivibrio crossotus', 'butyrivibrio crossotus dsm 2876', 'butyrivibrio fibrisolvens', 'butyrivibrio sp.', 'butyrivibrio sp. nc3005', 'buxus microphylla', 'buzura suppressaria nucleopolyhedrovirus', 'byssocorticium', 'byssovorax cruenta', 'bythograea thermydron', 'c. acetobutylicum', 'c. botulinum', 'c. burnetii', 'c. pneumoniae', 'c.diphtheriae', 'caballeronia glathei', 'cabomba caroliniana', 'cacao swollen shoot virus', 'caenispirillum salinarum', 'caenorhabditis brenneri', 'caenorhabditis briggsae', 'caenorhabditis elegans', 'caenorhabditis inopinata', 'caenorhabditis japonica', 'caenorhabditis remanei', 'caesalpinia anacantha', 'caesalpinia barahonensis', 'caesalpinia brasiliensis', 'caiman crocodilus', 'cairina moschata', 'cajanus cajan', 'caldalkalibacillus thermarum ta2.a1', 'caldanaerobacter subterraneus', 'caldanaerobacter subterraneus subsp. pacificus', 'caldanaerobacter subterraneus subsp. tengcongensis', 'caldanaerobacter subterraneus subsp. tengcongensis mb4', 'caldibacillus thermoamylovorans', 'caldicellulosiruptor', 'caldicellulosiruptor acetigenus', 'caldicellulosiruptor bescii', 'caldicellulosiruptor bescii dsm 6725', 'caldicellulosiruptor hydrothermalis', 'caldicellulosiruptor kronotskyensis', 'caldicellulosiruptor obsidiansis', 'caldicellulosiruptor saccharolyticus', 'caldicellulosiruptor saccharolyticus dsm 8903', 'caldicoprobacter', 'caldilinea aerophila', 'caldimonas manganoxidans', 'calditerrivibrio nitroreducens', 'caldithrix abyssi', 'calditrix abyssi', 'caldivirga maquilingensis', 'calendula officinalis', 'cali mammarenavirus', 'calicivirus strain nb', 'california encephalitis virus', 'caligus rogercresseyi', 'callimico goeldii', 'callinectes sapidus', 'calliphora vicina', 'calliphora vomitoria', 'calliphoridae', 'callistephus chinensis', 'callithrix jacchus', 'callithrix sp.', 'callitrichine gammaherpesvirus 3', 'callitropsis nootkatensis', 'callorhinchus milii', 'calloselasma rhodostoma', 'callosobruchus maculatus', 'calluna vulgaris', 'caloglossa continua', 'calomera littoralis', 'calomys callosus', 'calomyscus sp.', 'caloramator', 'caloramator australicus', 'caloramator viterbiensis', 'calosoma sycophanta sycophanta', 'calothrix sp.', 'calothrix sp. pcc 6303', 'caltha palustris', 'caluromys lanatus', 'calvatia turneri', 'calycanthus floridus var. glaucus', 'calystegia sepium', 'camedula lecontei marginale', 'camelidae', 'camelina microcarpa', 'camelina sativa', 'camellia brevistyla', 'camellia hiemalis', 'camellia saluenensis', 'camellia sinensis', 'camelpox virus', 'camelpox virus cms', 'camelpox virus m-96', 'camelus', 'camelus bactrianus', 'camelus dromedarius', 'camelus ferus', 'camelus sp.', 'caminibacter hydrogeniphilus', 'caminibacter mediatlanticus', 'caminibacter mediatlanticus tb-2', 'caminicella sporogenes', 'campalita chinense', 'campanula medium', 'camponotus floridanus', 'camptotheca acuminata', 'campylobacter', 'campylobacter coli', 'campylobacter coli rm2228', 'campylobacter concisus', 'campylobacter concisus 13826', 'campylobacter curvus', 'campylobacter curvus 525.92', 'campylobacter fetus', 'campylobacter fetus subsp. fetus', 'campylobacter fetus subsp. fetus 82-40', 'campylobacter fetus subsp. testudinum sp3', 'campylobacter fetus subsp. venerealis', 'campylobacter gracilis', 'campylobacter gracilis rm3268', 'campylobacter hominis', 'campylobacter hominis atcc baa-381', 'campylobacter hyointestinalis', 'campylobacter jejuni', 'campylobacter jejuni rm1221', 'campylobacter jejuni subsp. doylei', 'campylobacter jejuni subsp. jejuni', 'campylobacter jejuni subsp. jejuni 260.94', 'campylobacter jejuni subsp. jejuni 81-176', 'campylobacter jejuni subsp. jejuni 81116', 'campylobacter jejuni subsp. jejuni atcc 33560', 'campylobacter jejuni subsp. jejuni cg8486', 'campylobacter jejuni subsp. jejuni nctc 11168 = atcc 700819', 'campylobacter lari', 'campylobacter lari rm2100', 'campylobacter rectus', 'campylobacter showae', 'campylobacter showae rm3277', 'campylobacter sp.', 'campylobacter sp. fobrc14', 'campylobacter sp. fobrc15', 'campylobacter sputorum', 'campylobacter sputorum biovar sputorum', 'campylobacter upsaliensis', 'campylobacter upsaliensis rm3195', 'campylobacter ureolyticus', 'canariomyces arenarius', 'canariomyces microsporus', 'canary circovirus', 'canarypox virus', 'canavalia ensiformis', 'canavalia lineata', 'candida', 'candida albicans', 'candida albicans sc5314', 'candida dubliniensis', 'candida maltosa', 'candida metapsilosis', 'candida orthopsilosis', 'candida parapsilosis', 'candida sp. (in: saccharomycetales)', 'candida tropicalis', 'candida viswanathii', 'candidatus accumulibacter', 'candidatus accumulibacter phosphatis clade iia str. uw-1', 'candidatus annandia pinicola', 'candidatus arthromitus', 'candidatus arthromitus sp. sfb-mouse-yit', 'candidatus azobacteroides pseudotrichonymphae genomovar. cfp2', 'candidatus baumannia cicadellinicola', 'candidatus blochmannia floridanus', 'candidatus blochmannia pennsylvanicus str. bpen', 'candidatus carsonella', 'candidatus carsonella ruddii', 'candidatus cloacimonas acidaminovorans', 'candidatus desulforudis', 'candidatus desulforudis audaxviator mp104c', 'candidatus endobugula sertula', 'candidatus endoecteinascidia frumentensis', 'candidatus endomicrobium trichonymphae', 'candidatus entotheonella factor', 'candidatus filomicrobium marinum', 'candidatus fritschea bemisiae', 'candidatus hamiltonella defensa 5at (acyrthosiphon pisum)', 'candidatus hartigia pinicola', 'candidatus hodgkinia', 'candidatus jettenia caeni', 'candidatus korarchaeum', 'candidatus koribacter versatilis ellin345', 'candidatus kuenenia stuttgartiensis', 'candidatus legionella jeonii', 'candidatus liberibacter asiaticus', 'candidatus liberibacter solanacearum', 'candidatus methanomethylophilus alvus', 'candidatus methanomethylophilus alvus mx1201', 'candidatus methanoplasma termitum', 'candidatus methylomirabilis oxyfera', 'candidatus microgenomates', 'candidatus moranella endobia', 'candidatus mycoplasma haemominutum', 'candidatus mycoplasma turicensis', 'candidatus nasuia deltocephalinicola', 'candidatus nitrosarchaeum limnium', 'candidatus pelagibacter', 'candidatus pelagibacter ubique', 'candidatus pelagibacter ubique htcc1062', 'candidatus phlomobacter fragariae', 'candidatus phytoplasma aurantifolia', 'candidatus phytoplasma australiense', 'candidatus phytoplasma castaneae', 'candidatus phytoplasma mali', 'candidatus phytoplasma phoenicium', 'candidatus phytoplasma pruni', 'candidatus phytoplasma prunorum', 'candidatus phytoplasma pyri', 'candidatus phytoplasma sp.', 'candidatus phytoplasma vitis', 'candidatus portiera aleyrodidarum', 'candidatus portiera aleyrodidarum bt-b-hrs', 'candidatus protochlamydia', 'candidatus protochlamydia amoebophila', 'candidatus protochlamydia amoebophila uwe25', 'candidatus puniceispirillum marinum', 'candidatus ruthia magnifica', 'candidatus sodalis pierantonius str. sope', 'candidatus soleaferrea massiliensis', 'candidatus solibacter usitatus', 'candidatus solibacter usitatus ellin6076', 'candidatus sulcia', 'candidatus sulcia muelleri', 'candidatus sulcia muelleri smdsem', 'candidatus tremblaya phenacola', 'candidatus tremblaya princeps', 'candidatus uzinura diaspidicola', 'candidatus vesicomyosocius okutanii', 'candidatus zinderia insecticola cari', 'canicola haemoglobinophilus', 'canid alphaherpesvirus 1', 'canidae', 'canine adenovirus 2', 'canine bocavirus', 'canine coronavirus', 'canine mastadenovirus a', 'canine morbillivirus', 'canine parainfluenza virus', 'canine parvovirus', 'canine pneumovirus', 'canine respiratory coronavirus', 'canine vesivirus', 'canis', 'canis lupus', 'canis lupus familiaris', 'canis sp.', 'canna indica', 'cannabis sativa', 'caperea marginata', 'capitulum mitella', 'capnocytophaga canimorsus', 'capnocytophaga canis', 'capnocytophaga genomosp. c1', 'capnocytophaga gingivalis', 'capnocytophaga gingivalis atcc 33624', 'capnocytophaga ochracea', 'capnocytophaga ochracea dsm 7271', 'capnocytophaga sp.', 'capnocytophaga sp. canine oral taxon 295', 'capnocytophaga sp. canine oral taxon 329', 'capnocytophaga sp. gej8', 'capnocytophaga sp. oral clone id062', 'capnocytophaga sp. oral taxon 338', 'capnocytophaga sputigena', 'capnocytophaga sputigena atcc 33612', 'capra falconeri', 'capra hircus', 'capra hircus cyclovirus', 'capra ibex', 'capra sp.', 'capreolus capreolus', 'capricornis crispus', 'caprine arthritis encephalitis virus', 'capsaspora owczarzaki', 'capsella bursa-pastoris', 'capsella rubella', 'capsicum', 'capsicum annuum', 'capsicum baccatum', 'capsicum chinense', 'capsicum chlorosis virus', 'capsicum frutescens', 'carabomorphus masaicus alluaudi', 'carabus blaptoides blaptoides', 'caragana jubata', 'carajas vesiculovirus', 'carassius auratus', 'carassius gibelio', 'carboxydocella', 'carboxydothermus hydrogenoformans', 'carboxydothermus hydrogenoformans z-2901', 'carcinoscorpius rotundicauda', 'cardamine flexuosa', 'cardamine hirsuta', 'cardinalis cardinalis', 'cardiobacterium hominis', 'cardiobacterium hominis atcc 15826', 'cardiobacterium sp.', 'cardiobacterium valvarum', 'cardiovirus', 'caria rhacotis', 'carica papaya', 'carnation etched ring virus', 'carnobacterium divergens', 'carnobacterium gallinarum', 'carnobacterium gallinarum dsm 4847', 'carnobacterium maltaromaticum', 'carnobacterium sp.', 'carnobacterium sp. 17-4', 'carnobacterium sp. at7', 'carp sprivivirus', 'carpobrotus edulis', 'carthamus dentatus', 'carthamus glaucus', 'carthamus glaucus subsp. alexandrinus', 'carthamus lanatus', 'carthamus leucocaulos', 'carthamus nitidus', 'carthamus oxyacanthus', 'carthamus persicus', 'carthamus tinctorius', 'carthamus turkestanicus', 'carya ovata', 'carybdea rastonii', 'caryophanon latum', 'casaltella massiliensis', 'casphalia extranea densovirus', 'cassava vein mosaic virus', 'castanea mollissima', 'castanea sativa', 'castellaniella defragrans', 'castor', 'castor canadensis', 'castor fiber', 'casuarina glauca', 'catalpa bignonioides', 'catalpa speciosa', 'catenibacterium mitsuokai', 'catenulispora acidiphila', 'catenulispora acidiphila dsm 44928', 'catfish', 'catharanthus roseus', 'catocyclotis adelina', 'catonella genomosp. p1 oral clone mb5_p12', 'catonella morbi', 'catonella morbi atcc 51271', 'catonella sp.', 'catonella sp. canine oral taxon 158', 'catonella sp. oral clone fl037', 'catostomus commersonii', 'catreus wallichii', 'cattleya bicolor', 'caulastraea furcata', 'cauliflower mosaic virus', 'caulobacter', 'caulobacter henricii', 'caulobacter sp.', 'caulobacter sp. k31', 'caulobacter vibrioides', 'caulobacter vibrioides cb15', 'caulobacter vibrioides na1000', 'cavernularia obesa', 'cavia porcellus', 'cavia sp.', 'caviid betaherpesvirus 2', 'cebus albifrons', 'cedar virus', 'cedecea davisae', 'cedecea davisae dsm 4568', 'cedecea lapagei', 'cedecea neteri', 'cell fusing agent virus', 'cellulomonas biazotea', 'cellulomonas bogoriensis', 'cellulomonas cellasea', 'cellulomonas fimi', 'cellulomonas fimi atcc 484', 'cellulomonas flavigena', 'cellulomonas flavigena dsm 20109', 'cellulomonas gelida', 'cellulomonas gilvus', 'cellulomonas iranensis', 'cellulomonas sp.', 'cellulomonas uda', 'cellulomonas xylanilytica', 'cellulophaga', 'cellulophaga lytica', 'cellulosimicrobium', 'cellulosimicrobium cellulans', 'cellulosimicrobium sp. hy-13', 'cellvibrio', 'cellvibrio japonicus', 'cellvibrio japonicus ueda107', 'cenarchaeum symbiosum', 'cenarchaeum symbiosum a', 'cenchrus americanus', 'cenchrus ciliaris', 'cenchrus clandestinus', 'cenococcum geophilum', 'centaurea benedicta', 'centaurea maculosa', 'centaurea solstitialis', 'centaurium erythraea', 'centella asiatica', 'cephalopholis fulva', 'cephalophus dorsalis', 'cephalorhynchus commersonii', 'cephalorhynchus eutropia', 'cephalorhynchus heavisidii', 'cephalorhynchus hectori', 'cephalosporium caerulens', 'ceratitis capitata', 'ceratitis rosa', 'ceratobasidium cereale', 'ceratodon purpureus', 'ceratonia siliqua', 'ceratopteris richardii', 'ceratotherium simum', 'cercocebus atys', 'cercocebus torquatus', 'cercopithecidae gen. sp.', 'cercopithecine alphaherpesvirus 9', 'cercospora beticola', 'cercospora canescens', 'cercospora capsici', 'cercospora kikuchii', 'cercospora nicotianae', 'cercospora zeae-maydis', 'cercospora zinniae', 'cereal yellow dwarf virus', 'cereal yellow dwarf virus rpv', 'cereibacter azotoformans', 'cereibacter sphaeroides', 'cereibacter sphaeroides 2.4.1', 'cereibacter sphaeroides atcc 17025', 'cereibacter sphaeroides atcc 17029', 'cereibacter sphaeroides kd131', 'cerianthus sp.', 'ceroglossus magellanicus', 'cerrena unicolor', 'cervidae', 'cervus canadensis canadensis', 'cervus elaphus', 'cervus elaphus kansuensis', 'cervus elaphus xanthopygus', 'cervus nippon centralis', 'cervus nippon nippon', 'cervus nippon yesoensis', 'cervus sp.', 'cesiribacter andamanensis', 'cestrum yellow leaf curling virus', 'cestum veneris', 'cetobacterium somerae', 'cf. clostridium sp. mlg055', 'cgmmv', 'chaerilus tryznai kovarik', 'chaetoceros debilis dna virus', 'chaetoceros dna virus', 'chaetoceros gracilis', 'chaetoceros neogracilis', 'chaetomella raphigera', 'chaetomidium pingtungium', 'chaetomium globosum', 'chaetomium globosum cbs 148.51', 'chaetomium sp.', 'chaetomium thermophilum', 'chaetomium thermophilum var. thermophilum dsm 1495', 'chaetophractus villosus', 'chaetopterus variopedatus', 'chaetosphaeridium globosum', 'chamaecyparis obtusa', 'chamaesiphon minutus pcc 6605', 'chamberlinius hualienensis', 'chandipura virus', 'changuinola virus', 'chara australis', 'chara braunii', 'chara corallina', 'chara vulgaris', 'characidium gomesi', 'charmosta lugens', 'chattonella', 'chattonella subsalsa', 'cheilopogon pinnatibarbatus japonicus', 'chelativorans', 'chelativorans sp. bnc1', 'chelativorans sp_ bnc1 plasmid 3', 'chelidonium majus', 'chelonia mydas', 'chengiopanax sciadophylloides', 'chenopodium album', 'chenopodium amaranticolor', 'chenopodium quinoa', 'chicken anemia virus', 'chicken astrovirus', 'chicken cyclovirus', 'chicorium intybus', 'chikungunya virus', 'chilo suppressalis', 'chimaera monstrosa', 'chimaera sp.', 'chimpanzee adenovirus', 'chimpanzee adenovirus y25', 'chimpanzee cyclovirus', 'chimpanzee hepatitis b virus', 'chimpanzee type c endogenous retrovirus', 'chinchilla lanigera', 'chinese hamster ovary (cho) dg44 cell', 'chionoecetes opilio', 'chipmunk parvovirus', 'chiridius poppei', 'chiridota laevis', 'chironectes', 'chironomus alpestris', 'chironomus circumdatus', 'chironomus luridus', 'chironomus riparius', 'chironomus tentans', 'chironomus thummi thummi', 'chiropsoides quadrigatus', 'chitiniphilus shinanonensis', 'chitinophaga', 'chitinophaga pinensis', 'chitinophaga pinensis dsm 2588', 'chlamydia', 'chlamydia abortus', 'chlamydia abortus s26/3', 'chlamydia caviae', 'chlamydia caviae gpic', 'chlamydia felis', 'chlamydia felis fe/c-56', 'chlamydia muridarum', 'chlamydia muridarum str. nigg', 'chlamydia pecorum', 'chlamydia phage 2', 'chlamydia phage 3', 'chlamydia phage 4', 'chlamydia pneumoniae', 'chlamydia pneumoniae ar39', 'chlamydia pneumoniae cwl029', 'chlamydia pneumoniae j138', 'chlamydia pneumoniae tw-183', 'chlamydia psittaci', 'chlamydia sp.', 'chlamydia suis', 'chlamydia trachomatis', 'chlamydia trachomatis d/uw-3/cx', 'chlamydia virus chp1', 'chlamydia virus cpar39', 'chlamydiaceae', 'chlamydiales', 'chlamydiales bacterium', 'chlamydiales bacterium ns11', 'chlamydiales bacterium ns13', 'chlamydiales bacterium ns16', 'chlamydomonas', 'chlamydomonas applanata', 'chlamydomonas cribrum', 'chlamydomonas incerta', 'chlamydomonas moewusii', 'chlamydomonas orbicularis', 'chlamydomonas reinhardtii', 'chlamydomonas sp. ccmp681', 'chlamydomonas sp. jsc4', 'chlamydomonas sp. w80', 'chlamydomonas sp. wo2007059077', 'chlamydomonas zebra', 'chlamys islandica', 'chloracidobacterium thermophilum b', 'chloranthus spicatus', 'chlorarachnion', 'chlorella sorokiniana', 'chlorella sp.', 'chlorella variabilis', 'chlorella virus', 'chlorella vulgaris', 'chloris gayana', 'chloris sinica', 'chlorobaculum limnaeum', 'chlorobaculum parvum ncib 8327', 'chlorobaculum tepidum', 'chlorobaculum tepidum tls', 'chlorobium chlorochromatii cad3', 'chlorobium ferrooxidans', 'chlorobium ferrooxidans dsm 13031', 'chlorobium limicola', 'chlorobium limicola dsm 245', 'chlorobium phaeobacteroides', 'chlorobium phaeobacteroides bs1', 'chlorobium phaeobacteroides dsm 266', 'chlorobium phaeovibrioides dsm 265', 'chlorocebus aethiops', 'chlorocebus pygerythrus', 'chlorocebus sabaeus', 'chlorococcum sp. rk261', 'chloroflexi genomosp. p1', 'chloroflexus aggregans', 'chloroflexus aggregans dsm 9485', 'chloroflexus aurantiacus', 'chloroflexus aurantiacus j-10-fl', 'chloroflexus aurantiacus y-400-fl', 'chloroflexus sp.', 'chloroherpeton thalassium', 'chloroherpeton thalassium atcc 35110', 'chloroidium saccharophilum', 'chlorokybus atmophyticus', 'chloromonas sp. knf032', 'chloromorum sp. toxicum', 'chlorosarcinopsis arenicola', 'chlorosarcinopsis bastropiensis', 'chlorosarcinopsis gelatinosa', 'chlorosarcinopsis variabilis', 'chloroscypha enterochroma', 'chondromyces', 'chondromyces crocatus', 'chondrus crispus', 'chorella virus', 'chorispora bungeana', 'choristoneura fumiferana', 'choristoneura occidentalis granulovirus', 'choristoneura parallela', 'choristoneura rosaceana', 'choristoneura rosaceana nucleopolyhedrovirus', 'christensenella hongkongensis', 'christensenella minuta', 'christensenellaceae', 'chromobacterium', 'chromobacterium haemolyticum', 'chromobacterium piscinae', 'chromobacterium sp.', 'chromobacterium sp. usm2', 'chromobacterium subtsugae', 'chromobacterium violaceum', 'chromobacterium violaceum atcc 12472', 'chromobacterium viscosum', 'chromochloris zofingiensis', 'chromohalobacter salexigens', 'chromohalobacter salexigens dsm 3043', 'chronic bee paralysis virus', 'chrysanthemum', 'chrysanthemum <genus>', 'chrysanthemum lavandulifolium', 'chrysanthemum sp.', 'chrysanthemum stunt viroid', 'chrysanthemum virus b', 'chrysanthemum x morifolium', 'chrysemys picta', 'chryseobacterium', 'chryseobacterium balustinum', 'chryseobacterium gallinarum', 'chryseobacterium gleum', 'chryseobacterium proteolyticum', 'chryseobacterium sp.', 'chryseobacterium sp. bt7b', 'chryseobacterium sp. no. 9670', 'chrysobalanus icaco', 'chrysodeixis includens', 'chrysomela tremula', 'chrysomya putoria', 'chrysopa pallens', 'chrysoperla plorabunda', 'chrysopogon zizanioides', 'chrysosplenium americanum', 'chrysosporium lucknowense', 'chrysosporium sp.', 'chthamalus challengeri', 'chthamalus dalli', 'chthoniobacter flavus', 'chthoniobacter flavus ellin428', 'chuzan virus', 'cicer arietinum', 'cichla monoculus', 'cichorium', 'cichorium endivia', 'cichorium intybus', 'ciconia boyciana', 'ciconia ciconia', 'cineraria', 'cinnabarina coccineus', 'cinnamomum aromaticum', 'cinnamomum camphora', 'cinnamomum insularimontanum', 'cinnamomum reticulatum', 'cinnamomum sieboldii', 'cinnamomum tenuipile', 'cinnamomum verum', 'ciona intestinalis', 'ciona savignyi', 'circinella', 'circinella simplex', 'circovirus', 'circovirus map type a', 'circovirus map type b', 'cissampelos mucronata', 'cistus creticus', 'cistus incanus', 'citeromyces matritensis', 'citrifermentans bemidjiense', 'citrifermentans bemidjiense bem', 'citrobacter', 'citrobacter amalonaticus', 'citrobacter braakii', 'citrobacter farmeri', 'citrobacter freundii', 'citrobacter freundii atcc 8090 = mtcc 1658 = nbrc 12681', 'citrobacter gillenii', 'citrobacter koseri', 'citrobacter koseri atcc baa-895', 'citrobacter murliniae', 'citrobacter pasteurii', 'citrobacter portucalensis', 'citrobacter rodentium', 'citrobacter rodentium icc168', 'citrobacter sedlakii', 'citrobacter sp', 'citrobacter sp.', 'citrobacter werkmanii', 'citrobacter youngae', 'citrullus', 'citrullus colocynthis', 'citrullus lanatus', 'citrullus lanatus subsp. vulgaris', 'citrus aurantiifolia', 'citrus aurantium', 'citrus clementina', 'citrus clementina x citrus reticulata', 'citrus deliciosa', 'citrus depressa', 'citrus dwarfing viroid', 'citrus hybrid cultivar', 'citrus hystrix', 'citrus iyo', 'citrus jambhiri', 'citrus japonica', 'citrus junos', 'citrus limon', 'citrus maxima', 'citrus medica', 'citrus natsudaidai', 'citrus nobilis', 'citrus reshni', 'citrus reticulata', 'citrus reticulata x citrus temple', 'citrus sinensis', 'citrus sinensis x citrus reticulata', 'citrus sinensis x citrus trifoliata', 'citrus sunki', 'citrus trifoliata', 'citrus unshiu', 'citrus viroid-i-lss', 'citrus x microcarpa', 'citrus x paradisi', 'citrus yellow mosaic virus', 'cladophialophora carrionii', 'cladorrhinum foecundissimum', 'cladosporium cladosporioides', 'cladosporium funiculosum', 'cladosporium herbarum', 'cladosporium oxysporum', 'cladosporium sp.', 'cladosporium sphaerospermum', 'cladosporium uredinicola', 'clarias gariepinus', 'clarireedia homoeocarpa', 'clarkia breweri', 'clarkia concinna', 'classical swine fever virus', 'clausena lansium', 'clavibacter michiganensis', 'clavibacter michiganensis subsp. michiganensis', 'clavibacter michiganensis subsp. michiganensis ncppb 382', 'clavibacter michiganensis subsp. sepedonicus', 'claviceps purpurea', 'clavicipitaceae', 'clavispora lusitaniae', 'clavularia sp.', 'cleomella sparsifolia', 'cleretum bellidiforme', 'clitocybe acromelalga', 'clitopilus passeckerianus', 'clitoria', 'clitoria ternatea', 'cloacibacillus evryensis', 'cloacibacillus porcorum', 'cloning vector m13mp18', 'cloning vector pbr322', 'cloning vector pbwa2', 'cloning vector pegfp', 'cloning vector pflexible', 'cloning vector pgem3_zf', 'cloning vector pmhas7', 'cloning vector puc19', 'clonorchis sinensis', 'clonostachys rosea', 'closterium peracerosum', 'clostridia bacterium', 'clostridiaceae', 'clostridiaceae bacterium', 'clostridiales bacterium', 'clostridiales bacterium 1_7_47faa', 'clostridiales bacterium ka00134', 'clostridiales bacterium oral clone p4pa_66 p1', 'clostridiales bacterium oral taxon 093', 'clostridiales bacterium oral taxon f32', 'clostridiales bacterium ve202-14', 'clostridioides difficile', 'clostridioides difficile 630', 'clostridioides difficile qcd-32g58', 'clostridioides difficileorganism', 'clostridium', 'clostridium acetobutylicum', 'clostridium acetobutylicum atcc 824', 'clostridium algidicarnis', 'clostridium aminobutyricum', 'clostridium argentinense', 'clostridium autoethanogenum', 'clostridium baratii', 'clostridium beijerinckii', 'clostridium beijerinckii ncimb 8052', 'clostridium botulinum', 'clostridium botulinum a str. atcc 3502', 'clostridium botulinum b str. eklund 17b (nrp)', 'clostridium botulinum b1 str. okra', 'clostridium botulinum bf', 'clostridium botulinum d str. 1873', 'clostridium botulinum f str. langeland', 'clostridium botulinum nctc 2916', 'clostridium budayi', 'clostridium butyricum', 'clostridium butyricum 5521', 'clostridium cadaveris', 'clostridium carboxidivorans', 'clostridium carboxidivorans p7', 'clostridium cellulovorans', 'clostridium cellulovorans 743b', 'clostridium chauvoei', 'clostridium cylindrosporum', 'clostridium disporicum', 'clostridium estertheticum', 'clostridium favososporum', 'clostridium felsineum', 'clostridium formicaceticum', 'clostridium frigidicarnis', 'clostridium gasigenes', 'clostridium haemolyticum', 'clostridium jeddahense', 'clostridium kluyveri', 'clostridium kluyveri dsm 555', 'clostridium ljungdahlii', 'clostridium longisporum', 'clostridium malenominatum', 'clostridium merdae', 'clostridium minihomine', 'clostridium neuense', 'clostridium nitritogenes', 'clostridium novyi', 'clostridium novyi nt', 'clostridium paraputrificum', 'clostridium pasteurianum', 'clostridium perfringens', 'clostridium perfringens atcc 13124', 'clostridium perfringens nctc 8239', 'clostridium perfringens str. 13', 'clostridium phage phi3626', 'clostridium phage phicp26f', 'clostridium phage phicp39-o', 'clostridium pharus', 'clostridium phoceensis', 'clostridium putrefaciens', 'clostridium quinii', 'clostridium ragsdalei', 'clostridium saccharobutylicum', 'clostridium saccharoperbutylacetonicum', 'clostridium sardiniense', 'clostridium sartagoforme', 'clostridium scatologenes', 'clostridium senegalense jc122', 'clostridium septicum', 'clostridium sp.', 'clostridium sp. 7_2_43faa', 'clostridium sp. cag:167', 'clostridium sp. cag:226', 'clostridium sp. cag:230', 'clostridium sp. cag:242', 'clostridium sp. cag:245', 'clostridium sp. cag:253', 'clostridium sp. cag:524', 'clostridium sp. cag:62', 'clostridium sp. hpb-46', 'clostridium sp. jc3', 'clostridium sp. l2-50', 'clostridium sp. m62/1', 'clostridium sp. mt4 e', 'clostridium sp. nmbhi-1', 'clostridium sp. nml 04a032', 'clostridium sp. ss2/1', 'clostridium sp. sy8519', 'clostridium sp. tm-40', 'clostridium sp. yit 12069', 'clostridium sp. yit 12070', 'clostridium sporogenes', 'clostridium sporogenes atcc 15579', 'clostridium subterminale', 'clostridium sulfidigenes', 'clostridium tertium', 'clostridium tetani', 'clostridium tetani e88', 'clostridium tyrobutyricum', 'clostridium virus phicd27', 'clostridium-like species', 'cloudy wing virus', 'clover yellow vein virus', 'clupea harengus', 'clytia gregaria', 'cnidium officinale', 'cocal virus', 'coccidioides', 'coccidioides immitis', 'coccidioides immitis rs', 'coccidioides posadasii', 'coccidioides posadasii c735 delta sowgp', 'coccomyxa sp. flensburg fjord 2', 'coccomyxa subellipsoidea', 'cocculus trilobus', 'cochlearia officinalis', 'cocksfoot mottle virus', 'coconut tinangaja viroid', 'cocos nucifera', 'codium barbatum', 'codium fragile', 'codium latum', 'codonopsis lanceolata', 'coenonympha glycerion', 'coenonympha tullia', 'coffea arabica', 'coffea canephora', 'cognatishimia maritima', 'cohnella', 'cohnella luojiensis', 'coix lacryma-jobi', 'colacogloea terpenoidalis', 'coleofasciculus chthonoplastes', 'coleofasciculus chthonoplastes pcc 7420', 'coleomegilla maculata', 'coleoptera', 'colias eurytheme', 'collariella gracilis', 'collariella virescens', 'colletotrichum acutatum', 'colletotrichum cereale', 'colletotrichum fioriniae', 'colletotrichum fructicola nara gc5', 'colletotrichum gloeosporioides', 'colletotrichum graminicola', 'colletotrichum higginsianum', 'colletotrichum lagenaria', 'colletotrichum lindemuthianum', 'colletotrichum musae', 'colletotrichum orbiculare', 'colletotrichum sp.', 'colletotrichum sublineola', 'colletotrichum tanaceti', 'colletotrichum tofieldiae', 'colletotrichum trifolii', 'colletotrichum truncatum', 'collimonas fungivorans', 'collinsella', 'collinsella aerofaciens', 'collinsella aerofaciens atcc 25986', 'collinsella intestinalis', 'collinsella intestinalis dsm 13280', 'collinsella sp.', 'collinsella stercoris', 'collinsella stercoris dsm 13279', 'collinsella tanakaei', 'colobus angolensis', 'colocasia esculenta', 'cololabis saira', 'colorado tick fever virus', 'columba livia', 'columba sp.', 'columbid circovirus', 'colwellia psychrerythraea', 'colwellia psychrerythraea 34h', 'comamonadaceae bacterium', 'comamonadaceae bacterium nml000135', 'comamonadaceae bacterium nml790751', 'comamonadaceae bacterium nml910035', 'comamonadaceae bacterium nml910036', 'comamonadaceae bacterium oral taxon f47', 'comamonas', 'comamonas denitrificans', 'comamonas granuli', 'comamonas sp.', 'comamonas sp. nsp5', 'comamonas sp. sfcd1', 'comamonas terrigena', 'comamonas testosteroni', 'commelina communis', 'commelina diffusa', 'commelina yellow mottle virus', 'common chimpanzee papillomavirus 1', 'companilactobacillus alimentarius', 'companilactobacillus farciminis', 'companilactobacillus kimchii', 'companilactobacillus nodensis', 'companilactobacillus paralimentarius', 'conchiformibius steedae', 'conchoderma auritum', 'conchoderma virgatum', 'condylactis gigantea', 'conger myriaster', 'congregibacter litoralis', 'congregibacter litoralis kt71', 'conidiobolus brefeldianus', 'conidiobolus coronatus', 'conidiobolus incongruus', 'conidiobolus lamprauges', 'coniochaeta', 'coniochaeta hoffmannii', 'coniochaeta prunicola', 'coniochaeta sp.', 'coniochaeta sp. nisl 9330', 'coniolariella gamsii', 'coniothyrium aleuritis', 'coniothyrium sp.', 'conium maculatum', 'connochaetes taurinus', 'conocephalum conicum', 'conocephalum japonicum', 'conocybe bulbifera', 'conocybe subpubescens', 'conticribra weissflogii', 'conus achatinus', 'conus ammiralis', 'conus arenatus', 'conus aulicus', 'conus aureus', 'conus aurisiacus', 'conus bandanus', 'conus betulinus', 'conus bullatus', 'conus c. textile linnaeus', 'conus capitaneus', 'conus caracteristicus', 'conus catus', 'conus circumcisus', 'conus consors', 'conus coronatus', 'conus dalli', 'conus distans', 'conus emaciatus', 'conus episcopatus', 'conus ermineus', 'conus figulinus', 'conus flavidus', 'conus generalis', 'conus geographus', 'conus gloriamaris', 'conus imperialis', 'conus leopardus', 'conus lividus', 'conus lynceus', 'conus magus', 'conus marmoreus', 'conus miles', 'conus miliaris', 'conus monachus', 'conus musicus', 'conus obscurus', 'conus ochroleucus', 'conus omaria', 'conus pennaceus', 'conus pulicarius', 'conus purpurascens', 'conus quercinus', 'conus radiatus', 'conus rattus', 'conus regius', 'conus sponsalis', 'conus spurius', 'conus stercusmuscarum', 'conus striatus', 'conus striolatus', 'conus sulcatus', 'conus tessulatus', 'conus textile', 'conus tulipa', 'conus victoriae', 'conus viola', 'conus virgo', 'coolia monotis', 'cooperia oncophora', 'copidosoma floridanum', 'coprinellus disseminatus', 'coprinellus radians', 'coprinopsis cinerea', 'coprinopsis cinerea okayama7#130', 'coprobacillus', 'coprobacillus cateniformis', 'coprobacillus sp.', 'coprococcus', 'coprococcus catus', 'coprococcus comes', 'coprococcus comes atcc 27758', 'coprococcus eutactus', 'coprococcus eutactus atcc 27759', 'coprococcus sp.', 'coprothermobacter proteolyticus', 'coptis chinensis', 'coptis deltoidea', 'coptis japonica', 'coptis omeiensis', 'coptis quinquesecta', 'coptis teeta', 'coptosperma borbonicum', 'coptotermes formosanus', 'coraliomargarita sp. cag:312', 'corallina officinalis', 'corallium rubrum', 'corallococcus coralloides', 'corbicula fluminea', 'corchorus capsularis', 'corchorus olitorius', 'cordyceps fumosorosea', 'cordyceps javanica', 'cordyceps militaris', 'cordyceps tenuipes', 'coregonus lavaretus', 'coriandrum sativum', 'coriobacteriaceae bacterium', 'coriobacteriaceae bacterium bv3ac1', 'cornus chinensis', 'cornus eydeana', 'cornus mas', 'cornus officinalis', 'cornus stracheyi', 'coronavirinae', 'coronella austriaca', 'coronella girondica', 'coronocyclus coronatus', 'corriparta virus', 'corticium fuciforme', 'corvus corone', 'corvus frugilegus', 'corvus macrorhynchos', 'corydalis cheilanthifolia', 'corylus americana', 'corylus avellana', 'corynactis viridis', 'corynascus sepedonium', 'corynebacteriaceae', 'corynebacterium', 'corynebacterium accolens', 'corynebacterium accolens atcc 49725', 'corynebacterium afermentans subsp. afermentans', 'corynebacterium afermentans subsp. lipophilum', 'corynebacterium alkanolyticum', 'corynebacterium ammoniagenes', 'corynebacterium ammoniagenes dsm 20306', 'corynebacterium amycolatum', 'corynebacterium amycolatum sk46', 'corynebacterium appendicis', 'corynebacterium aquatimens', 'corynebacterium argentoratense', 'corynebacterium atypicum', 'corynebacterium aurimucosum', 'corynebacterium aurimucosum atcc 700975', 'corynebacterium auris', 'corynebacterium auriscanis', 'corynebacterium bovis', 'corynebacterium bovis dsm 20582 = cip 54.80', 'corynebacterium callunae', 'corynebacterium camporealensis', 'corynebacterium canis', 'corynebacterium capitovis', 'corynebacterium casei', 'corynebacterium cervicis', 'corynebacterium confusum', 'corynebacterium coyleae', 'corynebacterium cystitidis', 'corynebacterium diphtheriae', 'corynebacterium diphtheriae nctc 13129', 'corynebacterium diphtheriae phage', 'corynebacterium durum', 'corynebacterium efficiens', 'corynebacterium efficiens ys-314', 'corynebacterium falsenii', 'corynebacterium felinum', 'corynebacterium flavescens', 'corynebacterium freneyi', 'corynebacterium genitalium', 'corynebacterium genitalium atcc 33030', 'corynebacterium glaucum', 'corynebacterium glucuronolyticum', 'corynebacterium glucuronolyticum atcc 51867', 'corynebacterium glutamicum', 'corynebacterium glutamicum 13032', 'corynebacterium glutamicum atcc 13032', 'corynebacterium glutamicum atcc 13869 ncgl2522', 'corynebacterium glutamicum atcc13032 ncgl2522', 'corynebacterium glutamicum k051', 'corynebacterium glutamicum r', 'corynebacterium halotolerans', 'corynebacterium hansenii', 'corynebacterium humireducens', 'corynebacterium imitans', 'corynebacterium jeikeium', 'corynebacterium jeikeium k411', 'corynebacterium kroppenstedtii', 'corynebacterium kroppenstedtii dsm 44385', 'corynebacterium kutscheri', 'corynebacterium lipophiloflavum', 'corynebacterium lipophiloflavum dsm 44291', 'corynebacterium macginleyi', 'corynebacterium mastitidis', 'corynebacterium matruchotii', 'corynebacterium matruchotii atcc 14266', 'corynebacterium melassecola', 'corynebacterium minutissimum', 'corynebacterium mucifaciens', 'corynebacterium mycetoides', 'corynebacterium otitidis', 'corynebacterium phage bfk20', 'corynebacterium phocae', 'corynebacterium pilosum', 'corynebacterium propinquum', 'corynebacterium pseudodiphtheriticum', 'corynebacterium pseudogenitalium', 'corynebacterium pseudotuberculosis', 'corynebacterium pyruviciproducens', 'corynebacterium renale', 'corynebacterium resistens', 'corynebacterium riegelii', 'corynebacterium simulans', 'corynebacterium singulare', 'corynebacterium sp.', 'corynebacterium sp. nml 93-0481', 'corynebacterium sp. nml 97-0186', 'corynebacterium sp. xj149q-12-2ncr2', 'corynebacterium spheniscorum', 'corynebacterium stationis', 'corynebacterium striatum', 'corynebacterium striatum atcc 6940', 'corynebacterium sundsvallense', 'corynebacterium terpenotabidum', 'corynebacterium testudinoris', 'corynebacterium thermoaminogenes', 'corynebacterium thomssenii', 'corynebacterium tuberculostearicum', 'corynebacterium tuberculostearicum sk141', 'corynebacterium ulcerans', 'corynebacterium urealyticum', 'corynebacterium urealyticum dsm 7109', 'corynebacterium ureicelerivorans', 'corynebacterium variabile', 'corynebacterium vitaeruminis', 'corynebacterium xerosis', 'coryneform bacterium', 'corynespora cassiicola', 'cosavirus', 'coscinodiscus wailesii', 'cosmos sulphureus', 'cotesia plutellae bracovirus', 'cotton leaf curl virus', 'cottus gobio', 'coturnix chinensis', 'coturnix coturnix', 'coturnix japonica', 'cowpea chlorotic mottle virus', 'cowpea mosaic virus', 'cowpox virus', 'coxiella burnetii', \"coxiella burnetii 'msu goat q177'\", 'coxiella burnetii rsa 331', 'coxiella burnetii rsa 493', 'coxsackievirus', 'coxsackievirus a13', 'coxsackievirus a15', 'coxsackievirus a16', 'coxsackievirus a18', 'coxsackievirus a20', 'coxsackievirus a21', 'coxsackievirus a24', 'coxsackievirus a6', 'coxsackievirus a9', 'coxsackievirus b2', 'coxsackievirus b3', 'coxsackievirus b6', 'crambe hispanica subsp. abyssinica', 'crassicarpon hotsonii', 'crassicarpon thermophilum', 'crassostrea angulata', 'crassostrea gigas', 'crassostrea virginica', 'crataegus', 'crataegus crus-galli', 'craterostigma plantagineum', 'crenarchaeota', 'crepis alpina', 'crepis biennis', 'crepis palaestina', 'cricetinae', 'cricetinae gen. sp.', 'cricetulus', 'cricetulus barabensis', 'cricetulus griseus', 'cricetulus longicaudatus', 'cricetulus migratorius', 'cricetulus sp.', 'cricetus cricetus', 'cricket paralysis virus', 'crimean-congo hemorrhagic fever orthonairovirus', 'cripavirus sp.', 'cristaria plicata', 'crithidia fasciculata', 'croceibacter atlanticus', 'croceibacter atlanticus htcc2559', 'crocodilepox virus', 'crocosphaera chwakensis ccy0110', 'crocosphaera subtropica atcc 51142', 'crocosphaera watsonii', 'crocosphaera watsonii wh 8501', 'crocus sativus', 'cronobacter', 'cronobacter dublinensis', 'cronobacter malonaticus', 'cronobacter muytjensii', 'cronobacter sakazakii', 'cronobacter sakazakii atcc baa-894', 'cronobacter turicensis', 'crossiella cryophila', 'crossoptilon crossoptilon', 'crotalus horridus horridus', 'croton sublyratus', 'crucifer tobamovirus', 'cryphonectria parasitica', 'crypthecodinium', 'crypthecodinium cohnii', 'cryptobacterium curtum', 'cryptobacterium curtum dsm 15641', 'cryptocaryon irritans', 'cryptococcus gattii vgiii', 'cryptococcus neoformans', 'cryptococcus neoformans var. neoformans', 'cryptococcus neoformans var. neoformans b-3501a', 'cryptococcus neoformans var. neoformans jec21', 'cryptococcus sp. (in: fungi)', 'cryptococcus sp. s-2', 'cryptomeria japonica', 'cryptoporus volvatus', 'cryptopygus antarcticus', 'cryptosporidium', 'cryptosporidium hominis', 'cryptosporidium parvum', 'cryptosporidium sp.', 'ctenocephalides canis', 'ctenocephalides felis', 'ctenoplusia agnata', 'cucumber fruit mottle mosaic virus', 'cucumber green mottle mosaic virus', 'cucumber mosaic virus', 'cucumber mosaic virus satellite rna', 'cucumis melo', 'cucumis sativus', 'cucurbita', 'cucurbita argyrosperma', 'cucurbita digitata', 'cucurbita ficifolia', 'cucurbita hybrid cultivar', 'cucurbita maxima', 'cucurbita moschata', 'cucurbita pepo', 'cucurbita pepo subsp. pepo', 'cucurbita sp. wo0192512', 'cucurbitaceae', 'culex pipiens', 'culex pipiens pallens', 'culex pipiens pipiens', 'culex quinquefasciatus', 'culex tarsalis', 'culex torrentium', 'culicoides sonorensis', 'cuminum cyminum', 'cunninghamella bertholletiae', 'cunninghamella echinulata', 'cunninghamella elegans', 'cunninghamia lanceolata', 'cuphea', 'cuphea aequipetala', 'cuphea angustifolia', 'cuphea avigera', 'cuphea avigera var. pulcherrima', 'cuphea calcarata', 'cuphea calophylla', 'cuphea carthagenensis', 'cuphea crassiflora', 'cuphea decandra', 'cuphea heterophylla', 'cuphea hookeriana', 'cuphea hyssopifolia', 'cuphea ignea', 'cuphea inflata', 'cuphea koehneana', 'cuphea lanceolata', 'cuphea leptopoda', 'cuphea llavea', 'cuphea lophostoma', 'cuphea painteri', 'cuphea palustris', 'cuphea paucipetala', 'cuphea procumbens', 'cuphea wrightii', 'cupressus sempervirens', 'cupriavidus', 'cupriavidus basilensis', 'cupriavidus basilensis hmf14', 'cupriavidus malaysiensis', 'cupriavidus metallidurans', 'cupriavidus metallidurans ch34', 'cupriavidus necator', 'cupriavidus necator h16', 'cupriavidus oxalaticus', 'cupriavidus pinatubonensis', 'cupriavidus pinatubonensis jmp134', 'cupriavidus sp.', 'cupriavidus sp. p4-10-c', 'cupriavidus taiwanensis', 'curcuma aromatica', 'curcuma longa', 'curcuma wenyujin', 'curcuma zedoaria', 'curionopolis virus', 'curtobacterium', 'curtobacterium citreum', 'curtobacterium flaccumfaciens', 'curtobacterium luteum', 'curtobacterium oceanosedimentum', 'curtobacterium pusillum', 'curtos okinawanus', 'curvularia affinis', 'curvularia clavata', 'curvularia fallax', 'curvularia hawaiiensis', 'curvularia lunata', 'curvularia protuberata', 'curvularia spicifera', 'cuscuta', 'cuscuta gronovii', 'cuscuta japonica', 'cuscuta reflexa', 'cutaneotrichosporon curvatum', 'cutaneotrichosporon cutaneum', 'cutaneotrichosporon jirovecii', 'cutaneotrichosporon moniliiforme', 'cutaneotrichosporon mucoides', 'cutibacterium', 'cutibacterium acnes', 'cutibacterium acnes kpa171202', 'cutibacterium avidum', 'cutibacterium granulosum', 'cyamopsis tetragonoloba', 'cyanea capillata', 'cyanea nozakii', 'cyanella hyacinthoides', 'cyanidioschyzon merolae', 'cyanidioschyzon merolae strain 10d', 'cyanidium caldarium', 'cyanobacteria', 'cyanobacterium', 'cyanobacterium stanieri', 'cyanobium', 'cyanobium sp.', 'cyanobium sp. pcc 7001', 'cyanophage p-rsm4', 'cyanophage s-2l', 'cyanophage s-ssm5', 'cyanophage syn9', 'cyanophora paradoxa', 'cyanothece', 'cyanothece sp. pcc 7425', 'cyathea australis', 'cyberlindnera fabianii', 'cyberlindnera jadinii', 'cyberlindnera mrakii', 'cycas revoluta', 'cycas rumphii', 'cycas taitungensis', 'cyclamen persicum', 'cyclaneusma minus', 'cyclaneusma niveum', 'cyclobacterium marinum', 'cyclotella cryptica', 'cyclotella sp.', 'cydia pomonella', 'cydia pomonella granulovirus', 'cygnus cygnus', 'cylicocyclus nassatus', 'cylindrospermopsis raciborskii', 'cylindrospermopsis raciborskii awt205organisms', 'cylindrospermopsis raciborskii t3', 'cylindrospermopsis raciborskii t3organisms', 'cylindrospermum stagnale', 'cylindrotheca fusiformis', 'cyllamyces aberensis', 'cymbidium goeringii', 'cymodocea nodosa', 'cynara cardunculus', 'cynara cardunculus var. scolymus', 'cynodon dactylon', 'cynoglossus semilaevis', 'cynomolgus', 'cynophalla flexuosa', 'cynosurus cristatus', 'cyperus articulatus', 'cyperus corymbosus', 'cyperus insularis', 'cyperus rotundus', 'cyperus ustulatus', 'cyphonocerus ruficollis', 'cypovirus', 'cypridina', 'cypridina noctiluca', 'cypridinidae sp. ep1925320', 'cyprinid herpesvirus 3', 'cyprinus carpio', 'cyriopagopus schmidti', 'cyrtomium falcatum', 'cystobacter fuscus', 'cystobacter velatus', 'cystobasidium minutum', 'cystophora cristata', 'cytobacillus firmus', 'cytobacillus horneckiae', 'cytobacillus oceanisediminis', 'cytobacillus oceanisediminis 2691', 'cytomegalovirus', 'cytomegalovirus sp.', 'cytophaga', 'cytophaga hutchinsonii', 'cytophaga hutchinsonii atcc 33406', 'cytophaga sp.', 'daboecia cantabrica', 'dacryopinax spathularia', 'dactylellina haptotyla', 'dactylis glomerata', 'dactylococcopsis salina', 'dactylosporangium sp.', 'dahlia merckii', 'dahlia mosaic virus', 'dahlia pinnata', 'dahlia sp. (in: viridiplantae)', 'daldinia fissa', 'dama dama', 'damaliscus lunatus', 'danaus plexippus', 'dandenong virus', 'danio', 'danio rerio', 'danio sp.', 'daphnia magna', 'daphnia pulex', 'dascillus cervinus', 'datisca glomerata', 'datura metel', 'datura stramonium', 'daucus carota', 'daucus carota subsp. sativus', 'davallia solida var. fejeensis', 'debaryomyces', 'debaryomyces castellii', 'debaryomyces fabryi', 'debaryomyces hansenii', 'debaryomyces hansenii cbs767', 'decapod penstyldensovirus 1', 'dechloromonas agitata', 'dechloromonas aromatica', 'dechloromonas aromatica rcb', 'dechloromonas denitrificans', 'deer tick virus', 'deferribacteres sp. oral clone jv001', 'deferribacteres sp. oral clone jv006', 'deferribacteres sp. oral clone jv023', 'deformed wing virus', 'dehalobacter restrictus', 'dehalobacter sp. cf', 'dehalococcoides', 'dehalococcoides mccartyi', 'dehalococcoides mccartyi 195', 'dehalococcoides mccartyi bav1', 'dehalococcoides mccartyi btf08', 'dehalococcoides mccartyi cbdb1', 'dehalococcoides mccartyi dcmb5', 'dehalococcoides related family a group', 'dehalococcoides sp.', 'dehalogenimonas lykanthroporepellens', 'deinococcus', 'deinococcus deserti', 'deinococcus deserti vcd115', 'deinococcus geothermalis', 'deinococcus geothermalis dsm 11300', 'deinococcus radiodurans', 'deinococcus radiodurans r1', 'deinococcus radiophilus', 'deinococcus radiopugnans', 'deinococcus roseus', 'deinococcus sp.', 'deinococcus taklimakanensis', 'deinococcus yunweiensis', 'delftia', 'delftia acidovorans', 'delftia acidovorans sph-1', 'delftia sp.', 'delftia tsuruhatensis', 'delosperma', 'delosperma nubigenum', 'delphinapterus leucas', 'delphinium grandiflorum', 'delphinus capensis', 'delphinus delphis', 'delphinus tropicalis', 'delta proteobacterium mlms-1', 'deltapapillomavirus 1', 'deltapapillomavirus 2', 'deltapapillomavirus 3', 'deltapapillomavirus 4', 'deltaproteobacteria', 'demansia vestigiata', 'dematophora pepo', 'dendroaspis angusticeps', 'dendroaspis polylepis', 'dendrobates auratus', 'dendrobates tinctorius', 'dendrobium', 'dendrobium crumenatum', 'dendrobium hybrid cultivar', 'dendrocalamus latiflorus', 'dendrocollybia racemosa', 'dendroctonus ponderosae', 'dendronephthya gigantea', 'dendrophilus punctatus', 'dendrothele bispora', 'dengue virus', 'dengue virus 1', 'dengue virus 2', 'dengue virus 3', 'dengue virus 4', 'denisophytum buchii', 'denitrificimonas caeni', 'denitrovibrio acetiphilus', 'denitrovibrio acetiphilus dsm 12809', 'dennstaedtia punctilobula', 'dependovirus adeno-associated virus', 'dermabacter hominis', 'dermacentor andersoni', 'dermacentor variabilis', 'dermanyssus gallinae', 'dermatophagoides farinae', 'dermatophagoides microceras', 'dermatophagoides pteronyssinus', 'deschampsia antarctica', 'deschampsia cespitosa', 'desert shield virus', 'desmodesmus sp.', 'desmodus rotundus', 'desmonostoc muscorum', 'desmospora activa', 'desmospora sp. 8437', 'desulfarculus baarsii', 'desulfatibacillum alkenivorans', 'desulfitobacterium', 'desulfitobacterium dehalogenans', 'desulfitobacterium dichloroeliminans', 'desulfitobacterium hafniense', 'desulfitobacterium hafniense dcb-2', 'desulfitobacterium hafniense y51', 'desulfitobacterium sp.', 'desulfobacter curvatus', 'desulfobacter postgatei', 'desulfobacula toluolica', 'desulfobulbus propionicus dsm 2032', 'desulfocapsa sulfexigens dsm 10523', 'desulfococcus multivorans', 'desulfococcus oleovorans hxd3', 'desulfocurvibacter africanus', 'desulfofarcimen acetoxidans dsm 771', 'desulfohalobium retbaense dsm 5692', 'desulfomicrobium baculatum', 'desulfomicrobium baculatum dsm 4028', 'desulfomicrobium norvegicum', 'desulfomicrobium orale', 'desulfomonile tiedjei dsm 6799', 'desulfonatronospira thiodismutans', 'desulfonatronospira thiodismutans aso3-1', 'desulforapulum autotrophicum hrm2', 'desulfoscipio geothermicus', 'desulfoscipio gibsoniae', 'desulfospira joergensenii', 'desulfosporosinus acidiphilus sj4', 'desulfosporosinus lacus', 'desulfosporosinus meridiei', 'desulfosporosinus orientis', 'desulfosporosinus youngiae', 'desulfosporosinus youngiae dsm 17734', 'desulfosudis oleivorans', 'desulfotalea psychrophila', 'desulfotalea psychrophila lsv54', 'desulfotomaculum nigrificans', 'desulfotomaculum nigrificans co-1-srb', 'desulfotomaculum reducens', 'desulfotomaculum reducens mi-1', 'desulfotomaculum ruminis', 'desulfotomaculum sp.', 'desulfovibrio', 'desulfovibrio carbinoliphilus subsp. oakridgensis', 'desulfovibrio desulfuricans', 'desulfovibrio desulfuricans atcc 27774', 'desulfovibrio fairfieldensis', 'desulfovibrio piger', 'desulfovibrio piger atcc 29098', 'desulfovibrio sp.', 'desulfovibrio vulgaris', 'desulfovibrio vulgaris dp4', \"desulfovibrio vulgaris str. 'miyazaki f'\", 'desulfovibrio vulgaris str. hildenborough', 'desulfovibrionaceae', 'desulfurivibrio alkaliphilus', 'desulfurococcus amylolyticus', 'desulfurococcus mucosus', 'desulfurococcus sp.', 'desulfuromonas acetoxidans dsm 684', 'desulfuromonas chloroethenica', 'detection and identification.organism  coxsackievirus a18organism detection and identification', 'detection and identification.organism  coxsackievirus a22organism detection and identification', 'detection and identification.organism  coxsackievirus a8organism detection and identification', 'detection and identification.organism  coxsackievirus b4organism detection and identification', 'detection and identification.organism  coxsackievirus b5organism detection and identification', 'detection and identification.organism  echovirus e11organism detection and identification', 'detection and identification.organism  echovirus e20organism detection and identification', 'detection and identification.organism  echovirus e21organism detection and identification', 'detection and identification.organism  echovirus e24organism detection and identification', 'detection and identification.organism  echovirus e25organism detection and identification', 'detection and identification.organism  echovirus e4organism detection and identification', 'detection and identification.organism  influenza b virusorganism detection and identification', 'detection and identification.organism  synthetic constructorganism detection and identification', 'detection and identification.organism  unidentifiedorganism detection and identification', 'dethiobacter alkaliphilus', 'dethiosulfovibrio peptidovorans', 'devosia', 'devosia riboflavina', 'diabrotica balteata', 'diabrotica barberi', 'diabrotica undecimpunctata', 'diabrotica undecimpunctata howardi', 'diabrotica virgifera', 'diabrotica virgifera virgifera', 'diabrotica virgifera zeae', 'diacronema lutheri', 'dialister invisus', 'dialister micraerophilus', 'dialister pneumosintes', 'dialister propionicifaciens', 'dialister sp.', 'dialister sp. oral taxon 502', 'dialister succinatiphilus', 'dianthus caryophyllus', 'dianthus gratianopolitanus', 'dianthus sp.', 'diaphorina citri', 'diaphorobacter nitroreducens', 'diaporthaceae sp.', 'diaporthe ampelina', 'diaporthe amygdali', 'diaporthe liquidambaris', 'diaporthe sp.', 'diatrype', 'dicentrarchus labrax', 'dicentrarchus labrax encephalitis virus', 'dicerorhinus sumatrensis', 'dichanthium aristatum', 'dichelobacter nodosus', 'dichelobacter nodosus vcs1703a', 'dichomitus squalens', 'dickeya chrysanthemi', 'dickeya dadantii', 'dickeya parazeae ech586', 'dickeya phage phid3', 'dickeya zeae', 'dictyocaulus viviparus', 'dictyoglomus thermophilum', 'dictyoglomus turgidum', 'dictyoglomus turgidum dsm 6724', 'dictyosoma burgeri', 'dictyostelium discoideum', 'diddensiella santjacobensis', 'didelphis', 'didelphis sp.', 'didelphis virginiana', 'didymella americana', 'didymella macrostoma', 'didymella phleina', 'didymella subherbarum', 'didymium iridis', 'didymosphaeria futilis', 'dietzia cinnamea', 'dietzia maris', 'dietzia natronolimnaea', 'dietzia sp.', 'dietzia sp. bbdp51', 'dietzia sp. ca149', 'dietzia timorensis', 'digitalis grandiflora', 'digitalis lanata', 'digitalis parviflora', 'digitalis purpurea', 'digitalis subalpina', 'digitalis thapsi', 'digitaria sanguinalis', 'dimorphotheca sinuata', 'dinophyceae', 'dinophysiaceae', 'dinophysis', 'dinophysis acuminata', 'dinophysis acuta', 'dinophysis norvegica', 'dinoroseobacter shibae', 'dinoroseobacter shibae dfl 12 = dsm 16493', 'dioscorea alata', 'dioscorea bulbifera', 'dioscorea cayenensis', 'dioscorea elephantipes', 'dioscorea polystachya', 'dioscoreophyllum cumminsii', 'diospyros kaki', 'diphasiastrum tristachyum', 'diplobatis ommata', 'diplodia', 'diplodia seriata', 'diplotaxis tenuifolia', 'dipodascus histeridarus', 'dipodascus klebahnii', 'dipodascus sp. lev-4', 'dipsastraea favus', 'dirofilaria immitis', 'dirofilaria repens', 'discoglossus pictus', 'discosoma', 'discosoma sp.', 'discosoma striata', 'ditiola', 'ditiola radicata', 'ditylum brightwellii', 'diutina catenulata', 'diutina rugosa', 'diversispora versiformis', 'dobrava-belgrade orthohantavirus', 'dokdonella', 'dokdonia sp. med134', 'dolichandra unguis-cati', 'dolichospermum flos-aquae', 'dolichovespula maculata', 'dolomedes tenebrosus', 'dolosigranulum pigrum', 'dorea', 'dorea formicigenerans', 'dorea formicigenerans atcc 27755', 'dorea longicatena', 'dorea longicatena dsm 13814', 'dorea sp.', 'dorea sp. cag:317', 'doryteuthis pealeii', 'dosidicus gigas', 'dothistroma septosporum', 'draba nemorosa', 'dracunculus medinensis', \"drechslera sp. 'hartlebii'\", 'drechslerella dactyloides', 'dreissena polymorpha', 'dreissena rostriformis bugensis', 'drepanopeziza brunnea', 'drimys granadensis', 'drimys winteri', 'drosophila', 'drosophila ananassae', 'drosophila busckii', 'drosophila c virus', 'drosophila c virus strain eb', 'drosophila erecta', 'drosophila grimshawi', 'drosophila hydei', 'drosophila immigrans', 'drosophila mauritiana', 'drosophila melanogaster', 'drosophila melanogaster idefix virus', 'drosophila melanogaster zam virus', 'drosophila mercatorum', 'drosophila mojavensis', 'drosophila persimilis', 'drosophila pseudoobscura', 'drosophila pseudoobscura pseudoobscura', 'drosophila sechellia', 'drosophila simulans', 'drosophila sp. (in: insecta)', 'drosophila spec.', 'drosophila subobscura', 'drosophila virilis', 'drosophila willistoni', 'drosophila yakuba', 'duck adenovirus 1', 'duck atadenovirus a', 'duck circovirus', 'duck hepatitis b virus', 'dugbe orthonairovirus', 'dugesia japonica', 'dugong dugon', 'dunaliella', 'dunaliella bioculata', 'dunaliella salina', 'dunaliella sp.', 'dunaliella tertiolecta', 'dunaliella viridis', 'durio zibethinus', 'duvenhage lyssavirus', 'dyadobacter', 'dyadobacter fermentans', 'dyadobacter fermentans dsm 18053', 'dyella ginsengisoli', 'dyella japonica', 'dysgonomonas gadei', 'dysgonomonas mossii', 'e. casseliflavus', 'e. coli k12 (mg1655)', 'e. faecalis', 'e. faecium', 'e. gallinarum', 'eastern equine encephalitis virus', 'ebola virus', 'ebola virus - mayinga, zaire, 1976', 'ebola virus sp.', 'ebola virus zaire strain', 'echinochloa crus-galli', 'echinochloa frumentacea', 'echinococcus multilocularis', 'echinophyllia', 'echis carinatus', 'echium pitardii', 'echium plantagineum', 'echovirus', 'echovirus e1', 'echovirus e11', 'echovirus e12', 'echovirus e2', 'echovirus e26', 'echovirus e4', 'echovirus e5', 'echovirus e6', 'echovirus e7', 'echovirus e9', 'ecm virus', 'ecteinascidia turbinata', 'ectocarpus siliculosus', 'ectocarpus siliculosus virus 1', 'ectothiorhodospira', 'ectromelia virus', 'ectromelia virus moscow', 'ectropis obliqua nucleopolyhedrovirus', 'edwardsiella hoshinae', 'edwardsiella ictaluri', 'edwardsiella ictaluri 93-146', 'edwardsiella tarda', 'edwardsiella tarda atcc 15947 = nbrc 105688', 'effusibacillus consociatus', 'effusibacillus pohliae', 'egeria densa', 'eggdrop syndrome virus', 'eggerthella', 'eggerthella lenta', 'eggerthella lenta dsm 2243', 'eggerthella sinensis', 'eggerthella sp.', 'eggerthella sp. hga1', 'ehrlichia', 'ehrlichia canis', 'ehrlichia canis str. jake', 'ehrlichia chaffeensis', 'ehrlichia chaffeensis str. arkansas', 'ehrlichia chaffeensis str. sapulpa', 'ehrlichia ewingii', 'ehrlichia muris', 'ehrlichia ruminantium', 'ehrlichia ruminantium str. gardel', 'ehrlichia ruminantium str. welgevonden', 'ehrlichia sp.', 'eikenella corrodens', 'eikenella corrodens atcc 23834', 'eikenella sp.', 'eimeria', 'eimeria acervulina', 'eimeria bovis', 'eimeria maxima', 'eimeria meleagrimitis', 'eimeria tenella', 'eimeria zuernii', 'eisenia fetida', 'elaeagnus umbellata', 'elaeis guineensis', 'elaeis oleifera', 'elaeocarpus photiniifolius', 'elapidae', 'electrophorus electricus', 'eleocharis mamillata', 'eleocharis vivipara', 'elephas maximus', 'elettaria cardamomum', 'eleusine coracana', 'eleusine indica', 'eleutherococcus trifoliatus', 'eliomys quercinus', 'elizabethkingia meningoseptica', 'elliptochloris subsphaerica', 'elsholtzia fruticosa', 'elusimicrobium minutum', 'elusimicrobium minutum pei191', 'elymus sibiricus', 'emberiza spodocephala', 'embryophyta', 'emergencia timonensis', 'emesis lucinda', 'emiliania huxleyi', 'emiliania huxleyi ccmp1516', 'empedobacter', 'empedobacter brevis', 'empetrum nigrum', 'emticicia', 'emticicia oligotrophica', 'emys orbicularis', 'encephalitozoon cuniculi', 'encephalitozoon cuniculi gb-m1', 'encephalitozoon hellem', 'encephalitozoon intestinalis', 'encephalomyocarditis virus', 'enchytraeus buchholzi', 'endocarpon pusillum', 'endophyte e1', 'endophyte nea11', 'endophyte nea12', 'engraulis encrasicolus', 'engraulis japonicus', 'enhydrobacter aerosaccus', 'enhydrobacter aerosaccus sk60', 'enorma massiliensis phi', 'ensifer adhaerens', 'ensifer adhaerens strain b742', 'ensifer adhaerens strain b758', 'ensifer adhaerens strain b760', 'entacmaea quadricolor', 'entamoeba', 'entamoeba dispar', 'entamoeba histolytica', 'entamoeba histolytica hm-1:imss', 'enterobacter', 'enterobacter asburiae', 'enterobacter bugandensis', 'enterobacter cancerogenus', 'enterobacter cloacae', 'enterobacter cloacae ecwsu1', 'enterobacter cloacae subsp. cloacae', 'enterobacter cloacae subsp. dissolvens', 'enterobacter hormaechei', 'enterobacter hormaechei atcc 49162', 'enterobacter kobei', 'enterobacter ludwigii', 'enterobacter mori', 'enterobacter sp.', 'enterobacter sp. 25', 'enterobacter sp. 638', 'enterobacter timonensis', 'enterobacterales', 'enterobacteria phage c-1', 'enterobacteria phage f1', 'enterobacteria phage f6', 'enterobacteria phage fd', 'enterobacteria phage h-19b', 'enterobacteria phage k11', 'enterobacteria phage lz2', 'enterobacteria phage p21', 'enterobacteria phage phip27', 'enterobacteria phage pp01', 'enterobacteria phage prd1', 'enterobacteria phage rb23', 'enterobacteria phage rb27', 'enterobacteria phage rb61', 'enterobacteria phage t2', 'enterobacteria phage t3', 'enterobacteria phage t6', 'enterobacteria phage u5', 'enterobacteria phage vt2-sakai', 'enterobacteriaceae', 'enterobacteriaceae bacterium', 'enterobacteriaceae bacterium 9_2_54faa', 'enterobacteriaceae bacterium dc260', 'enterobacteriaceae bacterium dc404', 'enterobacteriaceae bacterium smarlab 3302238', 'enterocloster aldenensis', 'enterocloster asparagiformis', 'enterocloster bolteae', 'enterocloster bolteae atcc baa-613', 'enterocloster citroniae', 'enterocloster clostridioformis', 'enterocloster lavalensis', 'enterococcal phage fc1', 'enterococcus', 'enterococcus avium', 'enterococcus caccae', 'enterococcus casseliflavus', 'enterococcus casseliflavus ec30', 'enterococcus cecorum', 'enterococcus columbae', 'enterococcus dispar', 'enterococcus durans', 'enterococcus faecalis', 'enterococcus faecalis engen0297', 'enterococcus faecalis og1rf', 'enterococcus faecalis tx0104', 'enterococcus faecalis v583', 'enterococcus faecium', 'enterococcus faecium com12', 'enterococcus faecium do', 'enterococcus faecium tx1330', 'enterococcus gallinarum', 'enterococcus gallinarum eg2', 'enterococcus gilvus', 'enterococcus haemoperoxidus', 'enterococcus hawaiiensis', 'enterococcus hirae', 'enterococcus hirae atcc 9790', 'enterococcus italicus', 'enterococcus lactis', 'enterococcus malodoratus', 'enterococcus moraviensis', 'enterococcus mundtii', 'enterococcus mundtii qu 25', 'enterococcus phage', 'enterococcus pseudoavium', 'enterococcus raffinosus', 'enterococcus saccharolyticus', 'enterococcus sp.', 'enterococcus sp. f95', 'enterococcus sulfureus', 'enterococcus thailandicus', 'enterococcus villorum', 'enteroctopus dofleini', 'enterovirus', 'enterovirus 5865/sin/000009', 'enterovirus a', 'enterovirus a71', 'enterovirus b', 'enterovirus c', 'enterovirus ca55-1988', 'enterovirus d', 'enterovirus d70', 'enterovirus e', 'enterovirus g', 'enterovirus h', 'enterovirus sp.', 'entodinium caudatum', 'entoloma', 'entoloma rhodopolium', 'eopsetta jordani', 'ephedra sinica', 'ephydatia fluviatilis', 'epiactis japonica', 'epichloe', 'epichloe amarillans', 'epichloe elymi', 'epichloe festucae', 'epichloe festucae e2368', 'epichloe festucae var. lolii', 'epicoccum', 'epicoccum nigrum', 'epidalea calamita', 'epidermidibacterium keratini', 'epifagus', 'epifagus virginiana', 'epilachna varivestis', 'epilithonimonas lactis', 'epilithonimonas tenax', 'epinephelus bruneus', 'epiphyas postvittana', 'epiphyas postvittana nucleopolyhedrovirus', 'epizootic hemorrhagic disease virus', 'epsilonpapillomavirus 1', 'eptatretus burgeri', 'eptesicus serotinus', 'equid alphaherpesvirus 1', 'equid alphaherpesvirus 4', 'equid gammaherpesvirus 2', 'equine arteritis virus', 'equine encephalosis virus', 'equine foamy virus', 'equine infectious anemia virus', 'equine influenza virus', 'equine influenza virus h3n8', 'equine rhinitis a virus', 'equine rhinitis b virus 2', 'equisetum arvense', 'equisetum diffusum', 'equisetum fluviatile', 'equisetum hyemale', 'equus', 'equus asinus', 'equus caballus', 'equus caballus papillomavirus 1', 'equus przewalskii', 'equus sp.', 'eragrostis atrovirens', 'eragrostis curvula', 'eragrostis nindensis', 'eragrostis tef', 'eratigena agrestis', 'erbovirus a', 'erebia theano', 'eremascus albus', 'eremococcus coleocola', 'eremococcus coleocola acs-139-v-col8', 'eremothecium gossypii', 'eremothecium gossypii atcc 10895', 'erigeron canadensis', 'erignathus barbatus', 'erinaceus europaeus', 'erinnyis ello', 'eruca vesicaria subsp. sativa', 'erwinia', 'erwinia amylovora', 'erwinia aphidicola', 'erwinia billingiae', 'erwinia mallotivora', 'erwinia papayae', 'erwinia persicina', 'erwinia psidii', 'erwinia pyrifoliae', 'erwinia rhapontici', 'erwinia sp.', 'erwinia tasmaniensis', 'erwinia tasmaniensis et1/99', 'erwinia toletana', 'erwinia tracheiphila', 'eryngium glaciale', 'erysimum cheiri', 'erysipelatoclostridium ramosum', 'erysipelothrix inopinata', 'erysipelothrix rhusiopathiae', 'erysipelothrix rhusiopathiae atcc 19414', 'erysipelothrix tonsillarum', 'erysipelotrichaceae bacterium', 'erysipelotrichales', 'erysiphe necator', 'erysiphe pisi', 'erythranthe guttata', 'erythrina', 'erythrobacter litoralis', 'erythrobacter litoralis htcc2594', 'erythrobacter sp.', 'erythrobacter sp. nap1', 'erythrobacter sp. sd-21', 'erythroparvovirus', 'erythrostemon angulatus', 'escherichia', 'escherichia albertii', 'escherichia coli', 'escherichia coli 101-1', 'escherichia coli atcc 8739', 'escherichia coli b', 'escherichia coli b7a', 'escherichia coli bl21', 'escherichia coli bl21(de3)', 'escherichia coli cft073', 'escherichia coli dsm 30083 = jcm 1649 = atcc 11775', 'escherichia coli e110019', 'escherichia coli e22', 'escherichia coli f11', 'escherichia coli hs', 'escherichia coli k-12', 'escherichia coli o139:h28 str. e24377a', 'escherichia coli o157:h7', 'escherichia coli o157:h7 str. ec4115', 'escherichia coli o157:h7 str. edl933', 'escherichia coli o6', 'escherichia coli str. k-12 substr. dh10b', 'escherichia coli str. k-12 substr. mg1655', 'escherichia coli str. k-12 substr. w3110', 'escherichia coli umn026', 'escherichia coli uti89', 'escherichia coli w', 'escherichia coliorganism', 'escherichia fergusonii', 'escherichia fergusonii atcc 35469', 'escherichia phage 933w', 'escherichia phage d6', 'escherichia phage hk022', 'escherichia phage hk97', 'escherichia phage ms2', 'escherichia phage mu', 'escherichia phage n15', 'escherichia phage p1', 'escherichia phage phik', 'escherichia phage rb3', 'escherichia phage rb69', 'escherichia phage t5', 'escherichia phage t7', 'escherichia sp.', 'escherichia sp. 1_1_43', 'escherichia sp. 4_1_40b', 'escherichia sp. b4', 'escherichia virus k1-5', 'escherichia virus lambda', 'escherichia virus m13', 'escherichia virus ms2', 'escherichia virus p1', 'escherichia virus phik', 'escherichia virus phix174', 'escherichia virus qbeta', 'escherichia virus rb14', 'escherichia virus rb32', 'escherichia virus rb43', 'escherichia virus t4', 'escherichia virus t5', 'eschrichtius robustus', 'eschscholzia californica', 'eschscholzia californica subsp. californica', 'escovopsis weberi', 'etapapillomavirus 1', 'ethanoligenens harbinense', 'ethanoligenens harbinense yuan-3', 'euacasta dofleini', 'euagrus chisoseus', 'eubacteriaceae bacterium', 'eubacteriaceae bacterium p4p_50 p4', 'eubacteriales', 'eubacterium', 'eubacterium callanderi', 'eubacterium coprostanoligenes', 'eubacterium limosum', 'eubacterium multiforme', 'eubacterium oxidoreducens', 'eubacterium ramulus', 'eubacterium ruminantium', 'eubacterium saphenum atcc 49989', 'eubacterium sp.', 'eubacterium sp. cag:115', 'eubacterium sp. cag:146', 'eubacterium sp. cag:202', 'eubacterium sp. cag:251', 'eubacterium sp. cag:252', 'eubacterium sp. cag:86', 'eubacterium sp. oral clone gi038', 'eubacterium sp. oral clone ir009', 'eubacterium sp. oral clone jh012', 'eubacterium sp. oral clone ji012', 'eubacterium sp. oral clone jn088', 'eubacterium sp. oral clone js001', 'eubacterium ventriosum', 'eubacterium ventriosum atcc 27560', 'eubacterium xylanophilum', 'eucalyptus', 'eucalyptus camaldulensis', 'eucalyptus dunnii', 'eucalyptus globulus', 'eucalyptus grandis', 'eucalyptus gunnii', 'eucalyptus lehmannii', 'eucalyptus perriniana', 'eucalyptus saligna', 'eucalyptus tereticornis', 'eucommia ulmoides', 'euglena', 'euglena deses', 'euglena gracilis', 'euglena longa', 'euglenaria anabaena', 'eukaryota', 'eulemur fulvus', 'eulemur rubriventer', 'eumeta japonica', 'eumetopias jubatus', 'euonymus alatus', 'eupezizella aureliella', 'euphausia pacifica', 'euphausia superba', 'euphorbia antiquorum', 'euphorbia characias', 'euphorbia esula', 'euphorbia fischeriana', 'euphorbia heterophylla', 'euphorbia lagascae', 'euphorbia lathyris', 'euphorbia peplus', 'euphorbia pulcherrima', 'euphorbia tirucalli', 'euplotes aediculatus', 'euplotes eurystomus', 'euprosthenops australis', 'euprosthenops sp. wo2004016651', 'euprosthenops spiridrion', 'euroglyphus maynei', 'european brown hare syndrome virus', 'euryale ferox', 'eurythoe complanata', 'euschistus heros', 'euschistus servus', 'eustoma exaltatum', 'eustoma grandiflorum', 'euthynnus affinis', 'euthynnus alletteratus', 'eutrema halophilum', 'eutrema japonicum', 'eutrema salsugineum', 'eutreptiella braarudii', 'eutreptiella gymnastica', 'eutreptiella pomquetensis', 'eutreptiella sp. ccmp389', 'euura oligospila', 'euxoa scandens cypovirus 5', 'eva', 'evansella caseinilytica', 'evansella cellulosilytica', 'evansella cellulosilytica dsm 2522', 'evansella clarkii', 'evex c30', 'evex cvi153311', 'evex df25/04', 'evex dk3545', 'evex dk3631', 'evex dk5743', 'evex gg129', 'evex gg184', 'ewingella americana', 'ewingella americana atcc 33852', 'exaiptasia diaphana', 'exidia glandulosa', 'exiguobacterium', 'exiguobacterium acetylicum', 'exiguobacterium aurantiacum', 'exiguobacterium oxidotolerans', 'exiguobacterium profundum', 'exiguobacterium sibiricum', 'exiguobacterium sibiricum 255-15', 'exiguobacterium sp.', 'exiguobacterium sp. at1b', 'exiguobacterium undae', 'exocoetus volitans', 'exophiala dermatitidis', 'exophiala jeanselmei', 'exophiala spinifera', 'exserohilum rostratum', 'exserohilum turcicum', 'eyach virus', 'ezakiella coagulans', 'facklamia hominis', 'faecalibacterium', 'faecalibacterium butyricigenerans', 'faecalibacterium prausnitzii', 'faecalibacterium prausnitzii a2-165', 'faecalibacterium prausnitzii l2-6', 'faecalibacterium sp.', 'faecalicatena contorta', 'faecalicatena fissicatena', 'faecalicatena orotica', 'faecalitalea', 'faecalitalea cylindroides', 'fagopyrum esculentum', 'fagopyrum tataricum', 'fagus grandifolia', 'fagus sylvatica', 'falco femoralis', 'falco peregrinus', 'falco sparverius', 'falco vespertinus', 'falsirhodobacter sp. alg1', 'fannyhessea vaginae', 'fannyhessea vaginae dsm 15829', 'fasciola gigantica', 'fasciola hepatica', 'fastidiosipila sanguinis', 'felid alphaherpesvirus 1', 'feline', 'feline calicivirus', 'feline coronavirus', 'feline endogenous virus', 'feline foamy virus', 'feline immunodeficiency virus', 'feline infectious peritonitis virus', 'feline leukemia virus', 'feline morbillivirus', 'feline parvovirus', 'feline pneumovirus', 'feline rotavirus', 'felis catus', 'felis silvestris', 'felis sp.', 'feresa attenuata', 'ferrimonas balearica', 'ferroplasma', 'ferroplasma acidarmanus', 'ferroplasma acidarmanus fer1', 'ferroplasma acidiphilum', 'fervidobacterium', 'fervidobacterium nodosum', 'fervidobacterium nodosum rt17-b1', 'fervidobacterium pennivorans', 'festuca ovina', 'festuca pratensis', 'festuca rubra', 'fibrella aestuarina', 'fibrobacter succinogenes', 'fibrobacter succinogenes subsp. succinogenes s85', 'fibrocapsa japonica', 'fibroporia radiculosa', 'fibroporia vaillantii', 'fictibacillus gelatini', 'fictibacillus macauensis', 'fictibacillus solisalsi', 'ficus carica', 'figwort mosaic virus', 'filifactor alocis', 'filifactor villosus', 'filobasidium uniguttulatum', 'filoviridae', 'finch circovirus', 'finegoldia magna', 'finegoldia magna atcc 29328', 'firmicutes', 'firmicutes bacterium', 'firmicutes bacterium cag:110', 'firmicutes bacterium cag:176', 'firmicutes bacterium cag:227', 'firmicutes bacterium cag:240', 'firmicutes bacterium cag:270', 'firmicutes bacterium cag:272', 'firmicutes bacterium cag:321', 'firmicutes bacterium cag:552', 'firmicutes bacterium cag:95', 'fischerella sp.', 'fischerella thermalis', 'fistulobalanus albicostatus', 'fistulobalanus kondakovi', 'flammulina velutipes', 'flaveria anomala', 'flaveria bidentis', 'flaveria brownii', 'flaveria linearis', 'flaveria pringlei', 'flaveria pubescens', 'flaveria trinervia', 'flavihumibacter solisilvae', 'flavisolibacter', 'flavivirus fsme', 'flavivirus sp.', 'flavobacteria bacterium bbfl7', 'flavobacteriaceae bacterium sa-0082', 'flavobacteriaceae genomosp. c1', 'flavobacteriales', 'flavobacteriales bacterium alc-1', 'flavobacteriia', 'flavobacterium', 'flavobacterium aquatile', 'flavobacterium branchiophilum', 'flavobacterium branchiophilum fl-15', 'flavobacterium columnare', 'flavobacterium frigidarium', 'flavobacterium frigoris', 'flavobacterium johnsoniae', 'flavobacterium johnsoniae uw101', 'flavobacterium psychrophilum', 'flavobacterium sp.', 'flavobacterium sp. 316', 'flavobacterium sp. acj', 'flavobacterium sp. nf2-1', 'flavobacterium succinicans', 'flavonifractor', 'flavonifractor plautii', 'flavonifractor sp.', 'flexistipes sinusarabici', 'fluoribacter dumoffii', 'fluoribacter dumoffii ny 23', 'fluoribacter gormanii', 'fluviicola', 'folsomia candida', 'fomes fomentarius', 'fomitiporia mediterranea', 'fomitopsis officinalis', 'fomitopsis palustris', 'fomitopsis pinicola', 'fonsecaea pedrosoi', 'fontibacillus sp.', 'fontibacter ferrireducens', 'foot and mouth disease virus c', 'foot-and-mouth disease virus', 'foot-and-mouth disease virus a', 'foot-and-mouth disease virus asia 1', 'foot-and-mouth disease virus c5', 'foot-and-mouth disease virus o', 'foot-and-mouth disease virus sat 2', 'forficula auricularia', 'forficula scudderi', 'forsythia europaea', 'forsythia giraldiana', 'forsythia japonica', 'forsythia koreana', 'forsythia nakaii', 'forsythia ovata', 'forsythia saxatilis', 'forsythia suspensa', 'forsythia viridissima', 'forsythia x intermedia', 'fournierella massiliensis', 'fowl adenovirus', 'fowl adenovirus 9', 'fowl aviadenovirus 1', 'fowl aviadenovirus 8', 'fowl aviadenovirus a', 'fowl aviadenovirus d', 'fowlpox virus', 'fragaria sp. wo2004106530', 'fragaria vesca', 'fragaria vesca subsp. vesca', 'fragaria x ananassa', 'fragilariopsis cylindrus', 'francisella cf. tularensis subsp. novicida 3523', 'francisella persica atcc vr-331', 'francisella philomiragia', 'francisella philomiragia subsp. philomiragia atcc 25017', 'francisella philomiragiaorganism', 'francisella salina', 'francisella sp. fsc1006', 'francisella sp. wo2007054537', 'francisella tularensis', 'francisella tularensis subsp. holarctica', 'francisella tularensis subsp. holarctica fsc022', 'francisella tularensis subsp. novicida', 'francisella tularensis subsp. novicida u112', 'francisella tularensis subsp. tularensis', 'francisella tularensis subsp. tularensis schu s4', 'francolinus francolinus', 'franconibacter pulveris', 'frankia', 'frankia alni', 'frankia alni acn14a', 'frankia casuarinae', 'frankia inefficax', 'frankia sp.', 'frankia sp. ean1pec', 'frankliniella intonsa', 'frankliniella occidentalis', 'fraxinus excelsior', 'fraxinus mandshurica', 'friend murine leukemia virus', 'friend spleen focus-forming virus', 'fringilla coelebs', 'frischella perrara', 'fritillaria agrestis', 'fritillaria cirrhosa', 'frog adenovirus 1', 'fructilactobacillus fructivorans', 'fructilactobacillus lindneri', 'fructilactobacillus sanfranciscensis', 'fructobacillus pseudoficulneus', 'fructobacillus tropaeoli', 'fuchsia', 'fucus distichus', 'fucus gardneri', 'fujinami sarcoma virus', 'fulvia fulva', 'fulvimarina pelagi', 'fulvimonas sp.', 'fulvimonas sp. nml 060897', 'funaria hygrometrica', 'fundulus heteroclitus', 'fungi', 'fungia', 'funneliformis mosseae', 'furfurilactobacillus rossiae', 'fusarium', 'fusarium acuminatum', 'fusarium avenaceum', 'fusarium chlamydosporum', 'fusarium culmorum', 'fusarium equiseti', 'fusarium fujikuroi', 'fusarium graminearum', 'fusarium graminearum ph-1', 'fusarium haematococcum', 'fusarium heterosporum', 'fusarium incarnatum', 'fusarium lactis', 'fusarium langsethiae', 'fusarium longipes', 'fusarium neocosmosporiellum', 'fusarium oxysporum', 'fusarium oxysporum f. sp. cubense', 'fusarium oxysporum f. sp. lycopersici', 'fusarium oxysporum f. sp. raphani', 'fusarium phyllophilum', 'fusarium poae', 'fusarium proliferatum', 'fusarium pseudograminearum', 'fusarium redolens', 'fusarium solani', 'fusarium sp.', 'fusarium sp. 2 f75', 'fusarium sporotrichioides', 'fusarium subglutinans', 'fusarium sulphureum', 'fusarium tricinctum', 'fusarium vanettenii 77-13-4', 'fusarium venenatum', 'fusarium verticillioides', 'fusarium verticillioides gz3639', 'fuscovulum blasticum', 'fusibacter sp. sa1', 'fusicatenibacter', 'fusicatenibacter saccharivorans', 'fusobacterium canifelinum', 'fusobacterium genomosp. c1', 'fusobacterium genomosp. c2', 'fusobacterium gonidiaformans', 'fusobacterium gonidiaformans 3-1-5r', 'fusobacterium gonidiaformans atcc 25563', 'fusobacterium mortiferum', 'fusobacterium mortiferum atcc 9817', 'fusobacterium necrogenes', 'fusobacterium necrophorum', 'fusobacterium necrophorum d12', 'fusobacterium necrophorum subsp. funduliforme fnf 1007', 'fusobacterium necrophorum subsp. necrophorum', 'fusobacterium nucleatum', 'fusobacterium nucleatum subsp. animalis 11_3_2', 'fusobacterium nucleatum subsp. animalis 3_1_33', 'fusobacterium nucleatum subsp. nucleatum', 'fusobacterium nucleatum subsp. nucleatum atcc 25586', 'fusobacterium nucleatum subsp. polymorphum', 'fusobacterium nucleatum subsp. polymorphum atcc 10953', 'fusobacterium nucleatum subsp. vincentii 3_1_27', 'fusobacterium nucleatum subsp. vincentii 3_1_36a2', 'fusobacterium nucleatum subsp. vincentii atcc 49256', 'fusobacterium perfoetens', 'fusobacterium periodonticum', 'fusobacterium periodonticum 1_1_41faa', 'fusobacterium periodonticum 2_1_31', 'fusobacterium periodonticum atcc 33693', 'fusobacterium sp.', 'fusobacterium sp. ac18', 'fusobacterium sp. acb2', 'fusobacterium sp. as2', 'fusobacterium sp. cag:439', 'fusobacterium sp. cm1', 'fusobacterium sp. cm21', 'fusobacterium ulcerans', 'fusobacterium ulcerans 12-1b', 'fusobacterium varium', 'fusobacterium varium atcc 27725', 'g.stearothermophilus', 'gadus chalcogrammus', 'gadus macrocephalus', 'gadus morhua', 'gaeumannomyces avenae', 'gaeumannomyces graminis', 'galactomyces pseudocandidus', 'galago matschiei', 'galago moholi', 'galagoides demidoff', 'galanthus nivalis', 'galaxea fascicularis', 'galdieria partita', 'galdieria sulphuraria', 'galega orientalis', 'galeopterus variegatus', 'galleria mellonella', 'galleria mellonella densovirus', 'gallid alphaherpesvirus 1', 'gallid alphaherpesvirus 2', 'gallid alphaherpesvirus 3', 'gallionella capsiferriformans', 'gallionella capsiferriformans es-2', 'gallus', 'gallus gallus', 'gallus sp.', 'gambierdiscus', 'gambierdiscus belizeanus', 'gambierdiscus caribaeus', 'gambierdiscus carolinianus', 'gambierdiscus carpenteri', 'gambierdiscus pacificus', 'gambierdiscus toxicus', 'gambusia affinis', \"gamma proteobacterium 'hot 75m4'\", 'gamma proteobacterium htcc2207', 'gammaproteobacteria', 'gammaproteobacteria bacterium', 'ganoderma', 'ganoderma applanatum', 'ganoderma boninense', 'ganoderma lucidum', 'ganoderma sinense', 'ganoderma tsugae', 'garcinia mangostana', 'gardenia fucata', 'gardenia hansemannii', 'gardenia jasminoides', 'gardenia thunbergia', 'gardnerella vaginalis', 'gardnerella vaginalis atcc 14019', 'garlic mosaic virus', 'garrulus glandarius', 'gasteracantha cancriformis', 'gasterosteus aculeatus', 'gastrodia elata', 'gastrodia pubilabiata', 'gastrophysa viridula', 'gaussia princeps (t. scott, 1894)', 'gavialis gangeticus', 'gazella sp.', 'gazella subgutturosa', 'gb virus c', 'gb virus-b', 'gekko gecko', 'gekko japonicus', 'gelatoporia subvermispora', 'gemella asaccharolytica', 'gemella haemolysans', 'gemella haemolysans atcc 10379', 'gemella morbillorum', 'gemella palaticanis', 'gemella sanguinis', 'gemella sp.', 'geminigera cryophila', 'geminisphaera colitermitum tav2', 'geminiviridae', 'geminocystis herdmanii pcc 6308', 'gemmata obscuriglobus', 'gemmata obscuriglobus uqm 2246', 'gemmatimonas aurantiaca', 'gemmatimonas aurantiaca t-27', 'gemmiger formicilis', 'gemmiger sp.', 'genicularia spirotaenia', 'gentiana', 'gentiana ligustica', 'gentiana lutea', 'gentiana scabra', 'gentiana scabra var. buergeri', 'gentiana triflora', 'gentiana triflora var. japonica', 'geobacillus', 'geobacillus kaustophilus', 'geobacillus kaustophilus hta426', 'geobacillus sp.', 'geobacillus sp. #30', 'geobacillus sp. e263', 'geobacillus sp. wch70', 'geobacillus sp. y4.1mc1', 'geobacillus stearothermophilus', 'geobacillus thermocatenulatus', 'geobacillus thermodenitrificans', 'geobacillus thermodenitrificans ng80-2', 'geobacillus thermoleovorans', 'geobacillus zalihae', 'geobacter hephaestius', 'geobacter metallireducens', 'geobacter metallireducens gs-15', 'geobacter sp.', 'geobacter sp. m18', 'geobacter sp. m21', 'geobacter sulferreducens omcs', 'geobacter sulferreducens omcz', 'geobacter sulfurreducens', 'geobacter sulfurreducens pca', 'geobalanus oblongifolius', 'geodermatophilus', 'geodermatophilus obscurus', 'geodia cydonium', 'geophagus proximus', 'georgenia', 'geospiza fortis', 'geotalea daltonii frc-32', 'geotalea uraniireducens rf4', 'geothermobacter hydrogeniphilus', 'geotrichum candidum', 'geotrichum sp. m128', 'gerbera hybrid cultivar', 'getah virus', 'ghost chili pepper', 'giardia intestinalis', 'giardia lamblia atcc 50803', 'giardia lamblia virus', 'gibbon ape leukemia virus', 'gibellulopsis nigrescens', 'gilliamella apicola', 'gimesia maris', 'gimesia maris dsm 8797', 'ginglymostoma cirratum', 'ginkgo biloba', 'girardia tigrina', 'girella punctata', 'glaciecola punicea', 'glaciibacter superstes', 'glaesserella parasuis', 'glaesserella parasuis sh0165', 'glandularia x hybrida', 'glaucium flavum', 'glaucomys sabrinus', 'glaucomys volans', 'glebionis coronaria', 'glechoma hederacea', 'gleimia coleocanis dsm 15436', 'gleimia europaea', 'gliocladium', 'glirulus japonicus', 'glis glis', 'globicatella sanguinis', 'globicephala macrorhynchus', 'globicephala melas', 'globisporangium irregulare', 'globisporangium nunn', 'globisporangium splendens', 'globisporangium sylvaticum', 'globisporangium ultimum', 'globisporangium ultimum var. ultimum', 'globodera pallida', 'globodera rostochiensis', 'gloeobacter violaceus', 'gloeobacter violaceus pcc 7421', 'gloeocapsa sp. pcc 7428', 'gloeophyllum', 'gloeophyllum sepiarium', 'gloeophyllum trabeum', 'gloeothece citriformis pcc 7424', 'gloeothece sp.', 'gloeothece verrucosa pcc 7822', 'gloriosa superba', 'glossina morsitans morsitans', 'glossomastix chrysoplasta', 'gloydius brevicaudus', 'gloydius halys', 'gluconacetobacter azotocaptans', 'gluconacetobacter diazotrophicus', 'gluconacetobacter diazotrophicus pa1 5', 'gluconacetobacter entanii', 'gluconacetobacter johannae', 'gluconacetobacter liquefaciens', 'gluconacetobacter polyoxogenes', 'gluconobacter', 'gluconobacter cerinus', 'gluconobacter frateurii', 'gluconobacter japonicus', 'gluconobacter oxydans', 'gluconobacter oxydans 621h', 'gluconobacter sp. nbrc 3243', 'gluconobacter thailandicus', 'glutamicibacter arilaitensis', 'glutamicibacter bergerei', 'glutamicibacter nicotianae', 'glutamicibacter protophormiae', 'glycaspis brimblecombei', 'glycine', 'glycine max', 'glycine soja', 'glycomyces', 'glycyphagus domesticus', 'glycyrrhiza echinata', 'glycyrrhiza glabra', 'glycyrrhiza uralensis', 'glyptocephalus cynoglossus', 'gnetum gnemon', 'gnetum parvifolium', 'gnomoniopsis', 'goatpox virus', 'gokushovirinae fen7875_21', 'golovinomyces orontii', 'gongronella butleri', 'gonyaulax spinifera', 'goodfellowiella coeruleoviolacea', 'goose circovirus', 'goose parvovirus', 'gordonia alkanivorans nbrc 16433', 'gordonia amicalis', 'gordonia bronchialis', 'gordonia bronchialis dsm 43247', 'gordonia effusa', 'gordonia hydrophobica', 'gordonia polyisoprenivorans', 'gordonia rubripertincta', 'gordonia sp.', 'gordonia sp. tf6', 'gordonia sputi', 'gordonia terrae', 'gordonia terrae c-6', 'gordonia westfalica', 'gordonibacter pamelaeae', 'gordonibacter urolithinfaciens', 'gorilla beringei beringei', 'gorilla beringei graueri', 'gorilla gorilla', 'gorilla rhadinovirus 1', 'gossypioides kirkii', 'gossypium', 'gossypium arboreum', 'gossypium barbadense', 'gossypium darwinii', 'gossypium herbaceum', 'gossypium hirsutum', 'gossypium longicalyx', 'gossypium mustelinum', 'gossypium raimondii', 'gossypium sp. ep2543732', 'gossypium sp. wo2008015263', 'gossypium spp.', 'gossypium tomentosum', 'gottfriedia acidiceleris', 'gottfriedia luciferensis', 'gracilaria gracilis', 'gracilibacter thermotolerans', 'gramella forsetii', 'gramella forsetii kt0803', 'grammostola rosea', 'grampus griseus', 'granulibacter bethesdensis', 'granulibacter bethesdensis cgdnih1', 'granulicatella', 'granulicatella adiacens', 'granulicatella adiacens atcc 49175', 'granulicatella elegans', 'granulicatella elegans atcc 700633', 'granulicatella para-adiacens', 'granulicella mallensis', 'grapevine leafroll-associated virus 2', 'grapholita molesta', 'great island virus', 'gremmeniella abietina', 'gremmeniella abietina rna virus l1', 'gremmeniella abietina rna virus ms1', 'griffithsia japonica', 'grifola frondosa', 'grifola sordulenta', 'grimontia hollisae', 'grimontia hollisae cip 101886', 'grosmannia clavigera', 'ground squirrel hepatitis virus', 'groundnut bud necrosis virus', 'groundnut ringspot and tomato chlorotic spot virus reassortant', 'groundnut ringspot virus', 'grus americana', 'grus grus', 'grus japonensis', 'grus leucogeranus', 'grus monacha', 'grus nigricollis', 'grus paradisea', 'grus virgo', 'gryllus bimaculatus', 'guanarito mammarenavirus', 'guillardia theta', 'guinea pig parainfluenza virus ts-9', 'guizotia abyssinica', 'gulbenkiania indica', 'gull circovirus', 'gulosibacter bifidus', 'gymnadenia conopsea', 'gymnanthemum mespilifolium', 'gymnascella citrina', 'gymnema sylvestre', 'gymnodinium catenatum', 'gynandropsis gynandra', 'gynostemma pentaphyllum', 'gynuella sunshinyii yc6258', 'gypsophila elegans', 'gypsophila paniculata', 'gypsophila vaccaria', 'h-1 parvovirus', 'h. felis', 'h. jecorina gh61a', 'h. pylori', 'h. suis', 'h1n1 subtype', 'h1n1 swine influenza virus', 'h5n1 subtype', 'habrobracon hebetor', 'hadronyche infensa', 'hadronyche versuta', 'haemaphysalis longicornis', 'haematobacter sp. bc14248', 'haematobia irritans', 'haematobia irritans exigua', 'haematococcus', 'haematococcus lacustris', 'haementeria ghilianii', 'haemonchus contortus', 'haemophilus', 'haemophilus aegyptius', 'haemophilus genomosp. p2 oral clone mb3_c24', 'haemophilus genomosp. p3 oral clone mb3_c38', 'haemophilus haemolyticus', 'haemophilus influenzae', 'haemophilus influenzae 3655', 'haemophilus influenzae 86-028np', 'haemophilus influenzae biotype aegyptius', 'haemophilus influenzae r2846', 'haemophilus influenzae r2866', 'haemophilus influenzae rd kw20', 'haemophilus parahaemolyticus', 'haemophilus parainfluenzae', 'haemophilus pittmaniae', 'haemophilus sp.', 'haemophilus sp. 70334', 'haemophilus sp. ccug 32367', 'haemophilus sp. oral clone bj021', 'haemophilus sp. oral clone jm053', 'haemophilus sp. oral taxon 851', 'haemophilus sputorum', 'hafnia', 'hafnia alvei', 'hafnia alvei atcc 13337', 'hahella chejuensis', 'hahella chejuensis kctc 2396', 'halalkalicoccus jeotgali', 'halalkalicoccus paucihalophilus', 'halanaerobium hydrogeniformans', 'haliaeetus albicilla', 'haliaeetus leucocephalus', 'haliaeetus pelagicus', 'haliangium ochraceum', 'halichondria okadai', 'haliotis', 'haliotis discus', 'haliotis discus discus', 'haliotis discus hannai', 'haliotis gigantea', 'haliotis kamtschatkana assimilis', 'haliotis madaka', 'haliotis tuberculata', 'haliscomenobacter hydrossis', 'haloarchaeon s8a', 'haloarcula argentinensis', 'haloarcula hispanica', 'haloarcula japonica', 'haloarcula marismortui', 'haloarcula marismortui atcc 43049', 'haloarcula vallismortis', 'halobacillus halophilus', 'halobacillus trueperi', 'halobacterium', 'halobacterium salinarum', 'halobacterium salinarum nrc-1', 'halobacterium sp.', 'halobacteroides halobius', 'halobacteroides halobius dsm 5150', 'halococcus agarilyticus', 'halocynthia roretzi', 'halocyphina villosa', 'haloferax mediterranei', 'haloferax volcanii', 'haloferax volcanii ds2', 'halogranum salarium', 'halomonas anticariensis', 'halomonas aquamarina', 'halomonas boliviensis', 'halomonas elongata', 'halomonas halodenitrificans', 'halomonas halophila', 'halomonas johnsoniae', 'halomonas salifodinae', 'halomonas sp.', 'halomonas sp. km-1', 'halomonas sp. oitc1261', 'halomonas stevensii', 'halomonas titanicae', 'halomonas virus hap1', 'halophilic archaeon', 'halophilic archaeon dl31', 'halopiger aswanensis', 'halopiger xanaduensis', 'halopseudomonas aestusnigri', 'haloquadratum walsbyi', 'haloquadratum walsbyi c23', 'halorhabdus utahensis', 'halorhodospira halophila', 'halorhodospira halophila sl1', 'halorubrum lacusprofundi', 'halorubrum lipolyticum', 'halorubrum sodomense', 'halosimplex carlsbadense', 'haloterrigena turkmenica', 'halothece sp. pcc 7418', 'halothermothrix orenii', 'halothermothrix orenii h 168', 'halothiobacillus neapolitanus c2', 'halyomorpha halys', 'hamamotoa singularis', 'hamigera avellanea', 'hamigera sp. (in: fungi)', 'hamster papovavirus', 'hamster parvovirus', 'handkea fumosa', 'hanseniaspora occidentalis', 'hanseniaspora osmophila', 'hanseniaspora uvarum', 'hanseniaspora valbyensis', 'hanseniaspora vineae', 'hantaan orthohantavirus', 'hantaan virus lee', 'hantavirus sp.', 'haptophyta', 'harmonia axyridis', 'harpegnathos saltator', 'hasarius adansoni', 'hassallia byssoidea vb512170', 'hathewaya histolytica', 'hathewaya limosa', 'hawaii calicivirus', 'hbv genotype b', 'hbv genotype c', 'hbv genotype e', 'hbv genotype g', 'heartland virus', 'hebeloma cylindrosporum', 'hedera helix', 'hedyotis terminalis', 'helarctos malayanus', 'helcococcus', 'helcococcus kunzii atcc 51366', 'helianthus', 'helianthus annuus', 'helianthus argophyllus', 'helianthus ciliaris', 'helianthus exilis', 'helianthus giganteus', 'helianthus maximiliani', 'helianthus paradoxus', 'helianthus pauciflorus', 'helianthus petiolaris', 'helianthus petiolaris subsp. fallax', 'helianthus petiolaris subsp. petiolaris', 'helianthus sp.', 'helianthus sp. wo2008062049', 'helianthus tuberosus', 'helicobacter acinonychis str. sheeba', 'helicobacter bilis', 'helicobacter bizzozeronii', 'helicobacter canadensis', 'helicobacter canadensis mit 98-5491', 'helicobacter cinaedi', 'helicobacter cinaedi ccug 18818 = atcc baa-847', 'helicobacter cynogastricus', 'helicobacter felis', 'helicobacter heilmannii', 'helicobacter hepaticus', 'helicobacter hepaticus atcc 51449', 'helicobacter mustelae', 'helicobacter pullorum', 'helicobacter pullorum mit 98-5489', 'helicobacter pylori', 'helicobacter pylori 26695', 'helicobacter pylori 98-10', 'helicobacter pylori b38', 'helicobacter pylori j166', 'helicobacter pylori j99', 'helicobacter pylori nctc 11637 = ccug 17874 = atcc 43504', 'helicobacter pylori nctc 11638', 'helicobacter pylori shi470', 'helicobacter sp.', 'helicobacter suis', 'helicobacter typhlonius', 'helicobacter winghamensis', 'helicobacter winghamensis atcc baa-430', 'heliconius melpomene', 'helicoon sessile', 'helicosporidium', 'helicosporidium sp.', 'helicoverpa armigera', 'helicoverpa armigera stunt virus', 'helicoverpa assulta', 'helicoverpa zea', 'heligmosomoides polygyrus', 'heliobacterium mobile', 'heliomicrobium modesticaldum', 'heliomicrobium modesticaldum ice1', 'heliothis subflexa', 'heliothis virescens', 'heliothis zea nudivirus', 'heliothrips haemorrhoidalis', 'helix pomatia', 'hellenia speciosa', 'helobdella robusta', 'helobdella triserialis', 'heloderma horridum', 'heloderma suspectum', 'hemerocallis', 'hemicentrotus pulcherrimus', 'hemiselmis rufescens', 'hemiselmis virescens', 'hemitragus jemlahicus', 'hendra henipavirus', 'henosepilachna vigintioctopunctata', 'hepacivirus', 'hepacivirus c', 'hepatitis b virus', 'hepatitis b virus adr4', 'hepatitis b virus genotype a', 'hepatitis b virus genotype c', 'hepatitis b virus subtype adw', 'hepatitis b virus subtype adw2', 'hepatitis b virus subtype adyw', 'hepatitis b virus subtype ayw', 'hepatitis c virus genotype 1', 'hepatitis c virus genotype 2', 'hepatitis c virus genotype 3', 'hepatitis c virus genotype 4', 'hepatitis c virus genotype 5', 'hepatitis c virus genotype 6', 'hepatitis c virus j6cf', 'hepatitis c virus jfh-1', 'hepatitis c virus subtype 2a', 'hepatitis delta virus', 'hepatitis e virus type 3', 'hepatitis virus', 'hepatovirus a', 'herbaspirillum', 'herbaspirillum seropedicae', 'herbaspirillum sp.', 'herbaspirillum sp. meg3', 'herbiconiux ginsengi', 'herichthys labridens', 'hericium coralloides', 'hericium erinaceus', 'heritiera littoralis', 'hermetia illucens', 'herminiimonas arsenicoxydans', 'herminiimonas arsenitoxidans', 'heron hepatitis b virus', 'herpes delta virus', 'herpes simplex virus unknown type', 'herpesviridae sp.', 'herpetosiphon', 'herpetosiphon aurantiacus', 'herpetosiphon aurantiacus dsm 785', 'hespellia sp.', 'hesperocyparis arizonica', 'heteractis crispa', 'heteractis sp.', 'heterobasidion annosum', 'heterobasidion irregulare', 'heterobasidion parviporum', 'heterocapsa', 'heterocapsa circularisquama rna virus 01', 'heterocapsa niei', 'heterocapsa triquetra', 'heterocephalus glaber', 'heterodera glycines', 'heterodera schachtii', 'heterodontus francisci', 'heterololigo bleekeri', 'heteropterus morpheus', 'heterorhabditis bacteriophora', 'heterorhabdus tanneri', 'heterosigma akashiwo', 'heterostylites major', 'hevea brasiliensis', 'hexagrammos otakii', 'hexaprotodon liberiensis', 'heyndrickxia sporothermodurans', 'hibiscus cannabinus', 'himetobi p virus', 'hippea maritima', 'hippocampus coronatus', 'hippodamia convergens', 'hippoglossoides platessoides', 'hippoglossus hippoglossus', 'hippoglossus stenolepis', 'hippopotamus amphibius', 'hippotragus equinus', 'hirame novirhabdovirus', 'hirudo medicinalis', 'hirundo rustica', 'histophilus somni', 'histophilus somni 129pt', 'histophilus somni 2336', 'histoplasma capsulatum', 'histoplasma capsulatum g186ar', 'histoplasma mississippiense (nom. inval.)', 'hiv-1 group o', 'hiv-1 vector pnl4-3', 'hoeflea phototrophica', 'hoeflea sp.', 'holcus lanatus', 'holdemanella biformis', 'holdemania filiformis', 'holdemania massiliensis', 'holophaga foetida', 'holothuria leucospilota', 'homarus americanus', 'hominidae', 'homo', 'homo sapiens', 'homo sapiens (paris)', 'homo sapiens (sirt6)', 'homo sapiens x mus musculus', 'homogyne alpina', 'honeysuckle yellow vein virus', 'hop latent viroid', 'hop stunt viroid', 'hoplocephalus stephensii', 'hordeum', 'hordeum brevisubulatum', 'hordeum bulbosum', 'hordeum chilense', 'hordeum intercedens', 'hordeum lechleri', 'hordeum marinum subsp. gussoneanum', 'hordeum murinum subsp. glaucum', 'hordeum murinum subsp. leporinum', 'hordeum sp.', 'hordeum vulgare', 'hordeum vulgare (tilling line 4528 mutant)', 'hordeum vulgare subsp. spontaneum', 'hordeum vulgare subsp. vulgare', 'hordeum vulgare var. distichon', 'hortaea werneckii', 'hottentotta judaicus', 'hoyosella subflava', 'hpv 16 l1', 'human adenovirus 1', 'human adenovirus 11', 'human adenovirus 11p', 'human adenovirus 12', 'human adenovirus 14', 'human adenovirus 15', 'human adenovirus 16', 'human adenovirus 17', 'human adenovirus 18', 'human adenovirus 19', 'human adenovirus 19a', 'human adenovirus 19p', 'human adenovirus 2', 'human adenovirus 20', 'human adenovirus 21', 'human adenovirus 22', 'human adenovirus 23', 'human adenovirus 24', 'human adenovirus 25', 'human adenovirus 26', 'human adenovirus 27', 'human adenovirus 28', 'human adenovirus 29', 'human adenovirus 30', 'human adenovirus 31', 'human adenovirus 32', 'human adenovirus 33', 'human adenovirus 34', 'human adenovirus 35', 'human adenovirus 36', 'human adenovirus 38', 'human adenovirus 39', 'human adenovirus 40', 'human adenovirus 41', 'human adenovirus 42', 'human adenovirus 43', 'human adenovirus 44', 'human adenovirus 45', 'human adenovirus 46', 'human adenovirus 47', 'human adenovirus 48', 'human adenovirus 49', 'human adenovirus 5', 'human adenovirus 50', 'human adenovirus 7', 'human adenovirus b2', 'human adenovirus b3', 'human adenovirus d10', 'human adenovirus d13', 'human adenovirus d37', 'human adenovirus d8', 'human adenovirus d9', 'human adenovirus e4', 'human adenovirus sp.', 'human alphaherpesvirus 1', 'human alphaherpesvirus 1 strain f', 'human alphaherpesvirus 1 strain kos', 'human alphaherpesvirus 2', 'human alphaherpesvirus 3', 'human astrovirus', 'human astrovirus 1', 'human betacoronavirus 2c emc/2012', 'human betaherpesvirus 5', 'human betaherpesvirus 6', 'human betaherpesvirus 6a', 'human betaherpesvirus 6b', 'human betaherpesvirus 7', 'human bocavirus', 'human cdc42 binding kinase intron', 'human coronavirus 229e', 'human coronavirus nl63', 'human coronavirus oc43', 'human cyclovirus', 'human endogenous retrovirus', 'human endogenous retrovirus erv-9', 'human endogenous retrovirus frd', 'human endogenous retrovirus h', 'human endogenous retrovirus k', 'human endogenous retrovirus r', 'human endogenous retrovirus r(b)', 'human endogenous retrovirus t', 'human endogenous retrovirus v', 'human endogenous retrovirus w', 'human enteric coronavirus 4408', 'human enterovirus', 'human foamy virus', 'human gammaherpesvirus 4', 'human gammaherpesvirus 8', 'human hbv', 'human hepatitis a virus', 'human herpesvirus', 'human herpesvirus 2 strain 186', 'human herpesvirus 4 (epstein-barr virus)', 'human herpesvirus 5 strain ad169', 'human immunodeficiency virus', 'human immunodeficiency virus 1', 'human immunodeficiency virus 1organism', 'human immunodeficiency virus 2', 'human immunodeficiency virus 3', 'human immunodeficiency virus type 2 (isolate 7312a)', 'human mastadenovirus a', 'human mastadenovirus b', 'human mastadenovirus c', 'human mastadenovirus d', 'human mastadenovirus e', 'human mastadenovirus f', 'human metapneumovirus', 'human orthopneumovirus', 'human orthorubulavirus 2', 'human orthorubulavirus 4', 'human papillomavirus', 'human papillomavirus 11', 'human papillomavirus 12', 'human papillomavirus 13', 'human papillomavirus 14', 'human papillomavirus 15', 'human papillomavirus 17', 'human papillomavirus 19', 'human papillomavirus 20', 'human papillomavirus 21', 'human papillomavirus 22', 'human papillomavirus 23', 'human papillomavirus 24', 'human papillomavirus 25', 'human papillomavirus 27', 'human papillomavirus 28', 'human papillomavirus 29', 'human papillomavirus 3', 'human papillomavirus 30', 'human papillomavirus 31', 'human papillomavirus 33', 'human papillomavirus 35', 'human papillomavirus 36', 'human papillomavirus 37', 'human papillomavirus 38', 'human papillomavirus 39', 'human papillomavirus 4', 'human papillomavirus 40', 'human papillomavirus 42', 'human papillomavirus 43', 'human papillomavirus 44', 'human papillomavirus 45', 'human papillomavirus 47', 'human papillomavirus 5', 'human papillomavirus 51', 'human papillomavirus 52', 'human papillomavirus 56', 'human papillomavirus 57', 'human papillomavirus 58', 'human papillomavirus 59', 'human papillomavirus 62', 'human papillomavirus 65', 'human papillomavirus 66', 'human papillomavirus 67', 'human papillomavirus 68', 'human papillomavirus 69', 'human papillomavirus 71', 'human papillomavirus 72', 'human papillomavirus 73', 'human papillomavirus 74', 'human papillomavirus 75', 'human papillomavirus 76', 'human papillomavirus 80', 'human papillomavirus 81', 'human papillomavirus 82', 'human papillomavirus 83', 'human papillomavirus 84', 'human papillomavirus 85', 'human papillomavirus 86', 'human papillomavirus 87', 'human papillomavirus 89', 'human papillomavirus 9', 'human papillomavirus 91', 'human papillomavirus 93', 'human papillomavirus 94', 'human papillomavirus 97', 'human papillomavirus rtrx7', 'human papillomavirus type 10', 'human papillomavirus type 16', 'human papillomavirus type 18', 'human papillomavirus type 1a', 'human papillomavirus type 2', 'human papillomavirus type 26', 'human papillomavirus type 2a', 'human papillomavirus type 32', 'human papillomavirus type 33 (hpv33)', 'human papillomavirus type 34', 'human papillomavirus type 41', 'human papillomavirus type 48', 'human papillomavirus type 49', 'human papillomavirus type 50', 'human papillomavirus type 53', 'human papillomavirus type 54', 'human papillomavirus type 55', 'human papillomavirus type 5b', 'human papillomavirus type 6', 'human papillomavirus type 60', 'human papillomavirus type 61', 'human papillomavirus type 63', 'human papillomavirus type 64', 'human papillomavirus type 6a', 'human papillomavirus type 6b', 'human papillomavirus type 7', 'human papillomavirus type 70', 'human papillomavirus type 8', 'human papillomavirus type 90', 'human papillomavirus type 92', 'human papillomavirus type 96', 'human parainfluenza virus', 'human parainfluenza virus 1 strain washington/1964', 'human parainfluenza virus 4a', 'human parainfluenza virus 4b', 'human parechovirus 2', 'human parvovirus b19', 'human pegivirus 2', 'human poliovirus 1', 'human poliovirus 1 mahoney', 'human poliovirus 2', 'human poliovirus 3', 'human polyomavirus 1', 'human polyomavirus 3', 'human respiratory syncytial virus s2', 'human respirovirus 1', 'human respirovirus 3', 'human rhinovirus sp.', 'human rotavirus', 'human rotavirus (serotype g2/strain 95c)', 'human rotavirus a', 'human rotavirus c', 'human spumaretrovirus', 'human t-cell leukemia virus type i', 'human t-cell lymphotropic virus', 'human t-cell lymphotropic virus type 4', 'human t-lymphotropic virus 2', 'human t-lymphotropic virus 3', 'human t-lymphotropic virus 4', 'humicola insolens', 'humicola nigrescens', 'humicolopsis cephalosporioides', 'humulus japonicus', 'humulus lupulus', 'hungatella hathewayi', 'huperzia lucidula', 'huperzia serrata', 'hyaloperonospora parasitica', 'hyas araneus', 'hybrid', 'hybrid- bacillus deramificans and bacillus acido pullulyticus', 'hydra viridissima', 'hydra vulgaris', 'hydrangea macrophylla', 'hydrastis canadensis', 'hydrilla verticillata', 'hydrogenibacillus schlegelii', 'hydrogenoanaerobacterium saccharovorans', 'hydrogenobacter thermophilus', 'hydrogenobacter thermophilus tk-6', 'hydrogenophaga flava', 'hydrogenophilus thermoluteolus', 'hydrogenovibrio crunogenus', 'hydrogenovibrio crunogenus xcl-2', 'hydrogenovibrio kuenenii', 'hydrogenovibrio marinus', 'hydropotes inermis', 'hydrurga leptonyx', 'hyla arborea', 'hyla meridionalis', 'hylemonella', 'hylobates agilis', 'hylobates lar', 'hylobates sp.', 'hylopetes phayrei', 'hymenobacter', 'hymenobacter gelipurpurascens', 'hymenoscyphus fraxineus', 'hyoscyamus muticus', 'hyoscyamus niger', 'hypericum androsaemum', 'hypericum perforatum', 'hyperoodon ampullatus', 'hyperthermus butylicus', 'hyperthermus butylicus dsm 5456', 'hyphantria cunea nucleopolyhedrovirus', 'hypholoma polytrichi', 'hyphomicrobiales', 'hyphomicrobium denitrificans', 'hyphomicrobium methylovorum', 'hyphomicrobium nitrativorans', 'hyphomicrobium nitrativorans nl23', 'hyphomicrobium sp.', 'hyphomicrobium sulfonivorans', 'hyphomicrobium-like organism', 'hyphomonas neptunium', 'hyphomonas neptunium atcc 15444', 'hyphomucor sp.', 'hyphopichia burtonii', 'hypocrea jecorina gh61a', 'hypomesus nipponensis', 'hypomyces mycophilus', 'hypomyces rosellus', 'hyporthodus septemfasciatus', 'hypothenemus hampei', 'hypoxylon haematostroma', 'hypsipetes amaurotis', 'hypsizygus marmoreus', 'iberochondrostoma lusitanicum', 'ichneumonidae', 'ichthyophthirius multifiliis', 'ictalurid herpesvirus 1', 'ictalurus punctatus', 'ictidomys tridecemlineatus', 'idahoa scapigera', 'ideonella sakaiensis', 'ideonella sp.', 'idiomarina loihiensis', 'idiomarina loihiensis l2tr', 'ignatzschineria indica', 'ignatzschineria sp.', 'ignatzschineria sp. nml 95-0260', 'ignicoccus hospitalis', 'ilex paraguariensis', 'illicium oligandrum', 'ilyobacter polytropus', 'ilyonectria destructans', 'impatiens balsamina', 'impatiens necrotic spot virus', 'incj plasmid r391', 'inct plasmid r394', 'indiana vesiculovirus', 'induratia alba', 'infectious bronchitis virus', 'infectious bursal disease virus', 'infectious bursal disease virus 52/70', 'infectious hematopoietic necrosis virus', 'infectious pancreatic necrosis virus', 'infectious spleen and kidney necrosis virus', 'influenza a virus', 'influenza a virus (a/anhui/1/2005(h5n1))', 'influenza a virus (a/anhui/1/2005)', 'influenza a virus (a/california/04/2009(h1n1))', 'influenza a virus (a/chicken/guiyang/441/2006)', 'influenza a virus (a/chicken/henan/12/2004)', 'influenza a virus (a/chicken/hong kong/sf219/01)', 'influenza a virus (a/chicken/italy/445/1999(h7n1))', 'influenza a virus (a/chicken/shanxi/2/2006)', 'influenza a virus (a/chicken/yamaguchi/7/2004(h5n1))', 'influenza a virus (a/duck/guangxi/1681/2004)', 'influenza a virus (a/duck/guangxi/2775/2005)', 'influenza a virus (a/duck/guangxi/35/2001(h5n1))', 'influenza a virus (a/duck/hong kong/2986.1/2000(h5n1))', 'influenza a virus (a/goose/guangdong/3/1997(h5n1))', 'influenza a virus (a/hong kong/156/97(h5n1))', 'influenza a virus (a/hong kong/213/03)', 'influenza a virus (a/indonesia/5/05)', 'influenza a virus (a/parakeet/chiba/1/97(h9n2))', 'influenza a virus (a/singapore/1/1957(h2n2))', 'influenza a virus (a/tree sparrow/henan/4/2004)', 'influenza a virus (a/turkey/turkey/1/05)', 'influenza a virus (a/udorn/307/1972(h3n2))', 'influenza a virus (a/viet nam/1203/2004(h5n1))', 'influenza a virus (a/wsn/1933(h1n1))', 'influenza a virus (h1n1)', 'influenza a virus h3n2', 'influenza a virus subtype h16', 'influenza b virus', 'influenza b virus (b/memphis/12/97-ma)', 'influenza b virus (b/vienna/1/99)', 'influenza c virus', 'influenza c virus (c/california/78)', 'influenza h5 a/indonesia/5/2005 (h5n1)', 'influenza h5 indonesia', 'influenza ha b wisconsin', 'inkoo virus', 'inquilinus limosus', 'intestinibacillus massiliensis', 'intestinibacter bartlettii', 'intestinimonas butyriciproducens', 'intestinimonas massiliensis', 'intrasporangium calvum', 'invertebrate iridescent virus 6', 'involved in microbially influenced corrosion (mic).organism  synthetic construct', 'iodobacter fluviatilis', 'ionopsidium acaule', 'iotapapillomavirus 1', 'ipomoea batatas', 'ipomoea hederacea', 'ipomoea nil', 'ipomoea purpurea', 'ipomoea quamoclit', 'ipomoea tiliacea', 'ipomoea tricolor', 'ipomoea trifida', 'ippy mammarenavirus', 'ips typographus', 'ircinia felix', 'iridovirus', 'iris', 'iris dichotoma', 'iris germanica', 'iris pseudacorus', 'iris tectorum', 'iris x hollandica', 'irpex laceratus', 'irpex lacteus', 'irpex latemarginatus', 'ischaemum koleostachys', 'isfahan virus', 'isochrysis galbana', 'isoetes lacustris', 'isoptericola jiangsuensis', 'israeli acute paralysis virus', 'ithaginis cruentus', 'ixeridium dentatum', 'ixodes hexagonus', 'ixodes holocyclus', 'ixodes ricinus', 'ixodes scapularis', 'jaagichlorella luteoviridis', 'jaagsiekte sheep retrovirus', 'jamestown canyon virus', 'janibacter', 'janibacter hoylei', 'janibacter limosus', 'janibacter melonis', 'janibacter sp.', 'janibacter sp. htcc2649', 'janibacter terrae', 'janiodes laverna', 'jannaschia', 'jannaschia sp. ccs1', 'janthinobacterium', 'janthinobacterium lividum', 'janthinobacterium sp.', 'janthinobacterium sp. sy12', 'japanese encephalitis virus', 'japanese yam mosaic virus', 'jasminum nudiflorum', 'jatropha', 'jatropha curcas', 'jatropha gossypiifolia', 'jc polyomavirus', 'jc-polyomavirus', 'jeffersonia diphylla', 'jejuia pallidilutea', 'jembrana disease virus', 'jeotgalibacillus marinus', 'jeotgalicoccus', 'jeotgalicoccus sp.', 'jeotgalicoccus sp. atcc 8456', 'jerry slough virus', 'johnsonella ignava', 'jonesia denitrificans', 'jonesia denitrificans dsm 20603', 'jonquetella anthropi', 'juglans hindsii x juglans regia', 'juglans nigra', 'juglans regia', 'juncus effusus', 'juniperus ashei', 'juniperus oxycedrus', 'juniperus virginiana', 'k. pneumoniae', 'k28 killer virus', 'kadua centranthoides', 'kaistia granuli', 'kalanchoe blossfeldiana', 'kalanchoe daigremontiana', 'kalanchoe fedtschenkoi', 'kalidium foliatum', 'kalotermes flavicollis', 'kamese virus', 'kamiti river virus', 'kandelia candel', 'kandleria vitulina', 'kangiella koreensis', 'kappapapillomavirus 1', 'kappapapillomavirus 2', 'kappaphycus alvarezii', 'karenia <dinophyceae>', 'karenia brevis', 'karenia mikimotoi', 'karlodinium', 'karlodinium veneficum', 'kashmir bee virus', 'katsuwonus pelamis', 'kazachstania exigua', 'kazachstania servazzii', 'kazachstania unispora', 'kennedia', 'kerstersia gyiorum', 'ketogulonicigenium vulgare y25', 'keystone virus', 'khuskia oryzae', 'ki?1?2stliche sequenz', 'kibdelosporangium aridum', 'kilham rat virus', 'kineococcus radiotolerans', 'kineococcus radiotolerans srs30216 = atcc baa-149', 'kingella denitrificans', 'kingella genomosp. p1 oral cone mb2_c20', 'kingella kingae', 'kingella kingae atcc 23330', 'kingella oralis', 'kingella oralis atcc 51147', 'kingella sp.', 'kingella sp. oral clone id059', 'kitasatospora', 'kitasatospora aureofaciens', 'kitasatospora griseola', 'kitasatospora putterlickiae', 'kitasatospora setae', 'kitasatospora setae km-6054', 'kitasatospora sp. cect 4991', 'kitasatospora sp. eco-03', 'klebsiella', 'klebsiella aerogenes', 'klebsiella aerogenes kctc 2190', 'klebsiella michiganensis kctc 1686', 'klebsiella oxytoca', 'klebsiella oxytoca 10-5245', 'klebsiella phage k11', 'klebsiella phage phik02', 'klebsiella phage phiko2', 'klebsiella pneumoniae', 'klebsiella pneumoniae 342', 'klebsiella pneumoniae kctc 2242', 'klebsiella pneumoniae subsp. ozaenae', 'klebsiella pneumoniae subsp. pneumoniae', 'klebsiella pneumoniae subsp. pneumoniae mgh 78578', 'klebsiella pneumoniae subsp. pneumoniae ntuh-k2044', 'klebsiella pneumoniae subsp. rhinoscleromatis', 'klebsiella pneumoniae subsp. rhinoscleromatis atcc 13884', 'klebsiella quasipneumoniae', 'klebsiella sp.', 'klebsiella sp. as10', 'klebsiella sp. co9935', 'klebsiella sp. enrichment culture clone src_dsd25', 'klebsiella sp. lx3', 'klebsiella sp. obrc7', 'klebsiella sp. src_dsd1', 'klebsiella sp. src_dsd11', 'klebsiella sp. src_dsd15', 'klebsiella sp. src_dsd2', 'klebsiella sp. src_dsd6', 'klebsiella variicola', 'kluyvera ascorbata', 'kluyvera ascorbata atcc 33433', 'kluyvera cryocrescens', 'kluyvera georgiana', 'kluyvera intermedia', 'kluyveromyces', 'kluyveromyces aestuarii', 'kluyveromyces lactis', 'kluyveromyces lactis nrrl y-1140', 'kluyveromyces marxianus', 'kobus ellipsiprymnus', 'kobus megaceros', 'kocuria marina', 'kocuria palustris', 'kocuria rhizophila', 'kocuria rhizophila dc2201', 'kocuria rosea', 'kocuria varians', 'koeleria macrantha', 'kogia breviceps', 'kogia sima', 'komagataeibacter europaeus', 'komagataeibacter hansenii', 'komagataeibacter intermedius', 'komagataeibacter oboediens', 'komagataeibacter xylinus', 'komagataella pastoris', 'komagataella phaffii', 'konjac mosaic virus', 'kordia algicida', 'kordia jejudonensis', 'kosakonia cowanii', 'kosakonia pseudosacchari', 'kosakonia radicincitans', 'kosakonia radicincitans dsm 16656', 'kosakonia sacchari', 'kosteletzkya pentacarpos', 'kotonkan virus', 'kribbella', 'kribbella flavida', 'kribbella flavida dsm 17836', 'kribbella qitaiheensis', 'kribbella sp. bfi 1562', 'kuraishia capsulata', 'kurthia gibsonii', 'kurthia huakuii', 'kurthia sibirica', 'kurtzmanomyces', 'kutzneria albida', 'kwatta virus', 'kyrpidia tusciae', 'kytococcus sedentarius dsm 20547', 'kyuri green mottle mosaic virus', 'l. grayi', 'la crosse virus', 'labeo catla', 'labidocera aestiva', 'lablab purpureus', 'labrenzia sp. phm005', 'labrus merula', 'laccaria bicolor', 'laccaria bicolor s238n-h82', 'lacerta schreiberi', 'laceyella sacchari', 'lachancea fermentati', 'lachancea kluyveri', 'lachancea mirantina', 'lachancea thermotolerans', 'lachancea waltii', 'lachnoanaerobaculum saburreum', 'lachnoanaerobaculum saburreum dsm 3986', 'lachnoanaerobaculum sp.', 'lachnoanaerobaculum sp. icm62', 'lachnoanaerobaculum sp. msx33', 'lachnoclostridium', 'lachnoclostridium phytofermentans', 'lachnoclostridium phytofermentans isdg', 'lachnospira eligens', 'lachnospira pectinoschiza', 'lachnospiraceae', 'lachnospiraceae bacterium', 'lachnospiraceae bacterium 1_1_57faa', 'lachnospiraceae bacterium 2 1 46faa', 'lachnospiraceae bacterium 2_1_46faa', 'lachnospiraceae bacterium 2_1_58faa', 'lachnospiraceae bacterium 3_1_57faa_ct1', 'lachnospiraceae bacterium 4_1_37faa', 'lachnospiraceae bacterium 5_1_57faa', 'lachnospiraceae bacterium 5_1_63faa', 'lachnospiraceae bacterium 6_1_63faa', 'lachnospiraceae bacterium 8_1_57faa', 'lachnospiraceae bacterium a4', 'lachnospiraceae bacterium kh1t2', 'lachnospiraceae bacterium ma2020', 'lachnospiraceae bacterium mc2017', 'lachnospiraceae bacterium md335', 'lachnospiraceae bacterium nc2008', 'lachnospiraceae bacterium nd2006', 'lachnospiraceae bacterium nk4a179', 'lachnospiraceae bacterium oral taxon 107', 'lachnospiraceae bacterium oral taxon f15', 'lachnospiraceae genomosp. c1', 'lachnum clandestinum', 'lachnum pteridophyllum', 'lacibacter cauensis', 'lacrimispora algidixylanolytica', 'lacrimispora amygdalina', 'lacrimispora celerecrescens', 'lacrimispora indolis', 'lacrimispora saccharolytica', 'lacrimispora sphenoides', 'lactarius chrysorrheus', 'lactate dehydrogenase-elevating virus', 'lacticaseibacillus casei', 'lacticaseibacillus casei bl23', 'lacticaseibacillus paracasei', 'lacticaseibacillus paracasei atcc 334', 'lacticaseibacillus paracasei subsp. paracasei', 'lacticaseibacillus rhamnosus', 'lacticaseibacillus rhamnosus gg', 'lacticaseibacillus rhamnosus lms2-1', 'lacticaseibacillus saniviri', 'lacticaseibacillus zeae', 'lactiplantibacillus fabifermentans', 'lactiplantibacillus paraplantarum', 'lactiplantibacillus pentosus', 'lactiplantibacillus plantarum', 'lactiplantibacillus plantarum st-iii', 'lactiplantibacillus plantarum wcfs1', 'lactobacillus', 'lactobacillus acetotolerans', 'lactobacillus acidophilus', 'lactobacillus acidophilus atcc 4796', 'lactobacillus acidophilus ncfm', 'lactobacillus amylolyticus', 'lactobacillus amylovorus', 'lactobacillus apis', 'lactobacillus crispatus', 'lactobacillus crispatus 125-2-chn', 'lactobacillus crispatus jv-v01', 'lactobacillus crispatus st1', 'lactobacillus delbrueckii', 'lactobacillus delbrueckii subsp. bulgaricus', 'lactobacillus delbrueckii subsp. bulgaricus atcc 11842 = jcm 1002', 'lactobacillus delbrueckii subsp. bulgaricus atcc baa-365', 'lactobacillus delbrueckii subsp. lactis', 'lactobacillus equicursoris 66c', 'lactobacillus gallinarum', 'lactobacillus gasseri', 'lactobacillus gasseri gmnl-205 strain', 'lactobacillus genomosp. c1', 'lactobacillus genomosp. c2', 'lactobacillus hamsteri', 'lactobacillus helveticus', 'lactobacillus helveticus dsm 20075 = cgmcc 1.1877', 'lactobacillus hominis', 'lactobacillus iners', 'lactobacillus iners dsm 13335', 'lactobacillus intestinalis', 'lactobacillus japonicus', 'lactobacillus jensenii', 'lactobacillus jensenii 269-3', 'lactobacillus jensenii jv-v16', 'lactobacillus johnsonii', 'lactobacillus johnsonii ncc 533', 'lactobacillus kalixensis', 'lactobacillus kefiranofaciens', 'lactobacillus kefiranofaciens subsp. kefiranofaciens', 'lactobacillus kefiranofaciens subsp. kefirgranum', 'lactobacillus leichmannii', 'lactobacillus panisapium', 'lactobacillus paragasseri jv-v03', 'lactobacillus phage ll-h', 'lactobacillus phage lv-1', 'lactobacillus phage mv4', 'lactobacillus phage pl-1', 'lactobacillus reuteri gmnl-263 strain', 'lactobacillus reuteri lr32', 'lactobacillus rogosae', 'lactobacillus sp.', \"lactobacillus sp. 'thermophilus'\", 'lactobacillus sp. 30a', 'lactobacillus sp. klds 1.0701', 'lactobacillus sp. klds 1.0702', 'lactobacillus sp. klds 1.0703', 'lactobacillus sp. klds 1.0704', 'lactobacillus sp. klds 1.0705', 'lactobacillus sp. klds 1.0707', 'lactobacillus sp. klds 1.0709', 'lactobacillus sp. klds 1.0711', 'lactobacillus sp. klds 1.0712', 'lactobacillus sp. klds 1.0713', 'lactobacillus sp. klds 1.0716', 'lactobacillus sp. klds 1.0718', 'lactobacillus sp. klds 1.0719', 'lactobacillus sp. l13', 'lactobacillus sp. oral clone ht002', 'lactobacillus sp. oral clone ht070', 'lactobacillus taiwanensis', 'lactobacillus ultunensis', 'lactobacillus ultunensis dsm 16047', 'lactococcus cremoris', 'lactococcus garvieae', 'lactococcus garvieae atcc 49156', 'lactococcus lactis', 'lactococcus lactis subsp. cremoris mg1363', 'lactococcus lactis subsp. cremoris sk11', 'lactococcus lactis subsp. lactis', 'lactococcus lactis subsp. lactis cncm i-1631', 'lactococcus lactis subsp. lactis il1403', 'lactococcus lactis subsp. lactis kf147', 'lactococcus lactis subsp. lactis ncdo 2118', 'lactococcus phage', 'lactococcus phage 936 sensu lato', 'lactococcus phage bil309', 'lactococcus phage p335', 'lactococcus phage phi7-9', 'lactococcus phage r1t', 'lactococcus plantarum', 'lactococcus raffinolactis', 'lactococcus sp.', 'lactococcus sp. qu 12', 'lactococcus virus c2', 'lactonifactor longoviformis', 'lactuca', 'lactuca perennis', 'lactuca saligna', 'lactuca sativa', 'lactuca serriola', 'lactuca virosa', 'laetiporus gilbertsonii', 'laetisaria fuciformis', 'lagenaria siceraria', 'lagenorhynchus acutus', 'lagenorhynchus australis', 'lagenorhynchus cruciger', 'lagenorhynchus obliquidens', 'lagenorhynchus obscurus', 'lagocephalus gloveri', 'lagocephalus inermis', 'lagocephalus sceleratus', 'lagocephalus wheeleri', 'lagopus muta', 'lagos bat lyssavirus', 'lagothrix lagotricha', 'lake sinai virus', 'lama', 'lama glama', 'lambdapapillomavirus 2', 'laminaria digitata', 'lamium amplexicaule', 'lampetra fluviatilis', 'lamprocystis purpurea', 'lampronia capitella', 'lampyris noctiluca', 'lancefieldella parvula', 'lancefieldella parvulum dsm 20469', 'lancefieldella rimae', 'lancefieldella rimae atcc 49626', 'landoltia punctata', 'langat virus', 'lantana camara', 'laodelphax striatellus', 'lapidilactobacillus dextrinicus', 'laribacter hongkongensis', 'larrea tridentata', 'lasiodiplodia theobromae', 'lasiosphaeris hirsuta', 'lassa mammarenavirus', 'lassa virus josiah', 'lateolabrax japonicus', 'lathyrus japonicus', 'lathyrus odoratus', 'latilactobacillus curvatus', 'latilactobacillus fuchuensis', 'latilactobacillus sakei', 'latilactobacillus sakei l45', 'latilactobacillus sakei subsp. sakei', 'latilactobacillus sakei subsp. sakei 23k', 'latimeria', 'latino mammarenavirus', 'latrodectus geometricus', 'latrodectus hesperus', 'latrodectus mactans', 'latrodectus mirabilis', 'latrodectus tredecimguttatus', 'laurus nobilis', 'lautropia mirabilis', 'lavandula', 'lavandula angustifolia', 'lavatera thuringiaca', 'lawsonia intracellularis', 'lawsonia intracellularis phe/mn1-00', 'le dantec virus', 'leavenworthia crassa', 'leclercia adecarboxylata', 'leclercia adecarboxylata atcc 23216 = nbrc 102595', 'lederbergia lentus', 'leek yellow stripe virus', 'leeuwenhoekiella blandensis med217', 'legionella', 'legionella adelaidensis', 'legionella anisa', 'legionella birminghamensis', 'legionella bozemanae', 'legionella brunensis', 'legionella cardiaca', 'legionella cherrii', 'legionella cincinnatiensis', 'legionella drancourtii', 'legionella drancourtii llap12', 'legionella erythra', 'legionella fairfieldensis', 'legionella fallonii', 'legionella feeleii', 'legionella geestiana', 'legionella gratiana', 'legionella hackeliae', 'legionella israelensis', 'legionella jordanis', 'legionella lansingensis', 'legionella longbeachae', 'legionella maceachernii', 'legionella massiliensis', 'legionella moravica', 'legionella nautarum', 'legionella norrlandica', 'legionella oakridgensis', 'legionella parisiensis', 'legionella pneumophila', 'legionella pneumophila serogroup 1', 'legionella pneumophila serogroup 8', 'legionella pneumophila str. corby', 'legionella pneumophila str. lens', 'legionella pneumophila str. paris', 'legionella pneumophila subsp. pneumophila', 'legionella pneumophila subsp. pneumophila str. philadelphia 1', 'legionella quateirensis', 'legionella quinlivanii', 'legionella rubrilucens', 'legionella sainthelensi', 'legionella santicrucis', 'legionella shakespearei', 'legionella sp.', 'legionella sp. d3923', 'legionella sp. d4088', 'legionella sp. nml 93l054', 'legionella spiritensis', 'legionella steelei', 'legionella steigerwaltii', 'legionella tucsonensis', 'legionella wadsworthii', 'legionella worsleiensis', 'leifsonia', 'leifsonia aquatica', 'leifsonia xyli', 'leifsonia xyli subsp. xyli str. ctcb07', 'leishmania aethiopica', 'leishmania amazonensis', 'leishmania braziliensis', 'leishmania chagasi', 'leishmania donovani', 'leishmania enriettii', 'leishmania gerbilli', 'leishmania guyanensis', 'leishmania hertigi', 'leishmania infantum', 'leishmania major', 'leishmania mexicana', 'leishmania mexicana mexicana', 'leishmania panamensis', 'leishmania sp.', 'leishmania tarentolae', 'leishmania tropica', 'leiurus quinquestriatus hebraeus', 'lelliottia amnigena', 'lelliottia nimipressuralis', 'lelystad virus', 'leminorella grimontii', 'leminorella grimontii atcc 33999 = dsm 5078', 'leminorella richardii', 'lemna', 'lemna aequinoctialis', 'lemna gibba', 'lemna minor', 'lemur catta', 'lens culinaris', 'lentilactobacillus buchneri', 'lentilactobacillus buchneri atcc 11577', 'lentilactobacillus diolivorans', 'lentilactobacillus hilgardii', 'lentilactobacillus hilgardii atcc 27305', 'lentilactobacillus hilgardii dsm 20176 = atcc 8290', 'lentilactobacillus kefiri', 'lentilactobacillus parabuchneri', 'lentilactobacillus parafarraginis', 'lentilactobacillus parakefiri', 'lentilactobacillus senioris', 'lentinula edodes', 'lentinus sp.', 'lentisphaera araneosa', 'lentisphaera araneosa htcc2155', 'lentisphaeria bacterium uba7640', 'lentivirus', 'lentzea', 'lentzea aerocolonigenes', 'lepas anatifera', 'lepeophtheirus salmonis', 'lepidium africanum', 'lepidoglyphus destructor', 'lepidurus apus', 'lepidurus arcticus', 'lepidurus couesii', 'lepista irina', 'lepista nuda', 'lepomis macrochirus', 'lepra erythrella', 'lepra scaberula', 'leptinotarsa decemlineata', 'leptocheirus plumulosus', 'leptochilus wrightii', 'leptolyngbya boryana', 'leptolyngbya sp.', 'leptolyngbya sp. pcc 6406', 'leptonychotes weddellii', 'leptosemia takanonis', 'leptosphaeria maculans', 'leptospira', 'leptospira biflexa', 'leptospira biflexa serovar patoc', \"leptospira biflexa serovar patoc strain 'patoc 1 (paris)'\", 'leptospira borgpetersenii', 'leptospira borgpetersenii serovar hardjo-bovis str. l550', 'leptospira broomii', 'leptospira interrogans', 'leptospira interrogans serovar copenhageni str. fiocruz l1-130', 'leptospira interrogans serovar ictero', 'leptospira interrogans serovar icterohaemorrhagiae', 'leptospira interrogans serovar lai str. 56601', 'leptospira interrogans serovar pomona', 'leptospira kirschneri', 'leptospira kirschneri serovar grippotyphosa', 'leptospira licerasiae', 'leptospira meyeri', 'leptospira sp.', 'leptospirillum ferrodiazotrophum', 'leptospirillum ferrooxidans', 'leptospirillum rubarum', 'leptospirillum sp.', \"leptospirillum sp. group ii '5-way cg'\", 'leptothrix cholodnii', 'leptothrix cholodnii sp-6', 'leptothrix sp. (in: bacteria)', 'leptotrichia buccalis', 'leptotrichia buccalis c-1013-b', 'leptotrichia genomosp. c1', 'leptotrichia hofstadii', 'leptotrichia hofstadii f0254', 'leptotrichia shahii', 'leptotrichia sp.', 'leptotrichia sp. oral clone gt018', 'leptotrichia sp. oral clone gt020', 'leptotrichia sp. oral clone he012', 'leptotrichia sp. oral clone ik040', 'leptotrichia sp. oral clone p2pb_51 p1', 'leptotrichia sp. oral taxon 223', 'leptotrichia wadei', 'leptotrichia wadei f0279', 'leptoxyphium fumago', 'leptuca pugilator', 'lepus americanus', 'lepus brachyurus', 'lepus europaeus', 'lepus sp.', 'lepus timidus', 'lethenteron camtschaticum', 'lettuce big-vein associated varicosavirus', 'lettuce mosaic virus', 'leucobacter', 'leucobacter salsicius', 'leucocytozoon caulleryi', 'leuconostoc', 'leuconostoc carnosum', 'leuconostoc citreum', 'leuconostoc citreum km20', 'leuconostoc garlicum', 'leuconostoc gelidum', 'leuconostoc gelidum subsp. gasicomitatum', 'leuconostoc inhae', 'leuconostoc kimchii', 'leuconostoc lactis', 'leuconostoc mesenteroides', 'leuconostoc mesenteroides subsp. dextranicum', 'leuconostoc mesenteroides subsp. mesenteroides', 'leuconostoc mesenteroides subsp. mesenteroides atcc 8293', 'leuconostoc pseudomesenteroides', 'leucoraja erinacea', 'leucosporidium', 'leucosporidium scottii', 'leveillula taurica', 'levilactobacillus brevis', 'levilactobacillus brevis atcc 367', 'levilactobacillus spicheri', 'levyella massiliensis', 'leymus chinensis', 'leymus cinereus x leymus triticoides', 'lichtheimia corymbifera', 'lichtheimia ramosa', 'ligilactobacillus acidipiscis', 'ligilactobacillus agilis', 'ligilactobacillus animalis', 'ligilactobacillus animalis kctc 3501 = dsm 20602', 'ligilactobacillus ceti dsm 22408', 'ligilactobacillus equi', 'ligilactobacillus murinus', 'ligilactobacillus pobuzihii', 'ligilactobacillus ruminis', 'ligilactobacillus ruminis atcc 25644', 'ligilactobacillus salivarius', 'ligilactobacillus salivarius cp400', 'ligilactobacillus salivarius dsm 20555 = atcc 11741', 'ligilactobacillus salivarius ucc118', 'ligularia stenocephala', 'ligusticum sinense', 'lilium amabile', 'lilium brownii', 'lilium brownii var. viridulum', 'lilium callosum', 'lilium cernuum', 'lilium davidii', 'lilium hansonii', 'lilium hybrid division i', 'lilium lancifolium', 'lilium leichtlinii', 'lilium longiflorum', 'lilium nepalense', 'lilium pensylvanicum', 'lilium poilanei', 'lilium pumilum', 'lilium sp.', 'lilium tsingtauense', 'lily mottle virus', 'limanda limanda', 'limnanthes alba', 'limnanthes douglasii', 'limnatis nilotica', 'limnobacter', 'limnoperna fortunei', 'limnoria', 'limnospira maxima', 'limnospira maxima cs-328', 'limnothrix redekei', 'limonium bicolor', 'limonomyces roseipellis', 'limosilactobacillus antri', 'limosilactobacillus antri dsm 16041', 'limosilactobacillus coleohominis', 'limosilactobacillus coleohominis 101-4-chn', 'limosilactobacillus fermentum', 'limosilactobacillus fermentum 28-3-chn', 'limosilactobacillus fermentum atcc 14931', 'limosilactobacillus gastricus', 'limosilactobacillus mucosae', 'limosilactobacillus oris', 'limosilactobacillus pontis', 'limosilactobacillus reuteri', 'limosilactobacillus reuteri jcm 1112', 'limosilactobacillus reuteri sd2112', 'limosilactobacillus reuteri subsp. reuteri', 'limosilactobacillus reuteri subsp. rodentium', 'limosilactobacillus vaginalis', 'limosilactobacillus vaginalis dsm 5837 = atcc 49540', 'limtongozyma cylindracea', 'limulus polyphemus', 'limulus sp.', 'linaria vulgaris', 'lindenbergia', 'lindera benzoin', 'linepithema humile', 'lineus viridis', 'lingulodinium polyedra', 'linum perenne', 'linum usitatissimum', 'linum usitatissimum; arabidopsis', 'liopsetta pinnifasciata', 'lipomyces kononenkoae', 'lipomyces orientalis', 'lipomyces starkeyi', 'lipomyces tetrasporus', 'lipotes vexillifer', 'liquidambar styraciflua', 'liquorilactobacillus mali', 'liquorilactobacillus oeni', 'liquorilactobacillus vini', 'liriodendron tulipifera', 'lisianthius sp.', 'lissachatina fulica', 'lissodelphis borealis', 'lissodelphis peronii', 'listeria', 'listeria aquatica', 'listeria booriae', 'listeria cornellensis', 'listeria fleischmannii', 'listeria floridensis', 'listeria grandensis', 'listeria grayi', 'listeria grayi dsm 20601', 'listeria innocua', 'listeria innocua clip11262', 'listeria ivanovii', 'listeria ivanovii subsp. ivanovii pam 55', 'listeria marthii', 'listeria marthii fsl s4-120', 'listeria monocytogenes', 'listeria monocytogenes atcc 19115', 'listeria monocytogenes atcc 19117', 'listeria monocytogenes egd-e', 'listeria monocytogenes serotype 1/2a str. f6854', 'listeria monocytogenes serotype 4b str. f2365', 'listeria monocytogenes serotype 4b str. h7858', 'listeria monocytogenes strain 1/2a 1144 (dupont)', 'listeria monocytogenes strain 1/2a 35152', 'listeria newyorkensis', 'listeria phage a118', 'listeria phage a500', 'listeria phage a511', 'listeria phage philm4', 'listeria phage psa', 'listeria riparia', 'listeria rocourtiae', 'listeria seeligeri', 'listeria seeligeri serovar 1/2b str. slcc3954', 'listeria sp.', 'listeria weihenstephanensis', 'listeria weihenstephanensis fsl r9-0317', 'listeria welshimeri', 'listeria welshimeri serovar 6b str. slcc5334', 'litchi chinensis', 'lithobates catesbeianus', 'lithobates pipiens', 'lithophyllon concinna', 'lithospermum erythrorhizon', 'litomosoides carinii', 'litomosoides sigmodontis', 'littorina littorea', 'ljungan virus', 'ljungan virus 145sl', 'ljungan virus 87-012', 'ljungan virus m1146', 'loa loa', 'lobelia erinus', 'lobesia botrana', 'lobochlamys segnis', 'lobophyllia vitiensis', 'lobophytum crassum', 'lobosphaera incisa', 'locusta migratoria', 'lodderomyces elongisporus', 'lodderomyces elongisporus nrrl yb-4239', 'loigolactobacillus coryniformis', 'loigolactobacillus coryniformis subsp. coryniformis', 'loigolactobacillus coryniformis subsp. torquens', 'loligo forbesii', 'loligo vulgaris', 'lolium', 'lolium arundinaceum', 'lolium multiflorum', 'lolium perenne', 'lolium rigidum', 'lolium temulentum', 'lomentospora prolificans', 'lonomia obliqua', 'lonsdalea quercina', 'lophium arboricola', 'lophius americanus', 'loris tardigradus', 'lota lota', 'lottia gigantea', 'lotus corniculatus', 'lotus filicaulis', 'lotus japonicus', 'lotus tetragonolobus', 'lotus uliginosus', 'louping ill virus', 'loxodonta africana', 'lp101 phage', 'lp124 phage', 'lp125 phage', 'lp143 phage', 'lp40 phage', 'lp48 phage', 'lp99 phage', 'lucicutia ovaliformis', 'lucidina accensa', 'lucilia cuprina', 'lucilia sericata', 'luciola', 'luciola cruciata', 'luciola filiformis yayeyamana', 'luciola kuroiwae', 'luciola mingrelica', 'luciola parvula', 'luciola tsushimana', 'luffa acutangula', 'luffa aegyptiaca', 'luiii virus', 'lumbo virus', 'lumbricus rubellus', 'lumpy skin disease virus', 'lunaria annua', 'lupinus', 'lupinus albus', 'lupinus angustifolius', 'lupinus luteus', 'luteibacter rhizovicinus', 'luteimicrobium album', 'luteimicrobium xylanilyticum', 'luteimonas', 'luteimonas huabeiensis', 'luteococcus sanguinis', 'luteolibacter', 'lutibaculum baratangense', 'lutispora thermophila', 'lutra lutra', 'lutzomyia longipalpis', 'lychnis mottle virus', 'lycoperdon pyriforme', 'lycoperdon rimulatum', 'lycoris aurea', 'lygodium flexuosum', 'lygus hesperus', 'lymantria dispar', 'lymantria dispar cypovirus 1', 'lymantria dispar multiple nucleopolyhedrovirus', 'lymnaea stagnalis', 'lymphocystis disease virus - isolate china', 'lymphocystis disease virus 1', 'lymphocytic choriomeningitis mammarenavirus', 'lymphocytic choriomeningitis mammarenavirus viruses (lcmv)', 'lyngbya', 'lyngbya sp. pcc 8106', 'lyophyllum shimeji', 'lysinibacillus', 'lysinibacillus contaminans', 'lysinibacillus fusiformis', 'lysinibacillus macroides', 'lysinibacillus sphaericus', 'lysinibacillus sphaericus c3-41', 'lysinibacillus xylanilyticus', 'lysiphlebus testaceipes', 'lysobacter', 'lysobacter antibioticus', 'lysobacter capsici', 'lysobacter gummosus', 'lysobacter sp. e4', 'lysobacter sp. g6', 'lysobacter sp. ib-9374', 'lysobacter spongiicola', 'lytechinus pictus', 'lytechinus variegatus', 'm. jannaschii', 'm.capsulatus', 'm28 virus', 'maackia amurensis', 'macaca', 'macaca arctoides', 'macaca fascicularis', 'macaca fuscata rhadinovirus', 'macaca mulatta', 'macaca mulatta cytomegalovirus', 'macaca mulatta polyomavirus 1', 'macaca mulatta rhadinovirus', 'macaca mulatta rhadinovirus 17577', 'macaca nemestrina', 'macaca nemestrina rhadinovirus 2', 'macaca sp.', 'macaca sylvanus', 'macacine alphaherpesvirus 1', 'macacine betaherpesvirus 3', 'macacine gammaherpesvirus 4', 'macacine gammaherpesvirus 5', 'macadamia integrifolia', 'macaque gamma virus', 'machupo mammarenavirus', 'maconellicoccus hirsutus', 'macrococcus caseolyticus', 'macrococcus caseolyticus jcsc5402', 'macrolepiota procera', 'macrophomina phaseolina', 'macropodid alphaherpesvirus 1', 'macropus sp.', 'madoqua kirkii', 'mageeibacillus indolicus', 'magnaporthe oryzae chrysovirus 1', 'magnaporthiopsis poae', 'magnetococcus', 'magnetococcus marinus mc-1', 'magnetospirillum gryphiswaldense', 'magnetospirillum magneticum', 'magnetospirillum magneticum amb-1', 'magnetospirillum magnetotacticum', 'magnetospirillum magnetotacticum ms-1', 'magnetospirillum molischianum', 'magnetospirillum sp.', 'magnolia acuminata', 'magnolia biondii', 'magnolia cathcartii', 'magnolia coco', 'magnolia decidua', 'magnolia delavayi', 'magnolia denudata', 'magnolia fraseri subsp. pyramidata', 'magnolia grandiflora', 'magnolia kobus', 'magnolia kwangsiensis', 'magnolia macrophylla', 'magnolia macrophylla var. dealbata', 'magnolia mexicana', 'magnolia obovata', 'magnolia officinalis', 'magnolia officinalis subsp. biloba', 'magnolia pealiana', 'magnolia salicifolia', 'magnolia sinica', 'magnolia splendens', 'magnolia sprengeri', 'magnolia tripetala', 'magnolia wilsonii', 'magnolia yunnanensis', 'magnoliopsida', 'magnusiomyces capitatus', 'magnusiomyces magnusii', 'mahella australiensis', 'maize necrotic streak virus', 'maize streak virus', 'makinoella tosaensis', 'malabaricus grouper nervous necrosis virus', 'malassezia', 'malassezia furfur', 'malassezia globosa', 'malassezia globosa cbs 7966', 'malassezia pachydermatis', 'malassezia restricta', 'malawimonas jakobiformis', 'malayopython reticulatus', 'malbranchea cinnamomea', 'malbranchea flava', 'mallada signata', 'malus baccata', 'malus baccata var. xiaojinensis', 'malus domestica', 'malus pumila', 'malus sieboldii', 'malus sp.', 'malus sylvestris', 'malus zumi', 'malva mosaic virus', 'malva pusilla', 'mamastrovirus 10', 'mamastrovirus 13', 'mamestra brassicae', 'mamestra brassicae multiple nucleopolyhedrovirus', 'mammalia', 'mammalian orthoreovirus', 'mammalian orthoreovirus 1', 'mammalian orthoreovirus 1 lang', 'mammalian orthoreovirus 2', 'mammalian orthoreovirus 2 d5/jones', 'mammalian orthoreovirus 3', 'mammalian orthoreovirus 3 dearing', 'mammalian orthorubulavirus 5', 'mammaliicoccus fleurettii', 'mammaliicoccus lentus', 'mammaliicoccus sciuri', 'mammaliicoccus vitulinus', 'mammuthus primigenius', 'mandrillus herpesvirus 1', 'mandrillus herpesvirus 2', 'mandrillus leucophaeus', 'manduca sexta', 'mangifera indica', 'manihot', 'manihot esculenta', 'mannheimia haemolytica', 'mannheimia haemolytica phl213', 'mantoniella squamata', 'maraba vesiculovirus', 'maraba virus', 'marasmitruncus massiliensis', 'marasmius oreades', 'marburg marburgvirus', 'marburg virus - musoke, kenya, 1980', 'marburgvirus', 'marchantia paleacea subsp. diptera', 'marchantia polymorpha', \"marek's disease gammaherpesvirus mkt-1\", 'maribacter sp. htcc2170', 'maricaulis maris', 'maridesulfovibrio salexigens dsm 2638', 'marinactinospora thermotolerans', 'marine actinobacteria clade', 'marine actinobacterium', 'marine actinobacterium phsc20c1', 'marine gamma proteobacterium htcc2080', 'marine gamma proteobacterium htcc2143', 'marine gokushovirus', 'marinithermus hydrothermalis', 'marinobacter adhaerens', 'marinobacter adhaerens hp15', 'marinobacter algicola', 'marinobacter algicola dg893', 'marinobacter aquaeolei vt8 plasmid pmaqu02', 'marinobacter lipolyticus', 'marinobacter manganoxydans mni7-9', 'marinobacter nauticus', 'marinobacter nauticus vt8', 'marinobacter sp.', 'marinobacter sp. elb17', 'marinomonas', 'marinomonas mediterranea', 'marinomonas sp. med121', 'marinomonas sp. mwyl1', 'marinomonas ushuaiensis', 'marinoscillum furvescens', 'mariprofundus ferrooxydans', 'mariprofundus ferrooxydans pv-1', 'maritimibacter alkaliphilus htcc2654', 'marivirga tractuosa', 'marmoricola scoriae', 'marmoricola sp.', 'marmota marmota', 'marmota monax', 'marsilea quadrifolia', 'marsilea vestita', 'marthasterias glacialis', 'maruca vitrata nucleopolyhedrovirus', 'marvinbryantia formatexigens', 'marvinbryantia formatexigens dsm 14469', 'mason-pfizer monkey virus', 'massilia', 'massilia haematophila', 'massilibacterium senegalense', 'mastadenovirus', 'mastigamoeba balamuthi', 'mastotermes darwiniensis', 'matricaria chamomilla', 'matricaria chamomilla var. recutita', 'matthiola incana', 'mauremys reevesii', 'maxillaria bolivarensis', 'maxillaria chionantha', 'maxillaria colemanii', 'maxillaria elatior', 'maxillaria gentryi', 'maxillaria lawrenceana', 'maxillaria martinezii', 'maxillaria pumila', 'maxillaria sanderiana', 'maxillaria speciosa', 'maxillaria turbinata', 'mayaro virus', 'mayetiola destructor', 'mazus pumilus', 'measles morbillivirus', 'measles virus strain edmonston', 'measles virus strain schwarz', 'medicago', 'medicago polymorpha', 'medicago sativa', 'medicago sativa subsp. x varia', 'medicago truncatula', 'mediterraneibacter faecis', 'mediterraneibacter glycyrrhizinilyticus', 'megabalanus coccopoma', 'megabalanus rosa', 'megabalanus volcano', 'megachile rotundata', 'megacopta cribraria', 'megalodesulfovibrio gigas', 'megalurothrips distalis', 'megamonas', 'megamonas funiformis', 'megamonas hypermegale', 'megaptera novaeangliae', 'megasphaera', 'megasphaera cerevisiae', 'megasphaera elsdenii', 'megasphaera elsdenii dsm 20460', 'megasphaera genomosp. c1', 'megasphaera genomosp. type_1', 'megasphaera indica', 'megasphaera lornae', 'megasphaera massiliensis', 'megasphaera micronuciformis', 'megasphaera paucivorans', 'megasphaera sp.', 'megasphaera sp. an286', 'megasphaera sueciensis', 'megathura crenulata', 'megathyrsus maximus', 'meiothermus ruber', 'meiothermus ruber dsm 1279', 'meiothermus silvanus', 'meiothermus silvanus dsm 9946', 'meiothermus taiwanensis sp. nov.', 'melampsora larici-populina', 'melampsora lini', 'melanocarpus', 'melanocarpus albomyces', 'melanoplus sanguinipes entomopoxvirus', 'melanopsichium pennsylvanicum', 'melao virus', 'meleagrid alphaherpesvirus 1', 'meleagris gallopavo', 'meles meles', 'melioribacter roseus', 'melipona bicolor', 'melissococcus plutonius', 'melissococcus plutonius atcc 35311', 'melissococcus plutonius dat561', 'melittangium lichenicola', 'meloidogyne chitwoodi', 'meloidogyne fallax', 'meloidogyne hapla', 'meloidogyne incognita', 'meloidogyne javanica', 'meloidogyne minor', 'meloidogyne naasi', 'melon yellow spot virus', 'melosira', 'memnoniella echinata', 'mengo virus', 'menispermum canadense', 'mentha aquatica var. citrata', 'mentha spicata', 'mentha x gracilis', 'mentha x piperita', 'meretrix lamarckii', 'meriones unguiculatus', 'meripilus giganteus', 'merismopedia glauca', 'meristotheca papulosa', 'merkel cell polyomavirus', 'merluccius merluccius', 'merluccius productus', 'mesembryanthemum crystallinum', 'mesobacillus campisalis', 'mesobacillus thioparans', 'mesobuthus gibbosus', 'mesocentrotus nudus', 'mesocricetus auratus', 'mesocricetus sp.', 'mesoplasma florum', 'mesoplasma florum l1', 'mesoplodon bidens', 'mesoplodon densirostris', 'mesoplodon europaeus', 'mesoplodon peruvianus', 'mesorhabditis sp.', 'mesorhizobium', 'mesorhizobium ciceri', 'mesorhizobium japonicum maff 303099', 'mesorhizobium loti', 'mesorhizobium opportunistum', 'mesorhizobium opportunistum wsm2075', 'mesorhizobium shangrilense', 'mesorhizobium sp.', 'mesorhizobium sp. 4fb11', 'mesorhizobium sp. yr577', 'mesostigma viride', 'messor bouvieri', 'metabacillus halosaccharovorans', 'metabacillus idriensis', 'metabacillus indicus', 'metabacillus niabensis', 'metacrinus rotundus', 'metagenome', 'metagenomes', 'metallosphaera cuprina', 'metallosphaera hakonensis', 'metallosphaera prunae', 'metallosphaera sedula', 'metapneumovirus', 'metapochonia suchlasporia', 'metarhizium acridum', 'metarhizium anisopliae', 'metarhizium lepidiotae', 'metarhizium pinghaense', 'metarhizium rileyi', 'metazoa', 'methanobacterium bryantii', 'methanobacterium ivanovii', 'methanobacterium sp.', 'methanobrevibacter arboriphilus', 'methanobrevibacter millerae', 'methanobrevibacter olleyae', 'methanobrevibacter ruminantium', 'methanobrevibacter smithii', 'methanocaldococcus', 'methanocaldococcus jannaschii', 'methanocaldococcus jannaschii dsm 2661', 'methanocella arvoryzae mre50', 'methanocella paludicola', 'methanococcoides burtonii', 'methanococcoides burtonii dsm 6242', 'methanococcus aeolicus', 'methanococcus maripaludis', 'methanococcus maripaludis s2', 'methanococcus vannielii', 'methanococcus voltae', 'methanococcus voltae a3', 'methanoculleus bourgensis', 'methanoculleus chikugoensis', 'methanoculleus marisnigri', 'methanoculleus thermophilus', 'methanohalobium evestigatum', 'methanohalophilus mahii', 'methanohalophilus portucalensis', 'methanolobus psychrophilus', 'methanomethylovorans hollandica', 'methanoplanus limicola', 'methanopyrus kandleri', 'methanopyrus kandleri av19', 'methanoregula formicica smsp', 'methanosalsum zhilinae', 'methanosarcina acetivorans', 'methanosarcina acetivorans c2a', 'methanosarcina barkeri', 'methanosarcina barkeri str. fusaro', 'methanosarcina mazei', 'methanosarcina mazei go1', 'methanosarcina thermophila', 'methanosphaera stadtmanae', 'methanospirillum hungatei', 'methanospirillum hungatei jf-1', 'methanothermobacter thermautotrophicus', 'methanothermobacter thermautotrophicus str. delta h', 'methanothermobacter wolfeii', 'methanothermococcus thermolithotrophicus', 'methanothermus fervidus', 'methanothrix soehngenii', 'methanothrix thermoacetophila', 'methanothrix thermoacetophila pt', 'methanotorris igneus', 'methanotorris igneus kol 5', 'methermicoccus shengliensis', 'methylacidiphilum infernorum', 'methylacidiphilum infernorum v4', 'methylibium', 'methylibium petroleiphilum', 'methylibium petroleiphilum pm1', 'methylobacillus flagellatus', 'methylobacillus flagellatus kt', 'methylobacillus glycogenes', 'methylobacillus sp.', 'methylobacter luteus', 'methylobacter marinus', 'methylobacterium', 'methylobacterium aquaticum', 'methylobacterium brachiatum', 'methylobacterium fujisawaense', 'methylobacterium mesophilicum', 'methylobacterium nodulans', 'methylobacterium nodulans ors 2060', 'methylobacterium organophilum', 'methylobacterium phyllostachyos', 'methylobacterium pseudosasicola', 'methylobacterium radiotolerans', 'methylobacterium radiotolerans jcm 2831', 'methylobacterium radiotolerans jcm2831', 'methylobacterium sp.', 'methylobacterium sp. 1sub', 'methylobacterium sp. 4-46', 'methylobacterium sp. mm4', 'methylobacterium thebainfresser', 'methylocaldum sp. 14b', 'methylocaldum szegediense', 'methylocella silvestris', 'methylococcus capsulatus', 'methylococcus capsulatus str. bath', 'methylocystis', 'methylocystis sp. m', 'methylohalobius crimeensis', 'methylomicrobium lacus', 'methylomonas aminofaciens', 'methylomonas clara', 'methylomonas denitrificans', 'methylomonas methanica', 'methylomonas sp.', 'methylomonas sp. 16a', 'methylomonas sp. dh-1', 'methylophaga', 'methylophaga aminisulfidivorans', 'methylophaga sulfidovorans', 'methylophilus methylotrophus', 'methylorubrum extorquens', 'methylorubrum extorquens am1', 'methylorubrum extorquens dm4', 'methylorubrum extorquens pa1', 'methylorubrum podarium', 'methylorubrum populi', 'methylorubrum populi bj001', 'methylosinus', 'methylosinus trichosporium', 'methylosinus trichosporium ob3b', 'methylotenera mobilis', 'methylotuvimicrobium alcaliphilum 20z', 'methyloversatilis', 'methyloversatilis universalis', 'methylovorus', 'metopolophium dirhodum', 'metridia asymmetrica', 'metridia curticauda', 'metridia longa', 'metridia okhotensis', 'metridia pacifica', 'metrosideros polymorpha', 'metroxylon sagu', 'metschnikowia pulcherrima', 'metschnikowia sp. y-31', 'metschnikowia zobellii', 'meyerozyma guilliermondii', 'meyerozyma guilliermondii atcc 6260', 'miamiensis avidus', 'micavibrio aeruginosavorus', 'micractinium sp. kge4', 'microbacterium', 'microbacterium binotii', 'microbacterium chocolatum', 'microbacterium esteraromaticum', 'microbacterium flavescens', 'microbacterium foliorum', 'microbacterium ginsengisoli', 'microbacterium liquefaciens', 'microbacterium luteolum', 'microbacterium murale', 'microbacterium oleivorans', 'microbacterium oxydans', 'microbacterium paraoxydans', 'microbacterium phyllosphaerae', 'microbacterium saccharophilum', 'microbacterium saperdae', 'microbacterium schleiferi', 'microbacterium sp.', 'microbacterium sp. 768', 'microbacterium sp. oral strain c24ka', 'microbacterium sp. ts-1', 'microbacterium testaceum', 'microbacterium trichothecenolyticum', 'microbispora rosea', 'microbispora sp.', 'microbispora sp. atcc pta-5024', 'microbotryum lychnidis-dioicae', 'microbotryum violaceum', 'microcebus murinus', 'microcephalothrips abdominalis', 'microchaete diplosiphon', 'micrococcus', 'micrococcus antarcticus', 'micrococcus luteus', 'micrococcus luteus nctc 2665', 'micrococcus lylae', 'micrococcus sp.', 'microcoleus vaginatus', 'microcystis aeruginosa', 'microcystis aeruginosa nies-843', 'microcystis aeruginosa pcc 7806', 'microcystis aeruginosa uv027', 'microcystis viridis', 'microdochium nivale', 'microdochium nivale var. majus', 'microdochium nivale var. nivale', 'microlunatus phosphovorus', 'micromonas commoda', 'micromonas pusilla', 'micromonas pusilla ccmp1545', 'micromonas rcc299 3', 'micromonospora', 'micromonospora aurantiaca', 'micromonospora carbonacea', 'micromonospora chalcea', 'micromonospora chersina', 'micromonospora eburnea', 'micromonospora echinospora', 'micromonospora griseorubida', 'micromonospora halophytica', 'micromonospora megalomicea', 'micromonospora olivasterospora', 'micromonospora rosaria', 'micromonospora sp.', 'micromonospora sp. atcc 39149', 'micromonospora viridifaciens', 'microscilla', 'microscilla marina', 'microsorum musifolium', 'microsorum punctatum', 'microsporum audouinii', 'microsporum canis', 'microsporum canis cbs 113480', 'microthielavia ovispora', 'microtus ochrogaster', 'microvirgula aerodenitrificans', 'middle east respiratory syndrome-related coronavirus', 'mikania guaco', 'mikania micrantha', 'milk vetch dwarf virus', 'millerozyma farinosa', 'milvus migrans', 'mimosa pudica', 'mink calicivirus', 'minute virus of mice', 'minute virus of mouse', 'minute virus of mouse lymphotropic variant', 'minute virus of mouse strain m', 'mirabilis jalapa', 'mirabilis mosaic virus', 'mirafiori lettuce big-vein virus', 'mirounga leonina', 'miscanthus sinensis', 'miscanthus sinensis f. gracillimus', 'miscanthus streak virus - [japan 96]', 'miscanthus x giganteus', 'misgurnus fossilis', 'misgurnus mizolepis', 'mitrocoma cellularia', 'mitsuaria', 'mitsuokella jalaludinii', 'mitsuokella multacida', 'mitsuokella sp.', 'mitsuokella sp. oral taxon 521', 'mitsuokella sp. oral taxon g68', 'mizuhopecten yessoensis', 'mnemiopsis leidyi', 'mobiluncus curtisii', 'mobiluncus curtisii atcc 43063', 'mobiluncus holmesii', 'mobiluncus holmesii atcc 35242', 'mobiluncus mulieris', 'mobiluncus mulieris atcc 35243', 'mobula birostris', 'modestobacter marinus', 'modified vaccinia ankara virus', 'modoc virus', 'moellerella wisconsensis', 'moesziomyces antarcticus', 'moesziomyces aphidis', 'moesziomyces rugulosus', 'mogibacterium neglectum', 'mogibacterium sp.', 'mogibacterium timidum', 'mokola lyssavirus', 'molineria latifolia', 'mollicutes bacterium', 'mollicutes bacterium pach93', 'molluscum contagiosum virus', 'moloney murine leukemia virus', 'moloney murine sarcoma virus', 'molva molva', 'momordica charantia', 'monascus kaoliang', 'monascus pilosus', 'monascus purpureus', 'monascus ruber', 'moneuplotes crassus', 'moniliella acetoabutens', 'moniliella megachiliensis', 'moniliella suaveolens', 'monilinia fructicola', 'moniliophthora perniciosa', 'monkey b-lymphotropic papovavirus', 'monkeypox virus', 'monochamus alternatus', 'monochamus saltuarius', 'monodelphis domestica', 'monodon monoceros', 'monoglobus pectinilyticus', 'monolepta hieroglyphica', 'monomorium pharaonis', 'monosiga brevicollis', 'monosporascus cannonballus', 'montana myotis leukoencephalitis virus', 'montastraea cavernosa', 'montipora', 'montipora efflorescens', 'moorella glycerini', 'moorella humiferrea', 'moorella sp. huc22-1', 'moorella thermoacetica', 'moorella thermoacetica atcc 39073', 'moorella thermoautotrophica', 'mopeia mammarenavirus', 'moraxella bovis', 'moraxella bovoculi 237', 'moraxella caprae dsm 19149', 'moraxella catarrhalis', 'moraxella catarrhalis rh4', 'moraxella cuniculi', 'moraxella lacunata', 'moraxella lincolnii', 'moraxella nonliquefaciens', 'moraxella osloensis', 'moraxella sp.', 'moraxella sp. canine oral taxon 018', 'moraxella sp. gm2', 'moraxella sp. wo2008034648_15097', 'moraxella sp. wo2008034648_36834', 'moraxella sp. wo2008034648_4742', 'moraxella sp. wo2008034648_47858', 'moraxella sp. wo2008034648_53548', 'moraxella sp. wo2008034648_56691', 'moraxella sp. wo2008034648_72933', 'moraxella sp. wo2008034648_78502', 'morchella esculenta', 'morganella morganii', 'morganella morganii subsp. morganii', 'morganella morganii subsp. sibonii', 'morganella subincarnata', 'moringa oleifera', 'moritella abyssi', 'moritella japonica', 'moritella marina', 'moritella marina atcc 15381', 'moritella profunda', 'moritella sp. pe36', 'moritella viscosa', 'morococcus cerebrosus', 'morone saxatilis', 'morreton vesiculovirus', 'morro bay virus', 'mortierella alpina', 'mortierella polycephala', 'morus alba', 'morus indica', 'morus notabilis', 'moryella indoligenes', 'moschus berezovskii', 'moschus chrysogaster', 'moschus fuscus', 'moschus leucogaster', 'moschus moschiferus', 'motacilla alba', 'mouse adeno-associated virus 1', 'mouse cytomegalovirus', 'mouse intracisternal a-particle', 'mouse mammary tumor virus', 'mouse mammary tumor virusorganism', 'mouse minute virus', 'mouse parvovirus 1', 'mouse parvovirus 1b', 'mouse parvovirus 1e', 'mouse parvovirus 3', 'mouse parvovirus 4a', 'mouse parvovirus 4b', 'mouse parvovirus 5a', 'mouse parvovirus minute virus immunosuppressive variant', 'mouse parvovirus ut', 'mrakia', 'mucilaginibacter', 'mucispirillum schaedleri', 'mucor', 'mucor amphibiorum', 'mucor circinelloides', 'mucor exponens', 'mucor guilliermondii', 'mucor hiemalis', 'mucor hiemalis f. silvaticus', 'mucor indicus', 'mucor javanicus', 'mucor mucedo', 'mucor plumbeus', 'mucor prainii', 'mucor racemosus', 'mucor ramosissimus', 'mucor sp.', 'mucuna bracteata', 'mucuna pruriens', 'mugil cephalus', 'mule deerpox virus', 'multiple sclerosis associated retrovirus', 'mumps orthorubulavirus', 'mungbean yellow mosaic india virus', 'mungbean yellow mosaic virus', 'muntiacus muntjak', 'muraenesox cinereus', 'murdochiella asaccharolytica', 'muribaculum intestinale', 'murid betaherpesvirus 1', 'murid betaherpesvirus 2', 'murid gammaherpesvirus 4', 'muridae', 'murinae', 'murinae gen. sp.', 'murine', 'murine adenovirus 1', 'murine endogenous retrovirus', 'murine hepatitis virus', 'murine leukemia virus', 'murine mastadenovirus a', 'murine norovirus', 'murine orthopneumovirus', 'murine osteosarcoma virus', 'murine polyomavirus strain a2', 'murine respirovirus', 'murine rotavirus', 'murine stem cell retroviral vector', 'murine type c retrovirus', 'murray valley encephalitis virus', 'mus', 'mus <mouse, genus>', 'mus abbotti', 'mus cookii', 'mus musculus', 'mus musculus domesticus', 'mus musculus polyomavirus 1', 'mus musculus polyomavirus 2', 'mus musculus wagneri', 'mus musculus x rattus norvegicus', 'mus pahari', 'mus sp.', 'mus spretus', 'musa', 'musa acuminata', 'musa acuminata subsp. malaccensis', 'musa balbisiana', 'musa sp.', 'musca domestica', 'musca sp.', 'muscari armeniacum', 'muscari sp.', 'muscovy duck parvovirus', 'musculus', 'musicola paradisiaca', 'musicola paradisiaca ech703', 'mustela erminea', 'mustela putorius furo', 'mustela sp.', 'mustelus antarcticus', 'mustelus canis', 'mycena chlorophos', 'mycena citricolor', 'mycetinis scorodonius', 'mycetohabitans rhizoxinica', 'mycobacterium', 'mycobacterium alsense', 'mycobacterium asiaticum', 'mycobacterium avium', 'mycobacterium avium 104', 'mycobacterium avium complex sp.', 'mycobacterium avium subsp. paratuberculosis', 'mycobacterium avium subsp. paratuberculosis k-10', 'mycobacterium branderi', 'mycobacterium canettii', 'mycobacterium celatum', 'mycobacterium colombiense', 'mycobacterium diernhoferi', 'mycobacterium gallinarum', 'mycobacterium gastri', 'mycobacterium genavense', 'mycobacterium goodii', 'mycobacterium gordonae', 'mycobacterium haemophilum', 'mycobacterium heidelbergense', 'mycobacterium interjectum', 'mycobacterium intermedium', 'mycobacterium intracellulare', 'mycobacterium intracellulare atcc 13950', 'mycobacterium intracellulare subsp. intracellulare', 'mycobacterium kansasii', 'mycobacterium kansasii atcc 12478', 'mycobacterium lacus', 'mycobacterium leprae', 'mycobacterium leprae tn', 'mycobacterium lepromatosis', 'mycobacterium lufu', 'mycobacterium malmoense', 'mycobacterium mantenii', 'mycobacterium marinum', 'mycobacterium marinum m', 'mycobacterium paraffinicum', 'mycobacterium parascrofulaceum', 'mycobacterium paraterrae', 'mycobacterium phage babyray', 'mycobacterium phage ms6', 'mycobacterium porcinum', 'mycobacterium scrofulaceum', 'mycobacterium senegalense', 'mycobacterium seoulense', 'mycobacterium shimoidei', 'mycobacterium simiae', 'mycobacterium sp.', 'mycobacterium sp. 1761', 'mycobacterium sp. 1776', 'mycobacterium sp. 1781', 'mycobacterium sp. 1791', 'mycobacterium sp. 1797', 'mycobacterium sp. aq1ga4', 'mycobacterium sp. gn-10546', 'mycobacterium sp. gn-10827', 'mycobacterium sp. gn-11124', 'mycobacterium sp. gn-9188', 'mycobacterium sp. gr-2007-210', 'mycobacterium sp. he5', 'mycobacterium sp. jls', 'mycobacterium sp. kms', 'mycobacterium sp. mcs', 'mycobacterium szulgai', 'mycobacterium triplex', 'mycobacterium tuberculosis', 'mycobacterium tuberculosis cdc1551', 'mycobacterium tuberculosis complex', 'mycobacterium tuberculosis f11', 'mycobacterium tuberculosis h37ra', 'mycobacterium tuberculosis h37rv', 'mycobacterium tuberculosis k', 'mycobacterium tuberculosis kzn 1435', 'mycobacterium tuberculosis t17', 'mycobacterium tuberculosis variant africanum', 'mycobacterium tuberculosis variant bovis', 'mycobacterium tuberculosis variant bovis af2122/97', 'mycobacterium tuberculosis variant bovis bcg', 'mycobacterium tuberculosis variant bovis bcg str. pasteur 1173p2', 'mycobacterium tuberculosis variant bovis bcg str. tokyo 172', 'mycobacterium tuberculosis variant caprae', 'mycobacterium tuberculosis variant microti', 'mycobacterium tuberculosis variant pinnipedii', 'mycobacterium ulcerans', 'mycobacterium ulcerans agy99', 'mycobacterium virus cjw1', 'mycobacterium virus omega', 'mycobacterium vulneris', 'mycobacterium xenopi', 'mycobacteroides abscessus', 'mycobacteroides abscessus subsp. massiliense', 'mycobacteroides chelonae', 'mycobacteroides immunogenum', 'mycocentrospora acerina', 'mycolicibacillus trivialis', 'mycolicibacter nonchromogenicus', 'mycolicibacter terrae', 'mycolicibacterium acapulense', 'mycolicibacterium aurum', 'mycolicibacterium austroafricanum', 'mycolicibacterium brisbanense', 'mycolicibacterium chitae', 'mycolicibacterium chlorophenolicum', 'mycolicibacterium elephantis', 'mycolicibacterium fallax', 'mycolicibacterium farcinogenes', 'mycolicibacterium flavescens', 'mycolicibacterium fortuitum', 'mycolicibacterium gilvum', 'mycolicibacterium gilvum pyr-gck', 'mycolicibacterium gilvum spyr1', 'mycolicibacterium mageritense', 'mycolicibacterium mucogenicum', 'mycolicibacterium neoaurum', 'mycolicibacterium parafortuitum', 'mycolicibacterium peregrinum', 'mycolicibacterium phlei', 'mycolicibacterium rhodesiae', 'mycolicibacterium septicum', 'mycolicibacterium smegmatis', 'mycolicibacterium smegmatis mc2 155', 'mycolicibacterium thermoresistibile', 'mycolicibacterium vaccae', 'mycolicibacterium vanbaalenii', 'mycolicibacterium vanbaalenii pyr-1', 'mycolicibacterium wolinskyi', 'mycoplana', 'mycoplasma', 'mycoplasma amphoriforme', 'mycoplasma arthritidis', 'mycoplasma arthritidis 158l3-1', 'mycoplasma bovoculi', 'mycoplasma capricolum', 'mycoplasma capricolum subsp. capricolum atcc 27343', 'mycoplasma conjunctivae', 'mycoplasma crocodyli mp145', 'mycoplasma faucium', 'mycoplasma flocculare', 'mycoplasma gallisepticum', 'mycoplasma gallisepticum str. r', 'mycoplasma genitalium', 'mycoplasma genitalium g37', 'mycoplasma haemocanis', 'mycoplasma haemofelis', 'mycoplasma haemomuris', 'mycoplasma hominis', 'mycoplasma hominis atcc 23114', 'mycoplasma hyopneumoniae', 'mycoplasma hyopneumoniae 232', 'mycoplasma hyopneumoniae 7448', 'mycoplasma hyopneumoniae j', 'mycoplasma hyorhinis', 'mycoplasma mobile', 'mycoplasma mobile 163k', 'mycoplasma mycoides', 'mycoplasma mycoides subsp. mycoides sc str. pg1', 'mycoplasma orale', 'mycoplasma ovipneumoniae', 'mycoplasma penetrans', 'mycoplasma penetrans hf-2', 'mycoplasma phage p1', 'mycoplasma pirum', 'mycoplasma pneumoniae', 'mycoplasma pneumoniae m129', 'mycoplasma pneumophila', 'mycoplasma putrefaciens', 'mycoplasma salivarium', 'mycoplasma sp.', 'mycoplasma suis', 'mycoplasmataceae genomosp. p1 oral clone mb1_g23', 'mycoplasmopsis agalactiae', 'mycoplasmopsis agalactiae pg2', 'mycoplasmopsis alligatoris a21jp2', 'mycoplasmopsis arginini', 'mycoplasmopsis bovis', 'mycoplasmopsis canis', 'mycoplasmopsis columbinum sf7', 'mycoplasmopsis fermentans', 'mycoplasmopsis fermentans m64', 'mycoplasmopsis fermentans pg18', 'mycoplasmopsis pulmonis', 'mycoplasmopsis pulmonis uab ctip', 'mycoplasmopsis synoviae', 'mycoplasmopsis synoviae 53', 'mycosphaerella arachidis', 'mycosphaerella coffeicola', 'mycosphaerellaceae', 'mycothermus thermophilus', 'mycterothrips glycines', 'myeloproliferative sarcoma virus', 'myocastor coypus', 'myodes glareolus', 'myotis lucifugus', 'myristica fragrans', 'myrmecia forficata', 'myroides odoratimimus', 'myroides phaeus', 'myroides sp.', 'myrothecium', 'myrtus communis', 'mythimna loreyi densovirus', 'mytilus californianus', 'mytilus chilensis', 'mytilus edulis', 'mytilus galloprovincialis', 'mytilus trossulus', 'myxine glutinosa', 'myxococcus fulvus', 'myxococcus fulvus hw-1', 'myxococcus stipitatus', 'myxococcus xanthus', 'myxococcus xanthus dk 1622', 'myxoma virus', 'myzopsetta ferruginea', 'myzus persicae', 'n.meningitidesorganism', 'nadsonia starkeyi-henricii', 'naegleria gruberi', 'naegleria jamiesoni', 'naemorhedus caudatus', 'naganishia albida', 'naganishia diffluens', 'naganishia liquefaciens', 'naja kaouthia', 'naja mossambica', 'naja naja', 'nakamurella multipartita', 'nakamurella multipartita dsm 44233', 'nakaseomyces delphensis', 'nakataea oryzae', 'nandina domestica', 'nanger dama', 'nannizzia gypsea', 'nannochloropsis', 'nannochloropsis gaditana', 'nannochloropsis gaditana ccmp526', 'nannochloropsis granulata', 'nannochloropsis oceanica', 'nannochloropsis oculata', 'nannochloropsis sp.', 'nannochloropsis sp. w2j3b', 'nanoarchaeum equitans', 'nanoarchaeum equitans kin4-m', 'napus sativus', 'narcissus pseudonarcissus', 'nardus stricta', 'nasonia giraulti', 'nasonia vitripennis', 'nasturtium officinale', 'nasutitermes takasagoensis', 'natranaerobius thermophilus jw/nm-wn-lf', 'natrialba magadii', 'natrinema pellirubrum', 'natrinema sp. j7-2', 'natrix maura', 'natrix natrix', 'natronobacterium gregoryi', 'natronomonas pharaonis', 'natronomonas pharaonis dsm 2160', 'natronorubrum tibetense', 'naumovozyma castellii', 'naumovozyma dairenensis', 'neacomys spinosus', 'necator americanus', 'nectria sp. wo2008006781', 'nedyopus tambanus mangaesinus', 'nedyopus tambanus tambanus', 'negativibacillus massiliensis', 'neglectibacter sp.', 'neglectibacter timonensis', 'neillia sinensis', 'neisseria', 'neisseria animalis', 'neisseria bacilliformis', 'neisseria canis', 'neisseria cinerea', 'neisseria cinerea atcc 14685', 'neisseria elongata', 'neisseria europea', 'neisseria flavescens', 'neisseria flavescens nrl30031/h210', 'neisseria genomosp. p2 oral clone mb5_p15', 'neisseria gonorrhoeae', 'neisseria gonorrhoeae fa 1090', 'neisseria gonorrhoeae ms11', 'neisseria lactamica', 'neisseria lactamica atcc 23970', 'neisseria macacae', 'neisseria meningitidis', 'neisseria meningitidis 053442', 'neisseria meningitidis fam18', 'neisseria meningitidis h44/76', 'neisseria meningitidis mc58', 'neisseria meningitidis serogroup a', 'neisseria meningitidis serogroup b', 'neisseria meningitidis serogroup c', 'neisseria meningitidis z2491', 'neisseria mucosa', 'neisseria oralis', 'neisseria perflava', 'neisseria pharyngis', 'neisseria polysaccharea', 'neisseria polysaccharea atcc 43768', 'neisseria shayeganii', 'neisseria sicca', 'neisseria sicca atcc 29256', 'neisseria skkuensis', 'neisseria sp.', 'neisseria sp. kem232', 'neisseria sp. oral clone jc012', 'neisseria sp. oral strain b33ka', 'neisseria sp. oral taxon 014', 'neisseria sp. oral taxon 014 str. f0314', 'neisseria subflava', 'neisseria weaveri', 'neisseria weaveri atcc 51223', 'nekemias grossedentata', 'nelson bay orthoreovirus', 'nelumbo lutea', 'nelumbo nucifera', 'nematostella vectensis', 'nemophila menziesii', 'neobacillus bataviensis', 'neobacillus drentensis', 'neobacillus niacini', 'neobacillus pocheonensis', 'neobacillus vireti', 'neobenedenia girellae', 'neobittarella massiliensis', 'neoblechnum brasiliense', 'neocallimastix frontalis', 'neocallimastix patriciarum', 'neocamarosporium betae', 'neodesmus pupukensis', 'neofelis nebulosa', 'neofusicoccum parvum', 'neogale vison', 'neomonachus schauinslandi', 'neonectria ditissima', 'neonectria galligena', 'neonothopanus nambi', 'neoporphyra perforata', 'neoporphyra seriata', 'neopyropia tenera', 'neopyropia yezoensis', 'neorhizobium galegae', 'neorickettsia risticii', 'neorickettsia sennetsu', 'neorickettsia sennetsu str. miyayama', 'neospora caninum', 'neospora sp.', 'neotermes castaneus', 'neotoma albigula', 'neotragus moschatus', 'neotyphodium', 'nepenthes gracilis', 'nepeta racemosa', 'nephila pilipes', 'nephilengys cruentata', 'nephotettix cincticeps', 'nephrolepis falcata', 'nephroselmis olivacea', 'nephroselmis sp. kge2', 'neptuniibacter caesariensis', 'neurospora', 'neurospora crassa', 'neurospora crassa or74a', 'neurospora sitophila', 'neurospora tetrasperma', 'new jersey vesiculovirus', 'newcastle disease virus b1', 'nezara viridula', 'niabella aurantiaca', 'niallia circulans', 'niallia nealsonii', 'niastella koreensis', 'nibea mitsukurii', 'nicotiana alata', 'nicotiana attenuata', 'nicotiana benthamiana', 'nicotiana clevelandii', 'nicotiana debneyi', 'nicotiana excelsior', 'nicotiana glauca', 'nicotiana glauca x nicotiana langsdorffii', 'nicotiana glutinosa', 'nicotiana kawakamii', 'nicotiana langsdorffii x nicotiana sanderae', 'nicotiana megalosiphon', 'nicotiana occidentalis', 'nicotiana otophora', 'nicotiana paniculata', 'nicotiana plumbaginifolia', 'nicotiana rustica', 'nicotiana sp.', 'nicotiana suaveolens', 'nicotiana sylvestris', 'nicotiana tabacum', 'nicotiana tomentosa', 'nicotiana tomentosiformis', 'nierembergia', 'nierembergia sp. nb17', 'nigella sativa', 'nigrospora oryzae', 'nigrospora sp.', 'nigrospora sp. ep1683860', 'nigrospora sphaerica', 'nilaparvata lugens', 'nilaparvata lugens reovirus', 'nipah henipavirus', 'niphogeton josei', 'nipponanthemum nipponicum', 'nippostrongylus brasiliensis', 'nitratifractor salsuginis', 'nitratifractor salsuginis dsm 16511', 'nitratireductor indicus', 'nitratiruptor sp. sb155-2', 'nitratiruptor tergarcus', 'nitriliruptor alkaliphilus', 'nitritalea', 'nitrobacter alkalicus', 'nitrobacter hamburgensis', 'nitrobacter hamburgensis x14', 'nitrobacter sp.', 'nitrobacter sp. nb-311a', 'nitrobacter vulgaris', 'nitrobacter winogradskyi', 'nitrobacter winogradskyi nb-255', 'nitrococcus mobilis', 'nitrococcus mobilis nb-231', 'nitrogen fixing bacterium anfk33', 'nitrosococcus oceani', 'nitrosococcus oceani atcc 19707', 'nitrosococcus watsonii', 'nitrosomonadales', 'nitrosomonas europaea', 'nitrosomonas europaea atcc 19718', 'nitrosomonas eutropha', 'nitrosomonas eutropha c91', 'nitrosomonas sp. al212', 'nitrosomonas sp. is79a3', 'nitrosopumilus maritimus', 'nitrosospira multiformis', 'nitrosospira multiformis atcc 25196', 'nocardia abscessus', 'nocardia asteroides', 'nocardia beijingensis', 'nocardia brasiliensis', 'nocardia brevicatena', 'nocardia carnea', 'nocardia cyriacigeorgica', 'nocardia farcinica', 'nocardia farcinica ifm 10152', 'nocardia globerula', 'nocardia ignorata', 'nocardia iowensis', 'nocardia kruczakiae', 'nocardia nova', 'nocardia otitidiscaviarum', 'nocardia paucivorans', 'nocardia pseudobrasiliensis', 'nocardia puris', 'nocardia rhamnosiphila', 'nocardia seriolae', 'nocardia sp.', 'nocardia sp. jbrs', 'nocardia transvalensis', 'nocardia uniformis', 'nocardia vinacea', 'nocardiaceae', 'nocardioides sp.', 'nocardioides sp. js614', 'nocardioides sp. kp7', 'nocardioides sp. pd653', 'nocardioides sp. sg-4g', 'nocardiopsis alba', 'nocardiopsis alkaliphila', 'nocardiopsis alkaliphila yim 80379', 'nocardiopsis dassonvillei', 'nocardiopsis dassonvillei subsp. dassonvillei', 'nocardiopsis dassonvillei subsp. dassonvillei dsm 43111', 'nocardiopsis ganjiahuensis', 'nocardiopsis lucentensis', 'nocardiopsis lucentensis dsm 44048', 'nocardiopsis prasina', 'nocardiopsis sp.', 'nocardiopsis sp. nrrl 18262', 'nocardiopsis sp. toa-1', 'nocardiopsis synnemataformans', 'nocardiopsis valliformis', 'noccaea caerulescens', 'noccaea goesingensis', 'nodamura virus', 'nodularia spumigena', 'nodularia spumigena ccy9414', 'nodularia spumigena nsor10', 'nomascus leucogenys', 'nonomuraea', 'nonomuraea coxensis', 'nonomuraea dietziae', 'nonomuraea recticatena', 'nonomuraea sp.', 'norantea guianensis', 'norovirus', 'norovirus isolates', 'norwalk virus', 'nosema apis', 'nosema ceranae', 'nostoc', 'nostoc azollae', 'nostoc ellipsosporum', 'nostoc punctiforme', 'nostoc punctiforme pcc 73102', 'nostoc sp.', 'nostoc sp. pcc 7119', 'nostoc sp. pcc 7120 = fachb-418', 'notamacropus eugenii', 'notechis scutatus', 'nothobranchius furzeri', 'nothobranchius kuhntae', 'notophthalmus viridescens', 'novel bacteriophage cj 24', 'noviherbaspirillum massiliense jc206', 'novosphingobium', 'novosphingobium aromaticivorans', 'novosphingobium aromaticivorans dsm 12444', 'novosphingobium capsulatum', 'novosphingobium malaysiense', 'novosphingobium nitrogenifigens', 'novosphingobium resinovorum', 'novosphingobium sp. ka1', 'novosphingobium sp. mbes04', 'novosphingobium subterraneum', 'novosphingobium taihuense', 'nudaurelia capensis beta virus', 'numidum massiliense', 'nuphar advena', 'nycticebus coucang', 'nymphaea alba', 'nymphaea tetragona', 'obba rivulosa', 'obelia longissima', 'obesumbacterium proteus', 'obuda pepper virus', 'oceanicaulis alexandrii', 'oceanicaulis sp. htcc2633', 'oceanicola granulosus', 'oceanicola granulosus htcc2516', 'oceanicola sp. hl-35', 'oceanithermus profundus', 'oceanobacillus caeni', 'oceanobacillus iheyensis', 'oceanobacillus iheyensis hte831', 'oceanobacillus kimchii', \"oceanobacillus massiliensis str. n'diop\", 'oceanobacillus oncorhynchi', 'oceanobacillus profundus', 'oceanobacillus sp.', 'oceanobacter', 'oceanospirillum', 'ochrobactrum', 'ochrobactrum haywardense', 'ochrobactrum sp.', 'ocimum basilicum', 'octadecabacter antarcticus', 'octadecabacter antarcticus 307', 'octopus vulgaris', 'oculimacula acuformis', 'oculimacula yallundae', 'odobenus', 'odobenus rosmarus', 'odocoileus virginianus texanus', 'odontoglossum ringspot virus', 'odontosyllis undecimdonta', 'odoria alborubescens', 'odoribacter denticanis', 'odoribacter laneus', 'odoribacter splanchnicus', 'odoribacter splanchnicus dsm 20712', 'odoribacteraceae', 'oecophylla smaragdina', 'oenanthe javanica', 'oeneis magna', 'oenococcus kitaharae', 'oenococcus oeni', 'oenococcus oeni atcc baa-1163', 'oenococcus oeni psu-1', 'oenothera', 'oenothera elata subsp. hookeri', 'oerskovia jenensis', 'oerskovia turbata', 'ogataea angusta', 'ogataea methanolica', 'ogataea minuta', 'ogataea nonfermentans', 'ogataea parapolymorpha', 'ogataea polymorpha', 'ogataea trehalophila', 'ogataea wickerhamii', 'oidium lycopersici', 'oikopleura dioica', 'okadaella gastrococcus', 'oldenlandia affinis', 'olea europaea', 'oleidesulfovibrio alaskensis', 'oleidesulfovibrio alaskensis g20', 'oleispira antarctica', 'oleomonas sagaranensis', 'oligella ureolytica', 'oligella urethralis', 'oliveros mammarenavirus', 'olsenella genomosp. c1', 'olsenella profusa', 'olsenella sp.', 'olsenella sp. f0004', 'olsenella sp. oral taxon 809', 'olsenella uli', 'oltmannsiellopsis viridis', 'omikronpapillomavirus 1', 'omphalotus olearius', 'omsk hemorrhagic fever virus', 'onchocerca cervicalis', 'onchocerca ochengi', 'onchocerca volvulus', 'oncidium', 'oncidium hybrid cultivar', 'oncorhynchus gorbuscha', 'oncorhynchus keta', 'oncorhynchus masou', 'oncorhynchus mykiss', 'oncorhynchus sp.', 'oncorhynchus tshawytscha', 'ondatra zibethicus', 'onion yellows phytoplasma', 'onion yellows phytoplasma oy-m', 'onyong-nyong virus', 'ophiocordyceps sinensis', 'ophioderma pendulum', 'ophioglossum reticulatum', 'ophiophagus hannah', 'ophiopogon japonicus', 'ophiorrhiza pumila', 'ophiostoma floccosum', 'ophiostoma novo-ulmi', 'ophrys tenthredinifera', 'opisthokonta', 'opisthorchis sinensis', 'opisthorchis viverrini', 'opitutaceae', 'opitutus', 'opitutus terrae', 'oplegnathus fasciatus', 'oplismenus compositus', 'oplophorus gracilirostris', 'opsanus beta', 'orangutan hepadnavirus', 'orangutan hepatitis b virus', 'orbilia oligospora', 'orcaella brevirostris', 'orcinus orca', 'oreamnos americanus', 'orectolobus maculatus', 'oreochromis mossambicus', 'oreochromis niloticus', 'oreorchis patens', 'oreorchis patens subsp. coreana', 'orf virus', 'orf virus (strain nz2)', 'orgyia pseudotsugata multiple nucleopolyhedrovirus', 'orgyia pseudotsugata single capsid nuclopolyhedrovirus', 'oribacterium', 'oribacterium parvum acb1', 'oribacterium sinus', 'oribacterium sinus f0268', 'oribacterium sp.', 'oribacterium sp. cm12', 'oribacterium sp. nk2b42', 'oribacterium sp. obrc12', 'oribacterium sp. oral taxon 078', 'oribacterium sp. oral taxon 078 str. f0262', 'oribacterium sp. oral taxon 102', 'oribacterium sp. oral taxon 108', 'orientia tsutsugamushi', 'orientia tsutsugamushi str. boryong', 'orientia tsutsugamushi str. ikeda', 'origanum vulgare', 'orius insidiosus', 'orius sauteri', 'ornithinibacillus bavariensis', 'ornithinibacillus sp.', 'ornithinibacillus sp. 7-10aia', 'ornithobacterium rhinotracheale', 'ornithodoros coriaceus', 'ornithodoros moubata', 'ornithodoros parkeri', 'ornithorhynchus anatinus', 'orobanche minor', 'orpinomyces', 'orpinomyces sp. pc-2', 'orpinomyces sp. ukk1', 'orthetrum albistylum speciosum', 'orthocoronavirinae', 'orthohepevirus a', 'orthopoxvirus', 'oryctanthus occidentalis', 'oryctes rhinoceros', 'oryctolagus', 'oryctolagus cuniculus', 'oryctolagus sp.', 'oryx dammah', 'oryza', 'oryza alta', 'oryza australiensis', 'oryza brachyantha', 'oryza coarctata', 'oryza eichingeri', 'oryza glaberrima', 'oryza latifolia', 'oryza longistaminata', 'oryza meridionalis', 'oryza minuta', 'oryza nivara', 'oryza rufipogon', 'oryza sativa', 'oryza sativa indica group', 'oryza sativa japonica group', 'oryza sp.', 'oryzias curvinotus', 'oryzias dancena', 'oryzias javanicus', 'oryzias latipes', 'oryzias luzonensis', 'oryzias melastigma', 'oryzias sp.', 'oscillatoria sp.', 'oscillatoriales cyanobacterium', 'oscillibacter ruminantium', 'oscillibacter sp.', 'oscillibacter sp. cag:241', 'oscillibacter sp. pc13', 'oscillibacter valericigenes', 'oscillochloris trichoides', 'oscillospira guilliermondii', 'oscillospiraceae', 'oscillospiraceae bacterium', 'oscillospiraceae incertae sedis', 'osmundastrum cinnamomeum', 'osphranter robustus', 'osphranter rufus', 'ostertagia ostertagi', 'ostrea edulis', 'ostreococcus lucimarinus cce9901', \"ostreococcus sp. 'lucimarinus'\", \"ostreococcus sp. 'lucimarinus'organisms\", 'ostreococcus sp. rcc809', 'ostreococcus tauri', 'ostreococcus tauriorganisms', 'ostreopsis', 'ostreopsis lenticularis', 'ostreopsis siamensis', 'ostrinia furnacalis', 'ostrinia nubilalis', 'otolemur garnettii', 'otospermophilus variegatus', 'ottowia thiooxydans', 'ourebia ourebi', 'ovatospora brasiliensis', 'ovatospora senegalensis', 'ovibos moschatus', 'ovine adenovirus 7', 'ovine lentivirus', 'ovine lentivirusorganism', 'ovine mastadenovirus a', 'ovine papillomavirus type 2', 'ovine progressive pneumonia virus', 'ovine respiratory syncytial virus', 'ovis', 'ovis ammon', 'ovis aries', 'ovis aries musimon', 'ovis canadensis canadensis', 'ovis nivicola', 'ovis sp.', 'ovulinia azaleae', 'oxalicibacterium horti', 'oxalobacter formigenes', 'oxalobacter formigenes hoxbls', 'oxalobacter formigenes oxcc13', 'oxidus gracilis', 'oxybasis glauca', 'oxybasis rubra', 'oxyporus populinus', 'oxytenis modestia', 'oxyuranus microlepidotus', 'oxyuranus scutellatus', 'oxyuranus scutellatus scutellatus', 'p. alba', 'p. ovis', 'p. putida', 'p. putida ppg786 strain dsm 7162', 'p.aeruginosa', 'p.carotovorum', 'p.multocidaorganism', 'p100 phage', 'pachira macrocarpa', 'pachypsylla venusta', 'pachysolen tannophilus', 'paecilomyces brunneolus', 'paecilomyces divaricatus', 'paecilomyces fulvus', 'paecilomyces lagunculariae', 'paecilomyces niveus', 'paecilomyces sp. (in: eurotiomycetes)', 'paecilomyces variotii', 'paecilomyces zollerniae', 'paenarthrobacter aurescens', 'paenarthrobacter aurescens tc1', 'paenarthrobacter histidinolovorans', 'paenarthrobacter nicotinovorans', 'paenarthrobacter nitroguajacolicus', 'paenarthrobacter ureafaciens', 'paenibacillus', 'paenibacillus agarexedens', 'paenibacillus alvei', 'paenibacillus amylolyticus', 'paenibacillus azoreducens', 'paenibacillus barcinonensis', 'paenibacillus barengoltzii', 'paenibacillus chibensis', 'paenibacillus cookii', 'paenibacillus curdlanolyticus', 'paenibacillus dendritiformis', 'paenibacillus ehimensis', 'paenibacillus elgii', 'paenibacillus faecis', 'paenibacillus humicus', 'paenibacillus hunanensis', 'paenibacillus illinoisensis', 'paenibacillus kribbensis', 'paenibacillus lactis', 'paenibacillus larvae', 'paenibacillus lautus', 'paenibacillus lentimorbus', 'paenibacillus macerans', 'paenibacillus mucilaginosus', 'paenibacillus pabuli', 'paenibacillus phage phiibb_p123', 'paenibacillus polymyxa', 'paenibacillus polymyxa sc2', 'paenibacillus popilliae', 'paenibacillus sp.', 'paenibacillus sp. a1', 'paenibacillus sp. ch-3', 'paenibacillus sp. hgf7', 'paenibacillus sp. jdr-2', 'paenibacillus sp. jj-1b', 'paenibacillus sp. kbc101', 'paenibacillus sp. n021', 'paenibacillus sp. oral taxon f45', 'paenibacillus sp. pbs-2', 'paenibacillus sp. sh-55', 'paenibacillus taichungensis', 'paenibacillus thiaminolyticus', 'paenibacillus timonensis', 'paenibacillus tundrae', 'paenibacillus woosongensis', 'paenibacillus wynnii', 'paeniclostridium ghonii', 'paeniclostridium sordellii', 'paenisporosarcina', 'paenochrobactrum glaciei', 'paeonia anomala', 'paeonia arietina', 'paeonia broteri', 'paeonia lactiflora', 'paeonia officinalis subsp. microcarpa', 'paeonia sinjiangensis', 'paeonia suffruticosa', 'paeonia tenuifolia', 'paeonia veitchii', 'pagrus major', 'paii17 plasmid', 'palaeococcus ferrophilus', 'palaeococcus helgesonii', 'palmaria palmata', 'paludibacter propionicigenes wb4', 'paludibacterium yongneupense', 'pan', 'pan paniscus', 'pan troglodytes', 'pan troglodytes adenovirus type 3', 'pan troglodytes adenovirus type 63', 'pan troglodytes lymphocryptovirus 1', 'pan troglodytes rhadinovirus 1a', 'panax assamicus', 'panax ginseng', 'panax japonicus', 'panax japonicus var. bipinnatifidus', 'panax notoginseng', 'panax quinquefolius', 'panax shangianus', \"panax sp. 'sinensis'\", 'panax variabilis', 'panax vietnamensis', 'panax wangianus', 'pandalus borealis', 'pandanus amaryllifolius', 'pandinus imperator', 'pandoraea pnomenusa', 'panellus edulis', 'panellus stipticus', 'panicum amarum', 'panicum miliaceum', 'panicum virgatum', 'panine betaherpesvirus 2', 'pannonibacter indicus', 'pannonibacter phragmitetus', 'panthera leo persica', 'panthera pardus', 'panthera tigris', 'panthera tigris altaica', 'panthera tigris tigris', 'pantholops hodgsonii', 'pantoea', 'pantoea agglomerans', 'pantoea ananatis', 'pantoea ananatis aj13355', 'pantoea ananatis lmg 20103', 'pantoea ananatis pa13', 'pantoea brenneri', 'pantoea conspicua', 'pantoea cypripedii', 'pantoea dispersa', 'pantoea sp.', 'pantoea sp. ab', 'pantoea sp. at-9b', 'pantoea stewartii', 'pantoea stewartii subsp. indologenes', 'pantoea stewartii subsp. stewartii', 'pantoea vagans', 'panulirus argus', 'papaver alpinum', 'papaver atlanticum', 'papaver bracteatum', 'papaver nudicaule', 'papaver orientale', 'papaver radicatum', 'papaver rhoeas', 'papaver somniferum', 'papaver triniifolium', 'papaya mosaic virus', 'papaya ringspot virus', 'papilio xuthus', 'papiliotrema flavescens', 'papiliotrema laurentii', 'papiliotrema terrestris', 'papillibacter cinnamivorans', 'papillomaviridae', 'papio', 'papio anubis', 'papio cynocephalus', 'papio hamadryas', 'papio sp.', 'papio ursinus', 'parabacteroides', 'parabacteroides chartae', 'parabacteroides distasonis', 'parabacteroides distasonis atcc 8503', 'parabacteroides goldsteinii', 'parabacteroides gordonii', 'parabacteroides johnsonii', 'parabacteroides merdae', 'parabacteroides merdae atcc 43184', 'parabacteroides sp.', 'paraboea crassifolia', 'paraburkholderia atlantica', 'paraburkholderia caledonica', 'paraburkholderia ferrariae', 'paraburkholderia fungorum', 'paraburkholderia graminis', 'paraburkholderia graminis c4d1m', 'paraburkholderia phymatum', 'paraburkholderia phymatum stm815', 'paraburkholderia phytofirmans', 'paraburkholderia phytofirmans psjn', 'paraburkholderia sacchari', 'paraburkholderia sediminicola', 'paraburkholderia terrae', 'paraburkholderia xenovorans', 'paraburkholderia xenovorans lb400', 'paracentrotus lividus', 'parachlamydia', 'parachlamydia acanthamoebae', 'parachlamydia sp.', 'parachlamydia sp. wo2008142034', 'parachlamydiaceae', 'parachlorella beijerinckii', 'parachlorella kessleri', 'paraclostridium benzoelyticum', 'paraclostridium bifermentans', 'paracoccidioides brasiliensis', 'paracoccidioides brasiliensis pb03', 'paracoccidioides brasiliensis pb18', 'paracoccus aminophilus', 'paracoccus carotinifaciens', 'paracoccus denitrificans', 'paracoccus denitrificans pd1222', 'paracoccus kawasakiensis', 'paracoccus marcusii', 'paracoccus pantotrophus', 'paracoccus sp.', 'paracoccus sp. 12-a', 'paracoccus sp. n81106', 'paracoccus sp. r114', 'paracoccus versutus', 'paracoccus yeei', 'paracoccus zeaxanthinifaciens', 'paradendryphiella salina', 'parafontaria falcifera', 'parafontaria laminata', 'parafontaria tokaiensis', 'parafontaria tonominea', 'parageobacillus caldoxylosilyticus', 'parageobacillus thermoglucosidasius', 'parageobacillus thermoglucosidasius c56-ys93', 'parageobacillus toebii', 'paraglaciecola polaris', 'paragonimus westermani', 'parainfluenza virus 5', 'paralichthys dentatus', 'paralichthys olivaceus', 'paralithodes camtschaticus', 'paramecium bursaria', 'paramecium bursaria chlorella virus 1', 'paramecium bursaria chlorella virus cvk2', 'paramecium sp.', 'paramecium tetraurelia', 'paramyxoviridae', 'paramyxovirinae', 'paraphaeosphaeria minitans', 'paraphaeosphaeria sporulosa', 'paraphimophis rusticus', 'parapoxvirus', 'paraprevotella', 'paraprevotella clara', 'paraprevotella sp.', 'paraprevotella xylaniphila', 'parascardovia denticolens', 'parasporobacterium paucivorans', 'parastagonospora nodorum', 'parastagonospora nodorum sn15', 'parasutterella', 'parasutterella excrementihominis', 'parasutterella sp.', 'parasynechococcus marenigrum wh 8102', 'parawixia bistriata', 'parechovirus', 'parechovirus a', 'parengyodontium album', 'parhyale hawaiensis', 'pariacoto virus', 'parietaria judaica', 'parophrys vetulus', 'parthenium argentatum', 'parus major', 'parvibacter caecicola', 'parvibaculum lavamentivorans', 'parvibaculum lavamentivorans ds-1', 'parvimonas micra', 'parvimonas micra atcc 33270', 'parvimonas sp.', 'parvimonas sp. canine oral taxon 035', 'parvimonas sp. oral taxon 110', 'parvovirus h-1', 'parvularcula bermudensis', 'paspalum notatum', 'paspalum paniculatum', 'passer domesticus', 'pasteurella', 'pasteurella canis', 'pasteurella dagmatis', 'pasteurella dagmatis atcc 43325', 'pasteurella multocida', 'pasteurella multocida subsp. multocida str. pm70', 'pasteurella sp.', 'pasteurellaceae', 'pata virus', 'patella vulgata', 'patiria miniata', 'patiria pectinifera', 'paucilactobacillus hokkaidonensis', 'paucilactobacillus suebicus', 'paucimonas lemoignei', 'paulownia fortunei', 'pavlova', 'pavlova granifera', 'pavlova pinguis', 'pavlova sp. wo2007096387', 'pavo muticus', 'pavona decussata', 'paxillus involutus', 'pea early-browning virus', 'peanut chlorotic streak virus', 'pectinaria gouldii', 'pectinatus cerevisiiphilus', 'pectinatus frisingensis', 'pectinatus haikarae', 'pectinatus sp. dsm 20764', 'pectinophora gossypiella', 'pectobacterium atrosepticum', 'pectobacterium atrosepticum scri1043', 'pectobacterium betavasculorum', 'pectobacterium brasiliense pbr1692', 'pectobacterium cacticida', 'pectobacterium carotovorum', 'pectobacterium carotovorum subsp. carotovorum', 'pectobacterium odoriferum', 'pectobacterium parmentieri wpp163', 'pectobacterium phage pm1', 'pectobacterium wasabiae', 'pediastrum duplex', 'pediculus humanus', 'pediculus humanus corporis', 'pediococcus', 'pediococcus acidilactici', 'pediococcus claussenii', 'pediococcus claussenii atcc baa-344', 'pediococcus damnosus', 'pediococcus inopinatus', 'pediococcus parvulus', 'pediococcus pentosaceus', 'pediococcus pentosaceus atcc 25745', 'pedobacter', 'pedobacter heparinus', 'pedobacter sp.', 'pedobacter sp. hrb3', 'pedobacter sp. kp-2', 'pedomicrobium ferrugineum', 'pedosphaera parvula ellin514', 'pegivirus a', 'pelagibacterium halotolerans', 'pelagibacterium halotolerans b2', 'pelargonium graveolens', 'pelargonium x hortorum', 'pelargonium zonate spot virus', 'pelea capreolus', 'pelecanus crispus', 'pellia epiphylla', 'pelobacter propionicus', 'pelobacter propionicus dsm 2379', 'pelodictyon luteolum dsm 273', 'pelodictyon phaeoclathratiforme', 'pelodictyon phaeoclathratiforme bu-1', 'pelodiscus sinensis japonicus', 'pelomonas saccharophila', 'pelophylax lessonae', 'pelophylax nigromaculatus', 'pelosinus fermentans', 'pelotomaculum thermopropionicum', 'pelotomaculum thermopropionicum si', 'penaeid shrimp infectious myonecrosis virus', 'penaeus chinensis', 'penaeus japonicus', 'penaeus monodon', 'penaeus stylirostris', 'penaeus vannamei', 'penicilliopsis clavariiformis', 'penicillium', 'penicillium aethiopicum', 'penicillium amagasakiense', 'penicillium aurantiogriseum', 'penicillium brasilianum', 'penicillium brefeldianum', 'penicillium brevicompactum', 'penicillium camemberti', 'penicillium canescens', 'penicillium capsulatum', 'penicillium chrysogenum', 'penicillium citreonigrum', 'penicillium citrinum', 'penicillium coffeae', 'penicillium commune', 'penicillium cyclopium', 'penicillium daleae', 'penicillium decumbens', 'penicillium digitatum', 'penicillium echinulatum', 'penicillium expansum', 'penicillium fellutanum', 'penicillium freii', 'penicillium fuscum', 'penicillium glandicola', 'penicillium griseofulvum', 'penicillium griseoroseum', 'penicillium herquei', 'penicillium hordei', 'penicillium italicum', 'penicillium janthinellum', 'penicillium kewense', 'penicillium lividum', 'penicillium madriti', 'penicillium miczynskii', 'penicillium multicolor', 'penicillium nalgiovense', 'penicillium olsonii', 'penicillium oxalicum', 'penicillium oxalicumorganism', 'penicillium paneum', 'penicillium quercetorum', 'penicillium raistrickii', 'penicillium reticulisporum', 'penicillium roqueforti', 'penicillium rubens', 'penicillium rubens wisconsin 54-1255', 'penicillium sclerotiorum', 'penicillium simplicissimum', 'penicillium soppii', 'penicillium sp.', 'penicillium sp. st.2.2', 'penicillium sp. stb.1.2', 'penicillium spinulosum', 'penicillium steckii', 'penicillium terrenum', 'penicillium thomii', 'penicillium vasconiae', 'penicillium verrucosum', 'penicillium viridicatum', 'peniophora lycii', 'pennahia argentata', 'pentaclethra macroloba', 'pentadiplandra brazzeana', 'pentatomidae', 'peperomia caperata', 'pepino mosaic virus', 'peponocephala electra', 'pepper golden mosaic virus', 'pepper huasteco yellow vein virus', 'pepper mottle virus', 'peptacetobacter hiranonis', 'peptoclostridium acidaminophilum', 'peptococcus niger', 'peptococcus sp.', 'peptococcus sp. canine oral taxon 044', 'peptococcus sp. oral clone jm048', 'peptococcus sp. oral taxon 167', 'peptoniphilus asaccharolyticus', 'peptoniphilus duerdenii', 'peptoniphilus harei', 'peptoniphilus indolicus atcc 29427', 'peptoniphilus lacrimalis', 'peptoniphilus obesi ph1', 'peptoniphilus senegalensis jc140', 'peptoniphilus sp.', 'peptoniphilus sp. oral taxon 386', 'peptoniphilus sp. oral taxon 836', 'peptostreptococcaceae', 'peptostreptococcaceae bacterium', 'peptostreptococcaceae bacterium as15', 'peptostreptococcus', 'peptostreptococcus anaerobius', 'peptostreptococcus anaerobius cag:621', 'peptostreptococcus canis', 'peptostreptococcus sp.', 'peptostreptococcus sp. 1018', 'peptostreptococcus sp. oral clone ap24', 'peptostreptococcus sp. oral clone fj023', 'peptostreptococcus sp. p4p_31 p3', 'peptostreptococcus stomatis', 'perdix perdix', 'perga condei', 'peribacillus muralis', 'peribacillus psychrosaccharolyticus', 'peribacillus simplex', 'pericallis cruenta', 'periconia', 'periconia macrospinosa', 'peridinium sp.', 'perigonia ilus', 'perilla frutescens', 'perilla frutescens var. crispa', 'perilla frutescens var. frutescens', 'perina nuda virus', 'periplaneta americana', 'periplaneta fuliginosa densovirus', 'periplaneta sp.', 'periploca sepium', 'perissocoeleum barclayae', 'perkinsus marinus', 'perkinsus marinus atcc 50983', 'perna viridis', 'perodicticus potto', 'peromyscus maniculatus', 'peronospora', 'peronospora arborescens', 'peronospora swinglei', 'peronospora valerianellae', 'persea americana', 'persephonella marina', 'persicaria hydropiper', 'persicaria tinctoria', 'peruvian horse sickness virus', 'pestalotiopsis microspora', 'pestalotiopsis sp.', 'peste des petits ruminants virus', 'pestivirus', 'pestivirus bungowannah', 'pestivirus giraffe-1', 'pestivirus reindeer-1', 'pestivirus sp.', 'pestivirus type 3', 'petinomys setosus', 'petromyzon marinus', 'petromyzontidae', 'petroselinum crispum', 'petrotoga mobilis', 'petrotoga mobilis sj95', 'petunia', 'petunia axillaris', 'petunia integrifolia', 'petunia integrifolia subsp. inflata', 'petunia sp.', 'petunia vein clearing virus', 'petunia x hybrida', 'peucedanum praeruptorum', 'pgeneclip puromycin vector', 'phacochoerus africanus', 'phaedon cochleariae', 'phaeoacremonium minimum', 'phaeobacter gallaeciensis dsm 26640', 'phaeodactylum tricornutum', 'phaeodactylum tricornutum ccap 1055/1', 'phaeosphaeria sp.', 'phaeotrichoconis crotalariae', 'phaffia', 'phaffia rhodozyma', 'phage cd630p1l', 'phage cd630p2l', 'phage e', 'phage lm4', 'phage m13mp18', 'phage phi-15', 'phage phic2l', 'phage phicd119l', 'phage phicd27l', 'phage ts2126', 'phakopsora pachyrhizi', 'phalacroma rotundatum', 'phalaenopsis', 'phalaenopsis equestris', 'phalaenopsis hybrid cultivar', 'phalaenopsis sp.', 'phalaenopsis sp. sm9108', 'phalaenopsis x doritaenopsis hybrid cultivar', 'phallusia mammillata', 'phanerochaete sordida', 'phanerodontia chrysosporium', 'phascolarctobacterium', 'phascolarctobacterium faecium', 'phascolarctobacterium sp.', 'phascolarctobacterium succinatutens', 'phascolarctobacterium succinatutens yit 12067', 'phascolarctos cinereus', 'phaseolus acutifolius', 'phaseolus coccineus', 'phaseolus lunatus', 'phaseolus vulgaris', 'phasianus colchicus', 'phelipanche aegyptiaca', 'phelipanche ramosa', 'phellodendron amurense', 'phellodendron chinense', 'phengaris alcon', 'phengaris nausithous', 'phengaris teleius', 'phenylobacterium', 'phenylobacterium zucineum', 'phenylobacterium zucineum hlk1', 'phi x virus', 'phialemoniopsis curvata', 'phialemonium inflatum', 'phialidium', 'phialophora verrucosa', 'philaenus spumarius', 'philantomba maxwellii', 'phlebiopsis crassa', 'phlebiopsis gigantea', 'phlebotomus ariasi', 'phlebotomus papatasi', 'phlebotomus perniciosus', 'phlegmariurus salvinioides', 'phleum alpinum', 'phleum pratense', 'phoca fasciata', 'phoca groenlandica', 'phoca vitulina', 'phocaeicola barnesiae', 'phocaeicola coprocola', 'phocaeicola coprophilus', 'phocaeicola coprophilus dsm 18228 = jcm 13818', 'phocaeicola dorei', 'phocaeicola massiliensis', 'phocaeicola plebeius', 'phocaeicola plebeius dsm 17135', 'phocaeicola salanitronis', 'phocaeicola sartorii', 'phocaeicola vulgatus', 'phocaeicola vulgatus atcc 8482', 'phocine morbillivirus', 'phocoena sinus', 'phodopus roborovskii', 'phodopus sungorus', 'phoenix dactylifera', 'pholas dactylus', 'pholiota adiposa', 'pholiota microspora', 'pholiota nameko', 'phoma', 'phomopsis', 'phomopsis sp.', 'phoneutria nigriventer', 'phonus arborescens', 'phormidium', 'phormidium lapideum', 'phormidium sp.', 'phormidium tenue', 'photinus pyralis', 'photobacterium angustum', 'photobacterium damselae', 'photobacterium damselae subsp. piscicida', 'photobacterium leiognathi', 'photobacterium phosphoreum', 'photobacterium profundum', 'photobacterium profundum 3tck', 'photobacterium profundum ss9', 'photobacterium sp.', 'photobacterium sp. ska34', 'photorhabdus', 'photorhabdus akhurstii', 'photorhabdus asymbiotica', 'photorhabdus asymbiotica subsp. asymbiotica', 'photorhabdus australis', 'photorhabdus kayaii', 'photorhabdus laumondii subsp. laumondii', 'photorhabdus laumondii subsp. laumondii tto1', 'photorhabdus luminescens', 'photorhabdus luminescens subsp. luminescens', 'photorhabdus temperata', 'photorhabdus temperata subsp. temperata', 'photorhabdus thracensis', 'photuris pensylvanica', 'phoxinus keumkang', 'phragmites australis', 'phrixothrix hirtus', 'phrixothrix vivianii', 'phtheirospermum japonicum', 'phthorimaea operculella granulovirus', 'phycicoccus', 'phycomyces blakesleeanus', 'phyllanthus amarus', 'phyllanthus debilis', 'phyllanthus fraternus', 'phyllanthus urinaria', 'phyllobacterium sp.', 'phyllomedusa bicolor', 'phyllomedusa sauvagii', 'phyllostachys bambusoides', 'phyllostachys edulis', 'phyllostachys praecox', 'phyllotreta atra', 'phyllotreta cruciferae', 'phyllotreta striolata', 'physaria fendleri', 'physaria gracilis', 'physaria lindheimeri', 'physarum polycephalum', 'physcomitrella', 'physcomitrium patens', 'physeter catodon', 'physoderma maydis', 'phythophtora infestance', 'phytolacca acinosa', 'phytolacca americana', 'phytolacca insularis', 'phytophthora alni', 'phytophthora cambivora', 'phytophthora capsici', 'phytophthora cinnamomi', 'phytophthora citricola', 'phytophthora citrophthora', 'phytophthora cryptogea', 'phytophthora drechsleri', 'phytophthora erythroseptica', 'phytophthora fragariae', 'phytophthora infestans', 'phytophthora infestans t30-4', 'phytophthora infestansorganisms', 'phytophthora megasperma', 'phytophthora nicotianae', 'phytophthora parasitica', 'phytophthora pseudotsugae', 'phytophthora ramorum', 'phytophthora soja', 'phytophthora sojae', 'picea', 'picea abies', 'picea engelmannii x picea glauca', 'picea glauca', 'picea mariana', 'picea sitchensis', 'pichia', 'pichia fermentans', 'pichia kluyveri', 'pichia kudriavzevii', 'pichia membranifaciens', 'pichia norvegensis', 'pichia scutulata', 'pichia sp.', 'picoides kizuki', 'picornaviridae', 'picramnia pentandra', 'picrophilus torridus', 'picrophilus torridus dsm 9790', 'picrorhiza kurrooa', 'piedraia hortae', 'pieris brassicae', 'pieris rapae', 'piezodorus guildinii', 'pig-tailed macaque parvovirus', 'pigmentiphaga', 'pigmentiphaga daeguensis', 'pilocarpus heterophyllus', 'pilosella officinarum', 'pimelobacter simplex', 'pimelobacter sp.', 'pimephales promelas', 'pimpinella anisum', 'pimpla hypochondriaca', 'pinctada fucata', 'pinctada imbricata', 'pinctada margaritifera', 'pinellia pedatisecta', 'pinellia ternata', 'pinellia tripartita', 'pinellia yaoluopingensis', 'pinus', 'pinus banksiana', 'pinus contorta', 'pinus densata', 'pinus densiflora', 'pinus glabra', 'pinus koraiensis', 'pinus massoniana', 'pinus pinaster', 'pinus pinea', 'pinus radiata', 'pinus sp. ep2140012', 'pinus sylvestris', 'pinus tabuliformis', 'pinus taeda', 'pinus thunbergii', 'pinus yunnanensis', 'piper betle', 'piper nigrum', 'pirellula sp.', 'pireneitega luctuosa', 'piromyces sp.', \"piromyces sp. 'equi'\", 'piromyces sp. e2', 'piscine orthoreovirus', 'piscirickettsia salmonis', 'pistacia vera', 'pisum', 'pisum sativum', 'pithecia pithecia', 'pithecia pithecia lymphocryptovirus 1', 'placobdella papillifera', 'planctomycetales', 'planctopirus limnophila', 'planktothrix agardhii', 'planktothrix agardhii niva-cya 126/8', 'planktothrix prolifica niva-cya 98', 'planobispora rosea', 'planococcus citreus', 'planomicrobium koreense', 'planomicrobium okeanokoites', 'planotortrix octo', 'plantago lanceolata', 'plantago major', 'plantago ovata', 'plantago sp. wo2009029739', 'plasmid cole1', 'plasmid cole9-j', 'plasmid p15a', 'plasmid pds56', 'plasmid pe194', 'plasmid pebl1', 'plasmid pkf3', 'plasmid pkm101', 'plasmid pmdy24', 'plasmid pmdy28', 'plasmid prep4', 'plasmid psc101', 'plasmid psin11', 'plasmid psk11', 'plasmid pts172', 'plasmid r100', 'plasmid r773', 'plasmid rgn238', 'plasmid rsf1010', 'plasmodiophora brassicae', 'plasmodium berghei', 'plasmodium berghei anka', 'plasmodium chabaudi', 'plasmodium chabaudi chabaudi', 'plasmodium coatneyi', 'plasmodium cynomolgi', 'plasmodium falciparum', 'plasmodium falciparum 3d7', 'plasmodium gaboni', 'plasmodium gallinaceum', 'plasmodium knowlesi', 'plasmodium malariae', 'plasmodium ovale', 'plasmodium reichenowi', 'plasmodium sp.', 'plasmodium vivax', 'plasmodium vivax sal-1', 'plasmodium yoelii', 'plasmodium yoelii yoelii', 'plasmopara', 'plasmopara viticola', 'platanista gangetica', 'platanista minor', 'platanus occidentalis', 'platichthys stellatus', 'platycerium bifurcatum', 'platycladus orientalis', 'platycodon grandiflorus', 'platynereis dumerilii', 'platyrrhini', 'platyrrhinus helleri', 'plautia stali intestine virus', 'plecoglossus altivelis', 'plectosphaerella cucumerina', 'plectospira myriandra', 'plectranthus barbatus', 'plectranthus scutellarioides', 'plectreurys tristis', 'pleospora sp.', 'pleosporaceae sp.', 'pleosporales', 'plesiocystis pacifica', 'plesiocystis pacifica sir-1', 'plesiomonas shigelloides', 'plestiodon egregius', 'pleurastrum terricola', 'pleurodeles poireti', 'pleurodeles waltl', 'pleuromamma', 'pleuromamma abdominalis', 'pleuromamma scutullata', 'pleuromamma xiphias', 'pleuronectes platessa', 'pleuronichthys coenosus', 'pleurotus', 'pleurotus cornucopiae', 'pleurotus djamor', 'pleurotus eryngii', 'pleurotus ostreatus', 'pleurotus pulmonarius', 'pleurotus sapidus', 'plodia interpunctella', 'plumbago zeylanica', 'pluralibacter gergoviae', 'pluralibacter pyrinus', 'plutella xylostella', 'plutella xylostella granulovirus', 'plutella xylostella multiple nucleopolyhedrovirus', 'pneumocystis carinii', 'pneumocystis jirovecii', 'pneumovirus', 'poa alpina', 'poa annua', 'poa pratensis', 'poa secunda', 'poaceae', 'pocillopora damicornis', 'podarcis muralis', 'podocarpus macrophyllus', 'podocoryna carnea', 'podosphaera aphanis', 'podosphaera fuliginea', 'podospora anserina', 'podospora anserina s mat+', 'poecilia formosa', 'poecilia reticulata', 'poeciliopsis gracilis', 'poecilobdella manillensis', 'pogona vitticeps', 'pogonatherum paniceum', 'pogostemon cablin', 'poitrasia circinans', 'polaribacter irgensii', 'polaribacter irgensii 23-p', 'polaribacter sp. med152', 'polaromonas', 'polaromonas naphthalenivorans', 'polaromonas naphthalenivorans cj2', 'polaromonas sp.', 'polaromonas sp. js666', 'polistes annularis', 'pollachius pollachius', 'polymorphospora rubra', 'polynucleobacter', 'polynucleobacter asymbioticus', 'polynucleobacter asymbioticus qlw-p1dmwa-1', 'polynucleobacter necessarius', 'polynucleobacter necessarius stir1', 'polyomavirus sp.', 'polypedilum vanderplanki', 'polyporus arcularius', 'polyporus pinsitus', 'polyporus umbellatus', 'polystichum tsus-simense', 'polytomella', 'pongo', 'pongo abelii', 'pongo pygmaeus', 'pongo sp.', 'pontellina plumata', 'pontibacter', 'pontoporia blainvillei', 'poplar mosaic virus', 'populus', 'populus alba', 'populus alba x populus glandulosa', 'populus alba x populus grandidentata', 'populus balsamifera', 'populus ciliata', 'populus deltoides', 'populus euphratica', 'populus fremontii x populus angustifolia', 'populus laurifolia', 'populus maximowiczii', 'populus nigra', 'populus sieboldii x populus grandidentata', 'populus sp.', 'populus suaveolens', 'populus tomentosa', 'populus tremula', 'populus tremula x populus alba', 'populus tremula x populus tremuloides', 'populus tremula x tremuloides kr121', 'populus tremula x tremuloides kr125', 'populus tremula x tremuloides kr129b', 'populus tremula x tremuloides kr140', 'populus tremula x tremuloides kr152', 'populus tremula x tremuloides kr163', 'populus tremula x tremuloides kr221', 'populus tremula x tremuloides kr224', 'populus tremula x tremuloides kr235', 'populus tremula x tremuloides kr240', 'populus tremula x tremuloides kr242', 'populus tremula x tremuloides kr292', 'populus tremula x tremuloides kr313', 'populus tremula x tremuloides kr318', 'populus tremula x tremuloides kr459', 'populus tremula x tremuloides kr463', 'populus tremula x tremuloides kr465', 'populus tremuloides', 'populus trichocarpa', 'populus trichocarpa x populus deltoides', 'populus x canadensis', 'populus x jackii', 'porcellio scaber', 'porcine adenovirus', 'porcine adenovirus 1', 'porcine adenovirus 3', 'porcine adenovirus 4', 'porcine adenovirus 5', 'porcine circovirus', 'porcine circovirus 1', 'porcine circovirus 2', 'porcine circovirus 3', 'porcine circovirus type 2-b', 'porcine endogenous retrovirus', 'porcine endogenous retrovirus a', 'porcine endogenous retrovirus b', 'porcine endogenous retrovirus c', 'porcine enteric sapovirus', 'porcine enterovirus 9', 'porcine epidemic diarrhea virus', 'porcine hemagglutinating encephalomyelitis virus', 'porcine lymphotropic herpesvirus 1', 'porcine lymphotropic herpesvirus 2', 'porcine lymphotropic herpesvirus 3', 'porcine mastadenovirus a', 'porcine mastadenovirus c', 'porcine orthorubulavirus', 'porcine parvovirus', 'porcine parvovirus 5', 'porcine pestivirus', 'porcine pestivirus isolate bungowannah', 'porcine reproductive and respiratory syndrome virus', 'porcine respiratory coronavirus', 'porcine rotavirus', 'porcula salvania', 'porites murrayensis', 'poronia punctata', 'porphyra purpurea', 'porphyra sp.', 'porphyridium purpureum', 'porphyridium sp.', 'porphyromonas', 'porphyromonas asaccharolytica', 'porphyromonas asaccharolytica dsm 20707', 'porphyromonas bennonis', 'porphyromonas cangingivalis', 'porphyromonas canoris', 'porphyromonas crevioricanis', 'porphyromonas endodontalis', 'porphyromonas endodontalis atcc 35406', 'porphyromonas gingivalis', 'porphyromonas gingivalis atcc 33277', 'porphyromonas gingivalis w83', 'porphyromonas gingivicanis', 'porphyromonas gulae', 'porphyromonas levii', 'porphyromonas macacae', 'porphyromonas somerae', 'porphyromonas sp.', 'porphyromonas sp. canine oral taxon 341', 'porphyromonas sp. oral clone bb134', 'porphyromonas sp. oral clone p4gb_100 p2', 'porphyromonas sp. uqd 301', 'porphyromonas sp. uqd 348', 'porphyromonas sp. uqd 402', 'porphyromonas sp. uqd 406', 'porphyromonas uenonis', 'porphyromonas uenonis 60-3', 'portulaca grandiflora', 'portulaca oleracea', 'postia placenta', 'potato leafroll virus', 'potato mop-top virus', 'potato spindle tuber viroid', 'potato virus a', 'potato virus x', 'potato virus y', 'potentilla atrosanguinea', 'powassan virus', 'poxviridae', 'pragia fontium', 'pratylenchus penetrans', 'preussia africana', 'preussia sp. (in: fungi)', 'prevotella', 'prevotella albensis', 'prevotella amnii', 'prevotella bergensis', 'prevotella bergensis dsm 17361', 'prevotella bivia', 'prevotella brevis atcc 19188', 'prevotella bryantii b14', 'prevotella buccae', 'prevotella buccalis', 'prevotella buccalis atcc 35310', 'prevotella copri', 'prevotella dentalis', 'prevotella dentalis dsm 3688', 'prevotella denticola', 'prevotella disiens', 'prevotella genomosp. c1', 'prevotella genomosp. c2', 'prevotella genomosp. p7 oral clone mb2_p31', 'prevotella genomosp. p8 oral clone mb3_p13', 'prevotella genomosp. p9 oral clone mb7_g16', 'prevotella histicola', 'prevotella intermedia', 'prevotella maculosa', 'prevotella marshii', 'prevotella melaninogenica', 'prevotella melaninogenica atcc 25845', 'prevotella micans', 'prevotella multiformis', 'prevotella multisaccharivorax', 'prevotella nanceiensis', 'prevotella nigrescens', 'prevotella oralis', 'prevotella oris', 'prevotella pallens', 'prevotella phage phi ar29', 'prevotella ruminicola', 'prevotella salivae', 'prevotella sp.', 'prevotella sp. cag:1058', 'prevotella sp. cag:279', 'prevotella sp. cag:617', 'prevotella sp. cm38', 'prevotella sp. icm1', 'prevotella sp. icm55', 'prevotella sp. jcm 6330', 'prevotella sp. oral clone au069', 'prevotella sp. oral clone fl019', 'prevotella sp. oral clone fu048', 'prevotella sp. oral clone fw035', 'prevotella sp. oral clone gi030', 'prevotella sp. oral clone gi032', 'prevotella sp. oral clone gi059', 'prevotella sp. oral clone gu027', 'prevotella sp. oral clone hf050', 'prevotella sp. oral clone id019', 'prevotella sp. oral clone idr-cec-0055', 'prevotella sp. oral clone ik053', 'prevotella sp. oral clone ik062', 'prevotella sp. oral clone p4pb_83 p2', 'prevotella sp. oral taxon 299', 'prevotella sp. oral taxon 300', 'prevotella sp. oral taxon 310', 'prevotella sp. oral taxon 317', 'prevotella sp. oral taxon 472', 'prevotella sp. oral taxon 472 str. f0295', 'prevotella sp. oral taxon 781', 'prevotella sp. oral taxon 782', 'prevotella sp. oral taxon f68', 'prevotella sp. oral taxon g60', 'prevotella sp. oral taxon g70', 'prevotella sp. oral taxon g71', 'prevotella sp. seq116', 'prevotella sp. sg12', 'prevotella stercorea', 'prevotella timonensis', 'prevotella veroralis', 'prevotella veroralis f0319', 'prevotellaceae bacterium', 'prevotellaceae bacterium p4p_62 p1', 'priestia aryabhattai', 'priestia endophytica', 'priestia flexa', 'priestia koreensis', 'priestia megaterium', 'priestia veravalensis', 'primate lentivirus group', 'primates', 'primula alpicola', 'primula cortusoides', 'primula farinosa', 'primula florindae', 'primula juliae', 'primula luteola', 'primula vialii', 'primula waltonii', 'prionailurus viverrinus', 'pristionchus pacificus', 'pristolycus sagulatus', 'procambarus clarkii', 'prochlorococcus marinus', 'prochlorococcus marinus str. as9601', 'prochlorococcus marinus str. mit 9211', 'prochlorococcus marinus str. mit 9215', 'prochlorococcus marinus str. mit 9301', 'prochlorococcus marinus str. mit 9303', 'prochlorococcus marinus str. mit 9312', 'prochlorococcus marinus str. mit 9313', 'prochlorococcus marinus str. mit 9515', 'prochlorococcus marinus str. natl1a', 'prochlorococcus marinus str. natl2a', 'prochlorococcus marinus subsp. marinus', 'prochlorococcus marinus subsp. marinus str. ccmp1375', 'prochlorococcus marinus subsp. pastoris', 'prochlorococcus marinus subsp. pastoris str. ccmp1986', 'prochlorococcus phage p-ssm4', 'prochlorococcus phage syn1', 'prochlorococcus sp.', 'prochlorococcus virus pssp7', 'prochloron didemni', 'promicromonospora', 'promicromonospora citrea', 'promicromonospora sukumoe', 'propionibacteriacaeae', 'propionibacteriaceae', 'propionibacteriaceae bacterium', 'propionibacteriaceae bacterium nml 02-0265', 'propionibacterium freudenreichii', 'propionibacterium freudenreichii subsp. freudenreichii', 'propionibacterium freudenreichii subsp. shermanii', 'propionibacterium sp.', 'propionibacterium sp. 434-hc2', 'propionibacterium sp. oral taxon 192', 'propionicimonas paludicola', 'propionimicrobium lymphophilum', 'propionispira paucivorans', 'propionispira raffinosivorans', 'propionivibrio pelophilus', 'prorocentrum', 'prorocentrum lima', 'prorocentrum maculosum', 'prorocentrum minimum', 'prosthecobacter', 'prosthecochloris aestuarii', 'prosthecochloris aestuarii dsm 271', 'prosthecochloris vibrioformis', 'proteiniclasticum sp. n2', 'proteiniphilum acetatigenes', 'proteobacteria bacterium cag:139', 'proteocatella', 'proteocatella sphenisci', 'proteus hauseri', 'proteus inconstans', 'proteus mirabilis', 'proteus mirabilis hi4320', 'proteus myxofaciens', 'proteus penneri', 'proteus sp.', 'proteus sp. hs7514', 'proteus vulgaris', 'protheca moriformis', 'protoceratium reticulatum', 'protolyngbya sp. itd-01', 'protoparvovirus', 'prototheca', 'prototheca moriformis', 'prototheca pringsheimii', 'prototheca stagnorum', 'prototheca wickerhamii', 'prototheca zopfii', 'provencibacterium massiliense', 'providencia alcalifaciens', 'providencia alcalifaciens dsm 30120', 'providencia burhodogranariea', 'providencia heimbachae', 'providencia rettgeri', 'providencia rustigianii', 'providencia sneebia', 'providencia sp.', 'providencia stuartii', 'providencia vermicola', 'prrsv vr2332', 'prunus', 'prunus armeniaca', 'prunus avium', 'prunus cerasus', 'prunus dulcis', 'prunus mandshurica', 'prunus mira', 'prunus mume', 'prunus persica', 'prunus serotina', 'prunus sibirica', 'prymnesium', 'prymnesium parvum', 'psammechinus miliaris', 'psammomys obesus', 'pseudacanthotermes spiniger', 'pseudacidovorax intermedius', 'pseudaminobacter salicylatoxidans', 'pseudanabaena', 'pseudanabaena biceps', 'pseudanabaena sp.', 'pseudarthrobacter chlorophenolicus', 'pseudarthrobacter chlorophenolicus a6', 'pseudarthrobacter oxydans', 'pseudarthrobacter phenanthrenivorans', 'pseudechis porphyriacus', 'pseudescherichia vulneris', 'pseudeurotium bakeri', 'pseudo-nitzschia <bacillariophyta>', 'pseudo-nitzschia calliantha', 'pseudo-nitzschia mannii', 'pseudoalteromonas atlantica', 'pseudoalteromonas atlantica t6c', 'pseudoalteromonas carrageenovora', 'pseudoalteromonas elyakovii', 'pseudoalteromonas flavipulchra', 'pseudoalteromonas haloplanktis', 'pseudoalteromonas luteoviolacea', 'pseudoalteromonas marina', 'pseudoalteromonas piscicida', 'pseudoalteromonas sp.', 'pseudoalteromonas translucida tac125', 'pseudoalteromonas tunicata', 'pseudoalteromonas tunicata d2', 'pseudobacteroides cellulosolvens', 'pseudobutyrivibrio ruminis', 'pseudocercospora fijiensis', 'pseudocercospora musae', 'pseudochattonella', 'pseudochattonella farcimen', 'pseudochattonella verruculosa', 'pseudochlorella pringsheimii', 'pseudochoricystis ellipsoidea (nom. nud.)', 'pseudochrobactrum', 'pseudochrobactrum sp.', 'pseudoclavibacter bifida', 'pseudococcus longispinus', 'pseudocohnilembus longisetus', 'pseudocohnilembus persalinus', 'pseudocosmospora vilior', 'pseudoctomeris sulcata', 'pseudodendrothrips mori', 'pseudodesulfovibrio aespoeensis', 'pseudoechria curvicolla', 'pseudoflavonifractor capillosus', 'pseudoflavonifractor capillosus atcc 29799', 'pseudoflavonifractor sp.', 'pseudogluconobacter', 'pseudogulbenkiania ferrooxidans', 'pseudogulbenkiania ferrooxidans 2002', 'pseudogymnoascus pannorum', 'pseudohamigera striata', 'pseudois nayaur', 'pseudoleptotrichia goodfellowii', 'pseudoleptotrichia goodfellowii f0264', 'pseudomantis albofimbriata', 'pseudomonadaceae', 'pseudomonas', 'pseudomonas aeruginosa', 'pseudomonas aeruginosa 2192', 'pseudomonas aeruginosa c3719', 'pseudomonas aeruginosa dhs01', 'pseudomonas aeruginosa pa14', 'pseudomonas aeruginosa pa7', 'pseudomonas aeruginosa pacs2', 'pseudomonas aeruginosa pao1', 'pseudomonas aeruginosa ucbpp-pa14', 'pseudomonas agarici', 'pseudomonas alcaligenes', 'pseudomonas amygdali pv. tabaci', 'pseudomonas amyloderamosa', 'pseudomonas anguilliseptica', 'pseudomonas antarctica', 'pseudomonas azotoformans', 'pseudomonas balearica', 'pseudomonas brassicacearum', 'pseudomonas chloritidismutans', 'pseudomonas chlororaphis', 'pseudomonas chlororaphis subsp. aurantiaca', 'pseudomonas chlororaphis subsp. chlororaphis', 'pseudomonas cichorii', 'pseudomonas citronellolis', 'pseudomonas congelans', 'pseudomonas coronafaciens', 'pseudomonas corrugata', 'pseudomonas denitrificans (nom. rej.)', 'pseudomonas entomophila', 'pseudomonas entomophila l48', 'pseudomonas ficuserectae', 'pseudomonas flexibilis', 'pseudomonas fluorescens', 'pseudomonas fluorescens a506', 'pseudomonas fluorescens pf0-1', 'pseudomonas fluorescens sbw25', 'pseudomonas fragi', 'pseudomonas frederiksbergensis', 'pseudomonas fulva', 'pseudomonas fuscovaginae', 'pseudomonas gessardii', 'pseudomonas hydrogenovora', 'pseudomonas japonica', 'pseudomonas jessenii', 'pseudomonas kilonensis', 'pseudomonas knackmussii', 'pseudomonas m1', 'pseudomonas mandelii', 'pseudomonas mandelii jr-1', 'pseudomonas marginalis', 'pseudomonas mendocina', 'pseudomonas mendocina ymp', 'pseudomonas mevalonii', 'pseudomonas monteilii', 'pseudomonas mosselii', 'pseudomonas nitroreducens', 'pseudomonas oleovorans', 'pseudomonas oryzihabitans', 'pseudomonas parafulva', 'pseudomonas phage f116', 'pseudomonas phage gh-1', 'pseudomonas phage kpp10', 'pseudomonas phage lu11', 'pseudomonas phage p134', 'pseudomonas phage pa7', 'pseudomonas phage paju2', 'pseudomonas phage pap2', 'pseudomonas phage phi2954', 'pseudomonas phage phipa3', 'pseudomonas phage pp7', 'pseudomonas phragmitis', 'pseudomonas plecoglossicida', 'pseudomonas poae', 'pseudomonas protegens', 'pseudomonas protegens pf-5', 'pseudomonas psychrotolerans', 'pseudomonas putida', 'pseudomonas putida dot-t1e', 'pseudomonas putida f1', 'pseudomonas putida gb-1', 'pseudomonas putida kt2440', 'pseudomonas putida nd6', 'pseudomonas putida s16', 'pseudomonas putida w619', 'pseudomonas resinovorans', 'pseudomonas rhodesiae', 'pseudomonas savastanoi', 'pseudomonas savastanoi pv. glycinea', 'pseudomonas savastanoi pv. phaseolicola', 'pseudomonas savastanoi pv. phaseolicola 1448a', 'pseudomonas sp.', 'pseudomonas sp. 101', 'pseudomonas sp. 109', 'pseudomonas sp. 61-3', 'pseudomonas sp. 6g5', 'pseudomonas sp. 7a', 'pseudomonas sp. abac61', 'pseudomonas sp. adp', 'pseudomonas sp. cf600', 'pseudomonas sp. d25', 'pseudomonas sp. g1229', 'pseudomonas sp. hj-2', 'pseudomonas sp. hr199', 'pseudomonas sp. hzn6', 'pseudomonas sp. kks102', 'pseudomonas sp. ks-e1806', 'pseudomonas sp. mbel 6-19', 'pseudomonas sp. mci3434', 'pseudomonas sp. nd6 plasmid pnd6-1', 'pseudomonas sp. np522b', 'pseudomonas sp. om2164', 'pseudomonas sp. qtf5', 'pseudomonas sp. se83', 'pseudomonas sp. sy-77-1', 'pseudomonas sp. v22', 'pseudomonas sp. wo2008034648_15039', 'pseudomonas sp. wo2008034648_15055', 'pseudomonas sp. wo2008034648_15085', 'pseudomonas sp. wo2008034648_15093', 'pseudomonas sp. wo2008034648_36776', 'pseudomonas sp. wo2008034648_36792', 'pseudomonas sp. wo2008034648_36822', 'pseudomonas sp. wo2008034648_36830', 'pseudomonas sp. wo2008034648_4684', 'pseudomonas sp. wo2008034648_4700', 'pseudomonas sp. wo2008034648_4730', 'pseudomonas sp. wo2008034648_4738', 'pseudomonas sp. wo2008034648_47800', 'pseudomonas sp. wo2008034648_47816', 'pseudomonas sp. wo2008034648_47846', 'pseudomonas sp. wo2008034648_47854', 'pseudomonas sp. wo2008034648_53490', 'pseudomonas sp. wo2008034648_53506', 'pseudomonas sp. wo2008034648_53536', 'pseudomonas sp. wo2008034648_53544', 'pseudomonas sp. wo2008034648_56633', 'pseudomonas sp. wo2008034648_56649', 'pseudomonas sp. wo2008034648_56679', 'pseudomonas sp. wo2008034648_56687', 'pseudomonas sp. wo2008034648_72875', 'pseudomonas sp. wo2008034648_72891', 'pseudomonas sp. wo2008034648_72921', 'pseudomonas sp. wo2008034648_72929', 'pseudomonas sp. wo2008034648_78444', 'pseudomonas sp. wo2008034648_78460', 'pseudomonas sp. wo2008034648_78490', 'pseudomonas sp. wo2008034648_78498', 'pseudomonas straminea', 'pseudomonas stutzeri', 'pseudomonas stutzeri a1501', 'pseudomonas stutzeri kc', 'pseudomonas synxantha', 'pseudomonas synxantha bg33r', 'pseudomonas syringae', 'pseudomonas syringae group', 'pseudomonas syringae pv. actinidiae', 'pseudomonas syringae pv. angulata', 'pseudomonas syringae pv. atrofaciens', 'pseudomonas syringae pv. delphinii', 'pseudomonas syringae pv. maculicola', 'pseudomonas syringae pv. syringae', 'pseudomonas syringae pv. syringae b728a', 'pseudomonas syringae pv. tagetis', 'pseudomonas syringae pv. tomato', 'pseudomonas syringae pv. tomato str. dc3000', 'pseudomonas taetrolens', 'pseudomonas thermotolerans', 'pseudomonas tolaasii', 'pseudomonas trivialis', 'pseudomonas veronii', 'pseudomonas viridiflava', 'pseudomondadaceae gen. sp.', 'pseudonaja textilis', 'pseudonaja textilis textilis', 'pseudonocardia', 'pseudonocardia autotrophica', 'pseudonocardia dioxanivorans', 'pseudonocardia sp.', 'pseudonocardia sp. al041005-10', 'pseudonocardia sp. gsoil1536', 'pseudonocardia sp. ksf27', 'pseudonocardia sp. p1', 'pseudonocardia spinosispora dsm 44797', 'pseudonocardia thermophila', 'pseudooceanicola batsensis', 'pseudooceanicola batsensis htcc2597', 'pseudopediastrum boryanum', 'pseudoperonospora cubensis', 'pseudoplectania nigrella', 'pseudopleuronectes americanus', 'pseudopyricularia higginsii', 'pseudoramibacter alactolyticus', 'pseudorca crassidens', 'pseudorhizobium banfieldiae', 'pseudoroegneria spicata', 'pseudothermotoga lettingae', 'pseudothermotoga lettingae tmo', 'pseudotrichonympha grassii', 'pseudotsuga menziesii', 'pseudovibrio sp. fo-beg1', 'pseudoxanthomonas spadix bd-a59', 'pseudoxanthomonas suwonensis', 'pseudoxiphophorus bimaculatus', 'pseudozyma', 'pseudozyma hubeiensis', 'pseudozyma tsukubaensis', 'psilotum nudum', 'psophocarpus tetragonolobus', 'psychrobacillus sp.', 'psychrobacter arcticus', 'psychrobacter arcticus 273-4', 'psychrobacter cibarius', 'psychrobacter cryohalolentis', 'psychrobacter cryohalolentis k5', 'psychrobacter faecalis', 'psychrobacter immobilis', 'psychrobacter nivimaris', 'psychrobacter phenylpyruvicus', 'psychrobacter pulmonis', 'psychrobacter sanguinis', 'psychrobacter sp.', 'psychrobacter sp. prwf-1', 'psychroflexus torquis', 'psychroflexus torquis atcc 700755', 'psychromonas', 'psychromonas ingrahamii', 'psychromonas ingrahamii 37', 'psychromonas sp.', 'psychromonas sp. cnpt3', 'psychroserpens burtonensis', 'psylliodes chrysocephala', 'ptelea trifoliata', 'pteridium aquilinum', 'pteromys momonga', 'pterophyllum scalare', 'pteropus alecto', 'ptilosarcus gurneyi', 'ptilota filicina', 'ptyas dhumnades', 'ptyas mucosa', 'puccinellia tenuiflora', 'puccinia graminis', 'puccinia horiana', 'puccinia polysora', 'puccinia striiformis', 'puccinia triticina', 'pueraria montana', 'pueraria montana var. lobata', 'pueraria montana var.lobata', 'punica granatum', 'purpureocillium lilacinum', 'pusillimonas noertemannii', 'pusillimonas sp. t7-7', 'puumala orthohantavirus', 'pygmaiobacter massiliensis', 'pyramidobacter piscolens', 'pyramimonas', 'pyramimonas cordata', 'pyrearinus termitilluminans', 'pyrenochaeta sp.', 'pyrenochaetopsis sp.', 'pyrenophora graminea', 'pyrenophora teres', 'pyrenophora tritici-repentis', 'pyrenophora tritici-repentis pt-1c-bfp', 'pyricularia grisea', 'pyricularia oryzae', 'pyricularia oryzae 70-15', 'pyrobaculum aerophilum', 'pyrobaculum aerophilum str. im2', 'pyrobaculum arsenaticum', 'pyrobaculum calidifontis', 'pyrobaculum islandicum', 'pyrobaculum neutrophilum', 'pyrococcus', 'pyrococcus abyssi', 'pyrococcus abyssi ge5', 'pyrococcus furiosus', 'pyrococcus furiosus dsm 3638', 'pyrococcus furiosusorganism', 'pyrococcus horikoshii', 'pyrococcus horikoshii ot3', 'pyrococcus sp.', 'pyrococcus sp. na2', 'pyrococcus woesei', 'pyrocoelia abdominalis', 'pyrocoelia fumosa', 'pyrocoelia matsumurai', 'pyrocoelia rufa', 'pyrocystis lunula', 'pyrodictium', 'pyrodictium abyssi', 'pyrodictium brockii', 'pyrolobus fumarii', 'pyrophorus plagiophthalamus', 'pyropia spiralis', 'pyrus communis', 'pyrus pyrifolia', 'pyrus x bretschneideri', 'pythium aphanidermatum', 'pythium arrhenomanes', 'pythium deliense', 'pythium folliculosum', 'pythium graminicola', 'pythium oligandrum', 'pythium sp.', 'pythium sulcatum', 'pythium vanterpoolii', 'python bivittatus', 'python regius', 'pyxidicoccus fallax', 'qipengyuania gaetbuli', 'quercus acutissima', 'quercus alba', 'quercus ilex', 'quercus mongolica', 'quercus mongolica subsp. crispula', 'quercus petraea', 'quercus rotundifolia', 'quercus rubra', 'quercus serrata', 'quercus suber', 'quercus trojana', 'quercus variabilis', 'rabbit fibroma virus', 'rabbit hemorrhagic disease virus', 'rabbitpox virus', 'rabies lyssavirus', 'rabies virus era', 'raccoon parvovirus', 'rachiplusia ou mnpv', 'radish mosaic virus', 'rahnella aquatilis', 'rahnella aquatilis cip 78.65 = atcc 33071', 'rahnella sp.', 'raja brachyura', 'ralstonia', 'ralstonia mannitolilytica', 'ralstonia phage rss1', 'ralstonia pickettii', 'ralstonia pickettii 12d', 'ralstonia pickettii 12j', 'ralstonia solanacearum', 'ralstonia solanacearum gmi1000', 'ralstonia solanacearum molk2', 'ralstonia solanacearum uw551', 'ralstonia sp.', 'ralstonia sp. 4506', 'ralstonia sp. 4506organism using phosphite dehydrogenase gene', 'ralstonia syzygii', 'ramazzottius varieornatus', 'rana dybowskii', 'rana japonica', 'rana temporaria', 'rangifer tarandus', 'raoultella ornithinolytica', 'raoultella planticola', 'raoultella terrigena', 'raoultibacter timonensis', 'raphanus', 'raphanus raphanistrum', 'raphanus sativus', 'raphicerus melanotis', 'raphidophyceae', 'rarimicrobium hominis', 'rasamsonia byssochlamydoides', 'rasamsonia composticola', 'rasamsonia emersonii', 'rat adeno-associated virus 1', 'rat coronavirus', 'rat cytomegalovirus strain maastricht', 'rat minute virus 1a', 'rat minute virus 1b', 'rat minute virus 1c', 'rat minute virus 2a', 'rat minute virus isolate ntu1', 'rat minute virus isolate ntu2', 'rat parvovirus ut', 'rat sialodacryoadenitis coronavirus', 'rathayibacter rathayi', 'rattus', 'rattus exulans', 'rattus leucopus', 'rattus norvegicus', 'rattus rattus', 'rattus sordidus', 'rattus sp.', 'rauscher murine leukemia virus', 'rauvolfia mannii', 'rauvolfia serpentina', 'rebecca salina', 'reclinomonas americana', 'red clover necrotic mosaic virus', 'red seabream iridovirus', 'redunca arundinum', 'rehmannia glutinosa', 'reinekea blandensis med297', 'reinekea sp.', 'reinhardtius hippoglossoides', 'remersonia thermophila', 'renibacterium salmoninarum', 'renilla', 'renilla luciferase', 'renilla muelleri', 'renilla reniformis', 'reovirus sp.', 'reptilian orthoreovirus', 'respiratory syncytial virus', 'reston ebolavirus', 'retama raetam', 'reticulitermes balkanensis', 'reticulitermes grassei', 'reticulitermes lucifugus', 'reticulitermes speratus', 'reticulitermes urbis', 'reticuloendotheliosis virus', 'retroconis', 'retroperitoneal fibromatosis-associated herpesvirus', 'retroviral provirus', 'rhabdoviridae', 'rhadinovirus', 'rhadovirus', 'rhagophthalminae', 'rhagophthalmus ohbai', 'rhaphiolepis bibas', 'rhea americana', 'rhesus macaque parvovirus', 'rhesus monkey rhadinovirus h26-95', 'rheum australe', 'rheum palmatum', 'rheum tataricum', 'rhinella marina', 'rhinoceros sondaicus', 'rhinocladiella atrovirens', 'rhinopithecus bieti', 'rhinovirus a', 'rhinovirus a16', 'rhinovirus a1b', 'rhinovirus a89', 'rhinovirus b', 'rhinovirus b14', 'rhipicephalus appendiculatus', 'rhipicephalus microplus', 'rhipicephalus sanguineus', 'rhizobiaceae', 'rhizobium', 'rhizobium etli', 'rhizobium etli cfn 42', 'rhizobium etli ciat 652', 'rhizobium leguminosarum', 'rhizobium leguminosarum bv. trifolii', 'rhizobium leguminosarum bv. trifolii wsm1325', 'rhizobium leguminosarum bv. trifolii wsm2304', 'rhizobium leguminosarum bv. viciae', 'rhizobium leguminosarum bv. viciae 3841', 'rhizobium mesoamericanum', 'rhizobium phaseoli', 'rhizobium sp.', 'rhizobium sp. ac44/96', 'rhizobium sp. gin611', 'rhizobium sp. n113', 'rhizobium sp. n1341', 'rhizobium sp. n6212', 'rhizobium sp. n871', 'rhizobium tropici', 'rhizoctonia solani', 'rhizoctonia solani virus 717', 'rhizomucor miehei', 'rhizomucor pusillus', 'rhizophagus intraradices', 'rhizophora mangle', 'rhizopus arrhizus', 'rhizopus circinans', 'rhizopus delemar', 'rhizopus microsporus', 'rhizopus microsporus var. oligosporus', 'rhizopus niveus', 'rhizopus stolonifer', 'rhizopycnis', 'rhizorhabdus wittichii', 'rhizorhabdus wittichii rw1', 'rhodanobacter', 'rhodanobacter denitrificans', 'rhodella violacea', 'rhodiola sachalinensis', 'rhodnius prolixus', 'rhodobacter', 'rhodobacter capsulatus', 'rhodobacter capsulatus de442', 'rhodobacter capsulatus r121', 'rhodobacter capsulatus sb 1003', 'rhodobacter sp.', 'rhodobacter sp. oral taxon c30', 'rhodobacteraceae', 'rhodobacteraceae bacterium htcc2083', 'rhodobacteraceae bacterium klh11', 'rhodobacterales', 'rhodobacterales bacterium', 'rhodococcus', 'rhodococcus aetherivorans', 'rhodococcus aetherivorans i24', 'rhodococcus corallinus nrrl b-15444r', 'rhodococcus corynebacterioides', 'rhodococcus defluvii', 'rhodococcus erythropolis', 'rhodococcus erythropolis pr4', 'rhodococcus erythropolis sk121', 'rhodococcus fascians', 'rhodococcus globerulus', 'rhodococcus hoagii', 'rhodococcus imtechensis rkj300 = jcm 13270', 'rhodococcus j1-h', 'rhodococcus jostii', 'rhodococcus jostii rha1', 'rhodococcus opacus', 'rhodococcus opacus b4', 'rhodococcus pyridinivorans', 'rhodococcus qingshengii', 'rhodococcus rhodnii', 'rhodococcus rhodochrous', 'rhodococcus rhodochrous kg-21', 'rhodococcus ruber', 'rhodococcus sp.', 'rhodococcus sp. mb1', 'rhodococcus sp. ncimb 12038', 'rhodococcus sp. phi1', 'rhodococcus sp. phi2', 'rhodococcus sp. wo2008034648_53514', 'rhodococcus triatomae', 'rhodococcus wratislaviensis', 'rhodocyclus sp.', 'rhododendron simsii', 'rhodoferax', 'rhodoferax fermentans', 'rhodoferax ferrireducens', 'rhodoferax ferrireducens t118', 'rhodomonas sp.', 'rhodopirellula', 'rhodopirellula baltica', 'rhodopirellula baltica sh 1', 'rhodopseudomonas palustris', 'rhodopseudomonas palustris bisa53', 'rhodopseudomonas palustris bisb18', 'rhodopseudomonas palustris bisb5', 'rhodopseudomonas palustris cga009', 'rhodopseudomonas palustris dx-1', 'rhodopseudomonas palustris haa2', 'rhodopseudomonas palustris tie-1', 'rhodospirillum centenum', 'rhodospirillum centenum sw', 'rhodospirillum rubrum', 'rhodospirillum rubrum atcc 11170', 'rhodosporidiobolus azoricus', 'rhodosporidiobolus ruineniae', 'rhodothalassium salexigens', 'rhodothermus marinus', 'rhodothermus marinus dsm 4252', 'rhodothermus phage rm378', 'rhodotorula alborubescens', 'rhodotorula araucariae', 'rhodotorula dairenensis', 'rhodotorula diobovata', 'rhodotorula glutinis', 'rhodotorula graminis', 'rhodotorula mucilaginosa', 'rhodotorula paludigena', 'rhodotorula sp. jg-1b', 'rhodotorula sphaerocarpa', 'rhodotorula toruloides', 'rhodotorula toruloides atcc 204091', 'rhodovulum sp.', 'rhodovulum sulfidophilum', 'rhopalosiphum padi', 'rhopalosiphum padi virus', 'rhynchosciara americana', 'rhynchosporium secalis', 'rhyzopertha dominica', 'ribes aureum', 'ribes nigrum', 'riccia fluitans', 'rice dwarf virus', 'rice grassy stunt tenuivirus', 'rice stripe tenuivirus', 'rice tungro bacilliform virus', 'rice yellow stunt nucleorhabdovirus', 'richelia intracellularis hh01', 'ricinus communis', 'rickettsia akari', 'rickettsia akari str. hartford', 'rickettsia australis', 'rickettsia bellii', 'rickettsia bellii rml369-c', 'rickettsia canadensis str. mckiel', 'rickettsia conorii', 'rickettsia conorii str. malish 7', 'rickettsia felis', 'rickettsia felis urrwxcal2', 'rickettsia helvetica', 'rickettsia japonica', 'rickettsia massiliae mtu5', 'rickettsia montanensis', 'rickettsia prowazekii', 'rickettsia prowazekii str. madrid e', 'rickettsia rickettsii', 'rickettsia sibirica', 'rickettsia sibirica 246', 'rickettsia slovaca', 'rickettsia sp.', 'rickettsia typhi', 'rickettsia typhi str. wilmington', 'rickettsiella grylli', 'ricordea florida', 'riemerella anatipestifer', 'rift valley fever virus', 'rigidoporus corticola', 'rigidoporus cuneatus', 'rigidoporus microporus', 'rigidoporus subpopulinus', 'rigidoporus ulmarius', 'rigidoporus vinctus', 'rikenella microfusus', 'rinderpest morbillivirus', 'rio bravo virus', 'rippkaea orientalis pcc 8801', 'rippkaea orientalis pcc 8802', 'riukiaria semicircularis semicircularis', 'rivularia sp. pcc 7116', 'robbsia andropogonis', 'robertmurraya massiliosenegalensis', 'robertmurraya massiliosenegalensis jc6', 'robiginitalea biformata', 'robiginitalea biformata htcc2501', 'robinsoniella peoriensis', 'robinsoniella sp.', 'rocio virus', 'rodentia', 'rodentibacter pneumotropicus', 'rosa', 'rosa chinensis', 'rosa chinensis var. spontanea', 'rosa hybrid cultivar', 'rosa sp.', 'rosa woodsii', 'rosa x borboniana', 'rosaceae', 'roseburia', 'roseburia cecicola', 'roseburia faecis', 'roseburia hominis', 'roseburia hominis a2-183', 'roseburia intestinalis', 'roseburia intestinalis l1-82', 'roseburia inulinivorans', 'roseburia inulinivorans dsm 16841', 'roseburia sp.', 'roseburia sp. 11se37', 'roseburia sp. 11se38', 'roseburia sp. a2-183', 'roseburia sp. cag:380', 'roseibium aggregatum iam 12614', 'roseibium alexandrii', 'roseiflexus', 'roseiflexus castenholzii', 'roseiflexus castenholzii dsm 13941', 'roseiflexus sp.', 'roseiflexus sp. rs-1', 'rosellinia necatrix', 'rosellinia quercina', 'rosenbergiella nectarea', 'roseobacter', 'roseobacter denitrificans', 'roseobacter denitrificans och 114', 'roseobacter litoralis och 149', 'roseobacter sp', 'roseobacter sp.', 'roseobacter sp. azwk-3b', 'roseobacter sp. med193', 'roseobacter sp. sk209-2-6', 'roseobacter virus sio1', 'roseomonas cervicalis', 'roseomonas gilardii', 'roseomonas mucosa', 'roseomonas sp.', 'roseomonas sp. nml94-0193', 'roseomonas sp. nml97-0121', 'roseomonas sp. nml98-0009', 'roseovarius', 'roseovarius nubinhibens', 'roseovarius nubinhibens ism', 'roseovarius sp', 'roseovarius sp.', 'roseovarius sp. 217', 'ross river virus', 'rossellomorea marisflavi', 'rossellomorea vietnamensis', 'rotavirus', 'rotavirus a', 'rotavirus b', 'rotavirus c', 'rotavirus g195b', 'rotavirus g3', 'rotavirus g4', 'rotavirus g9', 'rotavirus sp.', 'rotavirus subgroup 1', 'rothia aeria', 'rothia dentocariosa', 'rothia kristinae', 'rothia mucilaginosa', 'rothia mucilaginosa atcc 25296', 'rothia nasimurium', 'rothia sp.', 'rothia sp. oral taxon 188', 'rous sarcoma virus', 'roussoella intermedia', 'rouxiella badensis', 'rubella virus', 'rubellimicrobium mesophilum', 'rubinisphaera brasiliensis', 'rubinisphaera brasiliensis dsm 5305', 'rubrivivax gelatinosus', 'rubrobacter', 'rubrobacter xylanophilus', 'rubrobacter xylanophilus dsm 9941', 'rubus chingii', 'rubus chingii var. suavissimus', 'rubus idaeus', 'ruditapes philippinarum', 'ruegeria', 'ruegeria lacuscaerulensis iti-1157', 'ruegeria pomeroyi', 'ruegeria pomeroyi dss-3', 'ruegeria sp.', 'ruegeria sp. pr1b', 'ruegeria sp. r11', 'ruegeria sp. tm1040', 'rumex acetosa', 'rumex palustris', 'ruminiclostridium cellobioparum subsp. termitidis', 'ruminiclostridium cellulolyticum', 'ruminiclostridium cellulolyticum h10', 'ruminiclostridium josui', 'ruminiclostridium papyrosolvens', 'ruminiclostridium papyrosolvens dsm 2782', 'ruminobacter amylophilus', 'ruminococcaceae bacterium d16', 'ruminococcus', 'ruminococcus albus', 'ruminococcus bicirculans', 'ruminococcus bromii', 'ruminococcus callidus', 'ruminococcus champanellensis', 'ruminococcus champanellensis 18p13 = jcm 17042', 'ruminococcus flavefaciens', 'ruminococcus flavefaciens 17', 'ruminococcus sp.', 'ruminococcus sp. 16442', 'ruminococcus sp. 5_1_39bfaa', 'ruminococcus sp. 9se51', 'ruminococcus sp. cag:353', 'ruminococcus sp. m-1', 'rumohra adiantiformis', 'runella slithyformis', 'ruta graveolens', 'ruthenibacterium lactatiformans', 'rutilus rutilus', 's. aureus', 's. cerevisiae', 's. pyogenes', 's. thermophilus', 's.mutansorganism', 's.thermophilusorganism', 'sabellastarte spectabilis', 'sabia virus', 'sacbrood virus', 'saccharina diabolica', 'saccharina japonica', 'saccharofermentans acetigenes', 'saccharolobus shibatae', 'saccharolobus solfataricus', 'saccharolobus solfataricus p2', 'saccharomonospora azurea', 'saccharomonospora cyanea', 'saccharomonospora glauca', 'saccharomonospora viridis', 'saccharomonospora xinjiangensis', 'saccharomyces', 'saccharomyces arboricola', 'saccharomyces bayanus', 'saccharomyces boulardii (nom. inval.)', 'saccharomyces cerevisiae', \"saccharomyces cerevisiae 'var. diastaticus'\", 'saccharomyces cerevisiae 2 micron plasmid', 'saccharomyces cerevisiae awri1631', 'saccharomyces cerevisiae rm11-1a', 'saccharomyces cerevisiae s288c', 'saccharomyces cerevisiae scm', 'saccharomyces cerevisiae sct', 'saccharomyces eubayanus', 'saccharomyces kudriavzevii', 'saccharomyces mikatae', 'saccharomyces mikatae ifo 1815', 'saccharomyces paradoxus', 'saccharomyces pastorianus', 'saccharomyces pastorianus weihenstephan 34/70', 'saccharomyces sp.', 'saccharomyces uvarum', 'saccharomycopsis fibuligera', 'saccharomycotina', 'saccharophagus degradans', 'saccharophagus degradans 2-40', 'saccharopolyspora endophytica', 'saccharopolyspora erythraea', 'saccharopolyspora erythraea nrrl 2338', 'saccharopolyspora sp. nrrl 30141', 'saccharopolyspora spinosa', 'saccharothrix australiensis', 'saccharothrix espanaensis', 'saccharothrix mutabilis', 'saccharothrix mutabilis subsp. capreolus', 'saccharothrix variisporea', 'saccharum', 'saccharum hybrid cultivar', 'saccharum hybrid cultivar cp65-357', 'saccharum officinarum', 'saccharum sp.', 'saccharum spontaneum', 'saccobolus dilutellus', 'saccoglossus kowalevskii', 'saffold virus', 'sagittaria pygmaea', 'sagittula stellata', 'sagittula stellata e-37', 'saguinus labiatus', 'saguinus midas', 'saguinus midas lymphocryptovirus 1', 'saguinus oedipus', 'saimiri', 'saimiri boliviensis', 'saimiri sciureus', 'saimiri sciureus lymphocryptovirus 1', 'saimiri sp.', 'saimiriine gammaherpesvirus 2', 'saint louis encephalitis virus', 'saitozyma flava', 'saksenaea vasiformis', 'salamandra atra', 'salamandra lanzai', 'salamandra salamandra', 'salicornia europaea', 'salinibacter ruber', 'salinibacter ruber dsm 13855', 'salinibacterium', 'salinispira pacifica', 'salinispora arenicola', 'salinispora arenicola cns-205', 'salinispora tropica', 'salinispora tropica cnb-440', 'salipaludibacillus agaradhaerens', 'salisediminibacterium selenitireducens', 'salix gilgiana', 'salix sp.', 'salmo', 'salmo salar', 'salmo sp.', 'salmo trutta', 'salmon isavirus', 'salmon pancreas disease virus', 'salmonella', 'salmonella bongori', 'salmonella enterica', 'salmonella enterica subsp. arizonae', 'salmonella enterica subsp. arizonae serovar 62:z4,z23:-', 'salmonella enterica subsp. diarizonae', 'salmonella enterica subsp. enterica', 'salmonella enterica subsp. enterica serovar abony', 'salmonella enterica subsp. enterica serovar agona str. sl483', 'salmonella enterica subsp. enterica serovar anatum', 'salmonella enterica subsp. enterica serovar bovismorbificans', 'salmonella enterica subsp. enterica serovar chester', 'salmonella enterica subsp. enterica serovar choleraesuis', 'salmonella enterica subsp. enterica serovar dublin', 'salmonella enterica subsp. enterica serovar enteritidis', 'salmonella enterica subsp. enterica serovar gallinarum', 'salmonella enterica subsp. enterica serovar hadar', 'salmonella enterica subsp. enterica serovar infantis', 'salmonella enterica subsp. enterica serovar mbandaka str. atcc', 'salmonella enterica subsp. enterica serovar muenchen', 'salmonella enterica subsp. enterica serovar oranienburg', 'salmonella enterica subsp. enterica serovar paratyphi a', 'salmonella enterica subsp. enterica serovar paratyphi a str. atcc', 'salmonella enterica subsp. enterica serovar paratyphi b', 'salmonella enterica subsp. enterica serovar paratyphi b str. spb7', 'salmonella enterica subsp. enterica serovar schwarzengrund str.', 'salmonella enterica subsp. enterica serovar typhi', 'salmonella enterica subsp. enterica serovar typhi str. ct18', 'salmonella enterica subsp. enterica serovar typhi str. ty2', 'salmonella enterica subsp. enterica serovar typhimurium', 'salmonella enterica subsp. enterica serovar typhimurium str. lt2', 'salmonella enterica subsp. enterica serovar urbana str. atcc 9261', 'salmonella enterica subsp. enterica serovar virchow', 'salmonella enterica subsp. houtenae', 'salmonella enterica subsp. indica', 'salmonella enterica subsp. salamae', 'salmonella phage felixo1', 'salmonella phage sp6', 'salmonella sp.', 'salmonella virus ieps5', 'salmonella virus p22', 'salmonella virus sp6', 'salmonid alphavirus', 'salmonidae', 'salsola komarovii', 'salvelinus alpinus', 'salvelinus fontinalis', 'salvia', 'salvia guaranitica', 'salvia miltiorrhiza', 'salvia officinalis', 'salvia rosmarinus', 'salvia sclarea', 'salvia splendens', 'salvia uliginosa', 'samia cynthia', 'sampaiozyma ingeniosa', 'samsonia erythrinae', 'san angelo virus', 'sandaracinus amylolyticus', 'sandfly fever naples virus', 'sanguibacter keddieii', 'sanguibacter keddieii dsm 10542', 'sanguinaria canadensis', 'santalum album', 'santalum austrocaledonicum', 'santalum spicatum', 'sapelovirus a', 'saponaria officinalis', 'saposhnikovia divaricata', 'sapovirus', 'sapovirus mc10', 'sapporo virus', 'saprolegnia', 'saprolegnia diclina', 'saprolegnia monoica', 'saprolegnia parasitica', 'sarcina ventriculi', 'sarcinochrysis marina', 'sarcophaga peregrina', 'sarcoptes scabiei', 'sardina pilchardus', 'sarocladium sp.', 'sarocladium strictum', 'sars coronavirus bj01', 'sars coronavirus cuhk-su10', 'sars coronavirus cuhk-w1', 'sars coronavirus frankfurt 1', 'sars coronavirus gd01', 'sars coronavirus gd03t0013', 'sars coronavirus gd69', 'sars coronavirus hb', 'sars coronavirus hc/sz/61/03', 'sars coronavirus hsr 1', 'sars coronavirus tor2', 'sars coronavirus tw1', 'sars coronavirus tw5', 'sars coronavirus urbani', 'sars coronavirus zj01', 'saruma henryi', 'sassafras albidum', 'satellite tobacco mosaic virus', 'saturnia japonica', 'sauromatum venosum', 'saussurea medusa', 'scardovia inopinata', 'scardovia wiggsiae', 'scedosporium apiospermum', 'scedosporium boydii', 'sceloporus undulatus', 'scenedesmus', 'scenedesmus sp. oki-4n', 'scenedesmus vacuolatus', 'schaalia', 'schaalia cardiffensis', 'schaalia funkei', 'schaalia georgiae', 'schaalia meyeri', 'schaalia odontolytica', 'schaalia odontolytica atcc 17982', 'scheffersomyces shehatae', 'scheffersomyces stipitis', 'scheffersomyces stipitis cbs 6054', 'scherffelia dubia', 'schinkia azotoformans', 'schisandra chinensis', 'schistocephalus solidus', 'schistocerca americana', 'schistosoma haematobium', 'schistosoma indicum', 'schistosoma japonicum', 'schistosoma mansoni', 'schistosoma mattheei', 'schizochytrium', 'schizochytrium aggregatum', 'schizochytrium sp.', 'schizochytrium sp. atcc 20888', 'schizophyllum commune', 'schizopora paradoxa', 'schizosaccharomyces japonicus', 'schizosaccharomyces japonicus yfs275', 'schizosaccharomyces octosporus', 'schizosaccharomyces pombe', 'schizosaccharomyces pombe 972h-', 'schizosaccharomyces pombe/puccinia graminis mixed dna library', 'schizothecium inaequale', 'schleiferilactobacillus perolens', 'schmallenberg virus', 'schmidtea mediterranea', 'schwanniomyces occidentalis', 'schwartzia sp.', 'sciadopitys verticillata', 'sciurus vulgaris', 'scleractinia', 'scleronephthya gracillimum', 'sclerotinia borealis', 'sclerotinia sclerotiorum', 'sclerotinia sclerotiorum 1980 uf-70', 'sclerotium delphinii', 'scolopendra subspinipes', 'scolymia cubensis', 'scomber australasicus', 'scomber japonicus', 'scomber scombrus', 'scoparia dulcis', 'scophthalmus maximus', 'scopula ornata', 'scopulariopsis', 'scopulariopsis brevicaulis', 'scopulariopsis candida', 'scopulariopsis koningii', 'scorpio palmatus', 'scutellaria amoena', 'scutellaria baicalensis', 'scutellaria indica', 'scutellaria pekinensis', 'scytalidium circinatum', 'scytalidium indonesiacum', 'seal parapoxvirus', 'sebaldella termitidis', 'sebastes matsubarae', 'secale cereale', 'secondary endosymbiont of glycaspis brimblecombei', 'secundilactobacillus collinoides', 'securigera parviflora', 'sediminibacterium', 'sediminispirochaeta smaragdinae', 'segestria florentina', 'segetibacter koreensis', 'segniliparus rotundus', 'segniliparus rugosus', 'segniliparus rugosus atcc baa-974', 'selaginella', 'selaginella apoda', 'selaginella braunii', 'selaginella delicatula', 'selaginella erythropus', 'selaginella kraussiana', 'selaginella lepidophylla', 'selaginella martensii', 'selaginella moellendorffii', 'selaginella pallescens', 'selaginella victoriae', 'selenia aurea', 'selenomonas', 'selenomonas artemidis', 'selenomonas dianae', 'selenomonas genomosp. c1', 'selenomonas genomosp. c2', 'selenomonas genomosp. p5', 'selenomonas genomosp. p6 oral clone mb3_c41', 'selenomonas genomosp. p7 oral clone mb5_c08', 'selenomonas genomosp. p8 oral clone mb5_p06', 'selenomonas infelix', 'selenomonas lacticifex', 'selenomonas noxia', 'selenomonas ruminantium', 'selenomonas sp.', 'selenomonas sp. oral clone ft050', 'selenomonas sp. oral clone gi064', 'selenomonas sp. oral clone gt010', 'selenomonas sp. oral clone hu051', 'selenomonas sp. oral clone ik004', 'selenomonas sp. oral clone iq048', 'selenomonas sp. oral clone ji021', 'selenomonas sp. oral clone js031', 'selenomonas sp. oral clone oh4a', 'selenomonas sp. oral clone p2pa_80 p4', 'selenomonas sp. oral taxon 137', 'selenomonas sp. oral taxon 149', 'selenomonas sputigena', 'semibalanus balanoides', 'semibalanus cariosus', 'semliki forest virus', 'semnopithecus entellus', 'sen virus', 'senecavirus', 'senecavirus a', 'senecio cambrensis', 'senecio chrysanthemifolius', 'senecio madagascariensis', 'senecio squalidus', 'senecio vernalis', 'senecio vulgaris', 'senegalimassilia anaerobia jc110', 'senna obtusifolia', 'senna occidentalis', 'sentinel virus i', 'seol hantavirus (seov)', 'seoul orthohantavirus', 'sepioteuthis lessoniana', 'septoria macropoda', 'sequoia sempervirens', 'seriola dumerili', 'seriola quinqueradiata', 'serpula lacrymans', 'serra do navio virus', 'serratia', 'serratia entomophila', 'serratia ficaria', 'serratia fonticola', 'serratia grimesii', 'serratia liquefaciens', 'serratia liquefaciens fk01', 'serratia marcescens', 'serratia marcescens bidmc 50', 'serratia marcescens bidmc 81', 'serratia marcescens h1q', 'serratia marcescens sm39', 'serratia marcescens smb2099', 'serratia marcescens vgh107', 'serratia marcescens ww4', 'serratia nematodiphila wcu338', 'serratia odorifera', 'serratia plymuthica', 'serratia plymuthica 4rx13', 'serratia plymuthica a30', 'serratia plymuthica as9', 'serratia proteamaculans', 'serratia proteamaculans 568', 'serratia quinivorans', 'serratia rubidaea', 'serratia sp.', 'serratia sp. bw106', 'serratia sp. c-1', 'serratia sp. fs14', 'serratia sp. hmsc15f11', 'serratia sp. istd04', 'serratia sp. jks000199', 'serratia sp. mk1', 'serratia sp. olel1', 'serratia sp. olfl2', 'serratia sp. omlw3', 'serratia sp. s119', 'serratia sp. s4', 'serratia sp. scbi', 'serratia sp. tel', 'serratia surfactantfaciens', 'serratia ureilytica', 'sesamia nonagrioides', 'sesamum alatum', 'sesamum indicum', 'sesamum radiatum', 'sesbania bispinosa', 'sesbania rostrata', 'setaria cervi', 'setaria italica', 'setaria viridis', 'setophaeosphaeria sp.', 'setothosea asigna', 'severe acute respiratory syndrome coronavirus 2', 'severe acute respiratory syndrome-related coronavirus', 'severe fever with thrombocytopenia syndrome virus', 'sharpea azabuensis', 'sheeppox virus', 'shelfordella lateralis', 'shewanella algae', 'shewanella amazonensis sb2b', 'shewanella baltica', 'shewanella baltica os155', 'shewanella baltica os185', 'shewanella baltica os195', 'shewanella benthica', 'shewanella benthica kt99', 'shewanella colwelliana', 'shewanella denitrificans', 'shewanella denitrificans os217', 'shewanella fodinae', 'shewanella frigidimarina ncimb 400', 'shewanella halifaxensis haw-eb4', 'shewanella hanedai', 'shewanella japonica', 'shewanella loihica', 'shewanella loihica pv-4', 'shewanella marinintestina', 'shewanella massilia', 'shewanella olleyana', 'shewanella oneidensis', 'shewanella oneidensis mr-1', 'shewanella oneidensis mtra', 'shewanella oneidensis mtra-f', 'shewanella oneidensis mtrabc', 'shewanella oneidensis mtrb', 'shewanella oneidensis mtrc', 'shewanella oneidensis mtrd', 'shewanella oneidensis mtrdef', 'shewanella oneidensis mtre', 'shewanella oneidensis mtrf', 'shewanella oneidensis mtrfcab', 'shewanella oneidensis omca', 'shewanella pneumatophori', 'shewanella putida', 'shewanella putrefaciens', 'shewanella putrefaciens 200', 'shewanella putrefaciens cn-32', 'shewanella sediminis haw-eb3', 'shewanella sp.', 'shewanella sp. ana-3', 'shewanella sp. mr-4', 'shewanella sp. mr-7', 'shewanella sp. t3-3', 'shewanella sp. w3-18-1', 'shewanella sp. zor0012', 'shewanella violacea', 'shewanella violacea dss12', 'shewanella woodyi', 'shewanella woodyi atcc 51908', 'shewanella xiamenensis', 'shigella', 'shigella boydii', 'shigella boydii cdc 3083-94', 'shigella boydii sb227', 'shigella dysenteriae', 'shigella dysenteriae 1', 'shigella dysenteriae sd197', 'shigella flexneri', 'shigella flexneri 1235-66', 'shigella flexneri 2a', 'shigella flexneri 2a str. 2457t', 'shigella flexneri 2a str. 301', 'shigella flexneri 6', 'shigella sonnei', 'shigella sonnei ss046', 'shigella sp.', 'shigella virus sf6', 'shimwellia blattae', 'shinella', 'shinella sp.', 'shinella zoogloeoides', 'shrimp white spot syndrome virus', 'shuttle vector prhbr17', 'shuttleworthia satelles', 'shuttleworthia satelles dsm 14600', 'shuttleworthia sp. msx8b', 'shuttleworthia sp. oral taxon g69', 'siccibacter turicensis', 'sideroxydans lithotrophicus', 'siganus canaliculatus', 'sigma virus', 'sigmodon hispidus', 'sikhote-alin virus', 'silene latifolia', 'silene latifolia subsp. alba', 'sillago japonica', 'silurus asotus', 'simian adenovirus 1', 'simian adenovirus 11', 'simian adenovirus 18', 'simian adenovirus 19', 'simian adenovirus 23', 'simian adenovirus 25', 'simian adenovirus 25.2', 'simian adenovirus 26', 'simian adenovirus 27', 'simian adenovirus 28', 'simian adenovirus 29', 'simian adenovirus 30', 'simian adenovirus 31', 'simian adenovirus 32', 'simian adenovirus 33', 'simian adenovirus 34', 'simian adenovirus 35', 'simian adenovirus 37', 'simian adenovirus 38', 'simian adenovirus 39', 'simian adenovirus 40', 'simian adenovirus 6', 'simian adenovirus 7', 'simian adenovirus sv-16', 'simian cytomegalovirus', 'simian foamy virus', 'simian hemorrhagic fever virus', 'simian immunodeficiency virus', 'simian immunodeficiency virus - cpz', 'simian immunodeficiency virus siv-mnd 2', 'simian parvovirus', 'simian picornavirus 1', 'simian retrovirus 1', 'simian retrovirus 2', 'simian rotavirus', 'simian sarcoma-associated virus', 'simian srv-like type d retrovirus', 'simian t-lymphotropic virus 1', 'simian t-lymphotropic virus 1organism', 'simian t-lymphotropic virus 2', 'simian t-lymphotropic virus 3', 'simian virus', 'simian virus 12', 'simian-human immunodeficiency virus', 'simiiformes', 'siminovitchia fordii', 'simkania negevensis', 'simmondsia chinensis', 'simonsiella muelleri', 'simplex virus', 'simplexvirus', 'simplicillium lamellicola', 'simplicillium lanosoniveum', 'simplicispira', 'sin nombre orthohantavirus', 'sinapis alba', 'sinapis arvensis', 'sindbis virus', 'singulisphaera acidiphila', 'sinningia cardinalis', 'sinomonas atrocyanea', 'sinorhizobium fredii', 'sinorhizobium fredii ngr234', 'sinorhizobium medicae', 'sinorhizobium medicae wsm419', 'sinorhizobium meliloti', 'sinorhizobium meliloti 1021', 'sinorhizobium sp.', 'sipunculus nudus', 'siraitia grosvenorii', 'sirobasidium magnum', 'sistrurus miliarius', 'sisymbrium irio', 'sitobion avenae', 'sitophilus oryzae', 'skeletonema costatum', 'skermanella', 'skermanella stibiiresistens', 'slackia equolifaciens', 'slackia exigua', 'slackia faecicanis', 'slackia heliotrinireducens', 'slackia heliotrinireducens dsm 20476', 'slackia isoflavoniconvertens', 'slackia piriformis', 'slackia sp.', 'slackia sp. natts', 'sleeping disease virus', 'small round structured virus', 'smaragdicoccus niigatensis', 'smithella sp. m82', 'smithella sp. sc_k08d17', 'smithella sp. scadc', 'smithornis sharpei', 'snake adeno-associated virus', 'snake parvovirus', 'snakehead retrovirus', 'snakehead virus', 'sneathia sanguinegens', 'snow mountain virus', 'snowshoe hare virus', 'sodalis glossinidius', \"sodalis glossinidius str. 'morsitans'\", 'sodiomyces alcalophilus', 'sodiomyces alkalinus', 'soja', 'solanum', 'solanum abutiloides', 'solanum americanum', 'solanum berthaultii', 'solanum bulbocastanum', 'solanum chacoense', 'solanum cheesmanii', 'solanum chilense', 'solanum circaeifolium', 'solanum commersonii', 'solanum demissum', 'solanum dulcamara', 'solanum habrochaites', 'solanum laciniatum', 'solanum lignicaule', 'solanum lycopersicum', 'solanum marinasense', 'solanum melongena', 'solanum mochiquense', 'solanum neorickii', 'solanum neorossii', 'solanum nigrescens', 'solanum nigrum', 'solanum okadae', 'solanum palustre', 'solanum pennellii', 'solanum peruvianum', 'solanum phureja', 'solanum pimpinellifolium', 'solanum pinnatisectum', 'solanum sogarandinum', 'solanum stoloniferum', 'solanum subgen. lycopersicon', 'solanum tuberosum', 'solanum tuberosum phureja', 'solanum verrucosum', 'solanum x juzepczukii', 'soldanella alpina', 'solea solea', 'solen strictus', 'solenopsis invicta', 'solidago canadensis', 'solidesulfovibrio fructosivorans', 'solidesulfovibrio magneticus', 'solidesulfovibrio magneticus rs-1', 'solobacterium moorei', 'solobacterium sp.', 'sonneratia paracaseolaris', 'sophora flavescens', 'sorangium cellulosum', 'sorangium cellulosum so ce56', 'sordaria fimicola', 'sordaria macrospora', 'sorex araneus', 'sorghastrum nutans', 'sorghum', 'sorghum australiense', 'sorghum bicolor', 'sorghum bicolor subsp. drummondii', 'sorghum halepense', 'sorghum mosaic virus', 'sorghum propinquum', 'sotalia fluviatilis', 'sousa chinensis', 'south african cassava mosaic virus', 'south river virus', 'southampton virus', 'soybean chlorotic mottle virus', 'soybean dwarf virus', 'soybean mosaic virus', 'soybean yellow common mosaic virus', 'spadella cephaloptera', 'sparassis crispa', 'sparus aurata', 'spathaspora passalidarum', 'spermophilus', 'sphaceloma manihoticola', 'sphaerechinus granularis', 'sphaerobacter thermophilus', 'sphaerochaeta globosa', 'sphaerodes mycoparasitica', 'sphaeroforma arctica', 'sphaerotilus natans', 'sphaerulina musiva', 'sphenostylis stenocarpa', 'sphingobacterium', 'sphingobacterium faecium', 'sphingobacterium mizutaii', 'sphingobacterium multivorum', 'sphingobacterium siyangense', 'sphingobacterium sp.', 'sphingobacterium spiritivorum', 'sphingobium', 'sphingobium fuliginis', 'sphingobium fuliginis atcc 27551', 'sphingobium herbicidovorans', 'sphingobium indicum', 'sphingobium sp.', 'sphingobium sp. syk-6', 'sphingobium xenophagum', 'sphingobium yanoikuyae', 'sphingomonadaceae', 'sphingomonas', 'sphingomonas aerolata', 'sphingomonas astaxanthinifaciens', 'sphingomonas echinoides', 'sphingomonas elodea', 'sphingomonas melonis', 'sphingomonas paucimobilis', 'sphingomonas pituitosa', 'sphingomonas sanguinis', 'sphingomonas sanxanigenens', 'sphingomonas sp.', 'sphingomonas sp. kt-1', 'sphingomonas sp. lh128', 'sphingomonas sp. mj-3', 'sphingomonas sp. oral clone fi012', 'sphingomonas sp. oral taxon a09', 'sphingomonas sp. oral taxon f71', 'sphingomonas sp. s88', 'sphingomonas sp. tsk-1', 'sphingomonas taxi', 'sphingomonas trueperi', 'sphingomonas yabuuchiae', 'sphingopyxis', 'sphingopyxis alaskensis', 'sphingopyxis alaskensis rb2256', 'sphingopyxis macrogoltabida', 'sphingopyxis sp. c-1', 'sphingopyxis sp. eg6', 'sphingopyxis sp. fd7', 'sphoeroides nephelus', 'sphoeroides pachygaster', 'spinacia', 'spinacia oleracea', 'spinacia tetrandra', 'spinacia turkestanica', 'spiraea nipponica', 'spirochaeta aurantia', 'spirochaeta sp.', 'spirochaeta thermophila', 'spirochaeta thermophila dsm 6192', 'spirodela polyrhiza', 'spirogyra maxima', 'spirogyra varians', 'spirometra erinaceieuropaei', 'spiroplasma citri', 'spiroplasma insolitum', 'spiroplasma kunkelii', 'spiroplasma virus spv4', 'spirosoma linguale', 'spirosoma radiotolerans', 'spirulina', 'spisula solidissima', 'spleen focus-forming virus', 'spleen necrosis virus', 'spodoptera eridania', 'spodoptera exigua', 'spodoptera exigua multiple nucleopolyhedrovirus', 'spodoptera frugiperda', 'spodoptera frugiperda multiple nucleopolyhedrovirus', 'spodoptera littoralis', 'spodoptera littoralis nucleopolyhedrovirus', 'spodoptera litura', 'spodoptera litura nucleopolyhedrovirus', 'spondweni virus', 'sporidiobolus pararoseus', 'sporidiobolus salmonicolor', 'sporisorium reilianum', 'sporisorium scitamineum', 'sporobacter termitidis', 'sporobolomyces roseus', 'sporobolus alterniflorus', 'sporobolus stapfianus', 'sporocytophaga myxococcoides', 'sporolactobacillus laevolacticus', 'sporolactobacillus nakayamae', 'sporolactobacillus terrae', 'sporolactobacillus vineae', 'sporormia fimetaria', 'sporosarcina', 'sporosarcina globispora', 'sporosarcina newyorkensis', 'sporosarcina psychrophila', 'sporosarcina sp.', 'sporosarcina ureae', 'sporothrix schenckii', 'spuriopimpinella brachycarpa', 'squalus acanthias', 'squatina nebulosa', 'st croix river virus', 'stachybotrys bisbyi', 'stachybotrys chartarum', 'stackebrandtia nassauensis', 'stackebrandtia nassauensis dsm 44728', 'stagonospora', 'stagonosporopsis cucurbitacearum', 'staphylococcus', 'staphylococcus argenteus', 'staphylococcus arlettae', 'staphylococcus aureus', 'staphylococcus aureus a9635', 'staphylococcus aureus bacteriophage', 'staphylococcus aureus rf122', 'staphylococcus aureus subsp. aureus col', 'staphylococcus aureus subsp. aureus jh9', 'staphylococcus aureus subsp. aureus mrsa252', 'staphylococcus aureus subsp. aureus mssa476', 'staphylococcus aureus subsp. aureus mu50', 'staphylococcus aureus subsp. aureus mw2', 'staphylococcus aureus subsp. aureus n315', 'staphylococcus aureus subsp. aureus nctc 8325', 'staphylococcus aureus subsp. aureus rn4220', 'staphylococcus aureus subsp. aureus sk1585organism', 'staphylococcus auricularis', 'staphylococcus capitis', 'staphylococcus capitis sk14', 'staphylococcus capitis subsp. capitis', 'staphylococcus capitis subsp. urealyticus', 'staphylococcus caprae', 'staphylococcus caprae m23864:w1', 'staphylococcus carnosus', 'staphylococcus carnosus subsp. carnosus tm300', 'staphylococcus chromogenes', 'staphylococcus coagulans', 'staphylococcus cohnii', 'staphylococcus cohnii subsp. cohnii', 'staphylococcus condimenti', 'staphylococcus delphini', 'staphylococcus epidermidis', 'staphylococcus epidermidis atcc 12228', 'staphylococcus epidermidis rp62a', 'staphylococcus equorum', 'staphylococcus equorum subsp. equorum', 'staphylococcus felis', 'staphylococcus gallinarum', 'staphylococcus haemolyticus', 'staphylococcus haemolyticus jcsc1435', 'staphylococcus hominis', 'staphylococcus hominis sk119', 'staphylococcus hominis subsp. hominis', 'staphylococcus hominis subsp. novobiosepticus', 'staphylococcus hyicus', 'staphylococcus intermedius', 'staphylococcus kloosii', 'staphylococcus lugdunensis', 'staphylococcus lutrae', 'staphylococcus massiliensis', 'staphylococcus muscae', 'staphylococcus pasteuri', 'staphylococcus phage g1', 'staphylococcus phage stb12', 'staphylococcus piscifermentans', 'staphylococcus prophage phipv83', 'staphylococcus pseudintermedius', 'staphylococcus pseudolugdunensis', 'staphylococcus saccharolyticus', 'staphylococcus saprophyticus', 'staphylococcus saprophyticus subsp. saprophyticus atcc 15305 = nctc', 'staphylococcus schleiferi', 'staphylococcus schleiferi subsp. schleiferi', 'staphylococcus schweitzeri', 'staphylococcus simulans', 'staphylococcus sp.', 'staphylococcus sp. h292', 'staphylococcus sp. h780', 'staphylococcus succinus', 'staphylococcus ureilyticus', 'staphylococcus virus 11', 'staphylococcus virus 3a', 'staphylococcus virus 44ahjd', 'staphylococcus virus 77', 'staphylococcus virus 80alpha', 'staphylococcus virus k', 'staphylococcus virus phieta', 'staphylococcus virus phislt', 'staphylococcus virus twort', 'staphylococcus warneri', 'staphylococcus warneri l37603', 'staphylococcus xylosus', 'staphylothermus hellenicus', 'staphylothermus marinus', 'staphylothermus marinus f1', 'staphylotrichum coccosporum', 'starkeya novella', 'starmerella bombicola', 'starmerella floricola', 'starmerella geochares', 'starmerella gropengiesseri', 'starmerella magnoliae', 'starmerella stellata', 'starmerella vaccinii', 'staurastrum punctulatum', 'steinernema feltiae', 'stella', 'stellaria longipes', 'stemphylium lancipes', 'stemphylium vesicarium', 'stenella clymene', 'stenella coeruleoalba', 'stenella frontalis', 'stenella longirostris', 'steno bredanensis', 'stenocarpella maydis', 'stenocladius flavipennis', 'stenocladius yoshikawai', 'stenotrophomonas', 'stenotrophomonas humi', 'stenotrophomonas maltophilia', 'stenotrophomonas maltophilia d457', 'stenotrophomonas maltophilia k279a', 'stenotrophomonas maltophilia r551-3', 'stenotrophomonas nitritireducens', 'stenotrophomonas rhizophila', 'stenotrophomonas sp.', 'stenotrophomonas sp. fg-6', 'stephanolepis cirrhifer', 'sterculia foetida', 'sterigmatomyces elviae', 'sterkiella nova', 'steroidobacter', 'sterolibacterium denitrificans', 'stevia rebaudiana', 'sthenoteuthis oualaniensis', 'sticta fuliginosa', 'stigeoclonium helveticum', 'stigmatella aurantiaca', 'stigmatella aurantiaca dw4/3-1', 'stokesia laevis', 'stomoxys calcitrans', 'stork hepatitis b virus', 'strawberry vein banding virus', 'streptanthus glandulosus', 'streptoalloteichus hindustanus', 'streptoalloteichus tenebrarius', 'streptobacillus moniliformis', 'streptobacillus moniliformis dsm 12112', 'streptococcus', 'streptococcus acidominimus', 'streptococcus agalactiae', 'streptococcus agalactiae 2603v/r', 'streptococcus agalactiae 515', 'streptococcus agalactiae a909', 'streptococcus agalactiae atcc 13813', 'streptococcus agalactiae h36b', 'streptococcus agalactiae nem316', 'streptococcus agalactiae serogroup iii', 'streptococcus agalactiae serogroup v', 'streptococcus alactolyticus', 'streptococcus anginosus', 'streptococcus anginosus sk52 = dsm 20563', 'streptococcus anthracis', 'streptococcus australis', 'streptococcus canis', 'streptococcus constellatus', 'streptococcus constellatus subsp. constellatus', 'streptococcus constellatus subsp. pharyngis', 'streptococcus criceti', 'streptococcus criceti hs-6', 'streptococcus cristatus', 'streptococcus cristatus atcc 51100', 'streptococcus dentirousetti', 'streptococcus didelphis', 'streptococcus downei', 'streptococcus downei mfe28', 'streptococcus dysgalactiae', 'streptococcus dysgalactiae subsp. equisimilis', 'streptococcus entericus', 'streptococcus equi', 'streptococcus equi subsp. equi', 'streptococcus equi subsp. zooepidemicus', 'streptococcus equinus', 'streptococcus ferus', 'streptococcus gallolyticus', 'streptococcus gallolyticus subsp. gallolyticus', 'streptococcus gallolyticus ucn34', 'streptococcus genomosp. c1', 'streptococcus genomosp. c2', 'streptococcus genomosp. c3', 'streptococcus genomosp. c4', 'streptococcus genomosp. c5', 'streptococcus genomosp. c6', 'streptococcus genomosp. c7', 'streptococcus genomosp. c8', 'streptococcus gordonii', 'streptococcus gordonii str. challis', 'streptococcus gordonii str. challis substr. ch1', 'streptococcus hyointestinalis', 'streptococcus hyovaginalis', 'streptococcus infantarius', 'streptococcus infantarius subsp. infantarius atcc baa-102', 'streptococcus infantis', 'streptococcus iniae', 'streptococcus intermedius', 'streptococcus lutetiensis', 'streptococcus macacae', 'streptococcus macacae nctc 11558', 'streptococcus macacaeorganism', 'streptococcus macedonicus', 'streptococcus massiliensis', 'streptococcus milleri', 'streptococcus mitis', 'streptococcus mitisorganism', 'streptococcus mutans', 'streptococcus mutans gs-5', 'streptococcus mutans nn2025', 'streptococcus mutans ua159', 'streptococcus oralis', 'streptococcus oralis atcc 35037', 'streptococcus orisratti', 'streptococcus parasanguinis', 'streptococcus parasanguinis atcc 15912', 'streptococcus parasanguinis atcc 903', 'streptococcus parauberis', 'streptococcus pasteurianus', 'streptococcus peroris', 'streptococcus phage', 'streptococcus phage ej-1', 'streptococcus phage mm1', 'streptococcus phage sm1', 'streptococcus phage smp', 'streptococcus phocae', 'streptococcus pneumoniae', 'streptococcus pneumoniae ccri 1974', 'streptococcus pneumoniae r6', 'streptococcus pneumoniae tigr4', 'streptococcus pneumoniaeorganism', 'streptococcus porcinus', 'streptococcus pseudopneumoniae', 'streptococcus pseudoporcinus', 'streptococcus pyogenes', 'streptococcus pyogenes m1 gas', 'streptococcus pyogenes m1 gas (sf370)', 'streptococcus pyogenes m49 591', 'streptococcus pyogenes mgas10394', 'streptococcus pyogenes mgas315', 'streptococcus pyogenes mgas5005', 'streptococcus pyogenes mgas6180', 'streptococcus pyogenes mgas8232', 'streptococcus pyogenes nz131', 'streptococcus pyogenes serotype m1', 'streptococcus pyogenes serotype m18', 'streptococcus pyogenes serotype m28', 'streptococcus pyogenes serotype m3', 'streptococcus pyogenes serotype m49', 'streptococcus pyogenes serotype m5', 'streptococcus pyogenes serotype m6', 'streptococcus pyogenes ssi-1', 'streptococcus pyogenes str. manfredo', 'streptococcus pyogenesorganism', 'streptococcus ratti', 'streptococcus salivarius', 'streptococcus salivarius 57.i', 'streptococcus salivarius cchss3', 'streptococcus salivarius jim8777', 'streptococcus salivarius k12', 'streptococcus salivarius m18', 'streptococcus salivarius ps4', 'streptococcus salivarius sk126', 'streptococcus sanguinis', 'streptococcus sanguinis sk1 = nctc 7863', 'streptococcus sanguinis sk405', 'streptococcus sinensis', 'streptococcus sobrinus', 'streptococcus sp c150', 'streptococcus sp.', \"streptococcus sp. 'group a'\", \"streptococcus sp. 'group b'\", \"streptococcus sp. 'group g'\", 'streptococcus sp. 16362', 'streptococcus sp. 2_1_36faa', 'streptococcus sp. ac15', 'streptococcus sp. acs2', 'streptococcus sp. bs35a', 'streptococcus sp. c150', 'streptococcus sp. cm6', 'streptococcus sp. cm7', 'streptococcus sp. eo2001-01', 'streptococcus sp. eo2001-02', 'streptococcus sp. hsiss2', 'streptococcus sp. hsiss3', 'streptococcus sp. icm12', 'streptococcus sp. icm4', 'streptococcus sp. icm45', 'streptococcus sp. m334', 'streptococcus sp. obrc6', 'streptococcus sp. oral clone ascb04', 'streptococcus sp. oral clone ascd01', 'streptococcus sp. oral clone asce09', 'streptococcus sp. oral clone ch016', 'streptococcus sp. oral clone gk051', 'streptococcus sp. oral clone gm006', 'streptococcus sp. oral clone p2pa_41 p2', 'streptococcus sp. oral clone p4pa_30 p4', 'streptococcus sp. oral taxon 071', 'streptococcus sp. oral taxon g59', 'streptococcus sp. oral taxon g62', 'streptococcus sp. oral taxon g63', 'streptococcus sp. sr4', 'streptococcus suis', 'streptococcus suis 05zyh33', 'streptococcus suis 89/1591', 'streptococcus thermophilus', 'streptococcus thermophilus cnrz1066', 'streptococcus thermophilus lmd-9', 'streptococcus thermophilus lmg 18311', 'streptococcus thoraltensis', 'streptococcus troglodytae', 'streptococcus uberis', 'streptococcus uberis 0140j', 'streptococcus urinalis', 'streptococcus vestibularis', 'streptococcus vestibularis atcc 49124', 'streptococcus viridans', 'streptococcus virus 7201', 'streptomyces', 'streptomyces achromogenes', 'streptomyces acidiscabies', 'streptomyces aizunensis', 'streptomyces albidoflavus', 'streptomyces albofaciens', 'streptomyces albogriseolus', 'streptomyces alboniger', 'streptomyces alborus', 'streptomyces albulus', 'streptomyces albus', 'streptomyces albus g', 'streptomyces albus j1074', 'streptomyces ambofaciens', 'streptomyces ambofaciens atcc 23877', 'streptomyces amphibiosporus', 'streptomyces ansochromogenes', 'streptomyces antibioticus', 'streptomyces antimycoticus', 'streptomyces anulatus', 'streptomyces argenteolus', 'streptomyces argillaceus', 'streptomyces atroolivaceus', 'streptomyces aureus', 'streptomyces avermitilis', 'streptomyces avermitilis ma-4680 = nbrc 14893', 'streptomyces avidinii', 'streptomyces badius', 'streptomyces bikiniensis', 'streptomyces bingchenggensis', 'streptomyces bluensis', 'streptomyces cacaoi', 'streptomyces californicus', 'streptomyces camponoticapitis', 'streptomyces canus', 'streptomyces carbophilus', 'streptomyces carzinostaticus', 'streptomyces carzinostaticus subsp. neocarzinostaticus', 'streptomyces castaneoglobisporus', 'streptomyces cattleya', 'streptomyces chartreusis', 'streptomyces chattanoogensis', 'streptomyces chromofuscus', 'streptomyces cinnamonensis', 'streptomyces cinnamoneus', 'streptomyces citricolor', 'streptomyces clavuligerus', 'streptomyces coelicoflavus', 'streptomyces coelicoflavus zg0656', 'streptomyces coelicolor', 'streptomyces coelicolor a3(2)', 'streptomyces coeruleorubidus', 'streptomyces collinus', 'streptomyces corchorusii', 'streptomyces cyaneogriseus', 'streptomyces cyaneus', 'streptomyces davaonensis', 'streptomyces diastaticus', 'streptomyces echinatus', 'streptomyces eurythermus', 'streptomyces exfoliatus', 'streptomyces filamentosus', 'streptomyces flaveolus', 'streptomyces flavogriseus', 'streptomyces flavovirens', 'streptomyces fradiae', 'streptomyces fungicidicus', 'streptomyces galbus', 'streptomyces galilaeus', 'streptomyces gancidicus', 'streptomyces gardneri', 'streptomyces geldanus', 'streptomyces glaucescens', 'streptomyces globisporus', 'streptomyces globisporus c-1027', 'streptomyces goldeniensis', 'streptomyces graminilatus', 'streptomyces graminofaciens', 'streptomyces griseoflavus', 'streptomyces griseoflavus tu4000', 'streptomyces griseofuscus', 'streptomyces griseolus', 'streptomyces griseoruber', 'streptomyces griseoverticillatus', 'streptomyces griseus', 'streptomyces griseus ifo 13350', 'streptomyces griseus subsp. griseus nbrc 13350', 'streptomyces griseus xylebkg-1', 'streptomyces halstedii', 'streptomyces heilongjiangensis', 'streptomyces himastatinicus atcc 53653', 'streptomyces hygroscopicus', 'streptomyces hygroscopicus subsp. enhygrus', 'streptomyces hygroscopicus subsp. hygroscopicus', 'streptomyces ipomoeae', 'streptomyces kanamyceticus', 'streptomyces kaniharaensis', 'streptomyces kasugaensis', 'streptomyces kathirae', 'streptomyces kitasatoensis', 'streptomyces lactacystinaeus', 'streptomyces lasalocidi', 'streptomyces laurentii', 'streptomyces lavendulae', 'streptomyces limosus', 'streptomyces lincolnensis', 'streptomyces lividans', 'streptomyces lividans tk24', 'streptomyces lydicus', 'streptomyces macromomyceticus', 'streptomyces malaysiensis', 'streptomyces maritimus', 'streptomyces mashuensis', 'streptomyces microflavus', 'streptomyces mirabilis', 'streptomyces mobaraensis', 'streptomyces murayamaensis', 'streptomyces murinus', 'streptomyces mycarofaciens', 'streptomyces narbonensis', 'streptomyces natalensis', 'streptomyces netropsis', 'streptomyces niveus', 'streptomyces nodosus', 'streptomyces nogalater', 'streptomyces noursei', 'streptomyces olindensis', 'streptomyces olivaceoviridis', 'streptomyces olivochromogenes', 'streptomyces padanus', 'streptomyces parvulus', 'streptomyces peucetius', 'streptomyces phaeochromogenes', 'streptomyces phage phik38-1', 'streptomyces phage r4', 'streptomyces platensis', 'streptomyces plumbeus', 'streptomyces polyantibioticus', 'streptomyces pratensis', 'streptomyces pratensis atcc 33331', 'streptomyces pristinaespiralis', 'streptomyces ramulosus', 'streptomyces rapamycinicus', 'streptomyces refuineus', 'streptomyces refuineus subsp. thermotolerans', 'streptomyces reticuli', 'streptomyces ribosidificus', 'streptomyces rimosus', 'streptomyces rishiriensis', 'streptomyces rochei', 'streptomyces roseochromogenus', 'streptomyces roseofulvus', 'streptomyces roseoverticillatus', 'streptomyces rubiginosus', 'streptomyces sanglieri', 'streptomyces scabiei', 'streptomyces scabiei 87.22', 'streptomyces scopuliridis', 'streptomyces septatus', 'streptomyces sp.', 'streptomyces sp. 1 aip-2009', 'streptomyces sp. 139', 'streptomyces sp. 3211.1', 'streptomyces sp. a9107', 'streptomyces sp. aa4', 'streptomyces sp. bf-61', 'streptomyces sp. bk185', 'streptomyces sp. c', 'streptomyces sp. cl190', 'streptomyces sp. dsm 24056', 'streptomyces sp. dsm 24058', 'streptomyces sp. dsm 24069', 'streptomyces sp. ec3', 'streptomyces sp. fr-008', 'streptomyces sp. l131', 'streptomyces sp. ma37', 'streptomyces sp. mg1', 'streptomyces sp. mk730-62f2', 'streptomyces sp. s4', 'streptomyces sp. sd 534', 'streptomyces sp. sirexaa-e', 'streptomyces sp. sk', 'streptomyces sp. sk 1894', 'streptomyces sp. sn-593', 'streptomyces sp. spb074', 'streptomyces sp. spb78', 'streptomyces sp. tm-7', 'streptomyces sp. tp-a0274', 'streptomyces sp. tu 4128', 'streptomyces sp. w007', 'streptomyces sp. w9', 'streptomyces sp. wo2008034648_55298', 'streptomyces sp. x-119-6', 'streptomyces species fh6421', 'streptomyces spectabilis', 'streptomyces spiramyceticus', 'streptomyces sviceus', 'streptomyces sviceus atcc 29083', 'streptomyces tacrolimicus', 'streptomyces tendae', 'streptomyces tenjimariensis', 'streptomyces thermoalcalitolerans', 'streptomyces thermocyaneoviolaceus', 'streptomyces thermogriseus', 'streptomyces thermosacchari', 'streptomyces thermoviolaceus', 'streptomyces thermovulgaris', 'streptomyces toxytricini', 'streptomyces toyocaensis', 'streptomyces tsukubensis', 'streptomyces tubercidicus', 'streptomyces turgidiscabies', 'streptomyces venezuelae', 'streptomyces venezuelae atcc 10712', 'streptomyces verticillus', 'streptomyces violaceoruber', 'streptomyces violaceorubidus', 'streptomyces violaceus', 'streptomyces violaceusniger', 'streptomyces virginiae', 'streptomyces viridifaciens', 'streptomyces viridochromogenes', 'streptomyces viridochromogenes dsm 40736', 'streptomyces viridosporus', 'streptomyces viridosporus atcc 14672', 'streptomyces virus phibt1', 'streptomyces virus phic31', 'streptomyces virus tg1', 'streptomyces xanthochromogenes', 'streptomyces xiamenensis', 'streptomycetaceae', 'streptopelia orientalis', 'streptosporangium roseum', 'streptosporangium roseum dsm 43021', 'streptosporangium sp. dsm 24060', 'striga asiatica', 'striga hermonthica', 'strigamia maritima', 'striped jack nervous necrosis virus', 'strongylocentrotus droebachiensis', 'strongylocentrotus purpuratus', 'strongyloides ratti', 'strongyloides stercoralis', 'struthio camelus', 'struthiopteris spicant', 'stygiolobus azoricus', 'stylonychia lemnae', 'stylophorum diphyllum', 'stylosanthes guianensis', 'stylosanthes hamata', 'stylosanthes humilis', 'suaeda glauca', 'suaeda japonica', 'suaeda salsa', 'subdoligranulum sp.', 'subdoligranulum sp. 4_3_54a2faa', 'subdoligranulum sp. cag:314', 'suberites domuncula', 'subramaniula cuniculorum', 'subterranean clover stunt virus', 'subulispora', 'succinatimonas hippei', 'succiniclasticum ruminis', 'succinivibrio dextrinosolvens', 'succinivibrio dextrinosolvens h5', 'sudan ebolavirus', 'sugarcane bacilliform virus', 'suid alphaherpesvirus 1', 'suillus bovinus', 'sulfitobacter', 'sulfitobacter donghicola', 'sulfitobacter indolifex', 'sulfitobacter sp.', 'sulfitobacter sp. ee-36', 'sulfitobacter sp. nas-14.1', 'sulfobacillus acidophilus', 'sulfobacillus thermosulfidooxidans', 'sulfolobus acidocaldarius', 'sulfolobus acidocaldarius dsm 639', 'sulfolobus islandicus', 'sulfolobus islandicus rod-shaped virus 2', 'sulfolobus sp.', 'sulfolobus tengchongensis', 'sulfuracidifex metallicus', 'sulfuricurvum kujiense', 'sulfuricurvum sp. pc08-66', 'sulfurihydrogenibium', 'sulfurimonas denitrificans', 'sulfurimonas denitrificans dsm 1251', 'sulfurimonas gotlandica', 'sulfurimonas gotlandica gd1', 'sulfurisphaera ohwakuensis', 'sulfurisphaera tokodaii', 'sulfurisphaera tokodaii str. 7', 'sulfurospirillum deleyianum dsm 6946', 'sulfurospirillum multivorans', 'sulfurospirillum sp.', 'sulfurovum sp. nbc37-1', 'suregada multiflora', 'sus', 'sus barbatus', 'sus scrofa', 'sus scrofa cyclovirus', 'sus scrofa domesticus', 'sus sp.', 'sutcliffiella catenulata', 'sutcliffiella halmapala', 'sutcliffiella horikoshii', 'sutcliffiella horikoshii dsm 8719', 'sutterella', 'sutterella morbirenis', 'sutterella sanguinus', 'sutterella sp.', 'sutterella sp. cag:351', 'sutterella sp. yit 12072', 'sutterella stercoricanis', 'sutterella wadsworthensis', 'suttonella ornithocola', 'sweet potato yellow mottle virus', 'swine bocavirus', 'swine influenza virus', 'swine vesicular disease virus', 'swinepox virus', 'sylvia atricapilla', 'symbiobacterium', 'symbiobacterium thermophilum', 'symbiobacterium thermophilum iam 14863', 'symbiodinium microadriaticum', 'symbiodinium sp. ex sinularia flexibilis', 'symbiont bacterium of paederus fuscipes', 'symbiotaphrina buchneri', 'symbiotaphrina kochii', 'symphalangus syndactylus', 'symphysodon discus', 'symplocarpus foetidus', 'syncephalastrum racemosum', 'syncerus caffer nanus', 'synechococcus', 'synechococcus elongatus', 'synechococcus elongatus pcc 6301', 'synechococcus elongatus pcc 7942 = fachb-805', 'synechococcus phage s-pm2', 'synechococcus phage syn19', 'synechococcus sp rcc 307', 'synechococcus sp.', 'synechococcus sp. bl107', 'synechococcus sp. cc9311', 'synechococcus sp. cc9605', 'synechococcus sp. cc9902', \"synechococcus sp. ja-2-3b'a(2-13)\", 'synechococcus sp. ja-3-3ab', 'synechococcus sp. ma19', 'synechococcus sp. nies-970', 'synechococcus sp. pcc 6312', 'synechococcus sp. pcc 7002', 'synechococcus sp. pcc 7335', 'synechococcus sp. rcc 307', 'synechococcus sp. rcc307', 'synechococcus sp. rs9916', 'synechococcus sp. rs9917', 'synechococcus sp. wh 5701', 'synechococcus sp. wh 7803', 'synechococcus sp. wh 7805', 'synechococcus virus p60', 'synechocystis', 'synechocystis sp.', 'synechocystis sp. pcc 6714', 'synechocystis sp. pcc 6803', 'synechocystis species', 'synergistes', 'synergistes genomosp. c1', 'synergistes sp.', 'synergistetes bacterium', 'synergistetes bacterium lbvcm1157', 'synergistetes bacterium oral taxon 362', 'synergistetes bacterium oral taxon d48', 'synsepalum dulcificum', 'synthetic constructorganism', 'synthetic constructorganism using phosphite dehydrogenase gene', 'synthetic constructorganisms', 'synthetic constructorganisms having multiple chromosomes', 'synthetic constructorganisms, and methods', 'synthetic gene', 'synthetic organism', 'synthetic organisms', 'synthetic plasmid', 'synthliboramphus antiquus', 'syntrichia ruralis', 'syntrophobacter fumaroxidans', 'syntrophobacter fumaroxidans mpob', 'syntrophococcus sucromutans', 'syntrophomonadaceae genomosp. p1', 'syntrophomonas wolfei', 'syntrophomonas wolfei subsp. wolfei str. goettingen g311', 'syntrophotalea carbinolica dsm 2380', 'syntrophothermus lipocalidus', 'syntrophus aciditrophicus', 'syntrophus aciditrophicus sb', 'syphacia muris', 'syrmaticus reevesii', 'syspastospora boninensis', 'syzygium aqueum', 'syzygium aromaticum', 'syzygium boonjee', 'syzygium cumini', 'syzygium diospyrifolium', 'syzygium fibrosum', 'syzygium guineense', 'syzygium hancei', 'syzygium jambos', 'syzygium longipes', 'syzygium tierneyanum', 't. denticola', 'tachyglossus aculeatus', 'tachypleus tridentatus', 'tadarida brasiliensis cyclovirus', 'taenia saginata', 'taenia solium', 'taeniopygia guttata', 'tagetes', 'tagetes erecta', 'tagetes patula', 'tahyna virus', 'tai forest ebolavirus', 'taiwania cryptomerioides', 'taiwanofungus camphoratus', 'takifugu', 'takifugu alboplumbeus', 'takifugu pardalis', 'takifugu poecilonotus', 'takifugu porphyreus', 'takifugu rubripes', 'takifugu snyderi', 'takifugu xanthopterus', 'talaromyces aculeatus', 'talaromyces atroroseus', 'talaromyces cellulolyticus', 'talaromyces flavus', 'talaromyces funiculosus', 'talaromyces islandicus', 'talaromyces marneffei', 'talaromyces marneffei atcc 18224', 'talaromyces minioluteus', 'talaromyces piceae', 'talaromyces pinophilus', 'talaromyces purpureogenus', 'talaromyces sp.', 'talaromyces stipitatus', 'talaromyces stipitatus atcc 10500', 'talaromyces trachyspermus', 'talaromyces wortmannii', 'talpa europaea', 'tamana bat virus', 'tamarix androssowii', 'tamarix hispida', 'tamias sibiricus', 'tanapox virus', 'tanichthys albonubes', 'tannerella forsythia', 'tannerella sp.', 'tannerella sp. 6_1_58faa_ct1', 'taraxacum', 'taraxacum brevicorniculatum', 'taraxacum kok-saghyz', 'taraxacum officinale', 'tarenaya spinosa', 'tasmannia lanceolata', 'tatlockia micdadei', 'tatumella citrea', 'tatumella ptyseos', 'tatumella ptyseos atcc 33301', 'tatumella punctata', 'tatumella terrea', 'taura syndrome virus', 'taxus baccata', 'taxus brevifolia', 'taxus canadensis', 'taxus chinensis', 'taxus cuspidata', 'taxus wallichiana', 'taxus x media', 'tectaria', 'template plasmid pkd3', 'tenacibaculum', 'tenacibaculum discolor', 'tenacibaculum maritimum', 'tenacibaculum sp.', 'tenebrio molitor', 'tenodera australasiae', 'tenthredinidae', 'tepidanaerobacter', 'tepidanaerobacter acetatoxydans', 'tepidibacillus decaturensis', 'tepidibacter mesophilus', 'tepidimicrobium ferriphilum', 'tepidimicrobium sp. hut8118', 'tepidimicrobium sp. hut8119', 'tequatrovirus', 'terebella lapidaria', 'teredinibacter', 'teredinibacter turnerae', 'teredinibacter turnerae t7901', 'teredo navalis', 'terminalia arjuna', 'terrabacter sp.', 'terribacillus', 'terribacillus goriensis', 'terribacillus saccharophilus', 'terriglobuds roseus', 'terriglobus roseus', 'terrimonas ferruginea', 'terrisporobacter glycolicus', 'terrisporobacter mayombei', 'teschovirus a', 'teschovirus a1', 'tessaracoccus aquimaris', 'tessaracoccus sp.', 'tessaracoccus sp. oral taxon f04', 'tetraclita japonica', 'tetraclitella chinensis', 'tetradesmus acuminatus', 'tetradesmus dimorphus', 'tetradesmus obliquus', 'tetradium glabrifolium', 'tetragenococcus', 'tetragenococcus halophilus', 'tetragenococcus halophilus nbrc 12172', 'tetragenococcus koreensis', 'tetragenococcus solitarius', 'tetragnatha versicolor', 'tetragonia tetragonoides', 'tetrahymena pyriformis', 'tetrahymena thermophila', 'tetraleurodes acaciae', 'tetramicra brevifilum', 'tetranychus urticae', 'tetrao urogallus', 'tetraodon', 'tetraodon nigroviridis', 'tetraodontidae', 'tetrapisispora phaffii', 'tetraselmis', 'tetraselmis sp.', 'tetraselmis suecica', 'tetrasphaera', 'tetronarce californica', 'tetronarce tokionis', 'tetterwort vein chlorosis virus', 'teunomyces kruisii', 'thalassiosira', 'thalassiosira antarctica', 'thalassiosira oceanica', 'thalassiosira pseudonana', 'thalassiosira pseudonanaorganisms', 'thalassospira profundimaris', 'thalictrum flavum', 'thalictrum tuberosum', 'thanatephorus cucumeris', 'thauera', 'thauera aromatica', 'thauera butanivorans', 'thauera linaloolentis', 'thauera selenatis', 'thauera sp.', 'thauera sp. mz1t', 'thauera terpenica', 'thaumatococcus daniellii', 'thaumetopoea pityocampa', \"theiler's disease-associated virus\", \"theiler's encephalomyelitis virus\", \"theiler's murine encephalomyocarditis virus\", 'theileria annulata', 'theileria buffeli', 'theileria equi', 'theileria parva', 'theileria sergenti', 'theilovirus', 'themeda quadrivalvis', 'theobroma cacao', 'thermacetogenium phaeum', 'thermanaerovibrio acidaminovorans', 'thermoactinomyces intermedius', 'thermoactinomyces sp.', 'thermoactinomyces vulgaris', 'thermoanaerobacter acetoethylicus', 'thermoanaerobacter brockii', 'thermoanaerobacter ethanolicus', 'thermoanaerobacter indiensis', 'thermoanaerobacter italicus', 'thermoanaerobacter keratinophilus', 'thermoanaerobacter mathranii', 'thermoanaerobacter mathranii subsp. mathranii', 'thermoanaerobacter pseudethanolicus', 'thermoanaerobacter pseudethanolicus atcc 33223', 'thermoanaerobacter siderophilus', 'thermoanaerobacter sp.', 'thermoanaerobacter sp. atcc 53627', 'thermoanaerobacter sp. x514', 'thermoanaerobacter thermocopriae', 'thermoanaerobacter thermohydrosulfuricus', 'thermoanaerobacter wiegelii', 'thermoanaerobacterium', 'thermoanaerobacterium aciditolerans', 'thermoanaerobacterium aotearoense', 'thermoanaerobacterium islandicum', 'thermoanaerobacterium phage thsa-485aorganism', 'thermoanaerobacterium saccharolyticum', 'thermoanaerobacterium saccharolyticumorganisms', 'thermoanaerobacterium sp.', 'thermoanaerobacterium thermosaccharolyticum', 'thermoanaerobacterium thermosaccharolyticum dsm 571', 'thermoanaerobacterium thermosulfurigenes', 'thermoanaerobacterium xylanolyticum', 'thermoascus', 'thermoascus aurantiacus', 'thermoascus crustaceus', 'thermoascus thermophilus', 'thermobacillus composti', 'thermobaculum terrenum', 'thermobifida', 'thermobifida alba', 'thermobifida fusca', 'thermobifida fusca yx', 'thermobifida halotolerans', 'thermobispora bispora', 'thermoclostridium stercorarium', 'thermococcus', 'thermococcus alcaliphilus', 'thermococcus barophilus', 'thermococcus barossii', 'thermococcus celer', 'thermococcus chitonophagus', 'thermococcus gammatolerans', 'thermococcus gorgonarius', 'thermococcus guaymasensis', 'thermococcus kodakarensis', 'thermococcus kodakarensis kod1', 'thermococcus litoralis', 'thermococcus marinus', 'thermococcus nautili', 'thermococcus onnurineus', 'thermococcus onnurineus na1', 'thermococcus pacificus', 'thermococcus profundus', 'thermococcus radiotolerans', 'thermococcus sibiricus', 'thermococcus siculi', 'thermococcus sp.', 'thermococcus sp. b1001', 'thermococcus sp. jcm 11816', 'thermococcus sp. jdf-3', 'thermococcus thioreducens', 'thermococcus waiotapuensis', 'thermococcus zilligii', 'thermococcus zilligii an1', 'thermodesulfatator indicus', 'thermodesulfovibrio yellowstonii dsm 11347', 'thermofilum pendens', 'thermofilum pendens hrk 5', 'thermogemmatispora carboxidivorans', 'thermomicrobium roseum', 'thermomicrobium roseum dsm 5159', 'thermomonospora curvata', 'thermomonospora curvata dsm 43183', 'thermomucor indicae-seudaticae', 'thermomyces dupontii', 'thermomyces ibadanensis', 'thermomyces lanuginosus', 'thermomyces lanuginosus atcc 200065', 'thermoplasma acidophilum', 'thermoplasma acidophilum dsm 1728', 'thermoplasma volcanium', 'thermoplasma volcanium gss1', 'thermoplasmatales', 'thermopolyspora', 'thermopolyspora flexuosa', 'thermoproteus tenax', 'thermosediminibacter oceani', 'thermosipho africanus tcf52b', 'thermosipho melanesiensis', 'thermosipho melanesiensis bi429', 'thermosphaera aggregans', 'thermosporothrix hazakensis', 'thermostichus vulcanus', 'thermosynechococcus', 'thermosynechococcus elongatus', 'thermosynechococcus vestitus bp-1', 'thermosyntropha lipolytica', 'thermothelomyces heterothallicus', 'thermothelomyces hinnuleus', 'thermothelomyces thermophilus', 'thermothielavioides terrestris', 'thermotoga maritima', 'thermotoga maritima msb8', 'thermotoga neapolitana', 'thermotoga neapolitana dsm 4359', 'thermotoga petrophila', 'thermotoga petrophila rku-1', 'thermotoga sp.', 'thermotoga sp. rq2', 'thermus', 'thermus antranikianii', 'thermus aquaticus', 'thermus aquaticusorganism', 'thermus brockianus', 'thermus caldophilus', 'thermus eggertssonii', 'thermus filiformis', 'thermus igniterrae', 'thermus kawarayensis', 'thermus oshimai', 'thermus rehai', 'thermus scotoductus', 'thermus sp.', 'thermus sp. r', 'thermus thermophilus', 'thermus thermophilus hb27', 'thermus thermophilus hb8', 'thermus thermophilus sg0.5jp17-16', 'thetapapillomavirus 1', 'thielavia', 'thielavia australiensis', 'thielavia hyrcaniae', 'thielavia sp.', 'thielavia sp. st.1.1', 'thioalkalivibrio', 'thioalkalivibrio sulfidiphilus', 'thioalkalivibrio sulfidiphilus hl-ebgr7', 'thiobacillus denitrificans', 'thiobacillus denitrificans atcc 25259', 'thiobacillus sp.', 'thiocapsa', 'thiocapsa roseopersicina', 'thiococcus pfennigii', 'thiocystis violascens', 'thioflavicoccus mobilis', 'thiomonas delicata', 'thiorhodovibrio', 'thiothrix nivea', 'thlaspi arvense', 'thlaspi japonicum', 'thogoto thogotovirus', 'thosea', 'thosea asigna virus', 'thraustochytriaceae', 'thraustochytriidae sp. wo2007068997', 'thraustochytrium', 'thraustochytrium aureum', 'thraustochytrium sp.', 'thraustochytrium sp. onc-t18', 'thraustochytrium sp. wo2007017419', 'thrips hawaiiensis', 'thrips palmi', 'thrixopelma pruriens', 'thuja plicata', 'thunbergia alata', 'thunnus alalunga', 'thunnus albacares', 'thunnus maccoyii', 'thunnus obesus', 'thunnus orientalis', 'thunnus thynnus', 'thunnus thynnus thynnus', 'thunnus tonggol', 'thymus vulgaris', 'tick-borne encephalitis virus', 'tiger frog virus', 'tigriopus californicus', 'tigriopus japonicus', 'tilapia sp.', 'tilia platyphyllos', 'tillandsia usneoides', 'tilletia caries', 'tilletia horrida', 'tilletia indica', 'tilligerry virus', 'timarcha balearica', 'tinamus guttatus', 'tinca tinca', 'tinctoporellus epimiltinus', 'tinospora cordifolia', 'tioman virus', 'tissierella creatinini', 'tissierella praeacuta', 'tissierella sp.', 'tissierella sp. canine oral taxon 029', 'tissierellia bacterium ka00581', 'tistrella mobilis', 'tityus serrulatus', 'tobacco etch virus', 'tobacco mosaic virus', 'tobacco mottle virus', 'tobacco rattle virus', 'tobacco ringspot virus', 'tobacco vein mottling virus', 'tobamovirus', 'tolumonas auensis dsm 9187', 'tolypocladium album', 'tolypocladium geodes', 'tolypocladium inflatum', 'tolypothrix', 'tolypothrix campylonemoides', 'tomato apical stunt viroid', 'tomato aspermy virus', 'tomato brown rugose fruit virus', 'tomato bushy stunt virus', 'tomato chlorotic dwarf viroid', 'tomato chlorotic spot virus', 'tomato chocolate virus', 'tomato golden mosaic virus', 'tomato infectious chlorosis virus', 'tomato leaf curl new delhi virus', 'tomato mosaic virus', 'tomato planta macho viroid', 'tomato ringspot virus', 'tomato severe leaf curl virus', 'tomato spotted wilt orthotospovirus', 'tomato torrado virus', 'tomato yellow leaf curl virus', 'tomato yellow leaf curl virus - il', 'tombusvirus tomato bushy stunt virus', 'toona sinensis', 'torenia', 'torenia fournieri', 'torenia hybrid cultivar', 'torenia sp.', 'toronto calicivirus 24', 'torque teno midi virus 1', 'torque teno virus', 'torque teno virus 10', 'torque teno virus 17', 'torque teno virus 18', 'torulaspora delbrueckii', 'torulaspora globosa', 'torulaspora microellipsoides', 'torulaspora pretoriensis', 'toscana virus', 'tospovirus sp.', 'toxocara canis', 'toxocara cati', 'toxoplasma gondii', 'toxoplasma gondii gt1', 'toxoplasma gondii me49', 'trabulsiella guamensis', 'trabulsiella guamensis atcc 49490', 'trachemys scripta', 'trachurus japonicus', 'trachyphyllia geoffroyi', 'tradescantia fluminensis', 'tradescantia ohiensis', 'tradescantia sillamontana', 'tradescantia virginiana', 'tragelaphus angasii', 'tragopan blythii', 'tragopan caboti', 'tragopan satyra', 'tragopan temminckii', 'tragopogon dubius', 'tragulus javanicus', 'tragulus napu', 'trametes cingulata', 'trametes cinnabarina', 'trametes coccinea', 'trametes gibbosa', 'trametes hirsuta', 'trametes ochracea', 'trametes pubescens', 'trametes sanguinea', 'trametes sp.', 'trametes versicolor', 'transformation vector pthw107', 'transformed organism and method for transformation.organism  synthetic construct', 'transformed organism and method for transformation.organism  unidentified', 'transmissible gastroenteritis virus', 'transposon tn10', 'transposon tn5', 'transposon tn7', 'transposons', 'traustochytrium ssp.', 'tremella fuciformis', 'tremovirus a1', 'treponema', 'treponema azotonutricium', 'treponema brennaborense', 'treponema brennaborense dsm 12168', 'treponema denticola', 'treponema denticola atcc 35405', 'treponema genomosp. p1', 'treponema genomosp. p4 oral clone mb2_g19', 'treponema genomosp. p5 oral clone mb3_p23', 'treponema genomosp. p6 oral clone mb4_g11', 'treponema pallidum', 'treponema pallidum subsp. pallidum', 'treponema pallidum subsp. pallidum str. nichols', 'treponema paraluiscuniculi', 'treponema parvum', 'treponema phagedenis', 'treponema primitia', 'treponema putidum', 'treponema socranskii', 'treponema sp.', 'treponema sp. oral clone ju025', 'treponema sp. oral clone ju031', 'treponema sp. oral clone p2pb_53 p3', 'treponema sp. oral taxon 228', 'treponema sp. oral taxon 230', 'treponema sp. oral taxon 231', 'treponema sp. oral taxon 232', 'treponema sp. oral taxon 235', 'treponema sp. oral taxon 239', 'treponema sp. oral taxon 247', 'treponema sp. oral taxon 250', 'treponema sp. oral taxon 251', 'treponema sp. oral taxon 254', 'treponema sp. oral taxon 265', 'treponema sp. oral taxon 270', 'treponema sp. oral taxon 271', 'treponema sp. oral taxon 508', 'treponema sp. oral taxon 518', 'treponema sp. oral taxon g85', 'treponema vincentii', 'treponema vincentii atcc 35580', 'triakis scyllium', 'trialeurodes vaporariorum', 'triatoma infestans', 'triatoma virus', 'tribolium castaneum', 'trichechus', 'trichinella britovi', 'trichinella murrelli', 'trichinella nativa', 'trichinella nelsoni', 'trichinella pseudospiralis', 'trichinella sp. t6', 'trichinella sp. t8', 'trichinella spiralis', 'trichiurus lepturus', 'trichlorobacter lovleyi', 'trichlorobacter lovleyi sz', 'trichocladium griseum', 'trichoder mareesei', 'trichoderma', 'trichoderma americanum', 'trichoderma asperellum', 'trichoderma atroviride', 'trichoderma citrinoviride', 'trichoderma fertile', 'trichoderma gamsii', 'trichoderma gelatinosum', 'trichoderma hamatum', 'trichoderma harzianum', 'trichoderma konilangbra', 'trichoderma koningiopsis', 'trichoderma lixii', 'trichoderma longibrachiatum', 'trichoderma longibrachiatum strain mk1-kv966 (cbs 137023)', 'trichoderma orientale', 'trichoderma pseudokoningii', 'trichoderma reesei', 'trichoderma reesei qm6a', 'trichoderma saturnisporum', 'trichoderma sp.', 'trichoderma sp. 1a-1', 'trichoderma sp. bsre1a.4_1', 'trichoderma sp. bsre1a_4', 'trichoderma sp. p.1.4', 'trichoderma sp. ssl', 'trichoderma strictipile', 'trichoderma tawa', 'trichoderma vinosum', 'trichoderma virens', 'trichoderma virens gv29-8', 'trichoderma viride', 'trichodesmium erythraeum', 'trichodesmium erythraeum ims101', 'tricholoma lascivum', 'tricholoma matsutake', 'trichomonas vaginalis', 'trichomonas vaginalis virus', 'trichomonas vaginalis virus 2', 'trichomonas vaginalis virus 3', 'trichomonascus ciferrii', 'trichonephila clavata', 'trichonephila clavipes', 'trichonephila inaurata madagascariensis', 'trichonephila senegalensis', 'trichophaea saccata', 'trichophyton benhamiae', 'trichophyton equinum', 'trichophyton interdigitale', 'trichophyton mentagrophytes', 'trichophyton rubrum', 'trichophyton soudanense', 'trichophyton tonsurans', 'trichophyton verrucosum', 'trichophyton violaceum', 'trichoplax adhaerens', 'trichoplusia ni', 'trichoplusia ni cypovirus 15', 'trichormus variabilis', 'trichormus variabilis atcc 29413', 'trichormus variabilis uw', 'trichosanthes kirilowii', 'trichosporon aquatile', 'trichosporon asahii', 'trichosporon behrend', 'trichosporon inkin', 'trichosporon sp. cbs 7617', 'trichostrongylus vitrinus', 'trichosurus vulpecula', 'trichothecium roseum', 'trichuris suis', 'trichuris vulpis', 'trieres chinensis', 'trifolium affine', 'trifolium arvense', 'trifolium occidentale', 'trifolium pratense', 'trifolium repens', 'trifolium subterraneum', 'triglochin maritima', 'trigonella foenum-graecum', 'trigonopsis variabilis', 'trilocha sp. gas-2011', 'trinickia caryophylli', 'triops cancriformis', 'triops longicaudatus', 'triphasia trifolia', 'triphysaria', 'triphysaria pusilla', 'triphysaria sp. ep2835427', 'triphysaria sp. ep2975130', 'triphysaria versicolor', 'tripidium ravennae', 'tripolium pannonicum subsp. tripolium', 'tripsacum dactyloides', 'tripterygium wilfordii', 'triticum', 'triticum aestivum', 'triticum aestivum x triticum timopheevi', 'triticum dicoccoides', 'triticum dicoccum', 'triticum monococcum', 'triticum monococcum subsp. aegilopoides', 'triticum sp.', 'triticum timopheevii', 'triticum turgidum', 'triticum turgidum subsp. durum', 'triticum urartu', 'tritrichomonas foetus', 'triturus cristatus', 'triturus marmoratus', 'trivittatus virus', 'tropaeolum majus', 'tropheryma whipplei', 'tropheryma whipplei str. twist', 'tropheryma whipplei tw08/27', 'tropicoporus linteus', 'tropidechis carinatus', 'trueperella pyogenes', 'trypanoplasma borreli', 'trypanosoma brucei', 'trypanosoma brucei brucei', 'trypanosoma brucei rhodesiense', 'trypanosoma congolense', 'trypanosoma cruzi', 'trypanosoma theileri', 'trypanosoma vivax', 'trypoxylus dichotomus', 'tsuga heterophylla', 'tsukamurella paurometabola', 'tsukamurella paurometabola dsm 20162', 'tsukamurella tyrosinosolvens', 'ttv-like mini virus', 'ttv-like virus dxl1', 'ttv-like virus dxl2', 'tuber aestivum', 'tuber albidum', 'tuber borchii', 'tuber indicum', 'tuber melanosporum', 'tulip mosaic virus', 'tulipa', 'tulipa gesneriana', 'tulipa hybrid cultivar', 'tulipa sp. wo2008034648', 'tupaia chinensis', 'tupaia paramyxovirus', 'tupaiid betaherpesvirus 1', 'tupaiid herpesvirus 2', 'tupiella akineta', 'turbo cornutus', 'turdus naumanni', 'turdus pallidus', 'turdus philomelos', 'turicibacter sanguinis', 'turicibacter sp.', 'turkey adenovirus 3', 'turkey astrovirus', 'turkey rhinotracheitis virus', 'turneriella', 'turnip crinkle virus', 'turnip mosaic virus', 'tursiops aduncus', 'tursiops truncatus', 'typha latifolia', 'typhula incarnata', 'typhula ishikariensis', 'tyrophagus fanetzhangorum', 'tyrophagus putrescentiae', 'tyzzerella', 'tyzzerella nexilis', 'tyzzerella nexilis dsm 1787', 'ulex europaeus', 'ulkenia sp.', 'ulkenia visurgensis', 'ulmus americana', 'ulmus pumila', 'ulocladium', 'ulva', 'ulva compressa', 'ulva intestinalis', 'ulva pertusa', 'umatilla virus', 'umbellularia californica', 'umbelopsis isabellina', 'umbelopsis ramanniana', 'umbilicaria esculenta', 'uncaria hirsuta', 'uncaria laevigata', 'uncaria lancifolia', 'uncaria macrophylla', 'uncaria rhynchophylla', 'uncaria scandens', 'uncaria sessilifructus', 'uncaria sinensis', 'uncaria yunnanensis', 'uncinocarpus reesii', 'uncinocarpus reesii 1704', 'unclassified acidobacteriaceae', 'unclassified alistipes', 'unclassified azospirillum', 'unclassified bacteria', 'unclassified barnesiella', 'unclassified bilophila', 'unclassified blautia', 'unclassified butyricimonas', 'unclassified clostridiales family xiii. incertae sedis', 'unclassified clostridium', 'unclassified dialister', 'unclassified dorea', 'unclassified eggerthellaceae', 'unclassified equus', 'unclassified erysipelotrichaceae', 'unclassified eubacteriales', 'unclassified faecalibacterium', 'unclassified firmicutes sensu stricto', 'unclassified flavonifractor', 'unclassified gammaherpesvirinae', 'unclassified hepatitis b virus', 'unclassified intestinimonas', 'unclassified lachnospiraceae', 'unclassified oscillibacter', 'unclassified parechovirus', 'unclassified pinus', 'unclassified prevotella', 'unclassified rhodospirillales', 'unclassified rotavirus', 'unclassified ruminococcus', 'unclassified sequences', 'unclassified simian adenoviruses', 'unclassified simplexvirus', 'unclassified subdoligranulum', 'unclassified viruses', 'uncultured acidobacteria bacterium', 'uncultured actinomycete', 'uncultured archaeon', 'uncultured archaeon gzfos14b8', 'uncultured archaeon gzfos18c8', 'uncultured archaeon gzfos18f2', 'uncultured archaeon gzfos19a5', 'uncultured archaeon gzfos19c7', 'uncultured archaeon gzfos1d1', 'uncultured archaeon gzfos26e7', 'uncultured archaeon gzfos26f9', 'uncultured archaeon gzfos28g7', 'uncultured archaeon gzfos32e4', 'uncultured archaeon gzfos32g12', 'uncultured archaeon gzfos34a6', 'uncultured archaeon gzfos36d8', 'uncultured archaeon gzfos37b2', 'uncultured archaeon gzfos3d4', 'uncultured archaeon gzfos9d1', 'uncultured bacterium', 'uncultured bacterium ebacmed86h08', 'uncultured bacterium pcoshe1', 'uncultured bacterium xym2', 'uncultured crenarchaeote', 'uncultured delta proteobacterium', 'uncultured flavobacteriaceae bacterium', 'uncultured gammaproteobacteria bacterium', 'uncultured marine alpha proteobacterium hot2c01', 'uncultured marine bacterium 105', 'uncultured marine bacterium 106', 'uncultured marine bacterium 311', 'uncultured marine bacterium 314', 'uncultured marine bacterium 439', 'uncultured marine bacterium 440', 'uncultured marine bacterium 443', 'uncultured marine bacterium 463', 'uncultured marine bacterium 560', 'uncultured marine bacterium 561', 'uncultured marine bacterium 562', 'uncultured marine bacterium 577', 'uncultured marine bacterium 578', 'uncultured marine bacterium 580', 'uncultured marine bacterium 581', 'uncultured marine bacterium 582', 'uncultured marine bacterium 583', 'uncultured marine bacterium 66a03', 'uncultured marine gamma proteobacterium ebac20e09', 'uncultured marine group ii euryarchaeote 37f11', 'uncultured marine microorganism', 'uncultured marine proteobacterium ant8c10', 'uncultured nectria', 'uncultured proteobacterium', 'uncultured proteobacterium redebac7d11', 'uncultured thermotogales bacterium', 'uncultured virus', 'undaria pinnatifida', 'unidentified adenovirus', 'unidentified archaeon', 'unidentified baculovirus', 'unidentified cloning vector', 'unidentified coronavirus', 'unidentified eubacterium scb49', 'unidentified euryarchaeote', 'unidentified expression vector', 'unidentified geminivirus', 'unidentified human coronavirus', 'unidentified influenza virus', 'unidentified plasmid', 'unidentified poliovirus', 'unidentified retrovirus', 'unidentified saccharomycetalean', 'unidentified shuttle vector', 'unidentified simian type d retrovirus', 'unidentified snake reovirus', 'unidentified tobacco necrosis virus', 'unidentifiedorganism', 'unidentifiedorganism detection and identification', 'unidentifiedorganism using phosphite dehydrogenase gene', 'unspecified coliform bacterium', 'untyped human t-lymphotropic virus', 'ureaplasma parvum', 'ureaplasma parvum serovar 3 str. atcc 700970', 'ureaplasma urealyticum', 'urechis caupo', 'ureibacillus composti', 'ureibacillus suwonensis', 'ureibacillus thermosphaericus', 'urochloa panicoides', 'urocitellus parryii', 'uromyces viciae-fabae', 'uronema marinum', 'urophycis tenuis', 'ursus americanus', 'ursus arctos', 'ursus thibetanus', 'urtica dioica', 'ustilaginoidea virens', 'ustilago cynodontis', 'ustilago hordei', 'ustilago maydis', 'ustilago maydis 521', 'ustilago maydis virus p4', 'ustilago striiformis', 'usutu virus', 'uukuniemi virus', 'vaccinia virus', 'vaccinia virus acambis 3000 mva', 'vaccinia virus ankara', 'vaccinia virus copenhagen', 'vaccinia virus lister', 'vaccinia virus livp', 'vaccinia virus tian tan', 'vaccinia virus wr', 'vaccinium corymbosum', 'vaccinium macrocarpon', 'vaejovis carolinianus', 'vagococcus fluvialis', 'valeriana amurensis', 'valeriana fauriei', 'valeriana jatamansi', 'valeriana officinalis', 'valerianella locusta', 'valsaria rubricosa', 'vanderwaltozyma polyspora', 'vanderwaltozyma polyspora dsm 70294', 'vanilla planifolia', 'vanrija humicola', 'vargula', 'vargula hilgendorfii', 'variola major virus', 'variola virus', 'variovorax', 'variovorax paradoxus', 'variovorax paradoxus b4', 'variovorax sp.', 'variovorax sp. 119l', 'variovorax sp. aj110348', 'varroa destructor', 'varroa destructor virus', 'varroa destructor virus 1', 'vasdavidius concursus', 'vaucheria litorea', 'vcsm13 interference-resistant helper phage', 'vectors', 'veillonella', 'veillonella atypica', 'veillonella dispar', 'veillonella genomosp. p1 oral clone mb5_p17', 'veillonella montpellierensis', 'veillonella parvula', 'veillonella parvula atcc 17745', 'veillonella parvula dsm 2008', 'veillonella rogosae', 'veillonella sp.', 'veillonella sp. 3_1_44', 'veillonella sp. 6_1_27', 'veillonella sp. acp1', 'veillonella sp. as16', 'veillonella sp. icm51a', 'veillonella tobetsuensis', 'veillonellaceae bacterium', 'veillonellaceae bacterium oral taxon 131', 'veillonellaceae bacterium oral taxon 155', 'venezuelan equine encephalitis virus', 'venezuelan equine encephalitis virus (strain tc-83)', 'ventiella sulfuris', 'venturia carpophila', 'verminephrobacter eiseniae', 'verminephrobacter eiseniae ef01-2', 'vernicia fordii', 'vernonia', 'vernonia galamensis', 'veronica persica', 'verrucomicrobiae', 'verrucomicrobiae bacterium dg1235', 'verrucomicrobium spinosum', 'verrucomicrobium spinosum dsm 4136 = jcm 18804', 'verrucosispora sp. wo2005033114', 'verticillium albo-atrum', 'verticillium alfalfae', 'verticillium alfalfae vams.102', 'verticillium dahliae', 'verticillium sp. (in: hypocreales)', 'verticillium tenerum', 'vesicular exanthema of swine virus', 'vesicular stomatitis indiana virus', 'vesicular stomatitis new jersey virus', 'vesicular stomatitis virus', 'vesivirus', 'vespa mandarinia', 'vespa simillima xanthoptera', 'vespula vulgaris', 'vibidia duodecimguttata', 'vibrio', 'vibrio albensis vl426', 'vibrio alginolyticus', 'vibrio anguillarum', 'vibrio antiquarius', 'vibrio atlanticus lgp32', 'vibrio campbellii', 'vibrio campbellii atcc baa-1116', 'vibrio cholerae', 'vibrio cholerae he48', 'vibrio cholerae o1 biovar el tor str. n16961', 'vibrio cholerae o139', 'vibrio cholerae o395', 'vibrio cholerae v51', 'vibrio coralliilyticus', 'vibrio coralliilyticus atcc baa-450', 'vibrio diazotrophicus', 'vibrio fluvialis', 'vibrio furnissii', 'vibrio furnissii cip 102972', 'vibrio gazogenes', 'vibrio harveyi', 'vibrio ichthyoenteri', 'vibrio mediterranei', 'vibrio metoecus', 'vibrio metschnikovii', 'vibrio metschnikovii cip 69.14', 'vibrio mimicus', 'vibrio natriegens', 'vibrio nigripulchritudo', 'vibrio pacinii', 'vibrio parahaemolyticus', 'vibrio parahaemolyticus phage vp58.5 gp40', 'vibrio parahaemolyticus rimd 2210633', 'vibrio pectenicida', 'vibrio plasmid p0908', 'vibrio proteolyticus', 'vibrio ruber', 'vibrio rumoiensis', 'vibrio scophthalmi', 'vibrio shilonii ak1', 'vibrio sinaloensis', 'vibrio sp.', 'vibrio sp. and4', 'vibrio sp. ax-4', 'vibrio sp. ejy3', 'vibrio splendidus', 'vibrio splendidus 12b01', 'vibrio tubiashii', 'vibrio tubiashii atcc 19109', 'vibrio virus vp882', 'vibrio vulnificus', 'vibrio vulnificus cmcp6', 'vibrio vulnificus yj016', 'vibrionales bacterium swat-3', 'vibrissea flavovirens', 'vicia faba', 'vicia faba; arabidopsis', 'vicia sativa', 'victivallaceae bacterium', 'victivallaceae bacterium nml 080035', 'victivallis vadensis', 'victivallis vadensis atcc baa-548', 'vicugna pacos', 'vicugna vicugna', 'vidua chalybeata', 'vigna aconitifolia', 'vigna angularis', 'vigna mungo', 'vigna radiata', 'vigna radiata var. radiata', 'vigna unguiculata', 'vigna unguiculata subsp. unguiculata', 'vinca minor', 'viola', 'viola sororia', 'viola sp. cultivar black pansy', 'viola sp. wo2005118628', 'viola sp. wo2006041917', 'viola tricolor', 'viola x wittrockiana', 'vipera ursinii', 'viral hemorrhagic septicemia virus', 'vireo altiloquus', 'virgibacillus soli', 'viridiplantae', 'viroids', 'virus', 'viruses', 'viscum album', 'viscum coloratum', 'visna-maedi virus', 'vitis', 'vitis aestivalis', 'vitis amurensis', 'vitis arizonica x vitis rupestris', 'vitis labrusca', 'vitis labrusca x vitis vinifera', 'vitis pseudoreticulata', 'vitis riparia', 'vitis shuttleworthii', 'vitis sp.', 'vitis vinifera', 'vitis x labruscana', 'vitreoscilla sp.', 'vitreoscilla stercoraria', 'volvariella volvacea', 'volvox carteri', 'volvox carteri f. kawasakiensis', 'volvox carteri f. nagariensis', 'volvox carteri f. weismannia', 'volvox globator', 'volvox sp.', 'vulcanisaeta moutnovskia', 'vulcanodinium rugosum', 'vulpes vulpes', 'wallal virus', 'wallemia sebi', 'walleye dermal sarcoma virus', 'washingtonia robusta', 'watasenia scintillans', 'weeksella virosa', 'weissella', 'weissella beninensis', 'weissella cibaria', 'weissella cibaria no. ncimb 42196', 'weissella confusa', 'weissella hellenica', 'weissella koreensis', 'weissella minor', 'weissella paramesenteroides', 'weissella paramesenteroides atcc 33313', 'weissella soli', 'weissella sp.', 'weissella sp. klds 7.0701', 'weissella viridescens', 'weizmannia acidiproducens', 'weizmannia coagulans', 'weizmannia coagulans 36d1', 'weizmannia ginsengihumi', 'welwitschia mirabilis', 'wesselsbron virus', 'west caucasian bat lyssavirus', 'west nile virus', 'western equine encephalitis virus', 'western x phytoplasma', 'wheat dwarf virus', 'wheat streak mosaic virus', 'white spot syndrome virus', 'wickerhamia fluorescens', 'wickerhamiella pararugosa', 'wickerhamiella versatilis', 'wickerhamomyces anomalus', 'wickerhamomyces ciferrii', 'wickerhamomyces sydowiorum', 'wigglesworthia glossinidia endosymbiont of glossina brevipalpis', 'williamsia sp.', 'winkia neuii', 'wiseana signata nucleopolyhedrovirus', 'withania somnifera', 'wolbachia endosymbiont of cimex lectularius', 'wolbachia endosymbiont of drosophila ananassae', 'wolbachia endosymbiont of drosophila melanogaster', 'wolbachia endosymbiont of drosophila simulans', 'wolbachia endosymbiont of onchocerca volvulus', 'wolbachia endosymbiont strain trs of brugia malayi', 'wolbachia pipientis', 'wolfiporia cocos', 'wolinella succinogenes', 'wolinella succinogenes dsm 1740', 'woodchuck hepatitis virus', 'woodsholea maritima', 'woolly monkey hepatitis b virus', 'woolly monkey sarcoma virus', 'wu polyomavirus', 'wuchereria bancrofti', 'x doritaenopsis', 'x doritaenopsis hybrid cultivar', 'x doritaenopsis sp.', 'x tritordeum sp.', 'xanthium sp.', 'xanthium strumarium', 'xanthobacter autotrophicus', 'xanthobacter autotrophicus py2', 'xanthobacter flavus', 'xanthobacter polyaromaticivorans', 'xanthobacter sp.', 'xanthobacter tagetidis', 'xanthobacter viscosus', 'xanthomonadaceae', 'xanthomonadaceae bacterium', 'xanthomonadaceae bacterium nml 03-0222', 'xanthomonas', 'xanthomonas albilineans', 'xanthomonas axonopodis', 'xanthomonas campestris', 'xanthomonas campestris pv. campestris', 'xanthomonas campestris pv. campestris str. 8004', 'xanthomonas campestris pv. campestris str. atcc 33913', 'xanthomonas campestris pv. incanae', 'xanthomonas campestris pv. pelargonii', 'xanthomonas campestris pv. vesicatoria str. 85-10', 'xanthomonas citri', 'xanthomonas citri pv. citri str. 306', 'xanthomonas citri pv. malvacearum', 'xanthomonas euvesicatoria', 'xanthomonas oryzae', 'xanthomonas oryzae pv. oryzae', 'xanthomonas oryzae pv. oryzae kacc 10331', 'xanthomonas oryzae pv. oryzae pxo99a', 'xanthomonas oryzae pv. oryzicola', 'xanthomonas populi', 'xanthomonas sp.', 'xanthomonas vasicola', 'xanthomonas vesicatoria', 'xanthorhiza simplicissima', 'xenophilus aerolatus', 'xenopus', 'xenopus laevis', 'xenopus sp.', 'xenopus tropicalis', 'xenorhabdus beddingii', 'xenorhabdus bovienii', 'xenorhabdus budapestensis', 'xenorhabdus doucetiae frm16 = dsm 17909', 'xenorhabdus ehlersii', 'xenorhabdus innexi', 'xenorhabdus japonica', 'xenorhabdus nematophila', 'xenorhabdus poinarii', 'xenorhabdus szentirmaii', 'xenostrobus securis', 'xenotropic mulv-related virus vp62', 'xenotropic murine leukemia virus', 'xerocomellus chrysenteron', 'xerocomus badius', 'xeromyces bisporus', 'xerophyta humilis', 'xerophyta viscosa', 'xestia c-nigrum granulovirus', 'xipapillomavirus 1', 'xiphophorus maculatus', 'xylanibacterium ulmi', 'xylanimonas cellulosilytica', 'xylanimonas cellulosilytica dsm 15894', 'xylaria hypoxylon', 'xylella fastidiosa', 'xylella fastidiosa 9a5c', 'xylella fastidiosa dixon', 'xylella fastidiosa m23', 'xylella fastidiosa subsp. sandyi ann-1', 'xylella fastidiosa temecula1', 'xysticus acerbus', 'yaba monkey tumor virus', 'yaba-like disease virus', 'yamadazyma tenuis', 'yarrowia deformans', 'yarrowia lipolytica', 'yarrowia lipolytica clib122', 'yarrowia lipolytica po1f', 'yellow fever virus', 'yellow fever virus 17d', 'yellow head virus', 'yellowtail ascites virus', 'yersinia <bacteria>', 'yersinia aldovae', 'yersinia aleksiciae', 'yersinia bercovieri', 'yersinia bercovieri atcc 43970', 'yersinia enterocolitica', 'yersinia enterocolitica subsp. enterocolitica', 'yersinia enterocolitica subsp. enterocolitica 8081', 'yersinia enterocolitica subsp. palearctica', 'yersinia entomophaga', 'yersinia frederiksenii', 'yersinia frederiksenii atcc 33641', 'yersinia intermedia', 'yersinia intermedia atcc 29909', 'yersinia kristensenii', 'yersinia mollaretii', 'yersinia mollaretii atcc 43969', 'yersinia pestis', 'yersinia pestis biovar microtus str. 91001', 'yersinia pestis co92', 'yersinia pestis kim d27', 'yersinia pestis kim10+', 'yersinia phage phiyeo3-12', 'yersinia phage py54', 'yersinia pseudotuberculosis', 'yersinia pseudotuberculosis ip 31758', 'yersinia pseudotuberculosis ip 32953', 'yersinia rohdei', 'yersinia rohdei atcc 43380', 'yersinia ruckeri', 'yersinia sp.', 'yokenella regensburgei', 'yokose virus', 'yoonia vestfoldensis', 'yoonia vestfoldensis ska53', 'youngiibacter fragilis 232.1organism', 'yucca filamentosa', 'yunnan orbivirus', 'zaire ebolavirus', 'zalophus californianus', 'zamia fischeri', 'zamia vazquezii', 'zantedeschia aethiopica', 'zantedeschia hybrid cultivar', 'zanthoxylum schinifolium', 'zea', 'zea diploperennis', 'zea luxurians', 'zea mays', 'zea mays subsp. mays', 'zea mays subsp. mexicana', 'zea mays subsp. parviglumis', 'zea perennis', 'zeus faber', 'zika virus', 'zingiber corallinum', 'zingiber densissimum', 'zingiber engganoense', 'zingiber mioga', 'zingiber montanum', 'zingiber officinale', 'zingiber orbiculatum', 'zingiber rubens', 'zingiber sulphureum', 'zingiber zerumbet', 'zinnia elegans', 'ziphius cavirostris', 'ziziphus jujuba', 'zoanthus sp.', 'zoarces elongatus', 'zoarces viviparus', 'zobellia galactanivorans', 'zonotrichia albicollis', 'zoogloea ramigera', 'zoothera dauma', 'zostera marina', 'zosterops japonicus', 'zosterops pallidus', 'zoysia', 'zoysia japonica', 'zoysia tenuifolia', 'zucchini yellow mosaic virus', 'zunongwangia profunda sm-a87', 'zygnema circumcarinatum', 'zygoascus hellenicus', 'zygoascus ofunaensis', 'zygosaccharomyces bailii', 'zygosaccharomyces bisporus', 'zygosaccharomyces mellis', 'zygosaccharomyces pseudorouxii (nom. ined.)', 'zygosaccharomyces rouxii', 'zymobacter palmae', 'zymomonas mobilis', 'zymomonas mobilis subsp. mobilis zm4 = atcc 31821', 'zymoseptoria brevis', 'zymoseptoria tritici']\n"
     ]
    }
   ],
   "source": [
    "#print(sorted(filtered_df_wa_unknown.organism.value_counts().index))"
   ]
  },
  {
   "cell_type": "code",
   "execution_count": 63,
   "metadata": {},
   "outputs": [
    {
     "name": "stdout",
     "output_type": "stream",
     "text": [
      "['[bacillus] caldolyticus', 'acanthastrea echinata', 'acanthopagrus schlegelii', 'acanthus ebracteatus', 'acaryochloris', 'acaryochloris marina', 'acaryochloris marina mbic11017', 'acetabularia acetabulum', 'acinetobacter marinus', 'acropora', 'acropora aculeus', 'acropora aspera', 'acropora formosa', 'acropora hyacinthus', 'acropora millepora', 'acropora robusta', 'actinia equina', 'aequorea', 'aequorea coerulescens', 'aequorea macrodactyla', 'aequorea victoria', 'aeromonas molluscorum 848', 'aeromonas salmonicida', 'aeromonas salmonicida subsp. salmonicida', 'aeromonas salmonicida subsp. salmonicida a449', 'aeropyrum pernix', 'aeropyrum pernix k1', 'agaricia fragilis', 'agarivorans albus', 'agarophyton vermiculophyllum', 'alatina alata', 'alcanivorax', 'alcanivorax borkumensis', 'alcanivorax borkumensis sk2', 'alcanivorax hongdengensis', 'alcanivorax jadensis', 'alcanivorax pacificus', 'alexandrium', 'alexandrium catenella', 'alexandrium fundyense', 'alexandrium minutum', 'alexandrium ostenfeldii', 'alexandrium tamarense', 'algibacter lectus', 'aliivibrio fischeri', 'aliivibrio fischeri es114', 'aliivibrio salmonicida', 'aliivibrio salmonicida lfi1238', 'aliivibrio wodanis', 'alishewanella aestuarii', 'alisma wahlenbergii', 'alteromonas macleodii', 'alteromonas macleodii atcc 27126', 'alteromonas mediterranea de', 'alteromonas sp.', 'alteromonas sp. gnum-1', 'alvikia littoralis', 'alvinella caudata', 'alvinella pompejana', 'alvinella pompejana epibiont 6c6', 'americamysis bahia', 'amphibalanus amphitrite', 'amphibalanus eburneus', 'amphimedon queenslandica', 'anabaena cylindrica pcc 7122', 'anabaena laxa', 'anadara broughtonii', 'anemonia manjano', 'anemonia sulcata', 'anemonia viridis', 'anguilla anguilla', 'anguilla japonica', 'anisakis simplex', 'anthoathecata', 'anthopleura', 'anthozoa', 'anurida maritima', 'aplysia', 'aplysia californica', 'aplysia kurodai', 'aplysia punctata', 'aquareovirus', 'aquifex pyrophilus', 'aquimarina macrocephali', 'arbacia punctulata', 'archaeoglobus fulgidus', 'archaeoglobus fulgidus dsm 4304', 'archaeoglobus lithotrophicus', 'archaeoglobus profundus', 'archaeoglobus veneficus', 'arctocephalus forsteri', 'arctocephalus gazella', 'arctoscopus japonicus', 'arenicola marina', 'arenimonas donghaensis', 'argopecten irradians', 'artemia', 'artemia franciscana', 'artemia sp.', 'arthrospira platensis', 'arthrospira platensis fachb-341', 'arthrospira platensis nies-39', 'ascidia sydneiensis samea', 'aspergillus sydowii', 'astrosclera willeyana', 'aurantimonas', 'aurantimonas manganoxydans', 'aurantimonas manganoxydans si85-9a1', 'aureispira marina', 'aurelia aurita', 'aureococcus anophagefferens', 'austrominius modestus', 'avicennia marina', 'azadinium', 'bacillus aeolius', 'balaenoptera acutorostrata', 'balaenoptera acutorostrata scammoni', 'balaenoptera bonaerensis', 'balaenoptera borealis', 'balaenoptera edeni', 'balaenoptera musculus', 'balaenoptera physalus', 'balanus crenatus', 'balanus glandula', 'balanus rostratus', 'balanus trigonus', 'bankia gouldi', 'belliella', 'benedenia seriolae', 'berardius bairdii', 'bermanella marisrubri', 'beroe abyssicola', 'bigelowiella natans', 'blastopirellula marina', 'blastopirellula marina dsm 3645', 'bolinopsis infundibulum', 'bostrychus sinensis', 'botryllus primigenus', 'botryllus schlosseri', 'branchiostegus albus', 'branchiostegus argentatus', 'branchiostegus auratus', 'branchiostegus japonicus', 'branchiostoma belcheri', 'branchiostoma belcheri tsingtauense', 'branchiostoma floridae', 'branchiostoma lanceolatum', 'bruguiera gymnorhiza', 'bruguiera sexangula', 'bryopsis corticulans', 'bryopsis maxima', 'bythograea thermydron', 'caldithrix abyssi', 'calditrix abyssi', 'caligus rogercresseyi', 'callinectes sapidus', 'callorhinchus milii', 'caloglossa continua', 'calothrix sp.', 'calothrix sp. pcc 6303', 'caminibacter hydrogeniphilus', 'caminibacter mediatlanticus', 'caminibacter mediatlanticus tb-2', 'caminicella sporogenes', 'candidatus endobugula sertula', 'candidatus endoecteinascidia frumentensis', 'candidatus pelagibacter', 'candidatus pelagibacter ubique', 'candidatus puniceispirillum marinum', 'caperea marginata', 'capitulum mitella', 'carcinoscorpius rotundicauda', 'carybdea rastonii', 'caulastraea furcata', 'cavernularia obesa', 'cellulophaga', 'cellulophaga lytica', 'cenarchaeum symbiosum', 'cenarchaeum symbiosum a', 'cephalopholis fulva', 'cephalorhynchus commersonii', 'cephalorhynchus eutropia', 'cephalorhynchus heavisidii', 'cephalorhynchus hectori', 'cerianthus sp.', 'cestum veneris', 'chaetoceros debilis dna virus', 'chaetoceros gracilis', 'chaetoceros neogracilis', 'chaetopterus variopedatus', 'chattonella', 'chattonella subsalsa', 'cheilopogon pinnatibarbatus japonicus', 'chelonia mydas', 'chimaera monstrosa', 'chimaera sp.', 'chionoecetes opilio', 'chiridius poppei', 'chiridota laevis', 'chiropsoides quadrigatus', 'chlamys islandica', 'chlorarachnion', 'chlorobium phaeobacteroides', 'chlorobium phaeobacteroides bs1', 'chloroherpeton thalassium', 'chloroherpeton thalassium atcc 35110', 'chloromonas sp. knf032', 'chondrus crispus', 'chthamalus challengeri', 'chthamalus dalli', 'ciona intestinalis', 'ciona savignyi', 'clavularia sp.', 'clupea harengus', 'clytia gregaria', 'codium barbatum', 'codium fragile', 'codium latum', 'coleofasciculus chthonoplastes', 'coleofasciculus chthonoplastes pcc 7420', 'colwellia psychrerythraea', 'colwellia psychrerythraea 34h', 'conchoderma auritum', 'conchoderma virgatum', 'condylactis gigantea', 'conger myriaster', 'congregibacter litoralis', 'congregibacter litoralis kt71', 'conus achatinus', 'conus ammiralis', 'conus arenatus', 'conus aulicus', 'conus aureus', 'conus aurisiacus', 'conus bandanus', 'conus betulinus', 'conus bullatus', 'conus c. textile linnaeus', 'conus capitaneus', 'conus caracteristicus', 'conus catus', 'conus circumcisus', 'conus consors', 'conus coronatus', 'conus dalli', 'conus distans', 'conus emaciatus', 'conus episcopatus', 'conus ermineus', 'conus figulinus', 'conus flavidus', 'conus generalis', 'conus geographus', 'conus gloriamaris', 'conus imperialis', 'conus leopardus', 'conus lividus', 'conus lynceus', 'conus magus', 'conus marmoreus', 'conus miles', 'conus miliaris', 'conus monachus', 'conus musicus', 'conus obscurus', 'conus ochroleucus', 'conus omaria', 'conus pennaceus', 'conus pulicarius', 'conus purpurascens', 'conus quercinus', 'conus radiatus', 'conus rattus', 'conus regius', 'conus sponsalis', 'conus spurius', 'conus stercusmuscarum', 'conus striatus', 'conus striolatus', 'conus sulcatus', 'conus tessulatus', 'conus textile', 'conus tulipa', 'conus victoriae', 'conus viola', 'conus virgo', 'coolia monotis', 'corallina officinalis', 'corallium rubrum', 'corynactis viridis', 'coscinodiscus wailesii', 'crassostrea angulata', 'crassostrea gigas', 'crassostrea virginica', 'crenarchaeota', 'croceibacter atlanticus', 'croceibacter atlanticus htcc2559', 'crocosphaera chwakensis ccy0110', 'crocosphaera watsonii', 'crocosphaera watsonii wh 8501', 'crypthecodinium', 'crypthecodinium cohnii', 'cryptocaryon irritans', 'cryptopygus antarcticus', 'curtobacterium oceanosedimentum', 'cyanea capillata', 'cyanea nozakii', 'cyanobium sp. pcc 7001', 'cyanothece', 'cyanothece sp. pcc 7425', 'cyclobacterium marinum', 'cylindrotheca fusiformis', 'cymodocea nodosa', 'cynoglossus semilaevis', 'cypridina', 'cypridina noctiluca', 'cypridinidae sp. ep1925320', 'cystophora cristata', 'delphinapterus leucas', 'delphinus capensis', 'delphinus delphis', 'delphinus tropicalis', 'dendronephthya gigantea', 'denitrovibrio acetiphilus', 'denitrovibrio acetiphilus dsm 12809', 'desulfobacter curvatus', 'desulfobacula toluolica', 'desulfomicrobium baculatum', 'desulfomicrobium baculatum dsm 4028', 'desulfomicrobium norvegicum', 'desulfospira joergensenii', 'desulfotalea psychrophila', 'desulfotalea psychrophila lsv54', 'desulfurococcus amylolyticus', 'desulfurococcus sp.', 'desulfuromonas chloroethenica', 'dethiosulfovibrio peptidovorans', 'diacronema lutheri', 'dicentrarchus labrax', 'dicentrarchus labrax encephalitis virus', 'dictyosoma burgeri', 'dinophyceae', 'dinophysiaceae', 'dinophysis', 'dinophysis acuminata', 'dinophysis acuta', 'dinophysis norvegica', 'dinoroseobacter shibae', 'dinoroseobacter shibae dfl 12 = dsm 16493', 'diplobatis ommata', 'dipsastraea favus', 'discosoma', 'discosoma sp.', 'discosoma striata', 'ditylum brightwellii', 'dokdonia sp. med134', 'doryteuthis pealeii', 'dosidicus gigas', 'dugong dugon', 'dunaliella', 'dunaliella bioculata', 'dunaliella salina', 'dunaliella tertiolecta', 'echinophyllia', 'ecteinascidia turbinata', 'ectocarpus siliculosus', 'ectocarpus siliculosus virus 1', 'ectothiorhodospira', 'emiliania huxleyi', 'emiliania huxleyi ccmp1516', 'engraulis encrasicolus', 'engraulis japonicus', 'entacmaea quadricolor', 'enteroctopus dofleini', 'eopsetta jordani', 'epiactis japonica', 'epinephelus bruneus', 'eptatretus burgeri', 'erignathus barbatus', 'erythrobacter litoralis', 'erythrobacter litoralis htcc2594', 'erythrobacter sp.', 'erythrobacter sp. nap1', 'erythrobacter sp. sd-21', 'eschrichtius robustus', 'euacasta dofleini', 'eumetopias jubatus', 'euphausia pacifica', 'euphausia superba', 'euplotes eurystomus', 'eurythoe complanata', 'euthynnus affinis', 'euthynnus alletteratus', 'eutreptiella braarudii', 'eutreptiella gymnastica', 'eutreptiella pomquetensis', 'eutreptiella sp. ccmp389', 'exaiptasia diaphana', 'exocoetus volitans', 'feresa attenuata', 'ferrimonas balearica', 'fibrella aestuarina', 'fibrocapsa japonica', 'fistulobalanus albicostatus', 'fistulobalanus kondakovi', 'flavobacteria bacterium bbfl7', 'flavobacteriales', 'flavobacteriales bacterium alc-1', 'flavobacterium frigidarium', 'flexistipes sinusarabici', 'fragilariopsis cylindrus', 'fucus distichus', 'fucus gardneri', 'fulvimarina pelagi', 'fundulus heteroclitus', 'fungia', 'gadus chalcogrammus', 'gadus macrocephalus', 'gadus morhua', 'galaxea fascicularis', 'gambierdiscus', 'gambierdiscus belizeanus', 'gambierdiscus caribaeus', 'gambierdiscus carolinianus', 'gambierdiscus carpenteri', 'gambierdiscus pacificus', 'gambierdiscus toxicus', \"gamma proteobacterium 'hot 75m4'\", 'gamma proteobacterium htcc2207', 'gammaproteobacteria', 'gammaproteobacteria bacterium', 'gasterosteus aculeatus', 'gaussia princeps (t. scott, 1894)', 'geminigera cryophila', 'geobacillus kaustophilus', 'geobacillus kaustophilus hta426', 'geodia cydonium', 'ginglymostoma cirratum', 'girella punctata', 'glaciecola punicea', 'globicephala macrorhynchus', 'globicephala melas', 'glossomastix chrysoplasta', 'glyptocephalus cynoglossus', 'gonyaulax spinifera', 'gracilaria gracilis', 'gramella forsetii', 'gramella forsetii kt0803', 'grampus griseus', 'griffithsia japonica', 'guillardia theta', 'gymnodinium catenatum', 'hahella chejuensis', 'hahella chejuensis kctc 2396', 'haliangium ochraceum', 'halichondria okadai', 'haliotis', 'haliotis discus', 'haliotis discus discus', 'haliotis discus hannai', 'haliotis gigantea', 'haliotis kamtschatkana assimilis', 'haliotis madaka', 'haliotis tuberculata', 'halocynthia roretzi', 'halocyphina villosa', 'haloferax mediterranei', 'halomonas aquamarina', 'halomonas sp. oitc1261', 'halomonas titanicae', 'haptophyta', 'hemicentrotus pulcherrimus', 'hemiselmis rufescens', 'hemiselmis virescens', 'heritiera littoralis', 'heteractis crispa', 'heteractis sp.', 'heterocapsa', 'heterocapsa circularisquama rna virus 01', 'heterocapsa niei', 'heterocapsa triquetra', 'heterodontus francisci', 'heterololigo bleekeri', 'heterorhabdus tanneri', 'heterosigma akashiwo', 'heterostylites major', 'hexagrammos otakii', 'hippea maritima', 'hippocampus coronatus', 'hippoglossoides platessoides', 'hippoglossus hippoglossus', 'hippoglossus stenolepis', 'hoeflea phototrophica', 'hoeflea sp.', 'holothuria leucospilota', 'homarus americanus', 'hyas araneus', 'hydrogenovibrio marinus', 'hydrurga leptonyx', 'hyperoodon ampullatus', 'hyperthermus butylicus', 'hyperthermus butylicus dsm 5456', 'hyphomonas neptunium', 'hyphomonas neptunium atcc 15444', 'hyporthodus septemfasciatus', 'idiomarina loihiensis', 'idiomarina loihiensis l2tr', 'ignicoccus hospitalis', 'infectious hematopoietic necrosis virus', 'infectious pancreatic necrosis virus', 'infectious spleen and kidney necrosis virus', 'ircinia felix', 'isochrysis galbana', 'jaagichlorella luteoviridis', 'jannaschia', 'jannaschia sp. ccs1', 'jejuia pallidilutea', 'jeotgalibacillus marinus', 'kandelia candel', 'kangiella koreensis', 'kappaphycus alvarezii', 'karenia <dinophyceae>', 'karenia brevis', 'karenia mikimotoi', 'karlodinium', 'karlodinium veneficum', 'katsuwonus pelamis', 'kogia breviceps', 'kogia sima', 'kordia algicida', 'kordia jejudonensis', 'labidocera aestiva', 'labrenzia sp. phm005', 'labrus merula', 'lactococcus garvieae', 'lactococcus garvieae atcc 49156', 'lagenorhynchus acutus', 'lagenorhynchus australis', 'lagenorhynchus cruciger', 'lagenorhynchus obliquidens', 'lagenorhynchus obscurus', 'lagocephalus gloveri', 'lagocephalus inermis', 'lagocephalus sceleratus', 'lagocephalus wheeleri', 'laminaria digitata', 'lateolabrax japonicus', 'latimeria', 'leeuwenhoekiella blandensis med217', 'lentisphaera araneosa', 'lentisphaera araneosa htcc2155', 'lepas anatifera', 'lepeophtheirus salmonis', 'leptocheirus plumulosus', 'leptonychotes weddellii', 'leptothrix sp. (in: bacteria)', 'leptuca pugilator', 'lethenteron camtschaticum', 'leucoraja erinacea', 'leucosporidium', 'leucosporidium scottii', 'limanda limanda', 'limnoria', 'limulus polyphemus', 'limulus sp.', 'lineus viridis', 'lingulodinium polyedra', 'liopsetta pinnifasciata', 'lissodelphis borealis', 'lissodelphis peronii', 'lithophyllon concinna', 'littorina littorea', 'lobochlamys segnis', 'lobophyllia vitiensis', 'lobophytum crassum', 'loligo forbesii', 'loligo vulgaris', 'lophius americanus', 'lottia gigantea', 'lucicutia ovaliformis', 'lymphocystis disease virus - isolate china', 'lymphocystis disease virus 1', 'lyngbya', 'lyngbya sp. pcc 8106', 'lysobacter spongiicola', 'lytechinus pictus', 'lytechinus variegatus', 'magnetococcus', 'magnetococcus marinus mc-1', 'mantoniella squamata', 'maribacter sp. htcc2170', 'maricaulis maris', 'marinactinospora thermotolerans', 'marine actinobacteria clade', 'marine actinobacterium', 'marine actinobacterium phsc20c1', 'marine gamma proteobacterium htcc2080', 'marine gamma proteobacterium htcc2143', 'marine gokushovirus', 'marinithermus hydrothermalis', 'marinobacter adhaerens', 'marinobacter adhaerens hp15', 'marinobacter algicola', 'marinobacter algicola dg893', 'marinobacter manganoxydans mni7-9', 'marinobacter sp.', 'marinobacter sp. elb17', 'marinomonas', 'marinomonas mediterranea', 'marinomonas sp. med121', 'marinomonas sp. mwyl1', 'marinomonas ushuaiensis', 'marinoscillum furvescens', 'mariprofundus ferrooxydans', 'mariprofundus ferrooxydans pv-1', 'maritimibacter alkaliphilus htcc2654', 'marthasterias glacialis', 'megabalanus coccopoma', 'megabalanus rosa', 'megabalanus volcano', 'megaptera novaeangliae', 'megathura crenulata', 'meretrix lamarckii', 'merismopedia glauca', 'meristotheca papulosa', 'merluccius merluccius', 'merluccius productus', 'mesocentrotus nudus', 'mesoplodon bidens', 'mesoplodon densirostris', 'mesoplodon europaeus', 'mesoplodon peruvianus', 'metacrinus rotundus', 'methanocaldococcus', 'methanocaldococcus jannaschii', 'methanocaldococcus jannaschii dsm 2661', 'methanococcus aeolicus', 'methanococcus maripaludis', 'methanococcus maripaludis s2', 'methanococcus vannielii', 'methanoculleus marisnigri', 'methanopyrus kandleri', 'methanopyrus kandleri av19', 'methanosarcina acetivorans', 'methanosarcina acetivorans c2a', 'methanothermococcus thermolithotrophicus', 'methanotorris igneus', 'methanotorris igneus kol 5', 'methylophaga', 'methylophaga aminisulfidivorans', 'metridia asymmetrica', 'metridia curticauda', 'metridia longa', 'metridia okhotensis', 'metridia pacifica', 'metschnikowia zobellii', 'miamiensis avidus', 'micromonas commoda', 'micromonas pusilla', 'micromonas pusilla ccmp1545', 'micromonas rcc299 3', 'microscilla', 'microscilla marina', 'mirounga leonina', 'mitrocoma cellularia', 'mizuhopecten yessoensis', 'mnemiopsis leidyi', 'mobula birostris', 'molva molva', 'moneuplotes crassus', 'monodon monoceros', 'monosiga brevicollis', 'montastraea cavernosa', 'montipora', 'montipora efflorescens', 'moritella abyssi', 'moritella japonica', 'moritella marina', 'moritella marina atcc 15381', 'moritella profunda', 'moritella sp. pe36', 'moritella viscosa', 'morone saxatilis', 'mugil cephalus', 'muraenesox cinereus', 'musculus', 'mustelus antarcticus', 'mustelus canis', 'mytilus californianus', 'mytilus chilensis', 'mytilus edulis', 'mytilus galloprovincialis', 'mytilus trossulus', 'myxine glutinosa', 'nannochloropsis gaditana', 'nannochloropsis gaditana ccmp526', 'nannochloropsis granulata', 'nannochloropsis oceanica', 'nannochloropsis oculata', 'nematostella vectensis', 'neobenedenia girellae', 'neoporphyra perforata', 'neoporphyra seriata', 'neopyropia tenera', 'neopyropia yezoensis', 'neptuniibacter caesariensis', 'nibea mitsukurii', 'nitratifractor salsuginis', 'nitratifractor salsuginis dsm 16511', 'nitratireductor indicus', 'nitratiruptor sp. sb155-2', 'nitratiruptor tergarcus', 'nitrococcus mobilis', 'nitrococcus mobilis nb-231', 'nitrosococcus oceani', 'nitrosococcus oceani atcc 19707', 'nitrosococcus watsonii', 'nitrosopumilus maritimus', 'nodularia spumigena', 'nodularia spumigena ccy9414', 'nodularia spumigena nsor10', 'novosphingobium', 'novosphingobium aromaticivorans', 'novosphingobium aromaticivorans dsm 12444', 'novosphingobium sp. ka1', 'novosphingobium sp. mbes04', 'obelia longissima', 'oceanicaulis alexandrii', 'oceanicaulis sp. htcc2633', 'oceanicola granulosus', 'oceanicola granulosus htcc2516', 'oceanicola sp. hl-35', 'oceanithermus profundus', 'oceanobacillus iheyensis', 'oceanobacillus iheyensis hte831', 'oceanobacillus profundus', 'oceanobacillus sp.', 'oceanobacter', 'oceanospirillum', 'octadecabacter antarcticus', 'octadecabacter antarcticus 307', 'octopus vulgaris', 'odobenus', 'odobenus rosmarus', 'odontosyllis undecimdonta', 'oikopleura dioica', 'oleispira antarctica', 'oltmannsiellopsis viridis', 'omikronpapillomavirus 1', 'oncorhynchus gorbuscha', 'oncorhynchus keta', 'oncorhynchus masou', 'oncorhynchus mykiss', 'oncorhynchus sp.', 'oncorhynchus tshawytscha', 'oplegnathus fasciatus', 'oplophorus gracilirostris', 'opsanus beta', 'orcinus orca', 'orectolobus maculatus', 'ostrea edulis', 'ostreococcus lucimarinus cce9901', \"ostreococcus sp. 'lucimarinus'\", \"ostreococcus sp. 'lucimarinus'organisms\", 'ostreococcus sp. rcc809', 'ostreococcus tauri', 'ostreococcus tauriorganisms', 'ostreopsis', 'ostreopsis lenticularis', 'ostreopsis siamensis', 'pagrus major', 'palaeococcus ferrophilus', 'palmaria palmata', 'pandalus borealis', 'panulirus argus', 'paracentrotus lividus', 'paracoccus zeaxanthinifaciens', 'paradendryphiella salina', 'paralichthys dentatus', 'paralichthys olivaceus', 'paralithodes camtschaticus', 'parhyale hawaiensis', 'parophrys vetulus', 'parvibaculum lavamentivorans', 'parvibaculum lavamentivorans ds-1', 'parvularcula bermudensis', 'patella vulgata', 'patiria miniata', 'patiria pectinifera', 'pavlova sp. wo2007096387', 'pavona decussata', 'pectinaria gouldii', 'pediastrum duplex', 'penaeid shrimp infectious myonecrosis virus', 'penaeus chinensis', 'penaeus japonicus', 'penaeus monodon', 'penaeus stylirostris', 'penaeus vannamei', 'pennahia argentata', 'peponocephala electra', 'peridinium sp.', 'perkinsus marinus', 'perkinsus marinus atcc 50983', 'perna viridis', 'persephonella marina', 'petromyzon marinus', 'petromyzontidae', 'petrotoga mobilis', 'petrotoga mobilis sj95', 'phaeodactylum tricornutum', 'phaeodactylum tricornutum ccap 1055/1', 'phalacroma rotundatum', 'phallusia mammillata', 'phialidium', 'phoca fasciata', 'phoca groenlandica', 'phoca vitulina', 'phocoena sinus', 'pholas dactylus', 'photobacterium angustum', 'photobacterium damselae', 'photobacterium damselae subsp. piscicida', 'photobacterium leiognathi', 'photobacterium phosphoreum', 'photobacterium profundum', 'photobacterium profundum 3tck', 'photobacterium profundum ss9', 'photobacterium sp.', 'photobacterium sp. ska34', 'physeter catodon', 'pinctada fucata', 'pinctada imbricata', 'pinctada margaritifera', 'pirellula sp.', 'piscirickettsia salmonis', 'planomicrobium okeanokoites', 'platichthys stellatus', 'platynereis dumerilii', 'plesiocystis pacifica', 'plesiocystis pacifica sir-1', 'pleuromamma', 'pleuromamma abdominalis', 'pleuromamma scutullata', 'pleuromamma xiphias', 'pleuronectes platessa', 'pleuronichthys coenosus', 'pocillopora damicornis', 'podocoryna carnea', 'polaribacter irgensii', 'polaribacter irgensii 23-p', 'polaribacter sp. med152', 'pollachius pollachius', 'pontellina plumata', 'pontoporia blainvillei', 'porites murrayensis', 'porphyra purpurea', 'porphyra sp.', 'porphyridium sp.', 'procambarus clarkii', 'prochlorococcus marinus', 'prochlorococcus marinus str. as9601', 'prochlorococcus marinus str. mit 9211', 'prochlorococcus marinus str. mit 9215', 'prochlorococcus marinus str. mit 9301', 'prochlorococcus marinus str. mit 9303', 'prochlorococcus marinus str. mit 9312', 'prochlorococcus marinus str. mit 9313', 'prochlorococcus marinus str. mit 9515', 'prochlorococcus marinus str. natl1a', 'prochlorococcus marinus str. natl2a', 'prochlorococcus marinus subsp. marinus', 'prochlorococcus marinus subsp. marinus str. ccmp1375', 'prochlorococcus marinus subsp. pastoris', 'prochlorococcus marinus subsp. pastoris str. ccmp1986', 'prochlorococcus phage p-ssm4', 'prochlorococcus phage syn1', 'prochlorococcus sp.', 'prochlorococcus virus pssp7', 'prochloron didemni', 'prorocentrum', 'prorocentrum lima', 'prorocentrum maculosum', 'prorocentrum minimum', 'prosthecochloris aestuarii', 'prosthecochloris aestuarii dsm 271', 'prosthecochloris vibrioformis', 'protoceratium reticulatum', 'psammechinus miliaris', 'pseudanabaena sp.', 'pseudo-nitzschia <bacillariophyta>', 'pseudo-nitzschia calliantha', 'pseudo-nitzschia mannii', 'pseudoalteromonas atlantica', 'pseudoalteromonas atlantica t6c', 'pseudoalteromonas carrageenovora', 'pseudoalteromonas elyakovii', 'pseudoalteromonas flavipulchra', 'pseudoalteromonas haloplanktis', 'pseudoalteromonas luteoviolacea', 'pseudoalteromonas marina', 'pseudoalteromonas piscicida', 'pseudoalteromonas sp.', 'pseudoalteromonas translucida tac125', 'pseudoalteromonas tunicata', 'pseudoalteromonas tunicata d2', 'pseudochattonella', 'pseudochattonella farcimen', 'pseudochattonella verruculosa', 'pseudochlorella pringsheimii', 'pseudocohnilembus persalinus', 'pseudoctomeris sulcata', 'pseudooceanicola batsensis', 'pseudooceanicola batsensis htcc2597', 'pseudopleuronectes americanus', 'pseudorca crassidens', 'pseudovibrio sp. fo-beg1', 'psychrobacter nivimaris', 'psychrobacter sp.', 'psychrobacter sp. prwf-1', 'psychroflexus torquis', 'psychroflexus torquis atcc 700755', 'psychromonas', 'psychromonas ingrahamii', 'psychromonas ingrahamii 37', 'psychromonas sp.', 'psychromonas sp. cnpt3', 'ptilosarcus gurneyi', 'ptilota filicina', 'pyramimonas cordata', 'pyrobaculum aerophilum', 'pyrobaculum aerophilum str. im2', 'pyrococcus', 'pyrococcus abyssi', 'pyrococcus abyssi ge5', 'pyrococcus furiosus', 'pyrococcus furiosus dsm 3638', 'pyrococcus furiosusorganism', 'pyrococcus horikoshii', 'pyrococcus horikoshii ot3', 'pyrococcus sp.', 'pyrococcus sp. na2', 'pyrococcus woesei', 'pyrocystis lunula', 'pyrodictium', 'pyrodictium abyssi', 'pyrodictium brockii', 'pyrolobus fumarii', 'pyropia spiralis', 'raja brachyura', 'raoultella ornithinolytica', 'rebecca salina', 'reinekea sp.', 'reinhardtius hippoglossoides', 'renibacterium salmoninarum', 'renilla', 'renilla luciferase', 'renilla muelleri', 'renilla reniformis', 'rhizophora mangle', 'rhodella violacea', 'rhodoferax ferrireducens', 'rhodoferax ferrireducens t118', 'rhodopirellula', 'rhodopirellula baltica', 'rhodopirellula baltica sh 1', 'rhodothermus marinus', 'rhodothermus marinus dsm 4252', 'rhodovulum sp.', 'rhodovulum sulfidophilum', 'richelia intracellularis hh01', 'ricordea florida', 'robiginitalea biformata', 'robiginitalea biformata htcc2501', 'roseobacter', 'roseobacter denitrificans', 'roseobacter denitrificans och 114', 'roseobacter litoralis och 149', 'roseobacter sp', 'roseobacter sp.', 'roseobacter sp. azwk-3b', 'roseobacter sp. med193', 'roseobacter sp. sk209-2-6', 'roseobacter virus sio1', 'roseovarius', 'roseovarius nubinhibens', 'roseovarius nubinhibens ism', 'roseovarius sp', 'roseovarius sp.', 'roseovarius sp. 217', 'ruditapes philippinarum', 'ruegeria', 'ruegeria lacuscaerulensis iti-1157', 'ruegeria pomeroyi', 'ruegeria pomeroyi dss-3', 'ruegeria sp.', 'ruegeria sp. pr1b', 'ruegeria sp. r11', 'ruegeria sp. tm1040', 'sabellastarte spectabilis', 'saccharina diabolica', 'saccharina japonica', 'saccharophagus degradans', 'saccharophagus degradans 2-40', 'saccoglossus kowalevskii', 'sagittula stellata', 'sagittula stellata e-37', 'salicornia europaea', 'salinispora arenicola', 'salinispora arenicola cns-205', 'salinispora tropica', 'salinispora tropica cnb-440', 'salmo', 'salmo salar', 'salmo sp.', 'salmo trutta', 'salmon isavirus', 'salmon pancreas disease virus', 'salmonidae', 'salvelinus alpinus', 'sarcinochrysis marina', 'sardina pilchardus', 'scherffelia dubia', 'schizochytrium', 'schizochytrium aggregatum', 'schizochytrium sp.', 'schizochytrium sp. atcc 20888', 'scleractinia', 'scleronephthya gracillimum', 'scolymia cubensis', 'scomber australasicus', 'scomber japonicus', 'scomber scombrus', 'scophthalmus maximus', 'sebastes matsubarae', 'semibalanus balanoides', 'semibalanus cariosus', 'sepioteuthis lessoniana', 'seriola dumerili', 'seriola quinqueradiata', 'shewanella algae', 'shewanella baltica', 'shewanella baltica os155', 'shewanella baltica os185', 'shewanella baltica os195', 'shewanella benthica', 'shewanella benthica kt99', 'shewanella colwelliana', 'shewanella denitrificans', 'shewanella denitrificans os217', 'shewanella frigidimarina ncimb 400', 'shewanella halifaxensis haw-eb4', 'shewanella hanedai', 'shewanella japonica', 'shewanella loihica', 'shewanella loihica pv-4', 'shewanella marinintestina', 'shewanella massilia', 'shewanella olleyana', 'shewanella oneidensis', 'shewanella oneidensis mr-1', 'shewanella oneidensis mtra', 'shewanella oneidensis mtra-f', 'shewanella oneidensis mtrabc', 'shewanella oneidensis mtrb', 'shewanella oneidensis mtrc', 'shewanella oneidensis mtrd', 'shewanella oneidensis mtrdef', 'shewanella oneidensis mtre', 'shewanella oneidensis mtrf', 'shewanella oneidensis mtrfcab', 'shewanella oneidensis omca', 'shewanella pneumatophori', 'shewanella putida', 'shewanella putrefaciens', 'shewanella putrefaciens 200', 'shewanella putrefaciens cn-32', 'shewanella sediminis haw-eb3', 'shewanella sp.', 'shewanella sp. ana-3', 'shewanella sp. mr-4', 'shewanella sp. mr-7', 'shewanella sp. t3-3', 'shewanella sp. w3-18-1', 'shewanella sp. zor0012', 'shewanella violacea', 'shewanella violacea dss12', 'shewanella woodyi', 'shewanella woodyi atcc 51908', 'shewanella xiamenensis', 'siganus canaliculatus', 'sillago japonica', 'sipunculus nudus', 'skeletonema costatum', 'solea solea', 'solen strictus', 'sonneratia paracaseolaris', 'sousa chinensis', 'spadella cephaloptera', 'sparus aurata', 'sphaerechinus granularis', 'sphaeroforma arctica', 'sphingopyxis alaskensis', 'sphingopyxis alaskensis rb2256', 'sphoeroides nephelus', 'sphoeroides pachygaster', 'spisula solidissima', 'sporosarcina globispora', 'squalus acanthias', 'squatina nebulosa', 'staphylothermus hellenicus', 'staphylothermus marinus', 'staphylothermus marinus f1', 'stenella clymene', 'stenella coeruleoalba', 'stenella frontalis', 'stenella longirostris', 'steno bredanensis', 'stephanolepis cirrhifer', 'sthenoteuthis oualaniensis', 'striped jack nervous necrosis virus', 'strongylocentrotus droebachiensis', 'strongylocentrotus purpuratus', 'suberites domuncula', 'sulfitobacter', 'sulfitobacter donghicola', 'sulfitobacter indolifex', 'sulfitobacter sp.', 'sulfitobacter sp. ee-36', 'sulfitobacter sp. nas-14.1', 'sulfurimonas denitrificans', 'sulfurimonas denitrificans dsm 1251', 'sulfurimonas gotlandica', 'sulfurimonas gotlandica gd1', 'sulfurovum sp. nbc37-1', 'symbiodinium microadriaticum', 'synechococcus', 'synechococcus elongatus', 'synechococcus elongatus pcc 6301', 'synechococcus elongatus pcc 7942 = fachb-805', 'synechococcus phage s-pm2', 'synechococcus phage syn19', 'synechococcus sp rcc 307', 'synechococcus sp.', 'synechococcus sp. bl107', 'synechococcus sp. cc9311', 'synechococcus sp. cc9605', 'synechococcus sp. cc9902', \"synechococcus sp. ja-2-3b'a(2-13)\", 'synechococcus sp. ja-3-3ab', 'synechococcus sp. ma19', 'synechococcus sp. nies-970', 'synechococcus sp. pcc 6312', 'synechococcus sp. pcc 7002', 'synechococcus sp. pcc 7335', 'synechococcus sp. rcc 307', 'synechococcus sp. rcc307', 'synechococcus sp. rs9916', 'synechococcus sp. rs9917', 'synechococcus sp. wh 5701', 'synechococcus sp. wh 7803', 'synechococcus sp. wh 7805', 'synechococcus virus p60', 'tachypleus tridentatus', 'takifugu', 'takifugu alboplumbeus', 'takifugu pardalis', 'takifugu poecilonotus', 'takifugu porphyreus', 'takifugu rubripes', 'takifugu snyderi', 'takifugu xanthopterus', 'tenacibaculum', 'tenacibaculum discolor', 'tenacibaculum maritimum', 'tenacibaculum sp.', 'terebella lapidaria', 'teredinibacter', 'teredinibacter turnerae', 'teredinibacter turnerae t7901', 'teredo navalis', 'terribacillus goriensis', 'tetraclita japonica', 'tetraclitella chinensis', 'tetradesmus acuminatus', 'tetramicra brevifilum', 'tetraodon nigroviridis', 'tetraodontidae', 'tetraselmis suecica', 'tetronarce californica', 'tetronarce tokionis', 'thalassiosira', 'thalassiosira antarctica', 'thalassiosira oceanica', 'thalassiosira pseudonana', 'thalassiosira pseudonanaorganisms', 'thalassospira profundimaris', 'thermoactinomyces sp.', 'thermococcus', 'thermococcus alcaliphilus', 'thermococcus barophilus', 'thermococcus barossii', 'thermococcus celer', 'thermococcus chitonophagus', 'thermococcus gammatolerans', 'thermococcus gorgonarius', 'thermococcus guaymasensis', 'thermococcus kodakarensis', 'thermococcus kodakarensis kod1', 'thermococcus litoralis', 'thermococcus marinus', 'thermococcus nautili', 'thermococcus onnurineus', 'thermococcus onnurineus na1', 'thermococcus pacificus', 'thermococcus profundus', 'thermococcus radiotolerans', 'thermococcus siculi', 'thermococcus sp.', 'thermococcus sp. b1001', 'thermococcus sp. jcm 11816', 'thermococcus sp. jdf-3', 'thermococcus thioreducens', 'thermodesulfatator indicus', 'thermosediminibacter oceani', 'thermosipho melanesiensis', 'thermosipho melanesiensis bi429', 'thermotoga maritima', 'thermotoga maritima msb8', 'thermotoga neapolitana', 'thermotoga neapolitana dsm 4359', 'thermotoga sp.', 'thermotoga sp. rq2', 'thiocapsa roseopersicina', 'thraustochytriaceae', 'thraustochytriidae sp. wo2007068997', 'thraustochytrium', 'thraustochytrium aureum', 'thraustochytrium sp.', 'thraustochytrium sp. onc-t18', 'thraustochytrium sp. wo2007017419', 'thunnus alalunga', 'thunnus albacares', 'thunnus maccoyii', 'thunnus obesus', 'thunnus orientalis', 'thunnus thynnus', 'thunnus thynnus thynnus', 'thunnus tonggol', 'tigriopus californicus', 'tigriopus japonicus', 'tolypocladium geodes', 'trachurus japonicus', 'trachyphyllia geoffroyi', 'traustochytrium ssp.', 'triakis scyllium', 'trichechus', 'trichiurus lepturus', 'trichodesmium erythraeum', 'trichodesmium erythraeum ims101', 'trichoplax adhaerens', 'trieres chinensis', 'turbo cornutus', 'tursiops aduncus', 'tursiops truncatus', 'ulkenia sp.', 'ulkenia visurgensis', 'ulva', 'ulva compressa', 'ulva intestinalis', 'ulva pertusa', 'uncultured marine alpha proteobacterium hot2c01', 'uncultured marine bacterium 105', 'uncultured marine bacterium 106', 'uncultured marine bacterium 311', 'uncultured marine bacterium 314', 'uncultured marine bacterium 439', 'uncultured marine bacterium 440', 'uncultured marine bacterium 443', 'uncultured marine bacterium 463', 'uncultured marine bacterium 560', 'uncultured marine bacterium 561', 'uncultured marine bacterium 562', 'uncultured marine bacterium 577', 'uncultured marine bacterium 578', 'uncultured marine bacterium 580', 'uncultured marine bacterium 581', 'uncultured marine bacterium 582', 'uncultured marine bacterium 583', 'uncultured marine bacterium 66a03', 'uncultured marine gamma proteobacterium ebac20e09', 'uncultured marine group ii euryarchaeote 37f11', 'uncultured marine microorganism', 'uncultured marine proteobacterium ant8c10', 'undaria pinnatifida', 'urechis caupo', 'uronema marinum', 'urophycis tenuis', 'vargula', 'vargula hilgendorfii', 'ventiella sulfuris', 'verrucosispora sp. wo2005033114', 'vibrio', 'vibrio alginolyticus', 'vibrio anguillarum', 'vibrio antiquarius', 'vibrio atlanticus lgp32', 'vibrio campbellii', 'vibrio campbellii atcc baa-1116', 'vibrio cholerae', 'vibrio cholerae o1 biovar el tor str. n16961', 'vibrio cholerae o139', 'vibrio cholerae o395', 'vibrio cholerae v51', 'vibrio coralliilyticus', 'vibrio coralliilyticus atcc baa-450', 'vibrio diazotrophicus', 'vibrio fluvialis', 'vibrio furnissii', 'vibrio furnissii cip 102972', 'vibrio gazogenes', 'vibrio harveyi', 'vibrio ichthyoenteri', 'vibrio mediterranei', 'vibrio mimicus', 'vibrio natriegens', 'vibrio nigripulchritudo', 'vibrio pacinii', 'vibrio parahaemolyticus', 'vibrio parahaemolyticus phage vp58.5 gp40', 'vibrio parahaemolyticus rimd 2210633', 'vibrio pectenicida', 'vibrio plasmid p0908', 'vibrio proteolyticus', 'vibrio ruber', 'vibrio scophthalmi', 'vibrio shilonii ak1', 'vibrio sinaloensis', 'vibrio sp.', 'vibrio sp. and4', 'vibrio sp. ax-4', 'vibrio sp. ejy3', 'vibrio splendidus', 'vibrio splendidus 12b01', 'vibrio tubiashii', 'vibrio tubiashii atcc 19109', 'vibrio vulnificus', 'vibrio vulnificus cmcp6', 'vibrio vulnificus yj016', 'viral hemorrhagic septicemia virus', 'vulcanodinium rugosum', 'watasenia scintillans', 'white spot syndrome virus', 'woodsholea maritima', 'xenostrobus securis', 'yellowtail ascites virus', 'yersinia ruckeri', 'zalophus californianus', 'zeus faber', 'ziphius cavirostris', 'zoanthus sp.', 'zoarces elongatus', 'zoarces viviparus', 'zobellia galactanivorans', 'zostera marina', 'zunongwangia profunda sm-a87']\n"
     ]
    }
   ],
   "source": [
    "#print(sorted(df_filtered_marine.organism.value_counts().index))"
   ]
  },
  {
   "cell_type": "code",
   "execution_count": 43,
   "metadata": {},
   "outputs": [],
   "source": [
    "with open(filtered_wa_unknown_file_path, 'wb') as f:\n",
    "    pickle.dump(filtered_df_wa_unknown, f)"
   ]
  },
  {
   "cell_type": "markdown",
   "metadata": {},
   "source": [
    "# Filtered without unknown and marine"
   ]
  },
  {
   "cell_type": "code",
   "execution_count": 44,
   "metadata": {},
   "outputs": [],
   "source": [
    "filtered_df_wa_unknown_and_marine = filtered_df_wa_unknown[~filtered_df_wa_unknown[\"organism\"].isin(df_filtered_marine[\"organism\"])]"
   ]
  },
  {
   "cell_type": "code",
   "execution_count": 45,
   "metadata": {},
   "outputs": [
    {
     "data": {
      "text/plain": [
       "homo sapiens                         4308483\n",
       "mus musculus                          313591\n",
       "zea mays                              309659\n",
       "glycine max                           106775\n",
       "arabidopsis thaliana                   79807\n",
       "saccharomyces pastorianus              78785\n",
       "oryza sativa                           74393\n",
       "rattus norvegicus                      56161\n",
       "aspergillus oryzae                     53932\n",
       "escherichia coli                       49154\n",
       "saccharomyces cerevisiae               46303\n",
       "bacillus licheniformis                 45710\n",
       "staphylococcus aureus                  37917\n",
       "streptococcus agalactiae               35913\n",
       "drosophila sp. (in: insecta)           29166\n",
       "streptococcus pneumoniae               26916\n",
       "neisseria meningitidis                 25157\n",
       "actinoplanes utahensis                 24089\n",
       "artificial sequences                   22921\n",
       "streptococcus pyogenes                 22131\n",
       "corynebacterium glutamicum             20941\n",
       "nicotiana tabacum                      17931\n",
       "neisseria gonorrhoeae                  17478\n",
       "streptomyces avermitilis               15956\n",
       "oryza sativa japonica group            14158\n",
       "hydrogenobacter thermophilus tk-6      13251\n",
       "eucalyptus camaldulensis               12956\n",
       "brassica napus                         12844\n",
       "haemophilus influenzae                 12837\n",
       "oryctolagus cuniculus                  12181\n",
       "populus trichocarpa                    11917\n",
       "canis lupus familiaris                 11546\n",
       "medicago truncatula                    11171\n",
       "eucalyptus grandis                     10760\n",
       "triticum aestivum                      10189\n",
       "lawsonia intracellularis               10126\n",
       "pinus radiata                           9602\n",
       "alkalihalobacillus clausii              9427\n",
       "hordeum vulgare                         9029\n",
       "sorghum bicolor                         8886\n",
       "cricetulus griseus                      8852\n",
       "methanobrevibacter ruminantium          8244\n",
       "toxoplasma gondii                       7926\n",
       "bos taurus                              7854\n",
       "candida albicans                        7326\n",
       "cucumis sativus                         7148\n",
       "solanum lycopersicum                    6986\n",
       "manihot esculenta                       6649\n",
       "citrus sinensis                         6535\n",
       "mycobacterium tuberculosis              6512\n",
       "Name: organism, dtype: int64"
      ]
     },
     "execution_count": 45,
     "metadata": {},
     "output_type": "execute_result"
    }
   ],
   "source": [
    "filtered_df_wa_unknown_and_marine.organism.value_counts()[:50]"
   ]
  },
  {
   "cell_type": "code",
   "execution_count": 46,
   "metadata": {},
   "outputs": [],
   "source": [
    "with open(filtered_wa_unknown_and_marine_file_path, 'wb') as f:\n",
    "    pickle.dump(filtered_df_wa_unknown_and_marine, f)"
   ]
  },
  {
   "cell_type": "code",
   "execution_count": 47,
   "metadata": {},
   "outputs": [
    {
     "data": {
      "text/html": [
       "<div>\n",
       "<style scoped>\n",
       "    .dataframe tbody tr th:only-of-type {\n",
       "        vertical-align: middle;\n",
       "    }\n",
       "\n",
       "    .dataframe tbody tr th {\n",
       "        vertical-align: top;\n",
       "    }\n",
       "\n",
       "    .dataframe thead th {\n",
       "        text-align: right;\n",
       "    }\n",
       "</style>\n",
       "<table border=\"1\" class=\"dataframe\">\n",
       "  <thead>\n",
       "    <tr style=\"text-align: right;\">\n",
       "      <th></th>\n",
       "      <th>id</th>\n",
       "      <th>locus</th>\n",
       "      <th>organism</th>\n",
       "      <th>definition</th>\n",
       "      <th>journal</th>\n",
       "      <th>filename</th>\n",
       "      <th>origin</th>\n",
       "      <th>valid_sequence</th>\n",
       "      <th>year</th>\n",
       "      <th>patent</th>\n",
       "      <th>company</th>\n",
       "      <th>seq_len</th>\n",
       "    </tr>\n",
       "  </thead>\n",
       "  <tbody>\n",
       "    <tr>\n",
       "      <th>8347890</th>\n",
       "      <td>8347891</td>\n",
       "      <td>LOCUS       JC783824                 364 bp   ...</td>\n",
       "      <td>zea mays</td>\n",
       "      <td>DEFINITION  Sequence 34199 from Patent WO20140...</td>\n",
       "      <td>JOURNAL   Patent: WO 2014036048-A1 34199 06-MA...</td>\n",
       "      <td>gbpat137.seq.gz</td>\n",
       "      <td>gtgaaatctatgcatattcgccacttgccacttttcttcttgacca...</td>\n",
       "      <td>1.0</td>\n",
       "      <td>2014</td>\n",
       "      <td>Patent: WO</td>\n",
       "      <td>DU PONTa [US]</td>\n",
       "      <td>364</td>\n",
       "    </tr>\n",
       "    <tr>\n",
       "      <th>7644730</th>\n",
       "      <td>7644731</td>\n",
       "      <td>LOCUS       JB730716                  94 bp   ...</td>\n",
       "      <td>homo sapiens</td>\n",
       "      <td>DEFINITION  Sequence 119 from Patent WO2013082...</td>\n",
       "      <td>JOURNAL   Patent: WO 2013082448-A1 119 06-JUN-...</td>\n",
       "      <td>gbpat134.seq.gz</td>\n",
       "      <td>aggatctgcgcacaaagctcctgagcctgaagctgtcccatacccg...</td>\n",
       "      <td>1.0</td>\n",
       "      <td>2013</td>\n",
       "      <td>Patent: WO</td>\n",
       "      <td>UNIV KANSAS [US], WEINER CARL PHILIP [US], DON...</td>\n",
       "      <td>94</td>\n",
       "    </tr>\n",
       "    <tr>\n",
       "      <th>14042729</th>\n",
       "      <td>14042730</td>\n",
       "      <td>LOCUS       DD035485                2070 bp   ...</td>\n",
       "      <td>homo sapiens</td>\n",
       "      <td>DEFINITION  Full length cDNA.</td>\n",
       "      <td>JOURNAL   Patent: JP 2004222720-A 1215 12-AUG-...</td>\n",
       "      <td>gbpat16.seq.gz</td>\n",
       "      <td>agcctgtggaactatgagccaattcaacctcttttcttcataaatt...</td>\n",
       "      <td>1.0</td>\n",
       "      <td>2004</td>\n",
       "      <td>Patent: JP</td>\n",
       "      <td>Research Association for Biotechnology</td>\n",
       "      <td>2070</td>\n",
       "    </tr>\n",
       "    <tr>\n",
       "      <th>14757710</th>\n",
       "      <td>14757711</td>\n",
       "      <td>LOCUS       LQ741374                 321 bp   ...</td>\n",
       "      <td>homo sapiens</td>\n",
       "      <td>DEFINITION  Sequence 47 from Patent WO2018083248.</td>\n",
       "      <td>JOURNAL   Patent: WO 2018083248-A1 47 11-MAY-2...</td>\n",
       "      <td>gbpat161.seq.gz</td>\n",
       "      <td>gacatccagatgacccagtctccatcctccctgtctgcatctgtag...</td>\n",
       "      <td>1.0</td>\n",
       "      <td>2018</td>\n",
       "      <td>Patent: WO</td>\n",
       "      <td>KYMAB LTD [GB]</td>\n",
       "      <td>321</td>\n",
       "    </tr>\n",
       "    <tr>\n",
       "      <th>14076770</th>\n",
       "      <td>14076771</td>\n",
       "      <td>LOCUS       DD069526                2895 bp   ...</td>\n",
       "      <td>chlamydia trachomatis</td>\n",
       "      <td>DEFINITION  VACCINE COMPOSITION.</td>\n",
       "      <td>JOURNAL   Patent: JP 2004527480-A 7 09-SEP-200...</td>\n",
       "      <td>gbpat16.seq.gz</td>\n",
       "      <td>atgaaaaaagcgtttttctttttccttatcggaaactccctatcag...</td>\n",
       "      <td>1.0</td>\n",
       "      <td>2004</td>\n",
       "      <td>Patent: JP</td>\n",
       "      <td>GLAXOSMITHKLINE BIOLOGICALS S A</td>\n",
       "      <td>2895</td>\n",
       "    </tr>\n",
       "    <tr>\n",
       "      <th>51357351</th>\n",
       "      <td>51357352</td>\n",
       "      <td>LOCUS       BD475816                  60 bp   ...</td>\n",
       "      <td>homo sapiens</td>\n",
       "      <td>DEFINITION  OLIGONUCLEOTIDE LIBRARY FOR DETECT...</td>\n",
       "      <td>JOURNAL   Patent: JP 2004508019-A 14938 18-MAR...</td>\n",
       "      <td>gbpat9.seq.gz</td>\n",
       "      <td>gagcaagagcttcatgacatccactctactcgctccaaagagcggc...</td>\n",
       "      <td>1.0</td>\n",
       "      <td>2004</td>\n",
       "      <td>Patent: JP</td>\n",
       "      <td>Avi SHOSHAN,Alon WASSERMAN,Eli MINTZ,Liat MINT...</td>\n",
       "      <td>60</td>\n",
       "    </tr>\n",
       "    <tr>\n",
       "      <th>53675986</th>\n",
       "      <td>53675987</td>\n",
       "      <td>LOCUS       HI531903                 566 bp   ...</td>\n",
       "      <td>glycine max</td>\n",
       "      <td>DEFINITION  Sequence 2875 from Patent EP2148885.</td>\n",
       "      <td>JOURNAL   Patent: EP 2148885-A2 2875 03-FEB-20...</td>\n",
       "      <td>gbpat96.seq.gz</td>\n",
       "      <td>atggactaaagtttccaagggtaagcatatatagaggtcaccctgt...</td>\n",
       "      <td>1.0</td>\n",
       "      <td>2010</td>\n",
       "      <td>Patent: EP</td>\n",
       "      <td>MONSANTO TECHNOLOGY LLC [US]</td>\n",
       "      <td>566</td>\n",
       "    </tr>\n",
       "    <tr>\n",
       "      <th>14064504</th>\n",
       "      <td>14064505</td>\n",
       "      <td>LOCUS       DD057260                 315 bp   ...</td>\n",
       "      <td>rattus</td>\n",
       "      <td>DEFINITION  Feeding-regulating agent.</td>\n",
       "      <td>JOURNAL   Patent: WO 2004084945-A 11 07-OCT-20...</td>\n",
       "      <td>gbpat16.seq.gz</td>\n",
       "      <td>atgagaggtgctgtgcaagtcttcatcatgctccttctagcaactg...</td>\n",
       "      <td>1.0</td>\n",
       "      <td>2004</td>\n",
       "      <td>Patent: WO</td>\n",
       "      <td>Takeda Chemical Industries Ltd</td>\n",
       "      <td>315</td>\n",
       "    </tr>\n",
       "    <tr>\n",
       "      <th>36403587</th>\n",
       "      <td>36403588</td>\n",
       "      <td>LOCUS       FU299285                1338 bp   ...</td>\n",
       "      <td>homo sapiens</td>\n",
       "      <td>DEFINITION  Transcriptome Microarray Technolog...</td>\n",
       "      <td>JOURNAL   Patent: JP 2008518610-A 27228 05-JUN...</td>\n",
       "      <td>gbpat36.seq.gz</td>\n",
       "      <td>aaattgaagcaaatcaacagcaaatacagcaggattcagggaggct...</td>\n",
       "      <td>1.0</td>\n",
       "      <td>2008</td>\n",
       "      <td>Patent: JP</td>\n",
       "      <td>Arradx Limited</td>\n",
       "      <td>1338</td>\n",
       "    </tr>\n",
       "    <tr>\n",
       "      <th>36536495</th>\n",
       "      <td>36536496</td>\n",
       "      <td>LOCUS       FU432193                1000 bp   ...</td>\n",
       "      <td>homo sapiens</td>\n",
       "      <td>DEFINITION  Transcriptome Microarray Technolog...</td>\n",
       "      <td>JOURNAL   Patent: JP 2008518610-A 160136 05-JU...</td>\n",
       "      <td>gbpat37.seq.gz</td>\n",
       "      <td>ttttttttttttttttttgaggccagactatttattacaacctact...</td>\n",
       "      <td>1.0</td>\n",
       "      <td>2008</td>\n",
       "      <td>Patent: JP</td>\n",
       "      <td>Arradx Limited</td>\n",
       "      <td>1000</td>\n",
       "    </tr>\n",
       "  </tbody>\n",
       "</table>\n",
       "</div>"
      ],
      "text/plain": [
       "                id                                              locus  \\\n",
       "8347890    8347891  LOCUS       JC783824                 364 bp   ...   \n",
       "7644730    7644731  LOCUS       JB730716                  94 bp   ...   \n",
       "14042729  14042730  LOCUS       DD035485                2070 bp   ...   \n",
       "14757710  14757711  LOCUS       LQ741374                 321 bp   ...   \n",
       "14076770  14076771  LOCUS       DD069526                2895 bp   ...   \n",
       "51357351  51357352  LOCUS       BD475816                  60 bp   ...   \n",
       "53675986  53675987  LOCUS       HI531903                 566 bp   ...   \n",
       "14064504  14064505  LOCUS       DD057260                 315 bp   ...   \n",
       "36403587  36403588  LOCUS       FU299285                1338 bp   ...   \n",
       "36536495  36536496  LOCUS       FU432193                1000 bp   ...   \n",
       "\n",
       "                       organism  \\\n",
       "8347890                zea mays   \n",
       "7644730            homo sapiens   \n",
       "14042729           homo sapiens   \n",
       "14757710           homo sapiens   \n",
       "14076770  chlamydia trachomatis   \n",
       "51357351           homo sapiens   \n",
       "53675986            glycine max   \n",
       "14064504                 rattus   \n",
       "36403587           homo sapiens   \n",
       "36536495           homo sapiens   \n",
       "\n",
       "                                                 definition  \\\n",
       "8347890   DEFINITION  Sequence 34199 from Patent WO20140...   \n",
       "7644730   DEFINITION  Sequence 119 from Patent WO2013082...   \n",
       "14042729                      DEFINITION  Full length cDNA.   \n",
       "14757710  DEFINITION  Sequence 47 from Patent WO2018083248.   \n",
       "14076770                   DEFINITION  VACCINE COMPOSITION.   \n",
       "51357351  DEFINITION  OLIGONUCLEOTIDE LIBRARY FOR DETECT...   \n",
       "53675986   DEFINITION  Sequence 2875 from Patent EP2148885.   \n",
       "14064504              DEFINITION  Feeding-regulating agent.   \n",
       "36403587  DEFINITION  Transcriptome Microarray Technolog...   \n",
       "36536495  DEFINITION  Transcriptome Microarray Technolog...   \n",
       "\n",
       "                                                    journal         filename  \\\n",
       "8347890   JOURNAL   Patent: WO 2014036048-A1 34199 06-MA...  gbpat137.seq.gz   \n",
       "7644730   JOURNAL   Patent: WO 2013082448-A1 119 06-JUN-...  gbpat134.seq.gz   \n",
       "14042729  JOURNAL   Patent: JP 2004222720-A 1215 12-AUG-...   gbpat16.seq.gz   \n",
       "14757710  JOURNAL   Patent: WO 2018083248-A1 47 11-MAY-2...  gbpat161.seq.gz   \n",
       "14076770  JOURNAL   Patent: JP 2004527480-A 7 09-SEP-200...   gbpat16.seq.gz   \n",
       "51357351  JOURNAL   Patent: JP 2004508019-A 14938 18-MAR...    gbpat9.seq.gz   \n",
       "53675986  JOURNAL   Patent: EP 2148885-A2 2875 03-FEB-20...   gbpat96.seq.gz   \n",
       "14064504  JOURNAL   Patent: WO 2004084945-A 11 07-OCT-20...   gbpat16.seq.gz   \n",
       "36403587  JOURNAL   Patent: JP 2008518610-A 27228 05-JUN...   gbpat36.seq.gz   \n",
       "36536495  JOURNAL   Patent: JP 2008518610-A 160136 05-JU...   gbpat37.seq.gz   \n",
       "\n",
       "                                                     origin  valid_sequence  \\\n",
       "8347890   gtgaaatctatgcatattcgccacttgccacttttcttcttgacca...             1.0   \n",
       "7644730   aggatctgcgcacaaagctcctgagcctgaagctgtcccatacccg...             1.0   \n",
       "14042729  agcctgtggaactatgagccaattcaacctcttttcttcataaatt...             1.0   \n",
       "14757710  gacatccagatgacccagtctccatcctccctgtctgcatctgtag...             1.0   \n",
       "14076770  atgaaaaaagcgtttttctttttccttatcggaaactccctatcag...             1.0   \n",
       "51357351  gagcaagagcttcatgacatccactctactcgctccaaagagcggc...             1.0   \n",
       "53675986  atggactaaagtttccaagggtaagcatatatagaggtcaccctgt...             1.0   \n",
       "14064504  atgagaggtgctgtgcaagtcttcatcatgctccttctagcaactg...             1.0   \n",
       "36403587  aaattgaagcaaatcaacagcaaatacagcaggattcagggaggct...             1.0   \n",
       "36536495  ttttttttttttttttttgaggccagactatttattacaacctact...             1.0   \n",
       "\n",
       "          year      patent                                            company  \\\n",
       "8347890   2014  Patent: WO                                      DU PONTa [US]   \n",
       "7644730   2013  Patent: WO  UNIV KANSAS [US], WEINER CARL PHILIP [US], DON...   \n",
       "14042729  2004  Patent: JP             Research Association for Biotechnology   \n",
       "14757710  2018  Patent: WO                                     KYMAB LTD [GB]   \n",
       "14076770  2004  Patent: JP                    GLAXOSMITHKLINE BIOLOGICALS S A   \n",
       "51357351  2004  Patent: JP  Avi SHOSHAN,Alon WASSERMAN,Eli MINTZ,Liat MINT...   \n",
       "53675986  2010  Patent: EP                       MONSANTO TECHNOLOGY LLC [US]   \n",
       "14064504  2004  Patent: WO                     Takeda Chemical Industries Ltd   \n",
       "36403587  2008  Patent: JP                                     Arradx Limited   \n",
       "36536495  2008  Patent: JP                                     Arradx Limited   \n",
       "\n",
       "          seq_len  \n",
       "8347890       364  \n",
       "7644730        94  \n",
       "14042729     2070  \n",
       "14757710      321  \n",
       "14076770     2895  \n",
       "51357351       60  \n",
       "53675986      566  \n",
       "14064504      315  \n",
       "36403587     1338  \n",
       "36536495     1000  "
      ]
     },
     "execution_count": 47,
     "metadata": {},
     "output_type": "execute_result"
    }
   ],
   "source": [
    "filtered_df_wa_unknown_and_marine.sample(10)"
   ]
  },
  {
   "cell_type": "code",
   "execution_count": null,
   "metadata": {},
   "outputs": [],
   "source": [
    "#check that marine species are not present"
   ]
  },
  {
   "cell_type": "code",
   "execution_count": null,
   "metadata": {},
   "outputs": [],
   "source": [
    "#import fuzzy\n",
    "#soundex = fuzzy.Soundex(4)"
   ]
  },
  {
   "cell_type": "markdown",
   "metadata": {},
   "source": [
    "# Misc (playing around)"
   ]
  },
  {
   "cell_type": "markdown",
   "metadata": {},
   "source": [
    "### Filter for duplicates"
   ]
  },
  {
   "cell_type": "code",
   "execution_count": 144,
   "metadata": {},
   "outputs": [],
   "source": [
    "ids = filtered_df[\"origin\"]\n",
    "df_duplicates = filtered_df[ids.isin(ids[ids.duplicated()])]"
   ]
  },
  {
   "cell_type": "code",
   "execution_count": 145,
   "metadata": {},
   "outputs": [
    {
     "data": {
      "text/html": [
       "<div>\n",
       "<style scoped>\n",
       "    .dataframe tbody tr th:only-of-type {\n",
       "        vertical-align: middle;\n",
       "    }\n",
       "\n",
       "    .dataframe tbody tr th {\n",
       "        vertical-align: top;\n",
       "    }\n",
       "\n",
       "    .dataframe thead th {\n",
       "        text-align: right;\n",
       "    }\n",
       "</style>\n",
       "<table border=\"1\" class=\"dataframe\">\n",
       "  <thead>\n",
       "    <tr style=\"text-align: right;\">\n",
       "      <th></th>\n",
       "      <th>id</th>\n",
       "      <th>locus</th>\n",
       "      <th>organism</th>\n",
       "      <th>definition</th>\n",
       "      <th>journal</th>\n",
       "      <th>filename</th>\n",
       "      <th>origin</th>\n",
       "      <th>valid_sequence</th>\n",
       "      <th>year</th>\n",
       "      <th>patent</th>\n",
       "      <th>company</th>\n",
       "      <th>seq_len</th>\n",
       "    </tr>\n",
       "  </thead>\n",
       "  <tbody>\n",
       "    <tr>\n",
       "      <th>25115066</th>\n",
       "      <td>25115067</td>\n",
       "      <td>LOCUS       MM220554                  31 bp    DNA     linear   PAT 07-DEC-2018</td>\n",
       "      <td>unknown.</td>\n",
       "      <td>DEFINITION  Sequence 831 from patent US 10131958.</td>\n",
       "      <td>JOURNAL   Patent: US 10131958-B1 831 20-NOV-2018;\\n            Cellular Research, Inc.; Menlo Park, CA</td>\n",
       "      <td>gbpat211.seq.gz</td>\n",
       "      <td>aaaaaaaaaaaaaaaaaaaaaaaaaaaaaaa</td>\n",
       "      <td>1.0</td>\n",
       "      <td>2018</td>\n",
       "      <td>Patent: US</td>\n",
       "      <td>Cellular Research, Inc.; Menlo Park, CA</td>\n",
       "      <td>31</td>\n",
       "    </tr>\n",
       "    <tr>\n",
       "      <th>27144366</th>\n",
       "      <td>27144367</td>\n",
       "      <td>LOCUS       MP244173                  31 bp    DNA     linear   PAT 14-SEP-2019</td>\n",
       "      <td>synthetic construct</td>\n",
       "      <td>DEFINITION  Sequence 831 from Patent EP3480321.</td>\n",
       "      <td>JOURNAL   Patent: EP 3480321-A1 831 08-MAY-2019;\\n            BECTON DICKINSON CO [US]</td>\n",
       "      <td>gbpat221.seq.gz</td>\n",
       "      <td>aaaaaaaaaaaaaaaaaaaaaaaaaaaaaaa</td>\n",
       "      <td>1.0</td>\n",
       "      <td>2019</td>\n",
       "      <td>Patent: EP</td>\n",
       "      <td>BECTON DICKINSON CO [US]</td>\n",
       "      <td>31</td>\n",
       "    </tr>\n",
       "    <tr>\n",
       "      <th>11354717</th>\n",
       "      <td>11354718</td>\n",
       "      <td>LOCUS       KH548805                  31 bp    DNA     linear   PAT 13-OCT-2017</td>\n",
       "      <td>unknown.</td>\n",
       "      <td>DEFINITION  Sequence 831 from patent US 9567646.</td>\n",
       "      <td>JOURNAL   Patent: US 9567646-B2 831 14-FEB-2017;\\n            Cellular Research, Inc.; Menlo Park, CA</td>\n",
       "      <td>gbpat144.seq.gz</td>\n",
       "      <td>aaaaaaaaaaaaaaaaaaaaaaaaaaaaaaa</td>\n",
       "      <td>1.0</td>\n",
       "      <td>2017</td>\n",
       "      <td>Patent: US</td>\n",
       "      <td>Cellular Research, Inc.; Menlo Park, CA</td>\n",
       "      <td>31</td>\n",
       "    </tr>\n",
       "    <tr>\n",
       "      <th>11353874</th>\n",
       "      <td>11353875</td>\n",
       "      <td>LOCUS       KH547962                  31 bp    DNA     linear   PAT 13-OCT-2017</td>\n",
       "      <td>unknown.</td>\n",
       "      <td>DEFINITION  Sequence 831 from patent US 9567645.</td>\n",
       "      <td>JOURNAL   Patent: US 9567645-B2 831 14-FEB-2017;\\n            Cellular Research, Inc.; Menlo Park, CA</td>\n",
       "      <td>gbpat144.seq.gz</td>\n",
       "      <td>aaaaaaaaaaaaaaaaaaaaaaaaaaaaaaa</td>\n",
       "      <td>1.0</td>\n",
       "      <td>2017</td>\n",
       "      <td>Patent: US</td>\n",
       "      <td>Cellular Research, Inc.; Menlo Park, CA</td>\n",
       "      <td>31</td>\n",
       "    </tr>\n",
       "    <tr>\n",
       "      <th>12808037</th>\n",
       "      <td>12808038</td>\n",
       "      <td>LOCUS       LF943618                  31 bp    DNA     linear   PAT 28-FEB-2017</td>\n",
       "      <td>synthetic construct</td>\n",
       "      <td>DEFINITION  JP 2016533187-A/831: MASSIVELY PARALLEL SINGLE CELL ANALYSIS.</td>\n",
       "      <td>JOURNAL   Patent: JP 2016533187-A 831 27-OCT-2016;\\n            CELLULAR RESEARCH INC\\nCOMMENT     OS   Artificial Sequence\\n            PN   JP 2016533187-A/831\\n            PD   27-OCT-2016\\n            PF   28-AUG-2014 JP 2016537867\\n            PR   13-JUN-2014 US 62/012237           ,28-AUG-2013 US 61/871232\\n            PR           ,\\n            PR   12-MAR-2014 US 61/952036\\n            PA   CELLULAR RESEARCH INC\\n            PI   christina fan,stephen p a fodor,glenn k fu,julie wilhelmy,\\n            PI   geoffrey richard facer\\n            PT   'MASSIVELY PARALLEL SINGLE CELL ANALYSIS'\\n            PS   N831\\n            CC   This description about &lt;220&gt; can't be interpreted\\n            CC   &lt;220&gt;\\n            CC   &lt;221&gt; source\\n            CC   &lt;223&gt; /note='Description of Artificial Sequence: Synthetic\\n            CC   oligonucleotide'\\n            FH   Key             Location/Qualifiers.</td>\n",
       "      <td>gbpat156.seq.gz</td>\n",
       "      <td>aaaaaaaaaaaaaaaaaaaaaaaaaaaaaaa</td>\n",
       "      <td>1.0</td>\n",
       "      <td>2016</td>\n",
       "      <td>Patent: JP</td>\n",
       "      <td>CELLULAR RESEARCH INC</td>\n",
       "      <td>31</td>\n",
       "    </tr>\n",
       "    <tr>\n",
       "      <th>...</th>\n",
       "      <td>...</td>\n",
       "      <td>...</td>\n",
       "      <td>...</td>\n",
       "      <td>...</td>\n",
       "      <td>...</td>\n",
       "      <td>...</td>\n",
       "      <td>...</td>\n",
       "      <td>...</td>\n",
       "      <td>...</td>\n",
       "      <td>...</td>\n",
       "      <td>...</td>\n",
       "      <td>...</td>\n",
       "    </tr>\n",
       "    <tr>\n",
       "      <th>14604431</th>\n",
       "      <td>14604432</td>\n",
       "      <td>LOCUS       LQ422954                5000 bp    DNA     linear   PAT 06-OCT-2016</td>\n",
       "      <td>synthetic construct</td>\n",
       "      <td>DEFINITION  Sequence 32 from Patent WO2016109410.</td>\n",
       "      <td>JOURNAL   Patent: WO 2016109410-A2 32 07-JUL-2016;\\n            NOVARTIS AG [CH], UNIV PENNSYLVANIA [US], BEDOYA FELIPE [US],\\n            GHASSEMI SABA [US], JUNE CARL H [US], LEVINE BRUCE L [US],\\n            MELENHORST JAN J [US], MILONE MICHAEL C [US], POWELL DANIEL J JR\\n            [US], ZHENG ZOE [US]</td>\n",
       "      <td>gbpat161.seq.gz</td>\n",
       "      <td>tttttttttttttttttttttttttttttttttttttttttttttttttttttttttttttttttttttttttttttttttttttttttttttttttttttttttttttttttttttttttttttttttttttttttttttttttttttttttttttttttttttttttttttttttttttttttttttttttttttttttttttttttttttttttttttttttttttttttttttttttttttttttttttttttttttttttttttttttttttttttttttttttttttttttttttttttttttttttttttttttttttttttttttttttttttttttttttttttttttttttttttttttttttttttttttttttttttttttttttttttttttttttttttttttttttttttttttttttttttttttttttttttttttttttttttttttttttttttttttttttttttttttttttttttttttttttttttttttttttttttttttttttttttttttttttttttttttttttttttttttttttttttttttttttttttttttttttttttttttttttttttttttttttttttttttttttttttttttttttttttttttttttttttttttttttttttttttttttttttttttttttttttttttttttttttttttttttttttttttttttttttttttttttttttttttttttttttttttttttttttttttttttttttttttttttttttttttttttttttttttttttttttttttttttttttttttttttttttttttttttttttttttttttttttttttttttttttttttttttttttttttttttttttttttttttttttttttttttttttttttttttttttttttttttttttttttttttttttttttttttttttttttttttttttttttttttttttttttttttttttttttttttttttttttttttttttttttttttttttttttttttttttttttttttttttttttttttttttttttttttttttttttttttttttttttttttttttttttttttttttttttttttttttttttttttttttttttttttttttttttttttttttttttttttttttttttttttttttttttttttttttttttttttttttttttttttttttttttttttttttttttttttttttttttttttttttttttttttttttttttttttttttttttttttttttttttttttttttttttttttttttttttttttttttttttttttttttttttttttttttttttttttttttttttttttttttttttttttttttttttttttttttttttttttttttttttttttttttttttttttttttttttttttttttttttttttttttttttttttttttttttttttttttttttttttttttttttttttttttttttttttttttttttttttttttttttttttttttttttttttttttttttttttttttttttttttttttttttttttttttttttttttttttttttttttttttttttttttttttttttttttttttttttttttttttttttttttttttttttttttttttttttttttttttttttttttttttttttttttttttttttttttttttttttttttttttttttttttttttttttttttttttttttttttttttttttttttttttttttttttttttttttttttttttttttttttttttttttttttttttttttttttttttttttttttttttttttttttttttttttttttttttttttttttttttttttttttttttttttttttttttttttttttttttttttttttttttttttttttttttttttttttttttttttttttttttttttttttttttttttttttttttttttttttttttttttttttttttttttttttttttttttttttttttttttttttttttttttttttttttttttttttttttttttttttttttttttttttttttttttttttttttttttttttttttttttttttttttttttttttttttttttttttttttttttttttttttttttttttttttttttttttttttttttttttttttttttttttttttttttttttttttttttttttttttttttttttttttttttttttttttttttttttttttttttttttttttttttttttttttttttttttttttttttttttttttttttttttttttttttttttttttttttttttttttttttttttttttttttttttttttttttttttttttttttttttttttttttttttttttttttttttttttttttttttttttttttttttttttttttttttttttttttttttttttttttttttttttttttttttttttttttttttttttttttttttttttttttttttttttttttttttttttttttttttttttttttttttttttttttttttttttttttttttttttttttttttttttttttttttttttttttttttttttttttttttttttttttttttttttttttttttttttttttttttttttttttttttttttttttttttttttttttttttttttttttttttttttttttttttttttttttttttttttttttttttttttttttttttttttttttttttttttttttttttttttttttttttttttttttttttttttttttttttttttttttttttttttttttttttttttttttttttttttttttttttttttttttttttttttttttttttttttttttttttttttttttttttttttttttttttttttttttttttttttttttttttttttttttttttttttttttttttttttttttttttttttttttttttttttttttttttttttttttttttttttttttttttttttttttttttttttttttttttttttttttttttttttttttttttttttttttttttttttttttttttttttttttttttttttttttttttttttttttttttttttttttttttttttttttttttttttttttttttttttttttttttttttttttttttttttttttttttttttttttttttttttttttttttttttttttttttttttttttttttttttttttttttttttttttttttttttttttttttttttttttttttttttttttttttttttttttttttttttttttttttttttttttttttttttttttttttttttttttttttttttttttttttttttttttttttttttttttttttttttttttttttttttttttttttttttttttttttttttttttttttttttttttttttttttttttttttttttttttttttttttttttttttttttttttttttttttttttttttttttttttttttttttttttttttttttttttttttttttttttttttttttttttttttttttttttttttttttttttttttttttttttttttttttttttttttttttttttttttttttttttttttttttttttttttttttttttttttttttttttttttttttttttttttttttttttttttttttttttttttttttttttttttttttttttttttttttttttttttttttttttttttttttttttttttttttttttttttttttttttttttttttttttttttttttttttttttttttttttttttttttttttttttttttttttttttttttttttttttttttttttttttttttttttttttttttttttttttttttttttttttttttttttttttttttttttttttttttttttttttttttttttttttttttttttttttttttttttttttttttttttttttttttttttttttttttttttttttttttttttttttttttttttttttttttttttttttttttttttttttttttttttttttttttttttttttttttttttttttttttttttttttttttttttttttttttttttttttttttttttttttttttttttttttttttttttttttttttttttttttttttttttttttttttttttttttttttttttttttttttttttttttttttttttttttttttttttttttttttttttttttttttttttttttttttttttttttttttttttttttttttttttttttttttttttttttttttttttttttttttttttttttttttttttttttttttttttttttttttttttttttttttttttttttttttttttttttttttttttttttttttttttttttttttttttttttttttttttttttttttttttttttttttttttttttttttttttttttttttttttttttttttttttttttttttttttttttttttttttttttttttttttttttttttttttttttttttttttttttttttttttttttttttttttttttttttttttttttttttttttttttttttttttttttttttttttttttttttttttttttttttttttttttttttttttttttttttttttttttttttttttttttttttttttttttttttttttttttttttttttttttttttttttttttttttttttttttttttttttttttttttttttttttttttttttttttttttttttttttttttttttttttttttttttttttttttttttttttttttttttttttttttttttttttttttttttttttttttttttttttttttttttttttttttttt</td>\n",
       "      <td>1.0</td>\n",
       "      <td>2016</td>\n",
       "      <td>Patent: WO</td>\n",
       "      <td>NOVARTIS AG [CH], UNIV PENNSYLVANIA [US], BEDOYA FELIPE [US], GHASSEMI SABA [US], JUNE CARL H [US], LEVINE BRUCE L [US], MELENHORST JAN J [US], MILONE MICHAEL C [US], POWELL DANIEL J JR [US], ZHENG ZOE [US]</td>\n",
       "      <td>5000</td>\n",
       "    </tr>\n",
       "    <tr>\n",
       "      <th>14209036</th>\n",
       "      <td>14209037</td>\n",
       "      <td>LOCUS       LP754112                5000 bp    DNA     linear   PAT 29-APR-2018</td>\n",
       "      <td>synthetic construct</td>\n",
       "      <td>DEFINITION  Sequence 55 from Patent WO2018026953.</td>\n",
       "      <td>JOURNAL   Patent: WO 2018026953-A1 55 08-FEB-2018;\\n            TCR2 THERAPEUTICS INC [US]</td>\n",
       "      <td>gbpat160.seq.gz</td>\n",
       "      <td>tttttttttttttttttttttttttttttttttttttttttttttttttttttttttttttttttttttttttttttttttttttttttttttttttttttttttttttttttttttttttttttttttttttttttttttttttttttttttttttttttttttttttttttttttttttttttttttttttttttttttttttttttttttttttttttttttttttttttttttttttttttttttttttttttttttttttttttttttttttttttttttttttttttttttttttttttttttttttttttttttttttttttttttttttttttttttttttttttttttttttttttttttttttttttttttttttttttttttttttttttttttttttttttttttttttttttttttttttttttttttttttttttttttttttttttttttttttttttttttttttttttttttttttttttttttttttttttttttttttttttttttttttttttttttttttttttttttttttttttttttttttttttttttttttttttttttttttttttttttttttttttttttttttttttttttttttttttttttttttttttttttttttttttttttttttttttttttttttttttttttttttttttttttttttttttttttttttttttttttttttttttttttttttttttttttttttttttttttttttttttttttttttttttttttttttttttttttttttttttttttttttttttttttttttttttttttttttttttttttttttttttttttttttttttttttttttttttttttttttttttttttttttttttttttttttttttttttttttttttttttttttttttttttttttttttttttttttttttttttttttttttttttttttttttttttttttttttttttttttttttttttttttttttttttttttttttttttttttttttttttttttttttttttttttttttttttttttttttttttttttttttttttttttttttttttttttttttttttttttttttttttttttttttttttttttttttttttttttttttttttttttttttttttttttttttttttttttttttttttttttttttttttttttttttttttttttttttttttttttttttttttttttttttttttttttttttttttttttttttttttttttttttttttttttttttttttttttttttttttttttttttttttttttttttttttttttttttttttttttttttttttttttttttttttttttttttttttttttttttttttttttttttttttttttttttttttttttttttttttttttttttttttttttttttttttttttttttttttttttttttttttttttttttttttttttttttttttttttttttttttttttttttttttttttttttttttttttttttttttttttttttttttttttttttttttttttttttttttttttttttttttttttttttttttttttttttttttttttttttttttttttttttttttttttttttttttttttttttttttttttttttttttttttttttttttttttttttttttttttttttttttttttttttttttttttttttttttttttttttttttttttttttttttttttttttttttttttttttttttttttttttttttttttttttttttttttttttttttttttttttttttttttttttttttttttttttttttttttttttttttttttttttttttttttttttttttttttttttttttttttttttttttttttttttttttttttttttttttttttttttttttttttttttttttttttttttttttttttttttttttttttttttttttttttttttttttttttttttttttttttttttttttttttttttttttttttttttttttttttttttttttttttttttttttttttttttttttttttttttttttttttttttttttttttttttttttttttttttttttttttttttttttttttttttttttttttttttttttttttttttttttttttttttttttttttttttttttttttttttttttttttttttttttttttttttttttttttttttttttttttttttttttttttttttttttttttttttttttttttttttttttttttttttttttttttttttttttttttttttttttttttttttttttttttttttttttttttttttttttttttttttttttttttttttttttttttttttttttttttttttttttttttttttttttttttttttttttttttttttttttttttttttttttttttttttttttttttttttttttttttttttttttttttttttttttttttttttttttttttttttttttttttttttttttttttttttttttttttttttttttttttttttttttttttttttttttttttttttttttttttttttttttttttttttttttttttttttttttttttttttttttttttttttttttttttttttttttttttttttttttttttttttttttttttttttttttttttttttttttttttttttttttttttttttttttttttttttttttttttttttttttttttttttttttttttttttttttttttttttttttttttttttttttttttttttttttttttttttttttttttttttttttttttttttttttttttttttttttttttttttttttttttttttttttttttttttttttttttttttttttttttttttttttttttttttttttttttttttttttttttttttttttttttttttttttttttttttttttttttttttttttttttttttttttttttttttttttttttttttttttttttttttttttttttttttttttttttttttttttttttttttttttttttttttttttttttttttttttttttttttttttttttttttttttttttttttttttttttttttttttttttttttttttttttttttttttttttttttttttttttttttttttttttttttttttttttttttttttttttttttttttttttttttttttttttttttttttttttttttttttttttttttttttttttttttttttttttttttttttttttttttttttttttttttttttttttttttttttttttttttttttttttttttttttttttttttttttttttttttttttttttttttttttttttttttttttttttttttttttttttttttttttttttttttttttttttttttttttttttttttttttttttttttttttttttttttttttttttttttttttttttttttttttttttttttttttttttttttttttttttttttttttttttttttttttttttttttttttttttttttttttttttttttttttttttttttttttttttttttttttttttttttttttttttttttttttttttttttttttttttttttttttttttttttttttttttttttttttttttttttttttttttttttttttttttttttttttttttttttttttttttttttttttttttttttttttttttttttttttttttttttttttttttttttttttttttttttttttttttttttttttttttttttttttttttttttttttttttttttttttttttttttttttttttttttttttttttttttttttttttttttttttttttttttttttttttttttttttttttttttttttttttttttttttttttttttttttttttttttttttttttttttttttttttttttttttttttttttttttttttttttttttttttttttttttttttttttttttttttttttttttttttttttttttttttttttttttttttttttttttttttttttttttttttttttttttttttttttttttttttttttttttttttttttttttttttttttttttttttttttttttttttttttttttttttttttttttttttttttttttttttttttttttttttttttttttttttttttttttttttttttttttttttttttttttttttttttttttttttttttttttttttttttttttttttttttttttttttttttttttttttttttttttttttttttttttttttttttttttttttttttttttttttttttttttttttttttttttttttttttttttttttttttttttttttttttttttttttttttttttttttttttttttttttttttttttttttttttttttttttttttttttttttttttttttttttttttttttttttttttttttttttttttttttttttttttttttttttttttttttttttttttttttttttttttttttttttttttttttttttttttttttttttttttttttttttttttttttttttttttttttttttttttttttttttttttttttttttttttttttttttttttttttttttttttttttttttttttttttttttttttttttttttttttttttttttttttttttttttttttttttttttttttttttttttttttttttttttttttttttttttttttttttttttttttttttttttttttttttttttttttttttttttttttttttttttttttttttttttttttttttttttttttttttttttttttttttttttttttttt</td>\n",
       "      <td>1.0</td>\n",
       "      <td>2018</td>\n",
       "      <td>Patent: WO</td>\n",
       "      <td>TCR2 THERAPEUTICS INC [US]</td>\n",
       "      <td>5000</td>\n",
       "    </tr>\n",
       "    <tr>\n",
       "      <th>23702512</th>\n",
       "      <td>23702513</td>\n",
       "      <td>LOCUS       MI097677                5000 bp    DNA     linear   PAT 12-FEB-2018</td>\n",
       "      <td>unknown.</td>\n",
       "      <td>DEFINITION  Sequence 32 from patent US 9777061.</td>\n",
       "      <td>JOURNAL   Patent: US 9777061-B2 32 03-OCT-2017;\\n            Novartis AG and The Trustees of the University of Pennsylvania;\\n            Basel;\\n            CH;</td>\n",
       "      <td>gbpat207.seq.gz</td>\n",
       "      <td>tttttttttttttttttttttttttttttttttttttttttttttttttttttttttttttttttttttttttttttttttttttttttttttttttttttttttttttttttttttttttttttttttttttttttttttttttttttttttttttttttttttttttttttttttttttttttttttttttttttttttttttttttttttttttttttttttttttttttttttttttttttttttttttttttttttttttttttttttttttttttttttttttttttttttttttttttttttttttttttttttttttttttttttttttttttttttttttttttttttttttttttttttttttttttttttttttttttttttttttttttttttttttttttttttttttttttttttttttttttttttttttttttttttttttttttttttttttttttttttttttttttttttttttttttttttttttttttttttttttttttttttttttttttttttttttttttttttttttttttttttttttttttttttttttttttttttttttttttttttttttttttttttttttttttttttttttttttttttttttttttttttttttttttttttttttttttttttttttttttttttttttttttttttttttttttttttttttttttttttttttttttttttttttttttttttttttttttttttttttttttttttttttttttttttttttttttttttttttttttttttttttttttttttttttttttttttttttttttttttttttttttttttttttttttttttttttttttttttttttttttttttttttttttttttttttttttttttttttttttttttttttttttttttttttttttttttttttttttttttttttttttttttttttttttttttttttttttttttttttttttttttttttttttttttttttttttttttttttttttttttttttttttttttttttttttttttttttttttttttttttttttttttttttttttttttttttttttttttttttttttttttttttttttttttttttttttttttttttttttttttttttttttttttttttttttttttttttttttttttttttttttttttttttttttttttttttttttttttttttttttttttttttttttttttttttttttttttttttttttttttttttttttttttttttttttttttttttttttttttttttttttttttttttttttttttttttttttttttttttttttttttttttttttttttttttttttttttttttttttttttttttttttttttttttttttttttttttttttttttttttttttttttttttttttttttttttttttttttttttttttttttttttttttttttttttttttttttttttttttttttttttttttttttttttttttttttttttttttttttttttttttttttttttttttttttttttttttttttttttttttttttttttttttttttttttttttttttttttttttttttttttttttttttttttttttttttttttttttttttttttttttttttttttttttttttttttttttttttttttttttttttttttttttttttttttttttttttttttttttttttttttttttttttttttttttttttttttttttttttttttttttttttttttttttttttttttttttttttttttttttttttttttttttttttttttttttttttttttttttttttttttttttttttttttttttttttttttttttttttttttttttttttttttttttttttttttttttttttttttttttttttttttttttttttttttttttttttttttttttttttttttttttttttttttttttttttttttttttttttttttttttttttttttttttttttttttttttttttttttttttttttttttttttttttttttttttttttttttttttttttttttttttttttttttttttttttttttttttttttttttttttttttttttttttttttttttttttttttttttttttttttttttttttttttttttttttttttttttttttttttttttttttttttttttttttttttttttttttttttttttttttttttttttttttttttttttttttttttttttttttttttttttttttttttttttttttttttttttttttttttttttttttttttttttttttttttttttttttttttttttttttttttttttttttttttttttttttttttttttttttttttttttttttttttttttttttttttttttttttttttttttttttttttttttttttttttttttttttttttttttttttttttttttttttttttttttttttttttttttttttttttttttttttttttttttttttttttttttttttttttttttttttttttttttttttttttttttttttttttttttttttttttttttttttttttttttttttttttttttttttttttttttttttttttttttttttttttttttttttttttttttttttttttttttttttttttttttttttttttttttttttttttttttttttttttttttttttttttttttttttttttttttttttttttttttttttttttttttttttttttttttttttttttttttttttttttttttttttttttttttttttttttttttttttttttttttttttttttttttttttttttttttttttttttttttttttttttttttttttttttttttttttttttttttttttttttttttttttttttttttttttttttttttttttttttttttttttttttttttttttttttttttttttttttttttttttttttttttttttttttttttttttttttttttttttttttttttttttttttttttttttttttttttttttttttttttttttttttttttttttttttttttttttttttttttttttttttttttttttttttttttttttttttttttttttttttttttttttttttttttttttttttttttttttttttttttttttttttttttttttttttttttttttttttttttttttttttttttttttttttttttttttttttttttttttttttttttttttttttttttttttttttttttttttttttttttttttttttttttttttttttttttttttttttttttttttttttttttttttttttttttttttttttttttttttttttttttttttttttttttttttttttttttttttttttttttttttttttttttttttttttttttttttttttttttttttttttttttttttttttttttttttttttttttttttttttttttttttttttttttttttttttttttttttttttttttttttttttttttttttttttttttttttttttttttttttttttttttttttttttttttttttttttttttttttttttttttttttttttttttttttttttttttttttttttttttttttttttttttttttttttttttttttttttttttttttttttttttttttttttttttttttttttttttttttttttttttttttttttttttttttttttttttttttttttttttttttttttttttttttttttttttttttttttttttttttttttttttttttttttttttttttttttttttttttttttttttttttttttttttttttttttttttttttttttttttttttttttttttttttttttttttttttttttttttttttttttttttttttttttttttttttttttttttttttttttttttttttttttttttttttttttttttttttttttttttttttttttttttttttttttttttttttttttttttttttttttttttttttttttttttttttttttttttttttttttttttttttttttttttttttttttttttttttttttttttttttttttttttttttttttttttttttttttttttttttttttttttttttttttttttttttttttttttttttttttttttttttttttttttttttttttttttttttttttttttttttttttttttttttttttttttttttttttttttttttttttttttttttttttttttttttttttttttttttttttttttttttttttttttttttttttttttttttttttttttttttttttttttttttttttttttttttttttttttttttttttttttttttttttttttttttttttttttttttttttttttttttttttttttttttttttttttttttttttttttttttttttttttttttttttttttttttttttttttttttttttttttttttttttttttttttttttttttttttttttttttttttttttttttttttttttttttttttttttttttttttttttttttttttttttttttttttttttttttttttttttttttttttttttttttttttttttttttttttttttttttttttttttttttttttttttttttttttttttttttttttttttttttttttttttttttttttttttttttttttttttttttttttttttttttttttttttttttttttttttttttttttttttttttttttttttttttttttttttttttttttttttttttttttttttttttttttttttttttttttttttttttttttttt</td>\n",
       "      <td>1.0</td>\n",
       "      <td>2017</td>\n",
       "      <td>Patent: US</td>\n",
       "      <td>Novartis AG and The Trustees of the University of Pennsylvania; Basel; CH;</td>\n",
       "      <td>5000</td>\n",
       "    </tr>\n",
       "    <tr>\n",
       "      <th>20565302</th>\n",
       "      <td>20565303</td>\n",
       "      <td>LOCUS       MC007582                5016 bp    DNA     linear   PAT 29-MAY-2020</td>\n",
       "      <td>synthetic construct</td>\n",
       "      <td>DEFINITION  JP 2020500530-A/726: SYNTHETIC IMMUNE RECEPTORS AND METHODS OF USE</td>\n",
       "      <td>JOURNAL   Patent: JP 2020500530-A 726 16-JAN-2020;\\n            University of Southern California\\nCOMMENT     OS   Artificial Sequence\\n            PN   JP 2020500530-A/726\\n            PD   16-JAN-2020\\n            PF   02-DEC-2017 JP 2019529518\\n            PR   02-DEC-2016 US 62/429597           ,02-DEC-2016 US 62/429619\\n            PA   University of Southern California\\n            PI   preet m chaudhary\\n            PT   'SYNTHETIC IMMUNE RECEPTORS AND METHODS OF USE THEREOF'\\n            PS   N862\\n            CC   Synthetic polynucleotide. This sequence may encompass\\n            CC   100-5,000\\n            CC   nucleotides, wherein some positions may be absent.\\n            FH   Key             Location/Qualifiers.</td>\n",
       "      <td>gbpat194.seq.gz</td>\n",
       "      <td>tttttttttttttttttttttttttttttttttttttttttttttttttttttttttttttttttttttttttttttttttttttttttttttttttttttttttttttttttttttttttttttttttttttttttttttttttttttttttttttttttttttttttttttttttttttttttttttttttttttttttttttttttttttttttttttttttttttttttttttttttttttttttttttttttttttttttttttttttttttttttttttttttttttttttttttttttttttttttttttttttttttttttttttttttttttttttttttttttttttttttttttttttttttttttttttttttttttttttttttttttttttttttttttttttttttttttttttttttttttttttttttttttttttttttttttttttttttttttttttttttttttttttttttttttttttttttttttttttttttttttttttttttttttttttttttttttttttttttttttttttttttttttttttttttttttttttttttttttttttttttttttttttttttttttttttttttttttttttttttttttttttttttttttttttttttttttttttttttttttttttttttttttttttttttttttttttttttttttttttttttttttttttttttttttttttttttttttttttttttttttttttttttttttttttttttttttttttttttttttttttttttttttttttttttttttttttttttttttttttttttttttttttttttttttttttttttttttttttttttttttttttttttttttttttttttttttttttttttttttttttttttttttttttttttttttttttttttttttttttttttttttttttttttttttttttttttttttttttttttttttttttttttttttttttttttttttttttttttttttttttttttttttttttttttttttttttttttttttttttttttttttttttttttttttttttttttttttttttttttttttttttttttttttttttttttttttttttttttttttttttttttttttttttttttttttttttttttttttttttttttttttttttttttttttttttttttttttttttttttttttttttttttttttttttttttttttttttttttttttttttttttttttttttttttttttttttttttttttttttttttttttttttttttttttttttttttttttttttttttttttttttttttttttttttttttttttttttttttttttttttttttttttttttttttttttttttttttttttttttttttttttttttttttttttttttttttttttttttttttttttttttttttttttttttttttttttttttttttttttttttttttttttttttttttttttttttttttttttttttttttttttttttttttttttttttttttttttttttttttttttttttttttttttttttttttttttttttttttttttttttttttttttttttttttttttttttttttttttttttttttttttttttttttttttttttttttttttttttttttttttttttttttttttttttttttttttttttttttttttttttttttttttttttttttttttttttttttttttttttttttttttttttttttttttttttttttttttttttttttttttttttttttttttttttttttttttttttttttttttttttttttttttttttttttttttttttttttttttttttttttttttttttttttttttttttttttttttttttttttttttttttttttttttttttttttttttttttttttttttttttttttttttttttttttttttttttttttttttttttttttttttttttttttttttttttttttttttttttttttttttttttttttttttttttttttttttttttttttttttttttttttttttttttttttttttttttttttttttttttttttttttttttttttttttttttttttttttttttttttttttttttttttttttttttttttttttttttttttttttttttttttttttttttttttttttttttttttttttttttttttttttttttttttttttttttttttttttttttttttttttttttttttttttttttttttttttttttttttttttttttttttttttttttttttttttttttttttttttttttttttttttttttttttttttttttttttttttttttttttttttttttttttttttttttttttttttttttttttttttttttttttttttttttttttttttttttttttttttttttttttttttttttttttttttttttttttttttttttttttttttttttttttttttttttttttttttttttttttttttttttttttttttttttttttttttttttttttttttttttttttttttttttttttttttttttttttttttttttttttttttttttttttttttttttttttttttttttttttttttttttttttttttttttttttttttttttttttttttttttttttttttttttttttttttttttttttttttttttttttttttttttttttttttttttttttttttttttttttttttttttttttttttttttttttttttttttttttttttttttttttttttttttttttttttttttttttttttttttttttttttttttttttttttttttttttttttttttttttttttttttttttttttttttttttttttttttttttttttttttttttttttttttttttttttttttttttttttttttttttttttttttttttttttttttttttttttttttttttttttttttttttttttttttttttttttttttttttttttttttttttttttttttttttttttttttttttttttttttttttttttttttttttttttttttttttttttttttttttttttttttttttttttttttttttttttttttttttttttttttttttttttttttttttttttttttttttttttttttttttttttttttttttttttttttttttttttttttttttttttttttttttttttttttttttttttttttttttttttttttttttttttttttttttttttttttttttttttttttttttttttttttttttttttttttttttttttttttttttttttttttttttttttttttttttttttttttttttttttttttttttttttttttttttttttttttttttttttttttttttttttttttttttttttttttttttttttttttttttttttttttttttttttttttttttttttttttttttttttttttttttttttttttttttttttttttttttttttttttttttttttttttttttttttttttttttttttttttttttttttttttttttttttttttttttttttttttttttttttttttttttttttttttttttttttttttttttttttttttttttttttttttttttttttttttttttttttttttttttttttttttttttttttttttttttttttttttttttttttttttttttttttttttttttttttttttttttttttttttttttttttttttttttttttttttttttttttttttttttttttttttttttttttttttttttttttttttttttttttttttttttttttttttttttttttttttttttttttttttttttttttttttttttttttttttttttttttttttttttttttttttttttttttttttttttttttttttttttttttttttttttttttttttttttttttttttttttttttttttttttttttttttttttttttttttttttttttttttttttttttttttttttttttttttttttttttttttttttttttttttttttttttttttttttttttttttttttttttttttttttttttttttttttttttttttttttttttttttttttttttttttttttttttttttttttttttttttttttttttttttttttttttttttttttttttttttttttttttttttttttttttttttttttttttttttttttttttttttttttttttttttttttttttttttttttttttttttttttttttttttttttttttttttttttttttttttttttttttttttttttttttttttttttttttttttttttttttttttttttttttttttttttttttttttttttttttttttttttttttttttttttttttttttttttttttttttttttttttttttttttttttttttttttttttttttttttttttttttttttttttttttttttttttttttttttttttttttttttttttttttttttttttttttttttttttttttttttttttttttttttttttttttttttttttttttttttttttttttttttttttttttttttttttttttttttttttttttttttttttttttttttttttttttttttttttttttttttttttttttttttttttttttttttttttttttttttttttttttttttttttttttttttttttttttttttttttttttttttttttttttttttttttttttttttttttttttttttttttttttttttttttttttttttttttttttttttttttttttttttttttttttttttttttttttttt</td>\n",
       "      <td>1.0</td>\n",
       "      <td>2020</td>\n",
       "      <td>Patent: JP</td>\n",
       "      <td>University of Southern California</td>\n",
       "      <td>5016</td>\n",
       "    </tr>\n",
       "    <tr>\n",
       "      <th>33944451</th>\n",
       "      <td>33944452</td>\n",
       "      <td>LOCUS       PA344211                5016 bp    DNA     linear   PAT 28-JAN-2022</td>\n",
       "      <td>synthetic construct</td>\n",
       "      <td>DEFINITION  JP 2021525509-A/121: DIVERSE ANTIGEN BINDING DOMAINS, NOVEL</td>\n",
       "      <td>JOURNAL   Patent: JP 2021525509-A 121 27-SEP-2021;\\n            University of Southern California,Preet M Chaudhary\\nCOMMENT     OS   Artificial Sequence\\n            PN   JP 2021525509-A/121\\n            PD   27-SEP-2021\\n            PF   01-JUN-2019 JP 2020566230\\n            PR   01-JUN-2018 US 62/679741\\n            PA   University of Southern California,Preet M Chaudhary\\n            PI   preet m chaudhary\\n            PT   'DIVERSE ANTIGEN BINDING DOMAINS, NOVEL PLATFORMS AND OTHER\\n            PT   ENHANCEMENTS\\n            PT   FOR CELLULAR THERAPY'\\n            PS   N121\\n            CC   Synthetic Polynucleotide\\n            FH   Key             Location/Qualifiers.</td>\n",
       "      <td>gbpat247.seq.gz</td>\n",
       "      <td>tttttttttttttttttttttttttttttttttttttttttttttttttttttttttttttttttttttttttttttttttttttttttttttttttttttttttttttttttttttttttttttttttttttttttttttttttttttttttttttttttttttttttttttttttttttttttttttttttttttttttttttttttttttttttttttttttttttttttttttttttttttttttttttttttttttttttttttttttttttttttttttttttttttttttttttttttttttttttttttttttttttttttttttttttttttttttttttttttttttttttttttttttttttttttttttttttttttttttttttttttttttttttttttttttttttttttttttttttttttttttttttttttttttttttttttttttttttttttttttttttttttttttttttttttttttttttttttttttttttttttttttttttttttttttttttttttttttttttttttttttttttttttttttttttttttttttttttttttttttttttttttttttttttttttttttttttttttttttttttttttttttttttttttttttttttttttttttttttttttttttttttttttttttttttttttttttttttttttttttttttttttttttttttttttttttttttttttttttttttttttttttttttttttttttttttttttttttttttttttttttttttttttttttttttttttttttttttttttttttttttttttttttttttttttttttttttttttttttttttttttttttttttttttttttttttttttttttttttttttttttttttttttttttttttttttttttttttttttttttttttttttttttttttttttttttttttttttttttttttttttttttttttttttttttttttttttttttttttttttttttttttttttttttttttttttttttttttttttttttttttttttttttttttttttttttttttttttttttttttttttttttttttttttttttttttttttttttttttttttttttttttttttttttttttttttttttttttttttttttttttttttttttttttttttttttttttttttttttttttttttttttttttttttttttttttttttttttttttttttttttttttttttttttttttttttttttttttttttttttttttttttttttttttttttttttttttttttttttttttttttttttttttttttttttttttttttttttttttttttttttttttttttttttttttttttttttttttttttttttttttttttttttttttttttttttttttttttttttttttttttttttttttttttttttttttttttttttttttttttttttttttttttttttttttttttttttttttttttttttttttttttttttttttttttttttttttttttttttttttttttttttttttttttttttttttttttttttttttttttttttttttttttttttttttttttttttttttttttttttttttttttttttttttttttttttttttttttttttttttttttttttttttttttttttttttttttttttttttttttttttttttttttttttttttttttttttttttttttttttttttttttttttttttttttttttttttttttttttttttttttttttttttttttttttttttttttttttttttttttttttttttttttttttttttttttttttttttttttttttttttttttttttttttttttttttttttttttttttttttttttttttttttttttttttttttttttttttttttttttttttttttttttttttttttttttttttttttttttttttttttttttttttttttttttttttttttttttttttttttttttttttttttttttttttttttttttttttttttttttttttttttttttttttttttttttttttttttttttttttttttttttttttttttttttttttttttttttttttttttttttttttttttttttttttttttttttttttttttttttttttttttttttttttttttttttttttttttttttttttttttttttttttttttttttttttttttttttttttttttttttttttttttttttttttttttttttttttttttttttttttttttttttttttttttttttttttttttttttttttttttttttttttttttttttttttttttttttttttttttttttttttttttttttttttttttttttttttttttttttttttttttttttttttttttttttttttttttttttttttttttttttttttttttttttttttttttttttttttttttttttttttttttttttttttttttttttttttttttttttttttttttttttttttttttttttttttttttttttttttttttttttttttttttttttttttttttttttttttttttttttttttttttttttttttttttttttttttttttttttttttttttttttttttttttttttttttttttttttttttttttttttttttttttttttttttttttttttttttttttttttttttttttttttttttttttttttttttttttttttttttttttttttttttttttttttttttttttttttttttttttttttttttttttttttttttttttttttttttttttttttttttttttttttttttttttttttttttttttttttttttttttttttttttttttttttttttttttttttttttttttttttttttttttttttttttttttttttttttttttttttttttttttttttttttttttttttttttttttttttttttttttttttttttttttttttttttttttttttttttttttttttttttttttttttttttttttttttttttttttttttttttttttttttttttttttttttttttttttttttttttttttttttttttttttttttttttttttttttttttttttttttttttttttttttttttttttttttttttttttttttttttttttttttttttttttttttttttttttttttttttttttttttttttttttttttttttttttttttttttttttttttttttttttttttttttttttttttttttttttttttttttttttttttttttttttttttttttttttttttttttttttttttttttttttttttttttttttttttttttttttttttttttttttttttttttttttttttttttttttttttttttttttttttttttttttttttttttttttttttttttttttttttttttttttttttttttttttttttttttttttttttttttttttttttttttttttttttttttttttttttttttttttttttttttttttttttttttttttttttttttttttttttttttttttttttttttttttttttttttttttttttttttttttttttttttttttttttttttttttttttttttttttttttttttttttttttttttttttttttttttttttttttttttttttttttttttttttttttttttttttttttttttttttttttttttttttttttttttttttttttttttttttttttttttttttttttttttttttttttttttttttttttttttttttttttttttttttttttttttttttttttttttttttttttttttttttttttttttttttttttttttttttttttttttttttttttttttttttttttttttttttttttttttttttttttttttttttttttttttttttttttttttttttttttttttttttttttttttttttttttttttttttttttttttttttttttttttttttttttttttttttttttttttttttttttttttttttttttttttttttttttttttttttttttttttttttttttttttttttttttttttttttttttttttttttttttttttttttttttttttttttttttttttttttttttttttttttttttttttttttttttttttttttttttttttttttttttttttttttttttttttttttttttttttttttttttttttttttttttttttttttttttttttttttttttttttttttttttttttttttttttttttttttttttttttttttttttttttttttttttttttttttttttttttttttttttttttttttttttttttttttttttttttttttttttttttttttttttttttttttttttttttttttttttttttttttttttttttttttttttttttttttttttttttttttttttttttttttttttttttttttttttttttttttttttttttttttttttttttttttttttttttttttttttttttttttttttttttttttttttttttttttttttttttttttttttttttttttttttttttttttttttttttttttttttttttttttttttttttttttttttttttttttttttttttttttttttttttttttttttttttttttttttttttttttttttttttttttttttttttttttttttttttttttttttttttttttttttttttttttttttttttttttttttttttttttttttttttttttttttttttttttttttttttttttttttttttttttttttttttttttttttttttttt</td>\n",
       "      <td>1.0</td>\n",
       "      <td>2021</td>\n",
       "      <td>Patent: JP</td>\n",
       "      <td>University of Southern California,Preet M Chaudhary</td>\n",
       "      <td>5016</td>\n",
       "    </tr>\n",
       "  </tbody>\n",
       "</table>\n",
       "<p>15455611 rows × 12 columns</p>\n",
       "</div>"
      ],
      "text/plain": [
       "                id                                                                            locus             organism                                                                      definition  \\\n",
       "25115066  25115067  LOCUS       MM220554                  31 bp    DNA     linear   PAT 07-DEC-2018  unknown.             DEFINITION  Sequence 831 from patent US 10131958.                                \n",
       "27144366  27144367  LOCUS       MP244173                  31 bp    DNA     linear   PAT 14-SEP-2019  synthetic construct  DEFINITION  Sequence 831 from Patent EP3480321.                                  \n",
       "11354717  11354718  LOCUS       KH548805                  31 bp    DNA     linear   PAT 13-OCT-2017  unknown.             DEFINITION  Sequence 831 from patent US 9567646.                                 \n",
       "11353874  11353875  LOCUS       KH547962                  31 bp    DNA     linear   PAT 13-OCT-2017  unknown.             DEFINITION  Sequence 831 from patent US 9567645.                                 \n",
       "12808037  12808038  LOCUS       LF943618                  31 bp    DNA     linear   PAT 28-FEB-2017  synthetic construct  DEFINITION  JP 2016533187-A/831: MASSIVELY PARALLEL SINGLE CELL ANALYSIS.        \n",
       "...            ...                                                                              ...                  ...                                                                        ...        \n",
       "14604431  14604432  LOCUS       LQ422954                5000 bp    DNA     linear   PAT 06-OCT-2016  synthetic construct  DEFINITION  Sequence 32 from Patent WO2016109410.                                \n",
       "14209036  14209037  LOCUS       LP754112                5000 bp    DNA     linear   PAT 29-APR-2018  synthetic construct  DEFINITION  Sequence 55 from Patent WO2018026953.                                \n",
       "23702512  23702513  LOCUS       MI097677                5000 bp    DNA     linear   PAT 12-FEB-2018  unknown.             DEFINITION  Sequence 32 from patent US 9777061.                                  \n",
       "20565302  20565303  LOCUS       MC007582                5016 bp    DNA     linear   PAT 29-MAY-2020  synthetic construct  DEFINITION  JP 2020500530-A/726: SYNTHETIC IMMUNE RECEPTORS AND METHODS OF USE   \n",
       "33944451  33944452  LOCUS       PA344211                5016 bp    DNA     linear   PAT 28-JAN-2022  synthetic construct  DEFINITION  JP 2021525509-A/121: DIVERSE ANTIGEN BINDING DOMAINS, NOVEL          \n",
       "\n",
       "                                                                                                                                                                                                                                                                                                                                                                                                                                                                                                                                                                                                                                                                                                                                                                                                                                                                                                                                                       journal         filename  \\\n",
       "25115066  JOURNAL   Patent: US 10131958-B1 831 20-NOV-2018;\\n            Cellular Research, Inc.; Menlo Park, CA                                                                                                                                                                                                                                                                                                                                                                                                                                                                                                                                                                                                                                                                                                                                                                                                                                                gbpat211.seq.gz   \n",
       "27144366  JOURNAL   Patent: EP 3480321-A1 831 08-MAY-2019;\\n            BECTON DICKINSON CO [US]                                                                                                                                                                                                                                                                                                                                                                                                                                                                                                                                                                                                                                                                                                                                                                                                                                                                gbpat221.seq.gz   \n",
       "11354717  JOURNAL   Patent: US 9567646-B2 831 14-FEB-2017;\\n            Cellular Research, Inc.; Menlo Park, CA                                                                                                                                                                                                                                                                                                                                                                                                                                                                                                                                                                                                                                                                                                                                                                                                                                                 gbpat144.seq.gz   \n",
       "11353874  JOURNAL   Patent: US 9567645-B2 831 14-FEB-2017;\\n            Cellular Research, Inc.; Menlo Park, CA                                                                                                                                                                                                                                                                                                                                                                                                                                                                                                                                                                                                                                                                                                                                                                                                                                                 gbpat144.seq.gz   \n",
       "12808037  JOURNAL   Patent: JP 2016533187-A 831 27-OCT-2016;\\n            CELLULAR RESEARCH INC\\nCOMMENT     OS   Artificial Sequence\\n            PN   JP 2016533187-A/831\\n            PD   27-OCT-2016\\n            PF   28-AUG-2014 JP 2016537867\\n            PR   13-JUN-2014 US 62/012237           ,28-AUG-2013 US 61/871232\\n            PR           ,\\n            PR   12-MAR-2014 US 61/952036\\n            PA   CELLULAR RESEARCH INC\\n            PI   christina fan,stephen p a fodor,glenn k fu,julie wilhelmy,\\n            PI   geoffrey richard facer\\n            PT   'MASSIVELY PARALLEL SINGLE CELL ANALYSIS'\\n            PS   N831\\n            CC   This description about <220> can't be interpreted\\n            CC   <220>\\n            CC   <221> source\\n            CC   <223> /note='Description of Artificial Sequence: Synthetic\\n            CC   oligonucleotide'\\n            FH   Key             Location/Qualifiers.  gbpat156.seq.gz   \n",
       "...                                                                                                                                                                                                                                                                                                                                                                                                                                                                                                                                                                                                                                                                                                                                                                                                                                                                                                                                                        ...              ...   \n",
       "14604431  JOURNAL   Patent: WO 2016109410-A2 32 07-JUL-2016;\\n            NOVARTIS AG [CH], UNIV PENNSYLVANIA [US], BEDOYA FELIPE [US],\\n            GHASSEMI SABA [US], JUNE CARL H [US], LEVINE BRUCE L [US],\\n            MELENHORST JAN J [US], MILONE MICHAEL C [US], POWELL DANIEL J JR\\n            [US], ZHENG ZOE [US]                                                                                                                                                                                                                                                                                                                                                                                                                                                                                                                                                                                                                                 gbpat161.seq.gz   \n",
       "14209036  JOURNAL   Patent: WO 2018026953-A1 55 08-FEB-2018;\\n            TCR2 THERAPEUTICS INC [US]                                                                                                                                                                                                                                                                                                                                                                                                                                                                                                                                                                                                                                                                                                                                                                                                                                                            gbpat160.seq.gz   \n",
       "23702512  JOURNAL   Patent: US 9777061-B2 32 03-OCT-2017;\\n            Novartis AG and The Trustees of the University of Pennsylvania;\\n            Basel;\\n            CH;                                                                                                                                                                                                                                                                                                                                                                                                                                                                                                                                                                                                                                                                                                                                                                                     gbpat207.seq.gz   \n",
       "20565302  JOURNAL   Patent: JP 2020500530-A 726 16-JAN-2020;\\n            University of Southern California\\nCOMMENT     OS   Artificial Sequence\\n            PN   JP 2020500530-A/726\\n            PD   16-JAN-2020\\n            PF   02-DEC-2017 JP 2019529518\\n            PR   02-DEC-2016 US 62/429597           ,02-DEC-2016 US 62/429619\\n            PA   University of Southern California\\n            PI   preet m chaudhary\\n            PT   'SYNTHETIC IMMUNE RECEPTORS AND METHODS OF USE THEREOF'\\n            PS   N862\\n            CC   Synthetic polynucleotide. This sequence may encompass\\n            CC   100-5,000\\n            CC   nucleotides, wherein some positions may be absent.\\n            FH   Key             Location/Qualifiers.                                                                                                                                                                                       gbpat194.seq.gz   \n",
       "33944451  JOURNAL   Patent: JP 2021525509-A 121 27-SEP-2021;\\n            University of Southern California,Preet M Chaudhary\\nCOMMENT     OS   Artificial Sequence\\n            PN   JP 2021525509-A/121\\n            PD   27-SEP-2021\\n            PF   01-JUN-2019 JP 2020566230\\n            PR   01-JUN-2018 US 62/679741\\n            PA   University of Southern California,Preet M Chaudhary\\n            PI   preet m chaudhary\\n            PT   'DIVERSE ANTIGEN BINDING DOMAINS, NOVEL PLATFORMS AND OTHER\\n            PT   ENHANCEMENTS\\n            PT   FOR CELLULAR THERAPY'\\n            PS   N121\\n            CC   Synthetic Polynucleotide\\n            FH   Key             Location/Qualifiers.                                                                                                                                                                                                                                          gbpat247.seq.gz   \n",
       "\n",
       "                                                                                                                                                                                                                                                                                                                                                                                                                                                                                                                                                                                                                                                                                                                                                                                                                                                                                                                                                                                                                                                                                                                                                                                                                                                                                                                                                                                                                                                                                                                                                                                                                                                                                                                                                                                                                                                                                                                                                                                                                                                                                                                                                                                                                                                                                                                                                                                                                                                                                                                                                                                                                                                                                                                                                                                                                                                                                                                                                                                                                                                                                                                                                                                                                                                                                                                                                                                                                                                                                                                                                                                                                                                                                                                                                                                                                                                                                                                                                                                                                                                                                                                                                                                                                                                                                                                                                                                                                                                                                                                                                                                                                                                                                                                                                                                                                                                                                                                                                                                                                                                                                                                                                                                                                            origin  \\\n",
       "25115066  aaaaaaaaaaaaaaaaaaaaaaaaaaaaaaa                                                                                                                                                                                                                                                                                                                                                                                                                                                                                                                                                                                                                                                                                                                                                                                                                                                                                                                                                                                                                                                                                                                                                                                                                                                                                                                                                                                                                                                                                                                                                                                                                                                                                                                                                                                                                                                                                                                                                                                                                                                                                                                                                                                                                                                                                                                                                                                                                                                                                                                                                                                                                                                                                                                                                                                                                                                                                                                                                                                                                                                                                                                                                                                                                                                                                                                                                                                                                                                                                                                                                                                                                                                                                                                                                                                                                                                                                                                                                                                                                                                                                                                                                                                                                                                                                                                                                                                                                                                                                                                                                                                                                                                                                                                                                                                                                                                                                                                                                                                                                                                                                                                                                                                            \n",
       "27144366  aaaaaaaaaaaaaaaaaaaaaaaaaaaaaaa                                                                                                                                                                                                                                                                                                                                                                                                                                                                                                                                                                                                                                                                                                                                                                                                                                                                                                                                                                                                                                                                                                                                                                                                                                                                                                                                                                                                                                                                                                                                                                                                                                                                                                                                                                                                                                                                                                                                                                                                                                                                                                                                                                                                                                                                                                                                                                                                                                                                                                                                                                                                                                                                                                                                                                                                                                                                                                                                                                                                                                                                                                                                                                                                                                                                                                                                                                                                                                                                                                                                                                                                                                                                                                                                                                                                                                                                                                                                                                                                                                                                                                                                                                                                                                                                                                                                                                                                                                                                                                                                                                                                                                                                                                                                                                                                                                                                                                                                                                                                                                                                                                                                                                                            \n",
       "11354717  aaaaaaaaaaaaaaaaaaaaaaaaaaaaaaa                                                                                                                                                                                                                                                                                                                                                                                                                                                                                                                                                                                                                                                                                                                                                                                                                                                                                                                                                                                                                                                                                                                                                                                                                                                                                                                                                                                                                                                                                                                                                                                                                                                                                                                                                                                                                                                                                                                                                                                                                                                                                                                                                                                                                                                                                                                                                                                                                                                                                                                                                                                                                                                                                                                                                                                                                                                                                                                                                                                                                                                                                                                                                                                                                                                                                                                                                                                                                                                                                                                                                                                                                                                                                                                                                                                                                                                                                                                                                                                                                                                                                                                                                                                                                                                                                                                                                                                                                                                                                                                                                                                                                                                                                                                                                                                                                                                                                                                                                                                                                                                                                                                                                                                            \n",
       "11353874  aaaaaaaaaaaaaaaaaaaaaaaaaaaaaaa                                                                                                                                                                                                                                                                                                                                                                                                                                                                                                                                                                                                                                                                                                                                                                                                                                                                                                                                                                                                                                                                                                                                                                                                                                                                                                                                                                                                                                                                                                                                                                                                                                                                                                                                                                                                                                                                                                                                                                                                                                                                                                                                                                                                                                                                                                                                                                                                                                                                                                                                                                                                                                                                                                                                                                                                                                                                                                                                                                                                                                                                                                                                                                                                                                                                                                                                                                                                                                                                                                                                                                                                                                                                                                                                                                                                                                                                                                                                                                                                                                                                                                                                                                                                                                                                                                                                                                                                                                                                                                                                                                                                                                                                                                                                                                                                                                                                                                                                                                                                                                                                                                                                                                                            \n",
       "12808037  aaaaaaaaaaaaaaaaaaaaaaaaaaaaaaa                                                                                                                                                                                                                                                                                                                                                                                                                                                                                                                                                                                                                                                                                                                                                                                                                                                                                                                                                                                                                                                                                                                                                                                                                                                                                                                                                                                                                                                                                                                                                                                                                                                                                                                                                                                                                                                                                                                                                                                                                                                                                                                                                                                                                                                                                                                                                                                                                                                                                                                                                                                                                                                                                                                                                                                                                                                                                                                                                                                                                                                                                                                                                                                                                                                                                                                                                                                                                                                                                                                                                                                                                                                                                                                                                                                                                                                                                                                                                                                                                                                                                                                                                                                                                                                                                                                                                                                                                                                                                                                                                                                                                                                                                                                                                                                                                                                                                                                                                                                                                                                                                                                                                                                            \n",
       "...                                   ...                                                                                                                                                                                                                                                                                                                                                                                                                                                                                                                                                                                                                                                                                                                                                                                                                                                                                                                                                                                                                                                                                                                                                                                                                                                                                                                                                                                                                                                                                                                                                                                                                                                                                                                                                                                                                                                                                                                                                                                                                                                                                                                                                                                                                                                                                                                                                                                                                                                                                                                                                                                                                                                                                                                                                                                                                                                                                                                                                                                                                                                                                                                                                                                                                                                                                                                                                                                                                                                                                                                                                                                                                                                                                                                                                                                                                                                                                                                                                                                                                                                                                                                                                                                                                                                                                                                                                                                                                                                                                                                                                                                                                                                                                                                                                                                                                                                                                                                                                                                                                                                                                                                                                                                            \n",
       "14604431  tttttttttttttttttttttttttttttttttttttttttttttttttttttttttttttttttttttttttttttttttttttttttttttttttttttttttttttttttttttttttttttttttttttttttttttttttttttttttttttttttttttttttttttttttttttttttttttttttttttttttttttttttttttttttttttttttttttttttttttttttttttttttttttttttttttttttttttttttttttttttttttttttttttttttttttttttttttttttttttttttttttttttttttttttttttttttttttttttttttttttttttttttttttttttttttttttttttttttttttttttttttttttttttttttttttttttttttttttttttttttttttttttttttttttttttttttttttttttttttttttttttttttttttttttttttttttttttttttttttttttttttttttttttttttttttttttttttttttttttttttttttttttttttttttttttttttttttttttttttttttttttttttttttttttttttttttttttttttttttttttttttttttttttttttttttttttttttttttttttttttttttttttttttttttttttttttttttttttttttttttttttttttttttttttttttttttttttttttttttttttttttttttttttttttttttttttttttttttttttttttttttttttttttttttttttttttttttttttttttttttttttttttttttttttttttttttttttttttttttttttttttttttttttttttttttttttttttttttttttttttttttttttttttttttttttttttttttttttttttttttttttttttttttttttttttttttttttttttttttttttttttttttttttttttttttttttttttttttttttttttttttttttttttttttttttttttttttttttttttttttttttttttttttttttttttttttttttttttttttttttttttttttttttttttttttttttttttttttttttttttttttttttttttttttttttttttttttttttttttttttttttttttttttttttttttttttttttttttttttttttttttttttttttttttttttttttttttttttttttttttttttttttttttttttttttttttttttttttttttttttttttttttttttttttttttttttttttttttttttttttttttttttttttttttttttttttttttttttttttttttttttttttttttttttttttttttttttttttttttttttttttttttttttttttttttttttttttttttttttttttttttttttttttttttttttttttttttttttttttttttttttttttttttttttttttttttttttttttttttttttttttttttttttttttttttttttttttttttttttttttttttttttttttttttttttttttttttttttttttttttttttttttttttttttttttttttttttttttttttttttttttttttttttttttttttttttttttttttttttttttttttttttttttttttttttttttttttttttttttttttttttttttttttttttttttttttttttttttttttttttttttttttttttttttttttttttttttttttttttttttttttttttttttttttttttttttttttttttttttttttttttttttttttttttttttttttttttttttttttttttttttttttttttttttttttttttttttttttttttttttttttttttttttttttttttttttttttttttttttttttttttttttttttttttttttttttttttttttttttttttttttttttttttttttttttttttttttttttttttttttttttttttttttttttttttttttttttttttttttttttttttttttttttttttttttttttttttttttttttttttttttttttttttttttttttttttttttttttttttttttttttttttttttttttttttttttttttttttttttttttttttttttttttttttttttttttttttttttttttttttttttttttttttttttttttttttttttttttttttttttttttttttttttttttttttttttttttttttttttttttttttttttttttttttttttttttttttttttttttttttttttttttttttttttttttttttttttttttttttttttttttttttttttttttttttttttttttttttttttttttttttttttttttttttttttttttttttttttttttttttttttttttttttttttttttttttttttttttttttttttttttttttttttttttttttttttttttttttttttttttttttttttttttttttttttttttttttttttttttttttttttttttttttttttttttttttttttttttttttttttttttttttttttttttttttttttttttttttttttttttttttttttttttttttttttttttttttttttttttttttttttttttttttttttttttttttttttttttttttttttttttttttttttttttttttttttttttttttttttttttttttttttttttttttttttttttttttttttttttttttttttttttttttttttttttttttttttttttttttttttttttttttttttttttttttttttttttttttttttttttttttttttttttttttttttttttttttttttttttttttttttttttttttttttttttttttttttttttttttttttttttttttttttttttttttttttttttttttttttttttttttttttttttttttttttttttttttttttttttttttttttttttttttttttttttttttttttttttttttttttttttttttttttttttttttttttttttttttttttttttttttttttttttttttttttttttttttttttttttttttttttttttttttttttttttttttttttttttttttttttttttttttttttttttttttttttttttttttttttttttttttttttttttttttttttttttttttttttttttttttttttttttttttttttttttttttttttttttttttttttttttttttttttttttttttttttttttttttttttttttttttttttttttttttttttttttttttttttttttttttttttttttttttttttttttttttttttttttttttttttttttttttttttttttttttttttttttttttttttttttttttttttttttttttttttttttttttttttttttttttttttttttttttttttttttttttttttttttttttttttttttttttttttttttttttttttttttttttttttttttttttttttttttttttttttttttttttttttttttttttttttttttttttttttttttttttttttttttttttttttttttttttttttttttttttttttttttttttttttttttttttttttttttttttttttttttttttttttttttttttttttttttttttttttttttttttttttttttttttttttttttttttttttttttttttttttttttttttttttttttttttttttttttttttttttttttttttttttttttttttttttttttttttttttttttttttttttttttttttttttttttttttttttttttttttttttttttttttttttttttttttttttttttttttttttttttttttttttttttttttttttttttttttttttttttttttttttttttttttttttttttttttttttttttttttttttttttttttttttttttttttttttttttttttttttttttttttttttttttttttttttttttttttttttttttttttttttttttttttttttttttttttttttttttttttttttttttttttttttttttttttttttttttttttttttttttttttttttttttttttttttttttttttttttttttttttttttttttttttttttttttttttttttttttttttttttttttttttttttttttttttttttttttttttttttttttttttttttttttttttttttttttttttttttttttttttttttttttttttttttttttttttttttttttttttttttttttttttttttttttttttttttttttttttttttttttttttttttttttttttttttttttttttttttttttttttttttttttttttttttttttttttttttttttttttttttttttttttttttttttttttttttttttttttttttttttttttttttttttttttttttttttttttttttttttttttttttttttttttttttttttttttttttttttttttttttttttttttttttttttttttttttttttttttttttttttttttttttttttttttttttttttttttttttttttttttttttttttttttttttttttttttttttttttttttttttttttttttttttttttttttttttttttttttttttttttttttttttttttttttttttttttttttttttttttttttttttttttttttttttttttttttttttttttttttttttttttttttttttttt                   \n",
       "14209036  tttttttttttttttttttttttttttttttttttttttttttttttttttttttttttttttttttttttttttttttttttttttttttttttttttttttttttttttttttttttttttttttttttttttttttttttttttttttttttttttttttttttttttttttttttttttttttttttttttttttttttttttttttttttttttttttttttttttttttttttttttttttttttttttttttttttttttttttttttttttttttttttttttttttttttttttttttttttttttttttttttttttttttttttttttttttttttttttttttttttttttttttttttttttttttttttttttttttttttttttttttttttttttttttttttttttttttttttttttttttttttttttttttttttttttttttttttttttttttttttttttttttttttttttttttttttttttttttttttttttttttttttttttttttttttttttttttttttttttttttttttttttttttttttttttttttttttttttttttttttttttttttttttttttttttttttttttttttttttttttttttttttttttttttttttttttttttttttttttttttttttttttttttttttttttttttttttttttttttttttttttttttttttttttttttttttttttttttttttttttttttttttttttttttttttttttttttttttttttttttttttttttttttttttttttttttttttttttttttttttttttttttttttttttttttttttttttttttttttttttttttttttttttttttttttttttttttttttttttttttttttttttttttttttttttttttttttttttttttttttttttttttttttttttttttttttttttttttttttttttttttttttttttttttttttttttttttttttttttttttttttttttttttttttttttttttttttttttttttttttttttttttttttttttttttttttttttttttttttttttttttttttttttttttttttttttttttttttttttttttttttttttttttttttttttttttttttttttttttttttttttttttttttttttttttttttttttttttttttttttttttttttttttttttttttttttttttttttttttttttttttttttttttttttttttttttttttttttttttttttttttttttttttttttttttttttttttttttttttttttttttttttttttttttttttttttttttttttttttttttttttttttttttttttttttttttttttttttttttttttttttttttttttttttttttttttttttttttttttttttttttttttttttttttttttttttttttttttttttttttttttttttttttttttttttttttttttttttttttttttttttttttttttttttttttttttttttttttttttttttttttttttttttttttttttttttttttttttttttttttttttttttttttttttttttttttttttttttttttttttttttttttttttttttttttttttttttttttttttttttttttttttttttttttttttttttttttttttttttttttttttttttttttttttttttttttttttttttttttttttttttttttttttttttttttttttttttttttttttttttttttttttttttttttttttttttttttttttttttttttttttttttttttttttttttttttttttttttttttttttttttttttttttttttttttttttttttttttttttttttttttttttttttttttttttttttttttttttttttttttttttttttttttttttttttttttttttttttttttttttttttttttttttttttttttttttttttttttttttttttttttttttttttttttttttttttttttttttttttttttttttttttttttttttttttttttttttttttttttttttttttttttttttttttttttttttttttttttttttttttttttttttttttttttttttttttttttttttttttttttttttttttttttttttttttttttttttttttttttttttttttttttttttttttttttttttttttttttttttttttttttttttttttttttttttttttttttttttttttttttttttttttttttttttttttttttttttttttttttttttttttttttttttttttttttttttttttttttttttttttttttttttttttttttttttttttttttttttttttttttttttttttttttttttttttttttttttttttttttttttttttttttttttttttttttttttttttttttttttttttttttttttttttttttttttttttttttttttttttttttttttttttttttttttttttttttttttttttttttttttttttttttttttttttttttttttttttttttttttttttttttttttttttttttttttttttttttttttttttttttttttttttttttttttttttttttttttttttttttttttttttttttttttttttttttttttttttttttttttttttttttttttttttttttttttttttttttttttttttttttttttttttttttttttttttttttttttttttttttttttttttttttttttttttttttttttttttttttttttttttttttttttttttttttttttttttttttttttttttttttttttttttttttttttttttttttttttttttttttttttttttttttttttttttttttttttttttttttttttttttttttttttttttttttttttttttttttttttttttttttttttttttttttttttttttttttttttttttttttttttttttttttttttttttttttttttttttttttttttttttttttttttttttttttttttttttttttttttttttttttttttttttttttttttttttttttttttttttttttttttttttttttttttttttttttttttttttttttttttttttttttttttttttttttttttttttttttttttttttttttttttttttttttttttttttttttttttttttttttttttttttttttttttttttttttttttttttttttttttttttttttttttttttttttttttttttttttttttttttttttttttttttttttttttttttttttttttttttttttttttttttttttttttttttttttttttttttttttttttttttttttttttttttttttttttttttttttttttttttttttttttttttttttttttttttttttttttttttttttttttttttttttttttttttttttttttttttttttttttttttttttttttttttttttttttttttttttttttttttttttttttttttttttttttttttttttttttttttttttttttttttttttttttttttttttttttttttttttttttttttttttttttttttttttttttttttttttttttttttttttttttttttttttttttttttttttttttttttttttttttttttttttttttttttttttttttttttttttttttttttttttttttttttttttttttttttttttttttttttttttttttttttttttttttttttttttttttttttttttttttttttttttttttttttttttttttttttttttttttttttttttttttttttttttttttttttttttttttttttttttttttttttttttttttttttttttttttttttttttttttttttttttttttttttttttttttttttttttttttttttttttttttttttttttttttttttttttttttttttttttttttttttttttttttttttttttttttttttttttttttttttttttttttttttttttttttttttttttttttttttttttttttttttttttttttttttttttttttttttttttttttttttttttttttttttttttttttttttttttttttttttttttttttttttttttttttttttttttttttttttttttttttttttttttttttttttttttttttttttttttttttttttttttttttttttttttttttttttttttttttttttttttttttttttttttttttttttttttttttttttttttttttttttttttttttttttttttttttttttttttttttttttttttttttttttttttttttttttttttttttttttttttttttttttttttttttttttttttttttttttttttttttttttttttttttttttttttttttttttttttttttttttttttttttttttttttttttttttttttttttttttttttttttttttttttttttttttttttttttttttttttttttttttttttttttttttttttttttttttttttttttttttttttttttttttttttttttttttttttttttttttttttttttttttttttttttttttttttttttttttttttttttttttttttttttttttttttttttttttttttttttttttttttttttttttttttttttttttttttttttttttttttttttttttttttttttttttttttttttttttttttttttttttttttttttttttttttttttttttttttt                   \n",
       "23702512  tttttttttttttttttttttttttttttttttttttttttttttttttttttttttttttttttttttttttttttttttttttttttttttttttttttttttttttttttttttttttttttttttttttttttttttttttttttttttttttttttttttttttttttttttttttttttttttttttttttttttttttttttttttttttttttttttttttttttttttttttttttttttttttttttttttttttttttttttttttttttttttttttttttttttttttttttttttttttttttttttttttttttttttttttttttttttttttttttttttttttttttttttttttttttttttttttttttttttttttttttttttttttttttttttttttttttttttttttttttttttttttttttttttttttttttttttttttttttttttttttttttttttttttttttttttttttttttttttttttttttttttttttttttttttttttttttttttttttttttttttttttttttttttttttttttttttttttttttttttttttttttttttttttttttttttttttttttttttttttttttttttttttttttttttttttttttttttttttttttttttttttttttttttttttttttttttttttttttttttttttttttttttttttttttttttttttttttttttttttttttttttttttttttttttttttttttttttttttttttttttttttttttttttttttttttttttttttttttttttttttttttttttttttttttttttttttttttttttttttttttttttttttttttttttttttttttttttttttttttttttttttttttttttttttttttttttttttttttttttttttttttttttttttttttttttttttttttttttttttttttttttttttttttttttttttttttttttttttttttttttttttttttttttttttttttttttttttttttttttttttttttttttttttttttttttttttttttttttttttttttttttttttttttttttttttttttttttttttttttttttttttttttttttttttttttttttttttttttttttttttttttttttttttttttttttttttttttttttttttttttttttttttttttttttttttttttttttttttttttttttttttttttttttttttttttttttttttttttttttttttttttttttttttttttttttttttttttttttttttttttttttttttttttttttttttttttttttttttttttttttttttttttttttttttttttttttttttttttttttttttttttttttttttttttttttttttttttttttttttttttttttttttttttttttttttttttttttttttttttttttttttttttttttttttttttttttttttttttttttttttttttttttttttttttttttttttttttttttttttttttttttttttttttttttttttttttttttttttttttttttttttttttttttttttttttttttttttttttttttttttttttttttttttttttttttttttttttttttttttttttttttttttttttttttttttttttttttttttttttttttttttttttttttttttttttttttttttttttttttttttttttttttttttttttttttttttttttttttttttttttttttttttttttttttttttttttttttttttttttttttttttttttttttttttttttttttttttttttttttttttttttttttttttttttttttttttttttttttttttttttttttttttttttttttttttttttttttttttttttttttttttttttttttttttttttttttttttttttttttttttttttttttttttttttttttttttttttttttttttttttttttttttttttttttttttttttttttttttttttttttttttttttttttttttttttttttttttttttttttttttttttttttttttttttttttttttttttttttttttttttttttttttttttttttttttttttttttttttttttttttttttttttttttttttttttttttttttttttttttttttttttttttttttttttttttttttttttttttttttttttttttttttttttttttttttttttttttttttttttttttttttttttttttttttttttttttttttttttttttttttttttttttttttttttttttttttttttttttttttttttttttttttttttttttttttttttttttttttttttttttttttttttttttttttttttttttttttttttttttttttttttttttttttttttttttttttttttttttttttttttttttttttttttttttttttttttttttttttttttttttttttttttttttttttttttttttttttttttttttttttttttttttttttttttttttttttttttttttttttttttttttttttttttttttttttttttttttttttttttttttttttttttttttttttttttttttttttttttttttttttttttttttttttttttttttttttttttttttttttttttttttttttttttttttttttttttttttttttttttttttttttttttttttttttttttttttttttttttttttttttttttttttttttttttttttttttttttttttttttttttttttttttttttttttttttttttttttttttttttttttttttttttttttttttttttttttttttttttttttttttttttttttttttttttttttttttttttttttttttttttttttttttttttttttttttttttttttttttttttttttttttttttttttttttttttttttttttttttttttttttttttttttttttttttttttttttttttttttttttttttttttttttttttttttttttttttttttttttttttttttttttttttttttttttttttttttttttttttttttttttttttttttttttttttttttttttttttttttttttttttttttttttttttttttttttttttttttttttttttttttttttttttttttttttttttttttttttttttttttttttttttttttttttttttttttttttttttttttttttttttttttttttttttttttttttttttttttttttttttttttttttttttttttttttttttttttttttttttttttttttttttttttttttttttttttttttttttttttttttttttttttttttttttttttttttttttttttttttttttttttttttttttttttttttttttttttttttttttttttttttttttttttttttttttttttttttttttttttttttttttttttttttttttttttttttttttttttttttttttttttttttttttttttttttttttttttttttttttttttttttttttttttttttttttttttttttttttttttttttttttttttttttttttttttttttttttttttttttttttttttttttttttttttttttttttttttttttttttttttttttttttttttttttttttttttttttttttttttttttttttttttttttttttttttttttttttttttttttttttttttttttttttttttttttttttttttttttttttttttttttttttttttttttttttttttttttttttttttttttttttttttttttttttttttttttttttttttttttttttttttttttttttttttttttttttttttttttttttttttttttttttttttttttttttttttttttttttttttttttttttttttttttttttttttttttttttttttttttttttttttttttttttttttttttttttttttttttttttttttttttttttttttttttttttttttttttttttttttttttttttttttttttttttttttttttttttttttttttttttttttttttttttttttttttttttttttttttttttttttttttttttttttttttttttttttttttttttttttttttttttttttttttttttttttttttttttttttttttttttttttttttttttttttttttttttttttttttttttttttttttttttttttttttttttttttttttttttttttttttttttttttttttttttttttttttttttttttttttttttttttttttttttttttttttttttttttttttttttttttttttttttttttttttttttttttttttttttttttttttttttttttttttttttttttttttttttttttttttttttttttttttttttttttttttttttttttttttttttttttttttttttttttttttttttttttttttttttttttttttttttttttttttttttttttttttttttttttttttttttttttttttttttttttttttttttttttttttttttttttttttttttttttttttttttttttttttttttttttttttttttttttttttttttttttttttttttttttttttttttttttttttttttttttttttttttttttttttttttttttttttttttttttttttttttttttttttttttttttttttttttttttttttttttttttttttttttttttttttttttttt                   \n",
       "20565302  tttttttttttttttttttttttttttttttttttttttttttttttttttttttttttttttttttttttttttttttttttttttttttttttttttttttttttttttttttttttttttttttttttttttttttttttttttttttttttttttttttttttttttttttttttttttttttttttttttttttttttttttttttttttttttttttttttttttttttttttttttttttttttttttttttttttttttttttttttttttttttttttttttttttttttttttttttttttttttttttttttttttttttttttttttttttttttttttttttttttttttttttttttttttttttttttttttttttttttttttttttttttttttttttttttttttttttttttttttttttttttttttttttttttttttttttttttttttttttttttttttttttttttttttttttttttttttttttttttttttttttttttttttttttttttttttttttttttttttttttttttttttttttttttttttttttttttttttttttttttttttttttttttttttttttttttttttttttttttttttttttttttttttttttttttttttttttttttttttttttttttttttttttttttttttttttttttttttttttttttttttttttttttttttttttttttttttttttttttttttttttttttttttttttttttttttttttttttttttttttttttttttttttttttttttttttttttttttttttttttttttttttttttttttttttttttttttttttttttttttttttttttttttttttttttttttttttttttttttttttttttttttttttttttttttttttttttttttttttttttttttttttttttttttttttttttttttttttttttttttttttttttttttttttttttttttttttttttttttttttttttttttttttttttttttttttttttttttttttttttttttttttttttttttttttttttttttttttttttttttttttttttttttttttttttttttttttttttttttttttttttttttttttttttttttttttttttttttttttttttttttttttttttttttttttttttttttttttttttttttttttttttttttttttttttttttttttttttttttttttttttttttttttttttttttttttttttttttttttttttttttttttttttttttttttttttttttttttttttttttttttttttttttttttttttttttttttttttttttttttttttttttttttttttttttttttttttttttttttttttttttttttttttttttttttttttttttttttttttttttttttttttttttttttttttttttttttttttttttttttttttttttttttttttttttttttttttttttttttttttttttttttttttttttttttttttttttttttttttttttttttttttttttttttttttttttttttttttttttttttttttttttttttttttttttttttttttttttttttttttttttttttttttttttttttttttttttttttttttttttttttttttttttttttttttttttttttttttttttttttttttttttttttttttttttttttttttttttttttttttttttttttttttttttttttttttttttttttttttttttttttttttttttttttttttttttttttttttttttttttttttttttttttttttttttttttttttttttttttttttttttttttttttttttttttttttttttttttttttttttttttttttttttttttttttttttttttttttttttttttttttttttttttttttttttttttttttttttttttttttttttttttttttttttttttttttttttttttttttttttttttttttttttttttttttttttttttttttttttttttttttttttttttttttttttttttttttttttttttttttttttttttttttttttttttttttttttttttttttttttttttttttttttttttttttttttttttttttttttttttttttttttttttttttttttttttttttttttttttttttttttttttttttttttttttttttttttttttttttttttttttttttttttttttttttttttttttttttttttttttttttttttttttttttttttttttttttttttttttttttttttttttttttttttttttttttttttttttttttttttttttttttttttttttttttttttttttttttttttttttttttttttttttttttttttttttttttttttttttttttttttttttttttttttttttttttttttttttttttttttttttttttttttttttttttttttttttttttttttttttttttttttttttttttttttttttttttttttttttttttttttttttttttttttttttttttttttttttttttttttttttttttttttttttttttttttttttttttttttttttttttttttttttttttttttttttttttttttttttttttttttttttttttttttttttttttttttttttttttttttttttttttttttttttttttttttttttttttttttttttttttttttttttttttttttttttttttttttttttttttttttttttttttttttttttttttttttttttttttttttttttttttttttttttttttttttttttttttttttttttttttttttttttttttttttttttttttttttttttttttttttttttttttttttttttttttttttttttttttttttttttttttttttttttttttttttttttttttttttttttttttttttttttttttttttttttttttttttttttttttttttttttttttttttttttttttttttttttttttttttttttttttttttttttttttttttttttttttttttttttttttttttttttttttttttttttttttttttttttttttttttttttttttttttttttttttttttttttttttttttttttttttttttttttttttttttttttttttttttttttttttttttttttttttttttttttttttttttttttttttttttttttttttttttttttttttttttttttttttttttttttttttttttttttttttttttttttttttttttttttttttttttttttttttttttttttttttttttttttttttttttttttttttttttttttttttttttttttttttttttttttttttttttttttttttttttttttttttttttttttttttttttttttttttttttttttttttttttttttttttttttttttttttttttttttttttttttttttttttttttttttttttttttttttttttttttttttttttttttttttttttttttttttttttttttttttttttttttttttttttttttttttttttttttttttttttttttttttttttttttttttttttttttttttttttttttttttttttttttttttttttttttttttttttttttttttttttttttttttttttttttttttttttttttttttttttttttttttttttttttttttttttttttttttttttttttttttttttttttttttttttttttttttttttttttttttttttttttttttttttttttttttttttttttttttttttttttttttttttttttttttttttttttttttttttttttttttttttttttttttttttttttttttttttttttttttttttttttttttttttttttttttttttttttttttttttttttttttttttttttttttttttttttttttttttttttttttttttttttttttttttttttttttttttttttttttttttttttttttttttttttttttttttttttttttttttttttttttttttttttttttttttttttttttttttttttttttttttttttttttttttttttttttttttttttttttttttttttttttttttttttttttttttttttttttttttttttttttttttttttttttttttttttttttttttttttttttttttttttttttttttttttttttttttttttttttttttttttttttttttttttttttttttttttttttttttttttttttttttttttttttttttttttttttttttttttttttttttttttttttttttttttttttttttttttttttttttttttttttttttttttttttttttttttttttttttttttttttttttttttttttttttttttttttttttttttttttttttttttttttttttttttttttttttttttttttttttttttttttttttttttttttttttttttttttttttttttttttttttttttttttttttttttttttttttttttttttttttttttttttttttttttttttttttttttttttttttttttttttttttttttttttttttttttttttttttttttttttttttttttttttttttttttttttttttttttttttttttttttttttttttttttttttttttttttttttttttttttttttttttttttttttttttttttttttttttttttttttttttttttttttttttttttttttttttttttttttttttttttttttttttttttttttttttt   \n",
       "33944451  tttttttttttttttttttttttttttttttttttttttttttttttttttttttttttttttttttttttttttttttttttttttttttttttttttttttttttttttttttttttttttttttttttttttttttttttttttttttttttttttttttttttttttttttttttttttttttttttttttttttttttttttttttttttttttttttttttttttttttttttttttttttttttttttttttttttttttttttttttttttttttttttttttttttttttttttttttttttttttttttttttttttttttttttttttttttttttttttttttttttttttttttttttttttttttttttttttttttttttttttttttttttttttttttttttttttttttttttttttttttttttttttttttttttttttttttttttttttttttttttttttttttttttttttttttttttttttttttttttttttttttttttttttttttttttttttttttttttttttttttttttttttttttttttttttttttttttttttttttttttttttttttttttttttttttttttttttttttttttttttttttttttttttttttttttttttttttttttttttttttttttttttttttttttttttttttttttttttttttttttttttttttttttttttttttttttttttttttttttttttttttttttttttttttttttttttttttttttttttttttttttttttttttttttttttttttttttttttttttttttttttttttttttttttttttttttttttttttttttttttttttttttttttttttttttttttttttttttttttttttttttttttttttttttttttttttttttttttttttttttttttttttttttttttttttttttttttttttttttttttttttttttttttttttttttttttttttttttttttttttttttttttttttttttttttttttttttttttttttttttttttttttttttttttttttttttttttttttttttttttttttttttttttttttttttttttttttttttttttttttttttttttttttttttttttttttttttttttttttttttttttttttttttttttttttttttttttttttttttttttttttttttttttttttttttttttttttttttttttttttttttttttttttttttttttttttttttttttttttttttttttttttttttttttttttttttttttttttttttttttttttttttttttttttttttttttttttttttttttttttttttttttttttttttttttttttttttttttttttttttttttttttttttttttttttttttttttttttttttttttttttttttttttttttttttttttttttttttttttttttttttttttttttttttttttttttttttttttttttttttttttttttttttttttttttttttttttttttttttttttttttttttttttttttttttttttttttttttttttttttttttttttttttttttttttttttttttttttttttttttttttttttttttttttttttttttttttttttttttttttttttttttttttttttttttttttttttttttttttttttttttttttttttttttttttttttttttttttttttttttttttttttttttttttttttttttttttttttttttttttttttttttttttttttttttttttttttttttttttttttttttttttttttttttttttttttttttttttttttttttttttttttttttttttttttttttttttttttttttttttttttttttttttttttttttttttttttttttttttttttttttttttttttttttttttttttttttttttttttttttttttttttttttttttttttttttttttttttttttttttttttttttttttttttttttttttttttttttttttttttttttttttttttttttttttttttttttttttttttttttttttttttttttttttttttttttttttttttttttttttttttttttttttttttttttttttttttttttttttttttttttttttttttttttttttttttttttttttttttttttttttttttttttttttttttttttttttttttttttttttttttttttttttttttttttttttttttttttttttttttttttttttttttttttttttttttttttttttttttttttttttttttttttttttttttttttttttttttttttttttttttttttttttttttttttttttttttttttttttttttttttttttttttttttttttttttttttttttttttttttttttttttttttttttttttttttttttttttttttttttttttttttttttttttttttttttttttttttttttttttttttttttttttttttttttttttttttttttttttttttttttttttttttttttttttttttttttttttttttttttttttttttttttttttttttttttttttttttttttttttttttttttttttttttttttttttttttttttttttttttttttttttttttttttttttttttttttttttttttttttttttttttttttttttttttttttttttttttttttttttttttttttttttttttttttttttttttttttttttttttttttttttttttttttttttttttttttttttttttttttttttttttttttttttttttttttttttttttttttttttttttttttttttttttttttttttttttttttttttttttttttttttttttttttttttttttttttttttttttttttttttttttttttttttttttttttttttttttttttttttttttttttttttttttttttttttttttttttttttttttttttttttttttttttttttttttttttttttttttttttttttttttttttttttttttttttttttttttttttttttttttttttttttttttttttttttttttttttttttttttttttttttttttttttttttttttttttttttttttttttttttttttttttttttttttttttttttttttttttttttttttttttttttttttttttttttttttttttttttttttttttttttttttttttttttttttttttttttttttttttttttttttttttttttttttttttttttttttttttttttttttttttttttttttttttttttttttttttttttttttttttttttttttttttttttttttttttttttttttttttttttttttttttttttttttttttttttttttttttttttttttttttttttttttttttttttttttttttttttttttttttttttttttttttttttttttttttttttttttttttttttttttttttttttttttttttttttttttttttttttttttttttttttttttttttttttttttttttttttttttttttttttttttttttttttttttttttttttttttttttttttttttttttttttttttttttttttttttttttttttttttttttttttttttttttttttttttttttttttttttttttttttttttttttttttttttttttttttttttttttttttttttttttttttttttttttttttttttttttttttttttttttttttttttttttttttttttttttttttttttttttttttttttttttttttttttttttttttttttttttttttttttttttttttttttttttttttttttttttttttttttttttttttttttttttttttttttttttttttttttttttttttttttttttttttttttttttttttttttttttttttttttttttttttttttttttttttttttttttttttttttttttttttttttttttttttttttttttttttttttttttttttttttttttttttttttttttttttttttttttttttttttttttttttttttttttttttttttttttttttttttttttttttttttttttttttttttttttttttttttttttttttttttttttttttttttttttttttttttttttttttttttttttttttttttttttttttttttttttttttttttttttttttttttttttttttttttttttttttttttttttttttttttttttttttttttttttttttttttttttttttttttttttttttttttttttttttttttttttttttttttttttttttttttttttttttttttttttttttttttttttttttttttttttttttttttttttttttttttttttttttttttttttttttttttttttttttttttttttttttttttttttttttttttttttttttttttttttttttttttttttttttttttttttttttttttttttttttttttttttttttttttttttttttttttttttttttttttttttttttttttttttttttttttttttttttttttttttttttttttttttttttttttttttttttttttttttttttttttttttttttttttttttttttttttttttttttttttttttttttttttttttttttttttttttttttttttttttttttttttttttttttttttttttttttttttttttttttttttttttttttttttttttttttttttttttttttttttttttttttttttttttttttttttt   \n",
       "\n",
       "          valid_sequence  year      patent                                                                                                                                                                                                         company  seq_len  \n",
       "25115066  1.0             2018  Patent: US  Cellular Research, Inc.; Menlo Park, CA                                                                                                                                                                         31       \n",
       "27144366  1.0             2019  Patent: EP  BECTON DICKINSON CO [US]                                                                                                                                                                                        31       \n",
       "11354717  1.0             2017  Patent: US  Cellular Research, Inc.; Menlo Park, CA                                                                                                                                                                         31       \n",
       "11353874  1.0             2017  Patent: US  Cellular Research, Inc.; Menlo Park, CA                                                                                                                                                                         31       \n",
       "12808037  1.0             2016  Patent: JP  CELLULAR RESEARCH INC                                                                                                                                                                                           31       \n",
       "...       ...              ...         ...                    ...                                                                                                                                                                                           ..       \n",
       "14604431  1.0             2016  Patent: WO  NOVARTIS AG [CH], UNIV PENNSYLVANIA [US], BEDOYA FELIPE [US], GHASSEMI SABA [US], JUNE CARL H [US], LEVINE BRUCE L [US], MELENHORST JAN J [US], MILONE MICHAEL C [US], POWELL DANIEL J JR [US], ZHENG ZOE [US]  5000     \n",
       "14209036  1.0             2018  Patent: WO  TCR2 THERAPEUTICS INC [US]                                                                                                                                                                                      5000     \n",
       "23702512  1.0             2017  Patent: US  Novartis AG and The Trustees of the University of Pennsylvania; Basel; CH;                                                                                                                                      5000     \n",
       "20565302  1.0             2020  Patent: JP  University of Southern California                                                                                                                                                                               5016     \n",
       "33944451  1.0             2021  Patent: JP  University of Southern California,Preet M Chaudhary                                                                                                                                                             5016     \n",
       "\n",
       "[15455611 rows x 12 columns]"
      ]
     },
     "execution_count": 145,
     "metadata": {},
     "output_type": "execute_result"
    }
   ],
   "source": [
    "df_duplicates.sort_values(\"origin\")"
   ]
  },
  {
   "cell_type": "code",
   "execution_count": 146,
   "metadata": {},
   "outputs": [
    {
     "data": {
      "text/html": [
       "<div>\n",
       "<style scoped>\n",
       "    .dataframe tbody tr th:only-of-type {\n",
       "        vertical-align: middle;\n",
       "    }\n",
       "\n",
       "    .dataframe tbody tr th {\n",
       "        vertical-align: top;\n",
       "    }\n",
       "\n",
       "    .dataframe thead th {\n",
       "        text-align: right;\n",
       "    }\n",
       "</style>\n",
       "<table border=\"1\" class=\"dataframe\">\n",
       "  <thead>\n",
       "    <tr style=\"text-align: right;\">\n",
       "      <th></th>\n",
       "      <th>origin</th>\n",
       "      <th>id</th>\n",
       "      <th>valid_sequence</th>\n",
       "      <th>seq_len</th>\n",
       "    </tr>\n",
       "  </thead>\n",
       "  <tbody>\n",
       "    <tr>\n",
       "      <th>1829934</th>\n",
       "      <td>cccactttttgatggggttgtttgtttttttcttgtaaatttgtttgagttcattgtagattctggatattagccctttgtcagatgagtagg</td>\n",
       "      <td>122278904836</td>\n",
       "      <td>2494.0</td>\n",
       "      <td>231942</td>\n",
       "    </tr>\n",
       "    <tr>\n",
       "      <th>2646140</th>\n",
       "      <td>gcccactttttgatggggttgtttgtttttttcttgtaaatttgtttgagttcattgtagattctggatattagccctttgtcagatgagtaggt</td>\n",
       "      <td>104775703315</td>\n",
       "      <td>2137.0</td>\n",
       "      <td>203015</td>\n",
       "    </tr>\n",
       "    <tr>\n",
       "      <th>2878802</th>\n",
       "      <td>ggccatggtggtctgataggatacatgggacaatttcaatatttttgtatctattgaggcctgttttgtgaccaattatatggtc</td>\n",
       "      <td>76029316175</td>\n",
       "      <td>1549.0</td>\n",
       "      <td>131665</td>\n",
       "    </tr>\n",
       "    <tr>\n",
       "      <th>2059934</th>\n",
       "      <td>cgggcaagtcagggcattagaaatgatttaggc</td>\n",
       "      <td>24341699592</td>\n",
       "      <td>947.0</td>\n",
       "      <td>31251</td>\n",
       "    </tr>\n",
       "    <tr>\n",
       "      <th>2878807</th>\n",
       "      <td>ggccatggtggtctgataggatacatgggacaatttcaatatttttgtatctgttgaggcctgttttgtgaccaattatatggtc</td>\n",
       "      <td>41425075334</td>\n",
       "      <td>844.0</td>\n",
       "      <td>71740</td>\n",
       "    </tr>\n",
       "    <tr>\n",
       "      <th>...</th>\n",
       "      <td>...</td>\n",
       "      <td>...</td>\n",
       "      <td>...</td>\n",
       "      <td>...</td>\n",
       "    </tr>\n",
       "    <tr>\n",
       "      <th>2289950</th>\n",
       "      <td>cttgcctccacacctttgtcctccagtttagt</td>\n",
       "      <td>54097444</td>\n",
       "      <td>2.0</td>\n",
       "      <td>64</td>\n",
       "    </tr>\n",
       "    <tr>\n",
       "      <th>2289951</th>\n",
       "      <td>cttgcctccaccatgatatttgaataagagatggccagaggataacacttgtctcttaaaaact</td>\n",
       "      <td>81096646</td>\n",
       "      <td>2.0</td>\n",
       "      <td>128</td>\n",
       "    </tr>\n",
       "    <tr>\n",
       "      <th>2289952</th>\n",
       "      <td>cttgcctccactcaccacaagctgagcaggac</td>\n",
       "      <td>54097446</td>\n",
       "      <td>2.0</td>\n",
       "      <td>64</td>\n",
       "    </tr>\n",
       "    <tr>\n",
       "      <th>2289953</th>\n",
       "      <td>cttgcctcccaaagtgctaagattacagcctc</td>\n",
       "      <td>54097450</td>\n",
       "      <td>2.0</td>\n",
       "      <td>64</td>\n",
       "    </tr>\n",
       "    <tr>\n",
       "      <th>4065507</th>\n",
       "      <td>tttttttttttttttttttttttttttttttttttttttttttttttttttttttttttttttttttttttttttttttttttttttttttttttttttttttttttttttttttttttttttttttttttttttttttttttttttttttttttttttttttttttttttttttttttttttttttttttttttttttttttttttttttttttttttttttttttttttttttttttttttttttttttttttttttttttttttttttttttttttttttttttttttttttttttttttttttttttttttttttttttttttttttttttttttttttttttttttttttttttttttttttttttttttttttttttttttttttttttttttttttttttttttttttttttttttttttttttttttttttttttttttttttttttttttttttttttttttttttttttttttttttttttttttttttttttttttttttttttttttttttttttttttttttttttttttttttttttttttttttttttttttttttttttttttttttttttttttttttttttttttttttttttttttttttttttttttttttttttttttttttttttttttttttttttttttttttttttttttttttttttttttttttttttttttttttttttttttttttttttttttttttttttttttttttttttttttttttttttttttttttttttttttttttttttttttttttttttttttttttttttttttttttttttttttttttttttttttttttttttttttttttttttttttttttttttttttttttttttttttttttttttttttttttttttttttttttttttttttttttttttttttttttttttttttttttttttttttttttttttttttttttttttttttttttttttttttttttttttttttttttttttttttttttttttttttttttttttttttttttttttttttttttttttttttttttttttttttttttttttttttttttttttttttttttttttttttttttttttttttttttttttttttttttttttttttttttttttttttttttttttttttttttttttttttttttttttttttttttttttttttttttttttttttttttttttttttttttttttttttttttttttttttttttttttttttttttttttttttttttttttttttttttttttttttttttttttttttttttttttttttttttttttttttttttttttttttttttttttttttttttttttttttttttttttttttttttttttttttttttttttttttttttttttttttttttttttttttttttttttttttttttttttttttttttttttttttttttttttttttttttttttttttttttttttttttttttttttttttttttttttttttttttttttttttttttttttttttttttttttttttttttttttttttttttttttttttttttttttttttttttttttttttttttttttttttttttttttttttttttttttttttttttttttttttttttttttttttttttttttttttttttttttttttttttttttttttttttttttttttttttttttttttttttttttttttttttttttttttttttttttttttttttttttttttttttttttttttttttttttttttttttttttttttttttttttttttttttttttttttttttttttttttttttttttttttttttttttttttttttttttttttttttttttttttttttttttttttttttttttttttttttttttttttttttttttttttttttttttttttttttttttttttttttttttttttttttttttttttttttttttttttttttttttttttttttttttttttttttttttttttttttttttttttttttttttttttttttttttttttttttttttttttttttttttttttttttttttttttttttttttttttttttttttttttttttttttttttttttttttttttttttttttttttttttttttttttttttttttttttttttttttttttttttttttttttttttttttttttttttttttttttttttttttttttttttttttttttttttttttttttttttttttttttttttttttttttttttttttttttttttttttttttttttttttttttttttttttttttttttttttttttttttttttttttttttttttttttttttttttttttttttttttttttttttttttttttttttttttttttttttttttttttttttttttttttttttttttttttttttttttttttttttttttttttttttttttttttttttttttttttttttttttttttttttttttttttttttttttttttttttttttttttttttttttttttttttttttttttttttttttttttttttttttttttttttttttttttttttttttttttttttttttttttttttttttttttttttttttttttttttttttttttttttttttttttttttttttttttttttttttttttttttttttttttttttttttttttttttttttttttttttttttttttttttttttttttttttttttttttttttttttttttttttttttttttttttttttttttttttttttttttttttttttttttttttttttttttttttttttttttttttttttttttttttttttttttttttttttttttttttttttttttttttttttttttttttttttttttttttttttttttttttttttttttttttttttttttttttttttttttttttttttttttttttttttttttttttttttttttttttttttttttttttttttttttttttttttttttttttttttttttttttttttttttttttttttttttttttttttttttttttttttttttttttttttttttttttttttttttttttttttttttttttttttttttttttttttttttttttttttttttttttttttttttttttttttttttttttttttttttttttttttttttttttttttttttttttttttttttttttttttttttttttttttttttttttttttttttttttttttttttttttttttttttttttttttttttttttttttttttttttttttttttttttttttttttttttttttttttttttttttttttttttttttttttttttttttttttttttttttttttttttttttttttttttttttttttttttttttttttttttttttttttttttttttttttttttttttttttttttttttttttttttttttttttttttttttttttttttttttttttttttttttttttttttttttttttttttttttttttttttttttttttttttttttttttttttttttttttttttttttttttttttttttttttttttttttttttttttttttttttttttttttttttttttttttttttttttttttttttttttttttttttttttttttttttttttttttttttttttttttttttttttttttttttttttttttttttttttttttttttttttttttttttttttttttttttttttttttttttttttttttttttttttttttttttttttttttttttttttttttttttttttttttttttttttttttttttttttttttttttttttttttttttttttttttttttttttttttttttttttttttttttttttttttttttttttttttttttttttttttttttttttttttttttttttttttttttttttttttttttttttttttttttttttttttttttttttttttttttttttttttttttttttttttttttttttttttttttttttttttttttttttttttttttttttttttttttttttttttttttttttttttttttttttttttttttttttttttttttttttttttttttttttttttttttttttttttttttttttttttttttttttttttttttttttttttttttttttttttttttttttttttttttttttttttttttttttttttttttttttttttttttttttttttttttttttttttttttttttttttttttttttttttttttttttttttttttttttttttttttttttttttttttttttttttttttttttttttttttttttttttttttttttttttttttttttttttttttttttttttttttttttttttttttttttttttttttttttttttttttttttttttttttttttttttttttttttttttttttttttttttttttttttttttttttttttttttttttttttttttttttttttttttttttttttttttttttttttttttttttttttttttttttttttttttttttttttttttttttttttttttttttttttttttttttttttttttttttttttttttttttttttttttttttttttttttttttttttttttttttttttttttttttttttttttttttttttttttttttttttttttttttttttttttttttttttttttttttttttttttttttttttttttttttttttttttttttttttttttttttttttttttttttttttttttttttttttttttttttttttttttttttttttttttttttttttttttttttttttttttttttttttttttttttttttttttttttttttttttttttttttttttt</td>\n",
       "      <td>54509755</td>\n",
       "      <td>2.0</td>\n",
       "      <td>10032</td>\n",
       "    </tr>\n",
       "  </tbody>\n",
       "</table>\n",
       "<p>4065508 rows × 4 columns</p>\n",
       "</div>"
      ],
      "text/plain": [
       "                                                                                                                                                                                                                                                                                                                                                                                                                                                                                                                                                                                                                                                                                                                                                                                                                                                                                                                                                                                                                                                                                                                                                                                                                                                                                                                                                                                                                                                                                                                                                                                                                                                                                                                                                                                                                                                                                                                                                                                                                                                                                                                                                                                                                                                                                                                                                                                                                                                                                                                                                                                                                                                                                                                                                                                                                                                                                                                                                                                                                                                                                                                                                                                                                                                                                                                                                                                                                                                                                                                                                                                                                                                                                                                                                                                                                                                                                                                                                                                                                                                                                                                                                                                                                                                                                                                                                                                                                                                                                                                                                                                                                                                                                                                                                                                                                                                                                                                                                                                                                                                                                                                                                                                                                           origin  \\\n",
       "1829934  cccactttttgatggggttgtttgtttttttcttgtaaatttgtttgagttcattgtagattctggatattagccctttgtcagatgagtagg                                                                                                                                                                                                                                                                                                                                                                                                                                                                                                                                                                                                                                                                                                                                                                                                                                                                                                                                                                                                                                                                                                                                                                                                                                                                                                                                                                                                                                                                                                                                                                                                                                                                                                                                                                                                                                                                                                                                                                                                                                                                                                                                                                                                                                                                                                                                                                                                                                                                                                                                                                                                                                                                                                                                                                                                                                                                                                                                                                                                                                                                                                                                                                                                                                                                                                                                                                                                                                                                                                                                                                                                                                                                                                                                                                                                                                                                                                                                                                                                                                                                                                                                                                                                                                                                                                                                                                                                                                                                                                                                                                                                                                                                                                                                                                                                                                                                                                                                                                                                                                                                                                                              \n",
       "2646140  gcccactttttgatggggttgtttgtttttttcttgtaaatttgtttgagttcattgtagattctggatattagccctttgtcagatgagtaggt                                                                                                                                                                                                                                                                                                                                                                                                                                                                                                                                                                                                                                                                                                                                                                                                                                                                                                                                                                                                                                                                                                                                                                                                                                                                                                                                                                                                                                                                                                                                                                                                                                                                                                                                                                                                                                                                                                                                                                                                                                                                                                                                                                                                                                                                                                                                                                                                                                                                                                                                                                                                                                                                                                                                                                                                                                                                                                                                                                                                                                                                                                                                                                                                                                                                                                                                                                                                                                                                                                                                                                                                                                                                                                                                                                                                                                                                                                                                                                                                                                                                                                                                                                                                                                                                                                                                                                                                                                                                                                                                                                                                                                                                                                                                                                                                                                                                                                                                                                                                                                                                                                                            \n",
       "2878802  ggccatggtggtctgataggatacatgggacaatttcaatatttttgtatctattgaggcctgttttgtgaccaattatatggtc                                                                                                                                                                                                                                                                                                                                                                                                                                                                                                                                                                                                                                                                                                                                                                                                                                                                                                                                                                                                                                                                                                                                                                                                                                                                                                                                                                                                                                                                                                                                                                                                                                                                                                                                                                                                                                                                                                                                                                                                                                                                                                                                                                                                                                                                                                                                                                                                                                                                                                                                                                                                                                                                                                                                                                                                                                                                                                                                                                                                                                                                                                                                                                                                                                                                                                                                                                                                                                                                                                                                                                                                                                                                                                                                                                                                                                                                                                                                                                                                                                                                                                                                                                                                                                                                                                                                                                                                                                                                                                                                                                                                                                                                                                                                                                                                                                                                                                                                                                                                                                                                                                                                      \n",
       "2059934  cgggcaagtcagggcattagaaatgatttaggc                                                                                                                                                                                                                                                                                                                                                                                                                                                                                                                                                                                                                                                                                                                                                                                                                                                                                                                                                                                                                                                                                                                                                                                                                                                                                                                                                                                                                                                                                                                                                                                                                                                                                                                                                                                                                                                                                                                                                                                                                                                                                                                                                                                                                                                                                                                                                                                                                                                                                                                                                                                                                                                                                                                                                                                                                                                                                                                                                                                                                                                                                                                                                                                                                                                                                                                                                                                                                                                                                                                                                                                                                                                                                                                                                                                                                                                                                                                                                                                                                                                                                                                                                                                                                                                                                                                                                                                                                                                                                                                                                                                                                                                                                                                                                                                                                                                                                                                                                                                                                                                                                                                                                                                          \n",
       "2878807  ggccatggtggtctgataggatacatgggacaatttcaatatttttgtatctgttgaggcctgttttgtgaccaattatatggtc                                                                                                                                                                                                                                                                                                                                                                                                                                                                                                                                                                                                                                                                                                                                                                                                                                                                                                                                                                                                                                                                                                                                                                                                                                                                                                                                                                                                                                                                                                                                                                                                                                                                                                                                                                                                                                                                                                                                                                                                                                                                                                                                                                                                                                                                                                                                                                                                                                                                                                                                                                                                                                                                                                                                                                                                                                                                                                                                                                                                                                                                                                                                                                                                                                                                                                                                                                                                                                                                                                                                                                                                                                                                                                                                                                                                                                                                                                                                                                                                                                                                                                                                                                                                                                                                                                                                                                                                                                                                                                                                                                                                                                                                                                                                                                                                                                                                                                                                                                                                                                                                                                                                      \n",
       "...                                                                                        ...                                                                                                                                                                                                                                                                                                                                                                                                                                                                                                                                                                                                                                                                                                                                                                                                                                                                                                                                                                                                                                                                                                                                                                                                                                                                                                                                                                                                                                                                                                                                                                                                                                                                                                                                                                                                                                                                                                                                                                                                                                                                                                                                                                                                                                                                                                                                                                                                                                                                                                                                                                                                                                                                                                                                                                                                                                                                                                                                                                                                                                                                                                                                                                                                                                                                                                                                                                                                                                                                                                                                                                                                                                                                                                                                                                                                                                                                                                                                                                                                                                                                                                                                                                                                                                                                                                                                                                                                                                                                                                                                                                                                                                                                                                                                                                                                                                                                                                                                                                                                                                                                                                                                      \n",
       "2289950  cttgcctccacacctttgtcctccagtttagt                                                                                                                                                                                                                                                                                                                                                                                                                                                                                                                                                                                                                                                                                                                                                                                                                                                                                                                                                                                                                                                                                                                                                                                                                                                                                                                                                                                                                                                                                                                                                                                                                                                                                                                                                                                                                                                                                                                                                                                                                                                                                                                                                                                                                                                                                                                                                                                                                                                                                                                                                                                                                                                                                                                                                                                                                                                                                                                                                                                                                                                                                                                                                                                                                                                                                                                                                                                                                                                                                                                                                                                                                                                                                                                                                                                                                                                                                                                                                                                                                                                                                                                                                                                                                                                                                                                                                                                                                                                                                                                                                                                                                                                                                                                                                                                                                                                                                                                                                                                                                                                                                                                                                                                           \n",
       "2289951  cttgcctccaccatgatatttgaataagagatggccagaggataacacttgtctcttaaaaact                                                                                                                                                                                                                                                                                                                                                                                                                                                                                                                                                                                                                                                                                                                                                                                                                                                                                                                                                                                                                                                                                                                                                                                                                                                                                                                                                                                                                                                                                                                                                                                                                                                                                                                                                                                                                                                                                                                                                                                                                                                                                                                                                                                                                                                                                                                                                                                                                                                                                                                                                                                                                                                                                                                                                                                                                                                                                                                                                                                                                                                                                                                                                                                                                                                                                                                                                                                                                                                                                                                                                                                                                                                                                                                                                                                                                                                                                                                                                                                                                                                                                                                                                                                                                                                                                                                                                                                                                                                                                                                                                                                                                                                                                                                                                                                                                                                                                                                                                                                                                                                                                                                                                           \n",
       "2289952  cttgcctccactcaccacaagctgagcaggac                                                                                                                                                                                                                                                                                                                                                                                                                                                                                                                                                                                                                                                                                                                                                                                                                                                                                                                                                                                                                                                                                                                                                                                                                                                                                                                                                                                                                                                                                                                                                                                                                                                                                                                                                                                                                                                                                                                                                                                                                                                                                                                                                                                                                                                                                                                                                                                                                                                                                                                                                                                                                                                                                                                                                                                                                                                                                                                                                                                                                                                                                                                                                                                                                                                                                                                                                                                                                                                                                                                                                                                                                                                                                                                                                                                                                                                                                                                                                                                                                                                                                                                                                                                                                                                                                                                                                                                                                                                                                                                                                                                                                                                                                                                                                                                                                                                                                                                                                                                                                                                                                                                                                                                           \n",
       "2289953  cttgcctcccaaagtgctaagattacagcctc                                                                                                                                                                                                                                                                                                                                                                                                                                                                                                                                                                                                                                                                                                                                                                                                                                                                                                                                                                                                                                                                                                                                                                                                                                                                                                                                                                                                                                                                                                                                                                                                                                                                                                                                                                                                                                                                                                                                                                                                                                                                                                                                                                                                                                                                                                                                                                                                                                                                                                                                                                                                                                                                                                                                                                                                                                                                                                                                                                                                                                                                                                                                                                                                                                                                                                                                                                                                                                                                                                                                                                                                                                                                                                                                                                                                                                                                                                                                                                                                                                                                                                                                                                                                                                                                                                                                                                                                                                                                                                                                                                                                                                                                                                                                                                                                                                                                                                                                                                                                                                                                                                                                                                                           \n",
       "4065507  tttttttttttttttttttttttttttttttttttttttttttttttttttttttttttttttttttttttttttttttttttttttttttttttttttttttttttttttttttttttttttttttttttttttttttttttttttttttttttttttttttttttttttttttttttttttttttttttttttttttttttttttttttttttttttttttttttttttttttttttttttttttttttttttttttttttttttttttttttttttttttttttttttttttttttttttttttttttttttttttttttttttttttttttttttttttttttttttttttttttttttttttttttttttttttttttttttttttttttttttttttttttttttttttttttttttttttttttttttttttttttttttttttttttttttttttttttttttttttttttttttttttttttttttttttttttttttttttttttttttttttttttttttttttttttttttttttttttttttttttttttttttttttttttttttttttttttttttttttttttttttttttttttttttttttttttttttttttttttttttttttttttttttttttttttttttttttttttttttttttttttttttttttttttttttttttttttttttttttttttttttttttttttttttttttttttttttttttttttttttttttttttttttttttttttttttttttttttttttttttttttttttttttttttttttttttttttttttttttttttttttttttttttttttttttttttttttttttttttttttttttttttttttttttttttttttttttttttttttttttttttttttttttttttttttttttttttttttttttttttttttttttttttttttttttttttttttttttttttttttttttttttttttttttttttttttttttttttttttttttttttttttttttttttttttttttttttttttttttttttttttttttttttttttttttttttttttttttttttttttttttttttttttttttttttttttttttttttttttttttttttttttttttttttttttttttttttttttttttttttttttttttttttttttttttttttttttttttttttttttttttttttttttttttttttttttttttttttttttttttttttttttttttttttttttttttttttttttttttttttttttttttttttttttttttttttttttttttttttttttttttttttttttttttttttttttttttttttttttttttttttttttttttttttttttttttttttttttttttttttttttttttttttttttttttttttttttttttttttttttttttttttttttttttttttttttttttttttttttttttttttttttttttttttttttttttttttttttttttttttttttttttttttttttttttttttttttttttttttttttttttttttttttttttttttttttttttttttttttttttttttttttttttttttttttttttttttttttttttttttttttttttttttttttttttttttttttttttttttttttttttttttttttttttttttttttttttttttttttttttttttttttttttttttttttttttttttttttttttttttttttttttttttttttttttttttttttttttttttttttttttttttttttttttttttttttttttttttttttttttttttttttttttttttttttttttttttttttttttttttttttttttttttttttttttttttttttttttttttttttttttttttttttttttttttttttttttttttttttttttttttttttttttttttttttttttttttttttttttttttttttttttttttttttttttttttttttttttttttttttttttttttttttttttttttttttttttttttttttttttttttttttttttttttttttttttttttttttttttttttttttttttttttttttttttttttttttttttttttttttttttttttttttttttttttttttttttttttttttttttttttttttttttttttttttttttttttttttttttttttttttttttttttttttttttttttttttttttttttttttttttttttttttttttttttttttttttttttttttttttttttttttttttttttttttttttttttttttttttttttttttttttttttttttttttttttttttttttttttttttttttttttttttttttttttttttttttttttttttttttttttttttttttttttttttttttttttttttttttttttttttttttttttttttttttttttttttttttttttttttttttttttttttttttttttttttttttttttttttttttttttttttttttttttttttttttttttttttttttttttttttttttttttttttttttttttttttttttttttttttttttttttttttttttttttttttttttttttttttttttttttttttttttttttttttttttttttttttttttttttttttttttttttttttttttttttttttttttttttttttttttttttttttttttttttttttttttttttttttttttttttttttttttttttttttttttttttttttttttttttttttttttttttttttttttttttttttttttttttttttttttttttttttttttttttttttttttttttttttttttttttttttttttttttttttttttttttttttttttttttttttttttttttttttttttttttttttttttttttttttttttttttttttttttttttttttttttttttttttttttttttttttttttttttttttttttttttttttttttttttttttttttttttttttttttttttttttttttttttttttttttttttttttttttttttttttttttttttttttttttttttttttttttttttttttttttttttttttttttttttttttttttttttttttttttttttttttttttttttttttttttttttttttttttttttttttttttttttttttttttttttttttttttttttttttttttttttttttttttttttttttttttttttttttttttttttttttttttttttttttttttttttttttttttttttttttttttttttttttttttttttttttttttttttttttttttttttttttttttttttttttttttttttttttttttttttttttttttttttttttttttttttttttttttttttttttttttttttttttttttttttttttttttttttttttttttttttttttttttttttttttttttttttttttttttttttttttttttttttttttttttttttttttttttttttttttttttttttttttttttttttttttttttttttttttttttttttttttttttttttttttttttttttttttttttttttttttttttttttttttttttttttttttttttttttttttttttttttttttttttttttttttttttttttttttttttttttttttttttttttttttttttttttttttttttttttttttttttttttttttttttttttttttttttttttttttttttttttttttttttttttttttttttttttttttttttttttttttttttttttttttttttttttttttttttttttttttttttttttttttttttttttttttttttttttttttttttttttttttttttttttttttttttttttttttttttttttttttttttttttttttttttttttttttttttttttttttttttttttttttttttttttttttttttttttttttttttttttttttttttttttttttttttttttttttttttttttttttttttttttttttttttttttttttttttttttttttttttttttttttttttttttttttttttttttttttttttttttttttttttttttttttttttttttttttttttttttttttttttttttttttttttttttttttttttttttttttttttttttttttttttttttttttttttttttttttttttttttttttttttttttttttttttttttttttttttttttttttttttttttttttttttttttttttttttttttttttttttttttttttttttttttttttttttttttttttttttttttttttttttttttttttttttttttttttttttttttttttttttttttttttttttttttttttttttttttttttttttttttttttttttttttttttttttttttttttttttttttttttttttttttttttttttttttttttttttttttttttttttttttttttttttttttttttttttttttttttttttttttttttttttttttttttttttttttttttttttttttttttttttttttttttttttttttttttttttttttttttttttttttttttttttttttttttttttttttttttttttttttttttttttttttttttttttttttttttttttttttttttttttttttttttttttttttttttttttttttttttttttttttttttttttttttttttttttttttttttttttttttttttttttttttttttttttttttttttttttttttttttttttttttttttttttttttt   \n",
       "\n",
       "                   id  valid_sequence  seq_len  \n",
       "1829934  122278904836  2494.0          231942   \n",
       "2646140  104775703315  2137.0          203015   \n",
       "2878802  76029316175   1549.0          131665   \n",
       "2059934  24341699592   947.0           31251    \n",
       "2878807  41425075334   844.0           71740    \n",
       "...              ...     ...             ...    \n",
       "2289950  54097444      2.0             64       \n",
       "2289951  81096646      2.0             128      \n",
       "2289952  54097446      2.0             64       \n",
       "2289953  54097450      2.0             64       \n",
       "4065507  54509755      2.0             10032    \n",
       "\n",
       "[4065508 rows x 4 columns]"
      ]
     },
     "execution_count": 146,
     "metadata": {},
     "output_type": "execute_result"
    }
   ],
   "source": [
    "df_duplicates_grouped = df_duplicates.groupby('origin').sum().reset_index()\n",
    "df_duplicates_grouped.sort_values('valid_sequence', ascending=False)"
   ]
  },
  {
   "cell_type": "code",
   "execution_count": 147,
   "metadata": {},
   "outputs": [
    {
     "data": {
      "text/html": [
       "<div>\n",
       "<style scoped>\n",
       "    .dataframe tbody tr th:only-of-type {\n",
       "        vertical-align: middle;\n",
       "    }\n",
       "\n",
       "    .dataframe tbody tr th {\n",
       "        vertical-align: top;\n",
       "    }\n",
       "\n",
       "    .dataframe thead th {\n",
       "        text-align: right;\n",
       "    }\n",
       "</style>\n",
       "<table border=\"1\" class=\"dataframe\">\n",
       "  <thead>\n",
       "    <tr style=\"text-align: right;\">\n",
       "      <th></th>\n",
       "      <th>id</th>\n",
       "      <th>locus</th>\n",
       "      <th>organism</th>\n",
       "      <th>definition</th>\n",
       "      <th>journal</th>\n",
       "      <th>filename</th>\n",
       "      <th>origin</th>\n",
       "      <th>valid_sequence</th>\n",
       "      <th>year</th>\n",
       "      <th>patent</th>\n",
       "      <th>company</th>\n",
       "      <th>seq_len</th>\n",
       "    </tr>\n",
       "  </thead>\n",
       "  <tbody>\n",
       "    <tr>\n",
       "      <th>49001889</th>\n",
       "      <td>49001890</td>\n",
       "      <td>LOCUS       GZ879165                  93 bp    DNA     linear   PAT 03-JUN-2013</td>\n",
       "      <td>unknown.</td>\n",
       "      <td>DEFINITION  Sequence 69 from patent US 8445666.</td>\n",
       "      <td>JOURNAL   Patent: US 8445666-B2 69 21-MAY-2013;\\n            International Business Machines Corporation; Armonk, NY</td>\n",
       "      <td>gbpat82.seq.gz</td>\n",
       "      <td>cccactttttgatggggttgtttgtttttttcttgtaaatttgtttgagttcattgtagattctggatattagccctttgtcagatgagtagg</td>\n",
       "      <td>1.0</td>\n",
       "      <td>2013</td>\n",
       "      <td>Patent: US</td>\n",
       "      <td>International Business Machines Corporation; Armonk, NY</td>\n",
       "      <td>93</td>\n",
       "    </tr>\n",
       "    <tr>\n",
       "      <th>49001906</th>\n",
       "      <td>49001907</td>\n",
       "      <td>LOCUS       GZ879182                  93 bp    DNA     linear   PAT 03-JUN-2013</td>\n",
       "      <td>unknown.</td>\n",
       "      <td>DEFINITION  Sequence 86 from patent US 8445666.</td>\n",
       "      <td>JOURNAL   Patent: US 8445666-B2 86 21-MAY-2013;\\n            International Business Machines Corporation; Armonk, NY</td>\n",
       "      <td>gbpat82.seq.gz</td>\n",
       "      <td>cccactttttgatggggttgtttgtttttttcttgtaaatttgtttgagttcattgtagattctggatattagccctttgtcagatgagtagg</td>\n",
       "      <td>1.0</td>\n",
       "      <td>2013</td>\n",
       "      <td>Patent: US</td>\n",
       "      <td>International Business Machines Corporation; Armonk, NY</td>\n",
       "      <td>93</td>\n",
       "    </tr>\n",
       "    <tr>\n",
       "      <th>49001922</th>\n",
       "      <td>49001923</td>\n",
       "      <td>LOCUS       GZ879198                  93 bp    DNA     linear   PAT 03-JUN-2013</td>\n",
       "      <td>unknown.</td>\n",
       "      <td>DEFINITION  Sequence 102 from patent US 8445666.</td>\n",
       "      <td>JOURNAL   Patent: US 8445666-B2 102 21-MAY-2013;\\n            International Business Machines Corporation; Armonk, NY</td>\n",
       "      <td>gbpat82.seq.gz</td>\n",
       "      <td>cccactttttgatggggttgtttgtttttttcttgtaaatttgtttgagttcattgtagattctggatattagccctttgtcagatgagtagg</td>\n",
       "      <td>1.0</td>\n",
       "      <td>2013</td>\n",
       "      <td>Patent: US</td>\n",
       "      <td>International Business Machines Corporation; Armonk, NY</td>\n",
       "      <td>93</td>\n",
       "    </tr>\n",
       "    <tr>\n",
       "      <th>49001924</th>\n",
       "      <td>49001925</td>\n",
       "      <td>LOCUS       GZ879200                  93 bp    DNA     linear   PAT 03-JUN-2013</td>\n",
       "      <td>unknown.</td>\n",
       "      <td>DEFINITION  Sequence 104 from patent US 8445666.</td>\n",
       "      <td>JOURNAL   Patent: US 8445666-B2 104 21-MAY-2013;\\n            International Business Machines Corporation; Armonk, NY</td>\n",
       "      <td>gbpat82.seq.gz</td>\n",
       "      <td>cccactttttgatggggttgtttgtttttttcttgtaaatttgtttgagttcattgtagattctggatattagccctttgtcagatgagtagg</td>\n",
       "      <td>1.0</td>\n",
       "      <td>2013</td>\n",
       "      <td>Patent: US</td>\n",
       "      <td>International Business Machines Corporation; Armonk, NY</td>\n",
       "      <td>93</td>\n",
       "    </tr>\n",
       "    <tr>\n",
       "      <th>49001926</th>\n",
       "      <td>49001927</td>\n",
       "      <td>LOCUS       GZ879202                  93 bp    DNA     linear   PAT 03-JUN-2013</td>\n",
       "      <td>unknown.</td>\n",
       "      <td>DEFINITION  Sequence 106 from patent US 8445666.</td>\n",
       "      <td>JOURNAL   Patent: US 8445666-B2 106 21-MAY-2013;\\n            International Business Machines Corporation; Armonk, NY</td>\n",
       "      <td>gbpat82.seq.gz</td>\n",
       "      <td>cccactttttgatggggttgtttgtttttttcttgtaaatttgtttgagttcattgtagattctggatattagccctttgtcagatgagtagg</td>\n",
       "      <td>1.0</td>\n",
       "      <td>2013</td>\n",
       "      <td>Patent: US</td>\n",
       "      <td>International Business Machines Corporation; Armonk, NY</td>\n",
       "      <td>93</td>\n",
       "    </tr>\n",
       "    <tr>\n",
       "      <th>...</th>\n",
       "      <td>...</td>\n",
       "      <td>...</td>\n",
       "      <td>...</td>\n",
       "      <td>...</td>\n",
       "      <td>...</td>\n",
       "      <td>...</td>\n",
       "      <td>...</td>\n",
       "      <td>...</td>\n",
       "      <td>...</td>\n",
       "      <td>...</td>\n",
       "      <td>...</td>\n",
       "      <td>...</td>\n",
       "    </tr>\n",
       "    <tr>\n",
       "      <th>49059161</th>\n",
       "      <td>49059162</td>\n",
       "      <td>LOCUS       GZ936437                  93 bp    DNA     linear   PAT 03-JUN-2013</td>\n",
       "      <td>unknown.</td>\n",
       "      <td>DEFINITION  Sequence 57341 from patent US 8445666.</td>\n",
       "      <td>JOURNAL   Patent: US 8445666-B2 57341 21-MAY-2013;\\n            International Business Machines Corporation; Armonk, NY</td>\n",
       "      <td>gbpat82.seq.gz</td>\n",
       "      <td>cccactttttgatggggttgtttgtttttttcttgtaaatttgtttgagttcattgtagattctggatattagccctttgtcagatgagtagg</td>\n",
       "      <td>1.0</td>\n",
       "      <td>2013</td>\n",
       "      <td>Patent: US</td>\n",
       "      <td>International Business Machines Corporation; Armonk, NY</td>\n",
       "      <td>93</td>\n",
       "    </tr>\n",
       "    <tr>\n",
       "      <th>49059163</th>\n",
       "      <td>49059164</td>\n",
       "      <td>LOCUS       GZ936439                  93 bp    DNA     linear   PAT 03-JUN-2013</td>\n",
       "      <td>unknown.</td>\n",
       "      <td>DEFINITION  Sequence 57343 from patent US 8445666.</td>\n",
       "      <td>JOURNAL   Patent: US 8445666-B2 57343 21-MAY-2013;\\n            International Business Machines Corporation; Armonk, NY</td>\n",
       "      <td>gbpat82.seq.gz</td>\n",
       "      <td>cccactttttgatggggttgtttgtttttttcttgtaaatttgtttgagttcattgtagattctggatattagccctttgtcagatgagtagg</td>\n",
       "      <td>1.0</td>\n",
       "      <td>2013</td>\n",
       "      <td>Patent: US</td>\n",
       "      <td>International Business Machines Corporation; Armonk, NY</td>\n",
       "      <td>93</td>\n",
       "    </tr>\n",
       "    <tr>\n",
       "      <th>49059169</th>\n",
       "      <td>49059170</td>\n",
       "      <td>LOCUS       GZ936445                  93 bp    DNA     linear   PAT 03-JUN-2013</td>\n",
       "      <td>unknown.</td>\n",
       "      <td>DEFINITION  Sequence 57349 from patent US 8445666.</td>\n",
       "      <td>JOURNAL   Patent: US 8445666-B2 57349 21-MAY-2013;\\n            International Business Machines Corporation; Armonk, NY</td>\n",
       "      <td>gbpat82.seq.gz</td>\n",
       "      <td>cccactttttgatggggttgtttgtttttttcttgtaaatttgtttgagttcattgtagattctggatattagccctttgtcagatgagtagg</td>\n",
       "      <td>1.0</td>\n",
       "      <td>2013</td>\n",
       "      <td>Patent: US</td>\n",
       "      <td>International Business Machines Corporation; Armonk, NY</td>\n",
       "      <td>93</td>\n",
       "    </tr>\n",
       "    <tr>\n",
       "      <th>49059204</th>\n",
       "      <td>49059205</td>\n",
       "      <td>LOCUS       GZ936480                  93 bp    DNA     linear   PAT 03-JUN-2013</td>\n",
       "      <td>unknown.</td>\n",
       "      <td>DEFINITION  Sequence 57384 from patent US 8445666.</td>\n",
       "      <td>JOURNAL   Patent: US 8445666-B2 57384 21-MAY-2013;\\n            International Business Machines Corporation; Armonk, NY</td>\n",
       "      <td>gbpat82.seq.gz</td>\n",
       "      <td>cccactttttgatggggttgtttgtttttttcttgtaaatttgtttgagttcattgtagattctggatattagccctttgtcagatgagtagg</td>\n",
       "      <td>1.0</td>\n",
       "      <td>2013</td>\n",
       "      <td>Patent: US</td>\n",
       "      <td>International Business Machines Corporation; Armonk, NY</td>\n",
       "      <td>93</td>\n",
       "    </tr>\n",
       "    <tr>\n",
       "      <th>49059233</th>\n",
       "      <td>49059234</td>\n",
       "      <td>LOCUS       GZ936509                  93 bp    DNA     linear   PAT 03-JUN-2013</td>\n",
       "      <td>unknown.</td>\n",
       "      <td>DEFINITION  Sequence 57413 from patent US 8445666.</td>\n",
       "      <td>JOURNAL   Patent: US 8445666-B2 57413 21-MAY-2013;\\n            International Business Machines Corporation; Armonk, NY</td>\n",
       "      <td>gbpat82.seq.gz</td>\n",
       "      <td>cccactttttgatggggttgtttgtttttttcttgtaaatttgtttgagttcattgtagattctggatattagccctttgtcagatgagtagg</td>\n",
       "      <td>1.0</td>\n",
       "      <td>2013</td>\n",
       "      <td>Patent: US</td>\n",
       "      <td>International Business Machines Corporation; Armonk, NY</td>\n",
       "      <td>93</td>\n",
       "    </tr>\n",
       "  </tbody>\n",
       "</table>\n",
       "<p>2494 rows × 12 columns</p>\n",
       "</div>"
      ],
      "text/plain": [
       "                id                                                                            locus  organism                                          definition                                                                                                                  journal        filename                                                                                         origin  valid_sequence  year      patent                                                  company  seq_len\n",
       "49001889  49001890  LOCUS       GZ879165                  93 bp    DNA     linear   PAT 03-JUN-2013  unknown.  DEFINITION  Sequence 69 from patent US 8445666.     JOURNAL   Patent: US 8445666-B2 69 21-MAY-2013;\\n            International Business Machines Corporation; Armonk, NY     gbpat82.seq.gz  cccactttttgatggggttgtttgtttttttcttgtaaatttgtttgagttcattgtagattctggatattagccctttgtcagatgagtagg  1.0             2013  Patent: US  International Business Machines Corporation; Armonk, NY  93     \n",
       "49001906  49001907  LOCUS       GZ879182                  93 bp    DNA     linear   PAT 03-JUN-2013  unknown.  DEFINITION  Sequence 86 from patent US 8445666.     JOURNAL   Patent: US 8445666-B2 86 21-MAY-2013;\\n            International Business Machines Corporation; Armonk, NY     gbpat82.seq.gz  cccactttttgatggggttgtttgtttttttcttgtaaatttgtttgagttcattgtagattctggatattagccctttgtcagatgagtagg  1.0             2013  Patent: US  International Business Machines Corporation; Armonk, NY  93     \n",
       "49001922  49001923  LOCUS       GZ879198                  93 bp    DNA     linear   PAT 03-JUN-2013  unknown.  DEFINITION  Sequence 102 from patent US 8445666.    JOURNAL   Patent: US 8445666-B2 102 21-MAY-2013;\\n            International Business Machines Corporation; Armonk, NY    gbpat82.seq.gz  cccactttttgatggggttgtttgtttttttcttgtaaatttgtttgagttcattgtagattctggatattagccctttgtcagatgagtagg  1.0             2013  Patent: US  International Business Machines Corporation; Armonk, NY  93     \n",
       "49001924  49001925  LOCUS       GZ879200                  93 bp    DNA     linear   PAT 03-JUN-2013  unknown.  DEFINITION  Sequence 104 from patent US 8445666.    JOURNAL   Patent: US 8445666-B2 104 21-MAY-2013;\\n            International Business Machines Corporation; Armonk, NY    gbpat82.seq.gz  cccactttttgatggggttgtttgtttttttcttgtaaatttgtttgagttcattgtagattctggatattagccctttgtcagatgagtagg  1.0             2013  Patent: US  International Business Machines Corporation; Armonk, NY  93     \n",
       "49001926  49001927  LOCUS       GZ879202                  93 bp    DNA     linear   PAT 03-JUN-2013  unknown.  DEFINITION  Sequence 106 from patent US 8445666.    JOURNAL   Patent: US 8445666-B2 106 21-MAY-2013;\\n            International Business Machines Corporation; Armonk, NY    gbpat82.seq.gz  cccactttttgatggggttgtttgtttttttcttgtaaatttgtttgagttcattgtagattctggatattagccctttgtcagatgagtagg  1.0             2013  Patent: US  International Business Machines Corporation; Armonk, NY  93     \n",
       "...            ...                                                                              ...       ...                                               ...                                                                                                                      ...               ...                                                                                            ...  ...              ...         ...                                                      ...  ..     \n",
       "49059161  49059162  LOCUS       GZ936437                  93 bp    DNA     linear   PAT 03-JUN-2013  unknown.  DEFINITION  Sequence 57341 from patent US 8445666.  JOURNAL   Patent: US 8445666-B2 57341 21-MAY-2013;\\n            International Business Machines Corporation; Armonk, NY  gbpat82.seq.gz  cccactttttgatggggttgtttgtttttttcttgtaaatttgtttgagttcattgtagattctggatattagccctttgtcagatgagtagg  1.0             2013  Patent: US  International Business Machines Corporation; Armonk, NY  93     \n",
       "49059163  49059164  LOCUS       GZ936439                  93 bp    DNA     linear   PAT 03-JUN-2013  unknown.  DEFINITION  Sequence 57343 from patent US 8445666.  JOURNAL   Patent: US 8445666-B2 57343 21-MAY-2013;\\n            International Business Machines Corporation; Armonk, NY  gbpat82.seq.gz  cccactttttgatggggttgtttgtttttttcttgtaaatttgtttgagttcattgtagattctggatattagccctttgtcagatgagtagg  1.0             2013  Patent: US  International Business Machines Corporation; Armonk, NY  93     \n",
       "49059169  49059170  LOCUS       GZ936445                  93 bp    DNA     linear   PAT 03-JUN-2013  unknown.  DEFINITION  Sequence 57349 from patent US 8445666.  JOURNAL   Patent: US 8445666-B2 57349 21-MAY-2013;\\n            International Business Machines Corporation; Armonk, NY  gbpat82.seq.gz  cccactttttgatggggttgtttgtttttttcttgtaaatttgtttgagttcattgtagattctggatattagccctttgtcagatgagtagg  1.0             2013  Patent: US  International Business Machines Corporation; Armonk, NY  93     \n",
       "49059204  49059205  LOCUS       GZ936480                  93 bp    DNA     linear   PAT 03-JUN-2013  unknown.  DEFINITION  Sequence 57384 from patent US 8445666.  JOURNAL   Patent: US 8445666-B2 57384 21-MAY-2013;\\n            International Business Machines Corporation; Armonk, NY  gbpat82.seq.gz  cccactttttgatggggttgtttgtttttttcttgtaaatttgtttgagttcattgtagattctggatattagccctttgtcagatgagtagg  1.0             2013  Patent: US  International Business Machines Corporation; Armonk, NY  93     \n",
       "49059233  49059234  LOCUS       GZ936509                  93 bp    DNA     linear   PAT 03-JUN-2013  unknown.  DEFINITION  Sequence 57413 from patent US 8445666.  JOURNAL   Patent: US 8445666-B2 57413 21-MAY-2013;\\n            International Business Machines Corporation; Armonk, NY  gbpat82.seq.gz  cccactttttgatggggttgtttgtttttttcttgtaaatttgtttgagttcattgtagattctggatattagccctttgtcagatgagtagg  1.0             2013  Patent: US  International Business Machines Corporation; Armonk, NY  93     \n",
       "\n",
       "[2494 rows x 12 columns]"
      ]
     },
     "execution_count": 147,
     "metadata": {},
     "output_type": "execute_result"
    }
   ],
   "source": [
    "df_duplicates.loc[df_duplicates['origin'] == 'cccactttttgatggggttgtttgtttttttcttgtaaatttgtttgagttcattgtagattctggatattagccctttgtcagatgagtagg']"
   ]
  },
  {
   "cell_type": "code",
   "execution_count": 143,
   "metadata": {},
   "outputs": [
    {
     "name": "stderr",
     "output_type": "stream",
     "text": [
      "/tmp/ipykernel_346625/3652881321.py:1: FutureWarning: Passing a negative integer is deprecated in version 1.0 and will not be supported in future version. Instead, use None to not limit the column width.\n",
      "  pd.set_option('display.max_colwidth', -1)\n"
     ]
    }
   ],
   "source": [
    "pd.set_option('display.max_colwidth', -1)"
   ]
  },
  {
   "cell_type": "code",
   "execution_count": 151,
   "metadata": {},
   "outputs": [],
   "source": [
    "test_duplicate = df_duplicates_grouped.loc[df_duplicates_grouped['id'] == 122278904836].origin.to_list()\n",
    "text_file = open(\"/mnt/data/erikz/agnes_pkl_files/example_duplicate.txt\", \"w\")\n",
    "text_file.write(str(test_duplicate))\n",
    "text_file.close()"
   ]
  },
  {
   "cell_type": "code",
   "execution_count": 152,
   "metadata": {},
   "outputs": [
    {
     "data": {
      "text/plain": [
       "['cccactttttgatggggttgtttgtttttttcttgtaaatttgtttgagttcattgtagattctggatattagccctttgtcagatgagtagg']"
      ]
     },
     "execution_count": 152,
     "metadata": {},
     "output_type": "execute_result"
    }
   ],
   "source": [
    "test_duplicate"
   ]
  },
  {
   "cell_type": "code",
   "execution_count": 153,
   "metadata": {},
   "outputs": [],
   "source": [
    "#pd.options.display.max_colwidth = 100"
   ]
  },
  {
   "cell_type": "code",
   "execution_count": 156,
   "metadata": {},
   "outputs": [],
   "source": [
    "with open('/home/erikz/data/agnes_pkl_files/agnes_duplicates.pkl', 'wb') as f:\n",
    "    pickle.dump(df_duplicates, f)"
   ]
  },
  {
   "cell_type": "code",
   "execution_count": 157,
   "metadata": {},
   "outputs": [],
   "source": [
    "df_unique_duplicates = df_duplicates.drop_duplicates('origin')"
   ]
  },
  {
   "cell_type": "code",
   "execution_count": 158,
   "metadata": {},
   "outputs": [
    {
     "data": {
      "text/html": [
       "<div>\n",
       "<style scoped>\n",
       "    .dataframe tbody tr th:only-of-type {\n",
       "        vertical-align: middle;\n",
       "    }\n",
       "\n",
       "    .dataframe tbody tr th {\n",
       "        vertical-align: top;\n",
       "    }\n",
       "\n",
       "    .dataframe thead th {\n",
       "        text-align: right;\n",
       "    }\n",
       "</style>\n",
       "<table border=\"1\" class=\"dataframe\">\n",
       "  <thead>\n",
       "    <tr style=\"text-align: right;\">\n",
       "      <th></th>\n",
       "      <th>id</th>\n",
       "      <th>locus</th>\n",
       "      <th>organism</th>\n",
       "      <th>definition</th>\n",
       "      <th>journal</th>\n",
       "      <th>filename</th>\n",
       "      <th>origin</th>\n",
       "      <th>valid_sequence</th>\n",
       "      <th>year</th>\n",
       "      <th>patent</th>\n",
       "      <th>company</th>\n",
       "      <th>seq_len</th>\n",
       "    </tr>\n",
       "  </thead>\n",
       "  <tbody>\n",
       "    <tr>\n",
       "      <th>0</th>\n",
       "      <td>1</td>\n",
       "      <td>LOCUS       A00001                   335 bp    DNA     linear   PAT 01-SEP-2018</td>\n",
       "      <td>cauliflower mosaic virus</td>\n",
       "      <td>DEFINITION  Cauliflower mosaic virus satellite cDNA.</td>\n",
       "      <td>JOURNAL   Patent: EP 0242016-A1 1 21-OCT-1987;\\n            AGRICULTURAL GENETICS COMPANY LIMITED</td>\n",
       "      <td>gbpat1.seq.gz</td>\n",
       "      <td>gttttgtttgatggagaattgcgcagaggggttatatctgcgtgaggatctgtcactcggcggtgtgggatacctccctgctaaggcgggttgagtgatgttccctcggactggggaccgctggcttgcgagctatgtccgctactctcagtactacactctcatttgagcccccgctcagtttgctagcagaacccggcacatggttcgccgataccatggaatttcgaaagaaacactctgttaggtggtatgagtcatgacgcacgcagggagaggctaaggcttatgctatgctgatctccgtgaatgtctatcattcctacacaggaccc</td>\n",
       "      <td>1.0</td>\n",
       "      <td>1987</td>\n",
       "      <td>Patent: EP</td>\n",
       "      <td>AGRICULTURAL GENETICS COMPANY LIMITED</td>\n",
       "      <td>335</td>\n",
       "    </tr>\n",
       "    <tr>\n",
       "      <th>1</th>\n",
       "      <td>2</td>\n",
       "      <td>LOCUS       A00002                   194 bp    DNA     linear   PAT 10-FEB-1993</td>\n",
       "      <td>bos taurus</td>\n",
       "      <td>DEFINITION  B.taurus DNA sequence 1 from patent application EP0238993.</td>\n",
       "      <td>JOURNAL   Patent: EP 0238993-A2 1 30-SEP-1987;\\n            BAYER AG</td>\n",
       "      <td>gbpat1.seq.gz</td>\n",
       "      <td>aattcatgcgtccggacttctgcctcgagccgccgtacactgggccctgcaaagctcgtatcatccgttacttctacaatgcaaaggcaggcctgtgtcagaccttcgtatacggcggttgccgtgctaagcgtaacaacttcaaatccgcggaagactgcgaacgtacttgcggtggtccttagtaaagcttg</td>\n",
       "      <td>1.0</td>\n",
       "      <td>1987</td>\n",
       "      <td>Patent: EP</td>\n",
       "      <td>BAYER AG</td>\n",
       "      <td>194</td>\n",
       "    </tr>\n",
       "    <tr>\n",
       "      <th>2</th>\n",
       "      <td>3</td>\n",
       "      <td>LOCUS       A00003                   194 bp    DNA     linear   PAT 10-FEB-1993</td>\n",
       "      <td>bos taurus</td>\n",
       "      <td>DEFINITION  B.taurus DNA sequence 2 from patent application EP0238993.</td>\n",
       "      <td>JOURNAL   Patent: EP 0238993-A2 2 30-SEP-1987;\\n            BAYER AG</td>\n",
       "      <td>gbpat1.seq.gz</td>\n",
       "      <td>caagctttactaaggaccaccgcaagtacgttcgcagtcttccgcggatttgaagttgttacgcttagcacggcaaccgccgtatacgaaggtctgacacaggcctgcctttgcattgtagaagtaacggatgatacgagctttgcagggcccagtgtacggcggctcgaggcagaagtccggacgcatgaatt</td>\n",
       "      <td>1.0</td>\n",
       "      <td>1987</td>\n",
       "      <td>Patent: EP</td>\n",
       "      <td>BAYER AG</td>\n",
       "      <td>194</td>\n",
       "    </tr>\n",
       "    <tr>\n",
       "      <th>17</th>\n",
       "      <td>18</td>\n",
       "      <td>LOCUS       A00020                    45 bp    DNA     linear   PAT 10-FEB-1993</td>\n",
       "      <td>synthetic construct</td>\n",
       "      <td>DEFINITION  Artificial DNA sequence of the Beta-EA2-Block.</td>\n",
       "      <td>JOURNAL   Patent: EP 0238993-A2 19 30-SEP-1987;\\n            BAYER AG</td>\n",
       "      <td>gbpat1.seq.gz</td>\n",
       "      <td>ctgcctggctcgtatcatccgttacttctacaatgcaaaggcagg</td>\n",
       "      <td>1.0</td>\n",
       "      <td>1987</td>\n",
       "      <td>Patent: EP</td>\n",
       "      <td>BAYER AG</td>\n",
       "      <td>45</td>\n",
       "    </tr>\n",
       "    <tr>\n",
       "      <th>26</th>\n",
       "      <td>27</td>\n",
       "      <td>LOCUS       A00035                    82 bp    DNA     linear   PAT 05-JUL-1999</td>\n",
       "      <td>bacillus subtilis</td>\n",
       "      <td>DEFINITION  B.subtilis xylR promoter-operator P1O1.</td>\n",
       "      <td>JOURNAL   Patent: EP 0242220-A2 3 21-OCT-1987;\\n            NOVO NORDISK A/S; Bagsvaerd, ; Denmark</td>\n",
       "      <td>gbpat1.seq.gz</td>\n",
       "      <td>aactttctgaaaaagatgttgaaaaagtcgaaaggattttataatattaagtcaagttagtttgtttgatcaacaaactaat</td>\n",
       "      <td>1.0</td>\n",
       "      <td>1987</td>\n",
       "      <td>Patent: EP</td>\n",
       "      <td>NOVO NORDISK A/S; Bagsvaerd, ; Denmark</td>\n",
       "      <td>82</td>\n",
       "    </tr>\n",
       "    <tr>\n",
       "      <th>...</th>\n",
       "      <td>...</td>\n",
       "      <td>...</td>\n",
       "      <td>...</td>\n",
       "      <td>...</td>\n",
       "      <td>...</td>\n",
       "      <td>...</td>\n",
       "      <td>...</td>\n",
       "      <td>...</td>\n",
       "      <td>...</td>\n",
       "      <td>...</td>\n",
       "      <td>...</td>\n",
       "      <td>...</td>\n",
       "    </tr>\n",
       "    <tr>\n",
       "      <th>54801435</th>\n",
       "      <td>54801436</td>\n",
       "      <td>LOCUS       HJ946820                 700 bp    DNA     linear   PAT 12-FEB-2015</td>\n",
       "      <td>unknown.</td>\n",
       "      <td>DEFINITION  Sequence 6759 from patent US 8709766.</td>\n",
       "      <td>JOURNAL   Patent: US 8709766-B2 6759 29-APR-2014;\\n            Colorado School of Mines; Golden, CO</td>\n",
       "      <td>gbpat99.seq.gz</td>\n",
       "      <td>cgtgacgaggataatggggaagaagtgccatatctgctccgactcccgctcctcttccgctgtcgatgtaagctacggctacggcttcggctgcgactacgtggcatgcgacaaggtcggggagacaggaagcaaatggagtgtaatgaggaaggcctcctcgttcgtgactccgccgctcctcctgtgaccatgcgaaggagaggatgaagtcagcaagtaaaggataatgggaacaatattgttggtctcagggataaatttacttcgtatgtgtgtgtgtgtgtgtgtgtgtgtgtgtgccgacagtccagaaaataaaggtcggtactccttgcgtatcatcaggcgatatgaagcaactggggcgacgggcttcagccttttcctctctcacggccactgtcatcccctgaaagaaccccacagtcatcccctgaaagagcctcgtcgaccggtatatatgccaggtgtcgtatttgaaaatactgtggtagtgccgacgcgtgacatgttctatcgtggtgcacgggcaaggatgagcaggacttcatcggcttctcatgactactctcctcctcttctctactttgatctacgtgctacattcctgtgcgctctagggtgcgtgcgcgcgaaggacggaagcgtccaaagcaccctgatcatcaccagcagcaacgctaatcgtacatttatg</td>\n",
       "      <td>1.0</td>\n",
       "      <td>2014</td>\n",
       "      <td>Patent: US</td>\n",
       "      <td>Colorado School of Mines; Golden, CO</td>\n",
       "      <td>700</td>\n",
       "    </tr>\n",
       "    <tr>\n",
       "      <th>54801513</th>\n",
       "      <td>54801514</td>\n",
       "      <td>LOCUS       HJ946898                 700 bp    DNA     linear   PAT 12-FEB-2015</td>\n",
       "      <td>unknown.</td>\n",
       "      <td>DEFINITION  Sequence 6837 from patent US 8709766.</td>\n",
       "      <td>JOURNAL   Patent: US 8709766-B2 6837 29-APR-2014;\\n            Colorado School of Mines; Golden, CO</td>\n",
       "      <td>gbpat99.seq.gz</td>\n",
       "      <td>ataatggagtgcggcggctgcaagagctggtagcattttgatcgcattgagaaaaagaagggaaaggtagtgcggaagccggtggaggtcgctgcgagcagcgagacgacgcagtggtcattgccgccgcgactccaagagcacgacaaagaagtaggtacttcgggttgaaagagccagggaaggaacacggtgaactcatagatgaagaatgtaacagtaatataacgcagtttgaatgtgtttaatccttcatcgcctttcagttcgattttgcttttcttgcccttctcgtccttgtaagctcggcccatcggactcaccacttcctcgacgagaaaaatgtaagcggccgtattatcgcatccacacccgctctaagccgctgaaagagctcctaattctctttttttgacattccaaaaggttcggtgggggaacttttagggacctcgaggaggtgggtgccccgtcaccaaattagatcccagcggccttggttgcactttcttgagcgagtggaaacatattcttatagaaaatatgaacttggtcaacgatttaattatctcgggcctccattgctttcatggttcgtgctctttcaaggcttacatgcaggtgtttttgttcacccttagttcatactccacaggattttggttgtcccgacactagccattttgacctcagcaccatg</td>\n",
       "      <td>1.0</td>\n",
       "      <td>2014</td>\n",
       "      <td>Patent: US</td>\n",
       "      <td>Colorado School of Mines; Golden, CO</td>\n",
       "      <td>700</td>\n",
       "    </tr>\n",
       "    <tr>\n",
       "      <th>54801628</th>\n",
       "      <td>54801629</td>\n",
       "      <td>LOCUS       HJ947013                 700 bp    DNA     linear   PAT 12-FEB-2015</td>\n",
       "      <td>unknown.</td>\n",
       "      <td>DEFINITION  Sequence 6952 from patent US 8709766.</td>\n",
       "      <td>JOURNAL   Patent: US 8709766-B2 6952 29-APR-2014;\\n            Colorado School of Mines; Golden, CO</td>\n",
       "      <td>gbpat99.seq.gz</td>\n",
       "      <td>tgttcacaagactgctgaacggaaagaggaggcattgacggatgagatagtcgttcaggtgccaagagacgtccacacgcgcgaagagcggtctgtgaggggaagcggggcgcaaggagtggacggtggaaagggctggcaagcgagggggcgcaatgcatcagaacctctggggtcgagggctcatccccctttaaacacatgcgccacgcatcaagggacactcacgcacacacattcacatcaacagatgggttcttcgacctcgccggtgtccagggggtcagactcggagtatcaacagctgtgtggggttgaggaagagcgagaatgtgatgaacccccccatcccacctcgcgtttgctgcccgggcacgcagctcacgctgcagacgctccaaggaccccttgggaatgggttgaggaaagtgacagcgatcaagagtatcaaagtaccgacacagacgaaggactgctccatttcctgccgcccgcccccttgtttgcatggacagctgctcatcatccgaagtcgagtagcccggtgacccacgaaaaccaagagcagcgctaccgcaggtggctcgaactgtttccacgcgtggtaatgtttccaccgccagtcgtgaagtggcttccgaaatacaccagacatcagttttggggggatttgctgggcggtttgactgtagccgtaatg</td>\n",
       "      <td>1.0</td>\n",
       "      <td>2014</td>\n",
       "      <td>Patent: US</td>\n",
       "      <td>Colorado School of Mines; Golden, CO</td>\n",
       "      <td>700</td>\n",
       "    </tr>\n",
       "    <tr>\n",
       "      <th>54801668</th>\n",
       "      <td>54801669</td>\n",
       "      <td>LOCUS       HJ947053                 700 bp    DNA     linear   PAT 12-FEB-2015</td>\n",
       "      <td>unknown.</td>\n",
       "      <td>DEFINITION  Sequence 6995 from patent US 8709766.</td>\n",
       "      <td>JOURNAL   Patent: US 8709766-B2 6995 29-APR-2014;\\n            Colorado School of Mines; Golden, CO</td>\n",
       "      <td>gbpat99.seq.gz</td>\n",
       "      <td>gcacgccaacagccaaatatcccaaccacaaaacaagtagcttcatgtcagcgaaaaagcgcctgtcttatgcatgtcatttatccatgtaagcgacgcagcagtctcatcaagcatatttccatgtacaggagatttataaccatacaaagtgagcttcctgtttgcgtcgcgactacccttcatgcaaaagactcattgcgattcgagcaggcatcgctttggactgaaggcggcagctactgctggtctgacgtatctagctttctattcgctttttggaaggtttttcccgacaagtcctatacaggatcgtaagacttttggggacctcgaaacatttgcctttgacgagaagcccttcacccgagcttatggcgataaattcgagctccttcgtccttggtacgatatgcgggcgggcgtgcatcaggcacctcagcttttggcgtcaccagagtcttggattgagcagttgaccctcaggctcaaccatttggactcgaaggtggccgcaaacactgaccggtccgtatcaactcgcaccagggccgcttatcttgaggttatgaagctgtacgtgtcaggactggcgtatgggcccgaagagatgagtgtgggagctgacgcaacaattggtccctttcaggctgataagagggcaaagggcctggactgggcttaccttggcatgaccatg</td>\n",
       "      <td>1.0</td>\n",
       "      <td>2014</td>\n",
       "      <td>Patent: US</td>\n",
       "      <td>Colorado School of Mines; Golden, CO</td>\n",
       "      <td>700</td>\n",
       "    </tr>\n",
       "    <tr>\n",
       "      <th>54811432</th>\n",
       "      <td>54811433</td>\n",
       "      <td>LOCUS       HJ956817                 766 bp    DNA     linear   PAT 12-FEB-2015</td>\n",
       "      <td>unknown.</td>\n",
       "      <td>DEFINITION  Sequence 7 from patent US 8710295.</td>\n",
       "      <td>JOURNAL   Patent: US 8710295-B2 7 29-APR-2014;\\n            Pioneer Hi-Bred International Inc; Johnston, IA</td>\n",
       "      <td>gbpat99.seq.gz</td>\n",
       "      <td>ggaaggaaaattccagagaatgatttctacctggaagctcttgtcaagatttcaccagttttgcagtcacgtaaaagccaatcacgacgcataccattcttccctgatccagaaacccaagtgtccacttgaactatgtcacccctgaagcaaatatagacacacaatttcagataattagatttagaataaccataataatactaatagcttatctaacttcaacccaacaccaagaagtcagaataattgcattctttatacatctagtagtactcaaacagaacagagggtatatataactggtaagaaaacaaatgcaaagaatacatagtatcagcttctatttttacaataattaaacaaggataagtcaccttatctaataacatgtaattaatgctatactacatctcttgtacagatcaatagctctgttgcacaaggtttcccatagttcatcatgtataaagcttgtgtatctaatcaattttcatcccagacaaatttccaaagcattttggttctcataattaagtctcaataattaccatgaatatatttaggagtgatcattcctcataaagattactaaaatagacagagaaatagcagcttaacatggatacattgcaaatcacatgtaatggttgaatctagatgactaaccatgtaggatagcgttccaccacaacctgcatccgagtaaccacccatatcaagttctttttgcacatttctggcgtggaaccaaagactggccgtc</td>\n",
       "      <td>1.0</td>\n",
       "      <td>2014</td>\n",
       "      <td>Patent: US</td>\n",
       "      <td>Pioneer Hi-Bred International Inc; Johnston, IA</td>\n",
       "      <td>766</td>\n",
       "    </tr>\n",
       "  </tbody>\n",
       "</table>\n",
       "<p>4065508 rows × 12 columns</p>\n",
       "</div>"
      ],
      "text/plain": [
       "                id                                                                            locus                  organism                                                              definition                                                                                                      journal        filename  \\\n",
       "0         1         LOCUS       A00001                   335 bp    DNA     linear   PAT 01-SEP-2018  cauliflower mosaic virus  DEFINITION  Cauliflower mosaic virus satellite cDNA.                    JOURNAL   Patent: EP 0242016-A1 1 21-OCT-1987;\\n            AGRICULTURAL GENETICS COMPANY LIMITED            gbpat1.seq.gz    \n",
       "1         2         LOCUS       A00002                   194 bp    DNA     linear   PAT 10-FEB-1993  bos taurus                DEFINITION  B.taurus DNA sequence 1 from patent application EP0238993.  JOURNAL   Patent: EP 0238993-A2 1 30-SEP-1987;\\n            BAYER AG                                         gbpat1.seq.gz    \n",
       "2         3         LOCUS       A00003                   194 bp    DNA     linear   PAT 10-FEB-1993  bos taurus                DEFINITION  B.taurus DNA sequence 2 from patent application EP0238993.  JOURNAL   Patent: EP 0238993-A2 2 30-SEP-1987;\\n            BAYER AG                                         gbpat1.seq.gz    \n",
       "17        18        LOCUS       A00020                    45 bp    DNA     linear   PAT 10-FEB-1993  synthetic construct       DEFINITION  Artificial DNA sequence of the Beta-EA2-Block.              JOURNAL   Patent: EP 0238993-A2 19 30-SEP-1987;\\n            BAYER AG                                        gbpat1.seq.gz    \n",
       "26        27        LOCUS       A00035                    82 bp    DNA     linear   PAT 05-JUL-1999  bacillus subtilis         DEFINITION  B.subtilis xylR promoter-operator P1O1.                     JOURNAL   Patent: EP 0242220-A2 3 21-OCT-1987;\\n            NOVO NORDISK A/S; Bagsvaerd, ; Denmark           gbpat1.seq.gz    \n",
       "...       ..                                                                                    ...                ...                                                         ...                                                                                                                    ...                     ...    \n",
       "54801435  54801436  LOCUS       HJ946820                 700 bp    DNA     linear   PAT 12-FEB-2015  unknown.                  DEFINITION  Sequence 6759 from patent US 8709766.                       JOURNAL   Patent: US 8709766-B2 6759 29-APR-2014;\\n            Colorado School of Mines; Golden, CO          gbpat99.seq.gz   \n",
       "54801513  54801514  LOCUS       HJ946898                 700 bp    DNA     linear   PAT 12-FEB-2015  unknown.                  DEFINITION  Sequence 6837 from patent US 8709766.                       JOURNAL   Patent: US 8709766-B2 6837 29-APR-2014;\\n            Colorado School of Mines; Golden, CO          gbpat99.seq.gz   \n",
       "54801628  54801629  LOCUS       HJ947013                 700 bp    DNA     linear   PAT 12-FEB-2015  unknown.                  DEFINITION  Sequence 6952 from patent US 8709766.                       JOURNAL   Patent: US 8709766-B2 6952 29-APR-2014;\\n            Colorado School of Mines; Golden, CO          gbpat99.seq.gz   \n",
       "54801668  54801669  LOCUS       HJ947053                 700 bp    DNA     linear   PAT 12-FEB-2015  unknown.                  DEFINITION  Sequence 6995 from patent US 8709766.                       JOURNAL   Patent: US 8709766-B2 6995 29-APR-2014;\\n            Colorado School of Mines; Golden, CO          gbpat99.seq.gz   \n",
       "54811432  54811433  LOCUS       HJ956817                 766 bp    DNA     linear   PAT 12-FEB-2015  unknown.                  DEFINITION  Sequence 7 from patent US 8710295.                          JOURNAL   Patent: US 8710295-B2 7 29-APR-2014;\\n            Pioneer Hi-Bred International Inc; Johnston, IA  gbpat99.seq.gz   \n",
       "\n",
       "                                                                                                                                                                                                                                                                                                                                                                                                                                                                                                                                                                                                                                                                                                                                                                                                  origin  valid_sequence  year      patent                                          company  seq_len  \n",
       "0         gttttgtttgatggagaattgcgcagaggggttatatctgcgtgaggatctgtcactcggcggtgtgggatacctccctgctaaggcgggttgagtgatgttccctcggactggggaccgctggcttgcgagctatgtccgctactctcagtactacactctcatttgagcccccgctcagtttgctagcagaacccggcacatggttcgccgataccatggaatttcgaaagaaacactctgttaggtggtatgagtcatgacgcacgcagggagaggctaaggcttatgctatgctgatctccgtgaatgtctatcattcctacacaggaccc                                                                                                                                                                                                                                                                                                                                                                                                                                                 1.0             1987  Patent: EP  AGRICULTURAL GENETICS COMPANY LIMITED            335      \n",
       "1         aattcatgcgtccggacttctgcctcgagccgccgtacactgggccctgcaaagctcgtatcatccgttacttctacaatgcaaaggcaggcctgtgtcagaccttcgtatacggcggttgccgtgctaagcgtaacaacttcaaatccgcggaagactgcgaacgtacttgcggtggtccttagtaaagcttg                                                                                                                                                                                                                                                                                                                                                                                                                                                                                                                                                                                              1.0             1987  Patent: EP  BAYER AG                                         194      \n",
       "2         caagctttactaaggaccaccgcaagtacgttcgcagtcttccgcggatttgaagttgttacgcttagcacggcaaccgccgtatacgaaggtctgacacaggcctgcctttgcattgtagaagtaacggatgatacgagctttgcagggcccagtgtacggcggctcgaggcagaagtccggacgcatgaatt                                                                                                                                                                                                                                                                                                                                                                                                                                                                                                                                                                                              1.0             1987  Patent: EP  BAYER AG                                         194      \n",
       "17        ctgcctggctcgtatcatccgttacttctacaatgcaaaggcagg                                                                                                                                                                                                                                                                                                                                                                                                                                                                                                                                                                                                                                                                                                                                                   1.0             1987  Patent: EP  BAYER AG                                         45       \n",
       "26        aactttctgaaaaagatgttgaaaaagtcgaaaggattttataatattaagtcaagttagtttgtttgatcaacaaactaat                                                                                                                                                                                                                                                                                                                                                                                                                                                                                                                                                                                                                                                                                                              1.0             1987  Patent: EP  NOVO NORDISK A/S; Bagsvaerd, ; Denmark           82       \n",
       "...                                                                                      ...                                                                                                                                                                                                                                                                                                                                                                                                                                                                                                                                                                                                                                                                                                              ...              ...         ...                                     ...           ..       \n",
       "54801435  cgtgacgaggataatggggaagaagtgccatatctgctccgactcccgctcctcttccgctgtcgatgtaagctacggctacggcttcggctgcgactacgtggcatgcgacaaggtcggggagacaggaagcaaatggagtgtaatgaggaaggcctcctcgttcgtgactccgccgctcctcctgtgaccatgcgaaggagaggatgaagtcagcaagtaaaggataatgggaacaatattgttggtctcagggataaatttacttcgtatgtgtgtgtgtgtgtgtgtgtgtgtgtgtgccgacagtccagaaaataaaggtcggtactccttgcgtatcatcaggcgatatgaagcaactggggcgacgggcttcagccttttcctctctcacggccactgtcatcccctgaaagaaccccacagtcatcccctgaaagagcctcgtcgaccggtatatatgccaggtgtcgtatttgaaaatactgtggtagtgccgacgcgtgacatgttctatcgtggtgcacgggcaaggatgagcaggacttcatcggcttctcatgactactctcctcctcttctctactttgatctacgtgctacattcctgtgcgctctagggtgcgtgcgcgcgaaggacggaagcgtccaaagcaccctgatcatcaccagcagcaacgctaatcgtacatttatg                                                                    1.0             2014  Patent: US  Colorado School of Mines; Golden, CO             700      \n",
       "54801513  ataatggagtgcggcggctgcaagagctggtagcattttgatcgcattgagaaaaagaagggaaaggtagtgcggaagccggtggaggtcgctgcgagcagcgagacgacgcagtggtcattgccgccgcgactccaagagcacgacaaagaagtaggtacttcgggttgaaagagccagggaaggaacacggtgaactcatagatgaagaatgtaacagtaatataacgcagtttgaatgtgtttaatccttcatcgcctttcagttcgattttgcttttcttgcccttctcgtccttgtaagctcggcccatcggactcaccacttcctcgacgagaaaaatgtaagcggccgtattatcgcatccacacccgctctaagccgctgaaagagctcctaattctctttttttgacattccaaaaggttcggtgggggaacttttagggacctcgaggaggtgggtgccccgtcaccaaattagatcccagcggccttggttgcactttcttgagcgagtggaaacatattcttatagaaaatatgaacttggtcaacgatttaattatctcgggcctccattgctttcatggttcgtgctctttcaaggcttacatgcaggtgtttttgttcacccttagttcatactccacaggattttggttgtcccgacactagccattttgacctcagcaccatg                                                                    1.0             2014  Patent: US  Colorado School of Mines; Golden, CO             700      \n",
       "54801628  tgttcacaagactgctgaacggaaagaggaggcattgacggatgagatagtcgttcaggtgccaagagacgtccacacgcgcgaagagcggtctgtgaggggaagcggggcgcaaggagtggacggtggaaagggctggcaagcgagggggcgcaatgcatcagaacctctggggtcgagggctcatccccctttaaacacatgcgccacgcatcaagggacactcacgcacacacattcacatcaacagatgggttcttcgacctcgccggtgtccagggggtcagactcggagtatcaacagctgtgtggggttgaggaagagcgagaatgtgatgaacccccccatcccacctcgcgtttgctgcccgggcacgcagctcacgctgcagacgctccaaggaccccttgggaatgggttgaggaaagtgacagcgatcaagagtatcaaagtaccgacacagacgaaggactgctccatttcctgccgcccgcccccttgtttgcatggacagctgctcatcatccgaagtcgagtagcccggtgacccacgaaaaccaagagcagcgctaccgcaggtggctcgaactgtttccacgcgtggtaatgtttccaccgccagtcgtgaagtggcttccgaaatacaccagacatcagttttggggggatttgctgggcggtttgactgtagccgtaatg                                                                    1.0             2014  Patent: US  Colorado School of Mines; Golden, CO             700      \n",
       "54801668  gcacgccaacagccaaatatcccaaccacaaaacaagtagcttcatgtcagcgaaaaagcgcctgtcttatgcatgtcatttatccatgtaagcgacgcagcagtctcatcaagcatatttccatgtacaggagatttataaccatacaaagtgagcttcctgtttgcgtcgcgactacccttcatgcaaaagactcattgcgattcgagcaggcatcgctttggactgaaggcggcagctactgctggtctgacgtatctagctttctattcgctttttggaaggtttttcccgacaagtcctatacaggatcgtaagacttttggggacctcgaaacatttgcctttgacgagaagcccttcacccgagcttatggcgataaattcgagctccttcgtccttggtacgatatgcgggcgggcgtgcatcaggcacctcagcttttggcgtcaccagagtcttggattgagcagttgaccctcaggctcaaccatttggactcgaaggtggccgcaaacactgaccggtccgtatcaactcgcaccagggccgcttatcttgaggttatgaagctgtacgtgtcaggactggcgtatgggcccgaagagatgagtgtgggagctgacgcaacaattggtccctttcaggctgataagagggcaaagggcctggactgggcttaccttggcatgaccatg                                                                    1.0             2014  Patent: US  Colorado School of Mines; Golden, CO             700      \n",
       "54811432  ggaaggaaaattccagagaatgatttctacctggaagctcttgtcaagatttcaccagttttgcagtcacgtaaaagccaatcacgacgcataccattcttccctgatccagaaacccaagtgtccacttgaactatgtcacccctgaagcaaatatagacacacaatttcagataattagatttagaataaccataataatactaatagcttatctaacttcaacccaacaccaagaagtcagaataattgcattctttatacatctagtagtactcaaacagaacagagggtatatataactggtaagaaaacaaatgcaaagaatacatagtatcagcttctatttttacaataattaaacaaggataagtcaccttatctaataacatgtaattaatgctatactacatctcttgtacagatcaatagctctgttgcacaaggtttcccatagttcatcatgtataaagcttgtgtatctaatcaattttcatcccagacaaatttccaaagcattttggttctcataattaagtctcaataattaccatgaatatatttaggagtgatcattcctcataaagattactaaaatagacagagaaatagcagcttaacatggatacattgcaaatcacatgtaatggttgaatctagatgactaaccatgtaggatagcgttccaccacaacctgcatccgagtaaccacccatatcaagttctttttgcacatttctggcgtggaaccaaagactggccgtc  1.0             2014  Patent: US  Pioneer Hi-Bred International Inc; Johnston, IA  766      \n",
       "\n",
       "[4065508 rows x 12 columns]"
      ]
     },
     "execution_count": 158,
     "metadata": {},
     "output_type": "execute_result"
    }
   ],
   "source": [
    "df_unique_duplicates"
   ]
  },
  {
   "cell_type": "code",
   "execution_count": 159,
   "metadata": {},
   "outputs": [],
   "source": [
    "with open('/home/erikz/data/agnes_pkl_files/agnes_unique_duplicates.pkl', 'wb') as f:\n",
    "    pickle.dump(df_unique_duplicates, f)"
   ]
  },
  {
   "cell_type": "markdown",
   "metadata": {},
   "source": [
    "### US patents only"
   ]
  },
  {
   "cell_type": "code",
   "execution_count": 45,
   "metadata": {},
   "outputs": [],
   "source": [
    "df_us = df[df.patent == 'Patent: US']\n",
    "df_us = df"
   ]
  },
  {
   "cell_type": "code",
   "execution_count": 46,
   "metadata": {},
   "outputs": [],
   "source": [
    "all_us_sequences = df_us['origin'].tolist()\n",
    "df_us['seq_len'] = [len(i) for i in all_us_sequences]"
   ]
  },
  {
   "cell_type": "code",
   "execution_count": 53,
   "metadata": {},
   "outputs": [
    {
     "data": {
      "text/plain": [
       "(array([0.000000e+00, 0.000000e+00, 0.000000e+00, 0.000000e+00,\n",
       "        1.350000e+02, 0.000000e+00, 0.000000e+00, 0.000000e+00,\n",
       "        4.150000e+02, 0.000000e+00, 0.000000e+00, 0.000000e+00,\n",
       "        9.980000e+02, 0.000000e+00, 0.000000e+00, 0.000000e+00,\n",
       "        2.248000e+03, 0.000000e+00, 0.000000e+00, 0.000000e+00,\n",
       "        3.094000e+03, 0.000000e+00, 0.000000e+00, 0.000000e+00,\n",
       "        1.639700e+04, 0.000000e+00, 0.000000e+00, 0.000000e+00,\n",
       "        6.948000e+03, 0.000000e+00, 0.000000e+00, 0.000000e+00,\n",
       "        1.070400e+04, 0.000000e+00, 0.000000e+00, 0.000000e+00,\n",
       "        4.201300e+04, 0.000000e+00, 0.000000e+00, 0.000000e+00,\n",
       "        1.236070e+05, 0.000000e+00, 0.000000e+00, 0.000000e+00,\n",
       "        6.890700e+04, 0.000000e+00, 0.000000e+00, 0.000000e+00,\n",
       "        1.131070e+05, 0.000000e+00, 0.000000e+00, 0.000000e+00,\n",
       "        7.073900e+04, 0.000000e+00, 0.000000e+00, 0.000000e+00,\n",
       "        9.832000e+04, 0.000000e+00, 0.000000e+00, 0.000000e+00,\n",
       "        3.865265e+06, 0.000000e+00, 0.000000e+00, 0.000000e+00,\n",
       "        4.299550e+05, 0.000000e+00, 0.000000e+00, 0.000000e+00,\n",
       "        5.098370e+05, 0.000000e+00, 0.000000e+00, 0.000000e+00,\n",
       "        8.851560e+05, 0.000000e+00, 0.000000e+00, 0.000000e+00,\n",
       "        8.447682e+06, 0.000000e+00, 0.000000e+00, 0.000000e+00,\n",
       "        2.794075e+06, 0.000000e+00, 0.000000e+00, 0.000000e+00,\n",
       "        2.326488e+06, 0.000000e+00, 0.000000e+00, 0.000000e+00,\n",
       "        1.826496e+06, 0.000000e+00, 0.000000e+00, 0.000000e+00,\n",
       "        1.428435e+06, 0.000000e+00, 0.000000e+00, 0.000000e+00,\n",
       "        7.776140e+05, 0.000000e+00, 0.000000e+00, 0.000000e+00,\n",
       "        4.164583e+06, 0.000000e+00, 0.000000e+00, 0.000000e+00,\n",
       "        2.961240e+05, 0.000000e+00, 0.000000e+00, 0.000000e+00,\n",
       "        5.609890e+05, 0.000000e+00, 0.000000e+00, 0.000000e+00,\n",
       "        2.468380e+05, 0.000000e+00, 0.000000e+00, 0.000000e+00,\n",
       "        1.760280e+05, 0.000000e+00, 0.000000e+00, 0.000000e+00,\n",
       "        7.948880e+05, 0.000000e+00, 0.000000e+00, 0.000000e+00,\n",
       "        1.714950e+05, 0.000000e+00, 0.000000e+00, 0.000000e+00,\n",
       "        1.465521e+06, 0.000000e+00, 0.000000e+00, 0.000000e+00,\n",
       "        2.315030e+05, 0.000000e+00, 0.000000e+00, 0.000000e+00,\n",
       "        8.345300e+04, 0.000000e+00, 0.000000e+00, 0.000000e+00,\n",
       "        2.022830e+05, 0.000000e+00, 0.000000e+00, 0.000000e+00,\n",
       "        1.883290e+05, 0.000000e+00, 0.000000e+00, 0.000000e+00,\n",
       "        1.040940e+05, 0.000000e+00, 0.000000e+00, 0.000000e+00,\n",
       "        1.375510e+05, 0.000000e+00, 0.000000e+00, 0.000000e+00,\n",
       "        9.258500e+04, 0.000000e+00, 0.000000e+00, 0.000000e+00,\n",
       "        3.230060e+05, 0.000000e+00, 0.000000e+00, 0.000000e+00,\n",
       "        8.742800e+04, 0.000000e+00, 0.000000e+00, 0.000000e+00,\n",
       "        1.378050e+05, 0.000000e+00, 0.000000e+00, 0.000000e+00,\n",
       "        5.202400e+04, 0.000000e+00, 0.000000e+00, 0.000000e+00,\n",
       "        6.466200e+04, 0.000000e+00, 0.000000e+00, 0.000000e+00,\n",
       "        2.540640e+05, 0.000000e+00, 0.000000e+00, 0.000000e+00,\n",
       "        1.805840e+05, 0.000000e+00, 0.000000e+00, 0.000000e+00,\n",
       "        6.569700e+04, 0.000000e+00, 0.000000e+00, 0.000000e+00,\n",
       "        1.064890e+05, 0.000000e+00, 0.000000e+00, 0.000000e+00,\n",
       "        4.503900e+04, 0.000000e+00, 0.000000e+00, 3.570320e+05]),\n",
       " array([ 0.  ,  0.25,  0.5 ,  0.75,  1.  ,  1.25,  1.5 ,  1.75,  2.  ,\n",
       "         2.25,  2.5 ,  2.75,  3.  ,  3.25,  3.5 ,  3.75,  4.  ,  4.25,\n",
       "         4.5 ,  4.75,  5.  ,  5.25,  5.5 ,  5.75,  6.  ,  6.25,  6.5 ,\n",
       "         6.75,  7.  ,  7.25,  7.5 ,  7.75,  8.  ,  8.25,  8.5 ,  8.75,\n",
       "         9.  ,  9.25,  9.5 ,  9.75, 10.  , 10.25, 10.5 , 10.75, 11.  ,\n",
       "        11.25, 11.5 , 11.75, 12.  , 12.25, 12.5 , 12.75, 13.  , 13.25,\n",
       "        13.5 , 13.75, 14.  , 14.25, 14.5 , 14.75, 15.  , 15.25, 15.5 ,\n",
       "        15.75, 16.  , 16.25, 16.5 , 16.75, 17.  , 17.25, 17.5 , 17.75,\n",
       "        18.  , 18.25, 18.5 , 18.75, 19.  , 19.25, 19.5 , 19.75, 20.  ,\n",
       "        20.25, 20.5 , 20.75, 21.  , 21.25, 21.5 , 21.75, 22.  , 22.25,\n",
       "        22.5 , 22.75, 23.  , 23.25, 23.5 , 23.75, 24.  , 24.25, 24.5 ,\n",
       "        24.75, 25.  , 25.25, 25.5 , 25.75, 26.  , 26.25, 26.5 , 26.75,\n",
       "        27.  , 27.25, 27.5 , 27.75, 28.  , 28.25, 28.5 , 28.75, 29.  ,\n",
       "        29.25, 29.5 , 29.75, 30.  , 30.25, 30.5 , 30.75, 31.  , 31.25,\n",
       "        31.5 , 31.75, 32.  , 32.25, 32.5 , 32.75, 33.  , 33.25, 33.5 ,\n",
       "        33.75, 34.  , 34.25, 34.5 , 34.75, 35.  , 35.25, 35.5 , 35.75,\n",
       "        36.  , 36.25, 36.5 , 36.75, 37.  , 37.25, 37.5 , 37.75, 38.  ,\n",
       "        38.25, 38.5 , 38.75, 39.  , 39.25, 39.5 , 39.75, 40.  , 40.25,\n",
       "        40.5 , 40.75, 41.  , 41.25, 41.5 , 41.75, 42.  , 42.25, 42.5 ,\n",
       "        42.75, 43.  , 43.25, 43.5 , 43.75, 44.  , 44.25, 44.5 , 44.75,\n",
       "        45.  , 45.25, 45.5 , 45.75, 46.  , 46.25, 46.5 , 46.75, 47.  ,\n",
       "        47.25, 47.5 , 47.75, 48.  , 48.25, 48.5 , 48.75, 49.  , 49.25,\n",
       "        49.5 , 49.75, 50.  ]),\n",
       " <BarContainer object of 200 artists>)"
      ]
     },
     "execution_count": 53,
     "metadata": {},
     "output_type": "execute_result"
    },
    {
     "data": {
      "image/png": "[encoded data removed]",
      "text/plain": [
       "<Figure size 1152x432 with 1 Axes>"
      ]
     },
     "metadata": {
      "needs_background": "light"
     },
     "output_type": "display_data"
    }
   ],
   "source": [
    "import numpy as np\n",
    "import matplotlib.pyplot as plt\n",
    "\n",
    "fig = plt.figure(figsize=(16,6))\n",
    "plt.hist(df_us['seq_len'], 200, range=[0, 50], align='mid')"
   ]
  },
  {
   "cell_type": "code",
   "execution_count": 52,
   "metadata": {},
   "outputs": [
    {
     "data": {
      "text/plain": [
       "ModeResult(mode=array([19]), count=array([8447682]))"
      ]
     },
     "execution_count": 52,
     "metadata": {},
     "output_type": "execute_result"
    }
   ],
   "source": [
    "from scipy import stats\n",
    "stats.mode(df_us['seq_len'])"
   ]
  },
  {
   "cell_type": "code",
   "execution_count": 49,
   "metadata": {},
   "outputs": [],
   "source": [
    "#pd.set_option('display.max_colwidth', np.max(df_us['seq_len']))"
   ]
  },
  {
   "cell_type": "markdown",
   "metadata": {},
   "source": [
    "### Running BlastX"
   ]
  },
  {
   "cell_type": "code",
   "execution_count": 81,
   "metadata": {},
   "outputs": [],
   "source": [
    "try:\n",
    "    from StringIO import StringIO\n",
    "except ImportError:\n",
    "    from io import StringIO"
   ]
  },
  {
   "cell_type": "code",
   "execution_count": 85,
   "metadata": {},
   "outputs": [],
   "source": [
    "from Bio.Blast.Applications import NcbiblastpCommandline\n",
    "#from io.StringIO import StringIO\n",
    "from Bio.Blast import NCBIXML\n",
    "from Bio.Seq import Seq\n",
    "from Bio.SeqRecord import SeqRecord\n",
    "from Bio import SeqIO\n",
    "\n",
    "# Create two sequence files\n",
    "seq1 = SeqRecord(Seq(all_small_seqs[1]),\n",
    "                   id=\"seq1\")\n",
    "SeqIO.write(seq1, \"seq1.fasta\", \"fasta\")\n",
    "\n",
    "# Run BLAST and parse the output as XML\n",
    "output = NcbiblastxCommandline(query=\"seq1.fasta\",outfmt=5, db='nr', remote=True)()[0]\n",
    "blast_result_record = NCBIXML.read(StringIO(output))"
   ]
  },
  {
   "cell_type": "code",
   "execution_count": 89,
   "metadata": {},
   "outputs": [
    {
     "data": {
      "text/plain": [
       "<Bio.Blast.Record.Blast at 0x7f8271c5cca0>"
      ]
     },
     "execution_count": 89,
     "metadata": {},
     "output_type": "execute_result"
    }
   ],
   "source": [
    "blast_result_record"
   ]
  },
  {
   "cell_type": "code",
   "execution_count": 91,
   "metadata": {},
   "outputs": [
    {
     "name": "stdout",
     "output_type": "stream",
     "text": [
      "gb|AAA72784.1| [Arg-15,Glu-52] aprotinin [synthetic construct]\n",
      "           Length = 59\n",
      "\n"
     ]
    }
   ],
   "source": [
    "print(blast_result_record.alignments[0])"
   ]
  },
  {
   "cell_type": "code",
   "execution_count": 98,
   "metadata": {},
   "outputs": [],
   "source": [
    "new_al = blast_result_record.alignments[0]"
   ]
  },
  {
   "cell_type": "code",
   "execution_count": 100,
   "metadata": {},
   "outputs": [
    {
     "data": {
      "text/plain": [
       "[<Bio.Blast.Record.HSP at 0x7f8271c5c5e0>]"
      ]
     },
     "execution_count": 100,
     "metadata": {},
     "output_type": "execute_result"
    }
   ],
   "source": [
    "new_al.hsps"
   ]
  },
  {
   "cell_type": "code",
   "execution_count": 102,
   "metadata": {},
   "outputs": [
    {
     "name": "stdout",
     "output_type": "stream",
     "text": [
      "****Alignment****\n",
      "sequence: gb|AAA72784.1| [Arg-15,Glu-52] aprotinin [synthetic construct]\n",
      "length: 59\n",
      "e value: 4.13503e-34\n",
      "MRPDFCLEPPYTGPCKARIIRYFYNAKAGLCQTFVYGGCRAKRNNFKSAEDCERTCGG\n",
      "MRPDFCLEPPYTGPC+ARIIRYFYNAKAGLCQTFVYGGCRAKRNNFKSAEDCERTCGG\n",
      "MRPDFCLEPPYTGPCRARIIRYFYNAKAGLCQTFVYGGCRAKRNNFKSAEDCERTCGG\n",
      "****Alignment****\n",
      "sequence: gb|ABX57797.1| aprotinin precursor [Plastid transformation vector pAPR20]\n",
      "length: 104\n",
      "e value: 6.65246e-34\n",
      "RPDFCLEPPYTGPCKARIIRYFYNAKAGLCQTFVYGGCRAKRNNFKSAEDCERTCGG\n",
      "RPDFCLEPPYTGPCKARIIRYFYNAKAGLCQTFVYGGCRAKRNNFKSAEDC RTCGG\n",
      "RPDFCLEPPYTGPCKARIIRYFYNAKAGLCQTFVYGGCRAKRNNFKSAEDCMRTCGG\n"
     ]
    }
   ],
   "source": [
    "for alignment in blast_result_record.alignments[0:2]:\n",
    "    new_al = alignment\n",
    "    for hsp in new_al.hsps:\n",
    "        print('****Alignment****')\n",
    "        print('sequence:', alignment.title)\n",
    "        print('length:', alignment.length)\n",
    "        print('e value:', hsp.expect)\n",
    "        print(hsp.query)\n",
    "        print(hsp.match)\n",
    "        print(hsp.sbjct)"
   ]
  },
  {
   "cell_type": "markdown",
   "metadata": {},
   "source": [
    "### Without US patents\n",
    "\n",
    "Patents from the US all have 'unknown.' organisms. Manual screening by opening gbpat files on text editor also does not show another way of reporting the organism names. All US patents to be removed from database."
   ]
  },
  {
   "cell_type": "code",
   "execution_count": 43,
   "metadata": {},
   "outputs": [],
   "source": [
    "# Drop all US patents\n",
    "df_no_us = df[df.patent != 'Patent: US']"
   ]
  },
  {
   "cell_type": "code",
   "execution_count": 44,
   "metadata": {},
   "outputs": [],
   "source": [
    "# Extracting a sample to check - can only get the first 1 million rows because of the row limitation in Excel \n",
    "#df[df.patent=='Patent: US'][:1000000].to_excel('/home/agnes/Patents_US_V2.xlsx',sheet_name='USpatents')"
   ]
  },
  {
   "cell_type": "code",
   "execution_count": 45,
   "metadata": {},
   "outputs": [
    {
     "data": {
      "text/plain": [
       "37527728"
      ]
     },
     "execution_count": 45,
     "metadata": {},
     "output_type": "execute_result"
    }
   ],
   "source": [
    "len(df_no_us) #37,527,728 matching 17,279,891 US patents removed"
   ]
  },
  {
   "cell_type": "code",
   "execution_count": 46,
   "metadata": {},
   "outputs": [
    {
     "data": {
      "text/plain": [
       "organism  homo sapiens                          15878778\n",
       "organism  synthetic construct                   15650123\n",
       "organism  unidentified                           1529836\n",
       "organism  saccharomyces pastorianus               977914\n",
       "organism  mus musculus                            752565\n",
       "                                                  ...   \n",
       "organism  pseudomonas sp. wo2008034648_36776           1\n",
       "organism  actinomyces urogenitalis dsm 15434           1\n",
       "organism  hamigera sp. (in: fungi)                     1\n",
       "organism  methanoregula formicica smsp                 1\n",
       "organism  ursus thibetanus                             1\n",
       "Name: organism, Length: 14627, dtype: int64"
      ]
     },
     "execution_count": 46,
     "metadata": {},
     "output_type": "execute_result"
    }
   ],
   "source": [
    "# A list with all unique species without US patents (n=14,627) - same length to all patents, sent to Robert for marine checkup\n",
    "df_no_us.organism.value_counts()"
   ]
  },
  {
   "cell_type": "code",
   "execution_count": 47,
   "metadata": {},
   "outputs": [],
   "source": [
    "# Create an excel sheet for list of all patents \n",
    "df_no_us.organism.value_counts().to_excel('/home/agnes/Species_nous_patents_V3.xlsx', sheet_name='nous')"
   ]
  },
  {
   "cell_type": "code",
   "execution_count": 48,
   "metadata": {},
   "outputs": [
    {
     "data": {
      "text/plain": [
       "True     37526493\n",
       "False        1235\n",
       "Name: organism, dtype: int64"
      ]
     },
     "execution_count": 48,
     "metadata": {},
     "output_type": "execute_result"
    }
   ],
   "source": [
    "# All organism names in df starts with 'organism', but with some variations\n",
    "# not all organisms start with 'organism ' with one space at the end\n",
    "df_no_us.organism.apply(lambda x: x.startswith('organism ')).value_counts() #37,526,493 with ' '"
   ]
  },
  {
   "cell_type": "code",
   "execution_count": 49,
   "metadata": {},
   "outputs": [
    {
     "data": {
      "text/plain": [
       "False    37527665\n",
       "True           63\n",
       "Name: organism, dtype: int64"
      ]
     },
     "execution_count": 49,
     "metadata": {},
     "output_type": "execute_result"
    }
   ],
   "source": [
    "# 1,235 starts with 'organism,' or 'organisms', checked here: \n",
    "df_no_us.organism.apply(lambda x: x.startswith('organism,')).value_counts() #63 with ','"
   ]
  },
  {
   "cell_type": "code",
   "execution_count": 50,
   "metadata": {},
   "outputs": [
    {
     "data": {
      "text/plain": [
       "False    37526556\n",
       "True         1172\n",
       "Name: organism, dtype: int64"
      ]
     },
     "execution_count": 50,
     "metadata": {},
     "output_type": "execute_result"
    }
   ],
   "source": [
    "df_no_us.organism.apply(lambda x: x.startswith('organisms')).value_counts() #1172 with 's'"
   ]
  },
  {
   "cell_type": "code",
   "execution_count": 51,
   "metadata": {},
   "outputs": [
    {
     "name": "stderr",
     "output_type": "stream",
     "text": [
      "/tmp/ipykernel_298709/3173691265.py:3: SettingWithCopyWarning: \n",
      "A value is trying to be set on a copy of a slice from a DataFrame.\n",
      "Try using .loc[row_indexer,col_indexer] = value instead\n",
      "\n",
      "See the caveats in the documentation: http://pandas.pydata.org/pandas-docs/stable/user_guide/indexing.html#returning-a-view-versus-a-copy\n",
      "  df_no_us['organism'] = df_no_us.organism.apply(lambda x: x[9:].strip())\n"
     ]
    }
   ],
   "source": [
    "# Remove starting 'organism' + one more character to account ' ', ',', or 's' from df, so we can join it with the species list \n",
    "df_no_us['organism'] = df_no_us.organism.apply(lambda x: x[9:].strip())"
   ]
  },
  {
   "cell_type": "code",
   "execution_count": 52,
   "metadata": {},
   "outputs": [
    {
     "data": {
      "text/plain": [
       "14627"
      ]
     },
     "execution_count": 52,
     "metadata": {},
     "output_type": "execute_result"
    }
   ],
   "source": [
    "len(df_no_us.organism.value_counts())"
   ]
  },
  {
   "cell_type": "code",
   "execution_count": 53,
   "metadata": {},
   "outputs": [
    {
     "data": {
      "text/html": [
       "<div>\n",
       "<style scoped>\n",
       "    .dataframe tbody tr th:only-of-type {\n",
       "        vertical-align: middle;\n",
       "    }\n",
       "\n",
       "    .dataframe tbody tr th {\n",
       "        vertical-align: top;\n",
       "    }\n",
       "\n",
       "    .dataframe thead th {\n",
       "        text-align: right;\n",
       "    }\n",
       "</style>\n",
       "<table border=\"1\" class=\"dataframe\">\n",
       "  <thead>\n",
       "    <tr style=\"text-align: right;\">\n",
       "      <th></th>\n",
       "      <th>id</th>\n",
       "      <th>organism</th>\n",
       "      <th>journal</th>\n",
       "      <th>filename</th>\n",
       "      <th>origin</th>\n",
       "      <th>year</th>\n",
       "      <th>patent</th>\n",
       "      <th>company</th>\n",
       "    </tr>\n",
       "  </thead>\n",
       "  <tbody>\n",
       "    <tr>\n",
       "      <th>0</th>\n",
       "      <td>1</td>\n",
       "      <td>cauliflower mosaic virus</td>\n",
       "      <td>JOURNAL   Patent: EP 0242016-A1 1 21-OCT-1987;...</td>\n",
       "      <td>gbpat1.seq.gz</td>\n",
       "      <td>gttttgtttgatggagaattgcgcagaggggttatatctgcgtgag...</td>\n",
       "      <td>1987</td>\n",
       "      <td>Patent: EP</td>\n",
       "      <td>AGRICULTURAL GENETICS COMPANY LIMITED</td>\n",
       "    </tr>\n",
       "    <tr>\n",
       "      <th>1</th>\n",
       "      <td>2</td>\n",
       "      <td>bos taurus</td>\n",
       "      <td>JOURNAL   Patent: EP 0238993-A2 1 30-SEP-1987;...</td>\n",
       "      <td>gbpat1.seq.gz</td>\n",
       "      <td>aattcatgcgtccggacttctgcctcgagccgccgtacactgggcc...</td>\n",
       "      <td>1987</td>\n",
       "      <td>Patent: EP</td>\n",
       "      <td>BAYER AG</td>\n",
       "    </tr>\n",
       "    <tr>\n",
       "      <th>2</th>\n",
       "      <td>3</td>\n",
       "      <td>bos taurus</td>\n",
       "      <td>JOURNAL   Patent: EP 0238993-A2 2 30-SEP-1987;...</td>\n",
       "      <td>gbpat1.seq.gz</td>\n",
       "      <td>caagctttactaaggaccaccgcaagtacgttcgcagtcttccgcg...</td>\n",
       "      <td>1987</td>\n",
       "      <td>Patent: EP</td>\n",
       "      <td>BAYER AG</td>\n",
       "    </tr>\n",
       "    <tr>\n",
       "      <th>3</th>\n",
       "      <td>4</td>\n",
       "      <td>synthetic construct</td>\n",
       "      <td>JOURNAL   Patent: EP 0238993-A2 3 30-SEP-1987;...</td>\n",
       "      <td>gbpat1.seq.gz</td>\n",
       "      <td>aattcatgcgtccggacttctgcctcgagc</td>\n",
       "      <td>1987</td>\n",
       "      <td>Patent: EP</td>\n",
       "      <td>BAYER AG</td>\n",
       "    </tr>\n",
       "    <tr>\n",
       "      <th>4</th>\n",
       "      <td>5</td>\n",
       "      <td>synthetic construct</td>\n",
       "      <td>JOURNAL   Patent: EP 0238993-A2 4 30-SEP-1987;...</td>\n",
       "      <td>gbpat1.seq.gz</td>\n",
       "      <td>cagaagtccggacgcatg</td>\n",
       "      <td>1987</td>\n",
       "      <td>Patent: EP</td>\n",
       "      <td>BAYER AG</td>\n",
       "    </tr>\n",
       "  </tbody>\n",
       "</table>\n",
       "</div>"
      ],
      "text/plain": [
       "   id                  organism  \\\n",
       "0   1  cauliflower mosaic virus   \n",
       "1   2                bos taurus   \n",
       "2   3                bos taurus   \n",
       "3   4       synthetic construct   \n",
       "4   5       synthetic construct   \n",
       "\n",
       "                                             journal       filename  \\\n",
       "0  JOURNAL   Patent: EP 0242016-A1 1 21-OCT-1987;...  gbpat1.seq.gz   \n",
       "1  JOURNAL   Patent: EP 0238993-A2 1 30-SEP-1987;...  gbpat1.seq.gz   \n",
       "2  JOURNAL   Patent: EP 0238993-A2 2 30-SEP-1987;...  gbpat1.seq.gz   \n",
       "3  JOURNAL   Patent: EP 0238993-A2 3 30-SEP-1987;...  gbpat1.seq.gz   \n",
       "4  JOURNAL   Patent: EP 0238993-A2 4 30-SEP-1987;...  gbpat1.seq.gz   \n",
       "\n",
       "                                              origin  year      patent  \\\n",
       "0  gttttgtttgatggagaattgcgcagaggggttatatctgcgtgag...  1987  Patent: EP   \n",
       "1  aattcatgcgtccggacttctgcctcgagccgccgtacactgggcc...  1987  Patent: EP   \n",
       "2  caagctttactaaggaccaccgcaagtacgttcgcagtcttccgcg...  1987  Patent: EP   \n",
       "3                     aattcatgcgtccggacttctgcctcgagc  1987  Patent: EP   \n",
       "4                                 cagaagtccggacgcatg  1987  Patent: EP   \n",
       "\n",
       "                                 company  \n",
       "0  AGRICULTURAL GENETICS COMPANY LIMITED  \n",
       "1                               BAYER AG  \n",
       "2                               BAYER AG  \n",
       "3                               BAYER AG  \n",
       "4                               BAYER AG  "
      ]
     },
     "execution_count": 53,
     "metadata": {},
     "output_type": "execute_result"
    }
   ],
   "source": [
    "df_no_us.head()"
   ]
  },
  {
   "cell_type": "markdown",
   "metadata": {},
   "source": [
    "### Some more basic stats by Agnes"
   ]
  },
  {
   "cell_type": "code",
   "execution_count": 63,
   "metadata": {},
   "outputs": [
    {
     "data": {
      "text/plain": [
       "<matplotlib.axes._subplots.AxesSubplot at 0x7f5ec6cc9280>"
      ]
     },
     "execution_count": 63,
     "metadata": {},
     "output_type": "execute_result"
    },
    {
     "data": {
      "image/png": "[encoded data removed]",
      "text/plain": [
       "<Figure size 432x288 with 1 Axes>"
      ]
     },
     "metadata": {
      "needs_background": "light"
     },
     "output_type": "display_data"
    }
   ],
   "source": [
    "df_marine.year.value_counts().sort_index().plot(kind='bar') # patents per year"
   ]
  },
  {
   "cell_type": "code",
   "execution_count": 64,
   "metadata": {},
   "outputs": [
    {
     "data": {
      "text/plain": [
       "(364, 8)"
      ]
     },
     "execution_count": 64,
     "metadata": {},
     "output_type": "execute_result"
    }
   ],
   "source": [
    "# 364 marine patents have no company info\n",
    "df_marine[df_marine.company.isnull()].shape"
   ]
  },
  {
   "cell_type": "code",
   "execution_count": 65,
   "metadata": {},
   "outputs": [
    {
     "data": {
      "text/plain": [
       "1988     1\n",
       "1991    14\n",
       "1992     1\n",
       "1993     4\n",
       "1999     7\n",
       "2000    18\n",
       "2001    16\n",
       "2002    36\n",
       "2003    94\n",
       "2004    53\n",
       "2005    69\n",
       "2006    45\n",
       "2007     6\n",
       "Name: year, dtype: int64"
      ]
     },
     "execution_count": 65,
     "metadata": {},
     "output_type": "execute_result"
    }
   ],
   "source": [
    "df_marine[df_marine.company.isnull()].year.value_counts().sort_index()"
   ]
  },
  {
   "cell_type": "code",
   "execution_count": 66,
   "metadata": {},
   "outputs": [
    {
     "data": {
      "text/plain": [
       "ciona intestinalis         5320\n",
       "gadus morhua               3139\n",
       "vibrio cholerae            1362\n",
       "anguilla japonica          1202\n",
       "prochlorococcus marinus     938\n",
       "                           ... \n",
       "vibrio plasmid p0908          1\n",
       "anemonia                      1\n",
       "exocoetus volitans            1\n",
       "echinophyllia                 1\n",
       "tetronarce tokionis           1\n",
       "Name: organism, Length: 1484, dtype: int64"
      ]
     },
     "execution_count": 66,
     "metadata": {},
     "output_type": "execute_result"
    }
   ],
   "source": [
    "df_marine.organism.value_counts()\n",
    "# From 1,488 marine species, only 1,484 species are included - 4 removed with US patents"
   ]
  },
  {
   "cell_type": "code",
   "execution_count": 67,
   "metadata": {},
   "outputs": [
    {
     "data": {
      "text/plain": [
       "54042"
      ]
     },
     "execution_count": 67,
     "metadata": {},
     "output_type": "execute_result"
    }
   ],
   "source": [
    "len(df_marine) #length is still the same as before removing US patents"
   ]
  },
  {
   "cell_type": "code",
   "execution_count": 68,
   "metadata": {},
   "outputs": [],
   "source": [
    "# Make a matrix of how many marine species is patented by each jurisdiction\n",
    "pd.crosstab(df_marine.organism,df_marine.patent).to_excel('/home/agnes/Species_per_jurisdiction_V3.xlsx', sheet_name='nous')"
   ]
  },
  {
   "cell_type": "code",
   "execution_count": 70,
   "metadata": {},
   "outputs": [
    {
     "data": {
      "text/plain": [
       "29301"
      ]
     },
     "execution_count": 70,
     "metadata": {},
     "output_type": "execute_result"
    }
   ],
   "source": [
    "len(df_marine.origin.value_counts()) #29,301 unique marine genetic sequences"
   ]
  },
  {
   "cell_type": "code",
   "execution_count": 71,
   "metadata": {},
   "outputs": [],
   "source": [
    "# Make a matrix of how many marine species is patented by each jurisdiction\n",
    "pd.crosstab(df_marine.origin,df_marine.patent).to_excel('/home/agnes/Origin_per_jurisdiction_V3.xlsx', sheet_name='nous')"
   ]
  },
  {
   "cell_type": "code",
   "execution_count": 72,
   "metadata": {},
   "outputs": [],
   "source": [
    "# Make a matrix of how many marine species is patented by each company - not informative, maybe useful at country level\n",
    "#pd.crosstab(df_marine.origin,df_marine.company).to_excel('/home/agnes/Origin_per_company_V3.xlsx', sheet_name='allorigin')"
   ]
  },
  {
   "cell_type": "code",
   "execution_count": 73,
   "metadata": {},
   "outputs": [],
   "source": [
    "# Make a matrix of how many genetic sequence is associated with each marine species\n",
    "pd.crosstab(df_marine.origin,df_marine.organism).to_excel('/home/agnes/Origin_per_species_V3.xlsx', sheet_name='nous')"
   ]
  },
  {
   "cell_type": "code",
   "execution_count": 74,
   "metadata": {},
   "outputs": [],
   "source": [
    "# Exporting the findings to Excel\n",
    "df_marine.to_excel('/home/agnes/Marine_nous_patents_V3.xlsx', sheet_name='nous')"
   ]
  },
  {
   "cell_type": "markdown",
   "metadata": {},
   "source": [
    "### Remarks \n",
    "\n",
    "The df_marine was exported to Excel and from here on it was treated manually. \n",
    "Affiliated companies were grouped together, and a few species were excluded since they after further investigation were considered not marine.\n",
    "The final, cleaned, dataset is included with the article. \n",
    "More information about this manual process can be given by Robert. "
   ]
  },
  {
   "cell_type": "markdown",
   "metadata": {},
   "source": [
    "### Endangered marine-only\n",
    "\n",
    "Similar list as above is extracted for marine species listed in the IUCN Red List."
   ]
  },
  {
   "cell_type": "code",
   "execution_count": 76,
   "metadata": {},
   "outputs": [],
   "source": [
    "# Load file with IUCN endangered marine species (59 organisms), received from Robert Blasiak on 11 Mar 2022\n",
    "mdf_iucn = pd.read_excel('/home/agnes/Marine_species_IUCN_V3.xlsx')"
   ]
  },
  {
   "cell_type": "code",
   "execution_count": 77,
   "metadata": {},
   "outputs": [
    {
     "data": {
      "text/plain": [
       "(59, 2)"
      ]
     },
     "execution_count": 77,
     "metadata": {},
     "output_type": "execute_result"
    }
   ],
   "source": [
    "mdf_iucn.shape"
   ]
  },
  {
   "cell_type": "code",
   "execution_count": 78,
   "metadata": {},
   "outputs": [],
   "source": [
    "# Keep only the engangered marine sequences from df\n",
    "df_iucn = df_no_us.merge(mdf_iucn, left_on='organism', right_on='organism', how='inner')"
   ]
  },
  {
   "cell_type": "code",
   "execution_count": 79,
   "metadata": {},
   "outputs": [
    {
     "data": {
      "text/plain": [
       "(5826, 9)"
      ]
     },
     "execution_count": 79,
     "metadata": {},
     "output_type": "execute_result"
    }
   ],
   "source": [
    "df_iucn.shape # 5,826 patents, additional column for IUCN category"
   ]
  },
  {
   "cell_type": "code",
   "execution_count": 80,
   "metadata": {},
   "outputs": [
    {
     "data": {
      "text/html": [
       "<div>\n",
       "<style scoped>\n",
       "    .dataframe tbody tr th:only-of-type {\n",
       "        vertical-align: middle;\n",
       "    }\n",
       "\n",
       "    .dataframe tbody tr th {\n",
       "        vertical-align: top;\n",
       "    }\n",
       "\n",
       "    .dataframe thead th {\n",
       "        text-align: right;\n",
       "    }\n",
       "</style>\n",
       "<table border=\"1\" class=\"dataframe\">\n",
       "  <thead>\n",
       "    <tr style=\"text-align: right;\">\n",
       "      <th></th>\n",
       "      <th>id</th>\n",
       "      <th>organism</th>\n",
       "      <th>journal</th>\n",
       "      <th>filename</th>\n",
       "      <th>origin</th>\n",
       "      <th>year</th>\n",
       "      <th>patent</th>\n",
       "      <th>company</th>\n",
       "      <th>category</th>\n",
       "    </tr>\n",
       "  </thead>\n",
       "  <tbody>\n",
       "    <tr>\n",
       "      <th>0</th>\n",
       "      <td>2390</td>\n",
       "      <td>anguilla anguilla</td>\n",
       "      <td>JOURNAL   Patent: WO 8803949-A1 2 02-JUN-1988;</td>\n",
       "      <td>gbpat1.seq.gz</td>\n",
       "      <td>cgataacaccggtaaacaatcgtcactgtaggtctaaactacaaac...</td>\n",
       "      <td>1988</td>\n",
       "      <td>Patent: WO</td>\n",
       "      <td>None</td>\n",
       "      <td>critically endangered</td>\n",
       "    </tr>\n",
       "    <tr>\n",
       "      <th>1</th>\n",
       "      <td>7246380</td>\n",
       "      <td>anguilla anguilla</td>\n",
       "      <td>JOURNAL   Patent: WO 2012160278-A1 35 29-NOV-2...</td>\n",
       "      <td>gbpat131.seq.gz</td>\n",
       "      <td>cctcgaataacaataaagacaattcataaaacaataagaacaaaaa...</td>\n",
       "      <td>2012</td>\n",
       "      <td>Patent: WO</td>\n",
       "      <td>UNIV GRENOBLE 1 [FR], CENTRE NAT RECH SCIENT [...</td>\n",
       "      <td>critically endangered</td>\n",
       "    </tr>\n",
       "    <tr>\n",
       "      <th>2</th>\n",
       "      <td>8038155</td>\n",
       "      <td>anguilla anguilla</td>\n",
       "      <td>JOURNAL   Patent: WO 2012160277-A1 90 29-NOV-2...</td>\n",
       "      <td>gbpat135.seq.gz</td>\n",
       "      <td>tcaaccttaaacaacgatgacaacatacaaatatcatccgccaggg...</td>\n",
       "      <td>2012</td>\n",
       "      <td>Patent: WO</td>\n",
       "      <td>UNIV GRENOBLE 1 [FR], CENTRE NAT RECH SCIENT [...</td>\n",
       "      <td>critically endangered</td>\n",
       "    </tr>\n",
       "    <tr>\n",
       "      <th>3</th>\n",
       "      <td>14184745</td>\n",
       "      <td>anguilla anguilla</td>\n",
       "      <td>JOURNAL   Patent: JP 2005514037-A 42 19-MAY-20...</td>\n",
       "      <td>gbpat16.seq.gz</td>\n",
       "      <td>atacctttacatagaaaca</td>\n",
       "      <td>2005</td>\n",
       "      <td>Patent: JP</td>\n",
       "      <td>Bio Merieux</td>\n",
       "      <td>critically endangered</td>\n",
       "    </tr>\n",
       "    <tr>\n",
       "      <th>4</th>\n",
       "      <td>19648958</td>\n",
       "      <td>anguilla anguilla</td>\n",
       "      <td>JOURNAL   Patent: KR 1020067001172-A 27 18-JAN...</td>\n",
       "      <td>gbpat19.seq.gz</td>\n",
       "      <td>ggattgatgacatacaaacttctggtaagctggtagcaatggtaag...</td>\n",
       "      <td>2006</td>\n",
       "      <td>Patent: KR</td>\n",
       "      <td>None</td>\n",
       "      <td>critically endangered</td>\n",
       "    </tr>\n",
       "  </tbody>\n",
       "</table>\n",
       "</div>"
      ],
      "text/plain": [
       "         id           organism  \\\n",
       "0      2390  anguilla anguilla   \n",
       "1   7246380  anguilla anguilla   \n",
       "2   8038155  anguilla anguilla   \n",
       "3  14184745  anguilla anguilla   \n",
       "4  19648958  anguilla anguilla   \n",
       "\n",
       "                                             journal         filename  \\\n",
       "0     JOURNAL   Patent: WO 8803949-A1 2 02-JUN-1988;    gbpat1.seq.gz   \n",
       "1  JOURNAL   Patent: WO 2012160278-A1 35 29-NOV-2...  gbpat131.seq.gz   \n",
       "2  JOURNAL   Patent: WO 2012160277-A1 90 29-NOV-2...  gbpat135.seq.gz   \n",
       "3  JOURNAL   Patent: JP 2005514037-A 42 19-MAY-20...   gbpat16.seq.gz   \n",
       "4  JOURNAL   Patent: KR 1020067001172-A 27 18-JAN...   gbpat19.seq.gz   \n",
       "\n",
       "                                              origin  year      patent  \\\n",
       "0  cgataacaccggtaaacaatcgtcactgtaggtctaaactacaaac...  1988  Patent: WO   \n",
       "1  cctcgaataacaataaagacaattcataaaacaataagaacaaaaa...  2012  Patent: WO   \n",
       "2  tcaaccttaaacaacgatgacaacatacaaatatcatccgccaggg...  2012  Patent: WO   \n",
       "3                                atacctttacatagaaaca  2005  Patent: JP   \n",
       "4  ggattgatgacatacaaacttctggtaagctggtagcaatggtaag...  2006  Patent: KR   \n",
       "\n",
       "                                             company               category  \n",
       "0                                               None  critically endangered  \n",
       "1  UNIV GRENOBLE 1 [FR], CENTRE NAT RECH SCIENT [...  critically endangered  \n",
       "2  UNIV GRENOBLE 1 [FR], CENTRE NAT RECH SCIENT [...  critically endangered  \n",
       "3                                        Bio Merieux  critically endangered  \n",
       "4                                               None  critically endangered  "
      ]
     },
     "execution_count": 80,
     "metadata": {},
     "output_type": "execute_result"
    }
   ],
   "source": [
    "df_iucn.head()"
   ]
  },
  {
   "cell_type": "code",
   "execution_count": 81,
   "metadata": {
    "scrolled": true
   },
   "outputs": [
    {
     "data": {
      "text/plain": [
       "59"
      ]
     },
     "execution_count": 81,
     "metadata": {},
     "output_type": "execute_result"
    }
   ],
   "source": [
    "len(df_iucn.organism.value_counts())"
   ]
  },
  {
   "cell_type": "code",
   "execution_count": 82,
   "metadata": {},
   "outputs": [
    {
     "data": {
      "text/plain": [
       "gadus morhua                 3139\n",
       "anguilla japonica            1202\n",
       "takifugu rubripes             761\n",
       "haliotis tuberculata          140\n",
       "hippoglossus hippoglossus      89\n",
       "tachypleus tridentatus         84\n",
       "ginglymostoma cirratum         74\n",
       "limulus polyphemus             63\n",
       "thunnus orientalis             60\n",
       "acropora aspera                19\n",
       "porites murrayensis            18\n",
       "acropora millepora             16\n",
       "nematostella vectensis         15\n",
       "acropora aculeus               14\n",
       "pavona decussata               12\n",
       "physeter catodon               11\n",
       "epinephelus bruneus            10\n",
       "trachyphyllia geoffroyi         9\n",
       "montipora efflorescens          7\n",
       "anguilla anguilla               7\n",
       "Name: organism, dtype: int64"
      ]
     },
     "execution_count": 82,
     "metadata": {},
     "output_type": "execute_result"
    }
   ],
   "source": [
    "df_iucn.organism.value_counts()[:20]"
   ]
  },
  {
   "cell_type": "code",
   "execution_count": 83,
   "metadata": {},
   "outputs": [
    {
     "data": {
      "text/plain": [
       "<matplotlib.axes._subplots.AxesSubplot at 0x7f58ab3f08e0>"
      ]
     },
     "execution_count": 83,
     "metadata": {},
     "output_type": "execute_result"
    },
    {
     "data": {
      "image/png": "[encoded data removed]",
      "text/plain": [
       "<Figure size 432x288 with 1 Axes>"
      ]
     },
     "metadata": {
      "needs_background": "light"
     },
     "output_type": "display_data"
    }
   ],
   "source": [
    "df_iucn.year.value_counts().sort_index().plot(kind='bar') # patents per year"
   ]
  },
  {
   "cell_type": "code",
   "execution_count": 84,
   "metadata": {},
   "outputs": [
    {
     "data": {
      "text/plain": [
       "(4, 9)"
      ]
     },
     "execution_count": 84,
     "metadata": {},
     "output_type": "execute_result"
    }
   ],
   "source": [
    "# 364 marine patents have no company info\n",
    "df_iucn[df_iucn.company.isnull()].shape"
   ]
  },
  {
   "cell_type": "code",
   "execution_count": 85,
   "metadata": {},
   "outputs": [
    {
     "data": {
      "text/plain": [
       "1988    1\n",
       "2001    1\n",
       "2002    1\n",
       "2006    1\n",
       "Name: year, dtype: int64"
      ]
     },
     "execution_count": 85,
     "metadata": {},
     "output_type": "execute_result"
    }
   ],
   "source": [
    "df_iucn[df_iucn.company.isnull()].year.value_counts().sort_index()"
   ]
  },
  {
   "cell_type": "code",
   "execution_count": 87,
   "metadata": {},
   "outputs": [],
   "source": [
    "# Make a matrix of how many marine species is patented by each jurisdiction\n",
    "pd.crosstab(df_iucn.organism,df_iucn.patent).to_excel('/home/agnes/Species_per_jurisdiction_IUCN_V3.xlsx', sheet_name='iucn_nous')"
   ]
  },
  {
   "cell_type": "code",
   "execution_count": 88,
   "metadata": {},
   "outputs": [
    {
     "data": {
      "text/plain": [
       "5031"
      ]
     },
     "execution_count": 88,
     "metadata": {},
     "output_type": "execute_result"
    }
   ],
   "source": [
    "len(df_iucn.origin.value_counts()) #5,032 unique marine genetic sequences for IUCN Red List species"
   ]
  },
  {
   "cell_type": "code",
   "execution_count": 89,
   "metadata": {},
   "outputs": [],
   "source": [
    "# Make a matrix of how many marine species is patented by each jurisdiction\n",
    "pd.crosstab(df_iucn.origin,df_iucn.patent).to_excel('/home/agnes/Origin_per_jurisdiction_IUCN_V3.xlsx', sheet_name='iucn_nous')"
   ]
  },
  {
   "cell_type": "code",
   "execution_count": 90,
   "metadata": {},
   "outputs": [],
   "source": [
    "# Make a matrix of how many genetic sequence is associated with each marine species\n",
    "pd.crosstab(df_iucn.origin,df_iucn.organism).to_excel('/home/agnes/Origin_per_species_IUCN_V3.xlsx', sheet_name='iucn_nous')"
   ]
  },
  {
   "cell_type": "code",
   "execution_count": 86,
   "metadata": {},
   "outputs": [],
   "source": [
    "# Exporting the findings to Excel\n",
    "df_iucn.to_excel('/home/agnes/Marine_nous_IUCN_patents_V3.xlsx', sheet_name='iucn_nous')"
   ]
  },
  {
   "cell_type": "code",
   "execution_count": null,
   "metadata": {},
   "outputs": [],
   "source": []
  },
  {
   "cell_type": "code",
   "execution_count": null,
   "metadata": {},
   "outputs": [],
   "source": []
  },
  {
   "cell_type": "code",
   "execution_count": null,
   "metadata": {},
   "outputs": [],
   "source": []
  }
 ],
 "metadata": {
  "kernelspec": {
   "display_name": "Python 3",
   "language": "python",
   "name": "python3"
  },
  "language_info": {
   "codemirror_mode": {
    "name": "ipython",
    "version": 3
   },
   "file_extension": ".py",
   "mimetype": "text/x-python",
   "name": "python",
   "nbconvert_exporter": "python",
   "pygments_lexer": "ipython3",
   "version": "3.6.9"
  },
  "toc": {
   "base_numbering": 1,
   "nav_menu": {},
   "number_sections": true,
   "sideBar": true,
   "skip_h1_title": false,
   "title_cell": "Table of Contents",
   "title_sidebar": "Contents",
   "toc_cell": false,
   "toc_position": {},
   "toc_section_display": true,
   "toc_window_display": false
  }
 },
 "nbformat": 4,
 "nbformat_minor": 4
}
