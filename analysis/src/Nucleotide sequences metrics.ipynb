{
 "cells": [
  {
   "cell_type": "markdown",
   "metadata": {},
   "source": [
    "# Import libs"
   ]
  },
  {
   "cell_type": "code",
   "execution_count": 1,
   "metadata": {},
   "outputs": [],
   "source": [
    "import re, sqlite3, gzip\n",
    "from sqlalchemy import create_engine\n",
    "import pickle\n",
    "\n",
    "import numpy as np\n",
    "\n",
    "from pandas import Series, DataFrame\n",
    "import pandas as pd\n",
    "\n",
    "from pprint import pprint\n",
    "from timeit import default_timer as timer\n",
    "from auxilary_functions import *\n",
    "\n",
    "from Bio.SeqUtils import GC"
   ]
  },
  {
   "cell_type": "markdown",
   "metadata": {},
   "source": [
    "# File paths"
   ]
  },
  {
   "cell_type": "code",
   "execution_count": 2,
   "metadata": {},
   "outputs": [],
   "source": [
    "original_file_path = '/home/erikz/data/agnes_pkl_files/agnes_ori_db.pkl'\n",
    "original_file_path = '/home/erikz/data/agnes_pkl_files/erik_ori_db.pkl'\n",
    "marine_species_list = '../data/processed/genbank_marine_species_phylogeny_completed.csv'\n",
    "genbank_marine_species_db = '/home/erikz/data/patents_db/genbank_marine_species_v4.pkl'"
   ]
  },
  {
   "cell_type": "markdown",
   "metadata": {},
   "source": [
    "# Load data"
   ]
  },
  {
   "cell_type": "code",
   "execution_count": 3,
   "metadata": {},
   "outputs": [],
   "source": [
    "marine_species_taxa = pd.read_csv(marine_species_list, delimiter=',')"
   ]
  },
  {
   "cell_type": "code",
   "execution_count": 4,
   "metadata": {},
   "outputs": [],
   "source": [
    "genbank_patend_db = pd.read_pickle(original_file_path)\n",
    "#genbank_patend_db = genbank_patend_db.head(1000000)"
   ]
  },
  {
   "cell_type": "markdown",
   "metadata": {},
   "source": [
    "### Filter names"
   ]
  },
  {
   "cell_type": "code",
   "execution_count": 5,
   "metadata": {},
   "outputs": [],
   "source": [
    "company_names_final = pd.read_csv('../data/processed/paper1_companies_info.csv')\n",
    "company_names_final_dict = company_names_final[~company_names_final['New name'].isna()]\n",
    "company_names_final_dict = dict(zip(company_names_final_dict['Applicant name'], company_names_final_dict['New name']))\n",
    "#company_names_final_dict = company_names_final_dict.groupby('Applicant name')['New name'].apply(list).to_dict()\n",
    "\n",
    "company_names_final_dict_part2 = company_names_final[company_names_final['New name'].isna()]\n",
    "company_names_final_dict_part2 = dict(zip(company_names_final_dict_part2['Applicant name'], company_names_final_dict_part2['Applicant name']))\n",
    "\n",
    "company_names_final_dict3 = {**company_names_final_dict, **company_names_final_dict_part2}"
   ]
  },
  {
   "cell_type": "code",
   "execution_count": 6,
   "metadata": {},
   "outputs": [
    {
     "data": {
      "text/plain": [
       "MINA THERAPEUTICS LIMITED                             2586334\n",
       "DHARMACON INC                                         1592635\n",
       "DHARMACON, INC. (US)                                  1591293\n",
       "CRISPR THERAPEUTICS AG                                1558079\n",
       "BAYER                                                 1524931\n",
       "RANA THERAPEUTICS INC [US], GEN HOSPITAL CORP [US]    1365489\n",
       "ROSETTA GENOMICS LTD                                  1308574\n",
       "CELERA CORPORATION                                    1298703\n",
       "WYETH (US)                                            1254004\n",
       "AFFYMETRIX, INC.; SANTA CLARA, CA                     1164597\n",
       "Name: company, dtype: int64"
      ]
     },
     "execution_count": 6,
     "metadata": {},
     "output_type": "execute_result"
    }
   ],
   "source": [
    "genbank_patend_db = genbank_patend_db[~genbank_patend_db.company.isnull()]\n",
    "genbank_patend_db = filter_company_names(genbank_patend_db)\n",
    "genbank_patend_db['final_company'] = genbank_patend_db['company'].map(company_names_final_dict3)\n",
    "genbank_patend_db = genbank_patend_db.assign(company=genbank_patend_db['final_company'].where(~genbank_patend_db.final_company.isna(), genbank_patend_db.company))\n",
    "\n",
    "genbank_patend_db.company.value_counts()[0:10]"
   ]
  },
  {
   "cell_type": "code",
   "execution_count": 8,
   "metadata": {},
   "outputs": [
    {
     "data": {
      "text/html": [
       "<div>\n",
       "<style scoped>\n",
       "    .dataframe tbody tr th:only-of-type {\n",
       "        vertical-align: middle;\n",
       "    }\n",
       "\n",
       "    .dataframe tbody tr th {\n",
       "        vertical-align: top;\n",
       "    }\n",
       "\n",
       "    .dataframe thead th {\n",
       "        text-align: right;\n",
       "    }\n",
       "</style>\n",
       "<table border=\"1\" class=\"dataframe\">\n",
       "  <thead>\n",
       "    <tr style=\"text-align: right;\">\n",
       "      <th></th>\n",
       "      <th>id</th>\n",
       "      <th>locus</th>\n",
       "      <th>organism</th>\n",
       "      <th>definition</th>\n",
       "      <th>journal</th>\n",
       "      <th>filename</th>\n",
       "      <th>origin</th>\n",
       "      <th>year</th>\n",
       "      <th>patent</th>\n",
       "      <th>company</th>\n",
       "      <th>patent_num</th>\n",
       "      <th>patent_url</th>\n",
       "      <th>final_company</th>\n",
       "    </tr>\n",
       "  </thead>\n",
       "  <tbody>\n",
       "    <tr>\n",
       "      <th>0</th>\n",
       "      <td>1</td>\n",
       "      <td>LOCUS       A00001                   335 bp   ...</td>\n",
       "      <td>organism  cauliflower mosaic virus</td>\n",
       "      <td>DEFINITION  Cauliflower mosaic virus satellite...</td>\n",
       "      <td>JOURNAL   Patent: EP 0242016-A1 1 21-OCT-1987;...</td>\n",
       "      <td>gbpat1.seq.gz</td>\n",
       "      <td>gttttgtttgatggagaattgcgcagaggggttatatctgcgtgag...</td>\n",
       "      <td>1987</td>\n",
       "      <td>EP0242016A1</td>\n",
       "      <td>AGRICULTURAL GENETICS COMPANY LIMITED</td>\n",
       "      <td>EP0242016A1</td>\n",
       "      <td>https://patents.google.com/patent/EP0242016A1/...</td>\n",
       "      <td>NaN</td>\n",
       "    </tr>\n",
       "    <tr>\n",
       "      <th>1</th>\n",
       "      <td>2</td>\n",
       "      <td>LOCUS       A00002                   194 bp   ...</td>\n",
       "      <td>organism  bos taurus</td>\n",
       "      <td>DEFINITION  B.taurus DNA sequence 1 from paten...</td>\n",
       "      <td>JOURNAL   Patent: EP 0238993-A2 1 30-SEP-1987;...</td>\n",
       "      <td>gbpat1.seq.gz</td>\n",
       "      <td>aattcatgcgtccggacttctgcctcgagccgccgtacactgggcc...</td>\n",
       "      <td>1987</td>\n",
       "      <td>EP0238993A2</td>\n",
       "      <td>BAYER</td>\n",
       "      <td>EP0238993A2</td>\n",
       "      <td>https://patents.google.com/patent/EP0238993A2/...</td>\n",
       "      <td>BAYER</td>\n",
       "    </tr>\n",
       "    <tr>\n",
       "      <th>2</th>\n",
       "      <td>3</td>\n",
       "      <td>LOCUS       A00003                   194 bp   ...</td>\n",
       "      <td>organism  bos taurus</td>\n",
       "      <td>DEFINITION  B.taurus DNA sequence 2 from paten...</td>\n",
       "      <td>JOURNAL   Patent: EP 0238993-A2 2 30-SEP-1987;...</td>\n",
       "      <td>gbpat1.seq.gz</td>\n",
       "      <td>caagctttactaaggaccaccgcaagtacgttcgcagtcttccgcg...</td>\n",
       "      <td>1987</td>\n",
       "      <td>EP0238993A2</td>\n",
       "      <td>BAYER</td>\n",
       "      <td>EP0238993A2</td>\n",
       "      <td>https://patents.google.com/patent/EP0238993A2/...</td>\n",
       "      <td>BAYER</td>\n",
       "    </tr>\n",
       "    <tr>\n",
       "      <th>3</th>\n",
       "      <td>4</td>\n",
       "      <td>LOCUS       A00004                    30 bp   ...</td>\n",
       "      <td>organism  synthetic construct</td>\n",
       "      <td>DEFINITION  Artificial oligonucleotide sequenc...</td>\n",
       "      <td>JOURNAL   Patent: EP 0238993-A2 3 30-SEP-1987;...</td>\n",
       "      <td>gbpat1.seq.gz</td>\n",
       "      <td>aattcatgcgtccggacttctgcctcgagc</td>\n",
       "      <td>1987</td>\n",
       "      <td>EP0238993A2</td>\n",
       "      <td>BAYER</td>\n",
       "      <td>EP0238993A2</td>\n",
       "      <td>https://patents.google.com/patent/EP0238993A2/...</td>\n",
       "      <td>BAYER</td>\n",
       "    </tr>\n",
       "    <tr>\n",
       "      <th>4</th>\n",
       "      <td>5</td>\n",
       "      <td>LOCUS       A00005                    18 bp   ...</td>\n",
       "      <td>organism  synthetic construct</td>\n",
       "      <td>DEFINITION  Artificial oligonucleotide sequenc...</td>\n",
       "      <td>JOURNAL   Patent: EP 0238993-A2 4 30-SEP-1987;...</td>\n",
       "      <td>gbpat1.seq.gz</td>\n",
       "      <td>cagaagtccggacgcatg</td>\n",
       "      <td>1987</td>\n",
       "      <td>EP0238993A2</td>\n",
       "      <td>BAYER</td>\n",
       "      <td>EP0238993A2</td>\n",
       "      <td>https://patents.google.com/patent/EP0238993A2/...</td>\n",
       "      <td>BAYER</td>\n",
       "    </tr>\n",
       "  </tbody>\n",
       "</table>\n",
       "</div>"
      ],
      "text/plain": [
       "   id                                              locus  \\\n",
       "0   1  LOCUS       A00001                   335 bp   ...   \n",
       "1   2  LOCUS       A00002                   194 bp   ...   \n",
       "2   3  LOCUS       A00003                   194 bp   ...   \n",
       "3   4  LOCUS       A00004                    30 bp   ...   \n",
       "4   5  LOCUS       A00005                    18 bp   ...   \n",
       "\n",
       "                             organism  \\\n",
       "0  organism  cauliflower mosaic virus   \n",
       "1                organism  bos taurus   \n",
       "2                organism  bos taurus   \n",
       "3       organism  synthetic construct   \n",
       "4       organism  synthetic construct   \n",
       "\n",
       "                                          definition  \\\n",
       "0  DEFINITION  Cauliflower mosaic virus satellite...   \n",
       "1  DEFINITION  B.taurus DNA sequence 1 from paten...   \n",
       "2  DEFINITION  B.taurus DNA sequence 2 from paten...   \n",
       "3  DEFINITION  Artificial oligonucleotide sequenc...   \n",
       "4  DEFINITION  Artificial oligonucleotide sequenc...   \n",
       "\n",
       "                                             journal       filename  \\\n",
       "0  JOURNAL   Patent: EP 0242016-A1 1 21-OCT-1987;...  gbpat1.seq.gz   \n",
       "1  JOURNAL   Patent: EP 0238993-A2 1 30-SEP-1987;...  gbpat1.seq.gz   \n",
       "2  JOURNAL   Patent: EP 0238993-A2 2 30-SEP-1987;...  gbpat1.seq.gz   \n",
       "3  JOURNAL   Patent: EP 0238993-A2 3 30-SEP-1987;...  gbpat1.seq.gz   \n",
       "4  JOURNAL   Patent: EP 0238993-A2 4 30-SEP-1987;...  gbpat1.seq.gz   \n",
       "\n",
       "                                              origin  year       patent  \\\n",
       "0  gttttgtttgatggagaattgcgcagaggggttatatctgcgtgag...  1987  EP0242016A1   \n",
       "1  aattcatgcgtccggacttctgcctcgagccgccgtacactgggcc...  1987  EP0238993A2   \n",
       "2  caagctttactaaggaccaccgcaagtacgttcgcagtcttccgcg...  1987  EP0238993A2   \n",
       "3                     aattcatgcgtccggacttctgcctcgagc  1987  EP0238993A2   \n",
       "4                                 cagaagtccggacgcatg  1987  EP0238993A2   \n",
       "\n",
       "                                 company   patent_num  \\\n",
       "0  AGRICULTURAL GENETICS COMPANY LIMITED  EP0242016A1   \n",
       "1                                  BAYER  EP0238993A2   \n",
       "2                                  BAYER  EP0238993A2   \n",
       "3                                  BAYER  EP0238993A2   \n",
       "4                                  BAYER  EP0238993A2   \n",
       "\n",
       "                                          patent_url final_company  \n",
       "0  https://patents.google.com/patent/EP0242016A1/...           NaN  \n",
       "1  https://patents.google.com/patent/EP0238993A2/...         BAYER  \n",
       "2  https://patents.google.com/patent/EP0238993A2/...         BAYER  \n",
       "3  https://patents.google.com/patent/EP0238993A2/...         BAYER  \n",
       "4  https://patents.google.com/patent/EP0238993A2/...         BAYER  "
      ]
     },
     "execution_count": 8,
     "metadata": {},
     "output_type": "execute_result"
    }
   ],
   "source": [
    "genbank_patend_db.head(5)"
   ]
  },
  {
   "cell_type": "code",
   "execution_count": 9,
   "metadata": {},
   "outputs": [
    {
     "name": "stdout",
     "output_type": "stream",
     "text": [
      "1\n"
     ]
    }
   ],
   "source": [
    "print(1)"
   ]
  },
  {
   "cell_type": "markdown",
   "metadata": {},
   "source": [
    "### Add atributes"
   ]
  },
  {
   "cell_type": "code",
   "execution_count": 10,
   "metadata": {},
   "outputs": [],
   "source": [
    "def get_patent(jstr):\n",
    "    import re\n",
    "    \n",
    "    pats = re.findall('Patent: \\w{1,20}', jstr)\n",
    "    if not pats or len(pats) > 1:\n",
    "        print(pats)\n",
    "        return None\n",
    "    else:\n",
    "        return pats[0]"
   ]
  },
  {
   "cell_type": "code",
   "execution_count": 11,
   "metadata": {},
   "outputs": [],
   "source": [
    "def get_patent_num(jstr):\n",
    "    import re\n",
    "    \n",
    "    pats = re.findall('(: .+?(?=(\\s\\d*-\\w\\d*)))', jstr)\n",
    "    if not pats:\n",
    "        print(pats)\n",
    "        return None\n",
    "    else:\n",
    "        pats = pats[0]\n",
    "        joiner = \"\".join\n",
    "        return \"\".join(list(filter(None, [joiner(words) for words in pats])))[2::].replace(\" \", \"\").replace(\"-\", \"\")"
   ]
  },
  {
   "cell_type": "code",
   "execution_count": 12,
   "metadata": {},
   "outputs": [],
   "source": [
    "genbank_patend_db['patent'] = genbank_patend_db.journal.apply(lambda x: get_patent(x))"
   ]
  },
  {
   "cell_type": "code",
   "execution_count": 13,
   "metadata": {},
   "outputs": [],
   "source": [
    "genbank_patend_db['patent_num'] = genbank_patend_db.journal.apply(lambda x: get_patent_num(x))\n",
    "genbank_patend_db['gc_content'] = genbank_patend_db.origin.apply(lambda x: GC(x))\n",
    "genbank_patend_db['seq_length'] = genbank_patend_db.origin.apply(lambda x: len(x))"
   ]
  },
  {
   "cell_type": "code",
   "execution_count": 14,
   "metadata": {},
   "outputs": [],
   "source": [
    "genbank_patend_db['organism'] = genbank_patend_db.organism.apply(lambda x: x[9:].strip())"
   ]
  },
  {
   "cell_type": "code",
   "execution_count": 15,
   "metadata": {},
   "outputs": [
    {
     "data": {
      "text/plain": [
       "unknown.                     0.308435\n",
       "homo sapiens                 0.294335\n",
       "synthetic construct          0.289257\n",
       "unidentified                 0.026008\n",
       "saccharomyces pastorianus    0.017983\n",
       "mus musculus                 0.013821\n",
       "zea mays                     0.006281\n",
       "oryza sativa                 0.002686\n",
       "glycine max                  0.002201\n",
       "saccharomyces cerevisiae     0.001750\n",
       "artificial sequences         0.001712\n",
       "arabidopsis thaliana         0.001539\n",
       "rattus norvegicus            0.001431\n",
       "bos taurus                   0.001092\n",
       "aspergillus oryzae           0.001026\n",
       "Name: organism, dtype: float64"
      ]
     },
     "execution_count": 15,
     "metadata": {},
     "output_type": "execute_result"
    }
   ],
   "source": [
    "genbank_patend_db.organism.value_counts()[0:15]/genbank_patend_db.organism.value_counts().sum()"
   ]
  },
  {
   "cell_type": "code",
   "execution_count": 17,
   "metadata": {},
   "outputs": [
    {
     "data": {
      "text/plain": [
       "3                              aattcatgcgtccggacttctgcctcgagc\n",
       "4                                          cagaagtccggacgcatg\n",
       "5                                  cgccgtacactgggccctgcaaagct\n",
       "6                                          cgtatcatccgttacttc\n",
       "7                                        atgatacgagctttgcaggg\n",
       "                                  ...                        \n",
       "55331131    gaagtgcagctggtgcagtctggagctgaggtgaagaagcctgggg...\n",
       "55331132    gacacccagatgacccagtctccatccttcctgtctgcatctgtag...\n",
       "55331133    gaggtgcagctggtggagtccgggggagtcgtggtacagcctgggg...\n",
       "55331134    ccgacatccagatgacccagtctccatcctccctgtctgcatctgt...\n",
       "55331149    atggaaaagaaccccctggctgcacccctgctgatcctgtggttcc...\n",
       "Name: origin, Length: 16899344, dtype: object"
      ]
     },
     "execution_count": 17,
     "metadata": {},
     "output_type": "execute_result"
    }
   ],
   "source": [
    "genbank_patend_db[genbank_patend_db[\"organism\"].isin([\"unknown.\",\"unidentified\", \"synthetic construct\", \"artificial sequences\"])].origin.drop_duplicates()"
   ]
  },
  {
   "cell_type": "code",
   "execution_count": 18,
   "metadata": {},
   "outputs": [],
   "source": [
    "genbank_patend_db_marine = genbank_patend_db[genbank_patend_db['organism'].isin(marine_species_taxa.Species)]"
   ]
  },
  {
   "cell_type": "code",
   "execution_count": 19,
   "metadata": {},
   "outputs": [
    {
     "name": "stderr",
     "output_type": "stream",
     "text": [
      "/tmp/user/1024/ipykernel_160967/2516812376.py:1: SettingWithCopyWarning: \n",
      "A value is trying to be set on a copy of a slice from a DataFrame.\n",
      "Try using .loc[row_indexer,col_indexer] = value instead\n",
      "\n",
      "See the caveats in the documentation: https://pandas.pydata.org/pandas-docs/stable/user_guide/indexing.html#returning-a-view-versus-a-copy\n",
      "  genbank_patend_db_marine['valid_sequence'] = 1\n"
     ]
    }
   ],
   "source": [
    "genbank_patend_db_marine['valid_sequence'] = 1\n",
    "genbank_patend_db['valid_sequence'] = 1"
   ]
  },
  {
   "cell_type": "code",
   "execution_count": 20,
   "metadata": {},
   "outputs": [],
   "source": [
    "with open('/home/erikz/data/agnes_pkl_files/erik_ori_db_filtered.pkl', 'wb') as f:\n",
    "    pickle.dump(genbank_patend_db, f)"
   ]
  },
  {
   "cell_type": "markdown",
   "metadata": {},
   "source": [
    "# Clean data"
   ]
  },
  {
   "cell_type": "code",
   "execution_count": 22,
   "metadata": {},
   "outputs": [],
   "source": [
    "genbank_patend_db_marine = genbank_patend_db_marine.merge(marine_species_taxa, left_on='organism', right_on='Species', how='inner')"
   ]
  },
  {
   "cell_type": "code",
   "execution_count": 24,
   "metadata": {},
   "outputs": [
    {
     "data": {
      "text/plain": [
       "BASF                         22789\n",
       "JST                           5217\n",
       "GENOME ATLANTIC [CA]          3099\n",
       "FISHERIES RESEARCH AGENCY     1185\n",
       "KYOWA HAKKO                   1087\n",
       "DSM IP ASSETS BV               946\n",
       "YEDA                           841\n",
       "IFF                            835\n",
       "UNIVERSITY OF UTAH             652\n",
       "EW GROUP GMBH                  621\n",
       "Name: company, dtype: int64"
      ]
     },
     "execution_count": 24,
     "metadata": {},
     "output_type": "execute_result"
    }
   ],
   "source": [
    "genbank_patend_db_marine.company.value_counts()[0:10]"
   ]
  },
  {
   "cell_type": "code",
   "execution_count": 25,
   "metadata": {},
   "outputs": [
    {
     "data": {
      "text/plain": [
       "BASF                                                 22789\n",
       "JST                                                   5217\n",
       "GENOME ATLANTIC [CA]                                  3099\n",
       "FISHERIES RESEARCH AGENCY                             1185\n",
       "KYOWA HAKKO                                           1087\n",
       "                                                     ...  \n",
       "EVAXION BIOTECH APS [DK]                                40\n",
       "MARINE BIOTECHNOLOGY INST                               40\n",
       "JAU-NAN LEE,TONY TUNG-YIN LEE,YUTA LEE                  40\n",
       "CARIBOU BIOSCIENCES, INC                                39\n",
       "KOREA UNIVERSITY RESEARCH AND BUSINESS FOUNDATION       37\n",
       "Name: company, Length: 100, dtype: int64"
      ]
     },
     "execution_count": 25,
     "metadata": {},
     "output_type": "execute_result"
    }
   ],
   "source": [
    "genbank_patend_db_marine.company.value_counts()[0:100]"
   ]
  },
  {
   "cell_type": "code",
   "execution_count": 26,
   "metadata": {},
   "outputs": [],
   "source": [
    "with open(genbank_marine_species_db, 'wb') as f:\n",
    "    pickle.dump(genbank_patend_db_marine, f)"
   ]
  },
  {
   "cell_type": "markdown",
   "metadata": {},
   "source": [
    "## More numbers"
   ]
  },
  {
   "cell_type": "markdown",
   "metadata": {},
   "source": [
    "### Total number of species"
   ]
  },
  {
   "cell_type": "code",
   "execution_count": 27,
   "metadata": {},
   "outputs": [
    {
     "data": {
      "text/plain": [
       "0             cauliflower mosaic virus\n",
       "1                           bos taurus\n",
       "3                  synthetic construct\n",
       "25                   bacillus subtilis\n",
       "30             penicillium chrysogenum\n",
       "                       ...            \n",
       "54356234    bartonella schoenbuchensis\n",
       "54356235           bartonella taylorii\n",
       "54356243                   francisella\n",
       "54356256      rickettsia aeschlimannii\n",
       "54356260          rickettsia australis\n",
       "Name: organism, Length: 14636, dtype: object"
      ]
     },
     "execution_count": 27,
     "metadata": {},
     "output_type": "execute_result"
    }
   ],
   "source": [
    "genbank_patend_db.organism.drop_duplicates()"
   ]
  },
  {
   "cell_type": "markdown",
   "metadata": {},
   "source": [
    "### Total number of sequences"
   ]
  },
  {
   "cell_type": "code",
   "execution_count": 28,
   "metadata": {},
   "outputs": [
    {
     "data": {
      "text/plain": [
       "0           gttttgtttgatggagaattgcgcagaggggttatatctgcgtgag...\n",
       "1           aattcatgcgtccggacttctgcctcgagccgccgtacactgggcc...\n",
       "2           caagctttactaaggaccaccgcaagtacgttcgcagtcttccgcg...\n",
       "3                              aattcatgcgtccggacttctgcctcgagc\n",
       "4                                          cagaagtccggacgcatg\n",
       "                                  ...                        \n",
       "55331130    gacatccagatgacccagtctccatccaccctgtctgcatctgtag...\n",
       "55331131    gaagtgcagctggtgcagtctggagctgaggtgaagaagcctgggg...\n",
       "55331132    gacacccagatgacccagtctccatccttcctgtctgcatctgtag...\n",
       "55331133    gaggtgcagctggtggagtccgggggagtcgtggtacagcctgggg...\n",
       "55331134    ccgacatccagatgacccagtctccatcctccctgtctgcatctgt...\n",
       "Name: origin, Length: 24320214, dtype: object"
      ]
     },
     "execution_count": 28,
     "metadata": {},
     "output_type": "execute_result"
    }
   ],
   "source": [
    "genbank_patend_db.origin.drop_duplicates()"
   ]
  },
  {
   "cell_type": "code",
   "execution_count": 29,
   "metadata": {},
   "outputs": [
    {
     "data": {
      "text/plain": [
       "0           gttttgtttgatggagaattgcgcagaggggttatatctgcgtgag...\n",
       "1           aattcatgcgtccggacttctgcctcgagccgccgtacactgggcc...\n",
       "2           caagctttactaaggaccaccgcaagtacgttcgcagtcttccgcg...\n",
       "3                              aattcatgcgtccggacttctgcctcgagc\n",
       "4                                          cagaagtccggacgcatg\n",
       "                                  ...                        \n",
       "55331130    gacatccagatgacccagtctccatccaccctgtctgcatctgtag...\n",
       "55331131    gaagtgcagctggtgcagtctggagctgaggtgaagaagcctgggg...\n",
       "55331132    gacacccagatgacccagtctccatccttcctgtctgcatctgtag...\n",
       "55331133    gaggtgcagctggtggagtccgggggagtcgtggtacagcctgggg...\n",
       "55331134    ccgacatccagatgacccagtctccatcctccctgtctgcatctgt...\n",
       "Name: origin, Length: 24301181, dtype: object"
      ]
     },
     "execution_count": 29,
     "metadata": {},
     "output_type": "execute_result"
    }
   ],
   "source": [
    "genbank_patend_db[genbank_patend_db.year != '2022'].origin.drop_duplicates()"
   ]
  },
  {
   "cell_type": "code",
   "execution_count": 30,
   "metadata": {},
   "outputs": [
    {
     "data": {
      "text/plain": [
       "0           1987\n",
       "31          1990\n",
       "85          1984\n",
       "116         1988\n",
       "128         1986\n",
       "156         1982\n",
       "159         1989\n",
       "266         1983\n",
       "467         1985\n",
       "506         1991\n",
       "509         1992\n",
       "3877        1981\n",
       "4056        1980\n",
       "8593        1993\n",
       "19318       1994\n",
       "20303       1995\n",
       "22215       1996\n",
       "30627       1997\n",
       "36823       1998\n",
       "43515       1999\n",
       "255833      2002\n",
       "303843      2001\n",
       "313617      2003\n",
       "724208      2014\n",
       "1067005     2013\n",
       "1103093     2015\n",
       "2275851     2016\n",
       "2756775     2006\n",
       "2786278     2011\n",
       "2795045     2007\n",
       "2795556     2004\n",
       "2795560     2005\n",
       "2796299     2008\n",
       "2796385     2009\n",
       "2948703     2000\n",
       "3061101     2010\n",
       "3547617     2012\n",
       "11295674    2017\n",
       "14196215    2018\n",
       "14883339    2019\n",
       "17400098    2020\n",
       "27394001    2021\n",
       "34509186    2022\n",
       "34936894    1979\n",
       "Name: year, dtype: object"
      ]
     },
     "execution_count": 30,
     "metadata": {},
     "output_type": "execute_result"
    }
   ],
   "source": [
    "genbank_patend_db.year.drop_duplicates()"
   ]
  },
  {
   "cell_type": "markdown",
   "metadata": {},
   "source": [
    "### All marine patents with non-marine sequences"
   ]
  },
  {
   "cell_type": "code",
   "execution_count": 31,
   "metadata": {},
   "outputs": [],
   "source": [
    "genbank_patend_db_all_marine_patents = genbank_patend_db[genbank_patend_db.patent_num.isin(genbank_patend_db_marine.patent_num)]"
   ]
  },
  {
   "cell_type": "code",
   "execution_count": 32,
   "metadata": {},
   "outputs": [],
   "source": [
    "genbank_patend_db_all_marine_patents = genbank_patend_db_all_marine_patents[~genbank_patend_db_all_marine_patents.organism.isin([\"unknown.\",\"unidentified\", \"synthetic construct\", \"artificial sequences\"])]"
   ]
  },
  {
   "cell_type": "code",
   "execution_count": 33,
   "metadata": {},
   "outputs": [],
   "source": [
    "genbank_patend_db_all_marine_patents = genbank_patend_db_all_marine_patents[~genbank_patend_db_all_marine_patents.organism.isin(genbank_patend_db_marine.organism)]"
   ]
  },
  {
   "cell_type": "code",
   "execution_count": 34,
   "metadata": {},
   "outputs": [],
   "source": [
    "with open('/home/erikz/data/agnes_pkl_files/non_marine_but_marine_patents_no_unknowns_updated.pkl', 'wb') as f:\n",
    "    pickle.dump(genbank_patend_db_all_marine_patents, f)"
   ]
  },
  {
   "cell_type": "code",
   "execution_count": null,
   "metadata": {},
   "outputs": [],
   "source": []
  },
  {
   "cell_type": "code",
   "execution_count": null,
   "metadata": {},
   "outputs": [],
   "source": []
  },
  {
   "cell_type": "code",
   "execution_count": null,
   "metadata": {},
   "outputs": [],
   "source": []
  }
 ],
 "metadata": {
  "kernelspec": {
   "display_name": "mgr",
   "language": "python",
   "name": "mgr"
  },
  "language_info": {
   "codemirror_mode": {
    "name": "ipython",
    "version": 3
   },
   "file_extension": ".py",
   "mimetype": "text/x-python",
   "name": "python",
   "nbconvert_exporter": "python",
   "pygments_lexer": "ipython3",
   "version": "3.8.13"
  }
 },
 "nbformat": 4,
 "nbformat_minor": 5
}
